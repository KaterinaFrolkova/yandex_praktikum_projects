{
 "cells": [
  {
   "cell_type": "markdown",
   "metadata": {
    "toc": true
   },
   "source": [
    "<h1>Table of Contents<span class=\"tocSkip\"></span></h1>\n",
    "<div class=\"toc\"><ul class=\"toc-item\"><li><span><a href=\"#A/B-тест-для-увеличения-выручки\" data-toc-modified-id=\"A/B-тест-для-увеличения-выручки-1\">A/B-тест для увеличения выручки</a></span><ul class=\"toc-item\"><li><span><a href=\"#Общая-информация.\" data-toc-modified-id=\"Общая-информация.-1.1\">Общая информация.</a></span></li><li><span><a href=\"#Предобработка-данных\" data-toc-modified-id=\"Предобработка-данных-1.2\">Предобработка данных</a></span></li><li><span><a href=\"#Приоритизация-гипотез\" data-toc-modified-id=\"Приоритизация-гипотез-1.3\">Приоритизация гипотез</a></span></li><li><span><a href=\"#Анализ-A/B-теста\" data-toc-modified-id=\"Анализ-A/B-теста-1.4\">Анализ A/B-теста</a></span><ul class=\"toc-item\"><li><span><a href=\"#Анализ-метрик\" data-toc-modified-id=\"Анализ-метрик-1.4.1\">Анализ метрик</a></span></li><li><span><a href=\"#Анализ-выбросов\" data-toc-modified-id=\"Анализ-выбросов-1.4.2\">Анализ выбросов</a></span></li><li><span><a href=\"#Анализ-A/B-теста\" data-toc-modified-id=\"Анализ-A/B-теста-1.4.3\">Анализ A/B-теста</a></span><ul class=\"toc-item\"><li><span><a href=\"#Оценка-статистической-значимости-различий-в-среднем-количестве-заказов-на-посетителя-между-группами-по-«сырым»-данным\" data-toc-modified-id=\"Оценка-статистической-значимости-различий-в-среднем-количестве-заказов-на-посетителя-между-группами-по-«сырым»-данным-1.4.3.1\">Оценка статистической значимости различий в среднем количестве заказов на посетителя между группами по «сырым» данным</a></span></li><li><span><a href=\"#Оценка-статистической-значимости-различий-в-среднем-количестве-заказов-на-посетителя-между-группами-по-«очищенным»-данным\" data-toc-modified-id=\"Оценка-статистической-значимости-различий-в-среднем-количестве-заказов-на-посетителя-между-группами-по-«очищенным»-данным-1.4.3.2\">Оценка статистической значимости различий в среднем количестве заказов на посетителя между группами по «очищенным» данным</a></span></li><li><span><a href=\"#Оценка-статистической-значимости-различий-в-среднем-чеке-заказа-между-группами-по-«сырым»-данным\" data-toc-modified-id=\"Оценка-статистической-значимости-различий-в-среднем-чеке-заказа-между-группами-по-«сырым»-данным-1.4.3.3\">Оценка статистической значимости различий в среднем чеке заказа между группами по «сырым» данным</a></span></li><li><span><a href=\"#Оценка-статистической-значимости-различий-в-среднем-чеке-заказа-между-группами-по-«очищенным»-данным\" data-toc-modified-id=\"Оценка-статистической-значимости-различий-в-среднем-чеке-заказа-между-группами-по-«очищенным»-данным-1.4.3.4\">Оценка статистической значимости различий в среднем чеке заказа между группами по «очищенным» данным</a></span></li></ul></li><li><span><a href=\"#Анализ-кумулятивной-выручки-без-учета-аномальных-значений\" data-toc-modified-id=\"Анализ-кумулятивной-выручки-без-учета-аномальных-значений-1.4.4\">Анализ кумулятивной выручки без учета аномальных значений</a></span></li></ul></li><li><span><a href=\"#Вывод\" data-toc-modified-id=\"Вывод-1.5\">Вывод</a></span></li></ul></li></ul></div>"
   ]
  },
  {
   "cell_type": "markdown",
   "metadata": {},
   "source": [
    "# A/B-тест для увеличения выручки"
   ]
  },
  {
   "cell_type": "markdown",
   "metadata": {},
   "source": [
    "**Цель исследования** - выбор подходящего способа для увеличения выручки интернет-магазина\n",
    "\n",
    "**Оцениваемы параметры**:  \n",
    "\n",
    "* кумулятивная выручка\n",
    "* средний чек\n",
    "* среднее количество заказов на посетителя\n",
    "\n",
    "**План исследования**:  \n",
    "\n",
    "* выбор гипотезы для тестирования\n",
    "* проведение A/B-теста\n",
    "* анализ результатов\n",
    "  * визуализация кумулятивных метрик\n",
    "  * анализ выбросов\n",
    "  * оценка статистической значимости различий в среднем количестве заказов на посетителя между группами по «сырым» данным\n",
    "  * оценка статистической значимости различий в среднем количестве заказов на посетителя между группами по «очищенным» данным  \n",
    "  * оценка статистической значимости различий в среднем чеке заказа между группами по «сырым» данным \n",
    "  * оценка статистической значимости различий в среднем чеке заказа между группами по «очищенным» данным"
   ]
  },
  {
   "cell_type": "markdown",
   "metadata": {},
   "source": [
    "## Общая информация."
   ]
  },
  {
   "cell_type": "code",
   "execution_count": 51,
   "metadata": {},
   "outputs": [],
   "source": [
    "import pandas as pd\n",
    "import numpy as np\n",
    "import matplotlib.pyplot as plt\n",
    "from pandas.plotting import register_matplotlib_converters\n",
    "import scipy.stats as stats\n",
    "from scipy import stats as st\n",
    "import warnings\n",
    "# конвертеры, которые позволяют использовать типы pandas в matplotlib  \n",
    "register_matplotlib_converters()\n",
    "pd.set_option('max_colwidth', 120)"
   ]
  },
  {
   "cell_type": "code",
   "execution_count": 52,
   "metadata": {},
   "outputs": [],
   "source": [
    "#загрузим данные\n",
    "try:\n",
    "    hypothesis = pd.read_csv('/datasets/hypothesis.csv')\n",
    "except:\n",
    "    hypothesis = pd.read_csv('https://code.s3.yandex.net/datasets/hypothesis.csv')\n",
    "    \n",
    "try:\n",
    "    orders = pd.read_csv('/datasets/orders.csv')\n",
    "except:\n",
    "    orders = pd.read_csv('https://code.s3.yandex.net/datasets/orders.csv')\n",
    "    \n",
    "try:\n",
    "    visitors = pd.read_csv('/datasets/visitors.csv')\n",
    "except:\n",
    "    visitors = pd.read_csv('https://code.s3.yandex.net/datasets/visitors.csv')    \n",
    "    "
   ]
  },
  {
   "cell_type": "code",
   "execution_count": 53,
   "metadata": {
    "scrolled": true
   },
   "outputs": [
    {
     "data": {
      "text/html": [
       "<div>\n",
       "<style scoped>\n",
       "    .dataframe tbody tr th:only-of-type {\n",
       "        vertical-align: middle;\n",
       "    }\n",
       "\n",
       "    .dataframe tbody tr th {\n",
       "        vertical-align: top;\n",
       "    }\n",
       "\n",
       "    .dataframe thead th {\n",
       "        text-align: right;\n",
       "    }\n",
       "</style>\n",
       "<table border=\"1\" class=\"dataframe\">\n",
       "  <thead>\n",
       "    <tr style=\"text-align: right;\">\n",
       "      <th></th>\n",
       "      <th>Hypothesis</th>\n",
       "      <th>Reach</th>\n",
       "      <th>Impact</th>\n",
       "      <th>Confidence</th>\n",
       "      <th>Efforts</th>\n",
       "    </tr>\n",
       "  </thead>\n",
       "  <tbody>\n",
       "    <tr>\n",
       "      <th>0</th>\n",
       "      <td>Добавить два новых канала привлечения трафика, что позволит привлекать на 30% больше пользователей</td>\n",
       "      <td>3</td>\n",
       "      <td>10</td>\n",
       "      <td>8</td>\n",
       "      <td>6</td>\n",
       "    </tr>\n",
       "    <tr>\n",
       "      <th>1</th>\n",
       "      <td>Запустить собственную службу доставки, что сократит срок доставки заказов</td>\n",
       "      <td>2</td>\n",
       "      <td>5</td>\n",
       "      <td>4</td>\n",
       "      <td>10</td>\n",
       "    </tr>\n",
       "    <tr>\n",
       "      <th>2</th>\n",
       "      <td>Добавить блоки рекомендаций товаров на сайт интернет магазина, чтобы повысить конверсию и средний чек заказа</td>\n",
       "      <td>8</td>\n",
       "      <td>3</td>\n",
       "      <td>7</td>\n",
       "      <td>3</td>\n",
       "    </tr>\n",
       "    <tr>\n",
       "      <th>3</th>\n",
       "      <td>Изменить структура категорий, что увеличит конверсию, т.к. пользователи быстрее найдут нужный товар</td>\n",
       "      <td>8</td>\n",
       "      <td>3</td>\n",
       "      <td>3</td>\n",
       "      <td>8</td>\n",
       "    </tr>\n",
       "    <tr>\n",
       "      <th>4</th>\n",
       "      <td>Изменить цвет фона главной страницы, чтобы увеличить вовлеченность пользователей</td>\n",
       "      <td>3</td>\n",
       "      <td>1</td>\n",
       "      <td>1</td>\n",
       "      <td>1</td>\n",
       "    </tr>\n",
       "  </tbody>\n",
       "</table>\n",
       "</div>"
      ],
      "text/plain": [
       "                                                                                                     Hypothesis  \\\n",
       "0            Добавить два новых канала привлечения трафика, что позволит привлекать на 30% больше пользователей   \n",
       "1                                     Запустить собственную службу доставки, что сократит срок доставки заказов   \n",
       "2  Добавить блоки рекомендаций товаров на сайт интернет магазина, чтобы повысить конверсию и средний чек заказа   \n",
       "3           Изменить структура категорий, что увеличит конверсию, т.к. пользователи быстрее найдут нужный товар   \n",
       "4                              Изменить цвет фона главной страницы, чтобы увеличить вовлеченность пользователей   \n",
       "\n",
       "   Reach  Impact  Confidence  Efforts  \n",
       "0      3      10           8        6  \n",
       "1      2       5           4       10  \n",
       "2      8       3           7        3  \n",
       "3      8       3           3        8  \n",
       "4      3       1           1        1  "
      ]
     },
     "execution_count": 53,
     "metadata": {},
     "output_type": "execute_result"
    }
   ],
   "source": [
    "hypothesis.head()"
   ]
  },
  {
   "cell_type": "code",
   "execution_count": 54,
   "metadata": {},
   "outputs": [
    {
     "name": "stdout",
     "output_type": "stream",
     "text": [
      "<class 'pandas.core.frame.DataFrame'>\n",
      "RangeIndex: 9 entries, 0 to 8\n",
      "Data columns (total 5 columns):\n",
      " #   Column      Non-Null Count  Dtype \n",
      "---  ------      --------------  ----- \n",
      " 0   Hypothesis  9 non-null      object\n",
      " 1   Reach       9 non-null      int64 \n",
      " 2   Impact      9 non-null      int64 \n",
      " 3   Confidence  9 non-null      int64 \n",
      " 4   Efforts     9 non-null      int64 \n",
      "dtypes: int64(4), object(1)\n",
      "memory usage: 488.0+ bytes\n"
     ]
    }
   ],
   "source": [
    "hypothesis.info()"
   ]
  },
  {
   "cell_type": "markdown",
   "metadata": {},
   "source": [
    "В таблице `hypothesis` пять столбцов.  \n",
    "Форматы данных корректны\n",
    "\n",
    "Согласно документации к данным:  \n",
    "\n",
    "* `Hypothesis` — краткое описание гипотезы\n",
    "* `Reach` — охват пользователей по 10-балльной шкале\n",
    "* `Impact` — влияние на пользователей по 10-балльной шкале\n",
    "* `Confidence` — уверенность в гипотезе по 10-балльной шкале\n",
    "* `Efforts` — затраты ресурсов на проверку гипотезы по 10-балльной шкале. Чем больше значение, тем дороже проверка гипотезы\n"
   ]
  },
  {
   "cell_type": "code",
   "execution_count": 55,
   "metadata": {
    "scrolled": true
   },
   "outputs": [
    {
     "data": {
      "text/html": [
       "<div>\n",
       "<style scoped>\n",
       "    .dataframe tbody tr th:only-of-type {\n",
       "        vertical-align: middle;\n",
       "    }\n",
       "\n",
       "    .dataframe tbody tr th {\n",
       "        vertical-align: top;\n",
       "    }\n",
       "\n",
       "    .dataframe thead th {\n",
       "        text-align: right;\n",
       "    }\n",
       "</style>\n",
       "<table border=\"1\" class=\"dataframe\">\n",
       "  <thead>\n",
       "    <tr style=\"text-align: right;\">\n",
       "      <th></th>\n",
       "      <th>transactionId</th>\n",
       "      <th>visitorId</th>\n",
       "      <th>date</th>\n",
       "      <th>revenue</th>\n",
       "      <th>group</th>\n",
       "    </tr>\n",
       "  </thead>\n",
       "  <tbody>\n",
       "    <tr>\n",
       "      <th>0</th>\n",
       "      <td>3667963787</td>\n",
       "      <td>3312258926</td>\n",
       "      <td>2019-08-15</td>\n",
       "      <td>1650</td>\n",
       "      <td>B</td>\n",
       "    </tr>\n",
       "    <tr>\n",
       "      <th>1</th>\n",
       "      <td>2804400009</td>\n",
       "      <td>3642806036</td>\n",
       "      <td>2019-08-15</td>\n",
       "      <td>730</td>\n",
       "      <td>B</td>\n",
       "    </tr>\n",
       "    <tr>\n",
       "      <th>2</th>\n",
       "      <td>2961555356</td>\n",
       "      <td>4069496402</td>\n",
       "      <td>2019-08-15</td>\n",
       "      <td>400</td>\n",
       "      <td>A</td>\n",
       "    </tr>\n",
       "    <tr>\n",
       "      <th>3</th>\n",
       "      <td>3797467345</td>\n",
       "      <td>1196621759</td>\n",
       "      <td>2019-08-15</td>\n",
       "      <td>9759</td>\n",
       "      <td>B</td>\n",
       "    </tr>\n",
       "    <tr>\n",
       "      <th>4</th>\n",
       "      <td>2282983706</td>\n",
       "      <td>2322279887</td>\n",
       "      <td>2019-08-15</td>\n",
       "      <td>2308</td>\n",
       "      <td>B</td>\n",
       "    </tr>\n",
       "  </tbody>\n",
       "</table>\n",
       "</div>"
      ],
      "text/plain": [
       "   transactionId   visitorId        date  revenue group\n",
       "0     3667963787  3312258926  2019-08-15     1650     B\n",
       "1     2804400009  3642806036  2019-08-15      730     B\n",
       "2     2961555356  4069496402  2019-08-15      400     A\n",
       "3     3797467345  1196621759  2019-08-15     9759     B\n",
       "4     2282983706  2322279887  2019-08-15     2308     B"
      ]
     },
     "execution_count": 55,
     "metadata": {},
     "output_type": "execute_result"
    }
   ],
   "source": [
    "orders.head()"
   ]
  },
  {
   "cell_type": "code",
   "execution_count": 56,
   "metadata": {},
   "outputs": [
    {
     "name": "stdout",
     "output_type": "stream",
     "text": [
      "<class 'pandas.core.frame.DataFrame'>\n",
      "RangeIndex: 1197 entries, 0 to 1196\n",
      "Data columns (total 5 columns):\n",
      " #   Column         Non-Null Count  Dtype \n",
      "---  ------         --------------  ----- \n",
      " 0   transactionId  1197 non-null   int64 \n",
      " 1   visitorId      1197 non-null   int64 \n",
      " 2   date           1197 non-null   object\n",
      " 3   revenue        1197 non-null   int64 \n",
      " 4   group          1197 non-null   object\n",
      "dtypes: int64(3), object(2)\n",
      "memory usage: 46.9+ KB\n"
     ]
    }
   ],
   "source": [
    "orders.info()"
   ]
  },
  {
   "cell_type": "markdown",
   "metadata": {},
   "source": [
    "В таблице `orders` пять столбцов.  \n",
    "Столбец date нужно преобразовать к формату дат. Остальное верно.\n",
    "\n",
    "Согласно документации к данным:  \n",
    "\n",
    "* `transactionId` — идентификатор заказа\n",
    "* `visitorId` — идентификатор пользователя, совершившего заказ\n",
    "* `date` — дата, когда был совершён заказ\n",
    "* `revenue` — выручка заказа\n",
    "* `group` — группа A/B-теста, в которую попал заказ\n"
   ]
  },
  {
   "cell_type": "code",
   "execution_count": 57,
   "metadata": {},
   "outputs": [
    {
     "data": {
      "text/html": [
       "<div>\n",
       "<style scoped>\n",
       "    .dataframe tbody tr th:only-of-type {\n",
       "        vertical-align: middle;\n",
       "    }\n",
       "\n",
       "    .dataframe tbody tr th {\n",
       "        vertical-align: top;\n",
       "    }\n",
       "\n",
       "    .dataframe thead th {\n",
       "        text-align: right;\n",
       "    }\n",
       "</style>\n",
       "<table border=\"1\" class=\"dataframe\">\n",
       "  <thead>\n",
       "    <tr style=\"text-align: right;\">\n",
       "      <th></th>\n",
       "      <th>date</th>\n",
       "      <th>group</th>\n",
       "      <th>visitors</th>\n",
       "    </tr>\n",
       "  </thead>\n",
       "  <tbody>\n",
       "    <tr>\n",
       "      <th>0</th>\n",
       "      <td>2019-08-01</td>\n",
       "      <td>A</td>\n",
       "      <td>719</td>\n",
       "    </tr>\n",
       "    <tr>\n",
       "      <th>1</th>\n",
       "      <td>2019-08-02</td>\n",
       "      <td>A</td>\n",
       "      <td>619</td>\n",
       "    </tr>\n",
       "    <tr>\n",
       "      <th>2</th>\n",
       "      <td>2019-08-03</td>\n",
       "      <td>A</td>\n",
       "      <td>507</td>\n",
       "    </tr>\n",
       "    <tr>\n",
       "      <th>3</th>\n",
       "      <td>2019-08-04</td>\n",
       "      <td>A</td>\n",
       "      <td>717</td>\n",
       "    </tr>\n",
       "    <tr>\n",
       "      <th>4</th>\n",
       "      <td>2019-08-05</td>\n",
       "      <td>A</td>\n",
       "      <td>756</td>\n",
       "    </tr>\n",
       "  </tbody>\n",
       "</table>\n",
       "</div>"
      ],
      "text/plain": [
       "         date group  visitors\n",
       "0  2019-08-01     A       719\n",
       "1  2019-08-02     A       619\n",
       "2  2019-08-03     A       507\n",
       "3  2019-08-04     A       717\n",
       "4  2019-08-05     A       756"
      ]
     },
     "execution_count": 57,
     "metadata": {},
     "output_type": "execute_result"
    }
   ],
   "source": [
    "visitors.head()"
   ]
  },
  {
   "cell_type": "code",
   "execution_count": 58,
   "metadata": {
    "scrolled": true
   },
   "outputs": [
    {
     "name": "stdout",
     "output_type": "stream",
     "text": [
      "<class 'pandas.core.frame.DataFrame'>\n",
      "RangeIndex: 62 entries, 0 to 61\n",
      "Data columns (total 3 columns):\n",
      " #   Column    Non-Null Count  Dtype \n",
      "---  ------    --------------  ----- \n",
      " 0   date      62 non-null     object\n",
      " 1   group     62 non-null     object\n",
      " 2   visitors  62 non-null     int64 \n",
      "dtypes: int64(1), object(2)\n",
      "memory usage: 1.6+ KB\n"
     ]
    }
   ],
   "source": [
    "visitors.info()"
   ]
  },
  {
   "cell_type": "markdown",
   "metadata": {},
   "source": [
    "В таблице `visitors` три столбца  \n",
    "Столбец date нужно преобразовать к формату дат. Остальное верно.\n",
    "\n",
    "Согласно документации к данным:  \n",
    "\n",
    "* `date` — дата\n",
    "* `group` — группа A/B-теста\n",
    "* `visitors` — количество пользователей в указанную дату в указанной группе A/B-теста\n"
   ]
  },
  {
   "cell_type": "markdown",
   "metadata": {},
   "source": [
    "## Предобработка данных"
   ]
  },
  {
   "cell_type": "code",
   "execution_count": 59,
   "metadata": {},
   "outputs": [],
   "source": [
    "#приведем к нижнему регистру названия столбцов\n",
    "hypothesis.columns = hypothesis.columns.str.lower()\n",
    "orders.columns = orders.columns.str.lower()\n",
    "visitors.columns = visitors.columns.str.lower()\n",
    "orders = orders.rename(columns={'transactionid': 'transaction_id','visitorid':'visitor_id'})"
   ]
  },
  {
   "cell_type": "code",
   "execution_count": 60,
   "metadata": {
    "scrolled": true
   },
   "outputs": [
    {
     "name": "stdout",
     "output_type": "stream",
     "text": [
      "hypothesis    0\n",
      "reach         0\n",
      "impact        0\n",
      "confidence    0\n",
      "efforts       0\n",
      "dtype: int64\n",
      "\n",
      "transaction_id    0\n",
      "visitor_id        0\n",
      "date              0\n",
      "revenue           0\n",
      "group             0\n",
      "dtype: int64\n",
      "\n",
      "date        0\n",
      "group       0\n",
      "visitors    0\n",
      "dtype: int64\n"
     ]
    }
   ],
   "source": [
    "#проверим пропуски\n",
    "print(hypothesis.isna().sum())\n",
    "print()\n",
    "print(orders.isna().sum())\n",
    "print()\n",
    "print(visitors.isna().sum())"
   ]
  },
  {
   "cell_type": "markdown",
   "metadata": {},
   "source": [
    "пропусков нет"
   ]
  },
  {
   "cell_type": "code",
   "execution_count": 61,
   "metadata": {},
   "outputs": [
    {
     "data": {
      "text/html": [
       "<div>\n",
       "<style scoped>\n",
       "    .dataframe tbody tr th:only-of-type {\n",
       "        vertical-align: middle;\n",
       "    }\n",
       "\n",
       "    .dataframe tbody tr th {\n",
       "        vertical-align: top;\n",
       "    }\n",
       "\n",
       "    .dataframe thead th {\n",
       "        text-align: right;\n",
       "    }\n",
       "</style>\n",
       "<table border=\"1\" class=\"dataframe\">\n",
       "  <thead>\n",
       "    <tr style=\"text-align: right;\">\n",
       "      <th></th>\n",
       "      <th>hypothesis</th>\n",
       "      <th>reach</th>\n",
       "      <th>impact</th>\n",
       "      <th>confidence</th>\n",
       "      <th>efforts</th>\n",
       "    </tr>\n",
       "  </thead>\n",
       "  <tbody>\n",
       "  </tbody>\n",
       "</table>\n",
       "</div>"
      ],
      "text/plain": [
       "Empty DataFrame\n",
       "Columns: [hypothesis, reach, impact, confidence, efforts]\n",
       "Index: []"
      ]
     },
     "metadata": {},
     "output_type": "display_data"
    },
    {
     "data": {
      "text/html": [
       "<div>\n",
       "<style scoped>\n",
       "    .dataframe tbody tr th:only-of-type {\n",
       "        vertical-align: middle;\n",
       "    }\n",
       "\n",
       "    .dataframe tbody tr th {\n",
       "        vertical-align: top;\n",
       "    }\n",
       "\n",
       "    .dataframe thead th {\n",
       "        text-align: right;\n",
       "    }\n",
       "</style>\n",
       "<table border=\"1\" class=\"dataframe\">\n",
       "  <thead>\n",
       "    <tr style=\"text-align: right;\">\n",
       "      <th></th>\n",
       "      <th>transaction_id</th>\n",
       "      <th>visitor_id</th>\n",
       "      <th>date</th>\n",
       "      <th>revenue</th>\n",
       "      <th>group</th>\n",
       "    </tr>\n",
       "  </thead>\n",
       "  <tbody>\n",
       "  </tbody>\n",
       "</table>\n",
       "</div>"
      ],
      "text/plain": [
       "Empty DataFrame\n",
       "Columns: [transaction_id, visitor_id, date, revenue, group]\n",
       "Index: []"
      ]
     },
     "metadata": {},
     "output_type": "display_data"
    },
    {
     "data": {
      "text/html": [
       "<div>\n",
       "<style scoped>\n",
       "    .dataframe tbody tr th:only-of-type {\n",
       "        vertical-align: middle;\n",
       "    }\n",
       "\n",
       "    .dataframe tbody tr th {\n",
       "        vertical-align: top;\n",
       "    }\n",
       "\n",
       "    .dataframe thead th {\n",
       "        text-align: right;\n",
       "    }\n",
       "</style>\n",
       "<table border=\"1\" class=\"dataframe\">\n",
       "  <thead>\n",
       "    <tr style=\"text-align: right;\">\n",
       "      <th></th>\n",
       "      <th>date</th>\n",
       "      <th>group</th>\n",
       "      <th>visitors</th>\n",
       "    </tr>\n",
       "  </thead>\n",
       "  <tbody>\n",
       "  </tbody>\n",
       "</table>\n",
       "</div>"
      ],
      "text/plain": [
       "Empty DataFrame\n",
       "Columns: [date, group, visitors]\n",
       "Index: []"
      ]
     },
     "metadata": {},
     "output_type": "display_data"
    }
   ],
   "source": [
    "#проверим дубликаты\n",
    "display(hypothesis[hypothesis.duplicated(subset=['hypothesis'])])\n",
    "display(orders[orders.duplicated(subset=['transaction_id'])])\n",
    "display(visitors[visitors.duplicated(subset=['date','group'])])"
   ]
  },
  {
   "cell_type": "markdown",
   "metadata": {},
   "source": [
    "дубликатов нет"
   ]
  },
  {
   "cell_type": "code",
   "execution_count": 62,
   "metadata": {},
   "outputs": [],
   "source": [
    "#преобразуем столбцы с датами в нужный формат\n",
    "orders['date'] = pd.to_datetime(orders['date']).dt.normalize()\n",
    "visitors['date'] = pd.to_datetime(visitors['date']).dt.normalize()\n"
   ]
  },
  {
   "cell_type": "code",
   "execution_count": 63,
   "metadata": {},
   "outputs": [
    {
     "name": "stdout",
     "output_type": "stream",
     "text": [
      "<class 'pandas.core.frame.DataFrame'>\n",
      "RangeIndex: 62 entries, 0 to 61\n",
      "Data columns (total 3 columns):\n",
      " #   Column    Non-Null Count  Dtype         \n",
      "---  ------    --------------  -----         \n",
      " 0   date      62 non-null     datetime64[ns]\n",
      " 1   group     62 non-null     object        \n",
      " 2   visitors  62 non-null     int64         \n",
      "dtypes: datetime64[ns](1), int64(1), object(1)\n",
      "memory usage: 1.6+ KB\n"
     ]
    }
   ],
   "source": [
    "visitors.info()"
   ]
  },
  {
   "cell_type": "code",
   "execution_count": 64,
   "metadata": {
    "scrolled": true
   },
   "outputs": [
    {
     "data": {
      "image/png": "[encoded data removed]",
      "text/plain": [
       "<Figure size 864x432 with 4 Axes>"
      ]
     },
     "metadata": {
      "needs_background": "light"
     },
     "output_type": "display_data"
    }
   ],
   "source": [
    "#проверим корректость данных таблицы hypothesis\n",
    "hypothesis.hist(figsize=(12, 6), bins = 20);"
   ]
  },
  {
   "cell_type": "markdown",
   "metadata": {},
   "source": [
    "Оценки распределены от 1 до 10, некорректных значений нет  \n",
    "По всем параметрам кроме `confidence` большинство оценкок распределениы возде низких значений (топ оценка 3)  \n",
    "В параметре `confidence` наоборот, топ оценка 8"
   ]
  },
  {
   "cell_type": "code",
   "execution_count": 65,
   "metadata": {
    "scrolled": false
   },
   "outputs": [
    {
     "data": {
      "image/png": "[encoded data removed]",
      "text/plain": [
       "<Figure size 864x432 with 1 Axes>"
      ]
     },
     "metadata": {
      "needs_background": "light"
     },
     "output_type": "display_data"
    }
   ],
   "source": [
    "# проверим корректость данных таблицы orders\n",
    "\n",
    "# проверим даты\n",
    "orders['date'].sort_values().hist(figsize=(12, 6),bins = 100)\n",
    "plt.xlabel('Дата')\n",
    "plt.ylabel('Количестово наблюдений')\n",
    "plt.title('Распределение уникальных значений дат')\n",
    "plt.xticks(rotation=45);"
   ]
  },
  {
   "cell_type": "markdown",
   "metadata": {},
   "source": [
    "Даты не выбиваются, количестов заказов в день примерно одинаковое, с цикличными провалами в пятницу-субботу  \n",
    "Период 2019/08/01-2019/08-31"
   ]
  },
  {
   "cell_type": "code",
   "execution_count": 66,
   "metadata": {
    "scrolled": false
   },
   "outputs": [
    {
     "data": {
      "image/png": "[encoded data removed]",
      "text/plain": [
       "<Figure size 864x288 with 2 Axes>"
      ]
     },
     "metadata": {
      "needs_background": "light"
     },
     "output_type": "display_data"
    }
   ],
   "source": [
    "plt.figure(figsize=(12, 4))\n",
    "\n",
    "# проверим распределения сумм заказов\n",
    "ax1 = plt.subplot(1, 2, 1)\n",
    "orders['revenue'].sort_values().hist(bins=20,ax=ax1)\n",
    "plt.xlabel('Сумма заказа')\n",
    "plt.ylabel('Количестово наблюдений')\n",
    "plt.title('Распределение уникальных значений сумм заказа')\n",
    "# проверим распределения групп\n",
    "ax2 = plt.subplot(1, 2, 2)\n",
    "orders['group'].sort_values().hist(bins=3,ax=ax2);\n",
    "plt.xlabel('Группа')\n",
    "plt.ylabel('Количестово наблюдений')\n",
    "plt.title('Распределение уникальных значений групп тестирования');\n"
   ]
  },
  {
   "cell_type": "markdown",
   "metadata": {},
   "source": [
    "Большинство заказов менее 100 тыс, есть аномально высокие значения  \n",
    "Заказов группы В больше группы А на ~ 100 "
   ]
  },
  {
   "cell_type": "markdown",
   "metadata": {},
   "source": [
    "Проверим пересечение пользователей между группами"
   ]
  },
  {
   "cell_type": "code",
   "execution_count": 67,
   "metadata": {},
   "outputs": [
    {
     "name": "stdout",
     "output_type": "stream",
     "text": [
      "Количество пересекающихся пользователей в обеих группах: 58 из 1031\n",
      "Доля пересекающихся пользователей в обеих группах: 5.63%\n"
     ]
    }
   ],
   "source": [
    "#посчитаем пользователей, которые оказались в обеих группах\n",
    "check = orders.groupby('visitor_id', as_index=False).agg({'group' : 'nunique'})\n",
    "print('Количество пересекающихся пользователей в обеих группах:',\n",
    "            len(check[check['group']>1]), 'из', orders['visitor_id'].nunique ())\n",
    "print('Доля пересекающихся пользователей в обеих группах: {:.2f}%'.format(\n",
    "            len(check[check['group']>1])*100/orders['visitor_id'].nunique ()))"
   ]
  },
  {
   "cell_type": "markdown",
   "metadata": {},
   "source": [
    "Удалить нельзя оставить\n",
    "\n",
    "Количество пользователей небольшое, но считаю,что лучше их удалить, тк это могло повлиять на результаты исследования\n"
   ]
  },
  {
   "cell_type": "code",
   "execution_count": 68,
   "metadata": {},
   "outputs": [],
   "source": [
    "cross_visitors = check[check['group']>1]['visitor_id']\n",
    "orders = orders [np.logical_not(orders['visitor_id'].isin(cross_visitors))]"
   ]
  },
  {
   "cell_type": "code",
   "execution_count": 69,
   "metadata": {},
   "outputs": [
    {
     "name": "stdout",
     "output_type": "stream",
     "text": [
      "Количество пересекающихся пользователей в обеих группах: 0 из 973\n",
      "Доля пересекающихся пользователей в обеих группах: 0.00%\n"
     ]
    }
   ],
   "source": [
    "check = orders.groupby('visitor_id', as_index=False).agg({'group' : 'nunique'})\n",
    "print('Количество пересекающихся пользователей в обеих группах:',\n",
    "            len(check[check['group']>1]), 'из', orders['visitor_id'].nunique ())\n",
    "print('Доля пересекающихся пользователей в обеих группах: {:.2f}%'.format(\n",
    "            len(check[check['group']>1])*100/orders['visitor_id'].nunique ()))"
   ]
  },
  {
   "cell_type": "code",
   "execution_count": 70,
   "metadata": {
    "scrolled": true
   },
   "outputs": [
    {
     "data": {
      "image/png": "[encoded data removed]",
      "text/plain": [
       "<Figure size 864x432 with 1 Axes>"
      ]
     },
     "metadata": {
      "needs_background": "light"
     },
     "output_type": "display_data"
    }
   ],
   "source": [
    "# проверим корректость данных таблицы visitors\n",
    "\n",
    "# проверим даты\n",
    "visitors['date'].sort_values().hist(figsize=(12, 6),bins = 100)\n",
    "plt.xlabel('Дата')\n",
    "plt.ylabel('Количество наблюдений')\n",
    "plt.title('Распределение уникальных значений дат')\n",
    "plt.xticks(rotation=45);"
   ]
  },
  {
   "cell_type": "markdown",
   "metadata": {},
   "source": [
    "Некорректных дат нет. Каждый день по две группы.  \n",
    "Период 2019/08/01-2019/08-31"
   ]
  },
  {
   "cell_type": "code",
   "execution_count": 71,
   "metadata": {
    "scrolled": false
   },
   "outputs": [
    {
     "data": {
      "image/png": "[encoded data removed]",
      "text/plain": [
       "<Figure size 864x288 with 2 Axes>"
      ]
     },
     "metadata": {
      "needs_background": "light"
     },
     "output_type": "display_data"
    }
   ],
   "source": [
    "plt.figure(figsize=(12, 4))\n",
    "\n",
    "# проверим распределения количества посетителей\n",
    "ax1 = plt.subplot(1, 2, 1)\n",
    "visitors['visitors'].sort_values().hist(bins=100,ax=ax1)\n",
    "plt.xlabel('Количество посетителей')\n",
    "plt.ylabel('Количество наблюдений')\n",
    "plt.title('Распределение уникальных значений количества посетителей')\n",
    "ax2 = plt.subplot(1, 2, 2)\n",
    "visitors['group'].sort_values().hist(bins=3,ax=ax2)\n",
    "plt.xlabel('Группа')\n",
    "plt.ylabel('Количество наблюдений')\n",
    "plt.title('Распределение уникальных значений групп');"
   ]
  },
  {
   "cell_type": "markdown",
   "metadata": {},
   "source": [
    "По количеству пользователей в день выраженных аномалий нет.  \n",
    "Каждый день по одной записи на группу"
   ]
  },
  {
   "cell_type": "markdown",
   "metadata": {},
   "source": [
    "**Некорректных значений в данных не обнаружено  \n",
    "Пропусков и дубликатов не было  \n",
    "Есть пересечения пользователей по группам, 58 пользователей присутсвуют в обеих группах**"
   ]
  },
  {
   "cell_type": "markdown",
   "metadata": {},
   "source": [
    "## Приоритизация гипотез"
   ]
  },
  {
   "cell_type": "markdown",
   "metadata": {},
   "source": [
    "**Приоритизация методом ICE**"
   ]
  },
  {
   "cell_type": "code",
   "execution_count": 72,
   "metadata": {
    "scrolled": true
   },
   "outputs": [
    {
     "data": {
      "text/html": [
       "<div>\n",
       "<style scoped>\n",
       "    .dataframe tbody tr th:only-of-type {\n",
       "        vertical-align: middle;\n",
       "    }\n",
       "\n",
       "    .dataframe tbody tr th {\n",
       "        vertical-align: top;\n",
       "    }\n",
       "\n",
       "    .dataframe thead th {\n",
       "        text-align: right;\n",
       "    }\n",
       "</style>\n",
       "<table border=\"1\" class=\"dataframe\">\n",
       "  <thead>\n",
       "    <tr style=\"text-align: right;\">\n",
       "      <th></th>\n",
       "      <th>hypothesis</th>\n",
       "      <th>reach</th>\n",
       "      <th>impact</th>\n",
       "      <th>confidence</th>\n",
       "      <th>efforts</th>\n",
       "      <th>ICE</th>\n",
       "    </tr>\n",
       "  </thead>\n",
       "  <tbody>\n",
       "    <tr>\n",
       "      <th>8</th>\n",
       "      <td>Запустить акцию, дающую скидку на товар в день рождения</td>\n",
       "      <td>1</td>\n",
       "      <td>9</td>\n",
       "      <td>9</td>\n",
       "      <td>5</td>\n",
       "      <td>16.200000</td>\n",
       "    </tr>\n",
       "    <tr>\n",
       "      <th>0</th>\n",
       "      <td>Добавить два новых канала привлечения трафика, что позволит привлекать на 30% больше пользователей</td>\n",
       "      <td>3</td>\n",
       "      <td>10</td>\n",
       "      <td>8</td>\n",
       "      <td>6</td>\n",
       "      <td>13.333333</td>\n",
       "    </tr>\n",
       "    <tr>\n",
       "      <th>7</th>\n",
       "      <td>Добавить форму подписки на все основные страницы, чтобы собрать базу клиентов для email-рассылок</td>\n",
       "      <td>10</td>\n",
       "      <td>7</td>\n",
       "      <td>8</td>\n",
       "      <td>5</td>\n",
       "      <td>11.200000</td>\n",
       "    </tr>\n",
       "    <tr>\n",
       "      <th>6</th>\n",
       "      <td>Показать на главной странице баннеры с актуальными акциями и распродажами, чтобы увеличить конверсию</td>\n",
       "      <td>5</td>\n",
       "      <td>3</td>\n",
       "      <td>8</td>\n",
       "      <td>3</td>\n",
       "      <td>8.000000</td>\n",
       "    </tr>\n",
       "    <tr>\n",
       "      <th>2</th>\n",
       "      <td>Добавить блоки рекомендаций товаров на сайт интернет магазина, чтобы повысить конверсию и средний чек заказа</td>\n",
       "      <td>8</td>\n",
       "      <td>3</td>\n",
       "      <td>7</td>\n",
       "      <td>3</td>\n",
       "      <td>7.000000</td>\n",
       "    </tr>\n",
       "    <tr>\n",
       "      <th>1</th>\n",
       "      <td>Запустить собственную службу доставки, что сократит срок доставки заказов</td>\n",
       "      <td>2</td>\n",
       "      <td>5</td>\n",
       "      <td>4</td>\n",
       "      <td>10</td>\n",
       "      <td>2.000000</td>\n",
       "    </tr>\n",
       "    <tr>\n",
       "      <th>5</th>\n",
       "      <td>Добавить страницу отзывов клиентов о магазине, что позволит увеличить количество заказов</td>\n",
       "      <td>3</td>\n",
       "      <td>2</td>\n",
       "      <td>2</td>\n",
       "      <td>3</td>\n",
       "      <td>1.333333</td>\n",
       "    </tr>\n",
       "    <tr>\n",
       "      <th>3</th>\n",
       "      <td>Изменить структура категорий, что увеличит конверсию, т.к. пользователи быстрее найдут нужный товар</td>\n",
       "      <td>8</td>\n",
       "      <td>3</td>\n",
       "      <td>3</td>\n",
       "      <td>8</td>\n",
       "      <td>1.125000</td>\n",
       "    </tr>\n",
       "    <tr>\n",
       "      <th>4</th>\n",
       "      <td>Изменить цвет фона главной страницы, чтобы увеличить вовлеченность пользователей</td>\n",
       "      <td>3</td>\n",
       "      <td>1</td>\n",
       "      <td>1</td>\n",
       "      <td>1</td>\n",
       "      <td>1.000000</td>\n",
       "    </tr>\n",
       "  </tbody>\n",
       "</table>\n",
       "</div>"
      ],
      "text/plain": [
       "                                                                                                     hypothesis  \\\n",
       "8                                                       Запустить акцию, дающую скидку на товар в день рождения   \n",
       "0            Добавить два новых канала привлечения трафика, что позволит привлекать на 30% больше пользователей   \n",
       "7              Добавить форму подписки на все основные страницы, чтобы собрать базу клиентов для email-рассылок   \n",
       "6          Показать на главной странице баннеры с актуальными акциями и распродажами, чтобы увеличить конверсию   \n",
       "2  Добавить блоки рекомендаций товаров на сайт интернет магазина, чтобы повысить конверсию и средний чек заказа   \n",
       "1                                     Запустить собственную службу доставки, что сократит срок доставки заказов   \n",
       "5                      Добавить страницу отзывов клиентов о магазине, что позволит увеличить количество заказов   \n",
       "3           Изменить структура категорий, что увеличит конверсию, т.к. пользователи быстрее найдут нужный товар   \n",
       "4                              Изменить цвет фона главной страницы, чтобы увеличить вовлеченность пользователей   \n",
       "\n",
       "   reach  impact  confidence  efforts        ICE  \n",
       "8      1       9           9        5  16.200000  \n",
       "0      3      10           8        6  13.333333  \n",
       "7     10       7           8        5  11.200000  \n",
       "6      5       3           8        3   8.000000  \n",
       "2      8       3           7        3   7.000000  \n",
       "1      2       5           4       10   2.000000  \n",
       "5      3       2           2        3   1.333333  \n",
       "3      8       3           3        8   1.125000  \n",
       "4      3       1           1        1   1.000000  "
      ]
     },
     "metadata": {},
     "output_type": "display_data"
    }
   ],
   "source": [
    "hypothesis['ICE'] = (hypothesis['impact']*hypothesis['confidence'])/hypothesis['efforts']\n",
    "display(hypothesis.sort_values(by='ICE', ascending=False))\n"
   ]
  },
  {
   "cell_type": "markdown",
   "metadata": {},
   "source": [
    "По методу **ICE** перспективные гипотезы: \n",
    " * Запустить акцию, дающую скидку на товар в день рождения\t\n",
    " * Добавить два новых канала привлечения трафика, что позволит привлекать на 30% больше пользователей\n",
    " * Добавить форму подписки на все основные страницы, чтобы собрать базу клиентов для email-рассылок"
   ]
  },
  {
   "cell_type": "markdown",
   "metadata": {},
   "source": [
    "**Приоритизация методом RICE**"
   ]
  },
  {
   "cell_type": "code",
   "execution_count": 73,
   "metadata": {},
   "outputs": [
    {
     "data": {
      "text/html": [
       "<div>\n",
       "<style scoped>\n",
       "    .dataframe tbody tr th:only-of-type {\n",
       "        vertical-align: middle;\n",
       "    }\n",
       "\n",
       "    .dataframe tbody tr th {\n",
       "        vertical-align: top;\n",
       "    }\n",
       "\n",
       "    .dataframe thead th {\n",
       "        text-align: right;\n",
       "    }\n",
       "</style>\n",
       "<table border=\"1\" class=\"dataframe\">\n",
       "  <thead>\n",
       "    <tr style=\"text-align: right;\">\n",
       "      <th></th>\n",
       "      <th>hypothesis</th>\n",
       "      <th>reach</th>\n",
       "      <th>impact</th>\n",
       "      <th>confidence</th>\n",
       "      <th>efforts</th>\n",
       "      <th>ICE</th>\n",
       "      <th>RICE</th>\n",
       "    </tr>\n",
       "  </thead>\n",
       "  <tbody>\n",
       "    <tr>\n",
       "      <th>7</th>\n",
       "      <td>Добавить форму подписки на все основные страницы, чтобы собрать базу клиентов для email-рассылок</td>\n",
       "      <td>10</td>\n",
       "      <td>7</td>\n",
       "      <td>8</td>\n",
       "      <td>5</td>\n",
       "      <td>11.200000</td>\n",
       "      <td>112.0</td>\n",
       "    </tr>\n",
       "    <tr>\n",
       "      <th>2</th>\n",
       "      <td>Добавить блоки рекомендаций товаров на сайт интернет магазина, чтобы повысить конверсию и средний чек заказа</td>\n",
       "      <td>8</td>\n",
       "      <td>3</td>\n",
       "      <td>7</td>\n",
       "      <td>3</td>\n",
       "      <td>7.000000</td>\n",
       "      <td>56.0</td>\n",
       "    </tr>\n",
       "    <tr>\n",
       "      <th>0</th>\n",
       "      <td>Добавить два новых канала привлечения трафика, что позволит привлекать на 30% больше пользователей</td>\n",
       "      <td>3</td>\n",
       "      <td>10</td>\n",
       "      <td>8</td>\n",
       "      <td>6</td>\n",
       "      <td>13.333333</td>\n",
       "      <td>40.0</td>\n",
       "    </tr>\n",
       "    <tr>\n",
       "      <th>6</th>\n",
       "      <td>Показать на главной странице баннеры с актуальными акциями и распродажами, чтобы увеличить конверсию</td>\n",
       "      <td>5</td>\n",
       "      <td>3</td>\n",
       "      <td>8</td>\n",
       "      <td>3</td>\n",
       "      <td>8.000000</td>\n",
       "      <td>40.0</td>\n",
       "    </tr>\n",
       "    <tr>\n",
       "      <th>8</th>\n",
       "      <td>Запустить акцию, дающую скидку на товар в день рождения</td>\n",
       "      <td>1</td>\n",
       "      <td>9</td>\n",
       "      <td>9</td>\n",
       "      <td>5</td>\n",
       "      <td>16.200000</td>\n",
       "      <td>16.2</td>\n",
       "    </tr>\n",
       "    <tr>\n",
       "      <th>3</th>\n",
       "      <td>Изменить структура категорий, что увеличит конверсию, т.к. пользователи быстрее найдут нужный товар</td>\n",
       "      <td>8</td>\n",
       "      <td>3</td>\n",
       "      <td>3</td>\n",
       "      <td>8</td>\n",
       "      <td>1.125000</td>\n",
       "      <td>9.0</td>\n",
       "    </tr>\n",
       "    <tr>\n",
       "      <th>1</th>\n",
       "      <td>Запустить собственную службу доставки, что сократит срок доставки заказов</td>\n",
       "      <td>2</td>\n",
       "      <td>5</td>\n",
       "      <td>4</td>\n",
       "      <td>10</td>\n",
       "      <td>2.000000</td>\n",
       "      <td>4.0</td>\n",
       "    </tr>\n",
       "    <tr>\n",
       "      <th>5</th>\n",
       "      <td>Добавить страницу отзывов клиентов о магазине, что позволит увеличить количество заказов</td>\n",
       "      <td>3</td>\n",
       "      <td>2</td>\n",
       "      <td>2</td>\n",
       "      <td>3</td>\n",
       "      <td>1.333333</td>\n",
       "      <td>4.0</td>\n",
       "    </tr>\n",
       "    <tr>\n",
       "      <th>4</th>\n",
       "      <td>Изменить цвет фона главной страницы, чтобы увеличить вовлеченность пользователей</td>\n",
       "      <td>3</td>\n",
       "      <td>1</td>\n",
       "      <td>1</td>\n",
       "      <td>1</td>\n",
       "      <td>1.000000</td>\n",
       "      <td>3.0</td>\n",
       "    </tr>\n",
       "  </tbody>\n",
       "</table>\n",
       "</div>"
      ],
      "text/plain": [
       "                                                                                                     hypothesis  \\\n",
       "7              Добавить форму подписки на все основные страницы, чтобы собрать базу клиентов для email-рассылок   \n",
       "2  Добавить блоки рекомендаций товаров на сайт интернет магазина, чтобы повысить конверсию и средний чек заказа   \n",
       "0            Добавить два новых канала привлечения трафика, что позволит привлекать на 30% больше пользователей   \n",
       "6          Показать на главной странице баннеры с актуальными акциями и распродажами, чтобы увеличить конверсию   \n",
       "8                                                       Запустить акцию, дающую скидку на товар в день рождения   \n",
       "3           Изменить структура категорий, что увеличит конверсию, т.к. пользователи быстрее найдут нужный товар   \n",
       "1                                     Запустить собственную службу доставки, что сократит срок доставки заказов   \n",
       "5                      Добавить страницу отзывов клиентов о магазине, что позволит увеличить количество заказов   \n",
       "4                              Изменить цвет фона главной страницы, чтобы увеличить вовлеченность пользователей   \n",
       "\n",
       "   reach  impact  confidence  efforts        ICE   RICE  \n",
       "7     10       7           8        5  11.200000  112.0  \n",
       "2      8       3           7        3   7.000000   56.0  \n",
       "0      3      10           8        6  13.333333   40.0  \n",
       "6      5       3           8        3   8.000000   40.0  \n",
       "8      1       9           9        5  16.200000   16.2  \n",
       "3      8       3           3        8   1.125000    9.0  \n",
       "1      2       5           4       10   2.000000    4.0  \n",
       "5      3       2           2        3   1.333333    4.0  \n",
       "4      3       1           1        1   1.000000    3.0  "
      ]
     },
     "metadata": {},
     "output_type": "display_data"
    }
   ],
   "source": [
    "hypothesis['RICE'] = (hypothesis['impact']*hypothesis['confidence']*hypothesis['reach'])/hypothesis['efforts']\n",
    "display(hypothesis.sort_values(by='RICE', ascending=False))"
   ]
  },
  {
   "cell_type": "markdown",
   "metadata": {},
   "source": [
    "По методу **RICE** перспективные гипотезы:\n",
    "  \n",
    " * Добавить форму подписки на все основные страницы, чтобы собрать базу клиентов для email-рассылок\n",
    " * Добавить блоки рекомендаций товаров на сайт интернет магазина, чтобы повысить конверсию и средний чек заказа   \n",
    " * Добавить два новых канала привлечения трафика, что позволит привлекать на 30% больше пользователей\n",
    " * Показать на главной странице баннеры с актуальными акциями и распродажами, чтобы увеличить конверсию\t\n",
    "\n",
    "При использовании данного метода на первое место вышла гипотеза для сбора данных, тк она влияет на максимальное число пользователей, параметр reach =10\n",
    "\n",
    "Гипотеза со скидками в день рождения сместилась на 5 место, те количество пользователей, которое она затронет минимально.\n",
    "\n",
    "Для запуска нам нужна гипотеза, которая повлияет на имеющиеся показатели выручки и охватит максимальное количество пользователей  \n",
    "\n",
    "Поэтому тестируем гипотезу  \n",
    "**Добавить блоки рекомендаций товаров на сайт интернет магазина, чтобы повысить конверсию и средний чек заказа  \n",
    "или  \n",
    "Показать на главной странице баннеры с актуальными акциями и распродажами, чтобы увеличить конверсию**"
   ]
  },
  {
   "cell_type": "markdown",
   "metadata": {},
   "source": [
    "## Анализ A/B-теста"
   ]
  },
  {
   "cell_type": "markdown",
   "metadata": {},
   "source": [
    "### Анализ метрик"
   ]
  },
  {
   "cell_type": "code",
   "execution_count": 74,
   "metadata": {},
   "outputs": [],
   "source": [
    "# подготовим общую таблицу с кумулятивными данными по всем параметрам\n",
    "# определим пары дата - группа\n",
    "datesgroups = orders[['date', 'group']].drop_duplicates()\n",
    "\n",
    "# получим агрегированные кумулятивные данные о заказах по дням\n",
    "revenue_cum = datesgroups.apply(\n",
    "        lambda x: orders [np.logical_and(\n",
    "            orders['date']<=x['date'],orders['group']==x['group'])].agg({'date': 'max',\n",
    "                                                                        'group': 'max',\n",
    "                                                                        'transaction_id': 'nunique',\n",
    "                                                                        'visitor_id': 'nunique',\n",
    "                                                                        'revenue': 'sum'}),axis=1).sort_values(by=['date','group'])\n",
    "\n",
    "\n",
    "# получим агрегированные кумулятивные данные о посетителях по дням\n",
    "visitors_cum = datesgroups.apply(\n",
    "        lambda x: visitors [np.logical_and(\n",
    "            visitors['date']<=x['date'],visitors['group']==x['group'])].agg({'date': 'max',\n",
    "                                                                        'group': 'max',\n",
    "                                                                        'visitors': 'sum'}),axis=1).sort_values(by=['date','group'])\n",
    "\n",
    "# объединим кумулятивные данные в одной таблице и присваивоим ее столбцам понятные названия\n",
    "data_cum = revenue_cum.merge(visitors_cum, left_on = ['date','group'], right_on = ['date','group'])\n",
    "data_cum.columns = ['date', 'group', 'orders', 'buyers', 'revenue', 'visitors']\n"
   ]
  },
  {
   "cell_type": "markdown",
   "metadata": {},
   "source": [
    "**Построим графики кумулятивной выручки по дням и группам A/B-тестирования:**"
   ]
  },
  {
   "cell_type": "code",
   "execution_count": 75,
   "metadata": {},
   "outputs": [],
   "source": [
    "#отберем данные по группам:\n",
    "data_cum_A = data_cum[data_cum['group']=='A']\n",
    "data_cum_B = data_cum[data_cum['group']=='B']"
   ]
  },
  {
   "cell_type": "code",
   "execution_count": 76,
   "metadata": {},
   "outputs": [],
   "source": [
    "import matplotlib.pyplot as plt\n",
    "from importlib import reload\n",
    "plt=reload(plt)"
   ]
  },
  {
   "cell_type": "code",
   "execution_count": 77,
   "metadata": {
    "scrolled": false
   },
   "outputs": [
    {
     "data": {
      "image/png": "[encoded data removed]",
      "text/plain": [
       "<Figure size 720x432 with 1 Axes>"
      ]
     },
     "metadata": {
      "needs_background": "light"
     },
     "output_type": "display_data"
    }
   ],
   "source": [
    "#строим графики\n",
    "plt.figure(figsize=(10, 6))\n",
    "plt.plot(data_cum_A['date'], data_cum_A['revenue'], color='orange', label='A')\n",
    "plt.plot(data_cum_B['date'], data_cum_B['revenue'], label='B')\n",
    "plt.xticks(rotation=45)\n",
    "plt.xlabel('Дата')\n",
    "plt.ylabel('Выручка')\n",
    "plt.title('Динамика кумулятивной выручки')\n",
    "plt.legend()\n",
    "plt.show();"
   ]
  },
  {
   "cell_type": "markdown",
   "metadata": {},
   "source": [
    "Выручки обеих групп растут на протяжении всего периода  \n",
    "В течении первых 15 дней выручка группы B немного превышала выручку группы A  \n",
    "В середине анализиремого периода наблюдается резкий скачок выручки группы B  \n",
    "Это может быть связано либо с увеличением количества заказов либо с увеличением среднего чека в группе B"
   ]
  },
  {
   "cell_type": "markdown",
   "metadata": {},
   "source": [
    "**Построим график динамики среднего чека по дням и группам A/B-тестирования:**"
   ]
  },
  {
   "cell_type": "code",
   "execution_count": 78,
   "metadata": {},
   "outputs": [
    {
     "data": {
      "image/png": "[encoded data removed]",
      "text/plain": [
       "<Figure size 720x432 with 1 Axes>"
      ]
     },
     "metadata": {
      "needs_background": "light"
     },
     "output_type": "display_data"
    }
   ],
   "source": [
    "plt.figure(figsize=(10, 6))\n",
    "plt.plot(data_cum_A['date'], data_cum_A['revenue']/data_cum_A['orders'], color='orange', label='A')\n",
    "plt.plot(data_cum_B['date'], data_cum_B['revenue']/data_cum_B['orders'], label='B')\n",
    "plt.xticks(rotation=45)\n",
    "plt.xlabel('Дата')\n",
    "plt.ylabel('Средний чек')\n",
    "plt.title('Динамика среднего чека')\n",
    "plt.legend()\n",
    "plt.show();"
   ]
  },
  {
   "cell_type": "markdown",
   "metadata": {},
   "source": [
    "Нестабильные метрики, средний чек группы А зафиксировался во второй половине месяца после роста\n",
    "Средний чек группы B по большей части выше группы А , но в первой половине месяца есть где значения выше группа А\n",
    "Далее, после 17 числа мы видим резкий рост чека группы B, то есть в выборку попал крупный(ые) заказ(ы)"
   ]
  },
  {
   "cell_type": "markdown",
   "metadata": {},
   "source": [
    "**Построим график относительного различия для среднего чека**"
   ]
  },
  {
   "cell_type": "code",
   "execution_count": 79,
   "metadata": {},
   "outputs": [
    {
     "data": {
      "image/png": "[encoded data removed]",
      "text/plain": [
       "<Figure size 720x432 with 1 Axes>"
      ]
     },
     "metadata": {
      "needs_background": "light"
     },
     "output_type": "display_data"
    }
   ],
   "source": [
    "data_cum_merged = data_cum_A.merge(data_cum_B, left_on='date', right_on='date', suffixes=['A', 'B'])\n",
    "\n",
    "\n",
    "plt.figure(figsize=(10, 6))\n",
    "plt.plot(data_cum_merged['date'], (data_cum_merged['revenueB']/data_cum_merged['ordersB'])/(data_cum_merged['revenueA']/data_cum_merged['ordersA'])-1)\n",
    "plt.xticks(rotation=45)\n",
    "plt.xlabel('Дата')\n",
    "plt.ylabel('Средний чек, отношение')\n",
    "plt.title('Динамика отношения среднего чека группы B к группе A')\n",
    "# добавляем ось X\n",
    "plt.axhline(y=0, color='black', linestyle='--') \n",
    "plt.show();"
   ]
  },
  {
   "cell_type": "markdown",
   "metadata": {},
   "source": [
    "Средний чек группы B выше, также явно видны два пика с крупными заказами - около 8 и 19 числа  \n",
    "Но также есть провалы в начале периода и середине месяца где значения среднего чека группы А выше равны"
   ]
  },
  {
   "cell_type": "markdown",
   "metadata": {},
   "source": [
    "**Построим график кумулятивного среднего количества заказов на посетителя**"
   ]
  },
  {
   "cell_type": "code",
   "execution_count": 80,
   "metadata": {},
   "outputs": [
    {
     "data": {
      "image/png": "[encoded data removed]",
      "text/plain": [
       "<Figure size 720x432 with 1 Axes>"
      ]
     },
     "metadata": {
      "needs_background": "light"
     },
     "output_type": "display_data"
    }
   ],
   "source": [
    "plt.figure(figsize=(10, 6))\n",
    "plt.plot(data_cum_merged['date'],(data_cum_merged['ordersA']/data_cum_merged['visitorsA']), color='orange', label='A')\n",
    "plt.plot(data_cum_merged['date'],(data_cum_merged['ordersB']/data_cum_merged['visitorsB']), label='B')\n",
    "plt.xticks(rotation=45)\n",
    "plt.xlabel('Дата')\n",
    "plt.ylabel('Количество заказов')\n",
    "plt.title('Среднее количество заказов на посетителя')\n",
    "plt.legend()\n",
    "plt.axis([\"2019-08-01\", '2019-08-31', 0.02, 0.04])\n",
    "plt.axhline(y=0.03, color='black', linestyle='--') \n",
    "plt.show();\n"
   ]
  },
  {
   "cell_type": "markdown",
   "metadata": {},
   "source": [
    "В начале периода значения среднего количества заказов в обеих группах были близки, но в дальнейшем зафиксировались: доля заказов в группе B ~ 3%  и стабильно выше группы A  \n",
    "Среднее количество заказов группы A было в начале периода выше группы B, но затем начало резко снижаться, зафиксировавшись в конце месяца"
   ]
  },
  {
   "cell_type": "markdown",
   "metadata": {},
   "source": [
    "**Построим график относительного изменения кумулятивного среднего количества заказов**"
   ]
  },
  {
   "cell_type": "code",
   "execution_count": 81,
   "metadata": {},
   "outputs": [
    {
     "data": {
      "image/png": "[encoded data removed]",
      "text/plain": [
       "<Figure size 720x432 with 1 Axes>"
      ]
     },
     "metadata": {
      "needs_background": "light"
     },
     "output_type": "display_data"
    }
   ],
   "source": [
    "plt.figure(figsize=(10, 6))\n",
    "plt.plot(data_cum_merged['date'],(data_cum_merged['ordersB']/data_cum_merged['visitorsB'])/(data_cum_merged['ordersA']/data_cum_merged['visitorsA'])-1)\n",
    "plt.xticks(rotation=45)\n",
    "plt.xlabel('Дата')\n",
    "plt.ylabel('Отношение')\n",
    "plt.title('Динамика отношения среднего количества заказов группы B к группе A')\n",
    "# добавляем ось X\n",
    "plt.axhline(y=0, color='black', linestyle='--') \n",
    "plt.axhline(y=0.12, color='black', linestyle='--') \n",
    "plt.show();"
   ]
  },
  {
   "cell_type": "markdown",
   "metadata": {},
   "source": [
    "Также видим, что на протяжении почти всего теста количество заказов группы B выше группы A на 12%"
   ]
  },
  {
   "cell_type": "markdown",
   "metadata": {},
   "source": [
    "По предварительной оценке метрик кажется, что показатели группы B (выручка, средний чек, среднее количество заказов) лучше группы A  \n",
    "Проверим аномальные значения, тк они могли повлиять на показатели"
   ]
  },
  {
   "cell_type": "markdown",
   "metadata": {},
   "source": [
    "### Анализ выбросов"
   ]
  },
  {
   "cell_type": "code",
   "execution_count": 82,
   "metadata": {
    "scrolled": true
   },
   "outputs": [
    {
     "data": {
      "text/html": [
       "<div>\n",
       "<style scoped>\n",
       "    .dataframe tbody tr th:only-of-type {\n",
       "        vertical-align: middle;\n",
       "    }\n",
       "\n",
       "    .dataframe tbody tr th {\n",
       "        vertical-align: top;\n",
       "    }\n",
       "\n",
       "    .dataframe thead th {\n",
       "        text-align: right;\n",
       "    }\n",
       "</style>\n",
       "<table border=\"1\" class=\"dataframe\">\n",
       "  <thead>\n",
       "    <tr style=\"text-align: right;\">\n",
       "      <th></th>\n",
       "      <th>visitor_id</th>\n",
       "      <th>orders</th>\n",
       "    </tr>\n",
       "  </thead>\n",
       "  <tbody>\n",
       "    <tr>\n",
       "      <th>908</th>\n",
       "      <td>3967698036</td>\n",
       "      <td>3</td>\n",
       "    </tr>\n",
       "    <tr>\n",
       "      <th>55</th>\n",
       "      <td>249864742</td>\n",
       "      <td>3</td>\n",
       "    </tr>\n",
       "    <tr>\n",
       "      <th>478</th>\n",
       "      <td>2108163459</td>\n",
       "      <td>3</td>\n",
       "    </tr>\n",
       "    <tr>\n",
       "      <th>687</th>\n",
       "      <td>2988190573</td>\n",
       "      <td>3</td>\n",
       "    </tr>\n",
       "    <tr>\n",
       "      <th>890</th>\n",
       "      <td>3908431265</td>\n",
       "      <td>3</td>\n",
       "    </tr>\n",
       "    <tr>\n",
       "      <th>...</th>\n",
       "      <td>...</td>\n",
       "      <td>...</td>\n",
       "    </tr>\n",
       "    <tr>\n",
       "      <th>331</th>\n",
       "      <td>1438226485</td>\n",
       "      <td>1</td>\n",
       "    </tr>\n",
       "    <tr>\n",
       "      <th>332</th>\n",
       "      <td>1452540367</td>\n",
       "      <td>1</td>\n",
       "    </tr>\n",
       "    <tr>\n",
       "      <th>333</th>\n",
       "      <td>1455323168</td>\n",
       "      <td>1</td>\n",
       "    </tr>\n",
       "    <tr>\n",
       "      <th>334</th>\n",
       "      <td>1455861274</td>\n",
       "      <td>1</td>\n",
       "    </tr>\n",
       "    <tr>\n",
       "      <th>972</th>\n",
       "      <td>4283872382</td>\n",
       "      <td>1</td>\n",
       "    </tr>\n",
       "  </tbody>\n",
       "</table>\n",
       "<p>973 rows × 2 columns</p>\n",
       "</div>"
      ],
      "text/plain": [
       "     visitor_id  orders\n",
       "908  3967698036       3\n",
       "55    249864742       3\n",
       "478  2108163459       3\n",
       "687  2988190573       3\n",
       "890  3908431265       3\n",
       "..          ...     ...\n",
       "331  1438226485       1\n",
       "332  1452540367       1\n",
       "333  1455323168       1\n",
       "334  1455861274       1\n",
       "972  4283872382       1\n",
       "\n",
       "[973 rows x 2 columns]"
      ]
     },
     "metadata": {},
     "output_type": "display_data"
    }
   ],
   "source": [
    "# посчитаем количестово заказов на одного покупателя\n",
    "orders_per_user = orders.groupby('visitor_id', as_index=False)['transaction_id'].nunique()\n",
    "orders_per_user.columns = ['visitor_id', 'orders']\n",
    "display(orders_per_user.sort_values(by = 'orders',ascending=False))"
   ]
  },
  {
   "cell_type": "markdown",
   "metadata": {},
   "source": [
    "Посмотрим на распределение на графике"
   ]
  },
  {
   "cell_type": "code",
   "execution_count": 83,
   "metadata": {},
   "outputs": [
    {
     "data": {
      "image/png": "[encoded data removed]",
      "text/plain": [
       "<Figure size 720x432 with 1 Axes>"
      ]
     },
     "metadata": {
      "needs_background": "light"
     },
     "output_type": "display_data"
    }
   ],
   "source": [
    "x_values = pd.Series(range(0,len(orders_per_user)))\n",
    "plt.figure(figsize=(10, 6))\n",
    "plt.scatter(x_values, orders_per_user['orders'], alpha=0.7)\n",
    "plt.xlabel('Пользователи')\n",
    "plt.ylabel('Количество заказов на одного пользователя')\n",
    "plt.title('Распределение заказов по количеству');"
   ]
  },
  {
   "cell_type": "markdown",
   "metadata": {},
   "source": [
    "Большинство покупателей заказывали только один раз  \n",
    "Два - три заказа реже  \n",
    "\n",
    "Посчитаем персентили количества заказов на одного пользователя:"
   ]
  },
  {
   "cell_type": "code",
   "execution_count": 84,
   "metadata": {
    "scrolled": true
   },
   "outputs": [
    {
     "name": "stdout",
     "output_type": "stream",
     "text": [
      "95 персентиль 1.0\n",
      "99 персентиль 2.0\n"
     ]
    }
   ],
   "source": [
    "print('95 персентиль', np.percentile(orders_per_user['orders'], 95))\n",
    "print('99 персентиль', np.percentile(orders_per_user['orders'], 99)) "
   ]
  },
  {
   "cell_type": "markdown",
   "metadata": {},
   "source": [
    "95% пользователей оформили 1 заказа и менее.  \n",
    "99% пользователей оформили 2 заказа и менее.  \n",
    "\n",
    "Уберем для анализа пользователей с количеством заказов более 2"
   ]
  },
  {
   "cell_type": "code",
   "execution_count": 85,
   "metadata": {},
   "outputs": [
    {
     "data": {
      "image/png": "[encoded data removed]",
      "text/plain": [
       "<Figure size 1152x288 with 2 Axes>"
      ]
     },
     "metadata": {
      "needs_background": "light"
     },
     "output_type": "display_data"
    }
   ],
   "source": [
    "# построим точеченую диаграмму распределения стоимости заказов\n",
    "\n",
    "\n",
    "plt.figure(figsize=(16, 4))\n",
    "\n",
    "ax1 = plt.subplot(1, 2, 1)\n",
    "x_values = pd.Series(range(0,len(orders)))\n",
    "plt.scatter(x_values, orders['revenue'], alpha=0.7)\n",
    "plt.xlabel('Заказы')\n",
    "plt.ylabel('Стоимость заказов')\n",
    "plt.title(' Распределение заказов по стоимости')\n",
    "\n",
    "# отфильтруем один заказ стоимостью 1 200 000;\n",
    "ax2 = plt.subplot(1, 2, 2)\n",
    "orders_filt = orders[orders['revenue']<1200000]\n",
    "x_values = pd.Series(range(0,len(orders_filt)))\n",
    "plt.scatter(x_values, orders_filt['revenue'], alpha=0.7)\n",
    "plt.xlabel('Заказы')\n",
    "plt.ylabel('Стоимость заказов')\n",
    "plt.title('Распределение заказов по стоимости');\n",
    "\n"
   ]
  },
  {
   "cell_type": "markdown",
   "metadata": {},
   "source": [
    "Большинство заказов стоимостью менее ~ 50 тысяч  \n",
    "Есть несколько аномально высоких значений ~ 200 тысяч и ~ 1.3 млн  \n",
    "\n",
    "Для более точной оценки посчитаем персентили:"
   ]
  },
  {
   "cell_type": "code",
   "execution_count": 86,
   "metadata": {},
   "outputs": [
    {
     "name": "stdout",
     "output_type": "stream",
     "text": [
      "95 персентиль 26785.0\n",
      "99 персентиль 53904.0\n"
     ]
    }
   ],
   "source": [
    "print('95 персентиль', np.percentile(orders['revenue'], 95))\n",
    "print('99 персентиль', np.percentile(orders['revenue'], 99)) "
   ]
  },
  {
   "cell_type": "markdown",
   "metadata": {},
   "source": [
    "95% заказов на сумму 27 000 и менее.  \n",
    "99% заказов на сумму 54 000 и менее.  \n",
    "\n",
    "Уберем для анализа пользователей с суммой заказов более 54000"
   ]
  },
  {
   "cell_type": "markdown",
   "metadata": {},
   "source": [
    "### Анализ A/B-теста"
   ]
  },
  {
   "cell_type": "markdown",
   "metadata": {},
   "source": [
    "Подготовим общую таблицу с данными"
   ]
  },
  {
   "cell_type": "code",
   "execution_count": 87,
   "metadata": {},
   "outputs": [],
   "source": [
    "# отбор посетителей по группам по дням\n",
    "visitorsADaily = visitors[visitors['group'] == 'A'][['date', 'visitors']]\n",
    "visitorsADaily.columns = ['date', 'visitorsPerDateA']\n",
    "\n",
    "visitorsBDaily = visitors[visitors['group'] == 'B'][['date', 'visitors']]\n",
    "visitorsBDaily.columns = ['date', 'visitorsPerDateB']"
   ]
  },
  {
   "cell_type": "markdown",
   "metadata": {},
   "source": [
    "#### Оценка статистической значимости различий в среднем количестве заказов на посетителя между группами по «сырым» данным\n"
   ]
  },
  {
   "cell_type": "markdown",
   "metadata": {},
   "source": [
    "  \n",
    "\n",
    "Сформулируем гипотезы.  \n",
    "H0 - различий в среднем количестве заказов между группами нет.  \n",
    "H1 - различия в среднем количестве заказов между группами есть.  \n",
    "alpha = 0.05"
   ]
  },
  {
   "cell_type": "code",
   "execution_count": 88,
   "metadata": {},
   "outputs": [],
   "source": [
    "# посчитаем количестово заказов на пользователя по каждому ID\n",
    "\n",
    "ordersByUsersA = (\n",
    "    orders[orders['group'] == 'A']\n",
    "    .groupby('visitor_id', as_index=False)\n",
    "    .agg({'transaction_id': pd.Series.nunique})\n",
    ")\n",
    "ordersByUsersA.columns = ['visitor_id', 'orders']\n",
    "\n",
    "ordersByUsersB = (\n",
    "    orders[orders['group'] == 'B']\n",
    "    .groupby('visitor_id', as_index=False)\n",
    "    .agg({'transaction_id': pd.Series.nunique})\n",
    ")\n",
    "ordersByUsersB.columns = ['visitor_id', 'orders']"
   ]
  },
  {
   "cell_type": "markdown",
   "metadata": {},
   "source": [
    "Для оценки статистической значимости будем использовать критерий Манна-Уитни, тк распределение заказов не является нормальным"
   ]
  },
  {
   "cell_type": "markdown",
   "metadata": {},
   "source": [
    "Объявим переменные sampleA и sampleB, в которых пользователям из разных групп будет соответствовать количество заказов.  \n",
    "Тем, кто ничего не заказал, будут соответствовать нули.  "
   ]
  },
  {
   "cell_type": "code",
   "execution_count": 89,
   "metadata": {},
   "outputs": [],
   "source": [
    "sampleA = pd.concat([ordersByUsersA['orders'],pd.Series(0, index=np.arange(\n",
    "                visitors[visitors['group']=='A']['visitors'].sum() - len(ordersByUsersA['orders'])), name='orders')],axis=0)\n",
    "\n",
    "sampleB = pd.concat([ordersByUsersB['orders'],pd.Series(0, index=np.arange(\n",
    "                visitors[visitors['group']=='B']['visitors'].sum() - len(ordersByUsersB['orders'])), name='orders')],axis=0)"
   ]
  },
  {
   "cell_type": "code",
   "execution_count": 90,
   "metadata": {},
   "outputs": [
    {
     "name": "stdout",
     "output_type": "stream",
     "text": [
      "p-value: 0.011\n",
      "Отношение среднего числа заказов на пользователя группы B к группе A: 0.160\n"
     ]
    }
   ],
   "source": [
    "print(\"p-value: {0:.3f}\".format(stats.mannwhitneyu(sampleA, sampleB)[1]))\n",
    "\n",
    "print(\"Отношение среднего числа заказов на пользователя группы B к группе A: {0:.3f}\".format(sampleB.mean()/sampleA.mean()-1))"
   ]
  },
  {
   "cell_type": "markdown",
   "metadata": {},
   "source": [
    "**Отвергаем нулевую гипотезу  \n",
    "Статистически значимые различия в среднем числе заказа на одного пользователя есть  \n",
    "Cреднее число заказов в группе B больше, чем в группе A на 16%**\n",
    "\n"
   ]
  },
  {
   "cell_type": "markdown",
   "metadata": {},
   "source": [
    "#### Оценка статистической значимости различий в среднем количестве заказов на посетителя между группами по «очищенным» данным\n"
   ]
  },
  {
   "cell_type": "markdown",
   "metadata": {},
   "source": [
    "\n",
    "Сформулируем гипотезы.  \n",
    "H0 - различий в среднем чеке между группами нет.  \n",
    "H1 - различия в среднем чеке между группами есть.  \n",
    "alpha = 0.05"
   ]
  },
  {
   "cell_type": "code",
   "execution_count": 91,
   "metadata": {
    "scrolled": true
   },
   "outputs": [
    {
     "name": "stdout",
     "output_type": "stream",
     "text": [
      "p-value: 0.829\n",
      "Отношение среднего чека группы B к группе A: 0.287\n"
     ]
    }
   ],
   "source": [
    "print('p-value: {0:.3f}'.format(\n",
    "                stats.mannwhitneyu(orders[orders['group']=='A']['revenue'], orders[orders['group']=='B']['revenue'])[1]))\n",
    "print('Отношение среднего чека группы B к группе A: {0:.3f}'.format(\n",
    "                orders[orders['group']=='B']['revenue'].mean()/orders[orders['group']=='A']['revenue'].mean()-1)) "
   ]
  },
  {
   "cell_type": "markdown",
   "metadata": {},
   "source": [
    "**Нет оснований отвергнуть нулевую гипотезу  \n",
    "Статистически значимых различий в среднем чеке нет  \n",
    "Можем предположить, что на разницу в среднем чеке могли повлиять аномальные значения**"
   ]
  },
  {
   "cell_type": "markdown",
   "metadata": {},
   "source": [
    "\n",
    "**Проведем тесты по очищенным данным**"
   ]
  },
  {
   "cell_type": "markdown",
   "metadata": {},
   "source": [
    "Посчитаем аномальных пользователей\n",
    " * заказов более 2\n",
    " * сумма заказа более 54000"
   ]
  },
  {
   "cell_type": "code",
   "execution_count": 92,
   "metadata": {},
   "outputs": [
    {
     "data": {
      "text/plain": [
       "1099    148427295\n",
       "55      249864742\n",
       "138     611059232\n",
       "949     887908475\n",
       "744     888512513\n",
       "Name: visitor_id, dtype: int64"
      ]
     },
     "metadata": {},
     "output_type": "display_data"
    },
    {
     "data": {
      "text/plain": [
       "16"
      ]
     },
     "metadata": {},
     "output_type": "display_data"
    }
   ],
   "source": [
    "usersWithManyOrders = orders_per_user[orders_per_user['orders'] > np.percentile(orders_per_user['orders'], 99)]['visitor_id']\n",
    "\n",
    "usersWithExpensiveOrders = orders[orders['revenue'] > np.percentile(orders['revenue'], 99)]['visitor_id']\n",
    "abnormalUsers = (\n",
    "    pd.concat([usersWithManyOrders, usersWithExpensiveOrders], axis=0)\n",
    "    .drop_duplicates()\n",
    "    .sort_values()\n",
    ")\n",
    "display(abnormalUsers.head(5))\n",
    "display(abnormalUsers.shape[0])"
   ]
  },
  {
   "cell_type": "code",
   "execution_count": 93,
   "metadata": {},
   "outputs": [
    {
     "name": "stdout",
     "output_type": "stream",
     "text": [
      "Количество аномальных пользователей в обеих группах: 16 из 973\n",
      "Доля аномальных пользователей в обеих группах: 1.64%\n"
     ]
    }
   ],
   "source": [
    "print('Количество аномальных пользователей в обеих группах:',\n",
    "                                                                abnormalUsers.shape[0], 'из', orders['visitor_id'].nunique ())\n",
    "print('Доля аномальных пользователей в обеих группах: {:.2f}%'.format(\n",
    "                                                                abnormalUsers.shape[0]*100/orders['visitor_id'].nunique ()))"
   ]
  },
  {
   "cell_type": "code",
   "execution_count": 94,
   "metadata": {},
   "outputs": [],
   "source": [
    "# отфильтруем выборки\n",
    "sampleAFiltered = pd.concat(\n",
    "[\n",
    "        ordersByUsersA[\n",
    "            np.logical_not(ordersByUsersA['visitor_id'].isin(abnormalUsers))\n",
    "        ]['orders'],\n",
    "        pd.Series(\n",
    "            0,\n",
    "            index=np.arange(\n",
    "                visitors[visitors['group']=='A']['visitors'].sum() - len(ordersByUsersA['orders'])\n",
    "            ),\n",
    "            name='orders',\n",
    "        ),\n",
    "    ],\n",
    "    axis=0,\n",
    ")\n",
    "\n",
    "sampleBFiltered = pd.concat(\n",
    "    [\n",
    "        ordersByUsersB[\n",
    "            np.logical_not(ordersByUsersB['visitor_id'].isin(abnormalUsers))\n",
    "        ]['orders'],\n",
    "        pd.Series(\n",
    "            0,\n",
    "            index=np.arange(\n",
    "                visitors[visitors['group']=='B']['visitors'].sum() - len(ordersByUsersB['orders'])\n",
    "            ),\n",
    "            name='orders',\n",
    "        ),\n",
    "    ],\n",
    "    axis=0,\n",
    ")"
   ]
  },
  {
   "cell_type": "markdown",
   "metadata": {},
   "source": [
    "#### Оценка статистической значимости различий в среднем чеке заказа между группами по «сырым» данным\n"
   ]
  },
  {
   "cell_type": "markdown",
   "metadata": {},
   "source": [
    "Сформулируем гипотезы.  \n",
    "H0 - различий в среднем количестве заказов между группами нет.  \n",
    "H1 - различия в среднем количестве заказов между группами есть.  \n",
    "alpha = 0.05"
   ]
  },
  {
   "cell_type": "code",
   "execution_count": 95,
   "metadata": {
    "scrolled": false
   },
   "outputs": [
    {
     "name": "stdout",
     "output_type": "stream",
     "text": [
      "p-value: 0.007\n",
      "Отношение среднего числа заказов на пользователя группы B к группе A: 0.189\n"
     ]
    }
   ],
   "source": [
    "print('p-value: {0:.3f}'.format(stats.mannwhitneyu(sampleAFiltered, sampleBFiltered)[1]))\n",
    "print('Отношение среднего числа заказов на пользователя группы B к группе A: {0:.3f}'.format(\n",
    "                                                                    sampleBFiltered.mean()/sampleAFiltered.mean()-1))"
   ]
  },
  {
   "cell_type": "markdown",
   "metadata": {},
   "source": [
    "**Отвергаем нулевую гипотезу  \n",
    "Статистические различия в среднем числе заказа на одного пользователя есть  \n",
    "Cреднее число заказов в группе B больше, чем в группе A на 18.9%**"
   ]
  },
  {
   "cell_type": "markdown",
   "metadata": {},
   "source": [
    "**Общий вывод не изменился:**  \n",
    " * **p-value не превышает уровень значимости в 5%**  \n",
    " * **cтатистические различия в среднем числе заказов есть** \n",
    " \n",
    "**Относительная разница в среднем числе заказов увеличилась с 16% до 18.9%**"
   ]
  },
  {
   "cell_type": "markdown",
   "metadata": {},
   "source": [
    "#### Оценка статистической значимости различий в среднем чеке заказа между группами по «очищенным» данным"
   ]
  },
  {
   "cell_type": "markdown",
   "metadata": {},
   "source": [
    "\n",
    "Сформулируем гипотезы.  \n",
    "H0 - различий в среднем чеке между группами нет.  \n",
    "H1 - различия в среднем чеке между группами есть.  \n",
    "alpha = 0.05"
   ]
  },
  {
   "cell_type": "code",
   "execution_count": 96,
   "metadata": {},
   "outputs": [
    {
     "name": "stdout",
     "output_type": "stream",
     "text": [
      "p-value: 0.788\n",
      "Отношение среднего чека группы B к группе A: -0.032\n"
     ]
    }
   ],
   "source": [
    "print('p-value: {0:.3f}'.format(\n",
    "        stats.mannwhitneyu(orders[np.logical_and(orders['group'] == 'A',\n",
    "            np.logical_not(orders['visitor_id'].isin(abnormalUsers)),)]['revenue'],orders[\n",
    "            np.logical_and(orders['group'] == 'B',np.logical_not(orders['visitor_id'].isin(abnormalUsers)),)]['revenue'],)[1]))\n",
    "\n",
    "print(\"Отношение среднего чека группы B к группе A: {0:.3f}\".format(\n",
    "        orders[np.logical_and(orders['group'] == 'B',\n",
    "             np.logical_not(orders['visitor_id'].isin(abnormalUsers)),)]['revenue'].mean()/ orders[\n",
    "             np.logical_and(orders['group'] == 'A',\n",
    "             np.logical_not(orders['visitor_id'].isin(abnormalUsers)),)]['revenue'].mean()- 1))"
   ]
  },
  {
   "cell_type": "markdown",
   "metadata": {},
   "source": [
    "**Нет оснований отвергнуть нулевую гипотезу  \n",
    "Статистических различий в среднем чеке нет** "
   ]
  },
  {
   "cell_type": "markdown",
   "metadata": {},
   "source": [
    "**p-value увеличился после исключения данных с 70 до 82% и выше  уровня значимости в 5%  \n",
    "Превосходство группы B исчезло (было +28.7%, стало -3.2%)**  \n",
    "\n",
    "**Значит на исходные данные сильное влияние оказали аномалии и в реальности деле средний чек группы B сопоставим с группой A**"
   ]
  },
  {
   "cell_type": "markdown",
   "metadata": {},
   "source": [
    "### Анализ кумулятивной выручки без учета аномальных значений"
   ]
  },
  {
   "cell_type": "markdown",
   "metadata": {},
   "source": [
    " Визуализируем динамику кумулятивной выручки без учета аномальных значений и посчитаем прирост на конец периода"
   ]
  },
  {
   "cell_type": "code",
   "execution_count": 97,
   "metadata": {},
   "outputs": [],
   "source": [
    "# отфильтруем данные\n",
    "orders_filtered = orders [np.logical_not(orders['visitor_id'].isin(abnormalUsers))]\n",
    "\n",
    "# получим агрегированные кумулятивные данные о заказах по дням\n",
    "revenue_cum2 = datesgroups.apply(\n",
    "    lambda x: orders_filtered [np.logical_and(\n",
    "        orders_filtered['date']<=x['date'],orders_filtered['group']==x['group'])].agg({'date': 'max',\n",
    "                                                                    'group': 'max',\n",
    "                                                                    'transaction_id': 'nunique',\n",
    "                                                                    'visitor_id': 'nunique',\n",
    "                                                                    'revenue': 'sum'}),axis=1).sort_values(by=['date','group'])\n",
    "\n",
    "\n",
    "# получим агрегированные кумулятивные данные о посетителях по дням\n",
    "visitors_cum2 = datesgroups.apply(\n",
    "    lambda x: visitors [np.logical_and(\n",
    "        visitors['date']<=x['date'],visitors['group']==x['group'])].agg({'date': 'max',\n",
    "                                                                    'group': 'max',\n",
    "                                                                    'visitors': 'sum'}),axis=1).sort_values(by=['date','group'])\n",
    "\n",
    "# объединим кумулятивные данные в одной таблице и присваивоим ее столбцам понятные названия\n",
    "data_cum2 = revenue_cum2.merge(visitors_cum2, left_on = ['date','group'], right_on = ['date','group'])\n",
    "data_cum2.columns = ['date', 'group', 'orders', 'buyers', 'revenue', 'visitors']"
   ]
  },
  {
   "cell_type": "code",
   "execution_count": 98,
   "metadata": {},
   "outputs": [
    {
     "data": {
      "image/png": "[encoded data removed]",
      "text/plain": [
       "<Figure size 720x432 with 1 Axes>"
      ]
     },
     "metadata": {
      "needs_background": "light"
     },
     "output_type": "display_data"
    }
   ],
   "source": [
    "#отберем данные по группам:\n",
    "data_cum_A2 = data_cum2[data_cum2['group']=='A']\n",
    "data_cum_B2 = data_cum2[data_cum2['group']=='B']\n",
    "#строим графики\n",
    "plt.figure(figsize=(10, 6))\n",
    "plt.plot(data_cum_A2['date'], data_cum_A2['revenue'], color='orange', label='A')\n",
    "plt.plot(data_cum_B2['date'], data_cum_B2['revenue'], label='B')\n",
    "plt.xticks(rotation=45)\n",
    "plt.xlabel('Дата')\n",
    "plt.ylabel('Выручка')\n",
    "plt.title('Динамика кумулятивной выручки без аномальных полльзователей')\n",
    "plt.legend()\n",
    "plt.show();"
   ]
  },
  {
   "cell_type": "code",
   "execution_count": 99,
   "metadata": {},
   "outputs": [
    {
     "name": "stdout",
     "output_type": "stream",
     "text": [
      "Прирост выручки на конец периода группы B к группе A: 16.2%\n"
     ]
    }
   ],
   "source": [
    "print(\"Прирост выручки на конец периода группы B к группе A: {0:.1f}%\".format(\n",
    "                                        (data_cum_B2['revenue'].max()*100/data_cum_A2['revenue'].max())-100))"
   ]
  },
  {
   "cell_type": "markdown",
   "metadata": {},
   "source": [
    "Проверим, насколько группы отличаются по количеству пользователей (после удаления аномальных значений)"
   ]
  },
  {
   "cell_type": "code",
   "execution_count": 100,
   "metadata": {},
   "outputs": [
    {
     "name": "stdout",
     "output_type": "stream",
     "text": [
      "Численность группы B больше группы A: 1.0%\n"
     ]
    }
   ],
   "source": [
    "print(\"Численность группы B больше группы A: {0:.1f}%\".format(\n",
    "            (visitors[visitors['group']=='B']['visitors'].sum()*100/visitors[visitors['group']=='A']['visitors'].sum())-100))"
   ]
  },
  {
   "cell_type": "markdown",
   "metadata": {},
   "source": [
    "Группа B больше группы A на 1%, поэтому можем оценить общий прирост выручки  \n",
    "Без учета аномальных пользователей выручка группы B была стабильно больше группы A  \n",
    "На конец периода прирост составил +16%"
   ]
  },
  {
   "cell_type": "markdown",
   "metadata": {},
   "source": [
    "## Вывод"
   ]
  },
  {
   "cell_type": "markdown",
   "metadata": {},
   "source": [
    "В ходе исследования был подготовлен и приоритезирован список гипотез для увеличения выручки  \n",
    "В результате был запущен A/B-тест для увеличения среднего количества заказов на посетителя и увеличения среднего чека  \n",
    "\n",
    "**Выводы**\n",
    "\n",
    "\n",
    "* Есть статистически значимое различие в среднем количестве заказов на посетителя между тестовой и контрольной группами как по сырым данным, так и после фильтрации аномалий  \n",
    " Среднее количество заказов группы B выше группы A на 13.8% по сырым данным и на 17.6% по очищенным\n",
    " \n",
    " * Нет статистически значимого различия по среднему чеку между тестовой и контрольной группами как по сырым данным, так и после фильтрации аномалий\n",
    " * Выручка группы B за период без учета аномальных пользователей выше группы A на 16%  \n",
    " \n",
    "Метрика среднего количества заказов зафиксировалась, поэтому тест можно остановить  \n",
    " \n",
    "Проведенное тестирование оказалось успешным и позволило увеличить выручку за счет увеличения числа заказов, но не повлиляло на средний чек  \n",
    " \n",
    "Необходимо отметить, что из исходной выборки мы удалили около 5% пользователей, тк они находились в обеих группах. Уменьшение выборки могло повлиять на результаты  \n",
    " \n",
    "Останавливаем тестирование и переходим к проверке следующей гипотезы для увеличения среднего чека\n",
    " \n",
    " \n",
    " \n",
    " \n",
    " \n",
    " "
   ]
  }
 ],
 "metadata": {
  "ExecuteTimeLog": [
   {
    "duration": 837,
    "start_time": "2022-12-20T16:50:28.801Z"
   },
   {
    "duration": 186,
    "start_time": "2022-12-20T16:56:11.891Z"
   },
   {
    "duration": 282,
    "start_time": "2022-12-20T16:58:16.228Z"
   },
   {
    "duration": 11,
    "start_time": "2022-12-20T16:58:26.743Z"
   },
   {
    "duration": 12,
    "start_time": "2022-12-20T16:59:04.789Z"
   },
   {
    "duration": 10,
    "start_time": "2022-12-20T17:04:45.896Z"
   },
   {
    "duration": 12,
    "start_time": "2022-12-20T17:05:15.450Z"
   },
   {
    "duration": 11,
    "start_time": "2022-12-20T17:06:32.680Z"
   },
   {
    "duration": 8,
    "start_time": "2022-12-20T17:06:42.482Z"
   },
   {
    "duration": 8,
    "start_time": "2022-12-20T17:57:36.101Z"
   },
   {
    "duration": 72,
    "start_time": "2022-12-20T17:59:55.510Z"
   },
   {
    "duration": 4,
    "start_time": "2022-12-20T18:00:21.467Z"
   },
   {
    "duration": 8,
    "start_time": "2022-12-20T18:00:23.004Z"
   },
   {
    "duration": 5,
    "start_time": "2022-12-20T18:02:42.475Z"
   },
   {
    "duration": 10,
    "start_time": "2022-12-20T18:02:43.321Z"
   },
   {
    "duration": 5,
    "start_time": "2022-12-20T18:03:02.609Z"
   },
   {
    "duration": 9,
    "start_time": "2022-12-20T18:03:03.109Z"
   },
   {
    "duration": 7,
    "start_time": "2022-12-20T18:05:41.145Z"
   },
   {
    "duration": 6,
    "start_time": "2022-12-20T18:06:36.663Z"
   },
   {
    "duration": 10,
    "start_time": "2022-12-20T18:08:55.556Z"
   },
   {
    "duration": 15,
    "start_time": "2022-12-20T18:10:20.994Z"
   },
   {
    "duration": 17,
    "start_time": "2022-12-20T18:11:21.177Z"
   },
   {
    "duration": 4,
    "start_time": "2022-12-20T18:13:43.285Z"
   },
   {
    "duration": 11,
    "start_time": "2022-12-20T18:13:54.250Z"
   },
   {
    "duration": 5,
    "start_time": "2022-12-20T18:16:53.173Z"
   },
   {
    "duration": 11,
    "start_time": "2022-12-20T18:16:54.287Z"
   },
   {
    "duration": 5,
    "start_time": "2022-12-20T18:18:56.827Z"
   },
   {
    "duration": 12,
    "start_time": "2022-12-20T18:18:57.813Z"
   },
   {
    "duration": 6,
    "start_time": "2022-12-20T18:20:15.421Z"
   },
   {
    "duration": 15,
    "start_time": "2022-12-20T18:20:16.255Z"
   },
   {
    "duration": 5,
    "start_time": "2022-12-20T18:20:30.382Z"
   },
   {
    "duration": 11,
    "start_time": "2022-12-20T18:20:31.033Z"
   },
   {
    "duration": 538,
    "start_time": "2022-12-20T18:22:49.142Z"
   },
   {
    "duration": 457,
    "start_time": "2022-12-20T18:23:00.483Z"
   },
   {
    "duration": 500,
    "start_time": "2022-12-20T18:23:10.231Z"
   },
   {
    "duration": 571,
    "start_time": "2022-12-20T18:23:18.165Z"
   },
   {
    "duration": 480,
    "start_time": "2022-12-20T18:23:37.707Z"
   },
   {
    "duration": 416,
    "start_time": "2022-12-20T18:23:54.486Z"
   },
   {
    "duration": 466,
    "start_time": "2022-12-20T18:24:03.812Z"
   },
   {
    "duration": 535,
    "start_time": "2022-12-20T18:24:17.812Z"
   },
   {
    "duration": 410,
    "start_time": "2022-12-20T18:25:41.928Z"
   },
   {
    "duration": 395,
    "start_time": "2022-12-20T18:25:59.479Z"
   },
   {
    "duration": 486,
    "start_time": "2022-12-20T18:26:25.958Z"
   },
   {
    "duration": 384,
    "start_time": "2022-12-20T18:34:16.299Z"
   },
   {
    "duration": 382,
    "start_time": "2022-12-20T18:35:11.862Z"
   },
   {
    "duration": 250,
    "start_time": "2022-12-20T18:35:46.195Z"
   },
   {
    "duration": 340,
    "start_time": "2022-12-20T18:35:55.417Z"
   },
   {
    "duration": 346,
    "start_time": "2022-12-20T18:40:06.770Z"
   },
   {
    "duration": 361,
    "start_time": "2022-12-20T18:40:14.830Z"
   },
   {
    "duration": 413,
    "start_time": "2022-12-20T18:40:36.791Z"
   },
   {
    "duration": 498,
    "start_time": "2022-12-20T18:40:45.380Z"
   },
   {
    "duration": 377,
    "start_time": "2022-12-20T18:41:29.056Z"
   },
   {
    "duration": 363,
    "start_time": "2022-12-20T18:49:24.004Z"
   },
   {
    "duration": 377,
    "start_time": "2022-12-20T18:49:58.895Z"
   },
   {
    "duration": 245,
    "start_time": "2022-12-20T18:51:43.627Z"
   },
   {
    "duration": 120,
    "start_time": "2022-12-20T18:53:51.717Z"
   },
   {
    "duration": 14,
    "start_time": "2022-12-20T18:54:11.972Z"
   },
   {
    "duration": 15,
    "start_time": "2022-12-20T18:55:40.766Z"
   },
   {
    "duration": 12,
    "start_time": "2022-12-20T18:59:40.505Z"
   },
   {
    "duration": 283,
    "start_time": "2022-12-20T19:04:49.008Z"
   },
   {
    "duration": 306,
    "start_time": "2022-12-20T19:06:10.425Z"
   },
   {
    "duration": 449,
    "start_time": "2022-12-20T19:06:20.368Z"
   },
   {
    "duration": 271,
    "start_time": "2022-12-20T19:08:37.764Z"
   },
   {
    "duration": 106,
    "start_time": "2022-12-20T19:10:44.647Z"
   },
   {
    "duration": 112,
    "start_time": "2022-12-20T19:10:49.777Z"
   },
   {
    "duration": 109,
    "start_time": "2022-12-20T19:10:54.270Z"
   },
   {
    "duration": 101,
    "start_time": "2022-12-20T19:11:20.030Z"
   },
   {
    "duration": 222,
    "start_time": "2022-12-20T19:12:40.101Z"
   },
   {
    "duration": 310,
    "start_time": "2022-12-20T19:12:56.909Z"
   },
   {
    "duration": 217,
    "start_time": "2022-12-20T19:13:02.036Z"
   },
   {
    "duration": 208,
    "start_time": "2022-12-20T19:13:15.055Z"
   },
   {
    "duration": 329,
    "start_time": "2022-12-20T19:13:26.647Z"
   },
   {
    "duration": 379,
    "start_time": "2022-12-20T19:14:05.519Z"
   },
   {
    "duration": 389,
    "start_time": "2022-12-20T19:14:19.375Z"
   },
   {
    "duration": 260,
    "start_time": "2022-12-20T19:16:07.139Z"
   },
   {
    "duration": 217,
    "start_time": "2022-12-20T19:16:18.802Z"
   },
   {
    "duration": 223,
    "start_time": "2022-12-20T19:16:28.901Z"
   },
   {
    "duration": 218,
    "start_time": "2022-12-20T19:16:44.226Z"
   },
   {
    "duration": 6,
    "start_time": "2022-12-20T19:19:44.206Z"
   },
   {
    "duration": 555,
    "start_time": "2022-12-20T19:20:08.167Z"
   },
   {
    "duration": 362,
    "start_time": "2022-12-20T19:20:40.404Z"
   },
   {
    "duration": 297,
    "start_time": "2022-12-20T19:21:27.924Z"
   },
   {
    "duration": 204,
    "start_time": "2022-12-20T20:18:50.393Z"
   },
   {
    "duration": 502,
    "start_time": "2022-12-20T20:19:43.249Z"
   },
   {
    "duration": 437,
    "start_time": "2022-12-20T20:19:49.225Z"
   },
   {
    "duration": 245,
    "start_time": "2022-12-20T20:19:55.000Z"
   },
   {
    "duration": 270,
    "start_time": "2022-12-20T20:20:02.155Z"
   },
   {
    "duration": 317,
    "start_time": "2022-12-20T20:22:29.906Z"
   },
   {
    "duration": 16,
    "start_time": "2022-12-20T20:32:54.773Z"
   },
   {
    "duration": 12,
    "start_time": "2022-12-20T20:33:24.721Z"
   },
   {
    "duration": 12,
    "start_time": "2022-12-20T20:33:33.880Z"
   },
   {
    "duration": 12,
    "start_time": "2022-12-20T20:34:20.883Z"
   },
   {
    "duration": 17,
    "start_time": "2022-12-20T20:34:27.649Z"
   },
   {
    "duration": 18,
    "start_time": "2022-12-20T20:36:56.001Z"
   },
   {
    "duration": 13,
    "start_time": "2022-12-20T20:37:31.101Z"
   },
   {
    "duration": 12,
    "start_time": "2022-12-20T20:39:04.311Z"
   },
   {
    "duration": 16,
    "start_time": "2022-12-20T20:39:16.862Z"
   },
   {
    "duration": 14,
    "start_time": "2022-12-20T20:40:31.810Z"
   },
   {
    "duration": 8,
    "start_time": "2022-12-20T20:40:46.279Z"
   },
   {
    "duration": 8,
    "start_time": "2022-12-20T20:40:49.324Z"
   },
   {
    "duration": 6,
    "start_time": "2022-12-20T21:19:19.927Z"
   },
   {
    "duration": 52,
    "start_time": "2022-12-20T21:31:20.821Z"
   },
   {
    "duration": 181,
    "start_time": "2022-12-20T21:31:28.423Z"
   },
   {
    "duration": 12,
    "start_time": "2022-12-20T21:31:42.743Z"
   },
   {
    "duration": 695,
    "start_time": "2022-12-20T21:35:20.189Z"
   },
   {
    "duration": 11,
    "start_time": "2022-12-20T21:35:30.605Z"
   },
   {
    "duration": 290,
    "start_time": "2022-12-20T21:44:23.467Z"
   },
   {
    "duration": 272,
    "start_time": "2022-12-20T21:45:20.063Z"
   },
   {
    "duration": 14,
    "start_time": "2022-12-20T21:45:36.147Z"
   },
   {
    "duration": 12,
    "start_time": "2022-12-20T21:47:23.299Z"
   },
   {
    "duration": 13,
    "start_time": "2022-12-20T21:47:51.190Z"
   },
   {
    "duration": 6,
    "start_time": "2022-12-20T21:49:20.280Z"
   },
   {
    "duration": 11,
    "start_time": "2022-12-20T21:53:00.429Z"
   },
   {
    "duration": 934,
    "start_time": "2022-12-20T21:53:10.869Z"
   },
   {
    "duration": 9,
    "start_time": "2022-12-20T21:53:22.973Z"
   },
   {
    "duration": 52,
    "start_time": "2022-12-20T21:55:25.369Z"
   },
   {
    "duration": 159,
    "start_time": "2022-12-20T21:56:32.702Z"
   },
   {
    "duration": 177,
    "start_time": "2022-12-20T21:58:49.612Z"
   },
   {
    "duration": 164,
    "start_time": "2022-12-20T21:59:19.200Z"
   },
   {
    "duration": 164,
    "start_time": "2022-12-20T22:01:14.650Z"
   },
   {
    "duration": 195,
    "start_time": "2022-12-20T22:04:18.848Z"
   },
   {
    "duration": 205,
    "start_time": "2022-12-20T22:05:28.153Z"
   },
   {
    "duration": 212,
    "start_time": "2022-12-20T22:06:24.367Z"
   },
   {
    "duration": 189,
    "start_time": "2022-12-20T22:06:41.820Z"
   },
   {
    "duration": 402,
    "start_time": "2022-12-20T22:06:52.699Z"
   },
   {
    "duration": 3,
    "start_time": "2022-12-20T22:08:45.082Z"
   },
   {
    "duration": 90,
    "start_time": "2022-12-20T22:08:45.087Z"
   },
   {
    "duration": 8,
    "start_time": "2022-12-20T22:08:45.179Z"
   },
   {
    "duration": 12,
    "start_time": "2022-12-20T22:08:45.188Z"
   },
   {
    "duration": 9,
    "start_time": "2022-12-20T22:08:45.203Z"
   },
   {
    "duration": 11,
    "start_time": "2022-12-20T22:08:45.214Z"
   },
   {
    "duration": 10,
    "start_time": "2022-12-20T22:08:45.227Z"
   },
   {
    "duration": 12,
    "start_time": "2022-12-20T22:08:45.239Z"
   },
   {
    "duration": 31,
    "start_time": "2022-12-20T22:08:45.252Z"
   },
   {
    "duration": 13,
    "start_time": "2022-12-20T22:08:45.284Z"
   },
   {
    "duration": 16,
    "start_time": "2022-12-20T22:08:45.299Z"
   },
   {
    "duration": 6,
    "start_time": "2022-12-20T22:08:45.317Z"
   },
   {
    "duration": 10,
    "start_time": "2022-12-20T22:08:45.326Z"
   },
   {
    "duration": 520,
    "start_time": "2022-12-20T22:08:45.338Z"
   },
   {
    "duration": 309,
    "start_time": "2022-12-20T22:08:45.860Z"
   },
   {
    "duration": 221,
    "start_time": "2022-12-20T22:08:46.171Z"
   },
   {
    "duration": 277,
    "start_time": "2022-12-20T22:08:46.394Z"
   },
   {
    "duration": 317,
    "start_time": "2022-12-20T22:08:46.677Z"
   },
   {
    "duration": 497,
    "start_time": "2022-12-20T22:08:46.996Z"
   },
   {
    "duration": 12,
    "start_time": "2022-12-20T22:08:47.494Z"
   },
   {
    "duration": 16,
    "start_time": "2022-12-20T22:08:47.508Z"
   },
   {
    "duration": 295,
    "start_time": "2022-12-20T22:08:47.526Z"
   },
   {
    "duration": 7,
    "start_time": "2022-12-20T22:08:47.823Z"
   },
   {
    "duration": 193,
    "start_time": "2022-12-20T22:08:47.831Z"
   },
   {
    "duration": 0,
    "start_time": "2022-12-20T22:08:48.026Z"
   },
   {
    "duration": 0,
    "start_time": "2022-12-20T22:08:48.027Z"
   },
   {
    "duration": 175,
    "start_time": "2022-12-20T22:09:31.161Z"
   },
   {
    "duration": 3,
    "start_time": "2022-12-20T22:10:09.238Z"
   },
   {
    "duration": 79,
    "start_time": "2022-12-20T22:10:09.243Z"
   },
   {
    "duration": 8,
    "start_time": "2022-12-20T22:10:09.323Z"
   },
   {
    "duration": 15,
    "start_time": "2022-12-20T22:10:09.333Z"
   },
   {
    "duration": 10,
    "start_time": "2022-12-20T22:10:09.350Z"
   },
   {
    "duration": 12,
    "start_time": "2022-12-20T22:10:09.362Z"
   },
   {
    "duration": 11,
    "start_time": "2022-12-20T22:10:09.375Z"
   },
   {
    "duration": 14,
    "start_time": "2022-12-20T22:10:09.387Z"
   },
   {
    "duration": 8,
    "start_time": "2022-12-20T22:10:09.403Z"
   },
   {
    "duration": 11,
    "start_time": "2022-12-20T22:10:09.412Z"
   },
   {
    "duration": 18,
    "start_time": "2022-12-20T22:10:09.424Z"
   },
   {
    "duration": 5,
    "start_time": "2022-12-20T22:10:09.444Z"
   },
   {
    "duration": 27,
    "start_time": "2022-12-20T22:10:09.451Z"
   },
   {
    "duration": 506,
    "start_time": "2022-12-20T22:10:09.480Z"
   },
   {
    "duration": 294,
    "start_time": "2022-12-20T22:10:09.988Z"
   },
   {
    "duration": 223,
    "start_time": "2022-12-20T22:10:10.284Z"
   },
   {
    "duration": 280,
    "start_time": "2022-12-20T22:10:10.509Z"
   },
   {
    "duration": 489,
    "start_time": "2022-12-20T22:10:10.791Z"
   },
   {
    "duration": 334,
    "start_time": "2022-12-20T22:10:11.282Z"
   },
   {
    "duration": 12,
    "start_time": "2022-12-20T22:10:11.618Z"
   },
   {
    "duration": 14,
    "start_time": "2022-12-20T22:10:11.631Z"
   },
   {
    "duration": 308,
    "start_time": "2022-12-20T22:10:11.646Z"
   },
   {
    "duration": 7,
    "start_time": "2022-12-20T22:10:11.956Z"
   },
   {
    "duration": 188,
    "start_time": "2022-12-20T22:10:11.964Z"
   },
   {
    "duration": 0,
    "start_time": "2022-12-20T22:10:12.154Z"
   },
   {
    "duration": 3,
    "start_time": "2022-12-20T22:10:56.977Z"
   },
   {
    "duration": 182,
    "start_time": "2022-12-20T22:11:03.410Z"
   },
   {
    "duration": 7,
    "start_time": "2022-12-20T22:11:25.334Z"
   },
   {
    "duration": 188,
    "start_time": "2022-12-20T22:11:27.734Z"
   },
   {
    "duration": 152,
    "start_time": "2022-12-20T22:13:00.337Z"
   },
   {
    "duration": 215,
    "start_time": "2022-12-20T22:13:45.077Z"
   },
   {
    "duration": 155,
    "start_time": "2022-12-20T22:14:19.991Z"
   },
   {
    "duration": 13,
    "start_time": "2022-12-20T22:14:36.336Z"
   },
   {
    "duration": 201,
    "start_time": "2022-12-20T22:14:42.840Z"
   },
   {
    "duration": 174,
    "start_time": "2022-12-20T22:14:53.630Z"
   },
   {
    "duration": 197,
    "start_time": "2022-12-20T22:14:59.303Z"
   },
   {
    "duration": 204,
    "start_time": "2022-12-20T22:15:05.399Z"
   },
   {
    "duration": 701,
    "start_time": "2022-12-20T22:18:20.275Z"
   },
   {
    "duration": 14,
    "start_time": "2022-12-20T22:18:48.977Z"
   },
   {
    "duration": 174,
    "start_time": "2022-12-20T22:19:02.625Z"
   },
   {
    "duration": 181,
    "start_time": "2022-12-20T22:20:07.009Z"
   },
   {
    "duration": 220,
    "start_time": "2022-12-20T22:21:00.393Z"
   },
   {
    "duration": 187,
    "start_time": "2022-12-20T22:21:13.869Z"
   },
   {
    "duration": 46,
    "start_time": "2022-12-21T06:39:09.412Z"
   },
   {
    "duration": 919,
    "start_time": "2022-12-21T06:39:18.386Z"
   },
   {
    "duration": 209,
    "start_time": "2022-12-21T06:39:19.307Z"
   },
   {
    "duration": 14,
    "start_time": "2022-12-21T06:39:19.518Z"
   },
   {
    "duration": 19,
    "start_time": "2022-12-21T06:39:19.534Z"
   },
   {
    "duration": 9,
    "start_time": "2022-12-21T06:39:19.555Z"
   },
   {
    "duration": 17,
    "start_time": "2022-12-21T06:39:19.567Z"
   },
   {
    "duration": 14,
    "start_time": "2022-12-21T06:39:19.586Z"
   },
   {
    "duration": 16,
    "start_time": "2022-12-21T06:39:19.602Z"
   },
   {
    "duration": 12,
    "start_time": "2022-12-21T06:39:19.620Z"
   },
   {
    "duration": 13,
    "start_time": "2022-12-21T06:39:19.636Z"
   },
   {
    "duration": 40,
    "start_time": "2022-12-21T06:39:19.651Z"
   },
   {
    "duration": 9,
    "start_time": "2022-12-21T06:39:19.693Z"
   },
   {
    "duration": 21,
    "start_time": "2022-12-21T06:39:19.704Z"
   },
   {
    "duration": 608,
    "start_time": "2022-12-21T06:39:19.727Z"
   },
   {
    "duration": 501,
    "start_time": "2022-12-21T06:39:20.336Z"
   },
   {
    "duration": 267,
    "start_time": "2022-12-21T06:39:20.839Z"
   },
   {
    "duration": 259,
    "start_time": "2022-12-21T06:39:21.107Z"
   },
   {
    "duration": 313,
    "start_time": "2022-12-21T06:39:21.367Z"
   },
   {
    "duration": 342,
    "start_time": "2022-12-21T06:39:21.682Z"
   },
   {
    "duration": 13,
    "start_time": "2022-12-21T06:39:22.027Z"
   },
   {
    "duration": 20,
    "start_time": "2022-12-21T06:39:22.042Z"
   },
   {
    "duration": 314,
    "start_time": "2022-12-21T06:39:22.078Z"
   },
   {
    "duration": 10,
    "start_time": "2022-12-21T06:39:22.395Z"
   },
   {
    "duration": 15,
    "start_time": "2022-12-21T06:39:22.407Z"
   },
   {
    "duration": 344,
    "start_time": "2022-12-21T06:39:22.424Z"
   },
   {
    "duration": 267,
    "start_time": "2022-12-21T06:39:22.770Z"
   },
   {
    "duration": 201,
    "start_time": "2022-12-21T06:39:23.038Z"
   },
   {
    "duration": 0,
    "start_time": "2022-12-21T06:39:23.241Z"
   },
   {
    "duration": 152,
    "start_time": "2022-12-21T06:39:50.660Z"
   },
   {
    "duration": 12,
    "start_time": "2022-12-21T06:42:57.121Z"
   },
   {
    "duration": 186,
    "start_time": "2022-12-21T06:48:53.975Z"
   },
   {
    "duration": 9,
    "start_time": "2022-12-21T06:49:09.689Z"
   },
   {
    "duration": 164,
    "start_time": "2022-12-21T06:51:40.173Z"
   },
   {
    "duration": 154,
    "start_time": "2022-12-21T06:52:54.750Z"
   },
   {
    "duration": 204,
    "start_time": "2022-12-21T06:53:12.343Z"
   },
   {
    "duration": 190,
    "start_time": "2022-12-21T06:53:43.450Z"
   },
   {
    "duration": 380,
    "start_time": "2022-12-21T06:54:20.737Z"
   },
   {
    "duration": 184,
    "start_time": "2022-12-21T06:55:02.011Z"
   },
   {
    "duration": 11,
    "start_time": "2022-12-21T06:56:29.265Z"
   },
   {
    "duration": 4,
    "start_time": "2022-12-21T06:57:40.912Z"
   },
   {
    "duration": 311,
    "start_time": "2022-12-21T06:57:44.702Z"
   },
   {
    "duration": 185,
    "start_time": "2022-12-21T06:57:47.151Z"
   },
   {
    "duration": 290,
    "start_time": "2022-12-21T06:57:49.195Z"
   },
   {
    "duration": 12,
    "start_time": "2022-12-21T06:57:53.720Z"
   },
   {
    "duration": 16,
    "start_time": "2022-12-21T06:58:03.957Z"
   },
   {
    "duration": 205,
    "start_time": "2022-12-21T07:12:51.841Z"
   },
   {
    "duration": 207,
    "start_time": "2022-12-21T07:22:15.940Z"
   },
   {
    "duration": 207,
    "start_time": "2022-12-21T07:22:35.309Z"
   },
   {
    "duration": 199,
    "start_time": "2022-12-21T07:26:19.960Z"
   },
   {
    "duration": 190,
    "start_time": "2022-12-21T07:26:35.744Z"
   },
   {
    "duration": 263,
    "start_time": "2022-12-21T07:30:21.903Z"
   },
   {
    "duration": 192,
    "start_time": "2022-12-21T07:31:29.939Z"
   },
   {
    "duration": 233,
    "start_time": "2022-12-21T07:31:46.195Z"
   },
   {
    "duration": 387,
    "start_time": "2022-12-21T07:34:42.370Z"
   },
   {
    "duration": 9,
    "start_time": "2022-12-21T07:52:31.923Z"
   },
   {
    "duration": 12,
    "start_time": "2022-12-21T07:52:54.367Z"
   },
   {
    "duration": 11,
    "start_time": "2022-12-21T07:53:08.667Z"
   },
   {
    "duration": 27,
    "start_time": "2022-12-21T07:53:57.192Z"
   },
   {
    "duration": 7,
    "start_time": "2022-12-21T07:53:59.508Z"
   },
   {
    "duration": 11,
    "start_time": "2022-12-21T07:54:47.986Z"
   },
   {
    "duration": 10,
    "start_time": "2022-12-21T07:55:45.508Z"
   },
   {
    "duration": 10,
    "start_time": "2022-12-21T07:56:04.919Z"
   },
   {
    "duration": 11,
    "start_time": "2022-12-21T07:57:08.646Z"
   },
   {
    "duration": 17,
    "start_time": "2022-12-21T07:58:33.599Z"
   },
   {
    "duration": 8,
    "start_time": "2022-12-21T08:07:10.399Z"
   },
   {
    "duration": 6,
    "start_time": "2022-12-21T08:11:51.239Z"
   },
   {
    "duration": 7,
    "start_time": "2022-12-21T08:13:15.425Z"
   },
   {
    "duration": 18,
    "start_time": "2022-12-21T08:17:33.939Z"
   },
   {
    "duration": 11,
    "start_time": "2022-12-21T08:17:48.338Z"
   },
   {
    "duration": 1147,
    "start_time": "2022-12-21T08:18:48.836Z"
   },
   {
    "duration": 5,
    "start_time": "2022-12-21T08:19:00.342Z"
   },
   {
    "duration": 7,
    "start_time": "2022-12-21T08:19:07.066Z"
   },
   {
    "duration": 9,
    "start_time": "2022-12-21T08:19:31.594Z"
   },
   {
    "duration": 4,
    "start_time": "2022-12-21T09:32:02.730Z"
   },
   {
    "duration": 5,
    "start_time": "2022-12-21T09:34:22.580Z"
   },
   {
    "duration": 9,
    "start_time": "2022-12-21T09:35:23.459Z"
   },
   {
    "duration": 6,
    "start_time": "2022-12-21T09:35:42.630Z"
   },
   {
    "duration": 5,
    "start_time": "2022-12-21T09:37:02.189Z"
   },
   {
    "duration": 5,
    "start_time": "2022-12-21T09:37:07.484Z"
   },
   {
    "duration": 9,
    "start_time": "2022-12-21T09:37:22.088Z"
   },
   {
    "duration": 6,
    "start_time": "2022-12-21T09:37:27.543Z"
   },
   {
    "duration": 5,
    "start_time": "2022-12-21T09:37:49.482Z"
   },
   {
    "duration": 5,
    "start_time": "2022-12-21T09:38:43.601Z"
   },
   {
    "duration": 5,
    "start_time": "2022-12-21T09:39:05.544Z"
   },
   {
    "duration": 8,
    "start_time": "2022-12-21T09:39:27.461Z"
   },
   {
    "duration": 12,
    "start_time": "2022-12-21T09:40:39.982Z"
   },
   {
    "duration": 23,
    "start_time": "2022-12-21T09:40:52.247Z"
   },
   {
    "duration": 9,
    "start_time": "2022-12-21T09:41:26.761Z"
   },
   {
    "duration": 322,
    "start_time": "2022-12-21T09:56:55.108Z"
   },
   {
    "duration": 12,
    "start_time": "2022-12-21T09:58:20.473Z"
   },
   {
    "duration": 3,
    "start_time": "2022-12-21T09:58:34.611Z"
   },
   {
    "duration": 90,
    "start_time": "2022-12-21T09:58:34.615Z"
   },
   {
    "duration": 9,
    "start_time": "2022-12-21T09:58:34.707Z"
   },
   {
    "duration": 12,
    "start_time": "2022-12-21T09:58:34.718Z"
   },
   {
    "duration": 8,
    "start_time": "2022-12-21T09:58:34.732Z"
   },
   {
    "duration": 15,
    "start_time": "2022-12-21T09:58:34.741Z"
   },
   {
    "duration": 9,
    "start_time": "2022-12-21T09:58:34.758Z"
   },
   {
    "duration": 12,
    "start_time": "2022-12-21T09:58:34.769Z"
   },
   {
    "duration": 7,
    "start_time": "2022-12-21T09:58:34.783Z"
   },
   {
    "duration": 11,
    "start_time": "2022-12-21T09:58:34.792Z"
   },
   {
    "duration": 21,
    "start_time": "2022-12-21T09:58:34.805Z"
   },
   {
    "duration": 7,
    "start_time": "2022-12-21T09:58:34.827Z"
   },
   {
    "duration": 13,
    "start_time": "2022-12-21T09:58:34.837Z"
   },
   {
    "duration": 487,
    "start_time": "2022-12-21T09:58:34.852Z"
   },
   {
    "duration": 286,
    "start_time": "2022-12-21T09:58:35.340Z"
   },
   {
    "duration": 243,
    "start_time": "2022-12-21T09:58:35.628Z"
   },
   {
    "duration": 12,
    "start_time": "2022-12-21T09:58:35.873Z"
   },
   {
    "duration": 25,
    "start_time": "2022-12-21T09:58:35.887Z"
   },
   {
    "duration": 10,
    "start_time": "2022-12-21T09:58:35.913Z"
   },
   {
    "duration": 386,
    "start_time": "2022-12-21T09:58:35.925Z"
   },
   {
    "duration": 299,
    "start_time": "2022-12-21T09:58:36.312Z"
   },
   {
    "duration": 11,
    "start_time": "2022-12-21T09:58:36.613Z"
   },
   {
    "duration": 21,
    "start_time": "2022-12-21T09:58:36.625Z"
   },
   {
    "duration": 269,
    "start_time": "2022-12-21T09:58:36.648Z"
   },
   {
    "duration": 5,
    "start_time": "2022-12-21T09:58:36.918Z"
   },
   {
    "duration": 16,
    "start_time": "2022-12-21T09:58:36.924Z"
   },
   {
    "duration": 194,
    "start_time": "2022-12-21T09:58:36.942Z"
   },
   {
    "duration": 193,
    "start_time": "2022-12-21T09:58:37.138Z"
   },
   {
    "duration": 308,
    "start_time": "2022-12-21T09:58:37.333Z"
   },
   {
    "duration": 223,
    "start_time": "2022-12-21T09:58:37.643Z"
   },
   {
    "duration": 295,
    "start_time": "2022-12-21T09:58:37.868Z"
   },
   {
    "duration": 22,
    "start_time": "2022-12-21T09:58:38.165Z"
   },
   {
    "duration": 8,
    "start_time": "2022-12-21T10:11:43.111Z"
   },
   {
    "duration": 8,
    "start_time": "2022-12-21T10:12:18.522Z"
   },
   {
    "duration": 7,
    "start_time": "2022-12-21T10:12:35.813Z"
   },
   {
    "duration": 7,
    "start_time": "2022-12-21T10:12:41.048Z"
   },
   {
    "duration": 7,
    "start_time": "2022-12-21T10:16:09.612Z"
   },
   {
    "duration": 5,
    "start_time": "2022-12-21T10:16:46.280Z"
   },
   {
    "duration": 6,
    "start_time": "2022-12-21T10:16:55.813Z"
   },
   {
    "duration": 6,
    "start_time": "2022-12-21T10:17:35.232Z"
   },
   {
    "duration": 7,
    "start_time": "2022-12-21T10:17:53.343Z"
   },
   {
    "duration": 7,
    "start_time": "2022-12-21T10:17:58.578Z"
   },
   {
    "duration": 12,
    "start_time": "2022-12-21T10:19:09.702Z"
   },
   {
    "duration": 7,
    "start_time": "2022-12-21T10:19:16.079Z"
   },
   {
    "duration": 8,
    "start_time": "2022-12-21T10:19:42.878Z"
   },
   {
    "duration": 868,
    "start_time": "2022-12-21T10:20:30.403Z"
   },
   {
    "duration": 7,
    "start_time": "2022-12-21T10:20:42.144Z"
   },
   {
    "duration": 11,
    "start_time": "2022-12-21T10:21:18.514Z"
   },
   {
    "duration": 14,
    "start_time": "2022-12-21T10:21:39.449Z"
   },
   {
    "duration": 123,
    "start_time": "2022-12-21T10:21:46.527Z"
   },
   {
    "duration": 125,
    "start_time": "2022-12-21T10:21:52.136Z"
   },
   {
    "duration": 199,
    "start_time": "2022-12-21T10:22:13.520Z"
   },
   {
    "duration": 152,
    "start_time": "2022-12-21T10:24:30.559Z"
   },
   {
    "duration": 183,
    "start_time": "2022-12-21T10:24:44.069Z"
   },
   {
    "duration": 5,
    "start_time": "2022-12-21T10:26:45.134Z"
   },
   {
    "duration": 7,
    "start_time": "2022-12-21T10:31:35.711Z"
   },
   {
    "duration": 5,
    "start_time": "2022-12-21T10:32:22.559Z"
   },
   {
    "duration": 1076,
    "start_time": "2022-12-21T10:51:58.155Z"
   },
   {
    "duration": 152,
    "start_time": "2022-12-21T10:52:07.869Z"
   },
   {
    "duration": 185,
    "start_time": "2022-12-21T10:55:16.078Z"
   },
   {
    "duration": 75,
    "start_time": "2022-12-21T10:57:39.748Z"
   },
   {
    "duration": 173,
    "start_time": "2022-12-21T10:57:45.945Z"
   },
   {
    "duration": 151,
    "start_time": "2022-12-21T10:57:53.563Z"
   },
   {
    "duration": 161,
    "start_time": "2022-12-21T10:58:14.916Z"
   },
   {
    "duration": 146,
    "start_time": "2022-12-21T10:58:58.242Z"
   },
   {
    "duration": 324,
    "start_time": "2022-12-21T11:00:26.043Z"
   },
   {
    "duration": 218,
    "start_time": "2022-12-21T11:00:36.400Z"
   },
   {
    "duration": 5,
    "start_time": "2022-12-21T11:03:34.646Z"
   },
   {
    "duration": 70,
    "start_time": "2022-12-21T12:05:18.892Z"
   },
   {
    "duration": 407,
    "start_time": "2022-12-21T12:10:34.264Z"
   },
   {
    "duration": 17,
    "start_time": "2022-12-21T12:33:56.190Z"
   },
   {
    "duration": 5,
    "start_time": "2022-12-21T12:41:57.890Z"
   },
   {
    "duration": 9,
    "start_time": "2022-12-21T12:42:09.660Z"
   },
   {
    "duration": 8,
    "start_time": "2022-12-21T12:43:04.570Z"
   },
   {
    "duration": 73,
    "start_time": "2022-12-21T12:44:28.462Z"
   },
   {
    "duration": 70,
    "start_time": "2022-12-21T12:44:43.687Z"
   },
   {
    "duration": 35,
    "start_time": "2022-12-21T12:45:17.387Z"
   },
   {
    "duration": 16,
    "start_time": "2022-12-21T12:45:46.433Z"
   },
   {
    "duration": 14,
    "start_time": "2022-12-21T12:46:15.884Z"
   },
   {
    "duration": 19,
    "start_time": "2022-12-21T12:46:53.594Z"
   },
   {
    "duration": 69,
    "start_time": "2022-12-21T12:47:52.646Z"
   },
   {
    "duration": 17,
    "start_time": "2022-12-21T12:48:01.382Z"
   },
   {
    "duration": 11,
    "start_time": "2022-12-21T12:48:10.929Z"
   },
   {
    "duration": 23,
    "start_time": "2022-12-21T12:48:57.299Z"
   },
   {
    "duration": 9,
    "start_time": "2022-12-21T12:49:27.228Z"
   },
   {
    "duration": 102,
    "start_time": "2022-12-21T12:49:30.299Z"
   },
   {
    "duration": 28,
    "start_time": "2022-12-21T12:49:37.753Z"
   },
   {
    "duration": 10,
    "start_time": "2022-12-21T12:49:40.406Z"
   },
   {
    "duration": 39,
    "start_time": "2022-12-21T12:52:19.023Z"
   },
   {
    "duration": 11,
    "start_time": "2022-12-21T12:52:21.209Z"
   },
   {
    "duration": 51,
    "start_time": "2022-12-21T12:54:45.727Z"
   },
   {
    "duration": 13,
    "start_time": "2022-12-21T12:54:47.688Z"
   },
   {
    "duration": 76,
    "start_time": "2022-12-21T12:56:49.569Z"
   },
   {
    "duration": 15,
    "start_time": "2022-12-21T12:57:03.256Z"
   },
   {
    "duration": 19,
    "start_time": "2022-12-21T12:57:16.220Z"
   },
   {
    "duration": 7,
    "start_time": "2022-12-21T12:59:40.949Z"
   },
   {
    "duration": 37,
    "start_time": "2022-12-21T12:59:42.013Z"
   },
   {
    "duration": 11,
    "start_time": "2022-12-21T12:59:43.117Z"
   },
   {
    "duration": 18,
    "start_time": "2022-12-21T12:59:46.220Z"
   },
   {
    "duration": 18,
    "start_time": "2022-12-21T12:59:47.881Z"
   },
   {
    "duration": 39,
    "start_time": "2022-12-21T13:01:33.994Z"
   },
   {
    "duration": 30,
    "start_time": "2022-12-21T13:02:50.660Z"
   },
   {
    "duration": 14,
    "start_time": "2022-12-21T13:04:33.170Z"
   },
   {
    "duration": 93,
    "start_time": "2022-12-21T13:12:06.452Z"
   },
   {
    "duration": 154,
    "start_time": "2022-12-21T13:12:16.630Z"
   },
   {
    "duration": 10,
    "start_time": "2022-12-21T13:12:34.773Z"
   },
   {
    "duration": 69,
    "start_time": "2022-12-21T13:15:25.625Z"
   },
   {
    "duration": 69,
    "start_time": "2022-12-21T13:15:30.776Z"
   },
   {
    "duration": 6,
    "start_time": "2022-12-21T13:15:37.464Z"
   },
   {
    "duration": 6,
    "start_time": "2022-12-21T13:15:53.818Z"
   },
   {
    "duration": 6,
    "start_time": "2022-12-21T13:18:51.938Z"
   },
   {
    "duration": 5,
    "start_time": "2022-12-21T13:19:39.420Z"
   },
   {
    "duration": 6,
    "start_time": "2022-12-21T13:21:17.779Z"
   },
   {
    "duration": 4,
    "start_time": "2022-12-21T13:21:31.985Z"
   },
   {
    "duration": 13,
    "start_time": "2022-12-21T13:40:45.684Z"
   },
   {
    "duration": 3,
    "start_time": "2022-12-21T13:40:58.260Z"
   },
   {
    "duration": 9,
    "start_time": "2022-12-21T13:41:05.274Z"
   },
   {
    "duration": 4,
    "start_time": "2022-12-21T13:41:25.726Z"
   },
   {
    "duration": 21,
    "start_time": "2022-12-21T13:41:30.122Z"
   },
   {
    "duration": 54,
    "start_time": "2022-12-21T16:49:58.981Z"
   },
   {
    "duration": 1237,
    "start_time": "2022-12-21T16:50:02.695Z"
   },
   {
    "duration": 197,
    "start_time": "2022-12-21T16:50:03.934Z"
   },
   {
    "duration": 12,
    "start_time": "2022-12-21T16:50:04.133Z"
   },
   {
    "duration": 40,
    "start_time": "2022-12-21T16:50:04.147Z"
   },
   {
    "duration": 21,
    "start_time": "2022-12-21T16:50:04.189Z"
   },
   {
    "duration": 17,
    "start_time": "2022-12-21T16:50:04.212Z"
   },
   {
    "duration": 17,
    "start_time": "2022-12-21T16:50:04.231Z"
   },
   {
    "duration": 15,
    "start_time": "2022-12-21T16:50:04.250Z"
   },
   {
    "duration": 15,
    "start_time": "2022-12-21T16:50:04.267Z"
   },
   {
    "duration": 95,
    "start_time": "2022-12-21T16:50:04.286Z"
   },
   {
    "duration": 116,
    "start_time": "2022-12-21T16:50:04.383Z"
   },
   {
    "duration": 167,
    "start_time": "2022-12-21T16:50:04.500Z"
   },
   {
    "duration": 91,
    "start_time": "2022-12-21T16:50:04.669Z"
   },
   {
    "duration": 614,
    "start_time": "2022-12-21T16:50:04.762Z"
   },
   {
    "duration": 390,
    "start_time": "2022-12-21T16:50:05.378Z"
   },
   {
    "duration": 221,
    "start_time": "2022-12-21T16:50:05.769Z"
   },
   {
    "duration": 10,
    "start_time": "2022-12-21T16:50:05.991Z"
   },
   {
    "duration": 6,
    "start_time": "2022-12-21T16:50:06.002Z"
   },
   {
    "duration": 26,
    "start_time": "2022-12-21T16:50:06.009Z"
   },
   {
    "duration": 369,
    "start_time": "2022-12-21T16:50:06.037Z"
   },
   {
    "duration": 312,
    "start_time": "2022-12-21T16:50:06.407Z"
   },
   {
    "duration": 13,
    "start_time": "2022-12-21T16:50:06.721Z"
   },
   {
    "duration": 22,
    "start_time": "2022-12-21T16:50:06.736Z"
   },
   {
    "duration": 313,
    "start_time": "2022-12-21T16:50:06.759Z"
   },
   {
    "duration": 5,
    "start_time": "2022-12-21T16:50:07.075Z"
   },
   {
    "duration": 9,
    "start_time": "2022-12-21T16:50:07.081Z"
   },
   {
    "duration": 326,
    "start_time": "2022-12-21T16:50:07.092Z"
   },
   {
    "duration": 227,
    "start_time": "2022-12-21T16:50:07.422Z"
   },
   {
    "duration": 360,
    "start_time": "2022-12-21T16:50:07.650Z"
   },
   {
    "duration": 223,
    "start_time": "2022-12-21T16:50:08.011Z"
   },
   {
    "duration": 350,
    "start_time": "2022-12-21T16:50:08.236Z"
   },
   {
    "duration": 11,
    "start_time": "2022-12-21T16:50:08.588Z"
   },
   {
    "duration": 163,
    "start_time": "2022-12-21T16:50:08.601Z"
   },
   {
    "duration": 23,
    "start_time": "2022-12-21T16:50:08.766Z"
   },
   {
    "duration": 268,
    "start_time": "2022-12-21T16:50:08.791Z"
   },
   {
    "duration": 5,
    "start_time": "2022-12-21T16:50:09.061Z"
   },
   {
    "duration": 15,
    "start_time": "2022-12-21T16:50:09.068Z"
   },
   {
    "duration": 36,
    "start_time": "2022-12-21T16:50:09.085Z"
   },
   {
    "duration": 23,
    "start_time": "2022-12-21T16:50:09.123Z"
   },
   {
    "duration": 189,
    "start_time": "2022-12-21T16:50:09.148Z"
   },
   {
    "duration": 6,
    "start_time": "2022-12-21T16:50:09.338Z"
   },
   {
    "duration": 33,
    "start_time": "2022-12-21T16:50:09.345Z"
   },
   {
    "duration": 9,
    "start_time": "2022-12-21T16:50:09.380Z"
   },
   {
    "duration": 14,
    "start_time": "2022-12-21T16:50:09.390Z"
   },
   {
    "duration": 19,
    "start_time": "2022-12-21T16:50:09.406Z"
   },
   {
    "duration": 23,
    "start_time": "2022-12-21T16:50:40.593Z"
   },
   {
    "duration": 66,
    "start_time": "2022-12-21T16:54:44.397Z"
   },
   {
    "duration": 22,
    "start_time": "2022-12-21T16:55:35.672Z"
   },
   {
    "duration": 5,
    "start_time": "2022-12-21T16:55:51.828Z"
   },
   {
    "duration": 4,
    "start_time": "2022-12-21T16:56:42.948Z"
   },
   {
    "duration": 6,
    "start_time": "2022-12-21T16:56:49.870Z"
   },
   {
    "duration": 5,
    "start_time": "2022-12-21T16:57:05.739Z"
   },
   {
    "duration": 4,
    "start_time": "2022-12-21T16:57:44.725Z"
   },
   {
    "duration": 4,
    "start_time": "2022-12-21T16:57:51.172Z"
   },
   {
    "duration": 134,
    "start_time": "2022-12-21T16:58:16.742Z"
   },
   {
    "duration": 293,
    "start_time": "2022-12-21T16:58:25.409Z"
   },
   {
    "duration": 31,
    "start_time": "2022-12-21T17:08:37.353Z"
   },
   {
    "duration": 21,
    "start_time": "2022-12-21T17:09:59.443Z"
   },
   {
    "duration": 30,
    "start_time": "2022-12-21T17:10:28.068Z"
   },
   {
    "duration": 23,
    "start_time": "2022-12-21T17:10:36.693Z"
   },
   {
    "duration": 25,
    "start_time": "2022-12-21T17:10:45.812Z"
   },
   {
    "duration": 25,
    "start_time": "2022-12-21T17:10:53.752Z"
   },
   {
    "duration": 24,
    "start_time": "2022-12-21T17:36:32.008Z"
   },
   {
    "duration": 24,
    "start_time": "2022-12-21T17:37:50.454Z"
   },
   {
    "duration": 36,
    "start_time": "2022-12-21T17:38:22.879Z"
   },
   {
    "duration": 12,
    "start_time": "2022-12-21T17:38:26.442Z"
   },
   {
    "duration": 17,
    "start_time": "2022-12-21T17:45:55.155Z"
   },
   {
    "duration": 54,
    "start_time": "2022-12-21T18:04:52.038Z"
   },
   {
    "duration": 13,
    "start_time": "2022-12-21T18:21:49.209Z"
   },
   {
    "duration": 14,
    "start_time": "2022-12-21T18:34:14.829Z"
   },
   {
    "duration": 4,
    "start_time": "2022-12-21T18:36:03.114Z"
   },
   {
    "duration": 5,
    "start_time": "2022-12-21T18:36:10.976Z"
   },
   {
    "duration": 97,
    "start_time": "2022-12-21T18:36:44.110Z"
   },
   {
    "duration": 4,
    "start_time": "2022-12-21T18:36:51.891Z"
   },
   {
    "duration": 6,
    "start_time": "2022-12-21T18:37:29.507Z"
   },
   {
    "duration": 7,
    "start_time": "2022-12-21T18:38:39.649Z"
   },
   {
    "duration": 8,
    "start_time": "2022-12-21T18:45:51.023Z"
   },
   {
    "duration": 21,
    "start_time": "2022-12-21T18:48:22.307Z"
   },
   {
    "duration": 649,
    "start_time": "2022-12-21T18:54:47.951Z"
   },
   {
    "duration": 13,
    "start_time": "2022-12-21T18:55:10.948Z"
   },
   {
    "duration": 12,
    "start_time": "2022-12-21T18:59:03.461Z"
   },
   {
    "duration": 15,
    "start_time": "2022-12-21T19:03:12.495Z"
   },
   {
    "duration": 267,
    "start_time": "2022-12-21T20:27:59.547Z"
   },
   {
    "duration": 391,
    "start_time": "2022-12-21T20:29:32.618Z"
   },
   {
    "duration": 311,
    "start_time": "2022-12-21T20:31:34.392Z"
   },
   {
    "duration": 274,
    "start_time": "2022-12-21T20:33:03.519Z"
   },
   {
    "duration": 251,
    "start_time": "2022-12-21T20:33:18.293Z"
   },
   {
    "duration": 264,
    "start_time": "2022-12-21T20:33:53.892Z"
   },
   {
    "duration": 313,
    "start_time": "2022-12-21T20:34:26.621Z"
   },
   {
    "duration": 533,
    "start_time": "2022-12-21T20:37:43.488Z"
   },
   {
    "duration": 358,
    "start_time": "2022-12-21T20:38:35.403Z"
   },
   {
    "duration": 207,
    "start_time": "2022-12-21T21:35:44.930Z"
   },
   {
    "duration": 23,
    "start_time": "2022-12-21T21:49:13.359Z"
   },
   {
    "duration": 138,
    "start_time": "2022-12-21T21:50:08.666Z"
   },
   {
    "duration": 11,
    "start_time": "2022-12-21T21:52:39.499Z"
   },
   {
    "duration": 7,
    "start_time": "2022-12-21T21:52:44.019Z"
   },
   {
    "duration": 8,
    "start_time": "2022-12-21T21:52:53.781Z"
   },
   {
    "duration": 26,
    "start_time": "2022-12-21T21:53:04.692Z"
   },
   {
    "duration": 5,
    "start_time": "2022-12-21T21:53:56.413Z"
   },
   {
    "duration": 8,
    "start_time": "2022-12-21T21:54:08.573Z"
   },
   {
    "duration": 21,
    "start_time": "2022-12-21T21:54:15.451Z"
   },
   {
    "duration": 8,
    "start_time": "2022-12-21T21:55:02.061Z"
   },
   {
    "duration": 13,
    "start_time": "2022-12-21T21:58:28.095Z"
   },
   {
    "duration": 4,
    "start_time": "2022-12-21T21:59:53.077Z"
   },
   {
    "duration": 7,
    "start_time": "2022-12-21T22:00:08.147Z"
   },
   {
    "duration": 8,
    "start_time": "2022-12-21T22:00:11.212Z"
   },
   {
    "duration": 109,
    "start_time": "2022-12-21T22:03:07.654Z"
   },
   {
    "duration": 238,
    "start_time": "2022-12-21T22:10:00.345Z"
   },
   {
    "duration": 274,
    "start_time": "2022-12-21T22:10:06.974Z"
   },
   {
    "duration": 103,
    "start_time": "2022-12-21T22:10:37.512Z"
   },
   {
    "duration": 270,
    "start_time": "2022-12-21T22:11:06.324Z"
   },
   {
    "duration": 274,
    "start_time": "2022-12-21T22:12:48.129Z"
   },
   {
    "duration": 142,
    "start_time": "2022-12-21T22:13:17.381Z"
   },
   {
    "duration": 260,
    "start_time": "2022-12-21T22:13:45.509Z"
   },
   {
    "duration": 267,
    "start_time": "2022-12-21T22:14:32.715Z"
   },
   {
    "duration": 272,
    "start_time": "2022-12-21T22:14:40.841Z"
   },
   {
    "duration": 271,
    "start_time": "2022-12-21T22:14:51.998Z"
   },
   {
    "duration": 277,
    "start_time": "2022-12-21T22:15:00.162Z"
   },
   {
    "duration": 134,
    "start_time": "2022-12-21T22:15:16.516Z"
   },
   {
    "duration": 1256,
    "start_time": "2022-12-22T10:25:52.310Z"
   },
   {
    "duration": 184,
    "start_time": "2022-12-22T10:25:53.569Z"
   },
   {
    "duration": 12,
    "start_time": "2022-12-22T10:25:53.755Z"
   },
   {
    "duration": 11,
    "start_time": "2022-12-22T10:25:53.768Z"
   },
   {
    "duration": 11,
    "start_time": "2022-12-22T10:25:53.782Z"
   },
   {
    "duration": 13,
    "start_time": "2022-12-22T10:25:53.795Z"
   },
   {
    "duration": 10,
    "start_time": "2022-12-22T10:25:53.809Z"
   },
   {
    "duration": 10,
    "start_time": "2022-12-22T10:25:53.820Z"
   },
   {
    "duration": 14,
    "start_time": "2022-12-22T10:25:53.832Z"
   },
   {
    "duration": 20,
    "start_time": "2022-12-22T10:25:53.847Z"
   },
   {
    "duration": 23,
    "start_time": "2022-12-22T10:25:53.869Z"
   },
   {
    "duration": 7,
    "start_time": "2022-12-22T10:25:53.893Z"
   },
   {
    "duration": 14,
    "start_time": "2022-12-22T10:25:53.901Z"
   },
   {
    "duration": 525,
    "start_time": "2022-12-22T10:25:53.919Z"
   },
   {
    "duration": 397,
    "start_time": "2022-12-22T10:25:54.446Z"
   },
   {
    "duration": 288,
    "start_time": "2022-12-22T10:25:54.845Z"
   },
   {
    "duration": 12,
    "start_time": "2022-12-22T10:25:55.135Z"
   },
   {
    "duration": 440,
    "start_time": "2022-12-22T10:25:55.149Z"
   },
   {
    "duration": 402,
    "start_time": "2022-12-22T10:25:55.590Z"
   },
   {
    "duration": 13,
    "start_time": "2022-12-22T10:25:55.994Z"
   },
   {
    "duration": 16,
    "start_time": "2022-12-22T10:25:56.009Z"
   },
   {
    "duration": 311,
    "start_time": "2022-12-22T10:25:56.027Z"
   },
   {
    "duration": 5,
    "start_time": "2022-12-22T10:25:56.340Z"
   },
   {
    "duration": 25,
    "start_time": "2022-12-22T10:25:56.347Z"
   },
   {
    "duration": 226,
    "start_time": "2022-12-22T10:25:56.374Z"
   },
   {
    "duration": 215,
    "start_time": "2022-12-22T10:25:56.602Z"
   },
   {
    "duration": 386,
    "start_time": "2022-12-22T10:25:56.818Z"
   },
   {
    "duration": 234,
    "start_time": "2022-12-22T10:25:57.206Z"
   },
   {
    "duration": 355,
    "start_time": "2022-12-22T10:25:57.442Z"
   },
   {
    "duration": 13,
    "start_time": "2022-12-22T10:25:57.799Z"
   },
   {
    "duration": 177,
    "start_time": "2022-12-22T10:25:57.813Z"
   },
   {
    "duration": 6,
    "start_time": "2022-12-22T10:25:57.992Z"
   },
   {
    "duration": 344,
    "start_time": "2022-12-22T10:25:57.999Z"
   },
   {
    "duration": 9,
    "start_time": "2022-12-22T10:25:58.345Z"
   },
   {
    "duration": 33,
    "start_time": "2022-12-22T10:25:58.356Z"
   },
   {
    "duration": 65,
    "start_time": "2022-12-22T10:25:58.392Z"
   },
   {
    "duration": 72,
    "start_time": "2022-12-22T10:25:58.459Z"
   },
   {
    "duration": 263,
    "start_time": "2022-12-22T10:25:58.533Z"
   },
   {
    "duration": 7,
    "start_time": "2022-12-22T10:25:58.798Z"
   },
   {
    "duration": 54,
    "start_time": "2022-12-22T10:25:58.806Z"
   },
   {
    "duration": 11,
    "start_time": "2022-12-22T10:25:58.864Z"
   },
   {
    "duration": 29,
    "start_time": "2022-12-22T10:25:58.877Z"
   },
   {
    "duration": 20,
    "start_time": "2022-12-22T10:25:58.907Z"
   },
   {
    "duration": 15,
    "start_time": "2022-12-22T10:25:58.929Z"
   },
   {
    "duration": 46,
    "start_time": "2022-12-22T10:25:58.945Z"
   },
   {
    "duration": 15,
    "start_time": "2022-12-22T10:25:58.992Z"
   },
   {
    "duration": 18,
    "start_time": "2022-12-22T10:25:59.009Z"
   },
   {
    "duration": 29,
    "start_time": "2022-12-22T10:25:59.029Z"
   },
   {
    "duration": 5,
    "start_time": "2022-12-22T11:01:52.631Z"
   },
   {
    "duration": 11,
    "start_time": "2022-12-22T11:02:11.193Z"
   },
   {
    "duration": 4,
    "start_time": "2022-12-22T11:03:03.393Z"
   },
   {
    "duration": 13,
    "start_time": "2022-12-22T11:03:05.331Z"
   },
   {
    "duration": 5,
    "start_time": "2022-12-22T11:25:47.812Z"
   },
   {
    "duration": 11,
    "start_time": "2022-12-22T11:26:09.522Z"
   },
   {
    "duration": 11,
    "start_time": "2022-12-22T11:26:51.897Z"
   },
   {
    "duration": 10,
    "start_time": "2022-12-22T11:27:06.520Z"
   },
   {
    "duration": 10,
    "start_time": "2022-12-22T11:27:10.564Z"
   },
   {
    "duration": 280,
    "start_time": "2022-12-22T11:29:05.306Z"
   },
   {
    "duration": 205,
    "start_time": "2022-12-22T11:29:13.561Z"
   },
   {
    "duration": 11,
    "start_time": "2022-12-22T11:30:46.412Z"
   },
   {
    "duration": 6,
    "start_time": "2022-12-22T11:30:49.256Z"
   },
   {
    "duration": 5,
    "start_time": "2022-12-22T11:31:02.060Z"
   },
   {
    "duration": 272,
    "start_time": "2022-12-22T11:31:03.065Z"
   },
   {
    "duration": 244,
    "start_time": "2022-12-22T11:31:05.061Z"
   },
   {
    "duration": 14,
    "start_time": "2022-12-22T11:34:03.482Z"
   },
   {
    "duration": 6,
    "start_time": "2022-12-22T11:34:06.073Z"
   },
   {
    "duration": 5,
    "start_time": "2022-12-22T11:40:08.634Z"
   },
   {
    "duration": 375,
    "start_time": "2022-12-22T11:40:43.665Z"
   },
   {
    "duration": 301,
    "start_time": "2022-12-22T11:40:55.073Z"
   },
   {
    "duration": 303,
    "start_time": "2022-12-22T11:41:17.928Z"
   },
   {
    "duration": 231,
    "start_time": "2022-12-22T11:41:18.556Z"
   },
   {
    "duration": 13,
    "start_time": "2022-12-22T11:41:38.958Z"
   },
   {
    "duration": 7,
    "start_time": "2022-12-22T11:41:39.698Z"
   },
   {
    "duration": 3,
    "start_time": "2022-12-22T11:41:46.515Z"
   },
   {
    "duration": 137,
    "start_time": "2022-12-22T11:41:46.520Z"
   },
   {
    "duration": 8,
    "start_time": "2022-12-22T11:41:46.659Z"
   },
   {
    "duration": 30,
    "start_time": "2022-12-22T11:41:46.669Z"
   },
   {
    "duration": 22,
    "start_time": "2022-12-22T11:41:46.701Z"
   },
   {
    "duration": 33,
    "start_time": "2022-12-22T11:41:46.725Z"
   },
   {
    "duration": 16,
    "start_time": "2022-12-22T11:41:46.760Z"
   },
   {
    "duration": 37,
    "start_time": "2022-12-22T11:41:46.778Z"
   },
   {
    "duration": 25,
    "start_time": "2022-12-22T11:41:46.818Z"
   },
   {
    "duration": 21,
    "start_time": "2022-12-22T11:41:46.846Z"
   },
   {
    "duration": 24,
    "start_time": "2022-12-22T11:41:46.869Z"
   },
   {
    "duration": 10,
    "start_time": "2022-12-22T11:41:46.895Z"
   },
   {
    "duration": 17,
    "start_time": "2022-12-22T11:41:46.907Z"
   },
   {
    "duration": 561,
    "start_time": "2022-12-22T11:41:46.926Z"
   },
   {
    "duration": 421,
    "start_time": "2022-12-22T11:41:47.489Z"
   },
   {
    "duration": 300,
    "start_time": "2022-12-22T11:41:47.911Z"
   },
   {
    "duration": 12,
    "start_time": "2022-12-22T11:41:48.213Z"
   },
   {
    "duration": 634,
    "start_time": "2022-12-22T11:41:48.227Z"
   },
   {
    "duration": 403,
    "start_time": "2022-12-22T11:41:48.863Z"
   },
   {
    "duration": 17,
    "start_time": "2022-12-22T11:41:49.268Z"
   },
   {
    "duration": 15,
    "start_time": "2022-12-22T11:41:49.287Z"
   },
   {
    "duration": 303,
    "start_time": "2022-12-22T11:41:49.304Z"
   },
   {
    "duration": 5,
    "start_time": "2022-12-22T11:41:49.609Z"
   },
   {
    "duration": 12,
    "start_time": "2022-12-22T11:41:49.618Z"
   },
   {
    "duration": 227,
    "start_time": "2022-12-22T11:41:49.632Z"
   },
   {
    "duration": 245,
    "start_time": "2022-12-22T11:41:49.861Z"
   },
   {
    "duration": 286,
    "start_time": "2022-12-22T11:41:50.109Z"
   },
   {
    "duration": 238,
    "start_time": "2022-12-22T11:41:50.397Z"
   },
   {
    "duration": 351,
    "start_time": "2022-12-22T11:41:50.637Z"
   },
   {
    "duration": 13,
    "start_time": "2022-12-22T11:41:50.990Z"
   },
   {
    "duration": 159,
    "start_time": "2022-12-22T11:41:51.005Z"
   },
   {
    "duration": 5,
    "start_time": "2022-12-22T11:41:51.166Z"
   },
   {
    "duration": 417,
    "start_time": "2022-12-22T11:41:51.177Z"
   },
   {
    "duration": 5,
    "start_time": "2022-12-22T11:41:51.596Z"
   },
   {
    "duration": 12,
    "start_time": "2022-12-22T11:41:51.603Z"
   },
   {
    "duration": 46,
    "start_time": "2022-12-22T11:41:51.617Z"
   },
   {
    "duration": 33,
    "start_time": "2022-12-22T11:41:51.665Z"
   },
   {
    "duration": 164,
    "start_time": "2022-12-22T11:41:51.700Z"
   },
   {
    "duration": 14,
    "start_time": "2022-12-22T11:41:51.866Z"
   },
   {
    "duration": 35,
    "start_time": "2022-12-22T11:41:51.882Z"
   },
   {
    "duration": 13,
    "start_time": "2022-12-22T11:41:51.918Z"
   },
   {
    "duration": 11,
    "start_time": "2022-12-22T11:41:51.933Z"
   },
   {
    "duration": 6,
    "start_time": "2022-12-22T11:41:51.946Z"
   },
   {
    "duration": 32,
    "start_time": "2022-12-22T11:41:51.954Z"
   },
   {
    "duration": 25,
    "start_time": "2022-12-22T11:41:51.988Z"
   },
   {
    "duration": 14,
    "start_time": "2022-12-22T11:41:52.015Z"
   },
   {
    "duration": 298,
    "start_time": "2022-12-22T11:41:52.031Z"
   },
   {
    "duration": 234,
    "start_time": "2022-12-22T11:41:52.332Z"
   },
   {
    "duration": 13,
    "start_time": "2022-12-22T11:44:26.270Z"
   },
   {
    "duration": 15,
    "start_time": "2022-12-22T11:45:56.000Z"
   },
   {
    "duration": 6,
    "start_time": "2022-12-22T11:45:59.310Z"
   },
   {
    "duration": 277,
    "start_time": "2022-12-22T11:46:06.449Z"
   },
   {
    "duration": 219,
    "start_time": "2022-12-22T11:46:09.466Z"
   },
   {
    "duration": 12,
    "start_time": "2022-12-22T11:46:19.329Z"
   },
   {
    "duration": 8,
    "start_time": "2022-12-22T11:46:41.293Z"
   },
   {
    "duration": 8,
    "start_time": "2022-12-22T11:46:44.888Z"
   },
   {
    "duration": 11,
    "start_time": "2022-12-22T11:46:48.675Z"
   },
   {
    "duration": 11,
    "start_time": "2022-12-22T11:47:14.297Z"
   },
   {
    "duration": 4,
    "start_time": "2022-12-22T11:47:20.831Z"
   },
   {
    "duration": 79,
    "start_time": "2022-12-22T11:47:20.837Z"
   },
   {
    "duration": 9,
    "start_time": "2022-12-22T11:47:20.917Z"
   },
   {
    "duration": 37,
    "start_time": "2022-12-22T11:47:20.929Z"
   },
   {
    "duration": 16,
    "start_time": "2022-12-22T11:47:20.968Z"
   },
   {
    "duration": 26,
    "start_time": "2022-12-22T11:47:20.986Z"
   },
   {
    "duration": 20,
    "start_time": "2022-12-22T11:47:21.015Z"
   },
   {
    "duration": 24,
    "start_time": "2022-12-22T11:47:21.036Z"
   },
   {
    "duration": 27,
    "start_time": "2022-12-22T11:47:21.062Z"
   },
   {
    "duration": 26,
    "start_time": "2022-12-22T11:47:21.092Z"
   },
   {
    "duration": 25,
    "start_time": "2022-12-22T11:47:21.120Z"
   },
   {
    "duration": 14,
    "start_time": "2022-12-22T11:47:21.148Z"
   },
   {
    "duration": 32,
    "start_time": "2022-12-22T11:47:21.164Z"
   },
   {
    "duration": 513,
    "start_time": "2022-12-22T11:47:21.198Z"
   },
   {
    "duration": 345,
    "start_time": "2022-12-22T11:47:21.713Z"
   },
   {
    "duration": 295,
    "start_time": "2022-12-22T11:47:22.059Z"
   },
   {
    "duration": 11,
    "start_time": "2022-12-22T11:47:22.355Z"
   },
   {
    "duration": 468,
    "start_time": "2022-12-22T11:47:22.378Z"
   },
   {
    "duration": 386,
    "start_time": "2022-12-22T11:47:22.848Z"
   },
   {
    "duration": 12,
    "start_time": "2022-12-22T11:47:23.236Z"
   },
   {
    "duration": 29,
    "start_time": "2022-12-22T11:47:23.250Z"
   },
   {
    "duration": 304,
    "start_time": "2022-12-22T11:47:23.281Z"
   },
   {
    "duration": 5,
    "start_time": "2022-12-22T11:47:23.587Z"
   },
   {
    "duration": 45,
    "start_time": "2022-12-22T11:47:23.594Z"
   },
   {
    "duration": 254,
    "start_time": "2022-12-22T11:47:23.641Z"
   },
   {
    "duration": 223,
    "start_time": "2022-12-22T11:47:23.897Z"
   },
   {
    "duration": 305,
    "start_time": "2022-12-22T11:47:24.122Z"
   },
   {
    "duration": 231,
    "start_time": "2022-12-22T11:47:24.431Z"
   },
   {
    "duration": 326,
    "start_time": "2022-12-22T11:47:24.664Z"
   },
   {
    "duration": 12,
    "start_time": "2022-12-22T11:47:24.992Z"
   },
   {
    "duration": 173,
    "start_time": "2022-12-22T11:47:25.006Z"
   },
   {
    "duration": 6,
    "start_time": "2022-12-22T11:47:25.181Z"
   },
   {
    "duration": 316,
    "start_time": "2022-12-22T11:47:25.189Z"
   },
   {
    "duration": 5,
    "start_time": "2022-12-22T11:47:25.507Z"
   },
   {
    "duration": 13,
    "start_time": "2022-12-22T11:47:25.513Z"
   },
   {
    "duration": 50,
    "start_time": "2022-12-22T11:47:25.528Z"
   },
   {
    "duration": 26,
    "start_time": "2022-12-22T11:47:25.580Z"
   },
   {
    "duration": 191,
    "start_time": "2022-12-22T11:47:25.607Z"
   },
   {
    "duration": 6,
    "start_time": "2022-12-22T11:47:25.800Z"
   },
   {
    "duration": 107,
    "start_time": "2022-12-22T11:47:25.808Z"
   },
   {
    "duration": 15,
    "start_time": "2022-12-22T11:47:25.917Z"
   },
   {
    "duration": 22,
    "start_time": "2022-12-22T11:47:25.934Z"
   },
   {
    "duration": 27,
    "start_time": "2022-12-22T11:47:25.957Z"
   },
   {
    "duration": 10,
    "start_time": "2022-12-22T11:47:25.986Z"
   },
   {
    "duration": 48,
    "start_time": "2022-12-22T11:47:25.997Z"
   },
   {
    "duration": 148,
    "start_time": "2022-12-22T11:47:26.048Z"
   },
   {
    "duration": 312,
    "start_time": "2022-12-22T11:47:26.198Z"
   },
   {
    "duration": 242,
    "start_time": "2022-12-22T11:47:26.512Z"
   },
   {
    "duration": 14,
    "start_time": "2022-12-22T11:47:26.755Z"
   },
   {
    "duration": 9,
    "start_time": "2022-12-22T11:48:07.005Z"
   },
   {
    "duration": 10,
    "start_time": "2022-12-22T11:48:11.010Z"
   },
   {
    "duration": 13,
    "start_time": "2022-12-22T11:48:21.419Z"
   },
   {
    "duration": 11,
    "start_time": "2022-12-22T11:48:39.287Z"
   },
   {
    "duration": 229,
    "start_time": "2022-12-22T11:49:10.199Z"
   },
   {
    "duration": 14,
    "start_time": "2022-12-22T11:49:36.772Z"
   },
   {
    "duration": 17,
    "start_time": "2022-12-22T11:50:03.360Z"
   },
   {
    "duration": 856,
    "start_time": "2022-12-22T11:50:44.860Z"
   },
   {
    "duration": 5,
    "start_time": "2022-12-22T11:50:55.742Z"
   },
   {
    "duration": 5,
    "start_time": "2022-12-22T11:51:12.325Z"
   },
   {
    "duration": 5,
    "start_time": "2022-12-22T11:51:23.725Z"
   },
   {
    "duration": 5,
    "start_time": "2022-12-22T11:52:25.354Z"
   },
   {
    "duration": 4,
    "start_time": "2022-12-22T11:52:34.875Z"
   },
   {
    "duration": 5,
    "start_time": "2022-12-22T11:52:51.712Z"
   },
   {
    "duration": 11,
    "start_time": "2022-12-22T11:56:05.037Z"
   },
   {
    "duration": 7,
    "start_time": "2022-12-22T11:56:07.762Z"
   },
   {
    "duration": 8,
    "start_time": "2022-12-22T11:56:07.772Z"
   },
   {
    "duration": 30,
    "start_time": "2022-12-22T11:56:07.782Z"
   },
   {
    "duration": 17,
    "start_time": "2022-12-22T11:56:07.814Z"
   },
   {
    "duration": 310,
    "start_time": "2022-12-22T11:56:07.833Z"
   },
   {
    "duration": 278,
    "start_time": "2022-12-22T11:56:08.145Z"
   },
   {
    "duration": 6,
    "start_time": "2022-12-22T11:56:08.425Z"
   },
   {
    "duration": 17,
    "start_time": "2022-12-22T11:56:08.433Z"
   },
   {
    "duration": 16,
    "start_time": "2022-12-22T11:56:08.452Z"
   },
   {
    "duration": 12,
    "start_time": "2022-12-22T11:56:44.412Z"
   },
   {
    "duration": 7,
    "start_time": "2022-12-22T11:56:48.487Z"
   },
   {
    "duration": 16,
    "start_time": "2022-12-22T11:56:48.498Z"
   },
   {
    "duration": 48,
    "start_time": "2022-12-22T11:56:48.517Z"
   },
   {
    "duration": 21,
    "start_time": "2022-12-22T11:56:48.568Z"
   },
   {
    "duration": 327,
    "start_time": "2022-12-22T11:56:48.591Z"
   },
   {
    "duration": 285,
    "start_time": "2022-12-22T11:56:48.921Z"
   },
   {
    "duration": 7,
    "start_time": "2022-12-22T11:56:49.208Z"
   },
   {
    "duration": 18,
    "start_time": "2022-12-22T11:56:49.217Z"
   },
   {
    "duration": 21,
    "start_time": "2022-12-22T11:56:49.237Z"
   },
   {
    "duration": 11,
    "start_time": "2022-12-22T11:59:46.959Z"
   },
   {
    "duration": 6,
    "start_time": "2022-12-22T12:00:33.052Z"
   },
   {
    "duration": 6,
    "start_time": "2022-12-22T12:00:46.334Z"
   },
   {
    "duration": 7,
    "start_time": "2022-12-22T12:01:16.903Z"
   },
   {
    "duration": 9,
    "start_time": "2022-12-22T12:01:33.009Z"
   },
   {
    "duration": 8,
    "start_time": "2022-12-22T12:01:33.929Z"
   },
   {
    "duration": 10,
    "start_time": "2022-12-22T12:02:07.638Z"
   },
   {
    "duration": 9,
    "start_time": "2022-12-22T12:02:22.352Z"
   },
   {
    "duration": 4,
    "start_time": "2022-12-22T12:02:25.166Z"
   },
   {
    "duration": 82,
    "start_time": "2022-12-22T12:02:25.172Z"
   },
   {
    "duration": 8,
    "start_time": "2022-12-22T12:02:25.256Z"
   },
   {
    "duration": 22,
    "start_time": "2022-12-22T12:02:25.266Z"
   },
   {
    "duration": 16,
    "start_time": "2022-12-22T12:02:25.290Z"
   },
   {
    "duration": 17,
    "start_time": "2022-12-22T12:02:25.308Z"
   },
   {
    "duration": 18,
    "start_time": "2022-12-22T12:02:25.327Z"
   },
   {
    "duration": 20,
    "start_time": "2022-12-22T12:02:25.346Z"
   },
   {
    "duration": 27,
    "start_time": "2022-12-22T12:02:25.367Z"
   },
   {
    "duration": 31,
    "start_time": "2022-12-22T12:02:25.396Z"
   },
   {
    "duration": 25,
    "start_time": "2022-12-22T12:02:25.428Z"
   },
   {
    "duration": 7,
    "start_time": "2022-12-22T12:02:25.455Z"
   },
   {
    "duration": 19,
    "start_time": "2022-12-22T12:02:25.465Z"
   },
   {
    "duration": 532,
    "start_time": "2022-12-22T12:02:25.488Z"
   },
   {
    "duration": 331,
    "start_time": "2022-12-22T12:02:26.022Z"
   },
   {
    "duration": 282,
    "start_time": "2022-12-22T12:02:26.355Z"
   },
   {
    "duration": 10,
    "start_time": "2022-12-22T12:02:26.639Z"
   },
   {
    "duration": 469,
    "start_time": "2022-12-22T12:02:26.651Z"
   },
   {
    "duration": 393,
    "start_time": "2022-12-22T12:02:27.122Z"
   },
   {
    "duration": 13,
    "start_time": "2022-12-22T12:02:27.517Z"
   },
   {
    "duration": 16,
    "start_time": "2022-12-22T12:02:27.532Z"
   },
   {
    "duration": 321,
    "start_time": "2022-12-22T12:02:27.550Z"
   },
   {
    "duration": 7,
    "start_time": "2022-12-22T12:02:27.873Z"
   },
   {
    "duration": 16,
    "start_time": "2022-12-22T12:02:27.882Z"
   },
   {
    "duration": 232,
    "start_time": "2022-12-22T12:02:27.901Z"
   },
   {
    "duration": 272,
    "start_time": "2022-12-22T12:02:28.135Z"
   },
   {
    "duration": 327,
    "start_time": "2022-12-22T12:02:28.409Z"
   },
   {
    "duration": 245,
    "start_time": "2022-12-22T12:02:28.738Z"
   },
   {
    "duration": 321,
    "start_time": "2022-12-22T12:02:28.985Z"
   },
   {
    "duration": 13,
    "start_time": "2022-12-22T12:02:29.308Z"
   },
   {
    "duration": 171,
    "start_time": "2022-12-22T12:02:29.322Z"
   },
   {
    "duration": 5,
    "start_time": "2022-12-22T12:02:29.495Z"
   },
   {
    "duration": 293,
    "start_time": "2022-12-22T12:02:29.502Z"
   },
   {
    "duration": 6,
    "start_time": "2022-12-22T12:02:29.797Z"
   },
   {
    "duration": 10,
    "start_time": "2022-12-22T12:02:29.805Z"
   },
   {
    "duration": 65,
    "start_time": "2022-12-22T12:02:29.818Z"
   },
   {
    "duration": 25,
    "start_time": "2022-12-22T12:02:29.885Z"
   },
   {
    "duration": 166,
    "start_time": "2022-12-22T12:02:29.912Z"
   },
   {
    "duration": 8,
    "start_time": "2022-12-22T12:02:30.080Z"
   },
   {
    "duration": 39,
    "start_time": "2022-12-22T12:02:30.089Z"
   },
   {
    "duration": 11,
    "start_time": "2022-12-22T12:02:30.133Z"
   },
   {
    "duration": 32,
    "start_time": "2022-12-22T12:02:30.146Z"
   },
   {
    "duration": 27,
    "start_time": "2022-12-22T12:02:30.180Z"
   },
   {
    "duration": 24,
    "start_time": "2022-12-22T12:02:30.209Z"
   },
   {
    "duration": 30,
    "start_time": "2022-12-22T12:02:30.235Z"
   },
   {
    "duration": 0,
    "start_time": "2022-12-22T12:02:30.267Z"
   },
   {
    "duration": 0,
    "start_time": "2022-12-22T12:02:30.268Z"
   },
   {
    "duration": 0,
    "start_time": "2022-12-22T12:02:30.269Z"
   },
   {
    "duration": 0,
    "start_time": "2022-12-22T12:02:30.270Z"
   },
   {
    "duration": 0,
    "start_time": "2022-12-22T12:02:30.271Z"
   },
   {
    "duration": 0,
    "start_time": "2022-12-22T12:02:30.273Z"
   },
   {
    "duration": 0,
    "start_time": "2022-12-22T12:02:30.274Z"
   },
   {
    "duration": 0,
    "start_time": "2022-12-22T12:02:30.275Z"
   },
   {
    "duration": 0,
    "start_time": "2022-12-22T12:02:30.276Z"
   },
   {
    "duration": 0,
    "start_time": "2022-12-22T12:02:30.277Z"
   },
   {
    "duration": 11,
    "start_time": "2022-12-22T12:03:34.642Z"
   },
   {
    "duration": 17,
    "start_time": "2022-12-22T12:04:37.212Z"
   },
   {
    "duration": 9,
    "start_time": "2022-12-22T12:08:21.424Z"
   },
   {
    "duration": 9,
    "start_time": "2022-12-22T12:09:06.471Z"
   },
   {
    "duration": 10,
    "start_time": "2022-12-22T12:09:14.871Z"
   },
   {
    "duration": 11,
    "start_time": "2022-12-22T12:09:54.867Z"
   },
   {
    "duration": 4,
    "start_time": "2022-12-22T12:09:57.445Z"
   },
   {
    "duration": 77,
    "start_time": "2022-12-22T12:09:57.451Z"
   },
   {
    "duration": 8,
    "start_time": "2022-12-22T12:09:57.530Z"
   },
   {
    "duration": 16,
    "start_time": "2022-12-22T12:09:57.540Z"
   },
   {
    "duration": 12,
    "start_time": "2022-12-22T12:09:57.559Z"
   },
   {
    "duration": 13,
    "start_time": "2022-12-22T12:09:57.573Z"
   },
   {
    "duration": 9,
    "start_time": "2022-12-22T12:09:57.588Z"
   },
   {
    "duration": 12,
    "start_time": "2022-12-22T12:09:57.598Z"
   },
   {
    "duration": 13,
    "start_time": "2022-12-22T12:09:57.612Z"
   },
   {
    "duration": 17,
    "start_time": "2022-12-22T12:09:57.627Z"
   },
   {
    "duration": 144,
    "start_time": "2022-12-22T12:09:57.646Z"
   },
   {
    "duration": 7,
    "start_time": "2022-12-22T12:09:57.791Z"
   },
   {
    "duration": 32,
    "start_time": "2022-12-22T12:09:57.800Z"
   },
   {
    "duration": 554,
    "start_time": "2022-12-22T12:09:57.836Z"
   },
   {
    "duration": 352,
    "start_time": "2022-12-22T12:09:58.392Z"
   },
   {
    "duration": 280,
    "start_time": "2022-12-22T12:09:58.746Z"
   },
   {
    "duration": 11,
    "start_time": "2022-12-22T12:09:59.028Z"
   },
   {
    "duration": 376,
    "start_time": "2022-12-22T12:09:59.041Z"
   },
   {
    "duration": 374,
    "start_time": "2022-12-22T12:09:59.419Z"
   },
   {
    "duration": 12,
    "start_time": "2022-12-22T12:09:59.795Z"
   },
   {
    "duration": 14,
    "start_time": "2022-12-22T12:09:59.809Z"
   },
   {
    "duration": 449,
    "start_time": "2022-12-22T12:09:59.825Z"
   },
   {
    "duration": 5,
    "start_time": "2022-12-22T12:10:00.277Z"
   },
   {
    "duration": 33,
    "start_time": "2022-12-22T12:10:00.284Z"
   },
   {
    "duration": 260,
    "start_time": "2022-12-22T12:10:00.318Z"
   },
   {
    "duration": 246,
    "start_time": "2022-12-22T12:10:00.580Z"
   },
   {
    "duration": 353,
    "start_time": "2022-12-22T12:10:00.828Z"
   },
   {
    "duration": 240,
    "start_time": "2022-12-22T12:10:01.183Z"
   },
   {
    "duration": 381,
    "start_time": "2022-12-22T12:10:01.426Z"
   },
   {
    "duration": 20,
    "start_time": "2022-12-22T12:10:01.810Z"
   },
   {
    "duration": 182,
    "start_time": "2022-12-22T12:10:01.833Z"
   },
   {
    "duration": 5,
    "start_time": "2022-12-22T12:10:02.017Z"
   },
   {
    "duration": 318,
    "start_time": "2022-12-22T12:10:02.024Z"
   },
   {
    "duration": 6,
    "start_time": "2022-12-22T12:10:02.344Z"
   },
   {
    "duration": 29,
    "start_time": "2022-12-22T12:10:02.352Z"
   },
   {
    "duration": 95,
    "start_time": "2022-12-22T12:10:02.384Z"
   },
   {
    "duration": 47,
    "start_time": "2022-12-22T12:10:02.481Z"
   },
   {
    "duration": 138,
    "start_time": "2022-12-22T12:10:02.530Z"
   },
   {
    "duration": 10,
    "start_time": "2022-12-22T12:10:02.677Z"
   },
   {
    "duration": 36,
    "start_time": "2022-12-22T12:10:02.688Z"
   },
   {
    "duration": 0,
    "start_time": "2022-12-22T12:10:02.726Z"
   },
   {
    "duration": 0,
    "start_time": "2022-12-22T12:10:02.727Z"
   },
   {
    "duration": 0,
    "start_time": "2022-12-22T12:10:02.729Z"
   },
   {
    "duration": 0,
    "start_time": "2022-12-22T12:10:02.730Z"
   },
   {
    "duration": 0,
    "start_time": "2022-12-22T12:10:02.732Z"
   },
   {
    "duration": 0,
    "start_time": "2022-12-22T12:10:02.733Z"
   },
   {
    "duration": 0,
    "start_time": "2022-12-22T12:10:02.735Z"
   },
   {
    "duration": 0,
    "start_time": "2022-12-22T12:10:02.736Z"
   },
   {
    "duration": 0,
    "start_time": "2022-12-22T12:10:02.737Z"
   },
   {
    "duration": 0,
    "start_time": "2022-12-22T12:10:02.739Z"
   },
   {
    "duration": 0,
    "start_time": "2022-12-22T12:10:02.741Z"
   },
   {
    "duration": 0,
    "start_time": "2022-12-22T12:10:02.742Z"
   },
   {
    "duration": 0,
    "start_time": "2022-12-22T12:10:02.743Z"
   },
   {
    "duration": 0,
    "start_time": "2022-12-22T12:10:02.744Z"
   },
   {
    "duration": 0,
    "start_time": "2022-12-22T12:10:02.745Z"
   },
   {
    "duration": 0,
    "start_time": "2022-12-22T12:10:02.746Z"
   },
   {
    "duration": 0,
    "start_time": "2022-12-22T12:10:02.747Z"
   },
   {
    "duration": 165,
    "start_time": "2022-12-22T12:14:08.894Z"
   },
   {
    "duration": 9,
    "start_time": "2022-12-22T12:14:09.437Z"
   },
   {
    "duration": 23,
    "start_time": "2022-12-22T12:14:09.604Z"
   },
   {
    "duration": 13,
    "start_time": "2022-12-22T12:14:12.134Z"
   },
   {
    "duration": 9,
    "start_time": "2022-12-22T12:14:34.230Z"
   },
   {
    "duration": 12,
    "start_time": "2022-12-22T12:14:40.253Z"
   },
   {
    "duration": 15,
    "start_time": "2022-12-22T12:14:58.467Z"
   },
   {
    "duration": 12,
    "start_time": "2022-12-22T12:15:07.592Z"
   },
   {
    "duration": 11,
    "start_time": "2022-12-22T12:15:20.693Z"
   },
   {
    "duration": 7,
    "start_time": "2022-12-22T12:15:25.757Z"
   },
   {
    "duration": 10,
    "start_time": "2022-12-22T12:15:39.158Z"
   },
   {
    "duration": 25,
    "start_time": "2022-12-22T12:15:46.443Z"
   },
   {
    "duration": 16,
    "start_time": "2022-12-22T12:16:14.204Z"
   },
   {
    "duration": 365,
    "start_time": "2022-12-22T12:16:40.941Z"
   },
   {
    "duration": 274,
    "start_time": "2022-12-22T12:16:43.532Z"
   },
   {
    "duration": 8,
    "start_time": "2022-12-22T12:16:45.092Z"
   },
   {
    "duration": 6,
    "start_time": "2022-12-22T12:16:50.950Z"
   },
   {
    "duration": 12,
    "start_time": "2022-12-22T12:16:53.508Z"
   },
   {
    "duration": 12,
    "start_time": "2022-12-22T12:18:23.900Z"
   },
   {
    "duration": 8,
    "start_time": "2022-12-22T12:18:26.075Z"
   },
   {
    "duration": 12,
    "start_time": "2022-12-22T12:18:33.988Z"
   },
   {
    "duration": 31,
    "start_time": "2022-12-22T12:18:34.161Z"
   },
   {
    "duration": 16,
    "start_time": "2022-12-22T12:18:40.553Z"
   },
   {
    "duration": 300,
    "start_time": "2022-12-22T12:18:49.306Z"
   },
   {
    "duration": 241,
    "start_time": "2022-12-22T12:18:52.413Z"
   },
   {
    "duration": 6,
    "start_time": "2022-12-22T12:18:55.853Z"
   },
   {
    "duration": 4,
    "start_time": "2022-12-22T12:19:00.262Z"
   },
   {
    "duration": 9,
    "start_time": "2022-12-22T12:19:02.402Z"
   },
   {
    "duration": 12,
    "start_time": "2022-12-22T12:19:15.768Z"
   },
   {
    "duration": 7,
    "start_time": "2022-12-22T12:19:17.236Z"
   },
   {
    "duration": 23,
    "start_time": "2022-12-22T12:19:19.870Z"
   },
   {
    "duration": 25,
    "start_time": "2022-12-22T12:19:20.025Z"
   },
   {
    "duration": 18,
    "start_time": "2022-12-22T12:19:20.628Z"
   },
   {
    "duration": 345,
    "start_time": "2022-12-22T12:19:23.269Z"
   },
   {
    "duration": 272,
    "start_time": "2022-12-22T12:19:24.045Z"
   },
   {
    "duration": 8,
    "start_time": "2022-12-22T12:19:24.320Z"
   },
   {
    "duration": 5,
    "start_time": "2022-12-22T12:19:28.176Z"
   },
   {
    "duration": 25,
    "start_time": "2022-12-22T12:19:28.378Z"
   },
   {
    "duration": 11,
    "start_time": "2022-12-22T12:22:05.656Z"
   },
   {
    "duration": 9,
    "start_time": "2022-12-22T12:22:08.459Z"
   },
   {
    "duration": 12,
    "start_time": "2022-12-22T12:22:12.275Z"
   },
   {
    "duration": 25,
    "start_time": "2022-12-22T12:22:12.491Z"
   },
   {
    "duration": 14,
    "start_time": "2022-12-22T12:22:15.112Z"
   },
   {
    "duration": 401,
    "start_time": "2022-12-22T12:22:21.006Z"
   },
   {
    "duration": 256,
    "start_time": "2022-12-22T12:22:21.445Z"
   },
   {
    "duration": 5,
    "start_time": "2022-12-22T12:22:22.213Z"
   },
   {
    "duration": 4,
    "start_time": "2022-12-22T12:22:25.638Z"
   },
   {
    "duration": 9,
    "start_time": "2022-12-22T13:12:01.346Z"
   },
   {
    "duration": 5,
    "start_time": "2022-12-22T13:40:34.453Z"
   },
   {
    "duration": 5,
    "start_time": "2022-12-22T13:49:51.977Z"
   },
   {
    "duration": 4,
    "start_time": "2022-12-22T13:55:36.047Z"
   },
   {
    "duration": 6,
    "start_time": "2022-12-22T14:08:43.105Z"
   },
   {
    "duration": 12,
    "start_time": "2022-12-22T14:08:56.357Z"
   },
   {
    "duration": 7,
    "start_time": "2022-12-22T14:09:27.892Z"
   },
   {
    "duration": 13,
    "start_time": "2022-12-22T14:09:28.488Z"
   },
   {
    "duration": 6,
    "start_time": "2022-12-22T14:09:45.076Z"
   },
   {
    "duration": 11,
    "start_time": "2022-12-22T14:09:46.806Z"
   },
   {
    "duration": 6,
    "start_time": "2022-12-22T14:10:26.535Z"
   },
   {
    "duration": 910,
    "start_time": "2022-12-22T14:10:45.208Z"
   },
   {
    "duration": 770,
    "start_time": "2022-12-22T14:11:24.007Z"
   },
   {
    "duration": 7,
    "start_time": "2022-12-22T14:12:46.206Z"
   },
   {
    "duration": 11,
    "start_time": "2022-12-22T14:13:23.961Z"
   },
   {
    "duration": 6,
    "start_time": "2022-12-22T14:13:29.546Z"
   },
   {
    "duration": 4,
    "start_time": "2022-12-22T14:13:36.048Z"
   },
   {
    "duration": 6,
    "start_time": "2022-12-22T14:13:43.071Z"
   },
   {
    "duration": 12,
    "start_time": "2022-12-22T14:13:49.337Z"
   },
   {
    "duration": 12,
    "start_time": "2022-12-22T14:14:21.452Z"
   },
   {
    "duration": 367,
    "start_time": "2022-12-22T14:14:27.787Z"
   },
   {
    "duration": 545,
    "start_time": "2022-12-22T14:14:28.181Z"
   },
   {
    "duration": 17,
    "start_time": "2022-12-22T14:14:31.681Z"
   },
   {
    "duration": 324,
    "start_time": "2022-12-22T14:15:47.132Z"
   },
   {
    "duration": 7,
    "start_time": "2022-12-22T14:15:47.459Z"
   },
   {
    "duration": 11,
    "start_time": "2022-12-22T14:15:48.384Z"
   },
   {
    "duration": 253,
    "start_time": "2022-12-22T14:15:50.096Z"
   },
   {
    "duration": 240,
    "start_time": "2022-12-22T14:15:57.111Z"
   },
   {
    "duration": 332,
    "start_time": "2022-12-22T14:16:46.480Z"
   },
   {
    "duration": 249,
    "start_time": "2022-12-22T14:17:47.066Z"
   },
   {
    "duration": 315,
    "start_time": "2022-12-22T14:19:36.093Z"
   },
   {
    "duration": 475,
    "start_time": "2022-12-22T14:23:05.552Z"
   },
   {
    "duration": 13,
    "start_time": "2022-12-22T14:23:20.220Z"
   },
   {
    "duration": 6,
    "start_time": "2022-12-22T14:23:58.507Z"
   },
   {
    "duration": 100,
    "start_time": "2022-12-22T14:23:58.517Z"
   },
   {
    "duration": 12,
    "start_time": "2022-12-22T14:23:58.620Z"
   },
   {
    "duration": 43,
    "start_time": "2022-12-22T14:23:58.634Z"
   },
   {
    "duration": 29,
    "start_time": "2022-12-22T14:23:58.681Z"
   },
   {
    "duration": 18,
    "start_time": "2022-12-22T14:23:58.712Z"
   },
   {
    "duration": 12,
    "start_time": "2022-12-22T14:23:58.732Z"
   },
   {
    "duration": 19,
    "start_time": "2022-12-22T14:23:58.746Z"
   },
   {
    "duration": 15,
    "start_time": "2022-12-22T14:23:58.767Z"
   },
   {
    "duration": 14,
    "start_time": "2022-12-22T14:23:58.784Z"
   },
   {
    "duration": 23,
    "start_time": "2022-12-22T14:23:58.801Z"
   },
   {
    "duration": 9,
    "start_time": "2022-12-22T14:23:58.826Z"
   },
   {
    "duration": 52,
    "start_time": "2022-12-22T14:23:58.837Z"
   },
   {
    "duration": 631,
    "start_time": "2022-12-22T14:23:58.895Z"
   },
   {
    "duration": 366,
    "start_time": "2022-12-22T14:23:59.529Z"
   },
   {
    "duration": 291,
    "start_time": "2022-12-22T14:23:59.897Z"
   },
   {
    "duration": 12,
    "start_time": "2022-12-22T14:24:00.191Z"
   },
   {
    "duration": 13,
    "start_time": "2022-12-22T14:24:00.206Z"
   },
   {
    "duration": 25,
    "start_time": "2022-12-22T14:24:00.222Z"
   },
   {
    "duration": 404,
    "start_time": "2022-12-22T14:24:00.249Z"
   },
   {
    "duration": 641,
    "start_time": "2022-12-22T14:24:00.655Z"
   },
   {
    "duration": 19,
    "start_time": "2022-12-22T14:24:01.299Z"
   },
   {
    "duration": 34,
    "start_time": "2022-12-22T14:24:01.321Z"
   },
   {
    "duration": 360,
    "start_time": "2022-12-22T14:24:01.357Z"
   },
   {
    "duration": 6,
    "start_time": "2022-12-22T14:24:01.719Z"
   },
   {
    "duration": 20,
    "start_time": "2022-12-22T14:24:01.726Z"
   },
   {
    "duration": 241,
    "start_time": "2022-12-22T14:24:01.748Z"
   },
   {
    "duration": 228,
    "start_time": "2022-12-22T14:24:01.991Z"
   },
   {
    "duration": 342,
    "start_time": "2022-12-22T14:24:02.220Z"
   },
   {
    "duration": 415,
    "start_time": "2022-12-22T14:24:02.564Z"
   },
   {
    "duration": 336,
    "start_time": "2022-12-22T14:24:02.982Z"
   },
   {
    "duration": 15,
    "start_time": "2022-12-22T14:24:03.320Z"
   },
   {
    "duration": 204,
    "start_time": "2022-12-22T14:24:03.337Z"
   },
   {
    "duration": 8,
    "start_time": "2022-12-22T14:24:03.544Z"
   },
   {
    "duration": 408,
    "start_time": "2022-12-22T14:24:03.554Z"
   },
   {
    "duration": 11,
    "start_time": "2022-12-22T14:24:03.965Z"
   },
   {
    "duration": 48,
    "start_time": "2022-12-22T14:24:03.982Z"
   },
   {
    "duration": 58,
    "start_time": "2022-12-22T14:24:04.032Z"
   },
   {
    "duration": 42,
    "start_time": "2022-12-22T14:24:04.093Z"
   },
   {
    "duration": 166,
    "start_time": "2022-12-22T14:24:04.137Z"
   },
   {
    "duration": 7,
    "start_time": "2022-12-22T14:24:04.308Z"
   },
   {
    "duration": 31,
    "start_time": "2022-12-22T14:24:04.316Z"
   },
   {
    "duration": 15,
    "start_time": "2022-12-22T14:24:04.349Z"
   },
   {
    "duration": 11,
    "start_time": "2022-12-22T14:24:04.378Z"
   },
   {
    "duration": 9,
    "start_time": "2022-12-22T14:24:04.391Z"
   },
   {
    "duration": 10,
    "start_time": "2022-12-22T14:24:04.401Z"
   },
   {
    "duration": 39,
    "start_time": "2022-12-22T14:24:04.413Z"
   },
   {
    "duration": 7,
    "start_time": "2022-12-22T14:24:04.479Z"
   },
   {
    "duration": 31,
    "start_time": "2022-12-22T14:24:04.488Z"
   },
   {
    "duration": 17,
    "start_time": "2022-12-22T14:24:04.522Z"
   },
   {
    "duration": 338,
    "start_time": "2022-12-22T14:24:04.542Z"
   },
   {
    "duration": 280,
    "start_time": "2022-12-22T14:24:04.883Z"
   },
   {
    "duration": 4,
    "start_time": "2022-12-22T14:24:05.166Z"
   },
   {
    "duration": 182,
    "start_time": "2022-12-22T14:25:02.578Z"
   },
   {
    "duration": 394,
    "start_time": "2022-12-22T14:25:32.392Z"
   },
   {
    "duration": 5,
    "start_time": "2022-12-22T14:25:43.060Z"
   },
   {
    "duration": 10,
    "start_time": "2022-12-22T14:26:55.173Z"
   },
   {
    "duration": 7,
    "start_time": "2022-12-22T14:26:58.269Z"
   },
   {
    "duration": 10,
    "start_time": "2022-12-22T14:27:12.761Z"
   },
   {
    "duration": 23,
    "start_time": "2022-12-22T14:27:13.780Z"
   },
   {
    "duration": 14,
    "start_time": "2022-12-22T14:28:05.439Z"
   },
   {
    "duration": 275,
    "start_time": "2022-12-22T14:28:56.485Z"
   },
   {
    "duration": 265,
    "start_time": "2022-12-22T14:28:56.763Z"
   },
   {
    "duration": 4,
    "start_time": "2022-12-22T14:29:01.329Z"
   },
   {
    "duration": 47,
    "start_time": "2022-12-22T14:30:30.786Z"
   },
   {
    "duration": 13,
    "start_time": "2022-12-22T14:30:38.720Z"
   },
   {
    "duration": 8,
    "start_time": "2022-12-22T14:31:12.471Z"
   },
   {
    "duration": 49,
    "start_time": "2022-12-22T14:33:00.752Z"
   },
   {
    "duration": 8,
    "start_time": "2022-12-22T14:34:41.275Z"
   },
   {
    "duration": 7,
    "start_time": "2022-12-22T14:35:07.725Z"
   },
   {
    "duration": 8,
    "start_time": "2022-12-22T14:35:17.401Z"
   },
   {
    "duration": 7,
    "start_time": "2022-12-22T14:35:28.683Z"
   },
   {
    "duration": 8,
    "start_time": "2022-12-22T14:35:44.643Z"
   },
   {
    "duration": 8,
    "start_time": "2022-12-22T14:35:57.275Z"
   },
   {
    "duration": 7,
    "start_time": "2022-12-22T14:36:02.149Z"
   },
   {
    "duration": 8,
    "start_time": "2022-12-22T14:36:08.666Z"
   },
   {
    "duration": 7,
    "start_time": "2022-12-22T14:36:22.988Z"
   },
   {
    "duration": 7,
    "start_time": "2022-12-22T14:37:17.240Z"
   },
   {
    "duration": 7,
    "start_time": "2022-12-22T14:37:41.697Z"
   },
   {
    "duration": 61,
    "start_time": "2022-12-22T14:52:16.008Z"
   },
   {
    "duration": 310,
    "start_time": "2022-12-22T14:59:49.880Z"
   },
   {
    "duration": 312,
    "start_time": "2022-12-22T14:59:55.798Z"
   },
   {
    "duration": 5,
    "start_time": "2022-12-22T15:04:23.677Z"
   },
   {
    "duration": 88,
    "start_time": "2022-12-22T15:04:23.684Z"
   },
   {
    "duration": 11,
    "start_time": "2022-12-22T15:04:23.774Z"
   },
   {
    "duration": 15,
    "start_time": "2022-12-22T15:04:23.788Z"
   },
   {
    "duration": 14,
    "start_time": "2022-12-22T15:04:23.806Z"
   },
   {
    "duration": 17,
    "start_time": "2022-12-22T15:04:23.822Z"
   },
   {
    "duration": 21,
    "start_time": "2022-12-22T15:04:23.841Z"
   },
   {
    "duration": 23,
    "start_time": "2022-12-22T15:04:23.864Z"
   },
   {
    "duration": 7,
    "start_time": "2022-12-22T15:04:23.890Z"
   },
   {
    "duration": 14,
    "start_time": "2022-12-22T15:04:23.900Z"
   },
   {
    "duration": 21,
    "start_time": "2022-12-22T15:04:23.916Z"
   },
   {
    "duration": 40,
    "start_time": "2022-12-22T15:04:23.938Z"
   },
   {
    "duration": 26,
    "start_time": "2022-12-22T15:04:23.981Z"
   },
   {
    "duration": 525,
    "start_time": "2022-12-22T15:04:24.009Z"
   },
   {
    "duration": 323,
    "start_time": "2022-12-22T15:04:24.536Z"
   },
   {
    "duration": 301,
    "start_time": "2022-12-22T15:04:24.862Z"
   },
   {
    "duration": 20,
    "start_time": "2022-12-22T15:04:25.165Z"
   },
   {
    "duration": 12,
    "start_time": "2022-12-22T15:04:25.187Z"
   },
   {
    "duration": 42,
    "start_time": "2022-12-22T15:04:25.201Z"
   },
   {
    "duration": 505,
    "start_time": "2022-12-22T15:04:25.245Z"
   },
   {
    "duration": 410,
    "start_time": "2022-12-22T15:04:25.752Z"
   },
   {
    "duration": 18,
    "start_time": "2022-12-22T15:04:26.164Z"
   },
   {
    "duration": 38,
    "start_time": "2022-12-22T15:04:26.184Z"
   },
   {
    "duration": 337,
    "start_time": "2022-12-22T15:04:26.224Z"
   },
   {
    "duration": 5,
    "start_time": "2022-12-22T15:04:26.564Z"
   },
   {
    "duration": 30,
    "start_time": "2022-12-22T15:04:26.577Z"
   },
   {
    "duration": 256,
    "start_time": "2022-12-22T15:04:26.610Z"
   },
   {
    "duration": 221,
    "start_time": "2022-12-22T15:04:26.870Z"
   },
   {
    "duration": 324,
    "start_time": "2022-12-22T15:04:27.093Z"
   },
   {
    "duration": 384,
    "start_time": "2022-12-22T15:04:27.420Z"
   },
   {
    "duration": 314,
    "start_time": "2022-12-22T15:04:27.807Z"
   },
   {
    "duration": 16,
    "start_time": "2022-12-22T15:04:28.123Z"
   },
   {
    "duration": 195,
    "start_time": "2022-12-22T15:04:28.141Z"
   },
   {
    "duration": 5,
    "start_time": "2022-12-22T15:04:28.338Z"
   },
   {
    "duration": 393,
    "start_time": "2022-12-22T15:04:28.345Z"
   },
   {
    "duration": 7,
    "start_time": "2022-12-22T15:04:28.740Z"
   },
   {
    "duration": 16,
    "start_time": "2022-12-22T15:04:28.749Z"
   },
   {
    "duration": 38,
    "start_time": "2022-12-22T15:04:28.778Z"
   },
   {
    "duration": 27,
    "start_time": "2022-12-22T15:04:28.818Z"
   },
   {
    "duration": 170,
    "start_time": "2022-12-22T15:04:28.847Z"
   },
   {
    "duration": 7,
    "start_time": "2022-12-22T15:04:29.018Z"
   },
   {
    "duration": 43,
    "start_time": "2022-12-22T15:04:29.027Z"
   },
   {
    "duration": 12,
    "start_time": "2022-12-22T15:04:29.072Z"
   },
   {
    "duration": 10,
    "start_time": "2022-12-22T15:04:29.086Z"
   },
   {
    "duration": 12,
    "start_time": "2022-12-22T15:04:29.098Z"
   },
   {
    "duration": 10,
    "start_time": "2022-12-22T15:04:29.112Z"
   },
   {
    "duration": 25,
    "start_time": "2022-12-22T15:04:29.124Z"
   },
   {
    "duration": 142,
    "start_time": "2022-12-22T15:04:29.177Z"
   },
   {
    "duration": 355,
    "start_time": "2022-12-22T15:04:29.320Z"
   },
   {
    "duration": 244,
    "start_time": "2022-12-22T15:04:29.677Z"
   },
   {
    "duration": 4,
    "start_time": "2022-12-22T15:04:29.923Z"
   },
   {
    "duration": 20,
    "start_time": "2022-12-22T15:04:29.929Z"
   },
   {
    "duration": 6,
    "start_time": "2022-12-22T15:20:11.871Z"
   },
   {
    "duration": 88,
    "start_time": "2022-12-22T15:20:11.879Z"
   },
   {
    "duration": 9,
    "start_time": "2022-12-22T15:20:11.969Z"
   },
   {
    "duration": 13,
    "start_time": "2022-12-22T15:20:11.979Z"
   },
   {
    "duration": 14,
    "start_time": "2022-12-22T15:20:11.994Z"
   },
   {
    "duration": 16,
    "start_time": "2022-12-22T15:20:12.009Z"
   },
   {
    "duration": 10,
    "start_time": "2022-12-22T15:20:12.027Z"
   },
   {
    "duration": 42,
    "start_time": "2022-12-22T15:20:12.038Z"
   },
   {
    "duration": 15,
    "start_time": "2022-12-22T15:20:12.082Z"
   },
   {
    "duration": 13,
    "start_time": "2022-12-22T15:20:12.098Z"
   },
   {
    "duration": 22,
    "start_time": "2022-12-22T15:20:12.112Z"
   },
   {
    "duration": 7,
    "start_time": "2022-12-22T15:20:12.135Z"
   },
   {
    "duration": 43,
    "start_time": "2022-12-22T15:20:12.143Z"
   },
   {
    "duration": 525,
    "start_time": "2022-12-22T15:20:12.192Z"
   },
   {
    "duration": 356,
    "start_time": "2022-12-22T15:20:12.719Z"
   },
   {
    "duration": 309,
    "start_time": "2022-12-22T15:20:13.077Z"
   },
   {
    "duration": 12,
    "start_time": "2022-12-22T15:20:13.388Z"
   },
   {
    "duration": 13,
    "start_time": "2022-12-22T15:20:13.403Z"
   },
   {
    "duration": 12,
    "start_time": "2022-12-22T15:20:13.418Z"
   },
   {
    "duration": 394,
    "start_time": "2022-12-22T15:20:13.432Z"
   },
   {
    "duration": 542,
    "start_time": "2022-12-22T15:20:13.829Z"
   },
   {
    "duration": 14,
    "start_time": "2022-12-22T15:20:14.373Z"
   },
   {
    "duration": 21,
    "start_time": "2022-12-22T15:20:14.389Z"
   },
   {
    "duration": 328,
    "start_time": "2022-12-22T15:20:14.412Z"
   },
   {
    "duration": 7,
    "start_time": "2022-12-22T15:20:14.742Z"
   },
   {
    "duration": 42,
    "start_time": "2022-12-22T15:20:14.752Z"
   },
   {
    "duration": 228,
    "start_time": "2022-12-22T15:20:14.797Z"
   },
   {
    "duration": 310,
    "start_time": "2022-12-22T15:20:15.028Z"
   },
   {
    "duration": 370,
    "start_time": "2022-12-22T15:20:15.341Z"
   },
   {
    "duration": 449,
    "start_time": "2022-12-22T15:20:15.713Z"
   },
   {
    "duration": 346,
    "start_time": "2022-12-22T15:20:16.164Z"
   },
   {
    "duration": 15,
    "start_time": "2022-12-22T15:20:16.513Z"
   },
   {
    "duration": 205,
    "start_time": "2022-12-22T15:20:16.530Z"
   },
   {
    "duration": 6,
    "start_time": "2022-12-22T15:20:16.737Z"
   },
   {
    "duration": 323,
    "start_time": "2022-12-22T15:20:16.745Z"
   },
   {
    "duration": 12,
    "start_time": "2022-12-22T15:20:17.070Z"
   },
   {
    "duration": 19,
    "start_time": "2022-12-22T15:20:17.084Z"
   },
   {
    "duration": 48,
    "start_time": "2022-12-22T15:20:17.106Z"
   },
   {
    "duration": 41,
    "start_time": "2022-12-22T15:20:17.156Z"
   },
   {
    "duration": 160,
    "start_time": "2022-12-22T15:20:17.199Z"
   },
   {
    "duration": 19,
    "start_time": "2022-12-22T15:20:17.364Z"
   },
   {
    "duration": 27,
    "start_time": "2022-12-22T15:20:17.385Z"
   },
   {
    "duration": 19,
    "start_time": "2022-12-22T15:20:17.415Z"
   },
   {
    "duration": 21,
    "start_time": "2022-12-22T15:20:17.436Z"
   },
   {
    "duration": 7,
    "start_time": "2022-12-22T15:20:17.477Z"
   },
   {
    "duration": 14,
    "start_time": "2022-12-22T15:20:17.486Z"
   },
   {
    "duration": 55,
    "start_time": "2022-12-22T15:20:17.503Z"
   },
   {
    "duration": 25,
    "start_time": "2022-12-22T15:20:17.560Z"
   },
   {
    "duration": 377,
    "start_time": "2022-12-22T15:20:17.588Z"
   },
   {
    "duration": 316,
    "start_time": "2022-12-22T15:20:17.967Z"
   },
   {
    "duration": 6,
    "start_time": "2022-12-22T15:20:18.286Z"
   },
   {
    "duration": 43,
    "start_time": "2022-12-22T15:20:18.295Z"
   },
   {
    "duration": 1264,
    "start_time": "2022-12-22T16:08:07.587Z"
   },
   {
    "duration": 196,
    "start_time": "2022-12-22T16:08:08.853Z"
   },
   {
    "duration": 14,
    "start_time": "2022-12-22T16:08:09.051Z"
   },
   {
    "duration": 15,
    "start_time": "2022-12-22T16:08:09.067Z"
   },
   {
    "duration": 28,
    "start_time": "2022-12-22T16:08:09.084Z"
   },
   {
    "duration": 19,
    "start_time": "2022-12-22T16:08:09.114Z"
   },
   {
    "duration": 35,
    "start_time": "2022-12-22T16:08:09.135Z"
   },
   {
    "duration": 31,
    "start_time": "2022-12-22T16:08:09.172Z"
   },
   {
    "duration": 14,
    "start_time": "2022-12-22T16:08:09.205Z"
   },
   {
    "duration": 35,
    "start_time": "2022-12-22T16:08:09.221Z"
   },
   {
    "duration": 19,
    "start_time": "2022-12-22T16:08:09.258Z"
   },
   {
    "duration": 14,
    "start_time": "2022-12-22T16:08:09.279Z"
   },
   {
    "duration": 22,
    "start_time": "2022-12-22T16:08:09.295Z"
   },
   {
    "duration": 569,
    "start_time": "2022-12-22T16:08:09.320Z"
   },
   {
    "duration": 397,
    "start_time": "2022-12-22T16:08:09.891Z"
   },
   {
    "duration": 271,
    "start_time": "2022-12-22T16:08:10.289Z"
   },
   {
    "duration": 12,
    "start_time": "2022-12-22T16:08:10.562Z"
   },
   {
    "duration": 11,
    "start_time": "2022-12-22T16:08:10.575Z"
   },
   {
    "duration": 35,
    "start_time": "2022-12-22T16:08:10.588Z"
   },
   {
    "duration": 449,
    "start_time": "2022-12-22T16:08:10.624Z"
   },
   {
    "duration": 367,
    "start_time": "2022-12-22T16:08:11.075Z"
   },
   {
    "duration": 17,
    "start_time": "2022-12-22T16:08:11.443Z"
   },
   {
    "duration": 21,
    "start_time": "2022-12-22T16:08:11.462Z"
   },
   {
    "duration": 300,
    "start_time": "2022-12-22T16:08:11.485Z"
   },
   {
    "duration": 5,
    "start_time": "2022-12-22T16:08:11.787Z"
   },
   {
    "duration": 20,
    "start_time": "2022-12-22T16:08:11.794Z"
   },
   {
    "duration": 243,
    "start_time": "2022-12-22T16:08:11.816Z"
   },
   {
    "duration": 217,
    "start_time": "2022-12-22T16:08:12.061Z"
   },
   {
    "duration": 363,
    "start_time": "2022-12-22T16:08:12.280Z"
   },
   {
    "duration": 348,
    "start_time": "2022-12-22T16:08:12.644Z"
   },
   {
    "duration": 294,
    "start_time": "2022-12-22T16:08:12.994Z"
   },
   {
    "duration": 13,
    "start_time": "2022-12-22T16:08:13.290Z"
   },
   {
    "duration": 179,
    "start_time": "2022-12-22T16:08:13.305Z"
   },
   {
    "duration": 5,
    "start_time": "2022-12-22T16:08:13.486Z"
   },
   {
    "duration": 282,
    "start_time": "2022-12-22T16:08:13.492Z"
   },
   {
    "duration": 6,
    "start_time": "2022-12-22T16:08:13.775Z"
   },
   {
    "duration": 18,
    "start_time": "2022-12-22T16:08:13.782Z"
   },
   {
    "duration": 55,
    "start_time": "2022-12-22T16:08:13.802Z"
   },
   {
    "duration": 25,
    "start_time": "2022-12-22T16:08:13.859Z"
   },
   {
    "duration": 238,
    "start_time": "2022-12-22T16:08:13.886Z"
   },
   {
    "duration": 7,
    "start_time": "2022-12-22T16:08:14.128Z"
   },
   {
    "duration": 52,
    "start_time": "2022-12-22T16:08:14.137Z"
   },
   {
    "duration": 13,
    "start_time": "2022-12-22T16:08:14.191Z"
   },
   {
    "duration": 27,
    "start_time": "2022-12-22T16:08:14.207Z"
   },
   {
    "duration": 17,
    "start_time": "2022-12-22T16:08:14.236Z"
   },
   {
    "duration": 24,
    "start_time": "2022-12-22T16:08:14.255Z"
   },
   {
    "duration": 40,
    "start_time": "2022-12-22T16:08:14.281Z"
   },
   {
    "duration": 13,
    "start_time": "2022-12-22T16:08:14.322Z"
   },
   {
    "duration": 276,
    "start_time": "2022-12-22T16:08:14.336Z"
   },
   {
    "duration": 227,
    "start_time": "2022-12-22T16:08:14.613Z"
   },
   {
    "duration": 10,
    "start_time": "2022-12-22T16:08:14.842Z"
   },
   {
    "duration": 12,
    "start_time": "2022-12-22T16:08:14.854Z"
   },
   {
    "duration": 17,
    "start_time": "2022-12-22T16:13:51.456Z"
   },
   {
    "duration": 331,
    "start_time": "2022-12-22T16:15:36.233Z"
   },
   {
    "duration": 321,
    "start_time": "2022-12-22T16:15:41.942Z"
   },
   {
    "duration": 1288,
    "start_time": "2022-12-22T17:18:15.571Z"
   },
   {
    "duration": 197,
    "start_time": "2022-12-22T17:18:16.861Z"
   },
   {
    "duration": 12,
    "start_time": "2022-12-22T17:18:17.059Z"
   },
   {
    "duration": 14,
    "start_time": "2022-12-22T17:18:17.073Z"
   },
   {
    "duration": 13,
    "start_time": "2022-12-22T17:18:17.089Z"
   },
   {
    "duration": 11,
    "start_time": "2022-12-22T17:18:17.104Z"
   },
   {
    "duration": 10,
    "start_time": "2022-12-22T17:18:17.117Z"
   },
   {
    "duration": 11,
    "start_time": "2022-12-22T17:18:17.128Z"
   },
   {
    "duration": 8,
    "start_time": "2022-12-22T17:18:17.140Z"
   },
   {
    "duration": 10,
    "start_time": "2022-12-22T17:18:17.150Z"
   },
   {
    "duration": 39,
    "start_time": "2022-12-22T17:18:17.161Z"
   },
   {
    "duration": 6,
    "start_time": "2022-12-22T17:18:17.202Z"
   },
   {
    "duration": 12,
    "start_time": "2022-12-22T17:18:17.209Z"
   },
   {
    "duration": 449,
    "start_time": "2022-12-22T17:18:17.223Z"
   },
   {
    "duration": 348,
    "start_time": "2022-12-22T17:18:17.674Z"
   },
   {
    "duration": 242,
    "start_time": "2022-12-22T17:18:18.025Z"
   },
   {
    "duration": 11,
    "start_time": "2022-12-22T17:18:18.269Z"
   },
   {
    "duration": 18,
    "start_time": "2022-12-22T17:18:18.282Z"
   },
   {
    "duration": 13,
    "start_time": "2022-12-22T17:18:18.302Z"
   },
   {
    "duration": 367,
    "start_time": "2022-12-22T17:18:18.317Z"
   },
   {
    "duration": 319,
    "start_time": "2022-12-22T17:18:18.686Z"
   },
   {
    "duration": 12,
    "start_time": "2022-12-22T17:18:19.007Z"
   },
   {
    "duration": 12,
    "start_time": "2022-12-22T17:18:19.021Z"
   },
   {
    "duration": 286,
    "start_time": "2022-12-22T17:18:19.035Z"
   },
   {
    "duration": 4,
    "start_time": "2022-12-22T17:18:19.323Z"
   },
   {
    "duration": 11,
    "start_time": "2022-12-22T17:18:19.329Z"
   },
   {
    "duration": 188,
    "start_time": "2022-12-22T17:18:19.342Z"
   },
   {
    "duration": 191,
    "start_time": "2022-12-22T17:18:19.534Z"
   },
   {
    "duration": 367,
    "start_time": "2022-12-22T17:18:19.726Z"
   },
   {
    "duration": 307,
    "start_time": "2022-12-22T17:18:20.095Z"
   },
   {
    "duration": 271,
    "start_time": "2022-12-22T17:18:20.404Z"
   },
   {
    "duration": 21,
    "start_time": "2022-12-22T17:18:20.676Z"
   },
   {
    "duration": 149,
    "start_time": "2022-12-22T17:18:20.699Z"
   },
   {
    "duration": 5,
    "start_time": "2022-12-22T17:18:20.850Z"
   },
   {
    "duration": 251,
    "start_time": "2022-12-22T17:18:20.856Z"
   },
   {
    "duration": 5,
    "start_time": "2022-12-22T17:18:21.109Z"
   },
   {
    "duration": 8,
    "start_time": "2022-12-22T17:18:21.115Z"
   },
   {
    "duration": 30,
    "start_time": "2022-12-22T17:18:21.124Z"
   },
   {
    "duration": 47,
    "start_time": "2022-12-22T17:18:21.155Z"
   },
   {
    "duration": 119,
    "start_time": "2022-12-22T17:18:21.204Z"
   },
   {
    "duration": 7,
    "start_time": "2022-12-22T17:18:21.325Z"
   },
   {
    "duration": 124,
    "start_time": "2022-12-22T17:18:21.333Z"
   },
   {
    "duration": 10,
    "start_time": "2022-12-22T17:18:21.459Z"
   },
   {
    "duration": 9,
    "start_time": "2022-12-22T17:18:21.470Z"
   },
   {
    "duration": 6,
    "start_time": "2022-12-22T17:18:21.497Z"
   },
   {
    "duration": 8,
    "start_time": "2022-12-22T17:18:21.504Z"
   },
   {
    "duration": 23,
    "start_time": "2022-12-22T17:18:21.514Z"
   },
   {
    "duration": 12,
    "start_time": "2022-12-22T17:18:21.539Z"
   },
   {
    "duration": 282,
    "start_time": "2022-12-22T17:18:21.553Z"
   },
   {
    "duration": 201,
    "start_time": "2022-12-22T17:18:21.837Z"
   },
   {
    "duration": 4,
    "start_time": "2022-12-22T17:18:22.040Z"
   },
   {
    "duration": 21,
    "start_time": "2022-12-22T17:18:22.046Z"
   },
   {
    "duration": 11,
    "start_time": "2022-12-22T17:20:08.840Z"
   },
   {
    "duration": 228,
    "start_time": "2022-12-22T17:20:59.944Z"
   },
   {
    "duration": 174,
    "start_time": "2022-12-22T20:31:39.694Z"
   },
   {
    "duration": 315,
    "start_time": "2022-12-22T20:34:29.794Z"
   },
   {
    "duration": 271,
    "start_time": "2022-12-22T20:34:58.604Z"
   },
   {
    "duration": 299,
    "start_time": "2022-12-22T20:47:39.521Z"
   },
   {
    "duration": 328,
    "start_time": "2022-12-22T20:48:12.083Z"
   },
   {
    "duration": 287,
    "start_time": "2022-12-22T20:48:30.598Z"
   },
   {
    "duration": 260,
    "start_time": "2022-12-22T21:04:31.822Z"
   },
   {
    "duration": 5,
    "start_time": "2022-12-22T21:08:23.836Z"
   },
   {
    "duration": 5,
    "start_time": "2022-12-22T21:10:28.800Z"
   },
   {
    "duration": 7,
    "start_time": "2022-12-22T21:11:08.822Z"
   },
   {
    "duration": 22,
    "start_time": "2022-12-22T21:11:10.476Z"
   },
   {
    "duration": 4,
    "start_time": "2022-12-22T21:13:37.319Z"
   },
   {
    "duration": 93,
    "start_time": "2022-12-22T21:13:37.324Z"
   },
   {
    "duration": 8,
    "start_time": "2022-12-22T21:13:37.418Z"
   },
   {
    "duration": 14,
    "start_time": "2022-12-22T21:13:37.427Z"
   },
   {
    "duration": 13,
    "start_time": "2022-12-22T21:13:37.442Z"
   },
   {
    "duration": 12,
    "start_time": "2022-12-22T21:13:37.456Z"
   },
   {
    "duration": 10,
    "start_time": "2022-12-22T21:13:37.470Z"
   },
   {
    "duration": 11,
    "start_time": "2022-12-22T21:13:37.482Z"
   },
   {
    "duration": 8,
    "start_time": "2022-12-22T21:13:37.495Z"
   },
   {
    "duration": 13,
    "start_time": "2022-12-22T21:13:37.505Z"
   },
   {
    "duration": 39,
    "start_time": "2022-12-22T21:13:37.522Z"
   },
   {
    "duration": 7,
    "start_time": "2022-12-22T21:13:37.563Z"
   },
   {
    "duration": 20,
    "start_time": "2022-12-22T21:13:37.571Z"
   },
   {
    "duration": 492,
    "start_time": "2022-12-22T21:13:37.593Z"
   },
   {
    "duration": 281,
    "start_time": "2022-12-22T21:13:38.087Z"
   },
   {
    "duration": 228,
    "start_time": "2022-12-22T21:13:38.370Z"
   },
   {
    "duration": 10,
    "start_time": "2022-12-22T21:13:38.600Z"
   },
   {
    "duration": 6,
    "start_time": "2022-12-22T21:13:38.612Z"
   },
   {
    "duration": 10,
    "start_time": "2022-12-22T21:13:38.619Z"
   },
   {
    "duration": 312,
    "start_time": "2022-12-22T21:13:38.631Z"
   },
   {
    "duration": 326,
    "start_time": "2022-12-22T21:13:38.945Z"
   },
   {
    "duration": 10,
    "start_time": "2022-12-22T21:13:39.273Z"
   },
   {
    "duration": 22,
    "start_time": "2022-12-22T21:13:39.284Z"
   },
   {
    "duration": 248,
    "start_time": "2022-12-22T21:13:39.307Z"
   },
   {
    "duration": 4,
    "start_time": "2022-12-22T21:13:39.557Z"
   },
   {
    "duration": 20,
    "start_time": "2022-12-22T21:13:39.562Z"
   },
   {
    "duration": 276,
    "start_time": "2022-12-22T21:13:39.583Z"
   },
   {
    "duration": 202,
    "start_time": "2022-12-22T21:13:39.861Z"
   },
   {
    "duration": 300,
    "start_time": "2022-12-22T21:13:40.067Z"
   },
   {
    "duration": 332,
    "start_time": "2022-12-22T21:13:40.369Z"
   },
   {
    "duration": 273,
    "start_time": "2022-12-22T21:13:40.702Z"
   },
   {
    "duration": 21,
    "start_time": "2022-12-22T21:13:40.977Z"
   },
   {
    "duration": 144,
    "start_time": "2022-12-22T21:13:41.010Z"
   },
   {
    "duration": 5,
    "start_time": "2022-12-22T21:13:41.156Z"
   },
   {
    "duration": 251,
    "start_time": "2022-12-22T21:13:41.163Z"
   },
   {
    "duration": 5,
    "start_time": "2022-12-22T21:13:41.416Z"
   },
   {
    "duration": 7,
    "start_time": "2022-12-22T21:13:41.422Z"
   },
   {
    "duration": 124,
    "start_time": "2022-12-22T21:13:41.431Z"
   },
   {
    "duration": 7,
    "start_time": "2022-12-22T21:13:41.556Z"
   },
   {
    "duration": 34,
    "start_time": "2022-12-22T21:13:41.564Z"
   },
   {
    "duration": 9,
    "start_time": "2022-12-22T21:13:41.600Z"
   },
   {
    "duration": 12,
    "start_time": "2022-12-22T21:13:41.610Z"
   },
   {
    "duration": 7,
    "start_time": "2022-12-22T21:13:41.623Z"
   },
   {
    "duration": 9,
    "start_time": "2022-12-22T21:13:41.631Z"
   },
   {
    "duration": 32,
    "start_time": "2022-12-22T21:13:41.641Z"
   },
   {
    "duration": 28,
    "start_time": "2022-12-22T21:13:41.674Z"
   },
   {
    "duration": 261,
    "start_time": "2022-12-22T21:13:41.704Z"
   },
   {
    "duration": 198,
    "start_time": "2022-12-22T21:13:41.967Z"
   },
   {
    "duration": 4,
    "start_time": "2022-12-22T21:13:42.167Z"
   },
   {
    "duration": 9,
    "start_time": "2022-12-22T21:13:42.172Z"
   },
   {
    "duration": 5,
    "start_time": "2022-12-22T21:15:45.010Z"
   },
   {
    "duration": 9,
    "start_time": "2022-12-22T21:15:58.268Z"
   },
   {
    "duration": 9,
    "start_time": "2022-12-22T21:16:51.815Z"
   },
   {
    "duration": 5,
    "start_time": "2022-12-22T21:18:13.581Z"
   },
   {
    "duration": 76,
    "start_time": "2022-12-22T21:18:13.588Z"
   },
   {
    "duration": 7,
    "start_time": "2022-12-22T21:18:13.666Z"
   },
   {
    "duration": 11,
    "start_time": "2022-12-22T21:18:13.674Z"
   },
   {
    "duration": 9,
    "start_time": "2022-12-22T21:18:13.687Z"
   },
   {
    "duration": 10,
    "start_time": "2022-12-22T21:18:13.698Z"
   },
   {
    "duration": 9,
    "start_time": "2022-12-22T21:18:13.709Z"
   },
   {
    "duration": 10,
    "start_time": "2022-12-22T21:18:13.719Z"
   },
   {
    "duration": 5,
    "start_time": "2022-12-22T21:18:13.731Z"
   },
   {
    "duration": 9,
    "start_time": "2022-12-22T21:18:13.738Z"
   },
   {
    "duration": 13,
    "start_time": "2022-12-22T21:18:13.749Z"
   },
   {
    "duration": 5,
    "start_time": "2022-12-22T21:18:13.764Z"
   },
   {
    "duration": 9,
    "start_time": "2022-12-22T21:18:13.797Z"
   },
   {
    "duration": 437,
    "start_time": "2022-12-22T21:18:13.807Z"
   },
   {
    "duration": 382,
    "start_time": "2022-12-22T21:18:14.247Z"
   },
   {
    "duration": 233,
    "start_time": "2022-12-22T21:18:14.631Z"
   },
   {
    "duration": 9,
    "start_time": "2022-12-22T21:18:14.866Z"
   },
   {
    "duration": 4,
    "start_time": "2022-12-22T21:18:14.877Z"
   },
   {
    "duration": 24,
    "start_time": "2022-12-22T21:18:14.882Z"
   },
   {
    "duration": 305,
    "start_time": "2022-12-22T21:18:14.907Z"
   },
   {
    "duration": 334,
    "start_time": "2022-12-22T21:18:15.213Z"
   },
   {
    "duration": 10,
    "start_time": "2022-12-22T21:18:15.548Z"
   },
   {
    "duration": 13,
    "start_time": "2022-12-22T21:18:15.560Z"
   },
   {
    "duration": 272,
    "start_time": "2022-12-22T21:18:15.575Z"
   },
   {
    "duration": 4,
    "start_time": "2022-12-22T21:18:15.849Z"
   },
   {
    "duration": 24,
    "start_time": "2022-12-22T21:18:15.854Z"
   },
   {
    "duration": 179,
    "start_time": "2022-12-22T21:18:15.879Z"
   },
   {
    "duration": 185,
    "start_time": "2022-12-22T21:18:16.059Z"
   },
   {
    "duration": 351,
    "start_time": "2022-12-22T21:18:16.246Z"
   },
   {
    "duration": 302,
    "start_time": "2022-12-22T21:18:16.599Z"
   },
   {
    "duration": 280,
    "start_time": "2022-12-22T21:18:16.902Z"
   },
   {
    "duration": 20,
    "start_time": "2022-12-22T21:18:17.184Z"
   },
   {
    "duration": 146,
    "start_time": "2022-12-22T21:18:17.206Z"
   },
   {
    "duration": 4,
    "start_time": "2022-12-22T21:18:17.354Z"
   },
   {
    "duration": 241,
    "start_time": "2022-12-22T21:18:17.359Z"
   },
   {
    "duration": 5,
    "start_time": "2022-12-22T21:18:17.602Z"
   },
   {
    "duration": 7,
    "start_time": "2022-12-22T21:18:17.610Z"
   },
   {
    "duration": 115,
    "start_time": "2022-12-22T21:18:17.618Z"
   },
   {
    "duration": 6,
    "start_time": "2022-12-22T21:18:17.735Z"
   },
   {
    "duration": 28,
    "start_time": "2022-12-22T21:18:17.742Z"
   },
   {
    "duration": 9,
    "start_time": "2022-12-22T21:18:17.771Z"
   },
   {
    "duration": 21,
    "start_time": "2022-12-22T21:18:17.782Z"
   },
   {
    "duration": 4,
    "start_time": "2022-12-22T21:18:17.805Z"
   },
   {
    "duration": 14,
    "start_time": "2022-12-22T21:18:17.811Z"
   },
   {
    "duration": 36,
    "start_time": "2022-12-22T21:18:17.826Z"
   },
   {
    "duration": 17,
    "start_time": "2022-12-22T21:18:17.864Z"
   },
   {
    "duration": 277,
    "start_time": "2022-12-22T21:18:17.882Z"
   },
   {
    "duration": 191,
    "start_time": "2022-12-22T21:18:18.161Z"
   },
   {
    "duration": 4,
    "start_time": "2022-12-22T21:18:18.353Z"
   },
   {
    "duration": 9,
    "start_time": "2022-12-22T21:18:18.358Z"
   },
   {
    "duration": 56,
    "start_time": "2022-12-22T21:21:34.574Z"
   },
   {
    "duration": 52,
    "start_time": "2022-12-22T21:35:30.294Z"
   },
   {
    "duration": 4,
    "start_time": "2022-12-22T21:36:41.305Z"
   },
   {
    "duration": 100,
    "start_time": "2022-12-22T21:36:41.310Z"
   },
   {
    "duration": 9,
    "start_time": "2022-12-22T21:36:41.412Z"
   },
   {
    "duration": 16,
    "start_time": "2022-12-22T21:36:41.423Z"
   },
   {
    "duration": 10,
    "start_time": "2022-12-22T21:36:41.441Z"
   },
   {
    "duration": 24,
    "start_time": "2022-12-22T21:36:41.452Z"
   },
   {
    "duration": 9,
    "start_time": "2022-12-22T21:36:41.477Z"
   },
   {
    "duration": 12,
    "start_time": "2022-12-22T21:36:41.487Z"
   },
   {
    "duration": 12,
    "start_time": "2022-12-22T21:36:41.501Z"
   },
   {
    "duration": 10,
    "start_time": "2022-12-22T21:36:41.515Z"
   },
   {
    "duration": 14,
    "start_time": "2022-12-22T21:36:41.527Z"
   },
   {
    "duration": 5,
    "start_time": "2022-12-22T21:36:41.543Z"
   },
   {
    "duration": 12,
    "start_time": "2022-12-22T21:36:41.549Z"
   },
   {
    "duration": 420,
    "start_time": "2022-12-22T21:36:41.562Z"
   },
   {
    "duration": 269,
    "start_time": "2022-12-22T21:36:41.984Z"
   },
   {
    "duration": 309,
    "start_time": "2022-12-22T21:36:42.255Z"
   },
   {
    "duration": 9,
    "start_time": "2022-12-22T21:36:42.566Z"
   },
   {
    "duration": 29,
    "start_time": "2022-12-22T21:36:42.576Z"
   },
   {
    "duration": 17,
    "start_time": "2022-12-22T21:36:42.607Z"
   },
   {
    "duration": 284,
    "start_time": "2022-12-22T21:36:42.626Z"
   },
   {
    "duration": 312,
    "start_time": "2022-12-22T21:36:42.911Z"
   },
   {
    "duration": 10,
    "start_time": "2022-12-22T21:36:43.225Z"
   },
   {
    "duration": 15,
    "start_time": "2022-12-22T21:36:43.237Z"
   },
   {
    "duration": 260,
    "start_time": "2022-12-22T21:36:43.254Z"
   },
   {
    "duration": 4,
    "start_time": "2022-12-22T21:36:43.515Z"
   },
   {
    "duration": 11,
    "start_time": "2022-12-22T21:36:43.521Z"
   },
   {
    "duration": 182,
    "start_time": "2022-12-22T21:36:43.534Z"
   },
   {
    "duration": 187,
    "start_time": "2022-12-22T21:36:43.719Z"
   },
   {
    "duration": 276,
    "start_time": "2022-12-22T21:36:43.907Z"
   },
   {
    "duration": 316,
    "start_time": "2022-12-22T21:36:44.185Z"
   },
   {
    "duration": 289,
    "start_time": "2022-12-22T21:36:44.503Z"
   },
   {
    "duration": 10,
    "start_time": "2022-12-22T21:36:44.798Z"
   },
   {
    "duration": 239,
    "start_time": "2022-12-22T21:36:44.809Z"
   },
   {
    "duration": 5,
    "start_time": "2022-12-22T21:36:45.051Z"
   },
   {
    "duration": 239,
    "start_time": "2022-12-22T21:36:45.058Z"
   },
   {
    "duration": 5,
    "start_time": "2022-12-22T21:36:45.298Z"
   },
   {
    "duration": 11,
    "start_time": "2022-12-22T21:36:45.304Z"
   },
   {
    "duration": 115,
    "start_time": "2022-12-22T21:36:45.316Z"
   },
   {
    "duration": 7,
    "start_time": "2022-12-22T21:36:45.433Z"
   },
   {
    "duration": 28,
    "start_time": "2022-12-22T21:36:45.441Z"
   },
   {
    "duration": 15,
    "start_time": "2022-12-22T21:36:45.471Z"
   },
   {
    "duration": 15,
    "start_time": "2022-12-22T21:36:45.488Z"
   },
   {
    "duration": 5,
    "start_time": "2022-12-22T21:36:45.505Z"
   },
   {
    "duration": 10,
    "start_time": "2022-12-22T21:36:45.512Z"
   },
   {
    "duration": 22,
    "start_time": "2022-12-22T21:36:45.523Z"
   },
   {
    "duration": 11,
    "start_time": "2022-12-22T21:36:45.546Z"
   },
   {
    "duration": 284,
    "start_time": "2022-12-22T21:36:45.558Z"
   },
   {
    "duration": 200,
    "start_time": "2022-12-22T21:36:45.844Z"
   },
   {
    "duration": 4,
    "start_time": "2022-12-22T21:36:46.045Z"
   },
   {
    "duration": 9,
    "start_time": "2022-12-22T21:36:46.050Z"
   },
   {
    "duration": 4,
    "start_time": "2022-12-22T21:46:13.459Z"
   },
   {
    "duration": 95,
    "start_time": "2022-12-22T21:46:13.465Z"
   },
   {
    "duration": 7,
    "start_time": "2022-12-22T21:46:13.561Z"
   },
   {
    "duration": 29,
    "start_time": "2022-12-22T21:46:13.570Z"
   },
   {
    "duration": 43,
    "start_time": "2022-12-22T21:46:13.600Z"
   },
   {
    "duration": 27,
    "start_time": "2022-12-22T21:46:13.644Z"
   },
   {
    "duration": 24,
    "start_time": "2022-12-22T21:46:13.673Z"
   },
   {
    "duration": 28,
    "start_time": "2022-12-22T21:46:13.699Z"
   },
   {
    "duration": 51,
    "start_time": "2022-12-22T21:46:13.729Z"
   },
   {
    "duration": 28,
    "start_time": "2022-12-22T21:46:13.783Z"
   },
   {
    "duration": 55,
    "start_time": "2022-12-22T21:46:13.812Z"
   },
   {
    "duration": 23,
    "start_time": "2022-12-22T21:46:13.868Z"
   },
   {
    "duration": 40,
    "start_time": "2022-12-22T21:46:13.892Z"
   },
   {
    "duration": 456,
    "start_time": "2022-12-22T21:46:13.933Z"
   },
   {
    "duration": 316,
    "start_time": "2022-12-22T21:46:14.390Z"
   },
   {
    "duration": 233,
    "start_time": "2022-12-22T21:46:14.707Z"
   },
   {
    "duration": 9,
    "start_time": "2022-12-22T21:46:14.941Z"
   },
   {
    "duration": 20,
    "start_time": "2022-12-22T21:46:14.951Z"
   },
   {
    "duration": 19,
    "start_time": "2022-12-22T21:46:14.973Z"
   },
   {
    "duration": 280,
    "start_time": "2022-12-22T21:46:14.993Z"
   },
   {
    "duration": 408,
    "start_time": "2022-12-22T21:46:15.275Z"
   },
   {
    "duration": 17,
    "start_time": "2022-12-22T21:46:15.686Z"
   },
   {
    "duration": 11,
    "start_time": "2022-12-22T21:46:15.704Z"
   },
   {
    "duration": 247,
    "start_time": "2022-12-22T21:46:15.716Z"
   },
   {
    "duration": 4,
    "start_time": "2022-12-22T21:46:15.965Z"
   },
   {
    "duration": 9,
    "start_time": "2022-12-22T21:46:15.970Z"
   },
   {
    "duration": 186,
    "start_time": "2022-12-22T21:46:15.980Z"
   },
   {
    "duration": 183,
    "start_time": "2022-12-22T21:46:16.169Z"
   },
   {
    "duration": 265,
    "start_time": "2022-12-22T21:46:16.354Z"
   },
   {
    "duration": 288,
    "start_time": "2022-12-22T21:46:16.621Z"
   },
   {
    "duration": 265,
    "start_time": "2022-12-22T21:46:16.911Z"
   },
   {
    "duration": 20,
    "start_time": "2022-12-22T21:46:17.178Z"
   },
   {
    "duration": 146,
    "start_time": "2022-12-22T21:46:17.200Z"
   },
   {
    "duration": 4,
    "start_time": "2022-12-22T21:46:17.348Z"
   },
   {
    "duration": 238,
    "start_time": "2022-12-22T21:46:17.353Z"
   },
   {
    "duration": 6,
    "start_time": "2022-12-22T21:46:17.593Z"
   },
   {
    "duration": 9,
    "start_time": "2022-12-22T21:46:17.601Z"
   },
   {
    "duration": 118,
    "start_time": "2022-12-22T21:46:17.611Z"
   },
   {
    "duration": 7,
    "start_time": "2022-12-22T21:46:17.730Z"
   },
   {
    "duration": 23,
    "start_time": "2022-12-22T21:46:17.738Z"
   },
   {
    "duration": 9,
    "start_time": "2022-12-22T21:46:17.762Z"
   },
   {
    "duration": 29,
    "start_time": "2022-12-22T21:46:17.772Z"
   },
   {
    "duration": 4,
    "start_time": "2022-12-22T21:46:17.803Z"
   },
   {
    "duration": 14,
    "start_time": "2022-12-22T21:46:17.808Z"
   },
   {
    "duration": 21,
    "start_time": "2022-12-22T21:46:17.824Z"
   },
   {
    "duration": 12,
    "start_time": "2022-12-22T21:46:17.847Z"
   },
   {
    "duration": 264,
    "start_time": "2022-12-22T21:46:17.860Z"
   },
   {
    "duration": 199,
    "start_time": "2022-12-22T21:46:18.126Z"
   },
   {
    "duration": 3,
    "start_time": "2022-12-22T21:46:18.327Z"
   },
   {
    "duration": 10,
    "start_time": "2022-12-22T21:46:18.331Z"
   },
   {
    "duration": 1049,
    "start_time": "2022-12-27T13:53:38.331Z"
   },
   {
    "duration": 191,
    "start_time": "2022-12-27T13:53:39.382Z"
   },
   {
    "duration": 12,
    "start_time": "2022-12-27T13:53:39.575Z"
   },
   {
    "duration": 10,
    "start_time": "2022-12-27T13:53:39.589Z"
   },
   {
    "duration": 14,
    "start_time": "2022-12-27T13:53:39.601Z"
   },
   {
    "duration": 23,
    "start_time": "2022-12-27T13:53:39.617Z"
   },
   {
    "duration": 9,
    "start_time": "2022-12-27T13:53:39.642Z"
   },
   {
    "duration": 23,
    "start_time": "2022-12-27T13:53:39.653Z"
   },
   {
    "duration": 4,
    "start_time": "2022-12-27T13:53:39.678Z"
   },
   {
    "duration": 16,
    "start_time": "2022-12-27T13:53:39.685Z"
   },
   {
    "duration": 19,
    "start_time": "2022-12-27T13:53:39.702Z"
   },
   {
    "duration": 7,
    "start_time": "2022-12-27T13:53:39.722Z"
   },
   {
    "duration": 25,
    "start_time": "2022-12-27T13:53:39.730Z"
   },
   {
    "duration": 470,
    "start_time": "2022-12-27T13:53:39.756Z"
   },
   {
    "duration": 376,
    "start_time": "2022-12-27T13:53:40.227Z"
   },
   {
    "duration": 296,
    "start_time": "2022-12-27T13:53:40.605Z"
   },
   {
    "duration": 14,
    "start_time": "2022-12-27T13:53:40.903Z"
   },
   {
    "duration": 5,
    "start_time": "2022-12-27T13:53:40.919Z"
   },
   {
    "duration": 13,
    "start_time": "2022-12-27T13:53:40.977Z"
   },
   {
    "duration": 796,
    "start_time": "2022-12-27T13:53:40.992Z"
   },
   {
    "duration": 705,
    "start_time": "2022-12-27T13:53:41.789Z"
   },
   {
    "duration": 11,
    "start_time": "2022-12-27T13:53:42.496Z"
   },
   {
    "duration": 14,
    "start_time": "2022-12-27T13:53:42.509Z"
   },
   {
    "duration": 576,
    "start_time": "2022-12-27T13:53:42.525Z"
   },
   {
    "duration": 4,
    "start_time": "2022-12-27T13:53:43.103Z"
   },
   {
    "duration": 12,
    "start_time": "2022-12-27T13:53:43.110Z"
   },
   {
    "duration": 464,
    "start_time": "2022-12-27T13:53:43.124Z"
   },
   {
    "duration": 413,
    "start_time": "2022-12-27T13:53:43.592Z"
   },
   {
    "duration": 479,
    "start_time": "2022-12-27T13:53:44.006Z"
   },
   {
    "duration": 398,
    "start_time": "2022-12-27T13:53:44.487Z"
   },
   {
    "duration": 323,
    "start_time": "2022-12-27T13:53:44.887Z"
   },
   {
    "duration": 11,
    "start_time": "2022-12-27T13:53:45.212Z"
   },
   {
    "duration": 200,
    "start_time": "2022-12-27T13:53:45.225Z"
   },
   {
    "duration": 5,
    "start_time": "2022-12-27T13:53:45.426Z"
   },
   {
    "duration": 283,
    "start_time": "2022-12-27T13:53:45.432Z"
   },
   {
    "duration": 4,
    "start_time": "2022-12-27T13:53:45.717Z"
   },
   {
    "duration": 8,
    "start_time": "2022-12-27T13:53:45.723Z"
   },
   {
    "duration": 127,
    "start_time": "2022-12-27T13:53:45.733Z"
   },
   {
    "duration": 14,
    "start_time": "2022-12-27T13:53:45.862Z"
   },
   {
    "duration": 29,
    "start_time": "2022-12-27T13:53:45.878Z"
   },
   {
    "duration": 10,
    "start_time": "2022-12-27T13:53:45.909Z"
   },
   {
    "duration": 18,
    "start_time": "2022-12-27T13:53:45.920Z"
   },
   {
    "duration": 11,
    "start_time": "2022-12-27T13:53:45.940Z"
   },
   {
    "duration": 96,
    "start_time": "2022-12-27T13:53:45.953Z"
   },
   {
    "duration": 33,
    "start_time": "2022-12-27T13:53:46.051Z"
   },
   {
    "duration": 13,
    "start_time": "2022-12-27T13:53:46.085Z"
   },
   {
    "duration": 283,
    "start_time": "2022-12-27T13:53:46.099Z"
   },
   {
    "duration": 236,
    "start_time": "2022-12-27T13:53:46.383Z"
   },
   {
    "duration": 4,
    "start_time": "2022-12-27T13:53:46.620Z"
   },
   {
    "duration": 7,
    "start_time": "2022-12-27T13:53:46.625Z"
   },
   {
    "duration": 4,
    "start_time": "2022-12-27T13:54:11.563Z"
   },
   {
    "duration": 88,
    "start_time": "2022-12-27T13:54:11.569Z"
   },
   {
    "duration": 8,
    "start_time": "2022-12-27T13:54:11.658Z"
   },
   {
    "duration": 11,
    "start_time": "2022-12-27T13:54:11.669Z"
   },
   {
    "duration": 15,
    "start_time": "2022-12-27T13:54:11.681Z"
   },
   {
    "duration": 25,
    "start_time": "2022-12-27T13:54:11.698Z"
   },
   {
    "duration": 24,
    "start_time": "2022-12-27T13:54:11.725Z"
   },
   {
    "duration": 25,
    "start_time": "2022-12-27T13:54:11.750Z"
   },
   {
    "duration": 14,
    "start_time": "2022-12-27T13:54:11.778Z"
   },
   {
    "duration": 11,
    "start_time": "2022-12-27T13:54:11.793Z"
   },
   {
    "duration": 19,
    "start_time": "2022-12-27T13:54:11.806Z"
   },
   {
    "duration": 6,
    "start_time": "2022-12-27T13:54:11.827Z"
   },
   {
    "duration": 19,
    "start_time": "2022-12-27T13:54:11.834Z"
   },
   {
    "duration": 455,
    "start_time": "2022-12-27T13:54:11.855Z"
   },
   {
    "duration": 308,
    "start_time": "2022-12-27T13:54:12.312Z"
   },
   {
    "duration": 250,
    "start_time": "2022-12-27T13:54:12.621Z"
   },
   {
    "duration": 10,
    "start_time": "2022-12-27T13:54:18.735Z"
   },
   {
    "duration": 6,
    "start_time": "2022-12-27T13:54:27.060Z"
   },
   {
    "duration": 5,
    "start_time": "2022-12-27T13:55:14.553Z"
   },
   {
    "duration": 11,
    "start_time": "2022-12-27T13:55:16.453Z"
   },
   {
    "duration": 9,
    "start_time": "2022-12-27T13:55:27.497Z"
   },
   {
    "duration": 1147,
    "start_time": "2023-01-09T15:48:51.530Z"
   },
   {
    "duration": 244,
    "start_time": "2023-01-09T15:48:52.679Z"
   },
   {
    "duration": 15,
    "start_time": "2023-01-09T15:48:52.925Z"
   },
   {
    "duration": 12,
    "start_time": "2023-01-09T15:48:52.942Z"
   },
   {
    "duration": 13,
    "start_time": "2023-01-09T15:48:52.956Z"
   },
   {
    "duration": 14,
    "start_time": "2023-01-09T15:48:52.970Z"
   },
   {
    "duration": 9,
    "start_time": "2023-01-09T15:48:52.986Z"
   },
   {
    "duration": 17,
    "start_time": "2023-01-09T15:48:53.012Z"
   },
   {
    "duration": 15,
    "start_time": "2023-01-09T15:48:53.032Z"
   },
   {
    "duration": 12,
    "start_time": "2023-01-09T15:48:53.050Z"
   },
   {
    "duration": 21,
    "start_time": "2023-01-09T15:48:53.063Z"
   },
   {
    "duration": 10,
    "start_time": "2023-01-09T15:48:53.086Z"
   },
   {
    "duration": 28,
    "start_time": "2023-01-09T15:48:53.098Z"
   },
   {
    "duration": 573,
    "start_time": "2023-01-09T15:48:53.129Z"
   },
   {
    "duration": 417,
    "start_time": "2023-01-09T15:48:53.704Z"
   },
   {
    "duration": 262,
    "start_time": "2023-01-09T15:48:54.128Z"
   },
   {
    "duration": 25,
    "start_time": "2023-01-09T15:48:54.392Z"
   },
   {
    "duration": 6,
    "start_time": "2023-01-09T15:48:54.421Z"
   },
   {
    "duration": 12,
    "start_time": "2023-01-09T15:48:54.429Z"
   },
   {
    "duration": 458,
    "start_time": "2023-01-09T15:48:54.443Z"
   },
   {
    "duration": 389,
    "start_time": "2023-01-09T15:48:54.903Z"
   },
   {
    "duration": 12,
    "start_time": "2023-01-09T15:48:55.293Z"
   },
   {
    "duration": 23,
    "start_time": "2023-01-09T15:48:55.306Z"
   },
   {
    "duration": 307,
    "start_time": "2023-01-09T15:48:55.332Z"
   },
   {
    "duration": 5,
    "start_time": "2023-01-09T15:48:55.641Z"
   },
   {
    "duration": 10,
    "start_time": "2023-01-09T15:48:55.647Z"
   },
   {
    "duration": 222,
    "start_time": "2023-01-09T15:48:55.659Z"
   },
   {
    "duration": 231,
    "start_time": "2023-01-09T15:48:55.886Z"
   },
   {
    "duration": 315,
    "start_time": "2023-01-09T15:48:56.119Z"
   },
   {
    "duration": 333,
    "start_time": "2023-01-09T15:48:56.436Z"
   },
   {
    "duration": 358,
    "start_time": "2023-01-09T15:48:56.770Z"
   },
   {
    "duration": 11,
    "start_time": "2023-01-09T15:48:57.129Z"
   },
   {
    "duration": 188,
    "start_time": "2023-01-09T15:48:57.142Z"
   },
   {
    "duration": 4,
    "start_time": "2023-01-09T15:48:57.332Z"
   },
   {
    "duration": 300,
    "start_time": "2023-01-09T15:48:57.338Z"
   },
   {
    "duration": 6,
    "start_time": "2023-01-09T15:48:57.639Z"
   },
   {
    "duration": 9,
    "start_time": "2023-01-09T15:48:57.646Z"
   },
   {
    "duration": 169,
    "start_time": "2023-01-09T15:48:57.656Z"
   },
   {
    "duration": 9,
    "start_time": "2023-01-09T15:48:57.827Z"
   },
   {
    "duration": 28,
    "start_time": "2023-01-09T15:48:57.838Z"
   },
   {
    "duration": 10,
    "start_time": "2023-01-09T15:48:57.868Z"
   },
   {
    "duration": 10,
    "start_time": "2023-01-09T15:48:57.880Z"
   },
   {
    "duration": 29,
    "start_time": "2023-01-09T15:48:57.892Z"
   },
   {
    "duration": 119,
    "start_time": "2023-01-09T15:48:57.923Z"
   },
   {
    "duration": 24,
    "start_time": "2023-01-09T15:48:58.043Z"
   },
   {
    "duration": 14,
    "start_time": "2023-01-09T15:48:58.069Z"
   },
   {
    "duration": 332,
    "start_time": "2023-01-09T15:48:58.085Z"
   },
   {
    "duration": 255,
    "start_time": "2023-01-09T15:48:58.419Z"
   },
   {
    "duration": 8,
    "start_time": "2023-01-09T15:48:58.676Z"
   },
   {
    "duration": 12,
    "start_time": "2023-01-09T15:48:58.688Z"
   },
   {
    "duration": 4,
    "start_time": "2023-01-09T15:59:32.767Z"
   },
   {
    "duration": 104,
    "start_time": "2023-01-09T15:59:32.773Z"
   },
   {
    "duration": 8,
    "start_time": "2023-01-09T15:59:32.879Z"
   },
   {
    "duration": 60,
    "start_time": "2023-01-09T15:59:32.889Z"
   },
   {
    "duration": 27,
    "start_time": "2023-01-09T15:59:32.951Z"
   },
   {
    "duration": 53,
    "start_time": "2023-01-09T15:59:32.979Z"
   },
   {
    "duration": 23,
    "start_time": "2023-01-09T15:59:33.034Z"
   },
   {
    "duration": 43,
    "start_time": "2023-01-09T15:59:33.059Z"
   },
   {
    "duration": 30,
    "start_time": "2023-01-09T15:59:33.104Z"
   },
   {
    "duration": 11,
    "start_time": "2023-01-09T15:59:33.136Z"
   },
   {
    "duration": 26,
    "start_time": "2023-01-09T15:59:33.150Z"
   },
   {
    "duration": 6,
    "start_time": "2023-01-09T15:59:33.178Z"
   },
   {
    "duration": 14,
    "start_time": "2023-01-09T15:59:33.185Z"
   },
   {
    "duration": 482,
    "start_time": "2023-01-09T15:59:33.201Z"
   },
   {
    "duration": 310,
    "start_time": "2023-01-09T15:59:33.685Z"
   },
   {
    "duration": 271,
    "start_time": "2023-01-09T15:59:33.997Z"
   },
   {
    "duration": 11,
    "start_time": "2023-01-09T15:59:34.270Z"
   },
   {
    "duration": 8,
    "start_time": "2023-01-09T15:59:34.283Z"
   },
   {
    "duration": 25,
    "start_time": "2023-01-09T15:59:34.293Z"
   },
   {
    "duration": 335,
    "start_time": "2023-01-09T15:59:34.320Z"
   },
   {
    "duration": 508,
    "start_time": "2023-01-09T15:59:34.657Z"
   },
   {
    "duration": 11,
    "start_time": "2023-01-09T15:59:35.167Z"
   },
   {
    "duration": 12,
    "start_time": "2023-01-09T15:59:35.180Z"
   },
   {
    "duration": 293,
    "start_time": "2023-01-09T15:59:35.194Z"
   },
   {
    "duration": 4,
    "start_time": "2023-01-09T15:59:35.489Z"
   },
   {
    "duration": 42,
    "start_time": "2023-01-09T15:59:35.495Z"
   },
   {
    "duration": 252,
    "start_time": "2023-01-09T15:59:35.539Z"
   },
   {
    "duration": 217,
    "start_time": "2023-01-09T15:59:35.793Z"
   },
   {
    "duration": 307,
    "start_time": "2023-01-09T15:59:36.015Z"
   },
   {
    "duration": 329,
    "start_time": "2023-01-09T15:59:36.324Z"
   },
   {
    "duration": 275,
    "start_time": "2023-01-09T15:59:36.654Z"
   },
   {
    "duration": 16,
    "start_time": "2023-01-09T15:59:36.931Z"
   },
   {
    "duration": 181,
    "start_time": "2023-01-09T15:59:36.949Z"
   },
   {
    "duration": 5,
    "start_time": "2023-01-09T15:59:37.132Z"
   },
   {
    "duration": 300,
    "start_time": "2023-01-09T15:59:37.139Z"
   },
   {
    "duration": 5,
    "start_time": "2023-01-09T15:59:37.441Z"
   },
   {
    "duration": 11,
    "start_time": "2023-01-09T15:59:37.448Z"
   },
   {
    "duration": 138,
    "start_time": "2023-01-09T15:59:37.461Z"
   },
   {
    "duration": 13,
    "start_time": "2023-01-09T15:59:37.600Z"
   },
   {
    "duration": 21,
    "start_time": "2023-01-09T15:59:37.615Z"
   },
   {
    "duration": 11,
    "start_time": "2023-01-09T15:59:37.638Z"
   },
   {
    "duration": 10,
    "start_time": "2023-01-09T15:59:37.650Z"
   },
   {
    "duration": 6,
    "start_time": "2023-01-09T15:59:37.661Z"
   },
   {
    "duration": 44,
    "start_time": "2023-01-09T15:59:37.669Z"
   },
   {
    "duration": 22,
    "start_time": "2023-01-09T15:59:37.715Z"
   },
   {
    "duration": 14,
    "start_time": "2023-01-09T15:59:37.738Z"
   },
   {
    "duration": 290,
    "start_time": "2023-01-09T15:59:37.753Z"
   },
   {
    "duration": 227,
    "start_time": "2023-01-09T15:59:38.045Z"
   },
   {
    "duration": 4,
    "start_time": "2023-01-09T15:59:38.274Z"
   },
   {
    "duration": 9,
    "start_time": "2023-01-09T15:59:38.279Z"
   }
  ],
  "kernelspec": {
   "display_name": "Python 3 (ipykernel)",
   "language": "python",
   "name": "python3"
  },
  "language_info": {
   "codemirror_mode": {
    "name": "ipython",
    "version": 3
   },
   "file_extension": ".py",
   "mimetype": "text/x-python",
   "name": "python",
   "nbconvert_exporter": "python",
   "pygments_lexer": "ipython3",
   "version": "3.9.5"
  },
  "toc": {
   "base_numbering": 1,
   "nav_menu": {
    "height": "58px",
    "width": "366px"
   },
   "number_sections": false,
   "sideBar": true,
   "skip_h1_title": false,
   "title_cell": "Table of Contents",
   "title_sidebar": "Contents",
   "toc_cell": true,
   "toc_position": {
    "height": "calc(100% - 180px)",
    "left": "10px",
    "top": "150px",
    "width": "165px"
   },
   "toc_section_display": true,
   "toc_window_display": false
  }
 },
 "nbformat": 4,
 "nbformat_minor": 2
}
