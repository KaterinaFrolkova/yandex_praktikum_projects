{
  "cells": [
    {
      "cell_type": "markdown",
      "source": [
        ">[Анализ поведения пользователей мобильного приложения <***>](#scrollTo=4sHsM5E6lB0d)\n",
        "\n",
        ">>[Общая информация.](#scrollTo=rkh1bYNHlB0g)\n",
        "\n",
        ">>[Предобработка данных](#scrollTo=8XtyFXZolB0i)\n",
        "\n",
        ">>[Анализ данных](#scrollTo=w-iI8n49lB0m)\n",
        "\n",
        ">>[Построение воронки событий](#scrollTo=TtntupAAlB0u)\n",
        "\n",
        ">>[Анализ результатов A/B теста](#scrollTo=r5qud7j5lB0w)\n",
        "\n",
        ">>[Вывод](#scrollTo=Leam83salB05)\n",
        "\n"
      ],
      "metadata": {
        "colab_type": "toc",
        "id": "MPglUcf-m2UC"
      }
    },
    {
      "cell_type": "markdown",
      "metadata": {
        "id": "4sHsM5E6lB0d"
      },
      "source": [
        "# Анализ поведения пользователей мобильного приложения <***>"
      ]
    },
    {
      "cell_type": "markdown",
      "metadata": {
        "id": "bxixxgz_lB0d"
      },
      "source": [
        "В нашем распоряжении имеются логи пользователей мобильного приложения <***>.  \n",
        "\n",
        "**Цель исследования**\n",
        " * нахождение слабых мест воронки событийной\n",
        " * оценка A/B теста по изменению шрифта приложения\n",
        "\n",
        "**Оцениваемые параметры**:  \n",
        "\n",
        "* конверсия переходов между этапами воронки\n",
        "* разница конверсий между тестовой и контрольной группами\n",
        "\n",
        "\n",
        "**План исследования**:  \n",
        "\n",
        "* составление воронки событий\n",
        "* проведение A/B-теста\n",
        "* анализ результатов\n",
        "  * сравнение показателей контрольных групп\n",
        "  * сравнение показателей контрольных и тестовых групп"
      ]
    },
    {
      "cell_type": "code",
      "execution_count": 65,
      "metadata": {
        "id": "BXMiIex3lB0e"
      },
      "outputs": [],
      "source": [
        "# импорт библиотек\n",
        "import pandas as pd\n",
        "import numpy as np\n",
        "import matplotlib.pyplot as plt\n",
        "from pandas.plotting import register_matplotlib_converters\n",
        "from scipy import stats as st\n",
        "import math as mth\n",
        "from plotly import graph_objects as go\n",
        "import warnings\n",
        "pd.set_option('precision', 2)\n"
      ]
    },
    {
      "cell_type": "code",
      "execution_count": 66,
      "metadata": {
        "id": "2ce4vseolB0f"
      },
      "outputs": [],
      "source": [
        "#загрузим данные\n",
        "data = pd.read_csv('/datasets/logs_exp.csv', sep='\\t')"
      ]
    },
    {
      "cell_type": "markdown",
      "metadata": {
        "id": "rkh1bYNHlB0g"
      },
      "source": [
        "## Общая информация."
      ]
    },
    {
      "cell_type": "code",
      "execution_count": 67,
      "metadata": {
        "scrolled": false,
        "colab": {
          "base_uri": "https://localhost:8080/",
          "height": 206
        },
        "id": "6gdo38EslB0g",
        "outputId": "651fe135-07c2-4329-c143-4ec5995b01d2"
      },
      "outputs": [
        {
          "output_type": "execute_result",
          "data": {
            "text/plain": [
              "                 EventName         DeviceIDHash  EventTimestamp  ExpId\n",
              "0         MainScreenAppear  4575588528974610257      1564029816    246\n",
              "1         MainScreenAppear  7416695313311560658      1564053102    246\n",
              "2  PaymentScreenSuccessful  3518123091307005509      1564054127    248\n",
              "3         CartScreenAppear  3518123091307005509      1564054127    248\n",
              "4  PaymentScreenSuccessful  6217807653094995999      1564055322    248"
            ],
            "text/html": [
              "\n",
              "  <div id=\"df-ebe00ad8-e086-482c-8e10-927401f82945\">\n",
              "    <div class=\"colab-df-container\">\n",
              "      <div>\n",
              "<style scoped>\n",
              "    .dataframe tbody tr th:only-of-type {\n",
              "        vertical-align: middle;\n",
              "    }\n",
              "\n",
              "    .dataframe tbody tr th {\n",
              "        vertical-align: top;\n",
              "    }\n",
              "\n",
              "    .dataframe thead th {\n",
              "        text-align: right;\n",
              "    }\n",
              "</style>\n",
              "<table border=\"1\" class=\"dataframe\">\n",
              "  <thead>\n",
              "    <tr style=\"text-align: right;\">\n",
              "      <th></th>\n",
              "      <th>EventName</th>\n",
              "      <th>DeviceIDHash</th>\n",
              "      <th>EventTimestamp</th>\n",
              "      <th>ExpId</th>\n",
              "    </tr>\n",
              "  </thead>\n",
              "  <tbody>\n",
              "    <tr>\n",
              "      <th>0</th>\n",
              "      <td>MainScreenAppear</td>\n",
              "      <td>4575588528974610257</td>\n",
              "      <td>1564029816</td>\n",
              "      <td>246</td>\n",
              "    </tr>\n",
              "    <tr>\n",
              "      <th>1</th>\n",
              "      <td>MainScreenAppear</td>\n",
              "      <td>7416695313311560658</td>\n",
              "      <td>1564053102</td>\n",
              "      <td>246</td>\n",
              "    </tr>\n",
              "    <tr>\n",
              "      <th>2</th>\n",
              "      <td>PaymentScreenSuccessful</td>\n",
              "      <td>3518123091307005509</td>\n",
              "      <td>1564054127</td>\n",
              "      <td>248</td>\n",
              "    </tr>\n",
              "    <tr>\n",
              "      <th>3</th>\n",
              "      <td>CartScreenAppear</td>\n",
              "      <td>3518123091307005509</td>\n",
              "      <td>1564054127</td>\n",
              "      <td>248</td>\n",
              "    </tr>\n",
              "    <tr>\n",
              "      <th>4</th>\n",
              "      <td>PaymentScreenSuccessful</td>\n",
              "      <td>6217807653094995999</td>\n",
              "      <td>1564055322</td>\n",
              "      <td>248</td>\n",
              "    </tr>\n",
              "  </tbody>\n",
              "</table>\n",
              "</div>\n",
              "      <button class=\"colab-df-convert\" onclick=\"convertToInteractive('df-ebe00ad8-e086-482c-8e10-927401f82945')\"\n",
              "              title=\"Convert this dataframe to an interactive table.\"\n",
              "              style=\"display:none;\">\n",
              "        \n",
              "  <svg xmlns=\"http://www.w3.org/2000/svg\" height=\"24px\"viewBox=\"0 0 24 24\"\n",
              "       width=\"24px\">\n",
              "    <path d=\"M0 0h24v24H0V0z\" fill=\"none\"/>\n",
              "    <path d=\"M18.56 5.44l.94 2.06.94-2.06 2.06-.94-2.06-.94-.94-2.06-.94 2.06-2.06.94zm-11 1L8.5 8.5l.94-2.06 2.06-.94-2.06-.94L8.5 2.5l-.94 2.06-2.06.94zm10 10l.94 2.06.94-2.06 2.06-.94-2.06-.94-.94-2.06-.94 2.06-2.06.94z\"/><path d=\"M17.41 7.96l-1.37-1.37c-.4-.4-.92-.59-1.43-.59-.52 0-1.04.2-1.43.59L10.3 9.45l-7.72 7.72c-.78.78-.78 2.05 0 2.83L4 21.41c.39.39.9.59 1.41.59.51 0 1.02-.2 1.41-.59l7.78-7.78 2.81-2.81c.8-.78.8-2.07 0-2.86zM5.41 20L4 18.59l7.72-7.72 1.47 1.35L5.41 20z\"/>\n",
              "  </svg>\n",
              "      </button>\n",
              "      \n",
              "  <style>\n",
              "    .colab-df-container {\n",
              "      display:flex;\n",
              "      flex-wrap:wrap;\n",
              "      gap: 12px;\n",
              "    }\n",
              "\n",
              "    .colab-df-convert {\n",
              "      background-color: #E8F0FE;\n",
              "      border: none;\n",
              "      border-radius: 50%;\n",
              "      cursor: pointer;\n",
              "      display: none;\n",
              "      fill: #1967D2;\n",
              "      height: 32px;\n",
              "      padding: 0 0 0 0;\n",
              "      width: 32px;\n",
              "    }\n",
              "\n",
              "    .colab-df-convert:hover {\n",
              "      background-color: #E2EBFA;\n",
              "      box-shadow: 0px 1px 2px rgba(60, 64, 67, 0.3), 0px 1px 3px 1px rgba(60, 64, 67, 0.15);\n",
              "      fill: #174EA6;\n",
              "    }\n",
              "\n",
              "    [theme=dark] .colab-df-convert {\n",
              "      background-color: #3B4455;\n",
              "      fill: #D2E3FC;\n",
              "    }\n",
              "\n",
              "    [theme=dark] .colab-df-convert:hover {\n",
              "      background-color: #434B5C;\n",
              "      box-shadow: 0px 1px 3px 1px rgba(0, 0, 0, 0.15);\n",
              "      filter: drop-shadow(0px 1px 2px rgba(0, 0, 0, 0.3));\n",
              "      fill: #FFFFFF;\n",
              "    }\n",
              "  </style>\n",
              "\n",
              "      <script>\n",
              "        const buttonEl =\n",
              "          document.querySelector('#df-ebe00ad8-e086-482c-8e10-927401f82945 button.colab-df-convert');\n",
              "        buttonEl.style.display =\n",
              "          google.colab.kernel.accessAllowed ? 'block' : 'none';\n",
              "\n",
              "        async function convertToInteractive(key) {\n",
              "          const element = document.querySelector('#df-ebe00ad8-e086-482c-8e10-927401f82945');\n",
              "          const dataTable =\n",
              "            await google.colab.kernel.invokeFunction('convertToInteractive',\n",
              "                                                     [key], {});\n",
              "          if (!dataTable) return;\n",
              "\n",
              "          const docLinkHtml = 'Like what you see? Visit the ' +\n",
              "            '<a target=\"_blank\" href=https://colab.research.google.com/notebooks/data_table.ipynb>data table notebook</a>'\n",
              "            + ' to learn more about interactive tables.';\n",
              "          element.innerHTML = '';\n",
              "          dataTable['output_type'] = 'display_data';\n",
              "          await google.colab.output.renderOutput(dataTable, element);\n",
              "          const docLink = document.createElement('div');\n",
              "          docLink.innerHTML = docLinkHtml;\n",
              "          element.appendChild(docLink);\n",
              "        }\n",
              "      </script>\n",
              "    </div>\n",
              "  </div>\n",
              "  "
            ]
          },
          "metadata": {},
          "execution_count": 67
        }
      ],
      "source": [
        "data.head()"
      ]
    },
    {
      "cell_type": "code",
      "execution_count": 68,
      "metadata": {
        "scrolled": true,
        "colab": {
          "base_uri": "https://localhost:8080/"
        },
        "id": "IOlXgR0tlB0h",
        "outputId": "5e69cd0a-da62-4a39-e2ce-723e56ce0fbf"
      },
      "outputs": [
        {
          "output_type": "stream",
          "name": "stdout",
          "text": [
            "<class 'pandas.core.frame.DataFrame'>\n",
            "RangeIndex: 244126 entries, 0 to 244125\n",
            "Data columns (total 4 columns):\n",
            " #   Column          Non-Null Count   Dtype \n",
            "---  ------          --------------   ----- \n",
            " 0   EventName       244126 non-null  object\n",
            " 1   DeviceIDHash    244126 non-null  int64 \n",
            " 2   EventTimestamp  244126 non-null  int64 \n",
            " 3   ExpId           244126 non-null  int64 \n",
            "dtypes: int64(3), object(1)\n",
            "memory usage: 7.5+ MB\n"
          ]
        }
      ],
      "source": [
        "data.info()"
      ]
    },
    {
      "cell_type": "markdown",
      "metadata": {
        "id": "KZoGMCmJlB0i"
      },
      "source": [
        "В таблице `hypothesis` четыре столбца.  \n",
        "Столбец `EventTimestamp` нужно преобразовать к формату дат. Остальное верно\n",
        "\n",
        "Согласно документации к данным:  \n",
        "\n",
        "* `EventName` — название события\n",
        "* `DeviceIDHash` — уникальный идентификатор пользователя\n",
        "* `EventTimestamp` — время события\n",
        "* `ExpId` — номер эксперимента: 246 и 247 — контрольные группы, а 248 — экспериментальная"
      ]
    },
    {
      "cell_type": "markdown",
      "metadata": {
        "id": "8XtyFXZolB0i"
      },
      "source": [
        "## Предобработка данных"
      ]
    },
    {
      "cell_type": "code",
      "execution_count": 69,
      "metadata": {
        "id": "aEhoh1gClB0i"
      },
      "outputs": [],
      "source": [
        "# приведем к корректному виду названия столбцов\n",
        "\n",
        "data = data.rename(columns={'EventName':'event_name','DeviceIDHash': 'user_id','EventTimestamp':'event_time','ExpId':'expr_id'})"
      ]
    },
    {
      "cell_type": "code",
      "execution_count": 70,
      "metadata": {
        "colab": {
          "base_uri": "https://localhost:8080/"
        },
        "id": "zLQyWRc0lB0j",
        "outputId": "a7a91037-f52b-4dd6-cf83-5ec76f1af091"
      },
      "outputs": [
        {
          "output_type": "stream",
          "name": "stdout",
          "text": [
            "event_name    0\n",
            "user_id       0\n",
            "event_time    0\n",
            "expr_id       0\n",
            "dtype: int64\n"
          ]
        }
      ],
      "source": [
        "#проверим пропуски\n",
        "print(data.isna().sum())"
      ]
    },
    {
      "cell_type": "markdown",
      "metadata": {
        "id": "8Qj-AiJilB0j"
      },
      "source": [
        "пропусков нет"
      ]
    },
    {
      "cell_type": "code",
      "execution_count": 71,
      "metadata": {
        "colab": {
          "base_uri": "https://localhost:8080/"
        },
        "id": "6DRCssP9lB0j",
        "outputId": "ee784e9d-699a-4cfc-9612-3ed14fff0300"
      },
      "outputs": [
        {
          "output_type": "stream",
          "name": "stdout",
          "text": [
            "event_name 0\n",
            "user_id 0\n",
            "event_time 0\n",
            "expr_id 0\n"
          ]
        }
      ],
      "source": [
        "# проверим нулевые значения\n",
        "for i in data.columns.tolist():\n",
        "    print(i,len(data[data[i]==0]))"
      ]
    },
    {
      "cell_type": "markdown",
      "metadata": {
        "id": "PYiCsD9AlB0k"
      },
      "source": [
        "нулевых значений нет"
      ]
    },
    {
      "cell_type": "code",
      "execution_count": 72,
      "metadata": {
        "scrolled": true,
        "colab": {
          "base_uri": "https://localhost:8080/",
          "height": 424
        },
        "id": "80DOeb4ulB0k",
        "outputId": "63d3a152-12d9-4185-e443-c40056f1f9e8"
      },
      "outputs": [
        {
          "output_type": "display_data",
          "data": {
            "text/plain": [
              "                     event_name              user_id  event_time  expr_id\n",
              "453            MainScreenAppear  5613408041324010552  1564474784      248\n",
              "2350           CartScreenAppear  1694940645335807244  1564609899      248\n",
              "3573           MainScreenAppear   434103746454591587  1564628377      248\n",
              "4076           MainScreenAppear  3761373764179762633  1564631266      247\n",
              "4803           MainScreenAppear  2835328739789306622  1564634641      248\n",
              "...                         ...                  ...         ...      ...\n",
              "242329         MainScreenAppear  8870358373313968633  1565206004      247\n",
              "242332  PaymentScreenSuccessful  4718002964983105693  1565206005      247\n",
              "242360  PaymentScreenSuccessful  2382591782303281935  1565206049      246\n",
              "242362         CartScreenAppear  2382591782303281935  1565206049      246\n",
              "242635         MainScreenAppear  4097782667445790512  1565206618      246\n",
              "\n",
              "[413 rows x 4 columns]"
            ],
            "text/html": [
              "\n",
              "  <div id=\"df-f057747c-9b8a-48b9-b49b-fa0879e27bcf\">\n",
              "    <div class=\"colab-df-container\">\n",
              "      <div>\n",
              "<style scoped>\n",
              "    .dataframe tbody tr th:only-of-type {\n",
              "        vertical-align: middle;\n",
              "    }\n",
              "\n",
              "    .dataframe tbody tr th {\n",
              "        vertical-align: top;\n",
              "    }\n",
              "\n",
              "    .dataframe thead th {\n",
              "        text-align: right;\n",
              "    }\n",
              "</style>\n",
              "<table border=\"1\" class=\"dataframe\">\n",
              "  <thead>\n",
              "    <tr style=\"text-align: right;\">\n",
              "      <th></th>\n",
              "      <th>event_name</th>\n",
              "      <th>user_id</th>\n",
              "      <th>event_time</th>\n",
              "      <th>expr_id</th>\n",
              "    </tr>\n",
              "  </thead>\n",
              "  <tbody>\n",
              "    <tr>\n",
              "      <th>453</th>\n",
              "      <td>MainScreenAppear</td>\n",
              "      <td>5613408041324010552</td>\n",
              "      <td>1564474784</td>\n",
              "      <td>248</td>\n",
              "    </tr>\n",
              "    <tr>\n",
              "      <th>2350</th>\n",
              "      <td>CartScreenAppear</td>\n",
              "      <td>1694940645335807244</td>\n",
              "      <td>1564609899</td>\n",
              "      <td>248</td>\n",
              "    </tr>\n",
              "    <tr>\n",
              "      <th>3573</th>\n",
              "      <td>MainScreenAppear</td>\n",
              "      <td>434103746454591587</td>\n",
              "      <td>1564628377</td>\n",
              "      <td>248</td>\n",
              "    </tr>\n",
              "    <tr>\n",
              "      <th>4076</th>\n",
              "      <td>MainScreenAppear</td>\n",
              "      <td>3761373764179762633</td>\n",
              "      <td>1564631266</td>\n",
              "      <td>247</td>\n",
              "    </tr>\n",
              "    <tr>\n",
              "      <th>4803</th>\n",
              "      <td>MainScreenAppear</td>\n",
              "      <td>2835328739789306622</td>\n",
              "      <td>1564634641</td>\n",
              "      <td>248</td>\n",
              "    </tr>\n",
              "    <tr>\n",
              "      <th>...</th>\n",
              "      <td>...</td>\n",
              "      <td>...</td>\n",
              "      <td>...</td>\n",
              "      <td>...</td>\n",
              "    </tr>\n",
              "    <tr>\n",
              "      <th>242329</th>\n",
              "      <td>MainScreenAppear</td>\n",
              "      <td>8870358373313968633</td>\n",
              "      <td>1565206004</td>\n",
              "      <td>247</td>\n",
              "    </tr>\n",
              "    <tr>\n",
              "      <th>242332</th>\n",
              "      <td>PaymentScreenSuccessful</td>\n",
              "      <td>4718002964983105693</td>\n",
              "      <td>1565206005</td>\n",
              "      <td>247</td>\n",
              "    </tr>\n",
              "    <tr>\n",
              "      <th>242360</th>\n",
              "      <td>PaymentScreenSuccessful</td>\n",
              "      <td>2382591782303281935</td>\n",
              "      <td>1565206049</td>\n",
              "      <td>246</td>\n",
              "    </tr>\n",
              "    <tr>\n",
              "      <th>242362</th>\n",
              "      <td>CartScreenAppear</td>\n",
              "      <td>2382591782303281935</td>\n",
              "      <td>1565206049</td>\n",
              "      <td>246</td>\n",
              "    </tr>\n",
              "    <tr>\n",
              "      <th>242635</th>\n",
              "      <td>MainScreenAppear</td>\n",
              "      <td>4097782667445790512</td>\n",
              "      <td>1565206618</td>\n",
              "      <td>246</td>\n",
              "    </tr>\n",
              "  </tbody>\n",
              "</table>\n",
              "<p>413 rows × 4 columns</p>\n",
              "</div>\n",
              "      <button class=\"colab-df-convert\" onclick=\"convertToInteractive('df-f057747c-9b8a-48b9-b49b-fa0879e27bcf')\"\n",
              "              title=\"Convert this dataframe to an interactive table.\"\n",
              "              style=\"display:none;\">\n",
              "        \n",
              "  <svg xmlns=\"http://www.w3.org/2000/svg\" height=\"24px\"viewBox=\"0 0 24 24\"\n",
              "       width=\"24px\">\n",
              "    <path d=\"M0 0h24v24H0V0z\" fill=\"none\"/>\n",
              "    <path d=\"M18.56 5.44l.94 2.06.94-2.06 2.06-.94-2.06-.94-.94-2.06-.94 2.06-2.06.94zm-11 1L8.5 8.5l.94-2.06 2.06-.94-2.06-.94L8.5 2.5l-.94 2.06-2.06.94zm10 10l.94 2.06.94-2.06 2.06-.94-2.06-.94-.94-2.06-.94 2.06-2.06.94z\"/><path d=\"M17.41 7.96l-1.37-1.37c-.4-.4-.92-.59-1.43-.59-.52 0-1.04.2-1.43.59L10.3 9.45l-7.72 7.72c-.78.78-.78 2.05 0 2.83L4 21.41c.39.39.9.59 1.41.59.51 0 1.02-.2 1.41-.59l7.78-7.78 2.81-2.81c.8-.78.8-2.07 0-2.86zM5.41 20L4 18.59l7.72-7.72 1.47 1.35L5.41 20z\"/>\n",
              "  </svg>\n",
              "      </button>\n",
              "      \n",
              "  <style>\n",
              "    .colab-df-container {\n",
              "      display:flex;\n",
              "      flex-wrap:wrap;\n",
              "      gap: 12px;\n",
              "    }\n",
              "\n",
              "    .colab-df-convert {\n",
              "      background-color: #E8F0FE;\n",
              "      border: none;\n",
              "      border-radius: 50%;\n",
              "      cursor: pointer;\n",
              "      display: none;\n",
              "      fill: #1967D2;\n",
              "      height: 32px;\n",
              "      padding: 0 0 0 0;\n",
              "      width: 32px;\n",
              "    }\n",
              "\n",
              "    .colab-df-convert:hover {\n",
              "      background-color: #E2EBFA;\n",
              "      box-shadow: 0px 1px 2px rgba(60, 64, 67, 0.3), 0px 1px 3px 1px rgba(60, 64, 67, 0.15);\n",
              "      fill: #174EA6;\n",
              "    }\n",
              "\n",
              "    [theme=dark] .colab-df-convert {\n",
              "      background-color: #3B4455;\n",
              "      fill: #D2E3FC;\n",
              "    }\n",
              "\n",
              "    [theme=dark] .colab-df-convert:hover {\n",
              "      background-color: #434B5C;\n",
              "      box-shadow: 0px 1px 3px 1px rgba(0, 0, 0, 0.15);\n",
              "      filter: drop-shadow(0px 1px 2px rgba(0, 0, 0, 0.3));\n",
              "      fill: #FFFFFF;\n",
              "    }\n",
              "  </style>\n",
              "\n",
              "      <script>\n",
              "        const buttonEl =\n",
              "          document.querySelector('#df-f057747c-9b8a-48b9-b49b-fa0879e27bcf button.colab-df-convert');\n",
              "        buttonEl.style.display =\n",
              "          google.colab.kernel.accessAllowed ? 'block' : 'none';\n",
              "\n",
              "        async function convertToInteractive(key) {\n",
              "          const element = document.querySelector('#df-f057747c-9b8a-48b9-b49b-fa0879e27bcf');\n",
              "          const dataTable =\n",
              "            await google.colab.kernel.invokeFunction('convertToInteractive',\n",
              "                                                     [key], {});\n",
              "          if (!dataTable) return;\n",
              "\n",
              "          const docLinkHtml = 'Like what you see? Visit the ' +\n",
              "            '<a target=\"_blank\" href=https://colab.research.google.com/notebooks/data_table.ipynb>data table notebook</a>'\n",
              "            + ' to learn more about interactive tables.';\n",
              "          element.innerHTML = '';\n",
              "          dataTable['output_type'] = 'display_data';\n",
              "          await google.colab.output.renderOutput(dataTable, element);\n",
              "          const docLink = document.createElement('div');\n",
              "          docLink.innerHTML = docLinkHtml;\n",
              "          element.appendChild(docLink);\n",
              "        }\n",
              "      </script>\n",
              "    </div>\n",
              "  </div>\n",
              "  "
            ]
          },
          "metadata": {}
        }
      ],
      "source": [
        "#проверим дубликаты\n",
        "display(data[data.duplicated()])"
      ]
    },
    {
      "cell_type": "code",
      "execution_count": 73,
      "metadata": {
        "scrolled": true,
        "colab": {
          "base_uri": "https://localhost:8080/"
        },
        "id": "Pqi7UALnlB0k",
        "outputId": "17e9b294-27bb-4283-99ac-0a632afeca61"
      },
      "outputs": [
        {
          "output_type": "stream",
          "name": "stdout",
          "text": [
            "Обруружено 413 повторяющихся строк из 244126 ,что составляет:0.17% датасета\n"
          ]
        }
      ],
      "source": [
        "print('Обруружено', len(data[data.duplicated()]), 'повторяющихся строк из', len(\n",
        "                        data), ',что составляет:{:.2f}% датасета'.format(len(data[data.duplicated()])*100/len(data)))"
      ]
    },
    {
      "cell_type": "markdown",
      "metadata": {
        "id": "gUN5KWlUlB0k"
      },
      "source": [
        "Удалим их"
      ]
    },
    {
      "cell_type": "code",
      "execution_count": 74,
      "metadata": {
        "id": "UCL1-j8LlB0l"
      },
      "outputs": [],
      "source": [
        "data = data.drop_duplicates().reset_index(drop=True)"
      ]
    },
    {
      "cell_type": "code",
      "execution_count": 75,
      "metadata": {
        "id": "zOii9C-WlB0l"
      },
      "outputs": [],
      "source": [
        "# преобазуем столбец с датами в формат даты\n",
        "data['event_time'] = pd.to_datetime(data['event_time'], unit='s')\n",
        "\n",
        "# добавим столбец с датой без времени\n",
        "data['event_date'] = data['event_time'].dt.normalize()\n"
      ]
    },
    {
      "cell_type": "code",
      "execution_count": 76,
      "metadata": {
        "colab": {
          "base_uri": "https://localhost:8080/",
          "height": 711
        },
        "id": "h_kqGjnklB0l",
        "outputId": "2386f629-9147-4327-89af-a8b8132c63d8"
      },
      "outputs": [
        {
          "output_type": "display_data",
          "data": {
            "text/plain": [
              "<Figure size 1080x720 with 4 Axes>"
            ],
            "image/png": "[encoded data removed]"
          },
          "metadata": {
            "needs_background": "light"
          }
        }
      ],
      "source": [
        "# проверим распределения количеств значений в таблице\n",
        "plt.figure(figsize=(15, 10))\n",
        "\n",
        "ax1 = plt.subplot(2, 2, 1)\n",
        "data['user_id'].hist(bins=100, color='dodgerblue', grid = False)\n",
        "plt.xlabel('Пользователи')\n",
        "plt.ylabel('Количество наблюдений')\n",
        "plt.title('Распределение уникальных значений ID пользователей')\n",
        "ax2 = plt.subplot(2, 2, 2)\n",
        "data['expr_id'].hist(bins=3, color='dodgerblue', grid = False)\n",
        "plt.xlabel('Номер группы')\n",
        "plt.ylabel('Количество наблюдений')\n",
        "plt.xticks(data['expr_id'].unique())\n",
        "plt.title('Распределение уникальных значений групп')\n",
        "ax3 = plt.subplot(2, 2, 3)\n",
        "data['event_name'].hist(bins=10, color='dodgerblue', grid = False)\n",
        "plt.xlabel('Событие')\n",
        "plt.ylabel('Количество наблюдений')\n",
        "plt.title('Распределение уникальных событий')\n",
        "plt.xticks(rotation=45)\n",
        "ax4 = plt.subplot(2, 2, 4)\n",
        "data['event_time'].sort_values().hist(bins=100, color='dodgerblue', grid = False)\n",
        "plt.xlabel('Даты')\n",
        "plt.ylabel('Количество наблюдений')\n",
        "plt.title('Распределение событий по датам')\n",
        "plt.xticks(rotation=45);"
      ]
    },
    {
      "cell_type": "markdown",
      "metadata": {
        "id": "0BVFJVFWlB0l"
      },
      "source": [
        " * Записи идентификаторов пользователя распределяются в целом равномерно, есть отдельные пики, посмотрим далее подробно  \n",
        " * Количество наблюдений по группам на одном уровне\n",
        " * Событие `MainScreenAppear` самое популярное, встречается более чем в 2 раза чем другие, событие `Tutorial` самое редкое  \n",
        " * Есть выбивающиеся даты, основной диапазон с 01 августа, но есть отдельные наблюдения раннего периода"
      ]
    },
    {
      "cell_type": "code",
      "execution_count": 77,
      "metadata": {
        "scrolled": true,
        "colab": {
          "base_uri": "https://localhost:8080/"
        },
        "id": "zbPIAlmhlB0m",
        "outputId": "9b481950-2342-4201-8447-642969f302e7"
      },
      "outputs": [
        {
          "output_type": "stream",
          "name": "stdout",
          "text": [
            "Количество пересекающихся пользователей в обеих группах: 0 из 7551\n",
            "Доля пересекающихся пользователей в обеих группах: 0.00%\n"
          ]
        }
      ],
      "source": [
        "#посчитаем пользователей, которые оказались в обеих группах\n",
        "check = data.groupby('user_id', as_index=False).agg({'expr_id' : 'nunique'})\n",
        "print('Количество пересекающихся пользователей в обеих группах:',\n",
        "            len(check[check['expr_id']>1]), 'из', data['user_id'].nunique ())\n",
        "print('Доля пересекающихся пользователей в обеих группах: {:.2f}%'.format(\n",
        "            len(check[check['expr_id']>1])*100/data['user_id'].nunique ()))"
      ]
    },
    {
      "cell_type": "markdown",
      "metadata": {
        "id": "umX2Zk2IlB0m"
      },
      "source": [
        "**Некорректных значений в данных не обнаружено  \n",
        "Пропусков не было  \n",
        "Обнаружены дубликаты 0.17% строк  \n",
        "Присутствуют даты не соответсвующие большинству значений, изучим подробнее далее  \n",
        "Пересечений пользователей по группам нет**"
      ]
    },
    {
      "cell_type": "markdown",
      "metadata": {
        "id": "w-iI8n49lB0m"
      },
      "source": [
        "## Анализ данных"
      ]
    },
    {
      "cell_type": "markdown",
      "metadata": {
        "id": "vAVatndHlB0n"
      },
      "source": [
        "Изучим данные подробнее"
      ]
    },
    {
      "cell_type": "code",
      "execution_count": 78,
      "metadata": {
        "colab": {
          "base_uri": "https://localhost:8080/"
        },
        "id": "hlsEdBsylB0n",
        "outputId": "23a258d3-3f37-43b6-e4ef-1f53ed365151"
      },
      "outputs": [
        {
          "output_type": "execute_result",
          "data": {
            "text/plain": [
              "event_name         5\n",
              "user_id         7551\n",
              "event_time    176654\n",
              "expr_id            3\n",
              "event_date        14\n",
              "dtype: int64"
            ]
          },
          "metadata": {},
          "execution_count": 78
        }
      ],
      "source": [
        "data.nunique()"
      ]
    },
    {
      "cell_type": "markdown",
      "metadata": {
        "id": "RMvD6p5YlB0n"
      },
      "source": [
        "В логе:  \n",
        "5 уникальных событий  \n",
        "7551 пользователя  \n",
        "3 группы  \n",
        "14 дней"
      ]
    },
    {
      "cell_type": "code",
      "execution_count": 79,
      "metadata": {
        "colab": {
          "base_uri": "https://localhost:8080/"
        },
        "id": "MKKMxvdilB0n",
        "outputId": "5e944a9e-4aaf-424a-82b6-fae32011b2ca"
      },
      "outputs": [
        {
          "output_type": "stream",
          "name": "stdout",
          "text": [
            "Общее количество событий: 243713\n"
          ]
        }
      ],
      "source": [
        "# общее количество событий\n",
        "print('Общее количество событий:',len(data))"
      ]
    },
    {
      "cell_type": "code",
      "execution_count": 80,
      "metadata": {
        "scrolled": true,
        "colab": {
          "base_uri": "https://localhost:8080/",
          "height": 424
        },
        "id": "_tmhOSXHlB0o",
        "outputId": "0857df24-9160-4fa4-a5dd-88c388819f11"
      },
      "outputs": [
        {
          "output_type": "display_data",
          "data": {
            "text/plain": [
              "                  user_id  event_name_cnt\n",
              "5116  6304868067479728361            2307\n",
              "147    197027893265565660            1998\n",
              "3714  4623191541214045580            1768\n",
              "5590  6932517045703054087            1439\n",
              "1391  1754140665440434215            1221\n",
              "...                   ...             ...\n",
              "6013  7399061063341528729               1\n",
              "2356  2968164493349205501               1\n",
              "6575  8071397669512236988               1\n",
              "311    425817683219936619               1\n",
              "0        6888746892508752               1\n",
              "\n",
              "[7551 rows x 2 columns]"
            ],
            "text/html": [
              "\n",
              "  <div id=\"df-71834328-b6f8-4de9-8500-a205ce063dbe\">\n",
              "    <div class=\"colab-df-container\">\n",
              "      <div>\n",
              "<style scoped>\n",
              "    .dataframe tbody tr th:only-of-type {\n",
              "        vertical-align: middle;\n",
              "    }\n",
              "\n",
              "    .dataframe tbody tr th {\n",
              "        vertical-align: top;\n",
              "    }\n",
              "\n",
              "    .dataframe thead th {\n",
              "        text-align: right;\n",
              "    }\n",
              "</style>\n",
              "<table border=\"1\" class=\"dataframe\">\n",
              "  <thead>\n",
              "    <tr style=\"text-align: right;\">\n",
              "      <th></th>\n",
              "      <th>user_id</th>\n",
              "      <th>event_name_cnt</th>\n",
              "    </tr>\n",
              "  </thead>\n",
              "  <tbody>\n",
              "    <tr>\n",
              "      <th>5116</th>\n",
              "      <td>6304868067479728361</td>\n",
              "      <td>2307</td>\n",
              "    </tr>\n",
              "    <tr>\n",
              "      <th>147</th>\n",
              "      <td>197027893265565660</td>\n",
              "      <td>1998</td>\n",
              "    </tr>\n",
              "    <tr>\n",
              "      <th>3714</th>\n",
              "      <td>4623191541214045580</td>\n",
              "      <td>1768</td>\n",
              "    </tr>\n",
              "    <tr>\n",
              "      <th>5590</th>\n",
              "      <td>6932517045703054087</td>\n",
              "      <td>1439</td>\n",
              "    </tr>\n",
              "    <tr>\n",
              "      <th>1391</th>\n",
              "      <td>1754140665440434215</td>\n",
              "      <td>1221</td>\n",
              "    </tr>\n",
              "    <tr>\n",
              "      <th>...</th>\n",
              "      <td>...</td>\n",
              "      <td>...</td>\n",
              "    </tr>\n",
              "    <tr>\n",
              "      <th>6013</th>\n",
              "      <td>7399061063341528729</td>\n",
              "      <td>1</td>\n",
              "    </tr>\n",
              "    <tr>\n",
              "      <th>2356</th>\n",
              "      <td>2968164493349205501</td>\n",
              "      <td>1</td>\n",
              "    </tr>\n",
              "    <tr>\n",
              "      <th>6575</th>\n",
              "      <td>8071397669512236988</td>\n",
              "      <td>1</td>\n",
              "    </tr>\n",
              "    <tr>\n",
              "      <th>311</th>\n",
              "      <td>425817683219936619</td>\n",
              "      <td>1</td>\n",
              "    </tr>\n",
              "    <tr>\n",
              "      <th>0</th>\n",
              "      <td>6888746892508752</td>\n",
              "      <td>1</td>\n",
              "    </tr>\n",
              "  </tbody>\n",
              "</table>\n",
              "<p>7551 rows × 2 columns</p>\n",
              "</div>\n",
              "      <button class=\"colab-df-convert\" onclick=\"convertToInteractive('df-71834328-b6f8-4de9-8500-a205ce063dbe')\"\n",
              "              title=\"Convert this dataframe to an interactive table.\"\n",
              "              style=\"display:none;\">\n",
              "        \n",
              "  <svg xmlns=\"http://www.w3.org/2000/svg\" height=\"24px\"viewBox=\"0 0 24 24\"\n",
              "       width=\"24px\">\n",
              "    <path d=\"M0 0h24v24H0V0z\" fill=\"none\"/>\n",
              "    <path d=\"M18.56 5.44l.94 2.06.94-2.06 2.06-.94-2.06-.94-.94-2.06-.94 2.06-2.06.94zm-11 1L8.5 8.5l.94-2.06 2.06-.94-2.06-.94L8.5 2.5l-.94 2.06-2.06.94zm10 10l.94 2.06.94-2.06 2.06-.94-2.06-.94-.94-2.06-.94 2.06-2.06.94z\"/><path d=\"M17.41 7.96l-1.37-1.37c-.4-.4-.92-.59-1.43-.59-.52 0-1.04.2-1.43.59L10.3 9.45l-7.72 7.72c-.78.78-.78 2.05 0 2.83L4 21.41c.39.39.9.59 1.41.59.51 0 1.02-.2 1.41-.59l7.78-7.78 2.81-2.81c.8-.78.8-2.07 0-2.86zM5.41 20L4 18.59l7.72-7.72 1.47 1.35L5.41 20z\"/>\n",
              "  </svg>\n",
              "      </button>\n",
              "      \n",
              "  <style>\n",
              "    .colab-df-container {\n",
              "      display:flex;\n",
              "      flex-wrap:wrap;\n",
              "      gap: 12px;\n",
              "    }\n",
              "\n",
              "    .colab-df-convert {\n",
              "      background-color: #E8F0FE;\n",
              "      border: none;\n",
              "      border-radius: 50%;\n",
              "      cursor: pointer;\n",
              "      display: none;\n",
              "      fill: #1967D2;\n",
              "      height: 32px;\n",
              "      padding: 0 0 0 0;\n",
              "      width: 32px;\n",
              "    }\n",
              "\n",
              "    .colab-df-convert:hover {\n",
              "      background-color: #E2EBFA;\n",
              "      box-shadow: 0px 1px 2px rgba(60, 64, 67, 0.3), 0px 1px 3px 1px rgba(60, 64, 67, 0.15);\n",
              "      fill: #174EA6;\n",
              "    }\n",
              "\n",
              "    [theme=dark] .colab-df-convert {\n",
              "      background-color: #3B4455;\n",
              "      fill: #D2E3FC;\n",
              "    }\n",
              "\n",
              "    [theme=dark] .colab-df-convert:hover {\n",
              "      background-color: #434B5C;\n",
              "      box-shadow: 0px 1px 3px 1px rgba(0, 0, 0, 0.15);\n",
              "      filter: drop-shadow(0px 1px 2px rgba(0, 0, 0, 0.3));\n",
              "      fill: #FFFFFF;\n",
              "    }\n",
              "  </style>\n",
              "\n",
              "      <script>\n",
              "        const buttonEl =\n",
              "          document.querySelector('#df-71834328-b6f8-4de9-8500-a205ce063dbe button.colab-df-convert');\n",
              "        buttonEl.style.display =\n",
              "          google.colab.kernel.accessAllowed ? 'block' : 'none';\n",
              "\n",
              "        async function convertToInteractive(key) {\n",
              "          const element = document.querySelector('#df-71834328-b6f8-4de9-8500-a205ce063dbe');\n",
              "          const dataTable =\n",
              "            await google.colab.kernel.invokeFunction('convertToInteractive',\n",
              "                                                     [key], {});\n",
              "          if (!dataTable) return;\n",
              "\n",
              "          const docLinkHtml = 'Like what you see? Visit the ' +\n",
              "            '<a target=\"_blank\" href=https://colab.research.google.com/notebooks/data_table.ipynb>data table notebook</a>'\n",
              "            + ' to learn more about interactive tables.';\n",
              "          element.innerHTML = '';\n",
              "          dataTable['output_type'] = 'display_data';\n",
              "          await google.colab.output.renderOutput(dataTable, element);\n",
              "          const docLink = document.createElement('div');\n",
              "          docLink.innerHTML = docLinkHtml;\n",
              "          element.appendChild(docLink);\n",
              "        }\n",
              "      </script>\n",
              "    </div>\n",
              "  </div>\n",
              "  "
            ]
          },
          "metadata": {}
        }
      ],
      "source": [
        "# посчитаем количество событий на пользователя\n",
        "event_per_user = data.groupby('user_id', as_index=False)['event_name'].count()\n",
        "event_per_user .columns = ['user_id', 'event_name_cnt']\n",
        "display(event_per_user.sort_values(by = 'event_name_cnt',ascending=False))\n"
      ]
    },
    {
      "cell_type": "code",
      "execution_count": 81,
      "metadata": {
        "colab": {
          "base_uri": "https://localhost:8080/"
        },
        "id": "KqNB8LLKlB0o",
        "outputId": "4ea10781-378a-4b1a-aade-191f8b89443c"
      },
      "outputs": [
        {
          "output_type": "stream",
          "name": "stdout",
          "text": [
            "Среднее количество событий на пользователя: 32.3\n",
            "Медианное количество событий на пользователя: 20.0\n"
          ]
        }
      ],
      "source": [
        "print('Среднее количество событий на пользователя: {:.1f}'.format(event_per_user['event_name_cnt'].mean()))\n",
        "print('Медианное количество событий на пользователя: {:.1f}'.format(event_per_user['event_name_cnt'].median()))"
      ]
    },
    {
      "cell_type": "code",
      "execution_count": 82,
      "metadata": {
        "scrolled": false,
        "colab": {
          "base_uri": "https://localhost:8080/",
          "height": 404
        },
        "id": "X3jbseu0lB0o",
        "outputId": "2fd343ae-0b7b-4a5f-b85f-a5f23e210185"
      },
      "outputs": [
        {
          "output_type": "display_data",
          "data": {
            "text/plain": [
              "<Figure size 720x432 with 1 Axes>"
            ],
            "image/png": "[encoded data removed]"
          },
          "metadata": {
            "needs_background": "light"
          }
        }
      ],
      "source": [
        "# посмотрим распределение по пользователям\n",
        "x_values = pd.Series(range(0,len(event_per_user)))\n",
        "plt.figure(figsize=(10, 6))\n",
        "plt.scatter(x_values, event_per_user['event_name_cnt'], alpha=0.6, color='dodgerblue')\n",
        "plt.xlabel('Пользователи')\n",
        "plt.ylabel('Количество событий на одного пользователя')\n",
        "plt.title('Распределение событий по количеству');"
      ]
    },
    {
      "cell_type": "code",
      "execution_count": 83,
      "metadata": {
        "scrolled": true,
        "colab": {
          "base_uri": "https://localhost:8080/"
        },
        "id": "-qVH4iMVlB0o",
        "outputId": "6380d9dc-767f-4b0f-fa2b-324891ec4c9b"
      },
      "outputs": [
        {
          "output_type": "stream",
          "name": "stdout",
          "text": [
            "95 персентиль 89.0\n",
            "99 персентиль 200.5\n"
          ]
        }
      ],
      "source": [
        "print('95 персентиль', np.percentile(event_per_user['event_name_cnt'], 95))\n",
        "print('99 персентиль', np.percentile(event_per_user['event_name_cnt'], 99))"
      ]
    },
    {
      "cell_type": "markdown",
      "metadata": {
        "id": "-BeKqMr-lB0p"
      },
      "source": [
        "95% пользователей совершают 89 событий и менее  \n",
        "99% пользователей совершают 200 событий и менее  \n",
        "\n",
        "Уберем аномальных пользователей с числом событий более 89"
      ]
    },
    {
      "cell_type": "code",
      "execution_count": 84,
      "metadata": {
        "id": "QaxxuNWElB0p"
      },
      "outputs": [],
      "source": [
        "usersWithManyEvents = event_per_user[\n",
        "            event_per_user['event_name_cnt'] > np.percentile(event_per_user['event_name_cnt'], 99)]['user_id']\n",
        "data_filt = data[np.logical_not(data['user_id'].isin(usersWithManyEvents))]"
      ]
    },
    {
      "cell_type": "code",
      "execution_count": 85,
      "metadata": {
        "colab": {
          "base_uri": "https://localhost:8080/"
        },
        "id": "cSEtYr25lB0p",
        "outputId": "75f69d35-79ed-4d56-91bc-ac493ddcf566"
      },
      "outputs": [
        {
          "output_type": "stream",
          "name": "stdout",
          "text": [
            "Доля удаленных пользователей с аномальными заказами: 1.01%\n",
            "Доля удаленных событий пользователей с аномальными заказами: 14.11%\n"
          ]
        }
      ],
      "source": [
        "print('Доля удаленных пользователей с аномальными заказами: {:.2f}%'.format(100-\n",
        "    data_filt['user_id'].nunique()*100/data['user_id'].nunique ()))\n",
        "print('Доля удаленных событий пользователей с аномальными заказами: {:.2f}%'.format(100-\n",
        "    data_filt['event_name'].count()*100/data['event_name'].count()))"
      ]
    },
    {
      "cell_type": "code",
      "execution_count": 86,
      "metadata": {
        "scrolled": false,
        "colab": {
          "base_uri": "https://localhost:8080/"
        },
        "id": "Bgb_rOs5lB0p",
        "outputId": "2b141718-a28c-4a5a-fbfb-892cc795663e"
      },
      "outputs": [
        {
          "output_type": "stream",
          "name": "stdout",
          "text": [
            "После удаления аномальных пользователей среднее количество событий на пользователя: 28.0\n"
          ]
        }
      ],
      "source": [
        "print('После удаления аномальных пользователей среднее количество событий на пользователя: {:.1f}'.format(\n",
        "                                                                                len(data_filt)/data_filt['user_id'].nunique()))"
      ]
    },
    {
      "cell_type": "code",
      "execution_count": 87,
      "metadata": {
        "scrolled": true,
        "colab": {
          "base_uri": "https://localhost:8080/",
          "height": 488
        },
        "id": "Qlae96Y4lB0p",
        "outputId": "e1f09316-d397-442e-c2b7-62afa12880f8"
      },
      "outputs": [
        {
          "output_type": "display_data",
          "data": {
            "text/plain": [
              "   event_date  user_id  event_name  event/user\n",
              "0  2019-07-25        7           9        1.29\n",
              "1  2019-07-26       22          31        1.41\n",
              "2  2019-07-27       39          55        1.41\n",
              "3  2019-07-28       69         105        1.52\n",
              "4  2019-07-29      135         184        1.36\n",
              "5  2019-07-30      296         412        1.39\n",
              "6  2019-07-31      924        2030        2.20\n",
              "7  2019-08-01     3703       36141        9.76\n",
              "8  2019-08-02     3647       35554        9.75\n",
              "9  2019-08-03     3482       33282        9.56\n",
              "10 2019-08-04     3527       32968        9.35\n",
              "11 2019-08-05     3802       36058        9.48\n",
              "12 2019-08-06     3922       35788        9.12\n",
              "13 2019-08-07     3651       31096        8.52"
            ],
            "text/html": [
              "\n",
              "  <div id=\"df-e4da4b81-bca2-4c2c-83b1-43fd6d887037\">\n",
              "    <div class=\"colab-df-container\">\n",
              "      <div>\n",
              "<style scoped>\n",
              "    .dataframe tbody tr th:only-of-type {\n",
              "        vertical-align: middle;\n",
              "    }\n",
              "\n",
              "    .dataframe tbody tr th {\n",
              "        vertical-align: top;\n",
              "    }\n",
              "\n",
              "    .dataframe thead th {\n",
              "        text-align: right;\n",
              "    }\n",
              "</style>\n",
              "<table border=\"1\" class=\"dataframe\">\n",
              "  <thead>\n",
              "    <tr style=\"text-align: right;\">\n",
              "      <th></th>\n",
              "      <th>event_date</th>\n",
              "      <th>user_id</th>\n",
              "      <th>event_name</th>\n",
              "      <th>event/user</th>\n",
              "    </tr>\n",
              "  </thead>\n",
              "  <tbody>\n",
              "    <tr>\n",
              "      <th>0</th>\n",
              "      <td>2019-07-25</td>\n",
              "      <td>7</td>\n",
              "      <td>9</td>\n",
              "      <td>1.29</td>\n",
              "    </tr>\n",
              "    <tr>\n",
              "      <th>1</th>\n",
              "      <td>2019-07-26</td>\n",
              "      <td>22</td>\n",
              "      <td>31</td>\n",
              "      <td>1.41</td>\n",
              "    </tr>\n",
              "    <tr>\n",
              "      <th>2</th>\n",
              "      <td>2019-07-27</td>\n",
              "      <td>39</td>\n",
              "      <td>55</td>\n",
              "      <td>1.41</td>\n",
              "    </tr>\n",
              "    <tr>\n",
              "      <th>3</th>\n",
              "      <td>2019-07-28</td>\n",
              "      <td>69</td>\n",
              "      <td>105</td>\n",
              "      <td>1.52</td>\n",
              "    </tr>\n",
              "    <tr>\n",
              "      <th>4</th>\n",
              "      <td>2019-07-29</td>\n",
              "      <td>135</td>\n",
              "      <td>184</td>\n",
              "      <td>1.36</td>\n",
              "    </tr>\n",
              "    <tr>\n",
              "      <th>5</th>\n",
              "      <td>2019-07-30</td>\n",
              "      <td>296</td>\n",
              "      <td>412</td>\n",
              "      <td>1.39</td>\n",
              "    </tr>\n",
              "    <tr>\n",
              "      <th>6</th>\n",
              "      <td>2019-07-31</td>\n",
              "      <td>924</td>\n",
              "      <td>2030</td>\n",
              "      <td>2.20</td>\n",
              "    </tr>\n",
              "    <tr>\n",
              "      <th>7</th>\n",
              "      <td>2019-08-01</td>\n",
              "      <td>3703</td>\n",
              "      <td>36141</td>\n",
              "      <td>9.76</td>\n",
              "    </tr>\n",
              "    <tr>\n",
              "      <th>8</th>\n",
              "      <td>2019-08-02</td>\n",
              "      <td>3647</td>\n",
              "      <td>35554</td>\n",
              "      <td>9.75</td>\n",
              "    </tr>\n",
              "    <tr>\n",
              "      <th>9</th>\n",
              "      <td>2019-08-03</td>\n",
              "      <td>3482</td>\n",
              "      <td>33282</td>\n",
              "      <td>9.56</td>\n",
              "    </tr>\n",
              "    <tr>\n",
              "      <th>10</th>\n",
              "      <td>2019-08-04</td>\n",
              "      <td>3527</td>\n",
              "      <td>32968</td>\n",
              "      <td>9.35</td>\n",
              "    </tr>\n",
              "    <tr>\n",
              "      <th>11</th>\n",
              "      <td>2019-08-05</td>\n",
              "      <td>3802</td>\n",
              "      <td>36058</td>\n",
              "      <td>9.48</td>\n",
              "    </tr>\n",
              "    <tr>\n",
              "      <th>12</th>\n",
              "      <td>2019-08-06</td>\n",
              "      <td>3922</td>\n",
              "      <td>35788</td>\n",
              "      <td>9.12</td>\n",
              "    </tr>\n",
              "    <tr>\n",
              "      <th>13</th>\n",
              "      <td>2019-08-07</td>\n",
              "      <td>3651</td>\n",
              "      <td>31096</td>\n",
              "      <td>8.52</td>\n",
              "    </tr>\n",
              "  </tbody>\n",
              "</table>\n",
              "</div>\n",
              "      <button class=\"colab-df-convert\" onclick=\"convertToInteractive('df-e4da4b81-bca2-4c2c-83b1-43fd6d887037')\"\n",
              "              title=\"Convert this dataframe to an interactive table.\"\n",
              "              style=\"display:none;\">\n",
              "        \n",
              "  <svg xmlns=\"http://www.w3.org/2000/svg\" height=\"24px\"viewBox=\"0 0 24 24\"\n",
              "       width=\"24px\">\n",
              "    <path d=\"M0 0h24v24H0V0z\" fill=\"none\"/>\n",
              "    <path d=\"M18.56 5.44l.94 2.06.94-2.06 2.06-.94-2.06-.94-.94-2.06-.94 2.06-2.06.94zm-11 1L8.5 8.5l.94-2.06 2.06-.94-2.06-.94L8.5 2.5l-.94 2.06-2.06.94zm10 10l.94 2.06.94-2.06 2.06-.94-2.06-.94-.94-2.06-.94 2.06-2.06.94z\"/><path d=\"M17.41 7.96l-1.37-1.37c-.4-.4-.92-.59-1.43-.59-.52 0-1.04.2-1.43.59L10.3 9.45l-7.72 7.72c-.78.78-.78 2.05 0 2.83L4 21.41c.39.39.9.59 1.41.59.51 0 1.02-.2 1.41-.59l7.78-7.78 2.81-2.81c.8-.78.8-2.07 0-2.86zM5.41 20L4 18.59l7.72-7.72 1.47 1.35L5.41 20z\"/>\n",
              "  </svg>\n",
              "      </button>\n",
              "      \n",
              "  <style>\n",
              "    .colab-df-container {\n",
              "      display:flex;\n",
              "      flex-wrap:wrap;\n",
              "      gap: 12px;\n",
              "    }\n",
              "\n",
              "    .colab-df-convert {\n",
              "      background-color: #E8F0FE;\n",
              "      border: none;\n",
              "      border-radius: 50%;\n",
              "      cursor: pointer;\n",
              "      display: none;\n",
              "      fill: #1967D2;\n",
              "      height: 32px;\n",
              "      padding: 0 0 0 0;\n",
              "      width: 32px;\n",
              "    }\n",
              "\n",
              "    .colab-df-convert:hover {\n",
              "      background-color: #E2EBFA;\n",
              "      box-shadow: 0px 1px 2px rgba(60, 64, 67, 0.3), 0px 1px 3px 1px rgba(60, 64, 67, 0.15);\n",
              "      fill: #174EA6;\n",
              "    }\n",
              "\n",
              "    [theme=dark] .colab-df-convert {\n",
              "      background-color: #3B4455;\n",
              "      fill: #D2E3FC;\n",
              "    }\n",
              "\n",
              "    [theme=dark] .colab-df-convert:hover {\n",
              "      background-color: #434B5C;\n",
              "      box-shadow: 0px 1px 3px 1px rgba(0, 0, 0, 0.15);\n",
              "      filter: drop-shadow(0px 1px 2px rgba(0, 0, 0, 0.3));\n",
              "      fill: #FFFFFF;\n",
              "    }\n",
              "  </style>\n",
              "\n",
              "      <script>\n",
              "        const buttonEl =\n",
              "          document.querySelector('#df-e4da4b81-bca2-4c2c-83b1-43fd6d887037 button.colab-df-convert');\n",
              "        buttonEl.style.display =\n",
              "          google.colab.kernel.accessAllowed ? 'block' : 'none';\n",
              "\n",
              "        async function convertToInteractive(key) {\n",
              "          const element = document.querySelector('#df-e4da4b81-bca2-4c2c-83b1-43fd6d887037');\n",
              "          const dataTable =\n",
              "            await google.colab.kernel.invokeFunction('convertToInteractive',\n",
              "                                                     [key], {});\n",
              "          if (!dataTable) return;\n",
              "\n",
              "          const docLinkHtml = 'Like what you see? Visit the ' +\n",
              "            '<a target=\"_blank\" href=https://colab.research.google.com/notebooks/data_table.ipynb>data table notebook</a>'\n",
              "            + ' to learn more about interactive tables.';\n",
              "          element.innerHTML = '';\n",
              "          dataTable['output_type'] = 'display_data';\n",
              "          await google.colab.output.renderOutput(dataTable, element);\n",
              "          const docLink = document.createElement('div');\n",
              "          docLink.innerHTML = docLinkHtml;\n",
              "          element.appendChild(docLink);\n",
              "        }\n",
              "      </script>\n",
              "    </div>\n",
              "  </div>\n",
              "  "
            ]
          },
          "metadata": {}
        }
      ],
      "source": [
        "# проверим даты и посчитаем количество активных пользовталей и событий \n",
        "chek_date = data.groupby('event_date', as_index=False).agg({'user_id':'nunique','event_name':'count'})\n",
        "chek_date['event/user'] = chek_date['event_name']/chek_date['user_id']\n",
        "display(chek_date)\n"
      ]
    },
    {
      "cell_type": "markdown",
      "metadata": {
        "id": "VFawFvR-lB0q"
      },
      "source": [
        "Количество событий и пользователей сопоставимы между собой в период с 1 по 7 августа  \n",
        "События до 1 августа выглядят подозрительно.  \n",
        "Гораздо меньше пользователей, меньше событий и соотношение событий к пользователю также выбивается из общего ряда  \n",
        "Возможно это 'левые' события из прошлого.  \n",
        "Взглянем еще раз на гистограмму частот записей по времени:"
      ]
    },
    {
      "cell_type": "code",
      "execution_count": 88,
      "metadata": {
        "colab": {
          "base_uri": "https://localhost:8080/",
          "height": 442
        },
        "id": "Zc7U34QDlB0q",
        "outputId": "46d60acb-0615-409e-b2d3-6d5178fdcf2a"
      },
      "outputs": [
        {
          "output_type": "display_data",
          "data": {
            "text/plain": [
              "<Figure size 1080x432 with 1 Axes>"
            ],
            "image/png": "[encoded data removed]"
          },
          "metadata": {
            "needs_background": "light"
          }
        }
      ],
      "source": [
        "plt.figure(figsize=(15, 6))\n",
        "data['event_time'].sort_values().hist(bins=100, color='dodgerblue', grid=False)\n",
        "plt.xlabel('Даты')\n",
        "plt.ylabel('Количество наблюдений')\n",
        "plt.title('Распределение событий по датам')\n",
        "plt.xticks(rotation=45);"
      ]
    },
    {
      "cell_type": "markdown",
      "metadata": {
        "id": "40g3t4C5lB0q"
      },
      "source": [
        "Распределение событий ранее 01/08/19 выглядят иначе, придется удалить события меньше 01/08/2019"
      ]
    },
    {
      "cell_type": "markdown",
      "metadata": {
        "id": "TbagMroFlB0q"
      },
      "source": [
        "Посчитаем долю пользователей и событий на удаление:"
      ]
    },
    {
      "cell_type": "code",
      "execution_count": 89,
      "metadata": {
        "colab": {
          "base_uri": "https://localhost:8080/"
        },
        "id": "V49QT1KulB0q",
        "outputId": "8b5be8d6-2832-44d0-af4f-3d0cd042a441"
      },
      "outputs": [
        {
          "output_type": "stream",
          "name": "stdout",
          "text": [
            "Доля пользователей с аномальными датами: 0.23%\n",
            "Доля событий с аномальными датами: 1.30%\n"
          ]
        }
      ],
      "source": [
        "print('Доля пользователей с аномальными датами: {:.2f}%'.format(\n",
        "    len(data_filt[np.logical_not(data_filt['user_id'].isin(\n",
        "        data_filt[data_filt['event_date']>='2019-08-01']['user_id']))]['user_id'].unique())*100/\n",
        "                                                                                            data_filt['user_id'].nunique ()))\n",
        "print('Доля событий с аномальными датами: {:.2f}%'.format(\n",
        "    len(data_filt[data_filt['event_date']<'2019-08-01'])*100/data_filt['event_name'].count()))\n"
      ]
    },
    {
      "cell_type": "code",
      "execution_count": 90,
      "metadata": {
        "scrolled": true,
        "id": "Qc7gxXoYlB0q"
      },
      "outputs": [],
      "source": [
        "# удалим события меньше 01/08/2019\n",
        "data_filt = data_filt[data_filt['event_date']>='2019-08-01']"
      ]
    },
    {
      "cell_type": "markdown",
      "metadata": {
        "id": "JGlXAzDZlB0r"
      },
      "source": [
        "Посчитаем сколько всего мы удалили пользователей и событий с учетом аномальных заказов и аномальных дат:"
      ]
    },
    {
      "cell_type": "code",
      "execution_count": 91,
      "metadata": {
        "colab": {
          "base_uri": "https://localhost:8080/"
        },
        "id": "9wkWmHb7lB0r",
        "outputId": "062cd2e1-21c9-4c99-f348-d767b54c5507"
      },
      "outputs": [
        {
          "output_type": "stream",
          "name": "stdout",
          "text": [
            "Доля удаленных пользователей с аномальными заказами и аномальными датами: 1.23%\n",
            "Доля удаленных событий пользователей с аномальными заказами и аномальными датами: 15.22%\n"
          ]
        }
      ],
      "source": [
        "print('Доля удаленных пользователей с аномальными заказами и аномальными датами: {:.2f}%'.format(100-\n",
        "    data_filt['user_id'].nunique()*100/data['user_id'].nunique ()))\n",
        "print('Доля удаленных событий пользователей с аномальными заказами и аномальными датами: {:.2f}%'.format(100-\n",
        "    data_filt['event_name'].count()*100/data['event_name'].count()))"
      ]
    },
    {
      "cell_type": "markdown",
      "metadata": {
        "id": "Z8ePa1g0lB0r"
      },
      "source": [
        "Проверим распределение пользователей по группам:"
      ]
    },
    {
      "cell_type": "code",
      "execution_count": 92,
      "metadata": {
        "scrolled": true,
        "colab": {
          "base_uri": "https://localhost:8080/",
          "height": 175
        },
        "id": "b1FZg9M-lB0s",
        "outputId": "3c861731-c1d5-441a-cee8-d022d12fc903"
      },
      "outputs": [
        {
          "output_type": "execute_result",
          "data": {
            "text/plain": [
              "         user_id\n",
              "expr_id         \n",
              "246         2456\n",
              "247         2491\n",
              "248         2511"
            ],
            "text/html": [
              "\n",
              "  <div id=\"df-695e0270-06df-401a-8764-7b5ef09cef7b\">\n",
              "    <div class=\"colab-df-container\">\n",
              "      <div>\n",
              "<style scoped>\n",
              "    .dataframe tbody tr th:only-of-type {\n",
              "        vertical-align: middle;\n",
              "    }\n",
              "\n",
              "    .dataframe tbody tr th {\n",
              "        vertical-align: top;\n",
              "    }\n",
              "\n",
              "    .dataframe thead th {\n",
              "        text-align: right;\n",
              "    }\n",
              "</style>\n",
              "<table border=\"1\" class=\"dataframe\">\n",
              "  <thead>\n",
              "    <tr style=\"text-align: right;\">\n",
              "      <th></th>\n",
              "      <th>user_id</th>\n",
              "    </tr>\n",
              "    <tr>\n",
              "      <th>expr_id</th>\n",
              "      <th></th>\n",
              "    </tr>\n",
              "  </thead>\n",
              "  <tbody>\n",
              "    <tr>\n",
              "      <th>246</th>\n",
              "      <td>2456</td>\n",
              "    </tr>\n",
              "    <tr>\n",
              "      <th>247</th>\n",
              "      <td>2491</td>\n",
              "    </tr>\n",
              "    <tr>\n",
              "      <th>248</th>\n",
              "      <td>2511</td>\n",
              "    </tr>\n",
              "  </tbody>\n",
              "</table>\n",
              "</div>\n",
              "      <button class=\"colab-df-convert\" onclick=\"convertToInteractive('df-695e0270-06df-401a-8764-7b5ef09cef7b')\"\n",
              "              title=\"Convert this dataframe to an interactive table.\"\n",
              "              style=\"display:none;\">\n",
              "        \n",
              "  <svg xmlns=\"http://www.w3.org/2000/svg\" height=\"24px\"viewBox=\"0 0 24 24\"\n",
              "       width=\"24px\">\n",
              "    <path d=\"M0 0h24v24H0V0z\" fill=\"none\"/>\n",
              "    <path d=\"M18.56 5.44l.94 2.06.94-2.06 2.06-.94-2.06-.94-.94-2.06-.94 2.06-2.06.94zm-11 1L8.5 8.5l.94-2.06 2.06-.94-2.06-.94L8.5 2.5l-.94 2.06-2.06.94zm10 10l.94 2.06.94-2.06 2.06-.94-2.06-.94-.94-2.06-.94 2.06-2.06.94z\"/><path d=\"M17.41 7.96l-1.37-1.37c-.4-.4-.92-.59-1.43-.59-.52 0-1.04.2-1.43.59L10.3 9.45l-7.72 7.72c-.78.78-.78 2.05 0 2.83L4 21.41c.39.39.9.59 1.41.59.51 0 1.02-.2 1.41-.59l7.78-7.78 2.81-2.81c.8-.78.8-2.07 0-2.86zM5.41 20L4 18.59l7.72-7.72 1.47 1.35L5.41 20z\"/>\n",
              "  </svg>\n",
              "      </button>\n",
              "      \n",
              "  <style>\n",
              "    .colab-df-container {\n",
              "      display:flex;\n",
              "      flex-wrap:wrap;\n",
              "      gap: 12px;\n",
              "    }\n",
              "\n",
              "    .colab-df-convert {\n",
              "      background-color: #E8F0FE;\n",
              "      border: none;\n",
              "      border-radius: 50%;\n",
              "      cursor: pointer;\n",
              "      display: none;\n",
              "      fill: #1967D2;\n",
              "      height: 32px;\n",
              "      padding: 0 0 0 0;\n",
              "      width: 32px;\n",
              "    }\n",
              "\n",
              "    .colab-df-convert:hover {\n",
              "      background-color: #E2EBFA;\n",
              "      box-shadow: 0px 1px 2px rgba(60, 64, 67, 0.3), 0px 1px 3px 1px rgba(60, 64, 67, 0.15);\n",
              "      fill: #174EA6;\n",
              "    }\n",
              "\n",
              "    [theme=dark] .colab-df-convert {\n",
              "      background-color: #3B4455;\n",
              "      fill: #D2E3FC;\n",
              "    }\n",
              "\n",
              "    [theme=dark] .colab-df-convert:hover {\n",
              "      background-color: #434B5C;\n",
              "      box-shadow: 0px 1px 3px 1px rgba(0, 0, 0, 0.15);\n",
              "      filter: drop-shadow(0px 1px 2px rgba(0, 0, 0, 0.3));\n",
              "      fill: #FFFFFF;\n",
              "    }\n",
              "  </style>\n",
              "\n",
              "      <script>\n",
              "        const buttonEl =\n",
              "          document.querySelector('#df-695e0270-06df-401a-8764-7b5ef09cef7b button.colab-df-convert');\n",
              "        buttonEl.style.display =\n",
              "          google.colab.kernel.accessAllowed ? 'block' : 'none';\n",
              "\n",
              "        async function convertToInteractive(key) {\n",
              "          const element = document.querySelector('#df-695e0270-06df-401a-8764-7b5ef09cef7b');\n",
              "          const dataTable =\n",
              "            await google.colab.kernel.invokeFunction('convertToInteractive',\n",
              "                                                     [key], {});\n",
              "          if (!dataTable) return;\n",
              "\n",
              "          const docLinkHtml = 'Like what you see? Visit the ' +\n",
              "            '<a target=\"_blank\" href=https://colab.research.google.com/notebooks/data_table.ipynb>data table notebook</a>'\n",
              "            + ' to learn more about interactive tables.';\n",
              "          element.innerHTML = '';\n",
              "          dataTable['output_type'] = 'display_data';\n",
              "          await google.colab.output.renderOutput(dataTable, element);\n",
              "          const docLink = document.createElement('div');\n",
              "          docLink.innerHTML = docLinkHtml;\n",
              "          element.appendChild(docLink);\n",
              "        }\n",
              "      </script>\n",
              "    </div>\n",
              "  </div>\n",
              "  "
            ]
          },
          "metadata": {},
          "execution_count": 92
        }
      ],
      "source": [
        "data_filt.groupby('expr_id').agg({'user_id' : 'nunique'})\n"
      ]
    },
    {
      "cell_type": "markdown",
      "metadata": {
        "id": "GBRXm13DlB0s"
      },
      "source": [
        "Пользователи равномерно распределены по всем трем группам"
      ]
    },
    {
      "cell_type": "markdown",
      "metadata": {
        "id": "Gcu1gl3FlB0s"
      },
      "source": [
        "Посмотрим на распределение событий по количеству в целом и по пользователям:"
      ]
    },
    {
      "cell_type": "code",
      "execution_count": 93,
      "metadata": {
        "scrolled": false,
        "colab": {
          "base_uri": "https://localhost:8080/",
          "height": 206
        },
        "id": "EZQQDyAolB0s",
        "outputId": "b23dbb43-6a7b-4156-e4ee-62237d80546b"
      },
      "outputs": [
        {
          "output_type": "display_data",
          "data": {
            "text/plain": [
              "                event_name event_name_cnt user_id_cnt share_of_total_user,%\n",
              "0         MainScreenAppear         113264        7344                 98.47\n",
              "1       OffersScreenAppear          40956        4517                 60.57\n",
              "2         CartScreenAppear          29250        3658                 49.05\n",
              "3  PaymentScreenSuccessful          22164        3463                 46.43\n",
              "4                 Tutorial            981         824                 11.05"
            ],
            "text/html": [
              "\n",
              "  <div id=\"df-c9428a5a-5cad-457e-9b19-58a9fbd89069\">\n",
              "    <div class=\"colab-df-container\">\n",
              "      <div>\n",
              "<style scoped>\n",
              "    .dataframe tbody tr th:only-of-type {\n",
              "        vertical-align: middle;\n",
              "    }\n",
              "\n",
              "    .dataframe tbody tr th {\n",
              "        vertical-align: top;\n",
              "    }\n",
              "\n",
              "    .dataframe thead tr th {\n",
              "        text-align: left;\n",
              "    }\n",
              "</style>\n",
              "<table border=\"1\" class=\"dataframe\">\n",
              "  <thead>\n",
              "    <tr>\n",
              "      <th></th>\n",
              "      <th>event_name</th>\n",
              "      <th>event_name_cnt</th>\n",
              "      <th>user_id_cnt</th>\n",
              "      <th>share_of_total_user,%</th>\n",
              "    </tr>\n",
              "  </thead>\n",
              "  <tbody>\n",
              "    <tr>\n",
              "      <th>0</th>\n",
              "      <td>MainScreenAppear</td>\n",
              "      <td>113264</td>\n",
              "      <td>7344</td>\n",
              "      <td>98.47</td>\n",
              "    </tr>\n",
              "    <tr>\n",
              "      <th>1</th>\n",
              "      <td>OffersScreenAppear</td>\n",
              "      <td>40956</td>\n",
              "      <td>4517</td>\n",
              "      <td>60.57</td>\n",
              "    </tr>\n",
              "    <tr>\n",
              "      <th>2</th>\n",
              "      <td>CartScreenAppear</td>\n",
              "      <td>29250</td>\n",
              "      <td>3658</td>\n",
              "      <td>49.05</td>\n",
              "    </tr>\n",
              "    <tr>\n",
              "      <th>3</th>\n",
              "      <td>PaymentScreenSuccessful</td>\n",
              "      <td>22164</td>\n",
              "      <td>3463</td>\n",
              "      <td>46.43</td>\n",
              "    </tr>\n",
              "    <tr>\n",
              "      <th>4</th>\n",
              "      <td>Tutorial</td>\n",
              "      <td>981</td>\n",
              "      <td>824</td>\n",
              "      <td>11.05</td>\n",
              "    </tr>\n",
              "  </tbody>\n",
              "</table>\n",
              "</div>\n",
              "      <button class=\"colab-df-convert\" onclick=\"convertToInteractive('df-c9428a5a-5cad-457e-9b19-58a9fbd89069')\"\n",
              "              title=\"Convert this dataframe to an interactive table.\"\n",
              "              style=\"display:none;\">\n",
              "        \n",
              "  <svg xmlns=\"http://www.w3.org/2000/svg\" height=\"24px\"viewBox=\"0 0 24 24\"\n",
              "       width=\"24px\">\n",
              "    <path d=\"M0 0h24v24H0V0z\" fill=\"none\"/>\n",
              "    <path d=\"M18.56 5.44l.94 2.06.94-2.06 2.06-.94-2.06-.94-.94-2.06-.94 2.06-2.06.94zm-11 1L8.5 8.5l.94-2.06 2.06-.94-2.06-.94L8.5 2.5l-.94 2.06-2.06.94zm10 10l.94 2.06.94-2.06 2.06-.94-2.06-.94-.94-2.06-.94 2.06-2.06.94z\"/><path d=\"M17.41 7.96l-1.37-1.37c-.4-.4-.92-.59-1.43-.59-.52 0-1.04.2-1.43.59L10.3 9.45l-7.72 7.72c-.78.78-.78 2.05 0 2.83L4 21.41c.39.39.9.59 1.41.59.51 0 1.02-.2 1.41-.59l7.78-7.78 2.81-2.81c.8-.78.8-2.07 0-2.86zM5.41 20L4 18.59l7.72-7.72 1.47 1.35L5.41 20z\"/>\n",
              "  </svg>\n",
              "      </button>\n",
              "      \n",
              "  <style>\n",
              "    .colab-df-container {\n",
              "      display:flex;\n",
              "      flex-wrap:wrap;\n",
              "      gap: 12px;\n",
              "    }\n",
              "\n",
              "    .colab-df-convert {\n",
              "      background-color: #E8F0FE;\n",
              "      border: none;\n",
              "      border-radius: 50%;\n",
              "      cursor: pointer;\n",
              "      display: none;\n",
              "      fill: #1967D2;\n",
              "      height: 32px;\n",
              "      padding: 0 0 0 0;\n",
              "      width: 32px;\n",
              "    }\n",
              "\n",
              "    .colab-df-convert:hover {\n",
              "      background-color: #E2EBFA;\n",
              "      box-shadow: 0px 1px 2px rgba(60, 64, 67, 0.3), 0px 1px 3px 1px rgba(60, 64, 67, 0.15);\n",
              "      fill: #174EA6;\n",
              "    }\n",
              "\n",
              "    [theme=dark] .colab-df-convert {\n",
              "      background-color: #3B4455;\n",
              "      fill: #D2E3FC;\n",
              "    }\n",
              "\n",
              "    [theme=dark] .colab-df-convert:hover {\n",
              "      background-color: #434B5C;\n",
              "      box-shadow: 0px 1px 3px 1px rgba(0, 0, 0, 0.15);\n",
              "      filter: drop-shadow(0px 1px 2px rgba(0, 0, 0, 0.3));\n",
              "      fill: #FFFFFF;\n",
              "    }\n",
              "  </style>\n",
              "\n",
              "      <script>\n",
              "        const buttonEl =\n",
              "          document.querySelector('#df-c9428a5a-5cad-457e-9b19-58a9fbd89069 button.colab-df-convert');\n",
              "        buttonEl.style.display =\n",
              "          google.colab.kernel.accessAllowed ? 'block' : 'none';\n",
              "\n",
              "        async function convertToInteractive(key) {\n",
              "          const element = document.querySelector('#df-c9428a5a-5cad-457e-9b19-58a9fbd89069');\n",
              "          const dataTable =\n",
              "            await google.colab.kernel.invokeFunction('convertToInteractive',\n",
              "                                                     [key], {});\n",
              "          if (!dataTable) return;\n",
              "\n",
              "          const docLinkHtml = 'Like what you see? Visit the ' +\n",
              "            '<a target=\"_blank\" href=https://colab.research.google.com/notebooks/data_table.ipynb>data table notebook</a>'\n",
              "            + ' to learn more about interactive tables.';\n",
              "          element.innerHTML = '';\n",
              "          dataTable['output_type'] = 'display_data';\n",
              "          await google.colab.output.renderOutput(dataTable, element);\n",
              "          const docLink = document.createElement('div');\n",
              "          docLink.innerHTML = docLinkHtml;\n",
              "          element.appendChild(docLink);\n",
              "        }\n",
              "      </script>\n",
              "    </div>\n",
              "  </div>\n",
              "  "
            ]
          },
          "metadata": {}
        }
      ],
      "source": [
        "event = data_filt.groupby('event_name', as_index=False).agg({\n",
        "                'expr_id':'count','user_id':'nunique'}).sort_values(by='user_id',ascending=False).reset_index(drop=True)\n",
        "event.columns = [['event_name','event_name_cnt','user_id_cnt']]\n",
        "event['share_of_total_user,%'] = event['user_id_cnt'] *100/data_filt['user_id'].nunique()\n",
        "display(event)\n"
      ]
    },
    {
      "cell_type": "markdown",
      "metadata": {
        "id": "WktQ_tqMlB0t"
      },
      "source": [
        "Самое популярное событие(внезапно) - `MainScreenAppear`, встречается более, чем в 2 раза чаще остальных  \n",
        "Событие `Tutorial` встречается редко, очевидно это необязательный пункт.  \n",
        "По количеству уникальных пользователей на событие тенденция та же, больше всего пользователей совершили событие `MainScreenAppear`, меньше всего `Tutorial`  \n",
        "Из всех пользователей только 98.5% совершили событие `MainScreenAppear`, что странно  \n",
        "Половина пользователей дошла до корзины, чуть меньше смогло оплатить  \n",
        "Только 11% проходило `Tutorial`"
      ]
    },
    {
      "cell_type": "markdown",
      "metadata": {
        "id": "STUj-nIslB0t"
      },
      "source": [
        "Посмотрим на пользователей, которые миновали главный экран."
      ]
    },
    {
      "cell_type": "code",
      "execution_count": 94,
      "metadata": {
        "colab": {
          "base_uri": "https://localhost:8080/",
          "height": 175
        },
        "id": "sYJi0JCnlB0t",
        "outputId": "94ae8f18-6225-4385-ec46-2ea00785e8d7"
      },
      "outputs": [
        {
          "output_type": "execute_result",
          "data": {
            "text/plain": [
              "                event_name  expr_id  user_id\n",
              "1       OffersScreenAppear      922      110\n",
              "0         CartScreenAppear      804       98\n",
              "2  PaymentScreenSuccessful      645       97\n",
              "3                 Tutorial        7        4"
            ],
            "text/html": [
              "\n",
              "  <div id=\"df-531e0f51-02a7-4bec-86ad-f3a6b14d94d4\">\n",
              "    <div class=\"colab-df-container\">\n",
              "      <div>\n",
              "<style scoped>\n",
              "    .dataframe tbody tr th:only-of-type {\n",
              "        vertical-align: middle;\n",
              "    }\n",
              "\n",
              "    .dataframe tbody tr th {\n",
              "        vertical-align: top;\n",
              "    }\n",
              "\n",
              "    .dataframe thead th {\n",
              "        text-align: right;\n",
              "    }\n",
              "</style>\n",
              "<table border=\"1\" class=\"dataframe\">\n",
              "  <thead>\n",
              "    <tr style=\"text-align: right;\">\n",
              "      <th></th>\n",
              "      <th>event_name</th>\n",
              "      <th>expr_id</th>\n",
              "      <th>user_id</th>\n",
              "    </tr>\n",
              "  </thead>\n",
              "  <tbody>\n",
              "    <tr>\n",
              "      <th>1</th>\n",
              "      <td>OffersScreenAppear</td>\n",
              "      <td>922</td>\n",
              "      <td>110</td>\n",
              "    </tr>\n",
              "    <tr>\n",
              "      <th>0</th>\n",
              "      <td>CartScreenAppear</td>\n",
              "      <td>804</td>\n",
              "      <td>98</td>\n",
              "    </tr>\n",
              "    <tr>\n",
              "      <th>2</th>\n",
              "      <td>PaymentScreenSuccessful</td>\n",
              "      <td>645</td>\n",
              "      <td>97</td>\n",
              "    </tr>\n",
              "    <tr>\n",
              "      <th>3</th>\n",
              "      <td>Tutorial</td>\n",
              "      <td>7</td>\n",
              "      <td>4</td>\n",
              "    </tr>\n",
              "  </tbody>\n",
              "</table>\n",
              "</div>\n",
              "      <button class=\"colab-df-convert\" onclick=\"convertToInteractive('df-531e0f51-02a7-4bec-86ad-f3a6b14d94d4')\"\n",
              "              title=\"Convert this dataframe to an interactive table.\"\n",
              "              style=\"display:none;\">\n",
              "        \n",
              "  <svg xmlns=\"http://www.w3.org/2000/svg\" height=\"24px\"viewBox=\"0 0 24 24\"\n",
              "       width=\"24px\">\n",
              "    <path d=\"M0 0h24v24H0V0z\" fill=\"none\"/>\n",
              "    <path d=\"M18.56 5.44l.94 2.06.94-2.06 2.06-.94-2.06-.94-.94-2.06-.94 2.06-2.06.94zm-11 1L8.5 8.5l.94-2.06 2.06-.94-2.06-.94L8.5 2.5l-.94 2.06-2.06.94zm10 10l.94 2.06.94-2.06 2.06-.94-2.06-.94-.94-2.06-.94 2.06-2.06.94z\"/><path d=\"M17.41 7.96l-1.37-1.37c-.4-.4-.92-.59-1.43-.59-.52 0-1.04.2-1.43.59L10.3 9.45l-7.72 7.72c-.78.78-.78 2.05 0 2.83L4 21.41c.39.39.9.59 1.41.59.51 0 1.02-.2 1.41-.59l7.78-7.78 2.81-2.81c.8-.78.8-2.07 0-2.86zM5.41 20L4 18.59l7.72-7.72 1.47 1.35L5.41 20z\"/>\n",
              "  </svg>\n",
              "      </button>\n",
              "      \n",
              "  <style>\n",
              "    .colab-df-container {\n",
              "      display:flex;\n",
              "      flex-wrap:wrap;\n",
              "      gap: 12px;\n",
              "    }\n",
              "\n",
              "    .colab-df-convert {\n",
              "      background-color: #E8F0FE;\n",
              "      border: none;\n",
              "      border-radius: 50%;\n",
              "      cursor: pointer;\n",
              "      display: none;\n",
              "      fill: #1967D2;\n",
              "      height: 32px;\n",
              "      padding: 0 0 0 0;\n",
              "      width: 32px;\n",
              "    }\n",
              "\n",
              "    .colab-df-convert:hover {\n",
              "      background-color: #E2EBFA;\n",
              "      box-shadow: 0px 1px 2px rgba(60, 64, 67, 0.3), 0px 1px 3px 1px rgba(60, 64, 67, 0.15);\n",
              "      fill: #174EA6;\n",
              "    }\n",
              "\n",
              "    [theme=dark] .colab-df-convert {\n",
              "      background-color: #3B4455;\n",
              "      fill: #D2E3FC;\n",
              "    }\n",
              "\n",
              "    [theme=dark] .colab-df-convert:hover {\n",
              "      background-color: #434B5C;\n",
              "      box-shadow: 0px 1px 3px 1px rgba(0, 0, 0, 0.15);\n",
              "      filter: drop-shadow(0px 1px 2px rgba(0, 0, 0, 0.3));\n",
              "      fill: #FFFFFF;\n",
              "    }\n",
              "  </style>\n",
              "\n",
              "      <script>\n",
              "        const buttonEl =\n",
              "          document.querySelector('#df-531e0f51-02a7-4bec-86ad-f3a6b14d94d4 button.colab-df-convert');\n",
              "        buttonEl.style.display =\n",
              "          google.colab.kernel.accessAllowed ? 'block' : 'none';\n",
              "\n",
              "        async function convertToInteractive(key) {\n",
              "          const element = document.querySelector('#df-531e0f51-02a7-4bec-86ad-f3a6b14d94d4');\n",
              "          const dataTable =\n",
              "            await google.colab.kernel.invokeFunction('convertToInteractive',\n",
              "                                                     [key], {});\n",
              "          if (!dataTable) return;\n",
              "\n",
              "          const docLinkHtml = 'Like what you see? Visit the ' +\n",
              "            '<a target=\"_blank\" href=https://colab.research.google.com/notebooks/data_table.ipynb>data table notebook</a>'\n",
              "            + ' to learn more about interactive tables.';\n",
              "          element.innerHTML = '';\n",
              "          dataTable['output_type'] = 'display_data';\n",
              "          await google.colab.output.renderOutput(dataTable, element);\n",
              "          const docLink = document.createElement('div');\n",
              "          docLink.innerHTML = docLinkHtml;\n",
              "          element.appendChild(docLink);\n",
              "        }\n",
              "      </script>\n",
              "    </div>\n",
              "  </div>\n",
              "  "
            ]
          },
          "metadata": {},
          "execution_count": 94
        }
      ],
      "source": [
        "main_scr_users = data_filt[data_filt['event_name']=='MainScreenAppear']['user_id']\n",
        "not_main_scr_users = data_filt[np.logical_not(data_filt['user_id'].isin(main_scr_users))]\n",
        "not_main_scr_users.groupby('event_name', as_index=False).agg({\n",
        "                'expr_id':'count','user_id':'nunique'}).sort_values(by='user_id',ascending=False)"
      ]
    },
    {
      "cell_type": "markdown",
      "metadata": {
        "id": "x8J_wqj7lB0t"
      },
      "source": [
        "Выглядит так, что данные пользователи пришли в корзину через событие `OffersScreenAppear`  \n",
        "Возможно, это были пуши или ссылки ведущие прямо на страницу выбора.  \n",
        "Или это техническая ошибка и по этим пользователям пропала часть логов.  "
      ]
    },
    {
      "cell_type": "markdown",
      "metadata": {
        "id": "3yAfeyjulB0t"
      },
      "source": [
        "Посмотрим на примере одного пользователя его лог"
      ]
    },
    {
      "cell_type": "code",
      "execution_count": 95,
      "metadata": {
        "scrolled": false,
        "colab": {
          "base_uri": "https://localhost:8080/",
          "height": 424
        },
        "id": "u7RQFdCOlB0t",
        "outputId": "f7700ead-71a0-4110-bd1f-c1d64471754c"
      },
      "outputs": [
        {
          "output_type": "display_data",
          "data": {
            "text/plain": [
              "                     event_name              user_id          event_time  \\\n",
              "3221    PaymentScreenSuccessful  5322240575085479425 2019-08-01 01:55:25   \n",
              "3222           CartScreenAppear  5322240575085479425 2019-08-01 01:55:25   \n",
              "3255         OffersScreenAppear  3187166762535343300 2019-08-01 02:01:30   \n",
              "3323         OffersScreenAppear  5322240575085479425 2019-08-01 02:15:50   \n",
              "3332         OffersScreenAppear  5322240575085479425 2019-08-01 02:16:58   \n",
              "...                         ...                  ...                 ...   \n",
              "240083  PaymentScreenSuccessful  3788810404193836212 2019-08-07 18:24:10   \n",
              "240084         CartScreenAppear  3788810404193836212 2019-08-07 18:24:11   \n",
              "240447  PaymentScreenSuccessful  2890852187923418999 2019-08-07 18:40:51   \n",
              "240448         CartScreenAppear  2890852187923418999 2019-08-07 18:40:52   \n",
              "240453       OffersScreenAppear  2890852187923418999 2019-08-07 18:41:01   \n",
              "\n",
              "        expr_id event_date  \n",
              "3221        246 2019-08-01  \n",
              "3222        246 2019-08-01  \n",
              "3255        247 2019-08-01  \n",
              "3323        246 2019-08-01  \n",
              "3332        246 2019-08-01  \n",
              "...         ...        ...  \n",
              "240083      247 2019-08-07  \n",
              "240084      247 2019-08-07  \n",
              "240447      246 2019-08-07  \n",
              "240448      246 2019-08-07  \n",
              "240453      246 2019-08-07  \n",
              "\n",
              "[2378 rows x 5 columns]"
            ],
            "text/html": [
              "\n",
              "  <div id=\"df-4b580c2c-d96f-46a2-ac5f-103d6f50513c\">\n",
              "    <div class=\"colab-df-container\">\n",
              "      <div>\n",
              "<style scoped>\n",
              "    .dataframe tbody tr th:only-of-type {\n",
              "        vertical-align: middle;\n",
              "    }\n",
              "\n",
              "    .dataframe tbody tr th {\n",
              "        vertical-align: top;\n",
              "    }\n",
              "\n",
              "    .dataframe thead th {\n",
              "        text-align: right;\n",
              "    }\n",
              "</style>\n",
              "<table border=\"1\" class=\"dataframe\">\n",
              "  <thead>\n",
              "    <tr style=\"text-align: right;\">\n",
              "      <th></th>\n",
              "      <th>event_name</th>\n",
              "      <th>user_id</th>\n",
              "      <th>event_time</th>\n",
              "      <th>expr_id</th>\n",
              "      <th>event_date</th>\n",
              "    </tr>\n",
              "  </thead>\n",
              "  <tbody>\n",
              "    <tr>\n",
              "      <th>3221</th>\n",
              "      <td>PaymentScreenSuccessful</td>\n",
              "      <td>5322240575085479425</td>\n",
              "      <td>2019-08-01 01:55:25</td>\n",
              "      <td>246</td>\n",
              "      <td>2019-08-01</td>\n",
              "    </tr>\n",
              "    <tr>\n",
              "      <th>3222</th>\n",
              "      <td>CartScreenAppear</td>\n",
              "      <td>5322240575085479425</td>\n",
              "      <td>2019-08-01 01:55:25</td>\n",
              "      <td>246</td>\n",
              "      <td>2019-08-01</td>\n",
              "    </tr>\n",
              "    <tr>\n",
              "      <th>3255</th>\n",
              "      <td>OffersScreenAppear</td>\n",
              "      <td>3187166762535343300</td>\n",
              "      <td>2019-08-01 02:01:30</td>\n",
              "      <td>247</td>\n",
              "      <td>2019-08-01</td>\n",
              "    </tr>\n",
              "    <tr>\n",
              "      <th>3323</th>\n",
              "      <td>OffersScreenAppear</td>\n",
              "      <td>5322240575085479425</td>\n",
              "      <td>2019-08-01 02:15:50</td>\n",
              "      <td>246</td>\n",
              "      <td>2019-08-01</td>\n",
              "    </tr>\n",
              "    <tr>\n",
              "      <th>3332</th>\n",
              "      <td>OffersScreenAppear</td>\n",
              "      <td>5322240575085479425</td>\n",
              "      <td>2019-08-01 02:16:58</td>\n",
              "      <td>246</td>\n",
              "      <td>2019-08-01</td>\n",
              "    </tr>\n",
              "    <tr>\n",
              "      <th>...</th>\n",
              "      <td>...</td>\n",
              "      <td>...</td>\n",
              "      <td>...</td>\n",
              "      <td>...</td>\n",
              "      <td>...</td>\n",
              "    </tr>\n",
              "    <tr>\n",
              "      <th>240083</th>\n",
              "      <td>PaymentScreenSuccessful</td>\n",
              "      <td>3788810404193836212</td>\n",
              "      <td>2019-08-07 18:24:10</td>\n",
              "      <td>247</td>\n",
              "      <td>2019-08-07</td>\n",
              "    </tr>\n",
              "    <tr>\n",
              "      <th>240084</th>\n",
              "      <td>CartScreenAppear</td>\n",
              "      <td>3788810404193836212</td>\n",
              "      <td>2019-08-07 18:24:11</td>\n",
              "      <td>247</td>\n",
              "      <td>2019-08-07</td>\n",
              "    </tr>\n",
              "    <tr>\n",
              "      <th>240447</th>\n",
              "      <td>PaymentScreenSuccessful</td>\n",
              "      <td>2890852187923418999</td>\n",
              "      <td>2019-08-07 18:40:51</td>\n",
              "      <td>246</td>\n",
              "      <td>2019-08-07</td>\n",
              "    </tr>\n",
              "    <tr>\n",
              "      <th>240448</th>\n",
              "      <td>CartScreenAppear</td>\n",
              "      <td>2890852187923418999</td>\n",
              "      <td>2019-08-07 18:40:52</td>\n",
              "      <td>246</td>\n",
              "      <td>2019-08-07</td>\n",
              "    </tr>\n",
              "    <tr>\n",
              "      <th>240453</th>\n",
              "      <td>OffersScreenAppear</td>\n",
              "      <td>2890852187923418999</td>\n",
              "      <td>2019-08-07 18:41:01</td>\n",
              "      <td>246</td>\n",
              "      <td>2019-08-07</td>\n",
              "    </tr>\n",
              "  </tbody>\n",
              "</table>\n",
              "<p>2378 rows × 5 columns</p>\n",
              "</div>\n",
              "      <button class=\"colab-df-convert\" onclick=\"convertToInteractive('df-4b580c2c-d96f-46a2-ac5f-103d6f50513c')\"\n",
              "              title=\"Convert this dataframe to an interactive table.\"\n",
              "              style=\"display:none;\">\n",
              "        \n",
              "  <svg xmlns=\"http://www.w3.org/2000/svg\" height=\"24px\"viewBox=\"0 0 24 24\"\n",
              "       width=\"24px\">\n",
              "    <path d=\"M0 0h24v24H0V0z\" fill=\"none\"/>\n",
              "    <path d=\"M18.56 5.44l.94 2.06.94-2.06 2.06-.94-2.06-.94-.94-2.06-.94 2.06-2.06.94zm-11 1L8.5 8.5l.94-2.06 2.06-.94-2.06-.94L8.5 2.5l-.94 2.06-2.06.94zm10 10l.94 2.06.94-2.06 2.06-.94-2.06-.94-.94-2.06-.94 2.06-2.06.94z\"/><path d=\"M17.41 7.96l-1.37-1.37c-.4-.4-.92-.59-1.43-.59-.52 0-1.04.2-1.43.59L10.3 9.45l-7.72 7.72c-.78.78-.78 2.05 0 2.83L4 21.41c.39.39.9.59 1.41.59.51 0 1.02-.2 1.41-.59l7.78-7.78 2.81-2.81c.8-.78.8-2.07 0-2.86zM5.41 20L4 18.59l7.72-7.72 1.47 1.35L5.41 20z\"/>\n",
              "  </svg>\n",
              "      </button>\n",
              "      \n",
              "  <style>\n",
              "    .colab-df-container {\n",
              "      display:flex;\n",
              "      flex-wrap:wrap;\n",
              "      gap: 12px;\n",
              "    }\n",
              "\n",
              "    .colab-df-convert {\n",
              "      background-color: #E8F0FE;\n",
              "      border: none;\n",
              "      border-radius: 50%;\n",
              "      cursor: pointer;\n",
              "      display: none;\n",
              "      fill: #1967D2;\n",
              "      height: 32px;\n",
              "      padding: 0 0 0 0;\n",
              "      width: 32px;\n",
              "    }\n",
              "\n",
              "    .colab-df-convert:hover {\n",
              "      background-color: #E2EBFA;\n",
              "      box-shadow: 0px 1px 2px rgba(60, 64, 67, 0.3), 0px 1px 3px 1px rgba(60, 64, 67, 0.15);\n",
              "      fill: #174EA6;\n",
              "    }\n",
              "\n",
              "    [theme=dark] .colab-df-convert {\n",
              "      background-color: #3B4455;\n",
              "      fill: #D2E3FC;\n",
              "    }\n",
              "\n",
              "    [theme=dark] .colab-df-convert:hover {\n",
              "      background-color: #434B5C;\n",
              "      box-shadow: 0px 1px 3px 1px rgba(0, 0, 0, 0.15);\n",
              "      filter: drop-shadow(0px 1px 2px rgba(0, 0, 0, 0.3));\n",
              "      fill: #FFFFFF;\n",
              "    }\n",
              "  </style>\n",
              "\n",
              "      <script>\n",
              "        const buttonEl =\n",
              "          document.querySelector('#df-4b580c2c-d96f-46a2-ac5f-103d6f50513c button.colab-df-convert');\n",
              "        buttonEl.style.display =\n",
              "          google.colab.kernel.accessAllowed ? 'block' : 'none';\n",
              "\n",
              "        async function convertToInteractive(key) {\n",
              "          const element = document.querySelector('#df-4b580c2c-d96f-46a2-ac5f-103d6f50513c');\n",
              "          const dataTable =\n",
              "            await google.colab.kernel.invokeFunction('convertToInteractive',\n",
              "                                                     [key], {});\n",
              "          if (!dataTable) return;\n",
              "\n",
              "          const docLinkHtml = 'Like what you see? Visit the ' +\n",
              "            '<a target=\"_blank\" href=https://colab.research.google.com/notebooks/data_table.ipynb>data table notebook</a>'\n",
              "            + ' to learn more about interactive tables.';\n",
              "          element.innerHTML = '';\n",
              "          dataTable['output_type'] = 'display_data';\n",
              "          await google.colab.output.renderOutput(dataTable, element);\n",
              "          const docLink = document.createElement('div');\n",
              "          docLink.innerHTML = docLinkHtml;\n",
              "          element.appendChild(docLink);\n",
              "        }\n",
              "      </script>\n",
              "    </div>\n",
              "  </div>\n",
              "  "
            ]
          },
          "metadata": {}
        }
      ],
      "source": [
        "display(not_main_scr_users)"
      ]
    },
    {
      "cell_type": "code",
      "execution_count": 96,
      "metadata": {
        "scrolled": true,
        "colab": {
          "base_uri": "https://localhost:8080/",
          "height": 426
        },
        "id": "ZeqkX4KIlB0t",
        "outputId": "7801ea44-fb32-43e3-c6ee-0ef0fe06650b"
      },
      "outputs": [
        {
          "output_type": "execute_result",
          "data": {
            "text/plain": [
              "                     event_name              user_id          event_time  \\\n",
              "151437  PaymentScreenSuccessful  2890852187923418999 2019-08-05 10:07:19   \n",
              "151440         CartScreenAppear  2890852187923418999 2019-08-05 10:07:20   \n",
              "151441       OffersScreenAppear  2890852187923418999 2019-08-05 10:07:22   \n",
              "192906       OffersScreenAppear  2890852187923418999 2019-08-06 12:17:28   \n",
              "192913         CartScreenAppear  2890852187923418999 2019-08-06 12:17:37   \n",
              "192914  PaymentScreenSuccessful  2890852187923418999 2019-08-06 12:17:37   \n",
              "193930       OffersScreenAppear  2890852187923418999 2019-08-06 12:52:26   \n",
              "193963       OffersScreenAppear  2890852187923418999 2019-08-06 12:53:09   \n",
              "193970       OffersScreenAppear  2890852187923418999 2019-08-06 12:53:24   \n",
              "240447  PaymentScreenSuccessful  2890852187923418999 2019-08-07 18:40:51   \n",
              "240448         CartScreenAppear  2890852187923418999 2019-08-07 18:40:52   \n",
              "240453       OffersScreenAppear  2890852187923418999 2019-08-07 18:41:01   \n",
              "\n",
              "        expr_id event_date  \n",
              "151437      246 2019-08-05  \n",
              "151440      246 2019-08-05  \n",
              "151441      246 2019-08-05  \n",
              "192906      246 2019-08-06  \n",
              "192913      246 2019-08-06  \n",
              "192914      246 2019-08-06  \n",
              "193930      246 2019-08-06  \n",
              "193963      246 2019-08-06  \n",
              "193970      246 2019-08-06  \n",
              "240447      246 2019-08-07  \n",
              "240448      246 2019-08-07  \n",
              "240453      246 2019-08-07  "
            ],
            "text/html": [
              "\n",
              "  <div id=\"df-4e4308a4-91f9-45bc-aa86-f66c6a7b1e1e\">\n",
              "    <div class=\"colab-df-container\">\n",
              "      <div>\n",
              "<style scoped>\n",
              "    .dataframe tbody tr th:only-of-type {\n",
              "        vertical-align: middle;\n",
              "    }\n",
              "\n",
              "    .dataframe tbody tr th {\n",
              "        vertical-align: top;\n",
              "    }\n",
              "\n",
              "    .dataframe thead th {\n",
              "        text-align: right;\n",
              "    }\n",
              "</style>\n",
              "<table border=\"1\" class=\"dataframe\">\n",
              "  <thead>\n",
              "    <tr style=\"text-align: right;\">\n",
              "      <th></th>\n",
              "      <th>event_name</th>\n",
              "      <th>user_id</th>\n",
              "      <th>event_time</th>\n",
              "      <th>expr_id</th>\n",
              "      <th>event_date</th>\n",
              "    </tr>\n",
              "  </thead>\n",
              "  <tbody>\n",
              "    <tr>\n",
              "      <th>151437</th>\n",
              "      <td>PaymentScreenSuccessful</td>\n",
              "      <td>2890852187923418999</td>\n",
              "      <td>2019-08-05 10:07:19</td>\n",
              "      <td>246</td>\n",
              "      <td>2019-08-05</td>\n",
              "    </tr>\n",
              "    <tr>\n",
              "      <th>151440</th>\n",
              "      <td>CartScreenAppear</td>\n",
              "      <td>2890852187923418999</td>\n",
              "      <td>2019-08-05 10:07:20</td>\n",
              "      <td>246</td>\n",
              "      <td>2019-08-05</td>\n",
              "    </tr>\n",
              "    <tr>\n",
              "      <th>151441</th>\n",
              "      <td>OffersScreenAppear</td>\n",
              "      <td>2890852187923418999</td>\n",
              "      <td>2019-08-05 10:07:22</td>\n",
              "      <td>246</td>\n",
              "      <td>2019-08-05</td>\n",
              "    </tr>\n",
              "    <tr>\n",
              "      <th>192906</th>\n",
              "      <td>OffersScreenAppear</td>\n",
              "      <td>2890852187923418999</td>\n",
              "      <td>2019-08-06 12:17:28</td>\n",
              "      <td>246</td>\n",
              "      <td>2019-08-06</td>\n",
              "    </tr>\n",
              "    <tr>\n",
              "      <th>192913</th>\n",
              "      <td>CartScreenAppear</td>\n",
              "      <td>2890852187923418999</td>\n",
              "      <td>2019-08-06 12:17:37</td>\n",
              "      <td>246</td>\n",
              "      <td>2019-08-06</td>\n",
              "    </tr>\n",
              "    <tr>\n",
              "      <th>192914</th>\n",
              "      <td>PaymentScreenSuccessful</td>\n",
              "      <td>2890852187923418999</td>\n",
              "      <td>2019-08-06 12:17:37</td>\n",
              "      <td>246</td>\n",
              "      <td>2019-08-06</td>\n",
              "    </tr>\n",
              "    <tr>\n",
              "      <th>193930</th>\n",
              "      <td>OffersScreenAppear</td>\n",
              "      <td>2890852187923418999</td>\n",
              "      <td>2019-08-06 12:52:26</td>\n",
              "      <td>246</td>\n",
              "      <td>2019-08-06</td>\n",
              "    </tr>\n",
              "    <tr>\n",
              "      <th>193963</th>\n",
              "      <td>OffersScreenAppear</td>\n",
              "      <td>2890852187923418999</td>\n",
              "      <td>2019-08-06 12:53:09</td>\n",
              "      <td>246</td>\n",
              "      <td>2019-08-06</td>\n",
              "    </tr>\n",
              "    <tr>\n",
              "      <th>193970</th>\n",
              "      <td>OffersScreenAppear</td>\n",
              "      <td>2890852187923418999</td>\n",
              "      <td>2019-08-06 12:53:24</td>\n",
              "      <td>246</td>\n",
              "      <td>2019-08-06</td>\n",
              "    </tr>\n",
              "    <tr>\n",
              "      <th>240447</th>\n",
              "      <td>PaymentScreenSuccessful</td>\n",
              "      <td>2890852187923418999</td>\n",
              "      <td>2019-08-07 18:40:51</td>\n",
              "      <td>246</td>\n",
              "      <td>2019-08-07</td>\n",
              "    </tr>\n",
              "    <tr>\n",
              "      <th>240448</th>\n",
              "      <td>CartScreenAppear</td>\n",
              "      <td>2890852187923418999</td>\n",
              "      <td>2019-08-07 18:40:52</td>\n",
              "      <td>246</td>\n",
              "      <td>2019-08-07</td>\n",
              "    </tr>\n",
              "    <tr>\n",
              "      <th>240453</th>\n",
              "      <td>OffersScreenAppear</td>\n",
              "      <td>2890852187923418999</td>\n",
              "      <td>2019-08-07 18:41:01</td>\n",
              "      <td>246</td>\n",
              "      <td>2019-08-07</td>\n",
              "    </tr>\n",
              "  </tbody>\n",
              "</table>\n",
              "</div>\n",
              "      <button class=\"colab-df-convert\" onclick=\"convertToInteractive('df-4e4308a4-91f9-45bc-aa86-f66c6a7b1e1e')\"\n",
              "              title=\"Convert this dataframe to an interactive table.\"\n",
              "              style=\"display:none;\">\n",
              "        \n",
              "  <svg xmlns=\"http://www.w3.org/2000/svg\" height=\"24px\"viewBox=\"0 0 24 24\"\n",
              "       width=\"24px\">\n",
              "    <path d=\"M0 0h24v24H0V0z\" fill=\"none\"/>\n",
              "    <path d=\"M18.56 5.44l.94 2.06.94-2.06 2.06-.94-2.06-.94-.94-2.06-.94 2.06-2.06.94zm-11 1L8.5 8.5l.94-2.06 2.06-.94-2.06-.94L8.5 2.5l-.94 2.06-2.06.94zm10 10l.94 2.06.94-2.06 2.06-.94-2.06-.94-.94-2.06-.94 2.06-2.06.94z\"/><path d=\"M17.41 7.96l-1.37-1.37c-.4-.4-.92-.59-1.43-.59-.52 0-1.04.2-1.43.59L10.3 9.45l-7.72 7.72c-.78.78-.78 2.05 0 2.83L4 21.41c.39.39.9.59 1.41.59.51 0 1.02-.2 1.41-.59l7.78-7.78 2.81-2.81c.8-.78.8-2.07 0-2.86zM5.41 20L4 18.59l7.72-7.72 1.47 1.35L5.41 20z\"/>\n",
              "  </svg>\n",
              "      </button>\n",
              "      \n",
              "  <style>\n",
              "    .colab-df-container {\n",
              "      display:flex;\n",
              "      flex-wrap:wrap;\n",
              "      gap: 12px;\n",
              "    }\n",
              "\n",
              "    .colab-df-convert {\n",
              "      background-color: #E8F0FE;\n",
              "      border: none;\n",
              "      border-radius: 50%;\n",
              "      cursor: pointer;\n",
              "      display: none;\n",
              "      fill: #1967D2;\n",
              "      height: 32px;\n",
              "      padding: 0 0 0 0;\n",
              "      width: 32px;\n",
              "    }\n",
              "\n",
              "    .colab-df-convert:hover {\n",
              "      background-color: #E2EBFA;\n",
              "      box-shadow: 0px 1px 2px rgba(60, 64, 67, 0.3), 0px 1px 3px 1px rgba(60, 64, 67, 0.15);\n",
              "      fill: #174EA6;\n",
              "    }\n",
              "\n",
              "    [theme=dark] .colab-df-convert {\n",
              "      background-color: #3B4455;\n",
              "      fill: #D2E3FC;\n",
              "    }\n",
              "\n",
              "    [theme=dark] .colab-df-convert:hover {\n",
              "      background-color: #434B5C;\n",
              "      box-shadow: 0px 1px 3px 1px rgba(0, 0, 0, 0.15);\n",
              "      filter: drop-shadow(0px 1px 2px rgba(0, 0, 0, 0.3));\n",
              "      fill: #FFFFFF;\n",
              "    }\n",
              "  </style>\n",
              "\n",
              "      <script>\n",
              "        const buttonEl =\n",
              "          document.querySelector('#df-4e4308a4-91f9-45bc-aa86-f66c6a7b1e1e button.colab-df-convert');\n",
              "        buttonEl.style.display =\n",
              "          google.colab.kernel.accessAllowed ? 'block' : 'none';\n",
              "\n",
              "        async function convertToInteractive(key) {\n",
              "          const element = document.querySelector('#df-4e4308a4-91f9-45bc-aa86-f66c6a7b1e1e');\n",
              "          const dataTable =\n",
              "            await google.colab.kernel.invokeFunction('convertToInteractive',\n",
              "                                                     [key], {});\n",
              "          if (!dataTable) return;\n",
              "\n",
              "          const docLinkHtml = 'Like what you see? Visit the ' +\n",
              "            '<a target=\"_blank\" href=https://colab.research.google.com/notebooks/data_table.ipynb>data table notebook</a>'\n",
              "            + ' to learn more about interactive tables.';\n",
              "          element.innerHTML = '';\n",
              "          dataTable['output_type'] = 'display_data';\n",
              "          await google.colab.output.renderOutput(dataTable, element);\n",
              "          const docLink = document.createElement('div');\n",
              "          docLink.innerHTML = docLinkHtml;\n",
              "          element.appendChild(docLink);\n",
              "        }\n",
              "      </script>\n",
              "    </div>\n",
              "  </div>\n",
              "  "
            ]
          },
          "metadata": {},
          "execution_count": 96
        }
      ],
      "source": [
        "data_filt[data_filt['user_id']==2890852187923418999].head(50)"
      ]
    },
    {
      "cell_type": "markdown",
      "metadata": {
        "id": "o8BiuYcolB0u"
      },
      "source": [
        "Видим, что шаги воронки непоследовательны.  \n",
        "Посчитаем сколько таких пользователей и событий:"
      ]
    },
    {
      "cell_type": "code",
      "execution_count": 97,
      "metadata": {
        "scrolled": false,
        "colab": {
          "base_uri": "https://localhost:8080/"
        },
        "id": "EZqbQeotlB0u",
        "outputId": "6dabaf95-7c81-455b-96c7-6476cb864908"
      },
      "outputs": [
        {
          "output_type": "stream",
          "name": "stdout",
          "text": [
            "Доля пользователей без просмотра главного экрана: 1.53%\n",
            "Доля событий пользователей без просмотра главного экрана: 1.15%\n"
          ]
        }
      ],
      "source": [
        "print('Доля пользователей без просмотра главного экрана: {:.2f}%'.format(\n",
        "                            not_main_scr_users['user_id'].nunique()*100/data_filt['user_id'].nunique()))\n",
        "print('Доля событий пользователей без просмотра главного экрана: {:.2f}%'.format(len(not_main_scr_users)*100/len(data_filt)))\n"
      ]
    },
    {
      "cell_type": "markdown",
      "metadata": {
        "id": "abWvXsBjlB0u"
      },
      "source": [
        "Оставим эти данные"
      ]
    },
    {
      "cell_type": "markdown",
      "metadata": {
        "id": "TtntupAAlB0u"
      },
      "source": [
        "## Построение воронки событий"
      ]
    },
    {
      "cell_type": "markdown",
      "metadata": {
        "id": "MxfBZPUjlB0u"
      },
      "source": [
        "**Построим воронку событий:**  \n",
        "Пользователи заходят в приложение - `MainScreenAppear`  \n",
        "Выбирают товары - `OffersScreenAppear`  \n",
        "Переходят в корзину - `CartScreenAppear`  \n",
        "Оплачивают - `PaymentScreenSuccessful`  \n",
        "\n",
        "Среди событий есть `Tutorial`, вероятно, данное событие не является обязательным и пользователи могут совершать его по желанию   \n",
        "Судя по тому что его проходит лишь 11% пользователей, `Tutorial` не эффективен."
      ]
    },
    {
      "cell_type": "markdown",
      "metadata": {
        "id": "FSwlGE37lB0u"
      },
      "source": [
        "Построим воронку по шагам и посчитаем сколько пользователей проходит на следующий шаг воронки от предыдущего"
      ]
    },
    {
      "cell_type": "code",
      "execution_count": 98,
      "metadata": {
        "scrolled": true,
        "colab": {
          "base_uri": "https://localhost:8080/",
          "height": 206
        },
        "id": "IpAzcBY5lB0v",
        "outputId": "c6cffd84-769a-46f4-9e8d-f8a1bba0c49b"
      },
      "outputs": [
        {
          "output_type": "display_data",
          "data": {
            "text/plain": [
              "                         user_id_cnt  share_of_total_user,%  step_conversion,%\n",
              "event_name                                                                    \n",
              "MainScreenAppear                7344                  98.47             100.00\n",
              "OffersScreenAppear              4517                  60.57              61.51\n",
              "CartScreenAppear                3658                  49.05              80.98\n",
              "PaymentScreenSuccessful         3463                  46.43              94.67"
            ],
            "text/html": [
              "\n",
              "  <div id=\"df-5bdcf291-9f5e-4b0d-8739-c6ee3f617b9f\">\n",
              "    <div class=\"colab-df-container\">\n",
              "      <div>\n",
              "<style scoped>\n",
              "    .dataframe tbody tr th:only-of-type {\n",
              "        vertical-align: middle;\n",
              "    }\n",
              "\n",
              "    .dataframe tbody tr th {\n",
              "        vertical-align: top;\n",
              "    }\n",
              "\n",
              "    .dataframe thead th {\n",
              "        text-align: right;\n",
              "    }\n",
              "</style>\n",
              "<table border=\"1\" class=\"dataframe\">\n",
              "  <thead>\n",
              "    <tr style=\"text-align: right;\">\n",
              "      <th></th>\n",
              "      <th>user_id_cnt</th>\n",
              "      <th>share_of_total_user,%</th>\n",
              "      <th>step_conversion,%</th>\n",
              "    </tr>\n",
              "    <tr>\n",
              "      <th>event_name</th>\n",
              "      <th></th>\n",
              "      <th></th>\n",
              "      <th></th>\n",
              "    </tr>\n",
              "  </thead>\n",
              "  <tbody>\n",
              "    <tr>\n",
              "      <th>MainScreenAppear</th>\n",
              "      <td>7344</td>\n",
              "      <td>98.47</td>\n",
              "      <td>100.00</td>\n",
              "    </tr>\n",
              "    <tr>\n",
              "      <th>OffersScreenAppear</th>\n",
              "      <td>4517</td>\n",
              "      <td>60.57</td>\n",
              "      <td>61.51</td>\n",
              "    </tr>\n",
              "    <tr>\n",
              "      <th>CartScreenAppear</th>\n",
              "      <td>3658</td>\n",
              "      <td>49.05</td>\n",
              "      <td>80.98</td>\n",
              "    </tr>\n",
              "    <tr>\n",
              "      <th>PaymentScreenSuccessful</th>\n",
              "      <td>3463</td>\n",
              "      <td>46.43</td>\n",
              "      <td>94.67</td>\n",
              "    </tr>\n",
              "  </tbody>\n",
              "</table>\n",
              "</div>\n",
              "      <button class=\"colab-df-convert\" onclick=\"convertToInteractive('df-5bdcf291-9f5e-4b0d-8739-c6ee3f617b9f')\"\n",
              "              title=\"Convert this dataframe to an interactive table.\"\n",
              "              style=\"display:none;\">\n",
              "        \n",
              "  <svg xmlns=\"http://www.w3.org/2000/svg\" height=\"24px\"viewBox=\"0 0 24 24\"\n",
              "       width=\"24px\">\n",
              "    <path d=\"M0 0h24v24H0V0z\" fill=\"none\"/>\n",
              "    <path d=\"M18.56 5.44l.94 2.06.94-2.06 2.06-.94-2.06-.94-.94-2.06-.94 2.06-2.06.94zm-11 1L8.5 8.5l.94-2.06 2.06-.94-2.06-.94L8.5 2.5l-.94 2.06-2.06.94zm10 10l.94 2.06.94-2.06 2.06-.94-2.06-.94-.94-2.06-.94 2.06-2.06.94z\"/><path d=\"M17.41 7.96l-1.37-1.37c-.4-.4-.92-.59-1.43-.59-.52 0-1.04.2-1.43.59L10.3 9.45l-7.72 7.72c-.78.78-.78 2.05 0 2.83L4 21.41c.39.39.9.59 1.41.59.51 0 1.02-.2 1.41-.59l7.78-7.78 2.81-2.81c.8-.78.8-2.07 0-2.86zM5.41 20L4 18.59l7.72-7.72 1.47 1.35L5.41 20z\"/>\n",
              "  </svg>\n",
              "      </button>\n",
              "      \n",
              "  <style>\n",
              "    .colab-df-container {\n",
              "      display:flex;\n",
              "      flex-wrap:wrap;\n",
              "      gap: 12px;\n",
              "    }\n",
              "\n",
              "    .colab-df-convert {\n",
              "      background-color: #E8F0FE;\n",
              "      border: none;\n",
              "      border-radius: 50%;\n",
              "      cursor: pointer;\n",
              "      display: none;\n",
              "      fill: #1967D2;\n",
              "      height: 32px;\n",
              "      padding: 0 0 0 0;\n",
              "      width: 32px;\n",
              "    }\n",
              "\n",
              "    .colab-df-convert:hover {\n",
              "      background-color: #E2EBFA;\n",
              "      box-shadow: 0px 1px 2px rgba(60, 64, 67, 0.3), 0px 1px 3px 1px rgba(60, 64, 67, 0.15);\n",
              "      fill: #174EA6;\n",
              "    }\n",
              "\n",
              "    [theme=dark] .colab-df-convert {\n",
              "      background-color: #3B4455;\n",
              "      fill: #D2E3FC;\n",
              "    }\n",
              "\n",
              "    [theme=dark] .colab-df-convert:hover {\n",
              "      background-color: #434B5C;\n",
              "      box-shadow: 0px 1px 3px 1px rgba(0, 0, 0, 0.15);\n",
              "      filter: drop-shadow(0px 1px 2px rgba(0, 0, 0, 0.3));\n",
              "      fill: #FFFFFF;\n",
              "    }\n",
              "  </style>\n",
              "\n",
              "      <script>\n",
              "        const buttonEl =\n",
              "          document.querySelector('#df-5bdcf291-9f5e-4b0d-8739-c6ee3f617b9f button.colab-df-convert');\n",
              "        buttonEl.style.display =\n",
              "          google.colab.kernel.accessAllowed ? 'block' : 'none';\n",
              "\n",
              "        async function convertToInteractive(key) {\n",
              "          const element = document.querySelector('#df-5bdcf291-9f5e-4b0d-8739-c6ee3f617b9f');\n",
              "          const dataTable =\n",
              "            await google.colab.kernel.invokeFunction('convertToInteractive',\n",
              "                                                     [key], {});\n",
              "          if (!dataTable) return;\n",
              "\n",
              "          const docLinkHtml = 'Like what you see? Visit the ' +\n",
              "            '<a target=\"_blank\" href=https://colab.research.google.com/notebooks/data_table.ipynb>data table notebook</a>'\n",
              "            + ' to learn more about interactive tables.';\n",
              "          element.innerHTML = '';\n",
              "          dataTable['output_type'] = 'display_data';\n",
              "          await google.colab.output.renderOutput(dataTable, element);\n",
              "          const docLink = document.createElement('div');\n",
              "          docLink.innerHTML = docLinkHtml;\n",
              "          element.appendChild(docLink);\n",
              "        }\n",
              "      </script>\n",
              "    </div>\n",
              "  </div>\n",
              "  "
            ]
          },
          "metadata": {}
        }
      ],
      "source": [
        "funnel = data_filt[data_filt['event_name']!='Tutorial'].groupby('event_name').agg({\n",
        "                'user_id':'nunique'}).sort_values(by='user_id',ascending=False)\n",
        "funnel.columns = ['user_id_cnt']\n",
        "funnel['share_of_total_user,%'] = funnel['user_id_cnt'] *100/data_filt['user_id'].nunique()\n",
        "funnel['step_conversion,%'] = (funnel['user_id_cnt'].pct_change().fillna(0)+1)*100\n",
        "display(funnel)"
      ]
    },
    {
      "cell_type": "markdown",
      "metadata": {
        "scrolled": false,
        "id": "LxhcnXbElB0v"
      },
      "source": [
        "Визуализируем воронку"
      ]
    },
    {
      "cell_type": "code",
      "execution_count": 99,
      "metadata": {
        "colab": {
          "base_uri": "https://localhost:8080/",
          "height": 542
        },
        "id": "2ReuoCutlB0v",
        "outputId": "29a6138f-25d5-4348-88ef-a7f1764f1229"
      },
      "outputs": [
        {
          "output_type": "display_data",
          "data": {
            "text/html": [
              "<html>\n",
              "<head><meta charset=\"utf-8\" /></head>\n",
              "<body>\n",
              "    <div>            <script src=\"https://cdnjs.cloudflare.com/ajax/libs/mathjax/2.7.5/MathJax.js?config=TeX-AMS-MML_SVG\"></script><script type=\"text/javascript\">if (window.MathJax) {MathJax.Hub.Config({SVG: {font: \"STIX-Web\"}});}</script>                <script type=\"text/javascript\">window.PlotlyConfig = {MathJaxConfig: 'local'};</script>\n",
              "        <script src=\"https://cdn.plot.ly/plotly-2.8.3.min.js\"></script>                <div id=\"fadef726-3547-4c4f-83d4-d26bd02e01c7\" class=\"plotly-graph-div\" style=\"height:525px; width:100%;\"></div>            <script type=\"text/javascript\">                                    window.PLOTLYENV=window.PLOTLYENV || {};                                    if (document.getElementById(\"fadef726-3547-4c4f-83d4-d26bd02e01c7\")) {                    Plotly.newPlot(                        \"fadef726-3547-4c4f-83d4-d26bd02e01c7\",                        [{\"x\":[7344,4517,3658,3463],\"y\":[\"MainScreenAppear\",\"OffersScreenAppear\",\"CartScreenAppear\",\"PaymentScreenSuccessful\"],\"type\":\"funnel\"}],                        {\"template\":{\"data\":{\"bar\":[{\"error_x\":{\"color\":\"#2a3f5f\"},\"error_y\":{\"color\":\"#2a3f5f\"},\"marker\":{\"line\":{\"color\":\"#E5ECF6\",\"width\":0.5},\"pattern\":{\"fillmode\":\"overlay\",\"size\":10,\"solidity\":0.2}},\"type\":\"bar\"}],\"barpolar\":[{\"marker\":{\"line\":{\"color\":\"#E5ECF6\",\"width\":0.5},\"pattern\":{\"fillmode\":\"overlay\",\"size\":10,\"solidity\":0.2}},\"type\":\"barpolar\"}],\"carpet\":[{\"aaxis\":{\"endlinecolor\":\"#2a3f5f\",\"gridcolor\":\"white\",\"linecolor\":\"white\",\"minorgridcolor\":\"white\",\"startlinecolor\":\"#2a3f5f\"},\"baxis\":{\"endlinecolor\":\"#2a3f5f\",\"gridcolor\":\"white\",\"linecolor\":\"white\",\"minorgridcolor\":\"white\",\"startlinecolor\":\"#2a3f5f\"},\"type\":\"carpet\"}],\"choropleth\":[{\"colorbar\":{\"outlinewidth\":0,\"ticks\":\"\"},\"type\":\"choropleth\"}],\"contour\":[{\"colorbar\":{\"outlinewidth\":0,\"ticks\":\"\"},\"colorscale\":[[0.0,\"#0d0887\"],[0.1111111111111111,\"#46039f\"],[0.2222222222222222,\"#7201a8\"],[0.3333333333333333,\"#9c179e\"],[0.4444444444444444,\"#bd3786\"],[0.5555555555555556,\"#d8576b\"],[0.6666666666666666,\"#ed7953\"],[0.7777777777777778,\"#fb9f3a\"],[0.8888888888888888,\"#fdca26\"],[1.0,\"#f0f921\"]],\"type\":\"contour\"}],\"contourcarpet\":[{\"colorbar\":{\"outlinewidth\":0,\"ticks\":\"\"},\"type\":\"contourcarpet\"}],\"heatmap\":[{\"colorbar\":{\"outlinewidth\":0,\"ticks\":\"\"},\"colorscale\":[[0.0,\"#0d0887\"],[0.1111111111111111,\"#46039f\"],[0.2222222222222222,\"#7201a8\"],[0.3333333333333333,\"#9c179e\"],[0.4444444444444444,\"#bd3786\"],[0.5555555555555556,\"#d8576b\"],[0.6666666666666666,\"#ed7953\"],[0.7777777777777778,\"#fb9f3a\"],[0.8888888888888888,\"#fdca26\"],[1.0,\"#f0f921\"]],\"type\":\"heatmap\"}],\"heatmapgl\":[{\"colorbar\":{\"outlinewidth\":0,\"ticks\":\"\"},\"colorscale\":[[0.0,\"#0d0887\"],[0.1111111111111111,\"#46039f\"],[0.2222222222222222,\"#7201a8\"],[0.3333333333333333,\"#9c179e\"],[0.4444444444444444,\"#bd3786\"],[0.5555555555555556,\"#d8576b\"],[0.6666666666666666,\"#ed7953\"],[0.7777777777777778,\"#fb9f3a\"],[0.8888888888888888,\"#fdca26\"],[1.0,\"#f0f921\"]],\"type\":\"heatmapgl\"}],\"histogram\":[{\"marker\":{\"pattern\":{\"fillmode\":\"overlay\",\"size\":10,\"solidity\":0.2}},\"type\":\"histogram\"}],\"histogram2d\":[{\"colorbar\":{\"outlinewidth\":0,\"ticks\":\"\"},\"colorscale\":[[0.0,\"#0d0887\"],[0.1111111111111111,\"#46039f\"],[0.2222222222222222,\"#7201a8\"],[0.3333333333333333,\"#9c179e\"],[0.4444444444444444,\"#bd3786\"],[0.5555555555555556,\"#d8576b\"],[0.6666666666666666,\"#ed7953\"],[0.7777777777777778,\"#fb9f3a\"],[0.8888888888888888,\"#fdca26\"],[1.0,\"#f0f921\"]],\"type\":\"histogram2d\"}],\"histogram2dcontour\":[{\"colorbar\":{\"outlinewidth\":0,\"ticks\":\"\"},\"colorscale\":[[0.0,\"#0d0887\"],[0.1111111111111111,\"#46039f\"],[0.2222222222222222,\"#7201a8\"],[0.3333333333333333,\"#9c179e\"],[0.4444444444444444,\"#bd3786\"],[0.5555555555555556,\"#d8576b\"],[0.6666666666666666,\"#ed7953\"],[0.7777777777777778,\"#fb9f3a\"],[0.8888888888888888,\"#fdca26\"],[1.0,\"#f0f921\"]],\"type\":\"histogram2dcontour\"}],\"mesh3d\":[{\"colorbar\":{\"outlinewidth\":0,\"ticks\":\"\"},\"type\":\"mesh3d\"}],\"parcoords\":[{\"line\":{\"colorbar\":{\"outlinewidth\":0,\"ticks\":\"\"}},\"type\":\"parcoords\"}],\"pie\":[{\"automargin\":true,\"type\":\"pie\"}],\"scatter\":[{\"marker\":{\"colorbar\":{\"outlinewidth\":0,\"ticks\":\"\"}},\"type\":\"scatter\"}],\"scatter3d\":[{\"line\":{\"colorbar\":{\"outlinewidth\":0,\"ticks\":\"\"}},\"marker\":{\"colorbar\":{\"outlinewidth\":0,\"ticks\":\"\"}},\"type\":\"scatter3d\"}],\"scattercarpet\":[{\"marker\":{\"colorbar\":{\"outlinewidth\":0,\"ticks\":\"\"}},\"type\":\"scattercarpet\"}],\"scattergeo\":[{\"marker\":{\"colorbar\":{\"outlinewidth\":0,\"ticks\":\"\"}},\"type\":\"scattergeo\"}],\"scattergl\":[{\"marker\":{\"colorbar\":{\"outlinewidth\":0,\"ticks\":\"\"}},\"type\":\"scattergl\"}],\"scattermapbox\":[{\"marker\":{\"colorbar\":{\"outlinewidth\":0,\"ticks\":\"\"}},\"type\":\"scattermapbox\"}],\"scatterpolar\":[{\"marker\":{\"colorbar\":{\"outlinewidth\":0,\"ticks\":\"\"}},\"type\":\"scatterpolar\"}],\"scatterpolargl\":[{\"marker\":{\"colorbar\":{\"outlinewidth\":0,\"ticks\":\"\"}},\"type\":\"scatterpolargl\"}],\"scatterternary\":[{\"marker\":{\"colorbar\":{\"outlinewidth\":0,\"ticks\":\"\"}},\"type\":\"scatterternary\"}],\"surface\":[{\"colorbar\":{\"outlinewidth\":0,\"ticks\":\"\"},\"colorscale\":[[0.0,\"#0d0887\"],[0.1111111111111111,\"#46039f\"],[0.2222222222222222,\"#7201a8\"],[0.3333333333333333,\"#9c179e\"],[0.4444444444444444,\"#bd3786\"],[0.5555555555555556,\"#d8576b\"],[0.6666666666666666,\"#ed7953\"],[0.7777777777777778,\"#fb9f3a\"],[0.8888888888888888,\"#fdca26\"],[1.0,\"#f0f921\"]],\"type\":\"surface\"}],\"table\":[{\"cells\":{\"fill\":{\"color\":\"#EBF0F8\"},\"line\":{\"color\":\"white\"}},\"header\":{\"fill\":{\"color\":\"#C8D4E3\"},\"line\":{\"color\":\"white\"}},\"type\":\"table\"}]},\"layout\":{\"annotationdefaults\":{\"arrowcolor\":\"#2a3f5f\",\"arrowhead\":0,\"arrowwidth\":1},\"autotypenumbers\":\"strict\",\"coloraxis\":{\"colorbar\":{\"outlinewidth\":0,\"ticks\":\"\"}},\"colorscale\":{\"diverging\":[[0,\"#8e0152\"],[0.1,\"#c51b7d\"],[0.2,\"#de77ae\"],[0.3,\"#f1b6da\"],[0.4,\"#fde0ef\"],[0.5,\"#f7f7f7\"],[0.6,\"#e6f5d0\"],[0.7,\"#b8e186\"],[0.8,\"#7fbc41\"],[0.9,\"#4d9221\"],[1,\"#276419\"]],\"sequential\":[[0.0,\"#0d0887\"],[0.1111111111111111,\"#46039f\"],[0.2222222222222222,\"#7201a8\"],[0.3333333333333333,\"#9c179e\"],[0.4444444444444444,\"#bd3786\"],[0.5555555555555556,\"#d8576b\"],[0.6666666666666666,\"#ed7953\"],[0.7777777777777778,\"#fb9f3a\"],[0.8888888888888888,\"#fdca26\"],[1.0,\"#f0f921\"]],\"sequentialminus\":[[0.0,\"#0d0887\"],[0.1111111111111111,\"#46039f\"],[0.2222222222222222,\"#7201a8\"],[0.3333333333333333,\"#9c179e\"],[0.4444444444444444,\"#bd3786\"],[0.5555555555555556,\"#d8576b\"],[0.6666666666666666,\"#ed7953\"],[0.7777777777777778,\"#fb9f3a\"],[0.8888888888888888,\"#fdca26\"],[1.0,\"#f0f921\"]]},\"colorway\":[\"#636efa\",\"#EF553B\",\"#00cc96\",\"#ab63fa\",\"#FFA15A\",\"#19d3f3\",\"#FF6692\",\"#B6E880\",\"#FF97FF\",\"#FECB52\"],\"font\":{\"color\":\"#2a3f5f\"},\"geo\":{\"bgcolor\":\"white\",\"lakecolor\":\"white\",\"landcolor\":\"#E5ECF6\",\"showlakes\":true,\"showland\":true,\"subunitcolor\":\"white\"},\"hoverlabel\":{\"align\":\"left\"},\"hovermode\":\"closest\",\"mapbox\":{\"style\":\"light\"},\"paper_bgcolor\":\"white\",\"plot_bgcolor\":\"#E5ECF6\",\"polar\":{\"angularaxis\":{\"gridcolor\":\"white\",\"linecolor\":\"white\",\"ticks\":\"\"},\"bgcolor\":\"#E5ECF6\",\"radialaxis\":{\"gridcolor\":\"white\",\"linecolor\":\"white\",\"ticks\":\"\"}},\"scene\":{\"xaxis\":{\"backgroundcolor\":\"#E5ECF6\",\"gridcolor\":\"white\",\"gridwidth\":2,\"linecolor\":\"white\",\"showbackground\":true,\"ticks\":\"\",\"zerolinecolor\":\"white\"},\"yaxis\":{\"backgroundcolor\":\"#E5ECF6\",\"gridcolor\":\"white\",\"gridwidth\":2,\"linecolor\":\"white\",\"showbackground\":true,\"ticks\":\"\",\"zerolinecolor\":\"white\"},\"zaxis\":{\"backgroundcolor\":\"#E5ECF6\",\"gridcolor\":\"white\",\"gridwidth\":2,\"linecolor\":\"white\",\"showbackground\":true,\"ticks\":\"\",\"zerolinecolor\":\"white\"}},\"shapedefaults\":{\"line\":{\"color\":\"#2a3f5f\"}},\"ternary\":{\"aaxis\":{\"gridcolor\":\"white\",\"linecolor\":\"white\",\"ticks\":\"\"},\"baxis\":{\"gridcolor\":\"white\",\"linecolor\":\"white\",\"ticks\":\"\"},\"bgcolor\":\"#E5ECF6\",\"caxis\":{\"gridcolor\":\"white\",\"linecolor\":\"white\",\"ticks\":\"\"}},\"title\":{\"x\":0.05},\"xaxis\":{\"automargin\":true,\"gridcolor\":\"white\",\"linecolor\":\"white\",\"ticks\":\"\",\"title\":{\"standoff\":15},\"zerolinecolor\":\"white\",\"zerolinewidth\":2},\"yaxis\":{\"automargin\":true,\"gridcolor\":\"white\",\"linecolor\":\"white\",\"ticks\":\"\",\"title\":{\"standoff\":15},\"zerolinecolor\":\"white\",\"zerolinewidth\":2}}},\"title\":{\"text\":\"\\u0412\\u043e\\u0440\\u043e\\u043d\\u043a\\u0430 \\u0441\\u043e\\u0431\\u044b\\u0442\\u0438\\u0439\"}},                        {\"responsive\": true}                    ).then(function(){\n",
              "                            \n",
              "var gd = document.getElementById('fadef726-3547-4c4f-83d4-d26bd02e01c7');\n",
              "var x = new MutationObserver(function (mutations, observer) {{\n",
              "        var display = window.getComputedStyle(gd).display;\n",
              "        if (!display || display === 'none') {{\n",
              "            console.log([gd, 'removed!']);\n",
              "            Plotly.purge(gd);\n",
              "            observer.disconnect();\n",
              "        }}\n",
              "}});\n",
              "\n",
              "// Listen for the removal of the full notebook cells\n",
              "var notebookContainer = gd.closest('#notebook-container');\n",
              "if (notebookContainer) {{\n",
              "    x.observe(notebookContainer, {childList: true});\n",
              "}}\n",
              "\n",
              "// Listen for the clearing of the current output cell\n",
              "var outputEl = gd.closest('.output');\n",
              "if (outputEl) {{\n",
              "    x.observe(outputEl, {childList: true});\n",
              "}}\n",
              "\n",
              "                        })                };                            </script>        </div>\n",
              "</body>\n",
              "</html>"
            ]
          },
          "metadata": {}
        }
      ],
      "source": [
        "# строим график\n",
        "fig = go.Figure(go.Funnel(\n",
        "    y = list(funnel.index.values),\n",
        "    x = funnel['user_id_cnt'].tolist()))\n",
        "fig.update_layout(title=\"Воронка событий\")\n",
        "fig.show()"
      ]
    },
    {
      "cell_type": "markdown",
      "metadata": {
        "id": "kGbZhaCKlB0w"
      },
      "source": [
        "Больше всего пользователей ~ 40% - теряется на этапе перехода на страницу с предложениями `OffersScreenAppear`  \n",
        "Возможно, этот механизм перехода непонятен или неудобен.  \n",
        "80% тех кто перешел на страницу выбора, переходит в корзину.  \t\n",
        "До оплаты доходит 46% пользователей от всех,что зашли в приложение"
      ]
    },
    {
      "cell_type": "markdown",
      "metadata": {
        "id": "r5qud7j5lB0w"
      },
      "source": [
        "## Анализ результатов A/B теста"
      ]
    },
    {
      "cell_type": "markdown",
      "metadata": {
        "id": "qcNfSDwklB0w"
      },
      "source": [
        "Проанализируем результаты A/B теста по изменению дизайна шрифтов  \n",
        "Для теста мы разделили пользователей на  три группы  - две контрольных **246 и 247 - со старыми шрифтами** и одну тестовую **248 - с новыми**.  \n",
        "\n",
        "Анализировать будем показатели доли пользователей каждого этапа приложения от общего количества пользователей \n",
        "Сначала сравним контрольные группы между собой, затем тестовую с каждой контрольной по отдельности и объединенной контрольной"
      ]
    },
    {
      "cell_type": "markdown",
      "metadata": {
        "id": "a1Li0B_YlB0w"
      },
      "source": [
        "Посмотрим как отличаются доли пользователей между группами"
      ]
    },
    {
      "cell_type": "code",
      "execution_count": 100,
      "metadata": {
        "scrolled": false,
        "colab": {
          "base_uri": "https://localhost:8080/",
          "height": 206
        },
        "id": "sgWWh9uulB0w",
        "outputId": "bac6f8d2-dcab-4a56-dd04-01be923c2d81"
      },
      "outputs": [
        {
          "output_type": "display_data",
          "data": {
            "text/plain": [
              "expr_id                   246   247   248  control  share_of_total_246,%  \\\n",
              "event_name                                                                 \n",
              "MainScreenAppear         2423  2454  2467     4877                 98.66   \n",
              "OffersScreenAppear       1514  1498  1505     3012                 61.64   \n",
              "CartScreenAppear         1238  1216  1204     2454                 50.41   \n",
              "PaymentScreenSuccessful  1172  1136  1155     2308                 47.72   \n",
              "\n",
              "expr_id                  share_of_total_247,%  share_of_total_248,%  \\\n",
              "event_name                                                            \n",
              "MainScreenAppear                        98.51                 98.25   \n",
              "OffersScreenAppear                      60.14                 59.94   \n",
              "CartScreenAppear                        48.82                 47.95   \n",
              "PaymentScreenSuccessful                 45.60                 46.00   \n",
              "\n",
              "expr_id                  share_of_total_control,%  \n",
              "event_name                                         \n",
              "MainScreenAppear                            98.59  \n",
              "OffersScreenAppear                          60.89  \n",
              "CartScreenAppear                            49.61  \n",
              "PaymentScreenSuccessful                     46.65  "
            ],
            "text/html": [
              "\n",
              "  <div id=\"df-5eddfb21-dfc9-4db4-a893-95522073d785\">\n",
              "    <div class=\"colab-df-container\">\n",
              "      <div>\n",
              "<style scoped>\n",
              "    .dataframe tbody tr th:only-of-type {\n",
              "        vertical-align: middle;\n",
              "    }\n",
              "\n",
              "    .dataframe tbody tr th {\n",
              "        vertical-align: top;\n",
              "    }\n",
              "\n",
              "    .dataframe thead th {\n",
              "        text-align: right;\n",
              "    }\n",
              "</style>\n",
              "<table border=\"1\" class=\"dataframe\">\n",
              "  <thead>\n",
              "    <tr style=\"text-align: right;\">\n",
              "      <th>expr_id</th>\n",
              "      <th>246</th>\n",
              "      <th>247</th>\n",
              "      <th>248</th>\n",
              "      <th>control</th>\n",
              "      <th>share_of_total_246,%</th>\n",
              "      <th>share_of_total_247,%</th>\n",
              "      <th>share_of_total_248,%</th>\n",
              "      <th>share_of_total_control,%</th>\n",
              "    </tr>\n",
              "    <tr>\n",
              "      <th>event_name</th>\n",
              "      <th></th>\n",
              "      <th></th>\n",
              "      <th></th>\n",
              "      <th></th>\n",
              "      <th></th>\n",
              "      <th></th>\n",
              "      <th></th>\n",
              "      <th></th>\n",
              "    </tr>\n",
              "  </thead>\n",
              "  <tbody>\n",
              "    <tr>\n",
              "      <th>MainScreenAppear</th>\n",
              "      <td>2423</td>\n",
              "      <td>2454</td>\n",
              "      <td>2467</td>\n",
              "      <td>4877</td>\n",
              "      <td>98.66</td>\n",
              "      <td>98.51</td>\n",
              "      <td>98.25</td>\n",
              "      <td>98.59</td>\n",
              "    </tr>\n",
              "    <tr>\n",
              "      <th>OffersScreenAppear</th>\n",
              "      <td>1514</td>\n",
              "      <td>1498</td>\n",
              "      <td>1505</td>\n",
              "      <td>3012</td>\n",
              "      <td>61.64</td>\n",
              "      <td>60.14</td>\n",
              "      <td>59.94</td>\n",
              "      <td>60.89</td>\n",
              "    </tr>\n",
              "    <tr>\n",
              "      <th>CartScreenAppear</th>\n",
              "      <td>1238</td>\n",
              "      <td>1216</td>\n",
              "      <td>1204</td>\n",
              "      <td>2454</td>\n",
              "      <td>50.41</td>\n",
              "      <td>48.82</td>\n",
              "      <td>47.95</td>\n",
              "      <td>49.61</td>\n",
              "    </tr>\n",
              "    <tr>\n",
              "      <th>PaymentScreenSuccessful</th>\n",
              "      <td>1172</td>\n",
              "      <td>1136</td>\n",
              "      <td>1155</td>\n",
              "      <td>2308</td>\n",
              "      <td>47.72</td>\n",
              "      <td>45.60</td>\n",
              "      <td>46.00</td>\n",
              "      <td>46.65</td>\n",
              "    </tr>\n",
              "  </tbody>\n",
              "</table>\n",
              "</div>\n",
              "      <button class=\"colab-df-convert\" onclick=\"convertToInteractive('df-5eddfb21-dfc9-4db4-a893-95522073d785')\"\n",
              "              title=\"Convert this dataframe to an interactive table.\"\n",
              "              style=\"display:none;\">\n",
              "        \n",
              "  <svg xmlns=\"http://www.w3.org/2000/svg\" height=\"24px\"viewBox=\"0 0 24 24\"\n",
              "       width=\"24px\">\n",
              "    <path d=\"M0 0h24v24H0V0z\" fill=\"none\"/>\n",
              "    <path d=\"M18.56 5.44l.94 2.06.94-2.06 2.06-.94-2.06-.94-.94-2.06-.94 2.06-2.06.94zm-11 1L8.5 8.5l.94-2.06 2.06-.94-2.06-.94L8.5 2.5l-.94 2.06-2.06.94zm10 10l.94 2.06.94-2.06 2.06-.94-2.06-.94-.94-2.06-.94 2.06-2.06.94z\"/><path d=\"M17.41 7.96l-1.37-1.37c-.4-.4-.92-.59-1.43-.59-.52 0-1.04.2-1.43.59L10.3 9.45l-7.72 7.72c-.78.78-.78 2.05 0 2.83L4 21.41c.39.39.9.59 1.41.59.51 0 1.02-.2 1.41-.59l7.78-7.78 2.81-2.81c.8-.78.8-2.07 0-2.86zM5.41 20L4 18.59l7.72-7.72 1.47 1.35L5.41 20z\"/>\n",
              "  </svg>\n",
              "      </button>\n",
              "      \n",
              "  <style>\n",
              "    .colab-df-container {\n",
              "      display:flex;\n",
              "      flex-wrap:wrap;\n",
              "      gap: 12px;\n",
              "    }\n",
              "\n",
              "    .colab-df-convert {\n",
              "      background-color: #E8F0FE;\n",
              "      border: none;\n",
              "      border-radius: 50%;\n",
              "      cursor: pointer;\n",
              "      display: none;\n",
              "      fill: #1967D2;\n",
              "      height: 32px;\n",
              "      padding: 0 0 0 0;\n",
              "      width: 32px;\n",
              "    }\n",
              "\n",
              "    .colab-df-convert:hover {\n",
              "      background-color: #E2EBFA;\n",
              "      box-shadow: 0px 1px 2px rgba(60, 64, 67, 0.3), 0px 1px 3px 1px rgba(60, 64, 67, 0.15);\n",
              "      fill: #174EA6;\n",
              "    }\n",
              "\n",
              "    [theme=dark] .colab-df-convert {\n",
              "      background-color: #3B4455;\n",
              "      fill: #D2E3FC;\n",
              "    }\n",
              "\n",
              "    [theme=dark] .colab-df-convert:hover {\n",
              "      background-color: #434B5C;\n",
              "      box-shadow: 0px 1px 3px 1px rgba(0, 0, 0, 0.15);\n",
              "      filter: drop-shadow(0px 1px 2px rgba(0, 0, 0, 0.3));\n",
              "      fill: #FFFFFF;\n",
              "    }\n",
              "  </style>\n",
              "\n",
              "      <script>\n",
              "        const buttonEl =\n",
              "          document.querySelector('#df-5eddfb21-dfc9-4db4-a893-95522073d785 button.colab-df-convert');\n",
              "        buttonEl.style.display =\n",
              "          google.colab.kernel.accessAllowed ? 'block' : 'none';\n",
              "\n",
              "        async function convertToInteractive(key) {\n",
              "          const element = document.querySelector('#df-5eddfb21-dfc9-4db4-a893-95522073d785');\n",
              "          const dataTable =\n",
              "            await google.colab.kernel.invokeFunction('convertToInteractive',\n",
              "                                                     [key], {});\n",
              "          if (!dataTable) return;\n",
              "\n",
              "          const docLinkHtml = 'Like what you see? Visit the ' +\n",
              "            '<a target=\"_blank\" href=https://colab.research.google.com/notebooks/data_table.ipynb>data table notebook</a>'\n",
              "            + ' to learn more about interactive tables.';\n",
              "          element.innerHTML = '';\n",
              "          dataTable['output_type'] = 'display_data';\n",
              "          await google.colab.output.renderOutput(dataTable, element);\n",
              "          const docLink = document.createElement('div');\n",
              "          docLink.innerHTML = docLinkHtml;\n",
              "          element.appendChild(docLink);\n",
              "        }\n",
              "      </script>\n",
              "    </div>\n",
              "  </div>\n",
              "  "
            ]
          },
          "metadata": {}
        }
      ],
      "source": [
        "# посчитаем количество уникальных пользователей по группам и событиям воронки\n",
        "data_pivot = data_filt.query('event_name !=\"Tutorial\"').pivot_table(\n",
        "    index='event_name', columns='expr_id',values='user_id',aggfunc='nunique').sort_values(by=246,ascending=False)\n",
        "data_pivot['control'] = data_pivot[246]+data_pivot[247]\n",
        "data_pivot['share_of_total_246,%'] = data_pivot[246]*100/data_filt[data_filt['expr_id']==246]['user_id'].nunique()\n",
        "data_pivot['share_of_total_247,%'] = data_pivot[247]*100/data_filt[data_filt['expr_id']==247]['user_id'].nunique()\n",
        "data_pivot['share_of_total_248,%'] = data_pivot[248]*100/data_filt[data_filt['expr_id']==248]['user_id'].nunique()\n",
        "data_pivot['share_of_total_control,%'] = data_pivot['control']*100/(\n",
        "        data_filt[data_filt['expr_id']==246]['user_id'].nunique()+data_filt[data_filt['expr_id']==247]['user_id'].nunique())\n",
        "display(data_pivot)\n"
      ]
    },
    {
      "cell_type": "markdown",
      "metadata": {
        "id": "LlNaLeWflB0x"
      },
      "source": [
        "Показатели тестовой группы немного хуже, чем контрольных  \n",
        "Посмотрим? является ли эта разница статистически значимой"
      ]
    },
    {
      "cell_type": "markdown",
      "metadata": {
        "id": "CYFMdYE6lB0x"
      },
      "source": [
        "Подготовим данные"
      ]
    },
    {
      "cell_type": "code",
      "execution_count": 101,
      "metadata": {
        "id": "sBmSAljGlB0x"
      },
      "outputs": [],
      "source": [
        "# переведем значения каждого этапа в массивы \n",
        "MainScreen = data_pivot.iloc[0,0:4].to_numpy()\n",
        "OffersScreen = data_pivot.iloc[1,0:4].to_numpy()\n",
        "CartScreen = data_pivot.iloc[2,0:4].to_numpy()\n",
        "PaymentScreen = data_pivot.iloc[3,0:4].to_numpy()\n",
        "\n"
      ]
    },
    {
      "cell_type": "code",
      "execution_count": 102,
      "metadata": {
        "id": "GB62FRf8lB0x"
      },
      "outputs": [],
      "source": [
        "# общее количество уникальных пользователей\n",
        "groups = data_filt.groupby('expr_id').agg({'user_id' : 'nunique'})\n",
        "# посчитаем объединенную группу\n",
        "groups.loc['control'] = groups.loc[246, 'user_id'] + groups.loc[247, 'user_id']\n",
        "total = groups['user_id'].to_numpy()"
      ]
    },
    {
      "cell_type": "code",
      "execution_count": 103,
      "metadata": {
        "colab": {
          "base_uri": "https://localhost:8080/",
          "height": 175
        },
        "id": "3WcLioJzlB0x",
        "outputId": "a1e06b8e-0be8-4f02-ca58-6142595752d2"
      },
      "outputs": [
        {
          "output_type": "execute_result",
          "data": {
            "text/plain": [
              "         user_id\n",
              "expr_id         \n",
              "246         2456\n",
              "247         2491\n",
              "248         2511"
            ],
            "text/html": [
              "\n",
              "  <div id=\"df-2528e7ab-c97b-4fa8-a458-ed7b1964888e\">\n",
              "    <div class=\"colab-df-container\">\n",
              "      <div>\n",
              "<style scoped>\n",
              "    .dataframe tbody tr th:only-of-type {\n",
              "        vertical-align: middle;\n",
              "    }\n",
              "\n",
              "    .dataframe tbody tr th {\n",
              "        vertical-align: top;\n",
              "    }\n",
              "\n",
              "    .dataframe thead th {\n",
              "        text-align: right;\n",
              "    }\n",
              "</style>\n",
              "<table border=\"1\" class=\"dataframe\">\n",
              "  <thead>\n",
              "    <tr style=\"text-align: right;\">\n",
              "      <th></th>\n",
              "      <th>user_id</th>\n",
              "    </tr>\n",
              "    <tr>\n",
              "      <th>expr_id</th>\n",
              "      <th></th>\n",
              "    </tr>\n",
              "  </thead>\n",
              "  <tbody>\n",
              "    <tr>\n",
              "      <th>246</th>\n",
              "      <td>2456</td>\n",
              "    </tr>\n",
              "    <tr>\n",
              "      <th>247</th>\n",
              "      <td>2491</td>\n",
              "    </tr>\n",
              "    <tr>\n",
              "      <th>248</th>\n",
              "      <td>2511</td>\n",
              "    </tr>\n",
              "  </tbody>\n",
              "</table>\n",
              "</div>\n",
              "      <button class=\"colab-df-convert\" onclick=\"convertToInteractive('df-2528e7ab-c97b-4fa8-a458-ed7b1964888e')\"\n",
              "              title=\"Convert this dataframe to an interactive table.\"\n",
              "              style=\"display:none;\">\n",
              "        \n",
              "  <svg xmlns=\"http://www.w3.org/2000/svg\" height=\"24px\"viewBox=\"0 0 24 24\"\n",
              "       width=\"24px\">\n",
              "    <path d=\"M0 0h24v24H0V0z\" fill=\"none\"/>\n",
              "    <path d=\"M18.56 5.44l.94 2.06.94-2.06 2.06-.94-2.06-.94-.94-2.06-.94 2.06-2.06.94zm-11 1L8.5 8.5l.94-2.06 2.06-.94-2.06-.94L8.5 2.5l-.94 2.06-2.06.94zm10 10l.94 2.06.94-2.06 2.06-.94-2.06-.94-.94-2.06-.94 2.06-2.06.94z\"/><path d=\"M17.41 7.96l-1.37-1.37c-.4-.4-.92-.59-1.43-.59-.52 0-1.04.2-1.43.59L10.3 9.45l-7.72 7.72c-.78.78-.78 2.05 0 2.83L4 21.41c.39.39.9.59 1.41.59.51 0 1.02-.2 1.41-.59l7.78-7.78 2.81-2.81c.8-.78.8-2.07 0-2.86zM5.41 20L4 18.59l7.72-7.72 1.47 1.35L5.41 20z\"/>\n",
              "  </svg>\n",
              "      </button>\n",
              "      \n",
              "  <style>\n",
              "    .colab-df-container {\n",
              "      display:flex;\n",
              "      flex-wrap:wrap;\n",
              "      gap: 12px;\n",
              "    }\n",
              "\n",
              "    .colab-df-convert {\n",
              "      background-color: #E8F0FE;\n",
              "      border: none;\n",
              "      border-radius: 50%;\n",
              "      cursor: pointer;\n",
              "      display: none;\n",
              "      fill: #1967D2;\n",
              "      height: 32px;\n",
              "      padding: 0 0 0 0;\n",
              "      width: 32px;\n",
              "    }\n",
              "\n",
              "    .colab-df-convert:hover {\n",
              "      background-color: #E2EBFA;\n",
              "      box-shadow: 0px 1px 2px rgba(60, 64, 67, 0.3), 0px 1px 3px 1px rgba(60, 64, 67, 0.15);\n",
              "      fill: #174EA6;\n",
              "    }\n",
              "\n",
              "    [theme=dark] .colab-df-convert {\n",
              "      background-color: #3B4455;\n",
              "      fill: #D2E3FC;\n",
              "    }\n",
              "\n",
              "    [theme=dark] .colab-df-convert:hover {\n",
              "      background-color: #434B5C;\n",
              "      box-shadow: 0px 1px 3px 1px rgba(0, 0, 0, 0.15);\n",
              "      filter: drop-shadow(0px 1px 2px rgba(0, 0, 0, 0.3));\n",
              "      fill: #FFFFFF;\n",
              "    }\n",
              "  </style>\n",
              "\n",
              "      <script>\n",
              "        const buttonEl =\n",
              "          document.querySelector('#df-2528e7ab-c97b-4fa8-a458-ed7b1964888e button.colab-df-convert');\n",
              "        buttonEl.style.display =\n",
              "          google.colab.kernel.accessAllowed ? 'block' : 'none';\n",
              "\n",
              "        async function convertToInteractive(key) {\n",
              "          const element = document.querySelector('#df-2528e7ab-c97b-4fa8-a458-ed7b1964888e');\n",
              "          const dataTable =\n",
              "            await google.colab.kernel.invokeFunction('convertToInteractive',\n",
              "                                                     [key], {});\n",
              "          if (!dataTable) return;\n",
              "\n",
              "          const docLinkHtml = 'Like what you see? Visit the ' +\n",
              "            '<a target=\"_blank\" href=https://colab.research.google.com/notebooks/data_table.ipynb>data table notebook</a>'\n",
              "            + ' to learn more about interactive tables.';\n",
              "          element.innerHTML = '';\n",
              "          dataTable['output_type'] = 'display_data';\n",
              "          await google.colab.output.renderOutput(dataTable, element);\n",
              "          const docLink = document.createElement('div');\n",
              "          docLink.innerHTML = docLinkHtml;\n",
              "          element.appendChild(docLink);\n",
              "        }\n",
              "      </script>\n",
              "    </div>\n",
              "  </div>\n",
              "  "
            ]
          },
          "metadata": {},
          "execution_count": 103
        }
      ],
      "source": [
        "data_filt.groupby('expr_id').agg({'user_id' : 'nunique'})"
      ]
    },
    {
      "cell_type": "code",
      "execution_count": 104,
      "metadata": {
        "scrolled": true,
        "colab": {
          "base_uri": "https://localhost:8080/",
          "height": 104
        },
        "id": "n1yQDYDKlB0x",
        "outputId": "4f3ace6b-55c0-4a7a-a4b8-858dbe7007a6"
      },
      "outputs": [
        {
          "output_type": "display_data",
          "data": {
            "text/plain": [
              "array([2423., 2454., 2467., 4877.])"
            ]
          },
          "metadata": {}
        },
        {
          "output_type": "display_data",
          "data": {
            "text/plain": [
              "array([1514., 1498., 1505., 3012.])"
            ]
          },
          "metadata": {}
        },
        {
          "output_type": "display_data",
          "data": {
            "text/plain": [
              "array([1238., 1216., 1204., 2454.])"
            ]
          },
          "metadata": {}
        },
        {
          "output_type": "display_data",
          "data": {
            "text/plain": [
              "array([1172., 1136., 1155., 2308.])"
            ]
          },
          "metadata": {}
        },
        {
          "output_type": "display_data",
          "data": {
            "text/plain": [
              "array([2456, 2491, 2511, 4947])"
            ]
          },
          "metadata": {}
        }
      ],
      "source": [
        "display(MainScreen)\n",
        "display(OffersScreen)\n",
        "display(CartScreen)\n",
        "display(PaymentScreen)\n",
        "display(total)\n",
        "\n"
      ]
    },
    {
      "cell_type": "markdown",
      "metadata": {
        "id": "uY203VyElB0y"
      },
      "source": [
        "Нам необходимо проверить гипотезу о равенстве средних долей. Для этого проведем z-тест  \n",
        "Напишем функцию для проверки:"
      ]
    },
    {
      "cell_type": "code",
      "execution_count": 105,
      "metadata": {
        "id": "iMbKcmb-lB0y"
      },
      "outputs": [],
      "source": [
        "def equal_proportion (part, total, group1, group2, alpha):\n",
        "    alpha = alpha\n",
        "    # пропорция успехов в первой группе:\n",
        "    p1 = part[group1]/total[group1]\n",
        "\n",
        "    # пропорция успехов во второй группе:\n",
        "    p2 = part[group2]/total[group2]\n",
        "\n",
        "    # пропорция успехов в комбинированном датасете:\n",
        "    p_combined = (part[group1] + part[group2]) / (total[group1] + total[group2])\n",
        "\n",
        "    # разница пропорций в датасетах\n",
        "    difference = p1 - p2 \n",
        "\n",
        "    # считаем статистику в ст.отклонениях стандартного нормального распределения\n",
        "    z_value = difference / mth.sqrt(p_combined * (1 - p_combined) * (1/total[group1] + 1/total[group2]))\n",
        "\n",
        "    # задаем стандартное нормальное распределение (среднее 0, ст.отклонение 1)\n",
        "    distr = st.norm(0, 1)\n",
        "\n",
        "    p_value = (1 - distr.cdf(abs(z_value))) * 2\n",
        "    \n",
        "    \n",
        "    print('alpha: {:.4f}'.format (alpha))\n",
        "    print('Разница тест - контроль: {:.4f}'.format (p2 - p1))\n",
        "    print('p-значение: {:.4f}'.format ( p_value))\n",
        "    \n",
        "\n",
        "    if p_value < alpha:\n",
        "        print('Отвергаем нулевую гипотезу: между долями есть значимая разница')\n",
        "    else:\n",
        "         print('Не получилось отвергнуть нулевую гипотезу, нет оснований считать доли разными')\n",
        "            \n",
        "    return p_value\n",
        "    \n",
        "    "
      ]
    },
    {
      "cell_type": "markdown",
      "metadata": {
        "id": "o4CxO5htlB0y"
      },
      "source": [
        "**Проверим разницу в численности контрольных групп для теста:**\n",
        "    "
      ]
    },
    {
      "cell_type": "code",
      "execution_count": 106,
      "metadata": {
        "scrolled": true,
        "colab": {
          "base_uri": "https://localhost:8080/"
        },
        "id": "pRgPR7jjlB0y",
        "outputId": "8b091534-b1d4-4367-988f-1682e7122bd2"
      },
      "outputs": [
        {
          "output_type": "stream",
          "name": "stdout",
          "text": [
            "Разница между контрольными группами: 1.41%\n"
          ]
        }
      ],
      "source": [
        "print('Разница между контрольными группами: {:.2f}%'.format (abs (total[0]*100/total[1]-100)))"
      ]
    },
    {
      "cell_type": "markdown",
      "metadata": {
        "id": "_oPkuAy7lB0y"
      },
      "source": [
        "Разница ~ 1%, группы подходят для A/A теста"
      ]
    },
    {
      "cell_type": "markdown",
      "metadata": {
        "id": "l1JdsrNUlB0y"
      },
      "source": [
        "**Проверим есть ли значимые отличия в результатах контрольных групп**"
      ]
    },
    {
      "cell_type": "markdown",
      "metadata": {
        "id": "eILQT29ZlB0z"
      },
      "source": [
        "Гипотезы.  \n",
        "H0 - различий в доле уникальных посетителей MainScreen от общего числа пользователей между контрольными группами нет.  \n",
        "H1 - различия в доле уникальных посетителей MainScreen от общего числа пользователей между контрольными группами есть."
      ]
    },
    {
      "cell_type": "code",
      "execution_count": 107,
      "metadata": {
        "scrolled": true,
        "colab": {
          "base_uri": "https://localhost:8080/"
        },
        "id": "r1_zOq9VlB0z",
        "outputId": "1d96aa9d-8bfd-4890-e4f9-ffdd4f89e1a4"
      },
      "outputs": [
        {
          "output_type": "stream",
          "name": "stdout",
          "text": [
            "alpha: 0.0500\n",
            "Разница тест - контроль: -0.0014\n",
            "p-значение: 0.6731\n",
            "Не получилось отвергнуть нулевую гипотезу, нет оснований считать доли разными\n"
          ]
        }
      ],
      "source": [
        "result1 = equal_proportion (MainScreen, total, 0, 1, 0.05)"
      ]
    },
    {
      "cell_type": "markdown",
      "metadata": {
        "id": "_eem7-DSlB0z"
      },
      "source": [
        "Гипотезы.  \n",
        "H0 - различий в доле уникальных посетителей OffersScreen от общего числа пользователей между контрольными группами нет.  \n",
        "H1 - различия в доле уникальных посетителей OffersScreen от общего числа пользователей между контрольными группами есть."
      ]
    },
    {
      "cell_type": "code",
      "execution_count": 108,
      "metadata": {
        "scrolled": true,
        "colab": {
          "base_uri": "https://localhost:8080/"
        },
        "id": "W2G2STsQlB0z",
        "outputId": "19edc9c6-3092-45c5-c9c9-14e5e4efb647"
      },
      "outputs": [
        {
          "output_type": "stream",
          "name": "stdout",
          "text": [
            "alpha: 0.0500\n",
            "Разница тест - контроль: -0.0151\n",
            "p-значение: 0.2770\n",
            "Не получилось отвергнуть нулевую гипотезу, нет оснований считать доли разными\n"
          ]
        }
      ],
      "source": [
        "result2 = equal_proportion (OffersScreen, total, 0, 1, 0.05)"
      ]
    },
    {
      "cell_type": "markdown",
      "metadata": {
        "id": "4JULP6T7lB0z"
      },
      "source": [
        "Гипотезы.  \n",
        "H0 - различий в доле уникальных посетителей CartScreen от общего числа пользователей между контрольными группами нет.  \n",
        "H1 - различия в доле уникальных посетителей CartScreen от общего числа пользователей между контрольными группами есть."
      ]
    },
    {
      "cell_type": "code",
      "execution_count": 109,
      "metadata": {
        "scrolled": false,
        "colab": {
          "base_uri": "https://localhost:8080/"
        },
        "id": "dSDz-J3nlB0z",
        "outputId": "3c9daf2d-f053-4699-ab29-e10c16018524"
      },
      "outputs": [
        {
          "output_type": "stream",
          "name": "stdout",
          "text": [
            "alpha: 0.0500\n",
            "Разница тест - контроль: -0.0159\n",
            "p-значение: 0.2630\n",
            "Не получилось отвергнуть нулевую гипотезу, нет оснований считать доли разными\n"
          ]
        }
      ],
      "source": [
        "result3 = equal_proportion (CartScreen, total, 0, 1,0.05)"
      ]
    },
    {
      "cell_type": "markdown",
      "metadata": {
        "id": "k5SZtS3UlB0z"
      },
      "source": [
        "Гипотезы.  \n",
        "H0 - различий в доле уникальных посетителей PaymentScreen от общего числа пользователей между контрольными группами нет.  \n",
        "H1 - различия в доле уникальных посетителей PaymentScreen от общего числа пользователей между контрольными группами есть."
      ]
    },
    {
      "cell_type": "code",
      "execution_count": 110,
      "metadata": {
        "scrolled": false,
        "colab": {
          "base_uri": "https://localhost:8080/"
        },
        "id": "cDKGG00ElB00",
        "outputId": "7a9ae95b-06c5-4336-8a96-42e5d7949ff7"
      },
      "outputs": [
        {
          "output_type": "stream",
          "name": "stdout",
          "text": [
            "alpha: 0.0500\n",
            "Разница тест - контроль: -0.0212\n",
            "p-значение: 0.1359\n",
            "Не получилось отвергнуть нулевую гипотезу, нет оснований считать доли разными\n"
          ]
        }
      ],
      "source": [
        "result4 =equal_proportion (PaymentScreen,total, 0, 1, 0.05)"
      ]
    },
    {
      "cell_type": "markdown",
      "metadata": {
        "id": "VGLFzHqFlB00"
      },
      "source": [
        "**Статистически значимых отличий ни на одном этапе воронки между контрольными группами не обнаружено  \n",
        "Разбиение на группы работает корректно**"
      ]
    },
    {
      "cell_type": "markdown",
      "metadata": {
        "id": "F90_VxLXlB00"
      },
      "source": [
        "**Проверим есть ли значимые отличия в результатах тестовой и контрольных групп**"
      ]
    },
    {
      "cell_type": "markdown",
      "metadata": {
        "id": "0X6ZU2jwlB00"
      },
      "source": [
        "**Контрольная группа 246**"
      ]
    },
    {
      "cell_type": "markdown",
      "metadata": {
        "id": "nKRV-QPOlB00"
      },
      "source": [
        "Гипотезы.  \n",
        "H0 - различий в доле уникальных посетителей MainScreen от общего числа пользователей между тестовой и контрольной группой 246 нет.  \n",
        "H1 - различия в доле уникальных посетителей MainScreen от общего числа пользователей между тестовой и контрольной группой 246 есть."
      ]
    },
    {
      "cell_type": "code",
      "execution_count": 111,
      "metadata": {
        "colab": {
          "base_uri": "https://localhost:8080/"
        },
        "id": "dDEHHcf4lB00",
        "outputId": "1e00687c-9625-4d48-ee05-cc7abc78ca3c"
      },
      "outputs": [
        {
          "output_type": "stream",
          "name": "stdout",
          "text": [
            "alpha: 0.0500\n",
            "Разница тест - контроль: -0.0041\n",
            "p-значение: 0.2438\n",
            "Не получилось отвергнуть нулевую гипотезу, нет оснований считать доли разными\n"
          ]
        }
      ],
      "source": [
        "result5 = equal_proportion (MainScreen, total, 0, 2, 0.05)"
      ]
    },
    {
      "cell_type": "markdown",
      "metadata": {
        "id": "rEdRD50tlB00"
      },
      "source": [
        "Гипотезы.  \n",
        "H0 - различий в доле уникальных посетителей OffersScreen от общего числа пользователей между тестовой и контрольной группой 246 нет.  \n",
        "H1 - различия в доле уникальных посетителей OffersScreen от общего числа пользователей между тестовой и контрольной группой 246 есть."
      ]
    },
    {
      "cell_type": "code",
      "execution_count": 112,
      "metadata": {
        "scrolled": false,
        "colab": {
          "base_uri": "https://localhost:8080/"
        },
        "id": "zfoq568YlB01",
        "outputId": "087bb3a5-6ab1-4afc-cebd-e6b11a9775cd"
      },
      "outputs": [
        {
          "output_type": "stream",
          "name": "stdout",
          "text": [
            "alpha: 0.0500\n",
            "Разница тест - контроль: -0.0171\n",
            "p-значение: 0.2175\n",
            "Не получилось отвергнуть нулевую гипотезу, нет оснований считать доли разными\n"
          ]
        }
      ],
      "source": [
        "result6 = equal_proportion (OffersScreen, total, 0, 2, 0.05)"
      ]
    },
    {
      "cell_type": "markdown",
      "metadata": {
        "id": "gBD5NorwlB01"
      },
      "source": [
        "Гипотезы.  \n",
        "H0 - различий в доле уникальных посетителей CartScreen от общего числа пользователей между тестовой и контрольной группой 246 нет.  \n",
        "H1 - различия в доле уникальных посетителей CartScreen от общего числа пользователей между тестовой и контрольной группой 246 есть."
      ]
    },
    {
      "cell_type": "code",
      "execution_count": 113,
      "metadata": {
        "scrolled": false,
        "colab": {
          "base_uri": "https://localhost:8080/"
        },
        "id": "0ve7Ir1OlB01",
        "outputId": "0ed7aca5-bce7-4c62-cd61-d6837d9ed5ce"
      },
      "outputs": [
        {
          "output_type": "stream",
          "name": "stdout",
          "text": [
            "alpha: 0.0500\n",
            "Разница тест - контроль: -0.0246\n",
            "p-значение: 0.0832\n",
            "Не получилось отвергнуть нулевую гипотезу, нет оснований считать доли разными\n"
          ]
        }
      ],
      "source": [
        "result7 = equal_proportion (CartScreen, total, 0, 2, 0.05)"
      ]
    },
    {
      "cell_type": "markdown",
      "metadata": {
        "id": "tXv9CidglB01"
      },
      "source": [
        "Гипотезы.  \n",
        "H0 - различий в доле уникальных посетителей PaymentScreen от общего числа пользователей между тестовой и контрольной группой 246 нет.  \n",
        "H1 - различия в доле уникальных посетителей PaymentScreen от общего числа пользователей между тестовой и контрольной группой 246 есть."
      ]
    },
    {
      "cell_type": "code",
      "execution_count": 114,
      "metadata": {
        "scrolled": true,
        "colab": {
          "base_uri": "https://localhost:8080/"
        },
        "id": "OZUz0Fd1lB01",
        "outputId": "22264c5e-a9db-4ba4-c4c0-d56b023f1e83"
      },
      "outputs": [
        {
          "output_type": "stream",
          "name": "stdout",
          "text": [
            "alpha: 0.0500\n",
            "Разница тест - контроль: -0.0172\n",
            "p-значение: 0.2239\n",
            "Не получилось отвергнуть нулевую гипотезу, нет оснований считать доли разными\n"
          ]
        }
      ],
      "source": [
        "result8 = equal_proportion (PaymentScreen,total, 0, 2, 0.05)"
      ]
    },
    {
      "cell_type": "markdown",
      "metadata": {
        "id": "9gErrax2lB01"
      },
      "source": [
        "**Контрольная группа 247**"
      ]
    },
    {
      "cell_type": "markdown",
      "metadata": {
        "id": "W0tp_t7XlB02"
      },
      "source": [
        "Гипотезы.  \n",
        "H0 - различий в доле уникальных посетителей MainScreen от общего числа пользователей между тестовой и контрольной группой 247 нет.  \n",
        "H1 - различия в доле уникальных посетителей MainScreen от общего числа пользователей между тестовой и контрольной группой 247 есть."
      ]
    },
    {
      "cell_type": "code",
      "execution_count": 115,
      "metadata": {
        "colab": {
          "base_uri": "https://localhost:8080/"
        },
        "id": "rM-P4SX9lB02",
        "outputId": "ed6f4fbb-15a4-448b-c5bf-ac8aa684ba22"
      },
      "outputs": [
        {
          "output_type": "stream",
          "name": "stdout",
          "text": [
            "alpha: 0.0500\n",
            "Разница тест - контроль: -0.0027\n",
            "p-значение: 0.4545\n",
            "Не получилось отвергнуть нулевую гипотезу, нет оснований считать доли разными\n"
          ]
        }
      ],
      "source": [
        "result9 = equal_proportion (MainScreen, total, 1, 2, 0.05)"
      ]
    },
    {
      "cell_type": "markdown",
      "metadata": {
        "id": "y1B-Z7IklB02"
      },
      "source": [
        "Гипотезы.  \n",
        "H0 - различий в доле уникальных посетителей OffersScreen от общего числа пользователей между тестовой и контрольной группой 247 нет.  \n",
        "H1 - различия в доле уникальных посетителей OffersScreen от общего числа пользователей между тестовой и контрольной группой 247 есть."
      ]
    },
    {
      "cell_type": "code",
      "execution_count": 116,
      "metadata": {
        "scrolled": true,
        "colab": {
          "base_uri": "https://localhost:8080/"
        },
        "id": "sSCUxG61lB02",
        "outputId": "386d1ad0-081a-42b8-aba0-89592a91b23e"
      },
      "outputs": [
        {
          "output_type": "stream",
          "name": "stdout",
          "text": [
            "alpha: 0.0500\n",
            "Разница тест - контроль: -0.0020\n",
            "p-значение: 0.8851\n",
            "Не получилось отвергнуть нулевую гипотезу, нет оснований считать доли разными\n"
          ]
        }
      ],
      "source": [
        "result10 = equal_proportion (OffersScreen, total, 1, 2, 0.05)"
      ]
    },
    {
      "cell_type": "markdown",
      "metadata": {
        "id": "tLRL1JQflB02"
      },
      "source": [
        "Гипотезы.  \n",
        "H0 - различий в доле уникальных посетителей CartScreen от общего числа пользователей между тестовой и контрольной группой 247 нет.  \n",
        "H1 - различия в доле уникальных посетителей CartScreen от общего числа пользователей между тестовой и контрольной группой 247 есть."
      ]
    },
    {
      "cell_type": "code",
      "execution_count": 117,
      "metadata": {
        "scrolled": true,
        "colab": {
          "base_uri": "https://localhost:8080/"
        },
        "id": "17VoJmiFlB02",
        "outputId": "133b7bd0-8999-4874-e988-a9212193dc89"
      },
      "outputs": [
        {
          "output_type": "stream",
          "name": "stdout",
          "text": [
            "alpha: 0.0500\n",
            "Разница тест - контроль: -0.0087\n",
            "p-значение: 0.5397\n",
            "Не получилось отвергнуть нулевую гипотезу, нет оснований считать доли разными\n"
          ]
        }
      ],
      "source": [
        "result11 = equal_proportion (CartScreen, total, 1, 2, 0.05)"
      ]
    },
    {
      "cell_type": "markdown",
      "metadata": {
        "id": "14KvudoAlB02"
      },
      "source": [
        "Гипотезы.  \n",
        "H0 - различий в доле уникальных посетителей PaymentScreen от общего числа пользователей между тестовой и контрольной группой 247 нет.  \n",
        "H1 - различия в доле уникальных посетителей PaymentScreen от общего числа пользователей между тестовой и контрольной группой 247 есть."
      ]
    },
    {
      "cell_type": "code",
      "execution_count": 118,
      "metadata": {
        "scrolled": false,
        "colab": {
          "base_uri": "https://localhost:8080/"
        },
        "id": "OidlSGGJlB03",
        "outputId": "24bb4cb9-f44c-4693-fec9-703c622aac34"
      },
      "outputs": [
        {
          "output_type": "stream",
          "name": "stdout",
          "text": [
            "alpha: 0.0500\n",
            "Разница тест - контроль: 0.0039\n",
            "p-значение: 0.7801\n",
            "Не получилось отвергнуть нулевую гипотезу, нет оснований считать доли разными\n"
          ]
        }
      ],
      "source": [
        "result12 = equal_proportion (PaymentScreen,total, 1, 2, 0.05)"
      ]
    },
    {
      "cell_type": "markdown",
      "metadata": {
        "id": "YIfJ0IOPlB03"
      },
      "source": [
        "**Объединенная контрольная группа**"
      ]
    },
    {
      "cell_type": "markdown",
      "metadata": {
        "id": "6K3sBswOlB03"
      },
      "source": [
        "Гипотезы.  \n",
        "H0 - различий в доле уникальных посетителей MainScreen от общего числа пользователей между тестовой и общей контрольной группой нет.  \n",
        "H1 - различия в доле уникальных посетителей MainScreen от общего числа пользователей между тестовой и общей контрольной группой есть."
      ]
    },
    {
      "cell_type": "code",
      "execution_count": 119,
      "metadata": {
        "colab": {
          "base_uri": "https://localhost:8080/"
        },
        "id": "3jSL_GZ9lB03",
        "outputId": "fd4f6bb0-c13a-4a3d-fcf4-1a069c6f5661"
      },
      "outputs": [
        {
          "output_type": "stream",
          "name": "stdout",
          "text": [
            "alpha: 0.0500\n",
            "Разница тест - контроль: -0.0034\n",
            "p-значение: 0.2619\n",
            "Не получилось отвергнуть нулевую гипотезу, нет оснований считать доли разными\n"
          ]
        }
      ],
      "source": [
        "result13 = equal_proportion (MainScreen, total, 3, 2, 0.05)"
      ]
    },
    {
      "cell_type": "markdown",
      "metadata": {
        "id": "SKyGU8bLlB03"
      },
      "source": [
        "Гипотезы.  \n",
        "H0 - различий в доле уникальных посетителей OffersScreen от общего числа пользователей между тестовой и общей контрольной группой нет.  \n",
        "H1 - различия в доле уникальных посетителей OffersScreen от общего числа пользователей между тестовой и общей контрольной группой есть."
      ]
    },
    {
      "cell_type": "code",
      "execution_count": 120,
      "metadata": {
        "scrolled": true,
        "colab": {
          "base_uri": "https://localhost:8080/"
        },
        "id": "pdZkDkP0lB03",
        "outputId": "5c0937c9-eb3f-47c9-c0e3-2f595732076b"
      },
      "outputs": [
        {
          "output_type": "stream",
          "name": "stdout",
          "text": [
            "alpha: 0.0500\n",
            "Разница тест - контроль: -0.0095\n",
            "p-значение: 0.4280\n",
            "Не получилось отвергнуть нулевую гипотезу, нет оснований считать доли разными\n"
          ]
        }
      ],
      "source": [
        "result14 = equal_proportion (OffersScreen, total, 3, 2, 0.05)"
      ]
    },
    {
      "cell_type": "markdown",
      "metadata": {
        "id": "hZrogx1PlB03"
      },
      "source": [
        "Гипотезы.  \n",
        "H0 - различий в доле уникальных посетителей CartScreen от общего числа пользователей между тестовой и общей контрольной группой нет.  \n",
        "H1 - различия в доле уникальных посетителей CartScreen от общего числа пользователей между тестовой и общей контрольной группой есть."
      ]
    },
    {
      "cell_type": "code",
      "execution_count": 121,
      "metadata": {
        "scrolled": true,
        "colab": {
          "base_uri": "https://localhost:8080/"
        },
        "id": "AbgKsS1RlB04",
        "outputId": "33345477-7ee9-468e-daa2-ac3238233db6"
      },
      "outputs": [
        {
          "output_type": "stream",
          "name": "stdout",
          "text": [
            "alpha: 0.0500\n",
            "Разница тест - контроль: -0.0166\n",
            "p-значение: 0.1762\n",
            "Не получилось отвергнуть нулевую гипотезу, нет оснований считать доли разными\n"
          ]
        }
      ],
      "source": [
        "result15 = equal_proportion (CartScreen, total, 3, 2, 0.05)"
      ]
    },
    {
      "cell_type": "markdown",
      "metadata": {
        "id": "xRU5Vt34lB04"
      },
      "source": [
        "Гипотезы.  \n",
        "H0 - различий в доле уникальных посетителей PaymentScreen от общего числа пользователей между тестовой и общей контрольной группой нет.  \n",
        "H1 - различия в доле уникальных посетителей PaymentScreen от общего числа пользователей между тестовой и общей контрольной группой есть."
      ]
    },
    {
      "cell_type": "code",
      "execution_count": 122,
      "metadata": {
        "scrolled": true,
        "colab": {
          "base_uri": "https://localhost:8080/"
        },
        "id": "mwxdQ2fulB04",
        "outputId": "310c0a6c-ff31-423d-ff5d-2327a48a8c00"
      },
      "outputs": [
        {
          "output_type": "stream",
          "name": "stdout",
          "text": [
            "alpha: 0.0500\n",
            "Разница тест - контроль: -0.0066\n",
            "p-значение: 0.5909\n",
            "Не получилось отвергнуть нулевую гипотезу, нет оснований считать доли разными\n"
          ]
        }
      ],
      "source": [
        "result16 = equal_proportion (PaymentScreen,total, 3, 2, 0.05)"
      ]
    },
    {
      "cell_type": "markdown",
      "metadata": {
        "id": "jMpBrEgWlB04"
      },
      "source": [
        "**Поправка на множественные сравнения**"
      ]
    },
    {
      "cell_type": "markdown",
      "metadata": {
        "id": "QxnaCMSElB04"
      },
      "source": [
        "Так как в нашем тесте более, чем две группы и несколько сравнений, увеличивается вероятность получить ошибку первого рода(найти разницу там где ее нет)  \n",
        "Необходимо скорректировать уровень значимости  \n",
        "Всего мы провели 4 сравнения для 4 вариантов экрана, итого 16 сравнений  \n",
        "Поправка Бонферрони не очень приемлимый вариант, тк значительно снизит мощность теста  \n",
        "\n",
        "Воспользуемся методом Холма \n",
        "\n",
        "Для этого нам нужно упорядочить наши гипотезы по возрастанию p1, ..., p16 и самое низкое значение p_value сравнить с самым низким уровнем значимости = 0.05/количество сравнений  \n",
        "Если p1 > alpha/16 => принимаем все гипотезы p1, ..., p16 и останавливаемся.  \n",
        "Иначе продолжаем проверку, сравниваем  p2 и alpha/15, если p2 > alpha/15 => принимаем все гипотезы p2, ..., p16 и останавливаемся и т.д.  \n",
        "Для последнего сравнения уровень значимости = 0.05/1\n"
      ]
    },
    {
      "cell_type": "code",
      "execution_count": 123,
      "metadata": {
        "colab": {
          "base_uri": "https://localhost:8080/",
          "height": 295
        },
        "id": "ohAsGGGUlB04",
        "outputId": "ac2b35b6-dc8e-428b-a291-fdbbb4a3499b"
      },
      "outputs": [
        {
          "output_type": "display_data",
          "data": {
            "text/plain": [
              "[0.003125,\n",
              " 0.0033333333333333335,\n",
              " 0.0035714285714285718,\n",
              " 0.0038461538461538464,\n",
              " 0.004166666666666667,\n",
              " 0.004545454545454546,\n",
              " 0.005,\n",
              " 0.005555555555555556,\n",
              " 0.00625,\n",
              " 0.0071428571428571435,\n",
              " 0.008333333333333333,\n",
              " 0.01,\n",
              " 0.0125,\n",
              " 0.016666666666666666,\n",
              " 0.025,\n",
              " 0.05]"
            ]
          },
          "metadata": {}
        }
      ],
      "source": [
        "# сгененируем последовательность скорректированных yровней значимости\n",
        "alpha = []\n",
        "for m in [i for i in range(16, 0, -1)]:\n",
        "    alpha.append(0.05/m)\n",
        "display(alpha)    "
      ]
    },
    {
      "cell_type": "code",
      "execution_count": 124,
      "metadata": {
        "id": "J-XVndaVlB04"
      },
      "outputs": [],
      "source": [
        "#объединим все p_value\n",
        "all_p_values = result1, result2,result3,result4,result5,result6,result7,result8,result9,result10,result11,result12,result13,result14,result15,result16"
      ]
    },
    {
      "cell_type": "code",
      "execution_count": 125,
      "metadata": {
        "scrolled": true,
        "colab": {
          "base_uri": "https://localhost:8080/",
          "height": 295
        },
        "id": "2KICR5sZlB05",
        "outputId": "67fded54-8e1b-428e-c05c-cb27aad72011"
      },
      "outputs": [
        {
          "output_type": "display_data",
          "data": {
            "text/plain": [
              "(0.6730951807208485,\n",
              " 0.27702771700769824,\n",
              " 0.26299626637167783,\n",
              " 0.13586258367273985,\n",
              " 0.24380010740478975,\n",
              " 0.21751867407994285,\n",
              " 0.08317408116828573,\n",
              " 0.2239322340682175,\n",
              " 0.4545336230756303,\n",
              " 0.8850746269495819,\n",
              " 0.539679592997024,\n",
              " 0.7800603242138475,\n",
              " 0.26186402859555846,\n",
              " 0.42801834712141273,\n",
              " 0.17619153820927536,\n",
              " 0.5908710902173984)"
            ]
          },
          "metadata": {}
        }
      ],
      "source": [
        "display(all_p_values)"
      ]
    },
    {
      "cell_type": "code",
      "execution_count": 126,
      "metadata": {
        "colab": {
          "base_uri": "https://localhost:8080/",
          "height": 551
        },
        "id": "IVE71sh4lB05",
        "outputId": "2444f831-9c3f-43a5-d3c1-0fcbb6ebd81f"
      },
      "outputs": [
        {
          "output_type": "display_data",
          "data": {
            "text/plain": [
              "    number_of_hyp  p_value     alpha  p_value_more_alpha\n",
              "0               7     0.08  3.13e-03                True\n",
              "1               4     0.14  3.33e-03                True\n",
              "2              15     0.18  3.57e-03                True\n",
              "3               6     0.22  3.85e-03                True\n",
              "4               8     0.22  4.17e-03                True\n",
              "5               5     0.24  4.55e-03                True\n",
              "6              13     0.26  5.00e-03                True\n",
              "7               3     0.26  5.56e-03                True\n",
              "8               2     0.28  6.25e-03                True\n",
              "9              14     0.43  7.14e-03                True\n",
              "10              9     0.45  8.33e-03                True\n",
              "11             11     0.54  1.00e-02                True\n",
              "12             16     0.59  1.25e-02                True\n",
              "13              1     0.67  1.67e-02                True\n",
              "14             12     0.78  2.50e-02                True\n",
              "15             10     0.89  5.00e-02                True"
            ],
            "text/html": [
              "\n",
              "  <div id=\"df-e9f78fa0-a2f7-4c0d-ae28-3050fb0c221f\">\n",
              "    <div class=\"colab-df-container\">\n",
              "      <div>\n",
              "<style scoped>\n",
              "    .dataframe tbody tr th:only-of-type {\n",
              "        vertical-align: middle;\n",
              "    }\n",
              "\n",
              "    .dataframe tbody tr th {\n",
              "        vertical-align: top;\n",
              "    }\n",
              "\n",
              "    .dataframe thead th {\n",
              "        text-align: right;\n",
              "    }\n",
              "</style>\n",
              "<table border=\"1\" class=\"dataframe\">\n",
              "  <thead>\n",
              "    <tr style=\"text-align: right;\">\n",
              "      <th></th>\n",
              "      <th>number_of_hyp</th>\n",
              "      <th>p_value</th>\n",
              "      <th>alpha</th>\n",
              "      <th>p_value_more_alpha</th>\n",
              "    </tr>\n",
              "  </thead>\n",
              "  <tbody>\n",
              "    <tr>\n",
              "      <th>0</th>\n",
              "      <td>7</td>\n",
              "      <td>0.08</td>\n",
              "      <td>3.13e-03</td>\n",
              "      <td>True</td>\n",
              "    </tr>\n",
              "    <tr>\n",
              "      <th>1</th>\n",
              "      <td>4</td>\n",
              "      <td>0.14</td>\n",
              "      <td>3.33e-03</td>\n",
              "      <td>True</td>\n",
              "    </tr>\n",
              "    <tr>\n",
              "      <th>2</th>\n",
              "      <td>15</td>\n",
              "      <td>0.18</td>\n",
              "      <td>3.57e-03</td>\n",
              "      <td>True</td>\n",
              "    </tr>\n",
              "    <tr>\n",
              "      <th>3</th>\n",
              "      <td>6</td>\n",
              "      <td>0.22</td>\n",
              "      <td>3.85e-03</td>\n",
              "      <td>True</td>\n",
              "    </tr>\n",
              "    <tr>\n",
              "      <th>4</th>\n",
              "      <td>8</td>\n",
              "      <td>0.22</td>\n",
              "      <td>4.17e-03</td>\n",
              "      <td>True</td>\n",
              "    </tr>\n",
              "    <tr>\n",
              "      <th>5</th>\n",
              "      <td>5</td>\n",
              "      <td>0.24</td>\n",
              "      <td>4.55e-03</td>\n",
              "      <td>True</td>\n",
              "    </tr>\n",
              "    <tr>\n",
              "      <th>6</th>\n",
              "      <td>13</td>\n",
              "      <td>0.26</td>\n",
              "      <td>5.00e-03</td>\n",
              "      <td>True</td>\n",
              "    </tr>\n",
              "    <tr>\n",
              "      <th>7</th>\n",
              "      <td>3</td>\n",
              "      <td>0.26</td>\n",
              "      <td>5.56e-03</td>\n",
              "      <td>True</td>\n",
              "    </tr>\n",
              "    <tr>\n",
              "      <th>8</th>\n",
              "      <td>2</td>\n",
              "      <td>0.28</td>\n",
              "      <td>6.25e-03</td>\n",
              "      <td>True</td>\n",
              "    </tr>\n",
              "    <tr>\n",
              "      <th>9</th>\n",
              "      <td>14</td>\n",
              "      <td>0.43</td>\n",
              "      <td>7.14e-03</td>\n",
              "      <td>True</td>\n",
              "    </tr>\n",
              "    <tr>\n",
              "      <th>10</th>\n",
              "      <td>9</td>\n",
              "      <td>0.45</td>\n",
              "      <td>8.33e-03</td>\n",
              "      <td>True</td>\n",
              "    </tr>\n",
              "    <tr>\n",
              "      <th>11</th>\n",
              "      <td>11</td>\n",
              "      <td>0.54</td>\n",
              "      <td>1.00e-02</td>\n",
              "      <td>True</td>\n",
              "    </tr>\n",
              "    <tr>\n",
              "      <th>12</th>\n",
              "      <td>16</td>\n",
              "      <td>0.59</td>\n",
              "      <td>1.25e-02</td>\n",
              "      <td>True</td>\n",
              "    </tr>\n",
              "    <tr>\n",
              "      <th>13</th>\n",
              "      <td>1</td>\n",
              "      <td>0.67</td>\n",
              "      <td>1.67e-02</td>\n",
              "      <td>True</td>\n",
              "    </tr>\n",
              "    <tr>\n",
              "      <th>14</th>\n",
              "      <td>12</td>\n",
              "      <td>0.78</td>\n",
              "      <td>2.50e-02</td>\n",
              "      <td>True</td>\n",
              "    </tr>\n",
              "    <tr>\n",
              "      <th>15</th>\n",
              "      <td>10</td>\n",
              "      <td>0.89</td>\n",
              "      <td>5.00e-02</td>\n",
              "      <td>True</td>\n",
              "    </tr>\n",
              "  </tbody>\n",
              "</table>\n",
              "</div>\n",
              "      <button class=\"colab-df-convert\" onclick=\"convertToInteractive('df-e9f78fa0-a2f7-4c0d-ae28-3050fb0c221f')\"\n",
              "              title=\"Convert this dataframe to an interactive table.\"\n",
              "              style=\"display:none;\">\n",
              "        \n",
              "  <svg xmlns=\"http://www.w3.org/2000/svg\" height=\"24px\"viewBox=\"0 0 24 24\"\n",
              "       width=\"24px\">\n",
              "    <path d=\"M0 0h24v24H0V0z\" fill=\"none\"/>\n",
              "    <path d=\"M18.56 5.44l.94 2.06.94-2.06 2.06-.94-2.06-.94-.94-2.06-.94 2.06-2.06.94zm-11 1L8.5 8.5l.94-2.06 2.06-.94-2.06-.94L8.5 2.5l-.94 2.06-2.06.94zm10 10l.94 2.06.94-2.06 2.06-.94-2.06-.94-.94-2.06-.94 2.06-2.06.94z\"/><path d=\"M17.41 7.96l-1.37-1.37c-.4-.4-.92-.59-1.43-.59-.52 0-1.04.2-1.43.59L10.3 9.45l-7.72 7.72c-.78.78-.78 2.05 0 2.83L4 21.41c.39.39.9.59 1.41.59.51 0 1.02-.2 1.41-.59l7.78-7.78 2.81-2.81c.8-.78.8-2.07 0-2.86zM5.41 20L4 18.59l7.72-7.72 1.47 1.35L5.41 20z\"/>\n",
              "  </svg>\n",
              "      </button>\n",
              "      \n",
              "  <style>\n",
              "    .colab-df-container {\n",
              "      display:flex;\n",
              "      flex-wrap:wrap;\n",
              "      gap: 12px;\n",
              "    }\n",
              "\n",
              "    .colab-df-convert {\n",
              "      background-color: #E8F0FE;\n",
              "      border: none;\n",
              "      border-radius: 50%;\n",
              "      cursor: pointer;\n",
              "      display: none;\n",
              "      fill: #1967D2;\n",
              "      height: 32px;\n",
              "      padding: 0 0 0 0;\n",
              "      width: 32px;\n",
              "    }\n",
              "\n",
              "    .colab-df-convert:hover {\n",
              "      background-color: #E2EBFA;\n",
              "      box-shadow: 0px 1px 2px rgba(60, 64, 67, 0.3), 0px 1px 3px 1px rgba(60, 64, 67, 0.15);\n",
              "      fill: #174EA6;\n",
              "    }\n",
              "\n",
              "    [theme=dark] .colab-df-convert {\n",
              "      background-color: #3B4455;\n",
              "      fill: #D2E3FC;\n",
              "    }\n",
              "\n",
              "    [theme=dark] .colab-df-convert:hover {\n",
              "      background-color: #434B5C;\n",
              "      box-shadow: 0px 1px 3px 1px rgba(0, 0, 0, 0.15);\n",
              "      filter: drop-shadow(0px 1px 2px rgba(0, 0, 0, 0.3));\n",
              "      fill: #FFFFFF;\n",
              "    }\n",
              "  </style>\n",
              "\n",
              "      <script>\n",
              "        const buttonEl =\n",
              "          document.querySelector('#df-e9f78fa0-a2f7-4c0d-ae28-3050fb0c221f button.colab-df-convert');\n",
              "        buttonEl.style.display =\n",
              "          google.colab.kernel.accessAllowed ? 'block' : 'none';\n",
              "\n",
              "        async function convertToInteractive(key) {\n",
              "          const element = document.querySelector('#df-e9f78fa0-a2f7-4c0d-ae28-3050fb0c221f');\n",
              "          const dataTable =\n",
              "            await google.colab.kernel.invokeFunction('convertToInteractive',\n",
              "                                                     [key], {});\n",
              "          if (!dataTable) return;\n",
              "\n",
              "          const docLinkHtml = 'Like what you see? Visit the ' +\n",
              "            '<a target=\"_blank\" href=https://colab.research.google.com/notebooks/data_table.ipynb>data table notebook</a>'\n",
              "            + ' to learn more about interactive tables.';\n",
              "          element.innerHTML = '';\n",
              "          dataTable['output_type'] = 'display_data';\n",
              "          await google.colab.output.renderOutput(dataTable, element);\n",
              "          const docLink = document.createElement('div');\n",
              "          docLink.innerHTML = docLinkHtml;\n",
              "          element.appendChild(docLink);\n",
              "        }\n",
              "      </script>\n",
              "    </div>\n",
              "  </div>\n",
              "  "
            ]
          },
          "metadata": {}
        }
      ],
      "source": [
        "#создадим датафрейм из p_value и добавим номер гипотезы\n",
        "data = {'number_of_hyp': range(1,17), 'p_value': all_p_values}\n",
        "check_hyp = pd.DataFrame(data)\n",
        "#отсортируем от самого низкого значения p_value\n",
        "check_hyp.sort_values(by = 'p_value',inplace=True, ignore_index=True)\n",
        "#добавим скорректированные alpha\n",
        "check_hyp['alpha'] = alpha\n",
        "#добавим столбец с проверкой, если p_value больше alpha, то Истина\n",
        "check_hyp['p_value_more_alpha'] = np.where(check_hyp['p_value']>= check_hyp['alpha'], True, False)\n",
        "display(check_hyp)"
      ]
    },
    {
      "cell_type": "markdown",
      "metadata": {
        "id": "1L3_l9t8lB05"
      },
      "source": [
        "Останаваливаем проверку гипотез на первом этапе и принимаем все нулевые гипотезы, так как самое низкое p_value значение больше минимального уровня значимости  \n",
        "**Статистически значимых различий между долями посетителей каждого уровня экрана среди тестовых и контрольных групп не обнаружно**"
      ]
    },
    {
      "cell_type": "markdown",
      "metadata": {
        "id": "mEeyDnoMlB05"
      },
      "source": [
        "Также стоит отметить, что в нашем эксперименте мы получили слишком высокие значения p-value, чтобы отклонить хотя бы одну нулевую гипотезу даже при уровне значимости скорректированном методом Бонферрони"
      ]
    },
    {
      "cell_type": "markdown",
      "metadata": {
        "id": "Leam83salB05"
      },
      "source": [
        "## Вывод\n",
        "       "
      ]
    },
    {
      "cell_type": "markdown",
      "metadata": {
        "id": "ZzfNnNgelB05"
      },
      "source": [
        "В ходе исследования были изучены логи пользователей мобильного приложения <***>   \n",
        "\n",
        "После предварительной обработки данных были обнаружены дубликаты - 0.17% от общего числа строк - были удалены  \n",
        "Некорректных значений и пропусков не было  \n",
        "В логах содержались данные с 2019-07-25 по 2019-08-07  \n",
        "Для анализа мы взяли период с 2019-08-01 по 2019-08-07, тк данные до 2019-08-01 были единичными, предположительно хвосты прошлых периодов  \n",
        "Пересечений пользователей между группами обнаружено не было  \n",
        "\n",
        "В анализируемом периоде пользователь в среднем совершает 28 событий, медианное значение 20 событий на пользователя  \n",
        "1% пользователей совершает более 200 событий, поэтому мы удалили их из анализа.  \n",
        "Таким образом, всего в датафрейме было удалено:\n",
        " * 1.2% пользователей\n",
        " * 15.2% строк (событий)\n",
        "\n",
        "**Анализ воронки:**  \n",
        "\n",
        "Последовательность шагов  \n",
        " * Основной экран - `MainScreenAppear`  \n",
        " * Страница выбора товаров - `OffersScreenAppear`  \n",
        " * Корзина - `CartScreenAppear`  \n",
        " * Успешная оплата - `PaymentScreenSuccessful`  \n",
        "\n",
        "На этап выбора товаров переходит 60% пользователей, из них на этап оплаты переходит 80%, до успешной оплаты доходит 95% пользователей  \n",
        "В конечном итоге заказ оформиляет 46% пользователей от общего числа.\n",
        "\n",
        "Проблемные места воронки:\n",
        " * переход `MainScreenAppear` → `OffersScreenAppear`, теряем **40%** пользователей  \n",
        "**Рекомендации** - проверить механизм перехода, возможно он непонятен или неудобен. Проверить интрфейс главной страницы, он должен быть привелекательным и не отпугивать пользователей. \n",
        " \n",
        " * переход `OffersScreenAppear` → `CartScreenAppear`, теряем **20%** пользователей от предыдущего уровня  \n",
        "**Рекомендации** - проверить насколько информативны и юзерфрендли карточки товара. Проверить процесс добавления товара в корзину - должен быть очевиден и удобен. Проверить насколько конкурентоспособны цены.   \n",
        " \n",
        " * переход `CartScreenAppear` → `PaymentScreenSuccessful`, **5%** пользователей не доходят до оплаты  \n",
        "**Рекомендации** - проверить отсутствие технических неполадок, можно сравнить эти данные показателями прошлого периода. Если это стабильный уровень конверсии, можно применить методы для возврата покупателя к корзине - напоминания. Проверить насколько прост и удобен механизм оплаты.  \n",
        "\n",
        " \n",
        "**Анализ A/B теста по изменения дизайна шрифта:**  \n",
        "Для теста мы разделили пользователей на три группы, две контрольные 246 и 247 - со старыми шрифтами и одна тестовая 248 - с новыми и сравнили конверсии каждого уровня воронки от общего количества пользователей в группе  \n",
        "Для каждого уровня воронки было проведено 4 сравнения - между контрольными группами, между тестовой и каждой контольной в отдельности и тестовой и объединенной контрольной, итого 16 сравнений.   \n",
        "По результатам теста статистически значимых различий между показателями конверсии каждого этапа воронки среди тестовых и контрольных групп не обнаружно не было  \n",
        "Таким образом, смена шрифта не приведет ни к ухудшению ни к улучшению показателей конверсии на любом этапе воронки, конверсия в покупку при в обоих случаях на уровне 46%  \n",
        "Для увеличения показателей воронки нужно проверять каждый этап отдельно и искать проблемные места. Общие рекомендации были даны чуть выше.\n",
        " \n"
      ]
    }
  ],
  "metadata": {
    "ExecuteTimeLog": [
      {
        "duration": 1251,
        "start_time": "2022-12-26T20:22:43.599Z"
      },
      {
        "duration": 748,
        "start_time": "2022-12-26T20:23:26.986Z"
      },
      {
        "duration": 276,
        "start_time": "2022-12-26T20:24:08.746Z"
      },
      {
        "duration": 11,
        "start_time": "2022-12-26T20:24:09.519Z"
      },
      {
        "duration": 151,
        "start_time": "2022-12-26T20:25:52.187Z"
      },
      {
        "duration": 8,
        "start_time": "2022-12-26T20:25:52.691Z"
      },
      {
        "duration": 20,
        "start_time": "2022-12-26T20:29:12.947Z"
      },
      {
        "duration": 50,
        "start_time": "2022-12-26T20:31:03.291Z"
      },
      {
        "duration": 8,
        "start_time": "2022-12-26T20:46:19.307Z"
      },
      {
        "duration": 192,
        "start_time": "2022-12-26T20:48:15.898Z"
      },
      {
        "duration": 6,
        "start_time": "2022-12-26T20:48:19.206Z"
      },
      {
        "duration": 8,
        "start_time": "2022-12-26T20:48:24.430Z"
      },
      {
        "duration": 148,
        "start_time": "2022-12-26T20:49:49.446Z"
      },
      {
        "duration": 7,
        "start_time": "2022-12-26T20:49:52.578Z"
      },
      {
        "duration": 8,
        "start_time": "2022-12-26T20:49:53.066Z"
      },
      {
        "duration": 13,
        "start_time": "2022-12-26T20:50:14.338Z"
      },
      {
        "duration": 50,
        "start_time": "2022-12-26T20:55:46.110Z"
      },
      {
        "duration": 9,
        "start_time": "2022-12-26T20:55:51.457Z"
      },
      {
        "duration": 148,
        "start_time": "2022-12-26T20:57:08.941Z"
      },
      {
        "duration": 878,
        "start_time": "2022-12-26T20:57:24.338Z"
      },
      {
        "duration": 1089,
        "start_time": "2022-12-26T20:57:49.585Z"
      },
      {
        "duration": 35,
        "start_time": "2022-12-26T20:58:17.265Z"
      },
      {
        "duration": 8,
        "start_time": "2022-12-26T20:58:21.886Z"
      },
      {
        "duration": 8,
        "start_time": "2022-12-26T20:58:34.805Z"
      },
      {
        "duration": 163,
        "start_time": "2022-12-26T20:58:39.386Z"
      },
      {
        "duration": 8,
        "start_time": "2022-12-26T20:58:41.445Z"
      },
      {
        "duration": 1215,
        "start_time": "2022-12-27T08:11:29.699Z"
      },
      {
        "duration": 687,
        "start_time": "2022-12-27T08:11:30.916Z"
      },
      {
        "duration": 16,
        "start_time": "2022-12-27T08:11:31.605Z"
      },
      {
        "duration": 40,
        "start_time": "2022-12-27T08:11:31.623Z"
      },
      {
        "duration": 16,
        "start_time": "2022-12-27T08:11:31.665Z"
      },
      {
        "duration": 24,
        "start_time": "2022-12-27T08:11:31.683Z"
      },
      {
        "duration": 20,
        "start_time": "2022-12-27T08:11:31.708Z"
      },
      {
        "duration": 95,
        "start_time": "2022-12-27T08:11:31.730Z"
      },
      {
        "duration": 0,
        "start_time": "2022-12-27T08:11:31.827Z"
      },
      {
        "duration": 0,
        "start_time": "2022-12-27T08:11:31.829Z"
      },
      {
        "duration": 64,
        "start_time": "2022-12-27T08:13:12.737Z"
      },
      {
        "duration": 10,
        "start_time": "2022-12-27T08:18:19.575Z"
      },
      {
        "duration": 69,
        "start_time": "2022-12-27T08:20:39.369Z"
      },
      {
        "duration": 299,
        "start_time": "2022-12-27T08:21:14.673Z"
      },
      {
        "duration": 298,
        "start_time": "2022-12-27T08:21:47.181Z"
      },
      {
        "duration": 18,
        "start_time": "2022-12-27T08:23:23.201Z"
      },
      {
        "duration": 21,
        "start_time": "2022-12-27T08:24:07.661Z"
      },
      {
        "duration": 28,
        "start_time": "2022-12-27T08:24:32.455Z"
      },
      {
        "duration": 18,
        "start_time": "2022-12-27T08:26:07.209Z"
      },
      {
        "duration": 18,
        "start_time": "2022-12-27T08:26:17.608Z"
      },
      {
        "duration": 30,
        "start_time": "2022-12-27T08:29:25.710Z"
      },
      {
        "duration": 26,
        "start_time": "2022-12-27T08:30:02.383Z"
      },
      {
        "duration": 22,
        "start_time": "2022-12-27T08:31:13.393Z"
      },
      {
        "duration": 9,
        "start_time": "2022-12-27T08:31:53.037Z"
      },
      {
        "duration": 21,
        "start_time": "2022-12-27T08:31:54.986Z"
      },
      {
        "duration": 68,
        "start_time": "2022-12-27T08:32:01.772Z"
      },
      {
        "duration": 23,
        "start_time": "2022-12-27T08:32:20.476Z"
      },
      {
        "duration": 552,
        "start_time": "2022-12-27T08:46:59.724Z"
      },
      {
        "duration": 551,
        "start_time": "2022-12-27T08:48:00.463Z"
      },
      {
        "duration": 641,
        "start_time": "2022-12-27T08:48:06.858Z"
      },
      {
        "duration": 647,
        "start_time": "2022-12-27T08:48:14.390Z"
      },
      {
        "duration": 17,
        "start_time": "2022-12-27T08:48:37.791Z"
      },
      {
        "duration": 75,
        "start_time": "2022-12-27T08:55:39.868Z"
      },
      {
        "duration": 105,
        "start_time": "2022-12-27T08:55:44.235Z"
      },
      {
        "duration": 994,
        "start_time": "2022-12-27T08:56:13.415Z"
      },
      {
        "duration": 1084,
        "start_time": "2022-12-27T08:56:41.654Z"
      },
      {
        "duration": 1157,
        "start_time": "2022-12-27T08:57:21.907Z"
      },
      {
        "duration": 887,
        "start_time": "2022-12-27T08:57:46.384Z"
      },
      {
        "duration": 839,
        "start_time": "2022-12-27T08:58:08.269Z"
      },
      {
        "duration": 1049,
        "start_time": "2022-12-27T09:04:21.187Z"
      },
      {
        "duration": 887,
        "start_time": "2022-12-27T09:04:42.134Z"
      },
      {
        "duration": 859,
        "start_time": "2022-12-27T09:05:30.559Z"
      },
      {
        "duration": 949,
        "start_time": "2022-12-27T09:09:02.381Z"
      },
      {
        "duration": 820,
        "start_time": "2022-12-27T09:09:17.432Z"
      },
      {
        "duration": 840,
        "start_time": "2022-12-27T09:09:22.804Z"
      },
      {
        "duration": 1075,
        "start_time": "2022-12-27T09:14:29.684Z"
      },
      {
        "duration": 871,
        "start_time": "2022-12-27T09:14:46.304Z"
      },
      {
        "duration": 1045,
        "start_time": "2022-12-27T09:14:54.919Z"
      },
      {
        "duration": 875,
        "start_time": "2022-12-27T09:15:08.335Z"
      },
      {
        "duration": 883,
        "start_time": "2022-12-27T09:15:26.083Z"
      },
      {
        "duration": 1245,
        "start_time": "2022-12-27T09:59:44.791Z"
      },
      {
        "duration": 714,
        "start_time": "2022-12-27T09:59:46.039Z"
      },
      {
        "duration": 12,
        "start_time": "2022-12-27T09:59:46.755Z"
      },
      {
        "duration": 47,
        "start_time": "2022-12-27T09:59:46.768Z"
      },
      {
        "duration": 8,
        "start_time": "2022-12-27T09:59:46.818Z"
      },
      {
        "duration": 18,
        "start_time": "2022-12-27T09:59:46.828Z"
      },
      {
        "duration": 40,
        "start_time": "2022-12-27T09:59:46.847Z"
      },
      {
        "duration": 86,
        "start_time": "2022-12-27T09:59:46.889Z"
      },
      {
        "duration": 13,
        "start_time": "2022-12-27T09:59:46.977Z"
      },
      {
        "duration": 43,
        "start_time": "2022-12-27T09:59:46.992Z"
      },
      {
        "duration": 1012,
        "start_time": "2022-12-27T09:59:47.036Z"
      },
      {
        "duration": 69,
        "start_time": "2022-12-27T10:04:46.634Z"
      },
      {
        "duration": 110,
        "start_time": "2022-12-27T10:04:53.817Z"
      },
      {
        "duration": 8,
        "start_time": "2022-12-27T10:05:05.360Z"
      },
      {
        "duration": 3,
        "start_time": "2022-12-27T10:06:02.644Z"
      },
      {
        "duration": 149,
        "start_time": "2022-12-27T10:06:02.649Z"
      },
      {
        "duration": 7,
        "start_time": "2022-12-27T10:06:02.800Z"
      },
      {
        "duration": 19,
        "start_time": "2022-12-27T10:06:02.808Z"
      },
      {
        "duration": 7,
        "start_time": "2022-12-27T10:06:02.830Z"
      },
      {
        "duration": 7,
        "start_time": "2022-12-27T10:06:02.838Z"
      },
      {
        "duration": 43,
        "start_time": "2022-12-27T10:06:02.846Z"
      },
      {
        "duration": 84,
        "start_time": "2022-12-27T10:06:02.890Z"
      },
      {
        "duration": 65,
        "start_time": "2022-12-27T10:06:02.976Z"
      },
      {
        "duration": 8,
        "start_time": "2022-12-27T10:06:03.043Z"
      },
      {
        "duration": 34,
        "start_time": "2022-12-27T10:06:03.053Z"
      },
      {
        "duration": 1032,
        "start_time": "2022-12-27T10:06:03.088Z"
      },
      {
        "duration": 60,
        "start_time": "2022-12-27T10:06:19.678Z"
      },
      {
        "duration": 18,
        "start_time": "2022-12-27T10:08:11.528Z"
      },
      {
        "duration": 104,
        "start_time": "2022-12-27T10:18:32.161Z"
      },
      {
        "duration": 19,
        "start_time": "2022-12-27T10:18:43.004Z"
      },
      {
        "duration": 9,
        "start_time": "2022-12-27T10:18:47.920Z"
      },
      {
        "duration": 83,
        "start_time": "2022-12-27T10:21:04.826Z"
      },
      {
        "duration": 11,
        "start_time": "2022-12-27T10:21:07.855Z"
      },
      {
        "duration": 25,
        "start_time": "2022-12-27T10:21:14.902Z"
      },
      {
        "duration": 17,
        "start_time": "2022-12-27T10:23:03.722Z"
      },
      {
        "duration": 43,
        "start_time": "2022-12-27T10:26:20.312Z"
      },
      {
        "duration": 8,
        "start_time": "2022-12-27T10:26:46.715Z"
      },
      {
        "duration": 51,
        "start_time": "2022-12-27T10:26:51.094Z"
      },
      {
        "duration": 33,
        "start_time": "2022-12-27T10:28:08.356Z"
      },
      {
        "duration": 44,
        "start_time": "2022-12-27T10:28:23.237Z"
      },
      {
        "duration": 16,
        "start_time": "2022-12-27T10:29:58.133Z"
      },
      {
        "duration": 32,
        "start_time": "2022-12-27T10:32:47.845Z"
      },
      {
        "duration": 1154,
        "start_time": "2022-12-27T10:33:02.693Z"
      },
      {
        "duration": 7,
        "start_time": "2022-12-27T10:33:33.441Z"
      },
      {
        "duration": 5,
        "start_time": "2022-12-27T10:33:47.731Z"
      },
      {
        "duration": 10,
        "start_time": "2022-12-27T10:34:16.003Z"
      },
      {
        "duration": 15,
        "start_time": "2022-12-27T10:34:52.338Z"
      },
      {
        "duration": 24,
        "start_time": "2022-12-27T10:35:05.781Z"
      },
      {
        "duration": 43,
        "start_time": "2022-12-27T10:37:02.331Z"
      },
      {
        "duration": 10,
        "start_time": "2022-12-27T10:38:05.025Z"
      },
      {
        "duration": 55,
        "start_time": "2022-12-27T10:51:43.656Z"
      },
      {
        "duration": 1171,
        "start_time": "2022-12-27T10:58:09.592Z"
      },
      {
        "duration": 3,
        "start_time": "2022-12-27T10:58:14.156Z"
      },
      {
        "duration": 153,
        "start_time": "2022-12-27T10:58:14.161Z"
      },
      {
        "duration": 9,
        "start_time": "2022-12-27T10:58:14.315Z"
      },
      {
        "duration": 22,
        "start_time": "2022-12-27T10:58:14.325Z"
      },
      {
        "duration": 5,
        "start_time": "2022-12-27T10:58:14.350Z"
      },
      {
        "duration": 23,
        "start_time": "2022-12-27T10:58:14.356Z"
      },
      {
        "duration": 28,
        "start_time": "2022-12-27T10:58:14.381Z"
      },
      {
        "duration": 28,
        "start_time": "2022-12-27T10:58:14.411Z"
      },
      {
        "duration": 63,
        "start_time": "2022-12-27T10:58:14.440Z"
      },
      {
        "duration": 0,
        "start_time": "2022-12-27T10:58:14.504Z"
      },
      {
        "duration": 0,
        "start_time": "2022-12-27T10:58:14.505Z"
      },
      {
        "duration": 0,
        "start_time": "2022-12-27T10:58:14.506Z"
      },
      {
        "duration": 0,
        "start_time": "2022-12-27T10:58:14.507Z"
      },
      {
        "duration": 0,
        "start_time": "2022-12-27T10:58:14.508Z"
      },
      {
        "duration": 0,
        "start_time": "2022-12-27T10:58:14.509Z"
      },
      {
        "duration": 0,
        "start_time": "2022-12-27T10:58:14.510Z"
      },
      {
        "duration": 0,
        "start_time": "2022-12-27T10:58:14.511Z"
      },
      {
        "duration": 67,
        "start_time": "2022-12-27T10:58:27.592Z"
      },
      {
        "duration": 64,
        "start_time": "2022-12-27T10:58:27.661Z"
      },
      {
        "duration": 12,
        "start_time": "2022-12-27T10:58:27.727Z"
      },
      {
        "duration": 992,
        "start_time": "2022-12-27T10:58:27.740Z"
      },
      {
        "duration": 58,
        "start_time": "2022-12-27T10:58:28.735Z"
      },
      {
        "duration": 48,
        "start_time": "2022-12-27T10:58:28.795Z"
      },
      {
        "duration": 1237,
        "start_time": "2022-12-27T10:58:28.845Z"
      },
      {
        "duration": 0,
        "start_time": "2022-12-27T10:58:30.084Z"
      },
      {
        "duration": 60,
        "start_time": "2022-12-27T10:58:41.432Z"
      },
      {
        "duration": 59,
        "start_time": "2022-12-27T10:58:50.864Z"
      },
      {
        "duration": 12,
        "start_time": "2022-12-27T11:03:55.529Z"
      },
      {
        "duration": 31,
        "start_time": "2022-12-27T11:04:06.073Z"
      },
      {
        "duration": 1220,
        "start_time": "2022-12-27T13:12:13.281Z"
      },
      {
        "duration": 509,
        "start_time": "2022-12-27T13:12:14.502Z"
      },
      {
        "duration": 13,
        "start_time": "2022-12-27T13:12:15.013Z"
      },
      {
        "duration": 25,
        "start_time": "2022-12-27T13:12:15.027Z"
      },
      {
        "duration": 16,
        "start_time": "2022-12-27T13:12:15.055Z"
      },
      {
        "duration": 13,
        "start_time": "2022-12-27T13:12:15.072Z"
      },
      {
        "duration": 20,
        "start_time": "2022-12-27T13:12:15.087Z"
      },
      {
        "duration": 31,
        "start_time": "2022-12-27T13:12:15.108Z"
      },
      {
        "duration": 67,
        "start_time": "2022-12-27T13:12:15.141Z"
      },
      {
        "duration": 82,
        "start_time": "2022-12-27T13:12:15.209Z"
      },
      {
        "duration": 19,
        "start_time": "2022-12-27T13:12:15.292Z"
      },
      {
        "duration": 1053,
        "start_time": "2022-12-27T13:12:15.313Z"
      },
      {
        "duration": 43,
        "start_time": "2022-12-27T13:12:16.368Z"
      },
      {
        "duration": 44,
        "start_time": "2022-12-27T13:12:16.413Z"
      },
      {
        "duration": 62,
        "start_time": "2022-12-27T13:12:16.476Z"
      },
      {
        "duration": 177,
        "start_time": "2022-12-27T13:12:16.539Z"
      },
      {
        "duration": 196,
        "start_time": "2022-12-27T13:19:34.520Z"
      },
      {
        "duration": 24,
        "start_time": "2022-12-27T13:25:10.591Z"
      },
      {
        "duration": 40,
        "start_time": "2022-12-27T13:25:27.497Z"
      },
      {
        "duration": 21,
        "start_time": "2022-12-27T13:25:38.994Z"
      },
      {
        "duration": 7,
        "start_time": "2022-12-27T13:28:09.361Z"
      },
      {
        "duration": 6,
        "start_time": "2022-12-27T13:28:28.611Z"
      },
      {
        "duration": 4,
        "start_time": "2022-12-27T13:29:17.080Z"
      },
      {
        "duration": 5,
        "start_time": "2022-12-27T13:29:51.895Z"
      },
      {
        "duration": 3,
        "start_time": "2022-12-27T13:29:58.214Z"
      },
      {
        "duration": 9,
        "start_time": "2022-12-27T13:36:30.254Z"
      },
      {
        "duration": 8,
        "start_time": "2022-12-27T13:36:32.187Z"
      },
      {
        "duration": 9,
        "start_time": "2022-12-27T13:37:29.744Z"
      },
      {
        "duration": 10,
        "start_time": "2022-12-27T13:38:05.530Z"
      },
      {
        "duration": 10,
        "start_time": "2022-12-27T13:38:09.411Z"
      },
      {
        "duration": 10,
        "start_time": "2022-12-27T13:38:11.715Z"
      },
      {
        "duration": 14,
        "start_time": "2022-12-27T13:38:14.806Z"
      },
      {
        "duration": 6,
        "start_time": "2022-12-27T13:39:23.458Z"
      },
      {
        "duration": 8,
        "start_time": "2022-12-27T13:39:53.613Z"
      },
      {
        "duration": 4,
        "start_time": "2022-12-27T13:41:16.432Z"
      },
      {
        "duration": 654,
        "start_time": "2022-12-27T13:42:08.457Z"
      },
      {
        "duration": 6,
        "start_time": "2022-12-27T13:42:26.245Z"
      },
      {
        "duration": 5,
        "start_time": "2022-12-27T13:42:50.575Z"
      },
      {
        "duration": 6,
        "start_time": "2022-12-27T13:43:15.995Z"
      },
      {
        "duration": 7,
        "start_time": "2022-12-27T13:43:32.176Z"
      },
      {
        "duration": 9,
        "start_time": "2022-12-27T13:43:46.178Z"
      },
      {
        "duration": 6,
        "start_time": "2022-12-27T13:44:56.238Z"
      },
      {
        "duration": 7,
        "start_time": "2022-12-27T13:45:06.057Z"
      },
      {
        "duration": 9,
        "start_time": "2022-12-27T13:45:13.243Z"
      },
      {
        "duration": 281,
        "start_time": "2022-12-27T13:46:13.918Z"
      },
      {
        "duration": 4,
        "start_time": "2022-12-27T13:49:52.371Z"
      },
      {
        "duration": 25,
        "start_time": "2022-12-27T13:51:05.937Z"
      },
      {
        "duration": 63,
        "start_time": "2022-12-27T13:51:42.914Z"
      },
      {
        "duration": 24,
        "start_time": "2022-12-27T13:51:59.502Z"
      },
      {
        "duration": 7,
        "start_time": "2022-12-27T13:54:41.700Z"
      },
      {
        "duration": 4,
        "start_time": "2022-12-27T13:55:37.390Z"
      },
      {
        "duration": 5,
        "start_time": "2022-12-27T13:55:51.708Z"
      },
      {
        "duration": 22,
        "start_time": "2022-12-27T13:59:26.746Z"
      },
      {
        "duration": 6,
        "start_time": "2022-12-27T13:59:41.202Z"
      },
      {
        "duration": 20,
        "start_time": "2022-12-27T14:00:14.034Z"
      },
      {
        "duration": 4,
        "start_time": "2022-12-27T14:00:56.358Z"
      },
      {
        "duration": 722,
        "start_time": "2022-12-27T14:01:19.290Z"
      },
      {
        "duration": 4,
        "start_time": "2022-12-27T14:01:31.241Z"
      },
      {
        "duration": 7,
        "start_time": "2022-12-27T14:01:33.117Z"
      },
      {
        "duration": 6,
        "start_time": "2022-12-27T14:01:38.064Z"
      },
      {
        "duration": 9,
        "start_time": "2022-12-27T14:01:38.937Z"
      },
      {
        "duration": 348,
        "start_time": "2022-12-27T14:01:45.386Z"
      },
      {
        "duration": 10,
        "start_time": "2022-12-27T14:05:06.202Z"
      },
      {
        "duration": 61,
        "start_time": "2022-12-27T14:06:05.128Z"
      },
      {
        "duration": 22,
        "start_time": "2022-12-27T14:06:38.283Z"
      },
      {
        "duration": 999,
        "start_time": "2022-12-27T14:08:43.832Z"
      },
      {
        "duration": 12,
        "start_time": "2022-12-27T14:13:39.313Z"
      },
      {
        "duration": 12,
        "start_time": "2022-12-27T14:13:51.884Z"
      },
      {
        "duration": 3,
        "start_time": "2022-12-27T14:24:58.350Z"
      },
      {
        "duration": 151,
        "start_time": "2022-12-27T14:24:58.355Z"
      },
      {
        "duration": 9,
        "start_time": "2022-12-27T14:24:58.507Z"
      },
      {
        "duration": 24,
        "start_time": "2022-12-27T14:24:58.517Z"
      },
      {
        "duration": 7,
        "start_time": "2022-12-27T14:24:58.543Z"
      },
      {
        "duration": 11,
        "start_time": "2022-12-27T14:24:58.552Z"
      },
      {
        "duration": 26,
        "start_time": "2022-12-27T14:24:58.565Z"
      },
      {
        "duration": 20,
        "start_time": "2022-12-27T14:24:58.592Z"
      },
      {
        "duration": 69,
        "start_time": "2022-12-27T14:24:58.614Z"
      },
      {
        "duration": 57,
        "start_time": "2022-12-27T14:24:58.684Z"
      },
      {
        "duration": 10,
        "start_time": "2022-12-27T14:24:58.743Z"
      },
      {
        "duration": 999,
        "start_time": "2022-12-27T14:24:58.755Z"
      },
      {
        "duration": 51,
        "start_time": "2022-12-27T14:24:59.756Z"
      },
      {
        "duration": 44,
        "start_time": "2022-12-27T14:24:59.809Z"
      },
      {
        "duration": 77,
        "start_time": "2022-12-27T14:24:59.855Z"
      },
      {
        "duration": 20,
        "start_time": "2022-12-27T14:24:59.933Z"
      },
      {
        "duration": 23,
        "start_time": "2022-12-27T14:24:59.954Z"
      },
      {
        "duration": 8,
        "start_time": "2022-12-27T14:24:59.978Z"
      },
      {
        "duration": 6,
        "start_time": "2022-12-27T14:25:10.964Z"
      },
      {
        "duration": 15,
        "start_time": "2022-12-27T14:25:15.724Z"
      },
      {
        "duration": 5,
        "start_time": "2022-12-27T14:25:20.084Z"
      },
      {
        "duration": 4,
        "start_time": "2022-12-27T14:25:36.094Z"
      },
      {
        "duration": 163,
        "start_time": "2022-12-27T14:25:36.101Z"
      },
      {
        "duration": 9,
        "start_time": "2022-12-27T14:25:36.265Z"
      },
      {
        "duration": 23,
        "start_time": "2022-12-27T14:25:36.276Z"
      },
      {
        "duration": 5,
        "start_time": "2022-12-27T14:25:36.301Z"
      },
      {
        "duration": 11,
        "start_time": "2022-12-27T14:25:36.307Z"
      },
      {
        "duration": 16,
        "start_time": "2022-12-27T14:25:36.320Z"
      },
      {
        "duration": 46,
        "start_time": "2022-12-27T14:25:36.337Z"
      },
      {
        "duration": 61,
        "start_time": "2022-12-27T14:25:36.385Z"
      },
      {
        "duration": 82,
        "start_time": "2022-12-27T14:25:36.447Z"
      },
      {
        "duration": 12,
        "start_time": "2022-12-27T14:25:36.531Z"
      },
      {
        "duration": 1141,
        "start_time": "2022-12-27T14:25:36.545Z"
      },
      {
        "duration": 47,
        "start_time": "2022-12-27T14:25:37.688Z"
      },
      {
        "duration": 74,
        "start_time": "2022-12-27T14:25:37.739Z"
      },
      {
        "duration": 79,
        "start_time": "2022-12-27T14:25:37.815Z"
      },
      {
        "duration": 25,
        "start_time": "2022-12-27T14:25:37.896Z"
      },
      {
        "duration": 10,
        "start_time": "2022-12-27T14:25:37.923Z"
      },
      {
        "duration": 9,
        "start_time": "2022-12-27T14:25:37.935Z"
      },
      {
        "duration": 15,
        "start_time": "2022-12-27T14:25:48.975Z"
      },
      {
        "duration": 13,
        "start_time": "2022-12-27T14:25:53.654Z"
      },
      {
        "duration": 24,
        "start_time": "2022-12-27T14:25:55.346Z"
      },
      {
        "duration": 4,
        "start_time": "2022-12-27T14:26:07.798Z"
      },
      {
        "duration": 7,
        "start_time": "2022-12-27T14:26:08.958Z"
      },
      {
        "duration": 5,
        "start_time": "2022-12-27T14:26:10.055Z"
      },
      {
        "duration": 12,
        "start_time": "2022-12-27T14:26:14.850Z"
      },
      {
        "duration": 323,
        "start_time": "2022-12-27T14:26:15.035Z"
      },
      {
        "duration": 13,
        "start_time": "2022-12-27T14:26:23.142Z"
      },
      {
        "duration": 916,
        "start_time": "2022-12-27T14:26:47.437Z"
      },
      {
        "duration": 8,
        "start_time": "2022-12-27T14:26:57.122Z"
      },
      {
        "duration": 242,
        "start_time": "2022-12-27T14:26:57.608Z"
      },
      {
        "duration": 933,
        "start_time": "2022-12-27T14:27:00.848Z"
      },
      {
        "duration": 10,
        "start_time": "2022-12-27T14:27:14.473Z"
      },
      {
        "duration": 35,
        "start_time": "2022-12-27T14:29:09.374Z"
      },
      {
        "duration": 4,
        "start_time": "2022-12-27T14:29:28.469Z"
      },
      {
        "duration": 151,
        "start_time": "2022-12-27T14:29:28.475Z"
      },
      {
        "duration": 9,
        "start_time": "2022-12-27T14:29:28.627Z"
      },
      {
        "duration": 18,
        "start_time": "2022-12-27T14:29:28.639Z"
      },
      {
        "duration": 17,
        "start_time": "2022-12-27T14:29:28.659Z"
      },
      {
        "duration": 6,
        "start_time": "2022-12-27T14:29:28.677Z"
      },
      {
        "duration": 17,
        "start_time": "2022-12-27T14:29:28.685Z"
      },
      {
        "duration": 19,
        "start_time": "2022-12-27T14:29:28.704Z"
      },
      {
        "duration": 80,
        "start_time": "2022-12-27T14:29:28.726Z"
      },
      {
        "duration": 49,
        "start_time": "2022-12-27T14:29:28.807Z"
      },
      {
        "duration": 23,
        "start_time": "2022-12-27T14:29:28.858Z"
      },
      {
        "duration": 957,
        "start_time": "2022-12-27T14:29:28.882Z"
      },
      {
        "duration": 49,
        "start_time": "2022-12-27T14:29:29.840Z"
      },
      {
        "duration": 43,
        "start_time": "2022-12-27T14:29:29.891Z"
      },
      {
        "duration": 75,
        "start_time": "2022-12-27T14:29:29.936Z"
      },
      {
        "duration": 41,
        "start_time": "2022-12-27T14:29:34.056Z"
      },
      {
        "duration": 408,
        "start_time": "2022-12-27T14:31:39.494Z"
      },
      {
        "duration": 10,
        "start_time": "2022-12-27T14:34:17.969Z"
      },
      {
        "duration": 10,
        "start_time": "2022-12-27T14:35:25.617Z"
      },
      {
        "duration": 15,
        "start_time": "2022-12-27T14:35:42.805Z"
      },
      {
        "duration": 7,
        "start_time": "2022-12-27T14:36:11.330Z"
      },
      {
        "duration": 5,
        "start_time": "2022-12-27T14:36:31.417Z"
      },
      {
        "duration": 11,
        "start_time": "2022-12-27T14:36:50.823Z"
      },
      {
        "duration": 9,
        "start_time": "2022-12-27T14:36:59.914Z"
      },
      {
        "duration": 11,
        "start_time": "2022-12-27T14:37:04.067Z"
      },
      {
        "duration": 51,
        "start_time": "2022-12-27T14:43:30.218Z"
      },
      {
        "duration": 56,
        "start_time": "2022-12-27T14:43:36.631Z"
      },
      {
        "duration": 50,
        "start_time": "2022-12-27T14:43:48.882Z"
      },
      {
        "duration": 278,
        "start_time": "2022-12-27T14:50:45.884Z"
      },
      {
        "duration": 27,
        "start_time": "2022-12-27T14:51:29.117Z"
      },
      {
        "duration": 25,
        "start_time": "2022-12-27T14:52:05.540Z"
      },
      {
        "duration": 48,
        "start_time": "2022-12-27T14:52:24.464Z"
      },
      {
        "duration": 49,
        "start_time": "2022-12-27T14:52:34.495Z"
      },
      {
        "duration": 238,
        "start_time": "2022-12-27T14:52:43.465Z"
      },
      {
        "duration": 46,
        "start_time": "2022-12-27T14:53:09.054Z"
      },
      {
        "duration": 25,
        "start_time": "2022-12-27T14:53:36.762Z"
      },
      {
        "duration": 57,
        "start_time": "2022-12-27T14:54:29.184Z"
      },
      {
        "duration": 63,
        "start_time": "2022-12-27T14:55:03.091Z"
      },
      {
        "duration": 59,
        "start_time": "2022-12-27T14:55:29.428Z"
      },
      {
        "duration": 47,
        "start_time": "2022-12-27T14:55:50.683Z"
      },
      {
        "duration": 66,
        "start_time": "2022-12-27T14:57:17.721Z"
      },
      {
        "duration": 24,
        "start_time": "2022-12-27T14:57:50.678Z"
      },
      {
        "duration": 56,
        "start_time": "2022-12-27T14:58:59.426Z"
      },
      {
        "duration": 54,
        "start_time": "2022-12-27T14:59:28.601Z"
      },
      {
        "duration": 55,
        "start_time": "2022-12-27T14:59:41.018Z"
      },
      {
        "duration": 63,
        "start_time": "2022-12-27T15:00:04.451Z"
      },
      {
        "duration": 60,
        "start_time": "2022-12-27T15:00:16.958Z"
      },
      {
        "duration": 5,
        "start_time": "2022-12-27T15:01:35.308Z"
      },
      {
        "duration": 6,
        "start_time": "2022-12-27T15:01:43.232Z"
      },
      {
        "duration": 10,
        "start_time": "2022-12-27T15:02:55.018Z"
      },
      {
        "duration": 12,
        "start_time": "2022-12-27T15:05:46.479Z"
      },
      {
        "duration": 4,
        "start_time": "2022-12-27T15:05:47.863Z"
      },
      {
        "duration": 30,
        "start_time": "2022-12-27T15:05:53.521Z"
      },
      {
        "duration": 4,
        "start_time": "2022-12-27T15:06:18.399Z"
      },
      {
        "duration": 7,
        "start_time": "2022-12-27T15:06:19.453Z"
      },
      {
        "duration": 7,
        "start_time": "2022-12-27T15:06:21.277Z"
      },
      {
        "duration": 11,
        "start_time": "2022-12-27T15:06:21.851Z"
      },
      {
        "duration": 269,
        "start_time": "2022-12-27T15:06:25.582Z"
      },
      {
        "duration": 6,
        "start_time": "2022-12-27T15:07:24.989Z"
      },
      {
        "duration": 15,
        "start_time": "2022-12-27T15:07:38.569Z"
      },
      {
        "duration": 48,
        "start_time": "2022-12-27T15:11:28.658Z"
      },
      {
        "duration": 4,
        "start_time": "2022-12-27T15:14:01.593Z"
      },
      {
        "duration": 205,
        "start_time": "2022-12-27T15:14:01.598Z"
      },
      {
        "duration": 10,
        "start_time": "2022-12-27T15:14:01.805Z"
      },
      {
        "duration": 36,
        "start_time": "2022-12-27T15:14:01.817Z"
      },
      {
        "duration": 7,
        "start_time": "2022-12-27T15:14:01.855Z"
      },
      {
        "duration": 23,
        "start_time": "2022-12-27T15:14:01.863Z"
      },
      {
        "duration": 66,
        "start_time": "2022-12-27T15:14:01.889Z"
      },
      {
        "duration": 26,
        "start_time": "2022-12-27T15:14:01.956Z"
      },
      {
        "duration": 72,
        "start_time": "2022-12-27T15:14:01.984Z"
      },
      {
        "duration": 52,
        "start_time": "2022-12-27T15:14:02.057Z"
      },
      {
        "duration": 11,
        "start_time": "2022-12-27T15:14:02.110Z"
      },
      {
        "duration": 1062,
        "start_time": "2022-12-27T15:14:02.122Z"
      },
      {
        "duration": 47,
        "start_time": "2022-12-27T15:14:03.186Z"
      },
      {
        "duration": 65,
        "start_time": "2022-12-27T15:14:03.235Z"
      },
      {
        "duration": 76,
        "start_time": "2022-12-27T15:14:03.302Z"
      },
      {
        "duration": 7,
        "start_time": "2022-12-27T15:14:03.380Z"
      },
      {
        "duration": 52,
        "start_time": "2022-12-27T15:14:03.389Z"
      },
      {
        "duration": 49,
        "start_time": "2022-12-27T17:51:16.192Z"
      },
      {
        "duration": 1193,
        "start_time": "2022-12-27T17:51:19.631Z"
      },
      {
        "duration": 637,
        "start_time": "2022-12-27T17:51:20.826Z"
      },
      {
        "duration": 18,
        "start_time": "2022-12-27T17:51:21.465Z"
      },
      {
        "duration": 29,
        "start_time": "2022-12-27T17:51:21.484Z"
      },
      {
        "duration": 7,
        "start_time": "2022-12-27T17:51:21.515Z"
      },
      {
        "duration": 9,
        "start_time": "2022-12-27T17:51:21.523Z"
      },
      {
        "duration": 20,
        "start_time": "2022-12-27T17:51:21.533Z"
      },
      {
        "duration": 19,
        "start_time": "2022-12-27T17:51:21.555Z"
      },
      {
        "duration": 80,
        "start_time": "2022-12-27T17:51:21.576Z"
      },
      {
        "duration": 81,
        "start_time": "2022-12-27T17:51:21.658Z"
      },
      {
        "duration": 15,
        "start_time": "2022-12-27T17:51:21.742Z"
      },
      {
        "duration": 1133,
        "start_time": "2022-12-27T17:51:21.759Z"
      },
      {
        "duration": 45,
        "start_time": "2022-12-27T17:51:22.897Z"
      },
      {
        "duration": 56,
        "start_time": "2022-12-27T17:51:22.945Z"
      },
      {
        "duration": 25,
        "start_time": "2022-12-27T17:51:23.003Z"
      },
      {
        "duration": 11,
        "start_time": "2022-12-27T17:51:23.029Z"
      },
      {
        "duration": 63,
        "start_time": "2022-12-27T17:51:23.041Z"
      },
      {
        "duration": 4,
        "start_time": "2022-12-27T17:51:23.106Z"
      },
      {
        "duration": 277,
        "start_time": "2022-12-27T17:51:23.111Z"
      },
      {
        "duration": 14,
        "start_time": "2022-12-27T17:51:23.390Z"
      },
      {
        "duration": 5,
        "start_time": "2022-12-27T17:51:23.405Z"
      },
      {
        "duration": 9,
        "start_time": "2022-12-27T17:51:23.411Z"
      },
      {
        "duration": 7,
        "start_time": "2022-12-27T17:51:23.421Z"
      },
      {
        "duration": 14,
        "start_time": "2022-12-27T17:51:23.430Z"
      },
      {
        "duration": 5,
        "start_time": "2022-12-27T17:51:23.445Z"
      },
      {
        "duration": 53,
        "start_time": "2022-12-27T17:51:23.451Z"
      },
      {
        "duration": 4,
        "start_time": "2022-12-27T17:51:23.505Z"
      },
      {
        "duration": 10,
        "start_time": "2022-12-27T17:51:23.510Z"
      },
      {
        "duration": 6,
        "start_time": "2022-12-27T17:51:23.522Z"
      },
      {
        "duration": 17,
        "start_time": "2022-12-27T17:51:23.530Z"
      },
      {
        "duration": 8,
        "start_time": "2022-12-27T17:51:23.549Z"
      },
      {
        "duration": 280,
        "start_time": "2022-12-27T17:51:23.558Z"
      },
      {
        "duration": 19,
        "start_time": "2022-12-27T17:51:23.840Z"
      },
      {
        "duration": 1012,
        "start_time": "2022-12-27T17:51:23.861Z"
      },
      {
        "duration": 27,
        "start_time": "2022-12-27T17:51:24.875Z"
      },
      {
        "duration": 183,
        "start_time": "2022-12-27T17:51:24.903Z"
      },
      {
        "duration": 176,
        "start_time": "2022-12-27T17:52:24.592Z"
      },
      {
        "duration": 112,
        "start_time": "2022-12-27T17:54:08.111Z"
      },
      {
        "duration": 2,
        "start_time": "2022-12-27T17:54:54.038Z"
      },
      {
        "duration": 5,
        "start_time": "2022-12-27T17:55:09.606Z"
      },
      {
        "duration": 25,
        "start_time": "2022-12-27T17:55:15.355Z"
      },
      {
        "duration": 5,
        "start_time": "2022-12-27T17:55:18.279Z"
      },
      {
        "duration": 110,
        "start_time": "2022-12-27T17:55:37.686Z"
      },
      {
        "duration": 140,
        "start_time": "2022-12-27T17:55:54.004Z"
      },
      {
        "duration": 154,
        "start_time": "2022-12-27T17:56:10.945Z"
      },
      {
        "duration": 6,
        "start_time": "2022-12-27T17:59:49.223Z"
      },
      {
        "duration": 5,
        "start_time": "2022-12-27T18:03:52.229Z"
      },
      {
        "duration": 5,
        "start_time": "2022-12-27T18:04:04.978Z"
      },
      {
        "duration": 16,
        "start_time": "2022-12-27T18:06:01.542Z"
      },
      {
        "duration": 8,
        "start_time": "2022-12-27T18:06:04.130Z"
      },
      {
        "duration": 42,
        "start_time": "2022-12-27T18:07:41.775Z"
      },
      {
        "duration": 3,
        "start_time": "2022-12-27T18:07:57.039Z"
      },
      {
        "duration": 157,
        "start_time": "2022-12-27T18:07:57.044Z"
      },
      {
        "duration": 10,
        "start_time": "2022-12-27T18:07:57.203Z"
      },
      {
        "duration": 22,
        "start_time": "2022-12-27T18:07:57.215Z"
      },
      {
        "duration": 5,
        "start_time": "2022-12-27T18:07:57.239Z"
      },
      {
        "duration": 8,
        "start_time": "2022-12-27T18:07:57.245Z"
      },
      {
        "duration": 17,
        "start_time": "2022-12-27T18:07:57.255Z"
      },
      {
        "duration": 44,
        "start_time": "2022-12-27T18:07:57.274Z"
      },
      {
        "duration": 161,
        "start_time": "2022-12-27T18:07:57.320Z"
      },
      {
        "duration": 64,
        "start_time": "2022-12-27T18:07:57.483Z"
      },
      {
        "duration": 11,
        "start_time": "2022-12-27T18:07:57.549Z"
      },
      {
        "duration": 1041,
        "start_time": "2022-12-27T18:07:57.562Z"
      },
      {
        "duration": 51,
        "start_time": "2022-12-27T18:07:58.605Z"
      },
      {
        "duration": 71,
        "start_time": "2022-12-27T18:07:58.659Z"
      },
      {
        "duration": 26,
        "start_time": "2022-12-27T18:07:58.732Z"
      },
      {
        "duration": 178,
        "start_time": "2022-12-27T18:07:58.759Z"
      },
      {
        "duration": 4,
        "start_time": "2022-12-27T18:07:58.939Z"
      },
      {
        "duration": 9,
        "start_time": "2022-12-27T18:07:58.944Z"
      },
      {
        "duration": 9,
        "start_time": "2022-12-27T18:07:58.955Z"
      },
      {
        "duration": 26,
        "start_time": "2022-12-27T18:07:58.966Z"
      },
      {
        "duration": 6,
        "start_time": "2022-12-27T18:07:58.997Z"
      },
      {
        "duration": 41,
        "start_time": "2022-12-27T18:12:53.871Z"
      },
      {
        "duration": 9,
        "start_time": "2022-12-27T18:13:00.204Z"
      },
      {
        "duration": 6,
        "start_time": "2022-12-27T18:13:01.054Z"
      },
      {
        "duration": 8,
        "start_time": "2022-12-27T18:13:01.648Z"
      },
      {
        "duration": 8,
        "start_time": "2022-12-27T18:13:05.925Z"
      },
      {
        "duration": 12,
        "start_time": "2022-12-27T18:13:07.681Z"
      },
      {
        "duration": 4,
        "start_time": "2022-12-27T18:13:17.291Z"
      },
      {
        "duration": 18,
        "start_time": "2022-12-27T18:13:19.604Z"
      },
      {
        "duration": 12,
        "start_time": "2022-12-27T18:13:27.437Z"
      },
      {
        "duration": 5,
        "start_time": "2022-12-27T18:13:30.059Z"
      },
      {
        "duration": 19,
        "start_time": "2022-12-27T18:13:31.585Z"
      },
      {
        "duration": 230,
        "start_time": "2022-12-27T18:13:35.687Z"
      },
      {
        "duration": 246,
        "start_time": "2022-12-27T18:14:00.836Z"
      },
      {
        "duration": 39,
        "start_time": "2022-12-27T18:14:30.794Z"
      },
      {
        "duration": 3,
        "start_time": "2022-12-27T18:18:41.264Z"
      },
      {
        "duration": 9,
        "start_time": "2022-12-27T18:18:42.128Z"
      },
      {
        "duration": 7,
        "start_time": "2022-12-27T18:18:42.618Z"
      },
      {
        "duration": 13,
        "start_time": "2022-12-27T18:18:43.041Z"
      },
      {
        "duration": 17,
        "start_time": "2022-12-27T18:19:07.242Z"
      },
      {
        "duration": 10,
        "start_time": "2022-12-27T18:19:07.954Z"
      },
      {
        "duration": 26,
        "start_time": "2022-12-27T18:19:21.639Z"
      },
      {
        "duration": 347,
        "start_time": "2022-12-27T18:19:39.207Z"
      },
      {
        "duration": 34,
        "start_time": "2022-12-27T18:20:03.248Z"
      },
      {
        "duration": 3,
        "start_time": "2022-12-27T18:20:18.043Z"
      },
      {
        "duration": 175,
        "start_time": "2022-12-27T18:20:18.048Z"
      },
      {
        "duration": 14,
        "start_time": "2022-12-27T18:20:18.225Z"
      },
      {
        "duration": 45,
        "start_time": "2022-12-27T18:20:18.241Z"
      },
      {
        "duration": 10,
        "start_time": "2022-12-27T18:20:18.290Z"
      },
      {
        "duration": 37,
        "start_time": "2022-12-27T18:20:18.302Z"
      },
      {
        "duration": 36,
        "start_time": "2022-12-27T18:20:18.341Z"
      },
      {
        "duration": 29,
        "start_time": "2022-12-27T18:20:18.379Z"
      },
      {
        "duration": 70,
        "start_time": "2022-12-27T18:20:18.410Z"
      },
      {
        "duration": 78,
        "start_time": "2022-12-27T18:20:18.482Z"
      },
      {
        "duration": 12,
        "start_time": "2022-12-27T18:20:18.562Z"
      },
      {
        "duration": 1097,
        "start_time": "2022-12-27T18:20:18.575Z"
      },
      {
        "duration": 57,
        "start_time": "2022-12-27T18:20:19.674Z"
      },
      {
        "duration": 46,
        "start_time": "2022-12-27T18:20:19.735Z"
      },
      {
        "duration": 47,
        "start_time": "2022-12-27T18:20:19.782Z"
      },
      {
        "duration": 198,
        "start_time": "2022-12-27T18:20:19.831Z"
      },
      {
        "duration": 9,
        "start_time": "2022-12-27T18:20:20.032Z"
      },
      {
        "duration": 7,
        "start_time": "2022-12-27T18:20:20.043Z"
      },
      {
        "duration": 14,
        "start_time": "2022-12-27T18:20:20.052Z"
      },
      {
        "duration": 18,
        "start_time": "2022-12-27T18:20:20.068Z"
      },
      {
        "duration": 12,
        "start_time": "2022-12-27T18:20:20.097Z"
      },
      {
        "duration": 72,
        "start_time": "2022-12-27T18:20:20.111Z"
      },
      {
        "duration": 3,
        "start_time": "2022-12-27T18:20:20.185Z"
      },
      {
        "duration": 14,
        "start_time": "2022-12-27T18:20:20.190Z"
      },
      {
        "duration": 9,
        "start_time": "2022-12-27T18:20:20.206Z"
      },
      {
        "duration": 19,
        "start_time": "2022-12-27T18:20:20.217Z"
      },
      {
        "duration": 16,
        "start_time": "2022-12-27T18:20:20.238Z"
      },
      {
        "duration": 4,
        "start_time": "2022-12-27T18:20:37.036Z"
      },
      {
        "duration": 6,
        "start_time": "2022-12-27T18:20:37.724Z"
      },
      {
        "duration": 4,
        "start_time": "2022-12-27T18:21:43.690Z"
      },
      {
        "duration": 6,
        "start_time": "2022-12-27T18:21:44.515Z"
      },
      {
        "duration": 13,
        "start_time": "2022-12-27T18:22:14.093Z"
      },
      {
        "duration": 5,
        "start_time": "2022-12-27T18:22:16.073Z"
      },
      {
        "duration": 19,
        "start_time": "2022-12-27T18:22:18.446Z"
      },
      {
        "duration": 249,
        "start_time": "2022-12-27T18:22:26.698Z"
      },
      {
        "duration": 4,
        "start_time": "2022-12-27T18:22:36.341Z"
      },
      {
        "duration": 151,
        "start_time": "2022-12-27T18:22:36.347Z"
      },
      {
        "duration": 11,
        "start_time": "2022-12-27T18:22:36.499Z"
      },
      {
        "duration": 22,
        "start_time": "2022-12-27T18:22:36.512Z"
      },
      {
        "duration": 5,
        "start_time": "2022-12-27T18:22:36.536Z"
      },
      {
        "duration": 10,
        "start_time": "2022-12-27T18:22:36.542Z"
      },
      {
        "duration": 16,
        "start_time": "2022-12-27T18:22:36.553Z"
      },
      {
        "duration": 39,
        "start_time": "2022-12-27T18:22:36.570Z"
      },
      {
        "duration": 60,
        "start_time": "2022-12-27T18:22:36.611Z"
      },
      {
        "duration": 75,
        "start_time": "2022-12-27T18:22:36.673Z"
      },
      {
        "duration": 14,
        "start_time": "2022-12-27T18:22:36.750Z"
      },
      {
        "duration": 1081,
        "start_time": "2022-12-27T18:22:36.766Z"
      },
      {
        "duration": 51,
        "start_time": "2022-12-27T18:22:37.849Z"
      },
      {
        "duration": 51,
        "start_time": "2022-12-27T18:22:37.904Z"
      },
      {
        "duration": 44,
        "start_time": "2022-12-27T18:22:37.957Z"
      },
      {
        "duration": 168,
        "start_time": "2022-12-27T18:22:38.003Z"
      },
      {
        "duration": 5,
        "start_time": "2022-12-27T18:22:38.172Z"
      },
      {
        "duration": 15,
        "start_time": "2022-12-27T18:22:38.178Z"
      },
      {
        "duration": 6,
        "start_time": "2022-12-27T18:22:38.195Z"
      },
      {
        "duration": 19,
        "start_time": "2022-12-27T18:22:38.202Z"
      },
      {
        "duration": 8,
        "start_time": "2022-12-27T18:22:38.223Z"
      },
      {
        "duration": 42,
        "start_time": "2022-12-27T18:22:38.232Z"
      },
      {
        "duration": 23,
        "start_time": "2022-12-27T18:22:38.276Z"
      },
      {
        "duration": 16,
        "start_time": "2022-12-27T18:22:38.301Z"
      },
      {
        "duration": 15,
        "start_time": "2022-12-27T18:22:38.318Z"
      },
      {
        "duration": 23,
        "start_time": "2022-12-27T18:22:38.335Z"
      },
      {
        "duration": 7,
        "start_time": "2022-12-27T18:22:38.360Z"
      },
      {
        "duration": 12,
        "start_time": "2022-12-27T18:22:54.882Z"
      },
      {
        "duration": 4,
        "start_time": "2022-12-27T18:22:56.450Z"
      },
      {
        "duration": 18,
        "start_time": "2022-12-27T18:22:59.639Z"
      },
      {
        "duration": 336,
        "start_time": "2022-12-27T18:23:04.502Z"
      },
      {
        "duration": 39,
        "start_time": "2022-12-27T18:23:07.849Z"
      },
      {
        "duration": 12,
        "start_time": "2022-12-27T18:23:21.405Z"
      },
      {
        "duration": 5,
        "start_time": "2022-12-27T18:23:22.543Z"
      },
      {
        "duration": 19,
        "start_time": "2022-12-27T18:23:24.482Z"
      },
      {
        "duration": 253,
        "start_time": "2022-12-27T18:23:25.820Z"
      },
      {
        "duration": 37,
        "start_time": "2022-12-27T18:23:30.382Z"
      },
      {
        "duration": 11,
        "start_time": "2022-12-27T18:23:50.847Z"
      },
      {
        "duration": 5,
        "start_time": "2022-12-27T18:23:51.567Z"
      },
      {
        "duration": 17,
        "start_time": "2022-12-27T18:23:52.828Z"
      },
      {
        "duration": 236,
        "start_time": "2022-12-27T18:23:55.209Z"
      },
      {
        "duration": 36,
        "start_time": "2022-12-27T18:24:00.005Z"
      },
      {
        "duration": 11,
        "start_time": "2022-12-27T18:24:18.091Z"
      },
      {
        "duration": 4,
        "start_time": "2022-12-27T18:24:18.753Z"
      },
      {
        "duration": 17,
        "start_time": "2022-12-27T18:24:24.141Z"
      },
      {
        "duration": 228,
        "start_time": "2022-12-27T18:24:26.416Z"
      },
      {
        "duration": 33,
        "start_time": "2022-12-27T18:24:30.189Z"
      },
      {
        "duration": 3,
        "start_time": "2022-12-27T18:26:29.194Z"
      },
      {
        "duration": 162,
        "start_time": "2022-12-27T18:26:29.199Z"
      },
      {
        "duration": 9,
        "start_time": "2022-12-27T18:26:29.362Z"
      },
      {
        "duration": 32,
        "start_time": "2022-12-27T18:26:29.373Z"
      },
      {
        "duration": 6,
        "start_time": "2022-12-27T18:26:29.407Z"
      },
      {
        "duration": 6,
        "start_time": "2022-12-27T18:26:29.414Z"
      },
      {
        "duration": 22,
        "start_time": "2022-12-27T18:26:29.422Z"
      },
      {
        "duration": 18,
        "start_time": "2022-12-27T18:26:29.446Z"
      },
      {
        "duration": 75,
        "start_time": "2022-12-27T18:26:29.465Z"
      },
      {
        "duration": 63,
        "start_time": "2022-12-27T18:26:29.542Z"
      },
      {
        "duration": 10,
        "start_time": "2022-12-27T18:26:29.607Z"
      },
      {
        "duration": 1052,
        "start_time": "2022-12-27T18:26:29.618Z"
      },
      {
        "duration": 50,
        "start_time": "2022-12-27T18:26:30.672Z"
      },
      {
        "duration": 66,
        "start_time": "2022-12-27T18:26:30.726Z"
      },
      {
        "duration": 25,
        "start_time": "2022-12-27T18:26:30.794Z"
      },
      {
        "duration": 181,
        "start_time": "2022-12-27T18:26:30.821Z"
      },
      {
        "duration": 5,
        "start_time": "2022-12-27T18:26:31.004Z"
      },
      {
        "duration": 24,
        "start_time": "2022-12-27T18:26:31.011Z"
      },
      {
        "duration": 20,
        "start_time": "2022-12-27T18:26:31.036Z"
      },
      {
        "duration": 25,
        "start_time": "2022-12-27T18:26:31.057Z"
      },
      {
        "duration": 17,
        "start_time": "2022-12-27T18:26:31.083Z"
      },
      {
        "duration": 80,
        "start_time": "2022-12-27T18:26:31.101Z"
      },
      {
        "duration": 3,
        "start_time": "2022-12-27T18:26:31.183Z"
      },
      {
        "duration": 19,
        "start_time": "2022-12-27T18:26:31.187Z"
      },
      {
        "duration": 5,
        "start_time": "2022-12-27T18:26:31.208Z"
      },
      {
        "duration": 13,
        "start_time": "2022-12-27T18:26:31.215Z"
      },
      {
        "duration": 23,
        "start_time": "2022-12-27T18:26:31.229Z"
      },
      {
        "duration": 12,
        "start_time": "2022-12-27T18:26:37.923Z"
      },
      {
        "duration": 5,
        "start_time": "2022-12-27T18:26:41.924Z"
      },
      {
        "duration": 26,
        "start_time": "2022-12-27T18:26:44.609Z"
      },
      {
        "duration": 246,
        "start_time": "2022-12-27T18:26:46.895Z"
      },
      {
        "duration": 22,
        "start_time": "2022-12-27T18:37:43.024Z"
      },
      {
        "duration": 5,
        "start_time": "2022-12-27T18:38:35.144Z"
      },
      {
        "duration": 3,
        "start_time": "2022-12-27T18:38:40.194Z"
      },
      {
        "duration": 146,
        "start_time": "2022-12-27T18:38:40.201Z"
      },
      {
        "duration": 8,
        "start_time": "2022-12-27T18:38:40.349Z"
      },
      {
        "duration": 21,
        "start_time": "2022-12-27T18:38:40.358Z"
      },
      {
        "duration": 16,
        "start_time": "2022-12-27T18:38:40.381Z"
      },
      {
        "duration": 7,
        "start_time": "2022-12-27T18:38:40.399Z"
      },
      {
        "duration": 14,
        "start_time": "2022-12-27T18:38:40.407Z"
      },
      {
        "duration": 18,
        "start_time": "2022-12-27T18:38:40.423Z"
      },
      {
        "duration": 82,
        "start_time": "2022-12-27T18:38:40.443Z"
      },
      {
        "duration": 57,
        "start_time": "2022-12-27T18:38:40.526Z"
      },
      {
        "duration": 13,
        "start_time": "2022-12-27T18:38:40.596Z"
      },
      {
        "duration": 1058,
        "start_time": "2022-12-27T18:38:40.610Z"
      },
      {
        "duration": 52,
        "start_time": "2022-12-27T18:38:41.669Z"
      },
      {
        "duration": 48,
        "start_time": "2022-12-27T18:38:41.723Z"
      },
      {
        "duration": 43,
        "start_time": "2022-12-27T18:38:41.772Z"
      },
      {
        "duration": 170,
        "start_time": "2022-12-27T18:38:41.816Z"
      },
      {
        "duration": 5,
        "start_time": "2022-12-27T18:38:45.291Z"
      },
      {
        "duration": 5,
        "start_time": "2022-12-27T18:40:10.188Z"
      },
      {
        "duration": 5,
        "start_time": "2022-12-27T18:40:11.195Z"
      },
      {
        "duration": 13,
        "start_time": "2022-12-27T18:40:14.552Z"
      },
      {
        "duration": 310,
        "start_time": "2022-12-27T19:05:02.999Z"
      },
      {
        "duration": 3,
        "start_time": "2022-12-27T19:05:22.165Z"
      },
      {
        "duration": 163,
        "start_time": "2022-12-27T19:05:22.169Z"
      },
      {
        "duration": 9,
        "start_time": "2022-12-27T19:05:22.334Z"
      },
      {
        "duration": 27,
        "start_time": "2022-12-27T19:05:22.345Z"
      },
      {
        "duration": 7,
        "start_time": "2022-12-27T19:05:22.374Z"
      },
      {
        "duration": 21,
        "start_time": "2022-12-27T19:05:22.382Z"
      },
      {
        "duration": 42,
        "start_time": "2022-12-27T19:05:22.404Z"
      },
      {
        "duration": 33,
        "start_time": "2022-12-27T19:05:22.448Z"
      },
      {
        "duration": 68,
        "start_time": "2022-12-27T19:05:22.483Z"
      },
      {
        "duration": 66,
        "start_time": "2022-12-27T19:05:22.553Z"
      },
      {
        "duration": 12,
        "start_time": "2022-12-27T19:05:22.621Z"
      },
      {
        "duration": 1019,
        "start_time": "2022-12-27T19:05:22.635Z"
      },
      {
        "duration": 53,
        "start_time": "2022-12-27T19:05:23.657Z"
      },
      {
        "duration": 57,
        "start_time": "2022-12-27T19:05:23.711Z"
      },
      {
        "duration": 42,
        "start_time": "2022-12-27T19:05:23.770Z"
      },
      {
        "duration": 174,
        "start_time": "2022-12-27T19:05:23.813Z"
      },
      {
        "duration": 12,
        "start_time": "2022-12-27T19:05:23.989Z"
      },
      {
        "duration": 8,
        "start_time": "2022-12-27T19:05:24.003Z"
      },
      {
        "duration": 11,
        "start_time": "2022-12-27T19:05:24.012Z"
      },
      {
        "duration": 22,
        "start_time": "2022-12-27T19:05:24.025Z"
      },
      {
        "duration": 7,
        "start_time": "2022-12-27T19:05:24.049Z"
      },
      {
        "duration": 55,
        "start_time": "2022-12-27T19:05:24.058Z"
      },
      {
        "duration": 5,
        "start_time": "2022-12-27T19:05:24.114Z"
      },
      {
        "duration": 16,
        "start_time": "2022-12-27T19:05:24.120Z"
      },
      {
        "duration": 18,
        "start_time": "2022-12-27T19:05:24.137Z"
      },
      {
        "duration": 13,
        "start_time": "2022-12-27T19:05:24.156Z"
      },
      {
        "duration": 7,
        "start_time": "2022-12-27T19:05:24.171Z"
      },
      {
        "duration": 23,
        "start_time": "2022-12-27T19:05:24.179Z"
      },
      {
        "duration": 5,
        "start_time": "2022-12-27T19:05:24.204Z"
      },
      {
        "duration": 378,
        "start_time": "2022-12-27T19:05:38.498Z"
      },
      {
        "duration": 310,
        "start_time": "2022-12-27T19:06:27.732Z"
      },
      {
        "duration": 48,
        "start_time": "2022-12-27T19:08:22.465Z"
      },
      {
        "duration": 320,
        "start_time": "2022-12-27T19:09:51.038Z"
      },
      {
        "duration": 323,
        "start_time": "2022-12-27T19:09:56.163Z"
      },
      {
        "duration": 341,
        "start_time": "2022-12-27T19:11:35.198Z"
      },
      {
        "duration": 3,
        "start_time": "2022-12-27T19:11:53.900Z"
      },
      {
        "duration": 190,
        "start_time": "2022-12-27T19:11:53.906Z"
      },
      {
        "duration": 10,
        "start_time": "2022-12-27T19:11:54.098Z"
      },
      {
        "duration": 37,
        "start_time": "2022-12-27T19:11:54.109Z"
      },
      {
        "duration": 5,
        "start_time": "2022-12-27T19:11:54.149Z"
      },
      {
        "duration": 10,
        "start_time": "2022-12-27T19:11:54.156Z"
      },
      {
        "duration": 34,
        "start_time": "2022-12-27T19:11:54.167Z"
      },
      {
        "duration": 21,
        "start_time": "2022-12-27T19:11:54.203Z"
      },
      {
        "duration": 74,
        "start_time": "2022-12-27T19:11:54.225Z"
      },
      {
        "duration": 65,
        "start_time": "2022-12-27T19:11:54.300Z"
      },
      {
        "duration": 10,
        "start_time": "2022-12-27T19:11:54.367Z"
      },
      {
        "duration": 1054,
        "start_time": "2022-12-27T19:11:54.379Z"
      },
      {
        "duration": 46,
        "start_time": "2022-12-27T19:11:55.434Z"
      },
      {
        "duration": 46,
        "start_time": "2022-12-27T19:11:55.499Z"
      },
      {
        "duration": 27,
        "start_time": "2022-12-27T19:11:55.547Z"
      },
      {
        "duration": 309,
        "start_time": "2022-12-27T19:11:55.576Z"
      },
      {
        "duration": 11,
        "start_time": "2022-12-27T19:11:55.887Z"
      },
      {
        "duration": 37,
        "start_time": "2022-12-27T19:11:55.900Z"
      },
      {
        "duration": 11,
        "start_time": "2022-12-27T19:11:55.939Z"
      },
      {
        "duration": 13,
        "start_time": "2022-12-27T19:11:55.952Z"
      },
      {
        "duration": 42,
        "start_time": "2022-12-27T19:11:55.967Z"
      },
      {
        "duration": 361,
        "start_time": "2022-12-27T19:12:00.976Z"
      },
      {
        "duration": 7,
        "start_time": "2022-12-27T19:17:12.363Z"
      },
      {
        "duration": 9,
        "start_time": "2022-12-27T19:17:30.502Z"
      },
      {
        "duration": 8,
        "start_time": "2022-12-27T19:17:41.853Z"
      },
      {
        "duration": 8,
        "start_time": "2022-12-27T19:18:37.579Z"
      },
      {
        "duration": 13,
        "start_time": "2022-12-27T19:19:39.240Z"
      },
      {
        "duration": 27,
        "start_time": "2022-12-27T19:19:39.997Z"
      },
      {
        "duration": 21,
        "start_time": "2022-12-27T19:19:49.501Z"
      },
      {
        "duration": 27,
        "start_time": "2022-12-27T19:19:50.614Z"
      },
      {
        "duration": 3,
        "start_time": "2022-12-27T19:21:31.227Z"
      },
      {
        "duration": 199,
        "start_time": "2022-12-27T19:21:31.232Z"
      },
      {
        "duration": 9,
        "start_time": "2022-12-27T19:21:31.433Z"
      },
      {
        "duration": 50,
        "start_time": "2022-12-27T19:21:31.443Z"
      },
      {
        "duration": 33,
        "start_time": "2022-12-27T19:21:31.496Z"
      },
      {
        "duration": 12,
        "start_time": "2022-12-27T19:21:31.531Z"
      },
      {
        "duration": 76,
        "start_time": "2022-12-27T19:21:31.545Z"
      },
      {
        "duration": 26,
        "start_time": "2022-12-27T19:21:31.623Z"
      },
      {
        "duration": 67,
        "start_time": "2022-12-27T19:21:31.651Z"
      },
      {
        "duration": 61,
        "start_time": "2022-12-27T19:21:31.720Z"
      },
      {
        "duration": 29,
        "start_time": "2022-12-27T19:21:31.783Z"
      },
      {
        "duration": 1020,
        "start_time": "2022-12-27T19:21:31.814Z"
      },
      {
        "duration": 43,
        "start_time": "2022-12-27T19:21:32.837Z"
      },
      {
        "duration": 66,
        "start_time": "2022-12-27T19:21:32.882Z"
      },
      {
        "duration": 25,
        "start_time": "2022-12-27T19:21:32.949Z"
      },
      {
        "duration": 194,
        "start_time": "2022-12-27T19:21:32.976Z"
      },
      {
        "duration": 4,
        "start_time": "2022-12-27T19:21:33.172Z"
      },
      {
        "duration": 33,
        "start_time": "2022-12-27T19:21:33.178Z"
      },
      {
        "duration": 5,
        "start_time": "2022-12-27T19:21:33.213Z"
      },
      {
        "duration": 22,
        "start_time": "2022-12-27T19:21:33.219Z"
      },
      {
        "duration": 43,
        "start_time": "2022-12-27T19:21:33.242Z"
      },
      {
        "duration": 369,
        "start_time": "2022-12-27T19:21:33.287Z"
      },
      {
        "duration": 9,
        "start_time": "2022-12-27T19:21:33.659Z"
      },
      {
        "duration": 13,
        "start_time": "2022-12-27T19:21:40.843Z"
      },
      {
        "duration": 28,
        "start_time": "2022-12-27T19:21:41.491Z"
      },
      {
        "duration": 4,
        "start_time": "2022-12-27T19:21:50.462Z"
      },
      {
        "duration": 7,
        "start_time": "2022-12-27T19:21:51.137Z"
      },
      {
        "duration": 6,
        "start_time": "2022-12-27T19:21:51.511Z"
      },
      {
        "duration": 17,
        "start_time": "2022-12-27T19:21:51.960Z"
      },
      {
        "duration": 18,
        "start_time": "2022-12-27T19:22:06.000Z"
      },
      {
        "duration": 16,
        "start_time": "2022-12-27T19:22:35.266Z"
      },
      {
        "duration": 14,
        "start_time": "2022-12-27T19:27:21.711Z"
      },
      {
        "duration": 3,
        "start_time": "2022-12-27T19:27:28.478Z"
      },
      {
        "duration": 167,
        "start_time": "2022-12-27T19:27:28.483Z"
      },
      {
        "duration": 8,
        "start_time": "2022-12-27T19:27:28.652Z"
      },
      {
        "duration": 20,
        "start_time": "2022-12-27T19:27:28.661Z"
      },
      {
        "duration": 27,
        "start_time": "2022-12-27T19:27:28.683Z"
      },
      {
        "duration": 8,
        "start_time": "2022-12-27T19:27:28.711Z"
      },
      {
        "duration": 15,
        "start_time": "2022-12-27T19:27:28.721Z"
      },
      {
        "duration": 19,
        "start_time": "2022-12-27T19:27:28.738Z"
      },
      {
        "duration": 190,
        "start_time": "2022-12-27T19:27:28.759Z"
      },
      {
        "duration": 68,
        "start_time": "2022-12-27T19:27:28.951Z"
      },
      {
        "duration": 11,
        "start_time": "2022-12-27T19:27:29.020Z"
      },
      {
        "duration": 1103,
        "start_time": "2022-12-27T19:27:29.032Z"
      },
      {
        "duration": 44,
        "start_time": "2022-12-27T19:27:30.137Z"
      },
      {
        "duration": 53,
        "start_time": "2022-12-27T19:27:30.199Z"
      },
      {
        "duration": 25,
        "start_time": "2022-12-27T19:27:30.254Z"
      },
      {
        "duration": 171,
        "start_time": "2022-12-27T19:27:30.301Z"
      },
      {
        "duration": 5,
        "start_time": "2022-12-27T19:27:30.474Z"
      },
      {
        "duration": 63,
        "start_time": "2022-12-27T19:27:30.480Z"
      },
      {
        "duration": 34,
        "start_time": "2022-12-27T19:27:30.544Z"
      },
      {
        "duration": 49,
        "start_time": "2022-12-27T19:27:30.580Z"
      },
      {
        "duration": 82,
        "start_time": "2022-12-27T19:27:30.631Z"
      },
      {
        "duration": 360,
        "start_time": "2022-12-27T19:27:30.715Z"
      },
      {
        "duration": 14,
        "start_time": "2022-12-27T19:27:38.671Z"
      },
      {
        "duration": 25,
        "start_time": "2022-12-27T19:28:03.833Z"
      },
      {
        "duration": 14,
        "start_time": "2022-12-27T19:28:09.835Z"
      },
      {
        "duration": 18,
        "start_time": "2022-12-27T19:37:13.707Z"
      },
      {
        "duration": 8,
        "start_time": "2022-12-27T19:37:53.129Z"
      },
      {
        "duration": 9,
        "start_time": "2022-12-27T19:38:26.583Z"
      },
      {
        "duration": 12,
        "start_time": "2022-12-27T19:41:27.616Z"
      },
      {
        "duration": 24,
        "start_time": "2022-12-27T19:42:18.459Z"
      },
      {
        "duration": 30,
        "start_time": "2022-12-27T19:48:08.281Z"
      },
      {
        "duration": 3,
        "start_time": "2022-12-27T19:50:11.283Z"
      },
      {
        "duration": 5,
        "start_time": "2022-12-27T19:50:15.691Z"
      },
      {
        "duration": 19,
        "start_time": "2022-12-27T20:43:49.249Z"
      },
      {
        "duration": 46,
        "start_time": "2022-12-27T20:44:34.591Z"
      },
      {
        "duration": 95,
        "start_time": "2022-12-27T20:45:00.962Z"
      },
      {
        "duration": 51,
        "start_time": "2022-12-27T20:45:15.630Z"
      },
      {
        "duration": 41,
        "start_time": "2022-12-27T20:45:32.649Z"
      },
      {
        "duration": 44,
        "start_time": "2022-12-27T20:56:12.247Z"
      },
      {
        "duration": 195,
        "start_time": "2022-12-27T20:59:08.411Z"
      },
      {
        "duration": 47,
        "start_time": "2022-12-27T20:59:29.075Z"
      },
      {
        "duration": 53,
        "start_time": "2022-12-27T21:05:29.999Z"
      },
      {
        "duration": 45,
        "start_time": "2022-12-27T21:05:56.258Z"
      },
      {
        "duration": 7,
        "start_time": "2022-12-27T21:13:32.878Z"
      },
      {
        "duration": 55,
        "start_time": "2022-12-27T21:15:39.668Z"
      },
      {
        "duration": 56,
        "start_time": "2022-12-27T21:16:34.194Z"
      },
      {
        "duration": 52,
        "start_time": "2022-12-27T21:16:52.794Z"
      },
      {
        "duration": 53,
        "start_time": "2022-12-27T21:17:16.259Z"
      },
      {
        "duration": 59,
        "start_time": "2022-12-27T21:17:32.317Z"
      },
      {
        "duration": 61,
        "start_time": "2022-12-27T21:18:17.000Z"
      },
      {
        "duration": 50,
        "start_time": "2022-12-27T21:18:33.293Z"
      },
      {
        "duration": 3,
        "start_time": "2022-12-27T21:24:01.662Z"
      },
      {
        "duration": 156,
        "start_time": "2022-12-27T21:24:01.667Z"
      },
      {
        "duration": 9,
        "start_time": "2022-12-27T21:24:01.825Z"
      },
      {
        "duration": 29,
        "start_time": "2022-12-27T21:24:01.836Z"
      },
      {
        "duration": 16,
        "start_time": "2022-12-27T21:24:01.868Z"
      },
      {
        "duration": 29,
        "start_time": "2022-12-27T21:24:01.885Z"
      },
      {
        "duration": 38,
        "start_time": "2022-12-27T21:24:01.916Z"
      },
      {
        "duration": 32,
        "start_time": "2022-12-27T21:24:01.956Z"
      },
      {
        "duration": 69,
        "start_time": "2022-12-27T21:24:01.990Z"
      },
      {
        "duration": 65,
        "start_time": "2022-12-27T21:24:02.060Z"
      },
      {
        "duration": 11,
        "start_time": "2022-12-27T21:24:02.126Z"
      },
      {
        "duration": 1083,
        "start_time": "2022-12-27T21:24:02.138Z"
      },
      {
        "duration": 829,
        "start_time": "2022-12-27T21:24:03.222Z"
      },
      {
        "duration": 0,
        "start_time": "2022-12-27T21:24:04.053Z"
      },
      {
        "duration": 0,
        "start_time": "2022-12-27T21:24:04.054Z"
      },
      {
        "duration": 0,
        "start_time": "2022-12-27T21:24:04.055Z"
      },
      {
        "duration": 0,
        "start_time": "2022-12-27T21:24:04.056Z"
      },
      {
        "duration": 0,
        "start_time": "2022-12-27T21:24:04.057Z"
      },
      {
        "duration": 0,
        "start_time": "2022-12-27T21:24:04.058Z"
      },
      {
        "duration": 0,
        "start_time": "2022-12-27T21:24:04.059Z"
      },
      {
        "duration": 0,
        "start_time": "2022-12-27T21:24:04.060Z"
      },
      {
        "duration": 0,
        "start_time": "2022-12-27T21:24:04.061Z"
      },
      {
        "duration": 0,
        "start_time": "2022-12-27T21:24:04.062Z"
      },
      {
        "duration": 0,
        "start_time": "2022-12-27T21:24:04.063Z"
      },
      {
        "duration": 0,
        "start_time": "2022-12-27T21:24:04.064Z"
      },
      {
        "duration": 0,
        "start_time": "2022-12-27T21:24:04.065Z"
      },
      {
        "duration": 0,
        "start_time": "2022-12-27T21:24:04.066Z"
      },
      {
        "duration": 0,
        "start_time": "2022-12-27T21:24:04.067Z"
      },
      {
        "duration": 0,
        "start_time": "2022-12-27T21:24:04.067Z"
      },
      {
        "duration": 0,
        "start_time": "2022-12-27T21:24:04.068Z"
      },
      {
        "duration": 0,
        "start_time": "2022-12-27T21:24:04.069Z"
      },
      {
        "duration": 0,
        "start_time": "2022-12-27T21:24:04.070Z"
      },
      {
        "duration": 0,
        "start_time": "2022-12-27T21:24:04.071Z"
      },
      {
        "duration": 0,
        "start_time": "2022-12-27T21:24:04.072Z"
      },
      {
        "duration": 0,
        "start_time": "2022-12-27T21:24:04.073Z"
      },
      {
        "duration": 0,
        "start_time": "2022-12-27T21:24:04.074Z"
      },
      {
        "duration": 0,
        "start_time": "2022-12-27T21:24:04.075Z"
      },
      {
        "duration": 0,
        "start_time": "2022-12-27T21:24:04.075Z"
      },
      {
        "duration": 41,
        "start_time": "2022-12-27T21:24:14.167Z"
      },
      {
        "duration": 39,
        "start_time": "2022-12-27T21:24:17.481Z"
      },
      {
        "duration": 44,
        "start_time": "2022-12-27T21:24:17.522Z"
      },
      {
        "duration": 41,
        "start_time": "2022-12-27T21:24:17.567Z"
      },
      {
        "duration": 153,
        "start_time": "2022-12-27T21:24:17.609Z"
      },
      {
        "duration": 4,
        "start_time": "2022-12-27T21:24:17.764Z"
      },
      {
        "duration": 16,
        "start_time": "2022-12-27T21:24:17.769Z"
      },
      {
        "duration": 4,
        "start_time": "2022-12-27T21:24:17.797Z"
      },
      {
        "duration": 713,
        "start_time": "2022-12-27T21:24:17.802Z"
      },
      {
        "duration": 0,
        "start_time": "2022-12-27T21:24:18.517Z"
      },
      {
        "duration": 0,
        "start_time": "2022-12-27T21:24:18.518Z"
      },
      {
        "duration": 0,
        "start_time": "2022-12-27T21:24:18.519Z"
      },
      {
        "duration": 0,
        "start_time": "2022-12-27T21:24:18.520Z"
      },
      {
        "duration": 0,
        "start_time": "2022-12-27T21:24:18.521Z"
      },
      {
        "duration": 0,
        "start_time": "2022-12-27T21:24:18.522Z"
      },
      {
        "duration": 0,
        "start_time": "2022-12-27T21:24:18.523Z"
      },
      {
        "duration": 0,
        "start_time": "2022-12-27T21:24:18.524Z"
      },
      {
        "duration": 0,
        "start_time": "2022-12-27T21:24:18.525Z"
      },
      {
        "duration": 0,
        "start_time": "2022-12-27T21:24:18.526Z"
      },
      {
        "duration": 0,
        "start_time": "2022-12-27T21:24:18.527Z"
      },
      {
        "duration": 0,
        "start_time": "2022-12-27T21:24:18.527Z"
      },
      {
        "duration": 0,
        "start_time": "2022-12-27T21:24:18.528Z"
      },
      {
        "duration": 0,
        "start_time": "2022-12-27T21:24:18.529Z"
      },
      {
        "duration": 0,
        "start_time": "2022-12-27T21:24:18.530Z"
      },
      {
        "duration": 0,
        "start_time": "2022-12-27T21:24:18.531Z"
      },
      {
        "duration": 0,
        "start_time": "2022-12-27T21:24:18.532Z"
      },
      {
        "duration": 0,
        "start_time": "2022-12-27T21:24:18.533Z"
      },
      {
        "duration": 8,
        "start_time": "2022-12-27T21:24:29.443Z"
      },
      {
        "duration": 7,
        "start_time": "2022-12-27T21:24:33.522Z"
      },
      {
        "duration": 45,
        "start_time": "2022-12-27T21:24:33.531Z"
      },
      {
        "duration": 277,
        "start_time": "2022-12-27T21:24:33.577Z"
      },
      {
        "duration": 8,
        "start_time": "2022-12-27T21:24:33.855Z"
      },
      {
        "duration": 34,
        "start_time": "2022-12-27T21:24:33.865Z"
      },
      {
        "duration": 26,
        "start_time": "2022-12-27T21:24:33.900Z"
      },
      {
        "duration": 39,
        "start_time": "2022-12-27T21:24:33.927Z"
      },
      {
        "duration": 0,
        "start_time": "2022-12-27T21:24:33.968Z"
      },
      {
        "duration": 0,
        "start_time": "2022-12-27T21:24:33.969Z"
      },
      {
        "duration": 0,
        "start_time": "2022-12-27T21:24:33.970Z"
      },
      {
        "duration": 0,
        "start_time": "2022-12-27T21:24:33.971Z"
      },
      {
        "duration": 0,
        "start_time": "2022-12-27T21:24:33.972Z"
      },
      {
        "duration": 0,
        "start_time": "2022-12-27T21:24:33.973Z"
      },
      {
        "duration": 0,
        "start_time": "2022-12-27T21:24:33.974Z"
      },
      {
        "duration": 0,
        "start_time": "2022-12-27T21:24:33.975Z"
      },
      {
        "duration": 0,
        "start_time": "2022-12-27T21:24:33.975Z"
      },
      {
        "duration": 0,
        "start_time": "2022-12-27T21:24:33.976Z"
      },
      {
        "duration": 0,
        "start_time": "2022-12-27T21:24:33.977Z"
      },
      {
        "duration": 0,
        "start_time": "2022-12-27T21:24:33.978Z"
      },
      {
        "duration": 59,
        "start_time": "2022-12-27T21:24:48.741Z"
      },
      {
        "duration": 0,
        "start_time": "2022-12-27T21:24:48.801Z"
      },
      {
        "duration": 0,
        "start_time": "2022-12-27T21:24:48.802Z"
      },
      {
        "duration": 0,
        "start_time": "2022-12-27T21:24:48.803Z"
      },
      {
        "duration": 0,
        "start_time": "2022-12-27T21:24:48.804Z"
      },
      {
        "duration": 0,
        "start_time": "2022-12-27T21:24:48.805Z"
      },
      {
        "duration": 0,
        "start_time": "2022-12-27T21:24:48.806Z"
      },
      {
        "duration": 0,
        "start_time": "2022-12-27T21:24:48.807Z"
      },
      {
        "duration": 0,
        "start_time": "2022-12-27T21:24:48.808Z"
      },
      {
        "duration": 0,
        "start_time": "2022-12-27T21:24:48.809Z"
      },
      {
        "duration": 0,
        "start_time": "2022-12-27T21:24:48.810Z"
      },
      {
        "duration": 0,
        "start_time": "2022-12-27T21:24:48.811Z"
      },
      {
        "duration": 59,
        "start_time": "2022-12-27T21:26:00.590Z"
      },
      {
        "duration": 57,
        "start_time": "2022-12-27T21:26:16.670Z"
      },
      {
        "duration": 49,
        "start_time": "2022-12-27T21:27:10.136Z"
      },
      {
        "duration": 53,
        "start_time": "2022-12-27T21:27:24.344Z"
      },
      {
        "duration": 50,
        "start_time": "2022-12-27T21:28:26.280Z"
      },
      {
        "duration": 52,
        "start_time": "2022-12-27T21:29:17.507Z"
      },
      {
        "duration": 58,
        "start_time": "2022-12-27T21:29:45.700Z"
      },
      {
        "duration": 55,
        "start_time": "2022-12-27T21:31:19.958Z"
      },
      {
        "duration": 64,
        "start_time": "2022-12-27T21:32:39.941Z"
      },
      {
        "duration": 4,
        "start_time": "2022-12-27T21:35:10.068Z"
      },
      {
        "duration": 62,
        "start_time": "2022-12-27T21:35:33.668Z"
      },
      {
        "duration": 4,
        "start_time": "2022-12-27T21:35:59.210Z"
      },
      {
        "duration": 60,
        "start_time": "2022-12-27T21:36:05.383Z"
      },
      {
        "duration": 3,
        "start_time": "2022-12-27T21:36:36.623Z"
      },
      {
        "duration": 55,
        "start_time": "2022-12-27T21:36:42.834Z"
      },
      {
        "duration": 3,
        "start_time": "2022-12-27T21:37:17.092Z"
      },
      {
        "duration": 54,
        "start_time": "2022-12-27T21:37:20.525Z"
      },
      {
        "duration": 87,
        "start_time": "2022-12-27T21:38:21.457Z"
      },
      {
        "duration": 74,
        "start_time": "2022-12-27T21:38:28.381Z"
      },
      {
        "duration": 73,
        "start_time": "2022-12-27T21:39:11.767Z"
      },
      {
        "duration": 74,
        "start_time": "2022-12-27T21:39:55.454Z"
      },
      {
        "duration": 3,
        "start_time": "2022-12-27T21:44:44.949Z"
      },
      {
        "duration": 55,
        "start_time": "2022-12-27T21:45:07.010Z"
      },
      {
        "duration": 3,
        "start_time": "2022-12-27T21:45:40.526Z"
      },
      {
        "duration": 9,
        "start_time": "2022-12-27T21:45:48.278Z"
      },
      {
        "duration": 8,
        "start_time": "2022-12-27T21:45:58.071Z"
      },
      {
        "duration": 40,
        "start_time": "2022-12-27T21:46:06.085Z"
      },
      {
        "duration": 24,
        "start_time": "2022-12-27T21:46:12.799Z"
      },
      {
        "duration": 50,
        "start_time": "2022-12-27T21:46:31.262Z"
      },
      {
        "duration": 51,
        "start_time": "2022-12-27T21:47:05.319Z"
      },
      {
        "duration": 37,
        "start_time": "2022-12-27T21:49:00.985Z"
      },
      {
        "duration": 21,
        "start_time": "2022-12-27T21:49:43.667Z"
      },
      {
        "duration": 19,
        "start_time": "2022-12-27T21:49:54.206Z"
      },
      {
        "duration": 19,
        "start_time": "2022-12-27T21:50:03.186Z"
      },
      {
        "duration": 19,
        "start_time": "2022-12-27T21:51:09.483Z"
      },
      {
        "duration": 21,
        "start_time": "2022-12-27T21:51:18.021Z"
      },
      {
        "duration": 20,
        "start_time": "2022-12-27T21:53:10.741Z"
      },
      {
        "duration": 13,
        "start_time": "2022-12-27T21:53:17.892Z"
      },
      {
        "duration": 18,
        "start_time": "2022-12-27T21:59:05.020Z"
      },
      {
        "duration": 85,
        "start_time": "2022-12-27T22:03:04.516Z"
      },
      {
        "duration": 1237,
        "start_time": "2022-12-28T09:12:09.736Z"
      },
      {
        "duration": 619,
        "start_time": "2022-12-28T09:12:10.975Z"
      },
      {
        "duration": 12,
        "start_time": "2022-12-28T09:12:11.596Z"
      },
      {
        "duration": 23,
        "start_time": "2022-12-28T09:12:11.609Z"
      },
      {
        "duration": 10,
        "start_time": "2022-12-28T09:12:11.634Z"
      },
      {
        "duration": 6,
        "start_time": "2022-12-28T09:12:11.646Z"
      },
      {
        "duration": 16,
        "start_time": "2022-12-28T09:12:11.653Z"
      },
      {
        "duration": 18,
        "start_time": "2022-12-28T09:12:11.671Z"
      },
      {
        "duration": 87,
        "start_time": "2022-12-28T09:12:11.691Z"
      },
      {
        "duration": 80,
        "start_time": "2022-12-28T09:12:11.780Z"
      },
      {
        "duration": 15,
        "start_time": "2022-12-28T09:12:11.862Z"
      },
      {
        "duration": 1120,
        "start_time": "2022-12-28T09:12:11.878Z"
      },
      {
        "duration": 49,
        "start_time": "2022-12-28T09:12:13.001Z"
      },
      {
        "duration": 44,
        "start_time": "2022-12-28T09:12:13.054Z"
      },
      {
        "duration": 25,
        "start_time": "2022-12-28T09:12:13.113Z"
      },
      {
        "duration": 180,
        "start_time": "2022-12-28T09:12:13.140Z"
      },
      {
        "duration": 4,
        "start_time": "2022-12-28T09:12:13.322Z"
      },
      {
        "duration": 19,
        "start_time": "2022-12-28T09:12:13.328Z"
      },
      {
        "duration": 5,
        "start_time": "2022-12-28T09:12:13.348Z"
      },
      {
        "duration": 16,
        "start_time": "2022-12-28T09:12:13.355Z"
      },
      {
        "duration": 62,
        "start_time": "2022-12-28T09:12:13.372Z"
      },
      {
        "duration": 315,
        "start_time": "2022-12-28T09:12:13.436Z"
      },
      {
        "duration": 8,
        "start_time": "2022-12-28T09:12:13.753Z"
      },
      {
        "duration": 23,
        "start_time": "2022-12-28T09:12:13.762Z"
      },
      {
        "duration": 50,
        "start_time": "2022-12-28T09:12:13.786Z"
      },
      {
        "duration": 55,
        "start_time": "2022-12-28T09:12:13.837Z"
      },
      {
        "duration": 27,
        "start_time": "2022-12-28T09:12:13.894Z"
      },
      {
        "duration": 24,
        "start_time": "2022-12-28T09:12:13.923Z"
      },
      {
        "duration": 13,
        "start_time": "2022-12-28T09:12:13.948Z"
      },
      {
        "duration": 26,
        "start_time": "2022-12-28T09:12:13.963Z"
      },
      {
        "duration": 79,
        "start_time": "2022-12-28T09:12:13.991Z"
      },
      {
        "duration": 4,
        "start_time": "2022-12-28T09:12:14.071Z"
      },
      {
        "duration": 807,
        "start_time": "2022-12-28T09:12:14.076Z"
      },
      {
        "duration": 0,
        "start_time": "2022-12-28T09:12:14.885Z"
      },
      {
        "duration": 0,
        "start_time": "2022-12-28T09:12:14.887Z"
      },
      {
        "duration": 0,
        "start_time": "2022-12-28T09:12:14.888Z"
      },
      {
        "duration": 0,
        "start_time": "2022-12-28T09:12:14.889Z"
      },
      {
        "duration": 0,
        "start_time": "2022-12-28T09:12:14.890Z"
      },
      {
        "duration": 0,
        "start_time": "2022-12-28T09:12:14.891Z"
      },
      {
        "duration": 0,
        "start_time": "2022-12-28T09:12:14.892Z"
      },
      {
        "duration": 0,
        "start_time": "2022-12-28T09:12:14.893Z"
      },
      {
        "duration": 9,
        "start_time": "2022-12-28T09:14:37.352Z"
      },
      {
        "duration": 20,
        "start_time": "2022-12-28T09:14:53.461Z"
      },
      {
        "duration": 11,
        "start_time": "2022-12-28T09:14:59.532Z"
      },
      {
        "duration": 5,
        "start_time": "2022-12-28T09:37:27.558Z"
      },
      {
        "duration": 16,
        "start_time": "2022-12-28T09:37:46.303Z"
      },
      {
        "duration": 8,
        "start_time": "2022-12-28T09:40:34.300Z"
      },
      {
        "duration": 10,
        "start_time": "2022-12-28T09:40:48.219Z"
      },
      {
        "duration": 11,
        "start_time": "2022-12-28T09:41:41.220Z"
      },
      {
        "duration": 11,
        "start_time": "2022-12-28T09:41:50.544Z"
      },
      {
        "duration": 25,
        "start_time": "2022-12-28T09:42:22.756Z"
      },
      {
        "duration": 10,
        "start_time": "2022-12-28T09:42:33.253Z"
      },
      {
        "duration": 8,
        "start_time": "2022-12-28T09:43:03.974Z"
      },
      {
        "duration": 8,
        "start_time": "2022-12-28T09:43:33.755Z"
      },
      {
        "duration": 7,
        "start_time": "2022-12-28T09:44:12.647Z"
      },
      {
        "duration": 14,
        "start_time": "2022-12-28T09:44:37.620Z"
      },
      {
        "duration": 7,
        "start_time": "2022-12-28T09:44:49.480Z"
      },
      {
        "duration": 8,
        "start_time": "2022-12-28T09:44:59.014Z"
      },
      {
        "duration": 8,
        "start_time": "2022-12-28T09:45:19.712Z"
      },
      {
        "duration": 13,
        "start_time": "2022-12-28T09:46:04.086Z"
      },
      {
        "duration": 12,
        "start_time": "2022-12-28T09:46:13.913Z"
      },
      {
        "duration": 12,
        "start_time": "2022-12-28T09:46:43.215Z"
      },
      {
        "duration": 21,
        "start_time": "2022-12-28T09:47:58.511Z"
      },
      {
        "duration": 12,
        "start_time": "2022-12-28T09:47:58.944Z"
      },
      {
        "duration": 29,
        "start_time": "2022-12-28T09:48:17.717Z"
      },
      {
        "duration": 27,
        "start_time": "2022-12-28T09:49:05.662Z"
      },
      {
        "duration": 33,
        "start_time": "2022-12-28T09:50:10.184Z"
      },
      {
        "duration": 16,
        "start_time": "2022-12-28T09:50:51.581Z"
      },
      {
        "duration": 34,
        "start_time": "2022-12-28T09:51:07.507Z"
      },
      {
        "duration": 17,
        "start_time": "2022-12-28T09:59:06.144Z"
      },
      {
        "duration": 19,
        "start_time": "2022-12-28T09:59:17.151Z"
      },
      {
        "duration": 15,
        "start_time": "2022-12-28T10:00:15.460Z"
      },
      {
        "duration": 14,
        "start_time": "2022-12-28T10:01:24.458Z"
      },
      {
        "duration": 14,
        "start_time": "2022-12-28T10:01:37.471Z"
      },
      {
        "duration": 13,
        "start_time": "2022-12-28T10:01:52.401Z"
      },
      {
        "duration": 17,
        "start_time": "2022-12-28T10:01:57.260Z"
      },
      {
        "duration": 10,
        "start_time": "2022-12-28T10:02:13.654Z"
      },
      {
        "duration": 12,
        "start_time": "2022-12-28T10:02:26.855Z"
      },
      {
        "duration": 15,
        "start_time": "2022-12-28T10:02:36.500Z"
      },
      {
        "duration": 14,
        "start_time": "2022-12-28T10:02:54.786Z"
      },
      {
        "duration": 7,
        "start_time": "2022-12-28T10:06:19.565Z"
      },
      {
        "duration": 34,
        "start_time": "2022-12-28T10:16:06.817Z"
      },
      {
        "duration": 6,
        "start_time": "2022-12-28T10:16:57.883Z"
      },
      {
        "duration": 13,
        "start_time": "2022-12-28T10:28:14.804Z"
      },
      {
        "duration": 63,
        "start_time": "2022-12-28T10:28:38.832Z"
      },
      {
        "duration": 15,
        "start_time": "2022-12-28T10:32:06.270Z"
      },
      {
        "duration": 12,
        "start_time": "2022-12-28T10:32:18.640Z"
      },
      {
        "duration": 11,
        "start_time": "2022-12-28T10:32:25.573Z"
      },
      {
        "duration": 11,
        "start_time": "2022-12-28T10:33:00.165Z"
      },
      {
        "duration": 14,
        "start_time": "2022-12-28T10:33:01.434Z"
      },
      {
        "duration": 12,
        "start_time": "2022-12-28T10:33:28.507Z"
      },
      {
        "duration": 10,
        "start_time": "2022-12-28T10:33:29.272Z"
      },
      {
        "duration": 73,
        "start_time": "2022-12-28T10:33:46.500Z"
      },
      {
        "duration": 12,
        "start_time": "2022-12-28T10:33:52.246Z"
      },
      {
        "duration": 9,
        "start_time": "2022-12-28T10:33:52.925Z"
      },
      {
        "duration": 15,
        "start_time": "2022-12-28T10:34:21.033Z"
      },
      {
        "duration": 10,
        "start_time": "2022-12-28T10:34:21.627Z"
      },
      {
        "duration": 64,
        "start_time": "2022-12-28T10:34:57.008Z"
      },
      {
        "duration": 24,
        "start_time": "2022-12-28T10:35:00.400Z"
      },
      {
        "duration": 11,
        "start_time": "2022-12-28T10:35:09.301Z"
      },
      {
        "duration": 10,
        "start_time": "2022-12-28T10:35:11.299Z"
      },
      {
        "duration": 10,
        "start_time": "2022-12-28T10:37:18.264Z"
      },
      {
        "duration": 11,
        "start_time": "2022-12-28T10:37:20.485Z"
      },
      {
        "duration": 8,
        "start_time": "2022-12-28T10:38:28.530Z"
      },
      {
        "duration": 11,
        "start_time": "2022-12-28T10:38:30.901Z"
      },
      {
        "duration": 54,
        "start_time": "2022-12-28T10:40:47.222Z"
      },
      {
        "duration": 8,
        "start_time": "2022-12-28T10:40:59.313Z"
      },
      {
        "duration": 11,
        "start_time": "2022-12-28T10:41:01.841Z"
      },
      {
        "duration": 11,
        "start_time": "2022-12-28T10:47:48.583Z"
      },
      {
        "duration": 21,
        "start_time": "2022-12-28T10:47:51.042Z"
      },
      {
        "duration": 12,
        "start_time": "2022-12-28T10:49:00.171Z"
      },
      {
        "duration": 17,
        "start_time": "2022-12-28T10:49:03.058Z"
      },
      {
        "duration": 66,
        "start_time": "2022-12-28T10:49:09.434Z"
      },
      {
        "duration": 9,
        "start_time": "2022-12-28T10:49:16.841Z"
      },
      {
        "duration": 11,
        "start_time": "2022-12-28T10:49:18.394Z"
      },
      {
        "duration": 81,
        "start_time": "2022-12-28T10:49:37.570Z"
      },
      {
        "duration": 11,
        "start_time": "2022-12-28T10:49:42.025Z"
      },
      {
        "duration": 10,
        "start_time": "2022-12-28T10:49:43.640Z"
      },
      {
        "duration": 76,
        "start_time": "2022-12-28T10:52:45.503Z"
      },
      {
        "duration": 7,
        "start_time": "2022-12-28T10:53:02.536Z"
      },
      {
        "duration": 17,
        "start_time": "2022-12-28T10:53:04.440Z"
      },
      {
        "duration": 25,
        "start_time": "2022-12-28T10:53:36.838Z"
      },
      {
        "duration": 22,
        "start_time": "2022-12-28T10:58:27.577Z"
      },
      {
        "duration": 85,
        "start_time": "2022-12-28T10:58:45.339Z"
      },
      {
        "duration": 26,
        "start_time": "2022-12-28T10:58:48.902Z"
      },
      {
        "duration": 60,
        "start_time": "2022-12-28T10:59:03.432Z"
      },
      {
        "duration": 84,
        "start_time": "2022-12-28T10:59:35.288Z"
      },
      {
        "duration": 64,
        "start_time": "2022-12-28T10:59:50.733Z"
      },
      {
        "duration": 68,
        "start_time": "2022-12-28T11:00:05.512Z"
      },
      {
        "duration": 60,
        "start_time": "2022-12-28T11:00:43.036Z"
      },
      {
        "duration": 25,
        "start_time": "2022-12-28T11:00:51.276Z"
      },
      {
        "duration": 20,
        "start_time": "2022-12-28T11:01:49.157Z"
      },
      {
        "duration": 60,
        "start_time": "2022-12-28T11:01:54.724Z"
      },
      {
        "duration": 17,
        "start_time": "2022-12-28T11:02:02.517Z"
      },
      {
        "duration": 23,
        "start_time": "2022-12-28T11:02:45.602Z"
      },
      {
        "duration": 70,
        "start_time": "2022-12-28T11:03:46.307Z"
      },
      {
        "duration": 16,
        "start_time": "2022-12-28T11:11:23.764Z"
      },
      {
        "duration": 11,
        "start_time": "2022-12-28T11:12:23.642Z"
      },
      {
        "duration": 32,
        "start_time": "2022-12-28T11:14:58.431Z"
      },
      {
        "duration": 54,
        "start_time": "2022-12-28T11:15:23.614Z"
      },
      {
        "duration": 15,
        "start_time": "2022-12-28T11:15:44.422Z"
      },
      {
        "duration": 28,
        "start_time": "2022-12-28T11:17:27.761Z"
      },
      {
        "duration": 27,
        "start_time": "2022-12-28T11:18:11.861Z"
      },
      {
        "duration": 78,
        "start_time": "2022-12-28T11:26:24.306Z"
      },
      {
        "duration": 81,
        "start_time": "2022-12-28T11:26:48.811Z"
      },
      {
        "duration": 32,
        "start_time": "2022-12-28T11:54:45.541Z"
      },
      {
        "duration": 14,
        "start_time": "2022-12-28T13:05:20.678Z"
      },
      {
        "duration": 15,
        "start_time": "2022-12-28T13:05:32.813Z"
      },
      {
        "duration": 8,
        "start_time": "2022-12-28T13:10:20.371Z"
      },
      {
        "duration": 10,
        "start_time": "2022-12-28T13:11:36.581Z"
      },
      {
        "duration": 5,
        "start_time": "2022-12-28T15:08:57.286Z"
      },
      {
        "duration": 16,
        "start_time": "2022-12-28T15:11:35.152Z"
      },
      {
        "duration": 15,
        "start_time": "2022-12-28T15:12:27.807Z"
      },
      {
        "duration": 17,
        "start_time": "2022-12-28T15:13:58.786Z"
      },
      {
        "duration": 11,
        "start_time": "2022-12-28T16:05:24.568Z"
      },
      {
        "duration": 15,
        "start_time": "2022-12-28T16:06:03.838Z"
      },
      {
        "duration": 38,
        "start_time": "2022-12-28T17:18:27.213Z"
      },
      {
        "duration": 7,
        "start_time": "2022-12-28T17:18:35.827Z"
      },
      {
        "duration": 2,
        "start_time": "2022-12-28T17:21:27.331Z"
      },
      {
        "duration": 4,
        "start_time": "2022-12-28T17:21:41.490Z"
      },
      {
        "duration": 3,
        "start_time": "2022-12-28T17:22:14.162Z"
      },
      {
        "duration": 4,
        "start_time": "2022-12-28T17:22:14.781Z"
      },
      {
        "duration": 11,
        "start_time": "2022-12-28T17:26:54.785Z"
      },
      {
        "duration": 74,
        "start_time": "2022-12-28T17:27:00.533Z"
      },
      {
        "duration": 86,
        "start_time": "2022-12-28T17:28:18.550Z"
      },
      {
        "duration": 85,
        "start_time": "2022-12-28T17:28:36.916Z"
      },
      {
        "duration": 85,
        "start_time": "2022-12-28T17:29:20.946Z"
      },
      {
        "duration": 2,
        "start_time": "2022-12-28T17:33:15.646Z"
      },
      {
        "duration": 4,
        "start_time": "2022-12-28T17:33:16.376Z"
      },
      {
        "duration": 4,
        "start_time": "2022-12-28T17:35:54.451Z"
      },
      {
        "duration": 3,
        "start_time": "2022-12-28T17:35:55.795Z"
      },
      {
        "duration": 9,
        "start_time": "2022-12-28T17:41:31.311Z"
      },
      {
        "duration": 4,
        "start_time": "2022-12-28T17:41:31.697Z"
      },
      {
        "duration": 84,
        "start_time": "2022-12-28T17:41:34.954Z"
      },
      {
        "duration": 3,
        "start_time": "2022-12-28T17:41:35.993Z"
      },
      {
        "duration": 4,
        "start_time": "2022-12-28T17:41:37.993Z"
      },
      {
        "duration": 86,
        "start_time": "2022-12-28T17:41:52.088Z"
      },
      {
        "duration": 3,
        "start_time": "2022-12-28T17:42:07.569Z"
      },
      {
        "duration": 3,
        "start_time": "2022-12-28T17:42:09.311Z"
      },
      {
        "duration": 3,
        "start_time": "2022-12-28T17:42:29.234Z"
      },
      {
        "duration": 4,
        "start_time": "2022-12-28T17:42:29.902Z"
      },
      {
        "duration": 9,
        "start_time": "2022-12-28T17:46:30.442Z"
      },
      {
        "duration": 3,
        "start_time": "2022-12-28T17:46:34.957Z"
      },
      {
        "duration": 8,
        "start_time": "2022-12-28T17:46:35.603Z"
      },
      {
        "duration": 4,
        "start_time": "2022-12-28T17:49:37.989Z"
      },
      {
        "duration": 11,
        "start_time": "2022-12-28T17:53:01.296Z"
      },
      {
        "duration": 7,
        "start_time": "2022-12-28T17:53:27.088Z"
      },
      {
        "duration": 78,
        "start_time": "2022-12-28T21:14:19.503Z"
      },
      {
        "duration": 5,
        "start_time": "2022-12-28T21:14:55.320Z"
      },
      {
        "duration": 49,
        "start_time": "2022-12-28T21:39:31.268Z"
      },
      {
        "duration": 5,
        "start_time": "2022-12-28T21:39:43.604Z"
      },
      {
        "duration": 5,
        "start_time": "2022-12-28T21:41:57.469Z"
      },
      {
        "duration": 5,
        "start_time": "2022-12-28T21:42:15.958Z"
      },
      {
        "duration": 71,
        "start_time": "2022-12-28T21:42:21.392Z"
      },
      {
        "duration": 7,
        "start_time": "2022-12-28T21:44:53.406Z"
      },
      {
        "duration": 64,
        "start_time": "2022-12-28T21:45:21.692Z"
      },
      {
        "duration": 47,
        "start_time": "2022-12-28T21:45:31.384Z"
      },
      {
        "duration": 5,
        "start_time": "2022-12-28T21:45:54.502Z"
      },
      {
        "duration": 4,
        "start_time": "2022-12-28T21:45:57.375Z"
      },
      {
        "duration": 60,
        "start_time": "2022-12-28T21:48:26.373Z"
      },
      {
        "duration": 5,
        "start_time": "2022-12-28T21:49:35.212Z"
      },
      {
        "duration": 6,
        "start_time": "2022-12-28T21:49:36.417Z"
      },
      {
        "duration": 5,
        "start_time": "2022-12-28T21:50:21.436Z"
      },
      {
        "duration": 13,
        "start_time": "2022-12-28T21:50:23.244Z"
      },
      {
        "duration": 52,
        "start_time": "2022-12-28T21:55:14.637Z"
      },
      {
        "duration": 3,
        "start_time": "2022-12-28T21:56:52.907Z"
      },
      {
        "duration": 3,
        "start_time": "2022-12-28T21:58:23.845Z"
      },
      {
        "duration": 44,
        "start_time": "2022-12-28T21:58:26.132Z"
      },
      {
        "duration": 5,
        "start_time": "2022-12-28T21:58:35.415Z"
      },
      {
        "duration": 6,
        "start_time": "2022-12-28T21:58:36.213Z"
      },
      {
        "duration": 5,
        "start_time": "2022-12-28T21:59:06.037Z"
      },
      {
        "duration": 5,
        "start_time": "2022-12-28T21:59:06.786Z"
      },
      {
        "duration": 8,
        "start_time": "2022-12-28T22:00:39.033Z"
      },
      {
        "duration": 5,
        "start_time": "2022-12-28T22:00:39.625Z"
      },
      {
        "duration": 5,
        "start_time": "2022-12-28T22:00:53.312Z"
      },
      {
        "duration": 4,
        "start_time": "2022-12-28T22:00:53.720Z"
      },
      {
        "duration": 5,
        "start_time": "2022-12-28T22:02:08.348Z"
      },
      {
        "duration": 5,
        "start_time": "2022-12-28T22:02:10.867Z"
      },
      {
        "duration": 1291,
        "start_time": "2022-12-29T08:05:51.545Z"
      },
      {
        "duration": 846,
        "start_time": "2022-12-29T08:05:52.838Z"
      },
      {
        "duration": 12,
        "start_time": "2022-12-29T08:05:53.686Z"
      },
      {
        "duration": 52,
        "start_time": "2022-12-29T08:05:53.700Z"
      },
      {
        "duration": 7,
        "start_time": "2022-12-29T08:05:53.754Z"
      },
      {
        "duration": 7,
        "start_time": "2022-12-29T08:05:53.763Z"
      },
      {
        "duration": 15,
        "start_time": "2022-12-29T08:05:53.772Z"
      },
      {
        "duration": 31,
        "start_time": "2022-12-29T08:05:53.788Z"
      },
      {
        "duration": 73,
        "start_time": "2022-12-29T08:05:53.825Z"
      },
      {
        "duration": 81,
        "start_time": "2022-12-29T08:05:53.902Z"
      },
      {
        "duration": 33,
        "start_time": "2022-12-29T08:05:53.985Z"
      },
      {
        "duration": 1165,
        "start_time": "2022-12-29T08:05:54.020Z"
      },
      {
        "duration": 62,
        "start_time": "2022-12-29T08:05:55.187Z"
      },
      {
        "duration": 43,
        "start_time": "2022-12-29T08:05:55.251Z"
      },
      {
        "duration": 35,
        "start_time": "2022-12-29T08:05:55.309Z"
      },
      {
        "duration": 178,
        "start_time": "2022-12-29T08:05:55.345Z"
      },
      {
        "duration": 7,
        "start_time": "2022-12-29T08:05:55.525Z"
      },
      {
        "duration": 27,
        "start_time": "2022-12-29T08:05:55.534Z"
      },
      {
        "duration": 8,
        "start_time": "2022-12-29T08:05:55.563Z"
      },
      {
        "duration": 69,
        "start_time": "2022-12-29T08:05:55.572Z"
      },
      {
        "duration": 338,
        "start_time": "2022-12-29T08:05:55.643Z"
      },
      {
        "duration": 9,
        "start_time": "2022-12-29T08:05:55.982Z"
      },
      {
        "duration": 64,
        "start_time": "2022-12-29T08:05:55.993Z"
      },
      {
        "duration": 28,
        "start_time": "2022-12-29T08:05:56.059Z"
      },
      {
        "duration": 62,
        "start_time": "2022-12-29T08:05:56.089Z"
      },
      {
        "duration": 30,
        "start_time": "2022-12-29T08:05:56.153Z"
      },
      {
        "duration": 107,
        "start_time": "2022-12-29T08:05:56.185Z"
      },
      {
        "duration": 93,
        "start_time": "2022-12-29T08:05:56.295Z"
      },
      {
        "duration": 4,
        "start_time": "2022-12-29T08:05:56.389Z"
      },
      {
        "duration": 16,
        "start_time": "2022-12-29T08:05:56.394Z"
      },
      {
        "duration": 22,
        "start_time": "2022-12-29T08:05:56.412Z"
      },
      {
        "duration": 8,
        "start_time": "2022-12-29T08:05:56.436Z"
      },
      {
        "duration": 7,
        "start_time": "2022-12-29T08:05:56.446Z"
      },
      {
        "duration": 9,
        "start_time": "2022-12-29T08:05:56.454Z"
      },
      {
        "duration": 107,
        "start_time": "2022-12-29T08:05:56.465Z"
      },
      {
        "duration": 1,
        "start_time": "2022-12-29T08:05:56.573Z"
      },
      {
        "duration": 1,
        "start_time": "2022-12-29T08:05:56.574Z"
      },
      {
        "duration": 0,
        "start_time": "2022-12-29T08:05:56.575Z"
      },
      {
        "duration": 0,
        "start_time": "2022-12-29T08:05:56.576Z"
      },
      {
        "duration": 0,
        "start_time": "2022-12-29T08:05:56.577Z"
      },
      {
        "duration": 0,
        "start_time": "2022-12-29T08:05:56.578Z"
      },
      {
        "duration": 0,
        "start_time": "2022-12-29T08:05:56.579Z"
      },
      {
        "duration": 0,
        "start_time": "2022-12-29T08:05:56.580Z"
      },
      {
        "duration": 0,
        "start_time": "2022-12-29T08:05:56.581Z"
      },
      {
        "duration": 0,
        "start_time": "2022-12-29T08:05:56.582Z"
      },
      {
        "duration": 0,
        "start_time": "2022-12-29T08:05:56.583Z"
      },
      {
        "duration": 0,
        "start_time": "2022-12-29T08:05:56.584Z"
      },
      {
        "duration": 0,
        "start_time": "2022-12-29T08:05:56.611Z"
      },
      {
        "duration": 0,
        "start_time": "2022-12-29T08:05:56.616Z"
      },
      {
        "duration": 0,
        "start_time": "2022-12-29T08:05:56.617Z"
      },
      {
        "duration": 0,
        "start_time": "2022-12-29T08:05:56.618Z"
      },
      {
        "duration": 0,
        "start_time": "2022-12-29T08:05:56.619Z"
      },
      {
        "duration": 0,
        "start_time": "2022-12-29T08:05:56.620Z"
      },
      {
        "duration": 0,
        "start_time": "2022-12-29T08:05:56.622Z"
      },
      {
        "duration": 0,
        "start_time": "2022-12-29T08:05:56.622Z"
      },
      {
        "duration": 0,
        "start_time": "2022-12-29T08:05:56.623Z"
      },
      {
        "duration": 89,
        "start_time": "2022-12-29T08:06:50.687Z"
      },
      {
        "duration": 143,
        "start_time": "2022-12-29T08:06:57.134Z"
      },
      {
        "duration": 7,
        "start_time": "2022-12-29T08:07:52.161Z"
      },
      {
        "duration": 4,
        "start_time": "2022-12-29T11:44:16.928Z"
      },
      {
        "duration": 216,
        "start_time": "2022-12-29T11:44:16.934Z"
      },
      {
        "duration": 7,
        "start_time": "2022-12-29T11:44:17.152Z"
      },
      {
        "duration": 32,
        "start_time": "2022-12-29T11:44:17.161Z"
      },
      {
        "duration": 15,
        "start_time": "2022-12-29T11:44:17.195Z"
      },
      {
        "duration": 17,
        "start_time": "2022-12-29T11:44:17.217Z"
      },
      {
        "duration": 27,
        "start_time": "2022-12-29T11:44:17.236Z"
      },
      {
        "duration": 33,
        "start_time": "2022-12-29T11:44:17.265Z"
      },
      {
        "duration": 82,
        "start_time": "2022-12-29T11:44:17.300Z"
      },
      {
        "duration": 73,
        "start_time": "2022-12-29T11:44:17.384Z"
      },
      {
        "duration": 14,
        "start_time": "2022-12-29T11:44:17.459Z"
      },
      {
        "duration": 1323,
        "start_time": "2022-12-29T11:44:17.475Z"
      },
      {
        "duration": 53,
        "start_time": "2022-12-29T11:44:18.800Z"
      },
      {
        "duration": 74,
        "start_time": "2022-12-29T11:44:18.855Z"
      },
      {
        "duration": 33,
        "start_time": "2022-12-29T11:44:18.931Z"
      },
      {
        "duration": 228,
        "start_time": "2022-12-29T11:44:18.966Z"
      },
      {
        "duration": 15,
        "start_time": "2022-12-29T11:44:19.196Z"
      },
      {
        "duration": 41,
        "start_time": "2022-12-29T11:44:19.216Z"
      },
      {
        "duration": 19,
        "start_time": "2022-12-29T11:44:19.259Z"
      },
      {
        "duration": 59,
        "start_time": "2022-12-29T11:44:19.280Z"
      },
      {
        "duration": 340,
        "start_time": "2022-12-29T11:44:19.341Z"
      },
      {
        "duration": 10,
        "start_time": "2022-12-29T11:44:19.683Z"
      },
      {
        "duration": 43,
        "start_time": "2022-12-29T11:44:19.706Z"
      },
      {
        "duration": 54,
        "start_time": "2022-12-29T11:44:19.754Z"
      },
      {
        "duration": 65,
        "start_time": "2022-12-29T11:44:19.810Z"
      },
      {
        "duration": 47,
        "start_time": "2022-12-29T11:44:19.877Z"
      },
      {
        "duration": 94,
        "start_time": "2022-12-29T11:44:19.926Z"
      },
      {
        "duration": 81,
        "start_time": "2022-12-29T11:44:20.022Z"
      },
      {
        "duration": 10,
        "start_time": "2022-12-29T11:44:20.109Z"
      },
      {
        "duration": 20,
        "start_time": "2022-12-29T11:44:20.125Z"
      },
      {
        "duration": 13,
        "start_time": "2022-12-29T11:44:20.147Z"
      },
      {
        "duration": 30,
        "start_time": "2022-12-29T11:44:20.162Z"
      },
      {
        "duration": 12,
        "start_time": "2022-12-29T11:44:20.194Z"
      },
      {
        "duration": 21,
        "start_time": "2022-12-29T11:44:20.207Z"
      },
      {
        "duration": 15,
        "start_time": "2022-12-29T11:44:20.230Z"
      },
      {
        "duration": 13,
        "start_time": "2022-12-29T11:44:20.247Z"
      },
      {
        "duration": 15,
        "start_time": "2022-12-29T11:44:20.261Z"
      },
      {
        "duration": 65,
        "start_time": "2022-12-29T11:44:20.278Z"
      },
      {
        "duration": 5,
        "start_time": "2022-12-29T11:44:20.345Z"
      },
      {
        "duration": 15,
        "start_time": "2022-12-29T11:44:20.351Z"
      },
      {
        "duration": 11,
        "start_time": "2022-12-29T11:44:20.368Z"
      },
      {
        "duration": 44,
        "start_time": "2022-12-29T11:44:20.381Z"
      },
      {
        "duration": 73,
        "start_time": "2022-12-29T11:44:20.427Z"
      },
      {
        "duration": 1281,
        "start_time": "2022-12-29T11:44:20.502Z"
      },
      {
        "duration": 0,
        "start_time": "2022-12-29T11:44:21.785Z"
      },
      {
        "duration": 0,
        "start_time": "2022-12-29T11:44:21.786Z"
      },
      {
        "duration": 0,
        "start_time": "2022-12-29T11:44:21.793Z"
      },
      {
        "duration": 0,
        "start_time": "2022-12-29T11:44:21.795Z"
      },
      {
        "duration": 0,
        "start_time": "2022-12-29T11:44:21.796Z"
      },
      {
        "duration": 0,
        "start_time": "2022-12-29T11:44:21.798Z"
      },
      {
        "duration": 0,
        "start_time": "2022-12-29T11:44:21.799Z"
      },
      {
        "duration": 0,
        "start_time": "2022-12-29T11:44:21.800Z"
      },
      {
        "duration": 0,
        "start_time": "2022-12-29T11:44:21.802Z"
      },
      {
        "duration": 0,
        "start_time": "2022-12-29T11:44:21.811Z"
      },
      {
        "duration": 0,
        "start_time": "2022-12-29T11:44:21.811Z"
      },
      {
        "duration": 0,
        "start_time": "2022-12-29T11:44:21.812Z"
      },
      {
        "duration": 7,
        "start_time": "2022-12-29T11:44:58.425Z"
      },
      {
        "duration": 5,
        "start_time": "2022-12-29T11:45:01.920Z"
      },
      {
        "duration": 5,
        "start_time": "2022-12-29T11:45:02.724Z"
      },
      {
        "duration": 6,
        "start_time": "2022-12-29T11:45:23.959Z"
      },
      {
        "duration": 9,
        "start_time": "2022-12-29T11:45:24.500Z"
      },
      {
        "duration": 10,
        "start_time": "2022-12-29T11:45:41.515Z"
      },
      {
        "duration": 4,
        "start_time": "2022-12-29T11:45:41.682Z"
      },
      {
        "duration": 5,
        "start_time": "2022-12-29T11:45:42.040Z"
      },
      {
        "duration": 15,
        "start_time": "2022-12-29T11:51:12.642Z"
      },
      {
        "duration": 14,
        "start_time": "2022-12-29T11:52:30.377Z"
      },
      {
        "duration": 22,
        "start_time": "2022-12-29T11:53:08.248Z"
      },
      {
        "duration": 12,
        "start_time": "2022-12-29T11:53:28.390Z"
      },
      {
        "duration": 14,
        "start_time": "2022-12-29T11:55:27.690Z"
      },
      {
        "duration": 21,
        "start_time": "2022-12-29T11:55:58.569Z"
      },
      {
        "duration": 14,
        "start_time": "2022-12-29T11:58:27.331Z"
      },
      {
        "duration": 15,
        "start_time": "2022-12-29T11:58:51.821Z"
      },
      {
        "duration": 11,
        "start_time": "2022-12-29T11:59:13.137Z"
      },
      {
        "duration": 92,
        "start_time": "2022-12-29T12:00:22.805Z"
      },
      {
        "duration": 11,
        "start_time": "2022-12-29T12:01:27.531Z"
      },
      {
        "duration": 9,
        "start_time": "2022-12-29T12:01:49.749Z"
      },
      {
        "duration": 79,
        "start_time": "2022-12-29T12:02:05.462Z"
      },
      {
        "duration": 9,
        "start_time": "2022-12-29T12:02:10.654Z"
      },
      {
        "duration": 9,
        "start_time": "2022-12-29T12:04:06.734Z"
      },
      {
        "duration": 8,
        "start_time": "2022-12-29T12:04:17.967Z"
      },
      {
        "duration": 8,
        "start_time": "2022-12-29T12:05:18.985Z"
      },
      {
        "duration": 16,
        "start_time": "2022-12-29T12:08:13.303Z"
      },
      {
        "duration": 1700,
        "start_time": "2022-12-29T12:08:26.165Z"
      },
      {
        "duration": 20,
        "start_time": "2022-12-29T12:08:53.862Z"
      },
      {
        "duration": 74,
        "start_time": "2022-12-29T12:09:45.901Z"
      },
      {
        "duration": 73,
        "start_time": "2022-12-29T12:09:57.871Z"
      },
      {
        "duration": 1751,
        "start_time": "2022-12-29T12:10:14.370Z"
      },
      {
        "duration": 81,
        "start_time": "2022-12-29T12:11:11.262Z"
      },
      {
        "duration": 59,
        "start_time": "2022-12-29T12:11:22.290Z"
      },
      {
        "duration": 81,
        "start_time": "2022-12-29T12:11:33.971Z"
      },
      {
        "duration": 89,
        "start_time": "2022-12-29T12:14:47.855Z"
      },
      {
        "duration": 4,
        "start_time": "2022-12-29T12:15:31.696Z"
      },
      {
        "duration": 21,
        "start_time": "2022-12-29T12:15:32.802Z"
      },
      {
        "duration": 4,
        "start_time": "2022-12-29T12:15:39.150Z"
      },
      {
        "duration": 6,
        "start_time": "2022-12-29T12:15:41.260Z"
      },
      {
        "duration": 5,
        "start_time": "2022-12-29T12:15:43.995Z"
      },
      {
        "duration": 7,
        "start_time": "2022-12-29T12:15:45.283Z"
      },
      {
        "duration": 6,
        "start_time": "2022-12-29T12:15:47.616Z"
      },
      {
        "duration": 5,
        "start_time": "2022-12-29T12:16:00.851Z"
      },
      {
        "duration": 16,
        "start_time": "2022-12-29T12:16:01.504Z"
      },
      {
        "duration": 5,
        "start_time": "2022-12-29T12:16:02.532Z"
      },
      {
        "duration": 5,
        "start_time": "2022-12-29T12:17:20.179Z"
      },
      {
        "duration": 9,
        "start_time": "2022-12-29T12:17:21.133Z"
      },
      {
        "duration": 14,
        "start_time": "2022-12-29T12:17:22.208Z"
      },
      {
        "duration": 6,
        "start_time": "2022-12-29T12:17:35.176Z"
      },
      {
        "duration": 5,
        "start_time": "2022-12-29T12:17:49.440Z"
      },
      {
        "duration": 6,
        "start_time": "2022-12-29T12:17:50.577Z"
      },
      {
        "duration": 12,
        "start_time": "2022-12-29T12:18:29.633Z"
      },
      {
        "duration": 4,
        "start_time": "2022-12-29T12:18:34.453Z"
      },
      {
        "duration": 5,
        "start_time": "2022-12-29T12:18:39.133Z"
      },
      {
        "duration": 6,
        "start_time": "2022-12-29T12:18:42.955Z"
      },
      {
        "duration": 5,
        "start_time": "2022-12-29T12:27:22.731Z"
      },
      {
        "duration": 17,
        "start_time": "2022-12-29T12:27:23.349Z"
      },
      {
        "duration": 8,
        "start_time": "2022-12-29T12:27:28.831Z"
      },
      {
        "duration": 5,
        "start_time": "2022-12-29T12:27:29.462Z"
      },
      {
        "duration": 8,
        "start_time": "2022-12-29T12:28:01.330Z"
      },
      {
        "duration": 7,
        "start_time": "2022-12-29T12:28:02.199Z"
      },
      {
        "duration": 83,
        "start_time": "2022-12-29T13:34:30.733Z"
      },
      {
        "duration": 86,
        "start_time": "2022-12-29T13:34:38.589Z"
      },
      {
        "duration": 87,
        "start_time": "2022-12-29T13:34:44.668Z"
      },
      {
        "duration": 150,
        "start_time": "2022-12-29T13:35:05.797Z"
      },
      {
        "duration": 5,
        "start_time": "2022-12-29T13:35:21.880Z"
      },
      {
        "duration": 5,
        "start_time": "2022-12-29T13:35:25.082Z"
      },
      {
        "duration": 6,
        "start_time": "2022-12-29T13:36:46.090Z"
      },
      {
        "duration": 5,
        "start_time": "2022-12-29T13:36:48.729Z"
      },
      {
        "duration": 7,
        "start_time": "2022-12-29T13:36:52.549Z"
      },
      {
        "duration": 5,
        "start_time": "2022-12-29T13:36:55.882Z"
      },
      {
        "duration": 5,
        "start_time": "2022-12-29T13:37:29.330Z"
      },
      {
        "duration": 5,
        "start_time": "2022-12-29T13:37:31.077Z"
      },
      {
        "duration": 5,
        "start_time": "2022-12-29T13:37:38.688Z"
      },
      {
        "duration": 5,
        "start_time": "2022-12-29T13:38:03.974Z"
      },
      {
        "duration": 4,
        "start_time": "2022-12-29T14:00:40.121Z"
      },
      {
        "duration": 4,
        "start_time": "2022-12-29T14:02:14.372Z"
      },
      {
        "duration": 4,
        "start_time": "2022-12-29T14:02:26.881Z"
      },
      {
        "duration": 4,
        "start_time": "2022-12-29T14:03:10.418Z"
      },
      {
        "duration": 4,
        "start_time": "2022-12-29T14:03:31.723Z"
      },
      {
        "duration": 3,
        "start_time": "2022-12-29T14:04:43.074Z"
      },
      {
        "duration": 4,
        "start_time": "2022-12-29T14:05:07.472Z"
      },
      {
        "duration": 5,
        "start_time": "2022-12-29T14:05:14.645Z"
      },
      {
        "duration": 115,
        "start_time": "2022-12-29T14:05:14.659Z"
      },
      {
        "duration": 12,
        "start_time": "2022-12-29T14:05:14.776Z"
      },
      {
        "duration": 8,
        "start_time": "2022-12-29T14:05:14.790Z"
      },
      {
        "duration": 20,
        "start_time": "2022-12-29T14:05:14.800Z"
      },
      {
        "duration": 11,
        "start_time": "2022-12-29T14:05:14.822Z"
      },
      {
        "duration": 8,
        "start_time": "2022-12-29T14:05:14.835Z"
      },
      {
        "duration": 11,
        "start_time": "2022-12-29T14:05:14.844Z"
      },
      {
        "duration": 8,
        "start_time": "2022-12-29T14:05:14.857Z"
      },
      {
        "duration": 7,
        "start_time": "2022-12-29T14:05:14.867Z"
      },
      {
        "duration": 7,
        "start_time": "2022-12-29T14:05:14.876Z"
      },
      {
        "duration": 6,
        "start_time": "2022-12-29T14:05:14.884Z"
      },
      {
        "duration": 59,
        "start_time": "2022-12-29T14:05:14.892Z"
      },
      {
        "duration": 4,
        "start_time": "2022-12-29T14:05:14.953Z"
      },
      {
        "duration": 9,
        "start_time": "2022-12-29T14:05:14.959Z"
      },
      {
        "duration": 8,
        "start_time": "2022-12-29T14:05:14.971Z"
      },
      {
        "duration": 39,
        "start_time": "2022-12-29T14:05:14.981Z"
      },
      {
        "duration": 73,
        "start_time": "2022-12-29T14:05:15.022Z"
      },
      {
        "duration": 303,
        "start_time": "2022-12-29T14:05:15.104Z"
      },
      {
        "duration": 75,
        "start_time": "2022-12-29T14:05:15.416Z"
      },
      {
        "duration": 0,
        "start_time": "2022-12-29T14:05:15.493Z"
      },
      {
        "duration": 0,
        "start_time": "2022-12-29T14:05:15.495Z"
      },
      {
        "duration": 0,
        "start_time": "2022-12-29T14:05:15.496Z"
      },
      {
        "duration": 0,
        "start_time": "2022-12-29T14:05:15.498Z"
      },
      {
        "duration": 0,
        "start_time": "2022-12-29T14:05:15.499Z"
      },
      {
        "duration": 0,
        "start_time": "2022-12-29T14:05:15.501Z"
      },
      {
        "duration": 0,
        "start_time": "2022-12-29T14:05:15.502Z"
      },
      {
        "duration": 0,
        "start_time": "2022-12-29T14:05:15.503Z"
      },
      {
        "duration": 0,
        "start_time": "2022-12-29T14:05:15.504Z"
      },
      {
        "duration": 71,
        "start_time": "2022-12-29T14:08:42.731Z"
      },
      {
        "duration": 80,
        "start_time": "2022-12-29T14:08:47.252Z"
      },
      {
        "duration": 5,
        "start_time": "2022-12-29T14:08:55.186Z"
      },
      {
        "duration": 12,
        "start_time": "2022-12-29T14:08:59.529Z"
      },
      {
        "duration": 5,
        "start_time": "2022-12-29T14:09:03.925Z"
      },
      {
        "duration": 5,
        "start_time": "2022-12-29T14:09:11.756Z"
      },
      {
        "duration": 6,
        "start_time": "2022-12-29T14:11:40.516Z"
      },
      {
        "duration": 9,
        "start_time": "2022-12-29T14:55:40.565Z"
      },
      {
        "duration": 10,
        "start_time": "2022-12-29T14:55:53.955Z"
      },
      {
        "duration": 9,
        "start_time": "2022-12-29T14:56:33.234Z"
      },
      {
        "duration": 4,
        "start_time": "2022-12-29T14:59:11.052Z"
      },
      {
        "duration": 89,
        "start_time": "2022-12-29T15:01:32.492Z"
      },
      {
        "duration": 8,
        "start_time": "2022-12-29T15:06:35.802Z"
      },
      {
        "duration": 91,
        "start_time": "2022-12-29T15:08:47.185Z"
      },
      {
        "duration": 4,
        "start_time": "2022-12-29T15:13:34.663Z"
      },
      {
        "duration": 9,
        "start_time": "2022-12-29T15:13:34.672Z"
      },
      {
        "duration": 32,
        "start_time": "2022-12-29T15:13:34.685Z"
      },
      {
        "duration": 5,
        "start_time": "2022-12-29T15:13:34.777Z"
      },
      {
        "duration": 6,
        "start_time": "2022-12-29T15:13:34.784Z"
      },
      {
        "duration": 6,
        "start_time": "2022-12-29T15:13:34.792Z"
      },
      {
        "duration": 8,
        "start_time": "2022-12-29T15:13:34.800Z"
      },
      {
        "duration": 20,
        "start_time": "2022-12-29T15:13:34.810Z"
      },
      {
        "duration": 6,
        "start_time": "2022-12-29T15:13:34.832Z"
      },
      {
        "duration": 5,
        "start_time": "2022-12-29T15:13:34.891Z"
      },
      {
        "duration": 10,
        "start_time": "2022-12-29T15:13:34.898Z"
      },
      {
        "duration": 8,
        "start_time": "2022-12-29T15:13:34.919Z"
      },
      {
        "duration": 40,
        "start_time": "2022-12-29T15:13:34.929Z"
      },
      {
        "duration": 4,
        "start_time": "2022-12-29T15:13:34.971Z"
      },
      {
        "duration": 8,
        "start_time": "2022-12-29T15:13:34.977Z"
      },
      {
        "duration": 5,
        "start_time": "2022-12-29T15:13:34.987Z"
      },
      {
        "duration": 35,
        "start_time": "2022-12-29T15:13:34.994Z"
      },
      {
        "duration": 80,
        "start_time": "2022-12-29T15:13:35.030Z"
      },
      {
        "duration": 404,
        "start_time": "2022-12-29T15:13:35.112Z"
      },
      {
        "duration": 72,
        "start_time": "2022-12-29T15:13:35.517Z"
      },
      {
        "duration": 0,
        "start_time": "2022-12-29T15:13:35.591Z"
      },
      {
        "duration": 0,
        "start_time": "2022-12-29T15:13:35.592Z"
      },
      {
        "duration": 0,
        "start_time": "2022-12-29T15:13:35.593Z"
      },
      {
        "duration": 0,
        "start_time": "2022-12-29T15:13:35.594Z"
      },
      {
        "duration": 0,
        "start_time": "2022-12-29T15:13:35.595Z"
      },
      {
        "duration": 0,
        "start_time": "2022-12-29T15:13:35.596Z"
      },
      {
        "duration": 0,
        "start_time": "2022-12-29T15:13:35.597Z"
      },
      {
        "duration": 0,
        "start_time": "2022-12-29T15:13:35.599Z"
      },
      {
        "duration": 0,
        "start_time": "2022-12-29T15:13:35.600Z"
      },
      {
        "duration": 8,
        "start_time": "2022-12-29T15:25:35.068Z"
      },
      {
        "duration": 4,
        "start_time": "2022-12-29T15:25:38.663Z"
      },
      {
        "duration": 5,
        "start_time": "2022-12-29T15:27:22.246Z"
      },
      {
        "duration": 5,
        "start_time": "2022-12-29T15:27:48.443Z"
      },
      {
        "duration": 23,
        "start_time": "2022-12-29T15:27:48.449Z"
      },
      {
        "duration": 46,
        "start_time": "2022-12-29T15:27:48.474Z"
      },
      {
        "duration": 14,
        "start_time": "2022-12-29T15:27:48.523Z"
      },
      {
        "duration": 42,
        "start_time": "2022-12-29T15:27:48.538Z"
      },
      {
        "duration": 41,
        "start_time": "2022-12-29T15:27:48.581Z"
      },
      {
        "duration": 18,
        "start_time": "2022-12-29T15:27:48.624Z"
      },
      {
        "duration": 36,
        "start_time": "2022-12-29T15:27:48.644Z"
      },
      {
        "duration": 17,
        "start_time": "2022-12-29T15:27:48.683Z"
      },
      {
        "duration": 37,
        "start_time": "2022-12-29T15:27:48.702Z"
      },
      {
        "duration": 7,
        "start_time": "2022-12-29T15:27:48.741Z"
      },
      {
        "duration": 27,
        "start_time": "2022-12-29T15:27:48.749Z"
      },
      {
        "duration": 44,
        "start_time": "2022-12-29T15:27:48.778Z"
      },
      {
        "duration": 15,
        "start_time": "2022-12-29T15:27:48.824Z"
      },
      {
        "duration": 17,
        "start_time": "2022-12-29T15:27:48.841Z"
      },
      {
        "duration": 8,
        "start_time": "2022-12-29T15:27:48.859Z"
      },
      {
        "duration": 19,
        "start_time": "2022-12-29T15:27:48.869Z"
      },
      {
        "duration": 73,
        "start_time": "2022-12-29T15:27:48.889Z"
      },
      {
        "duration": 313,
        "start_time": "2022-12-29T15:27:48.964Z"
      },
      {
        "duration": 78,
        "start_time": "2022-12-29T15:27:49.278Z"
      },
      {
        "duration": 0,
        "start_time": "2022-12-29T15:27:49.359Z"
      },
      {
        "duration": 0,
        "start_time": "2022-12-29T15:27:49.360Z"
      },
      {
        "duration": 0,
        "start_time": "2022-12-29T15:27:49.362Z"
      },
      {
        "duration": 0,
        "start_time": "2022-12-29T15:27:49.363Z"
      },
      {
        "duration": 0,
        "start_time": "2022-12-29T15:27:49.365Z"
      },
      {
        "duration": 0,
        "start_time": "2022-12-29T15:27:49.366Z"
      },
      {
        "duration": 0,
        "start_time": "2022-12-29T15:27:49.368Z"
      },
      {
        "duration": 0,
        "start_time": "2022-12-29T15:27:49.369Z"
      },
      {
        "duration": 0,
        "start_time": "2022-12-29T15:27:49.371Z"
      },
      {
        "duration": 6,
        "start_time": "2022-12-29T15:31:11.362Z"
      },
      {
        "duration": 5,
        "start_time": "2022-12-29T15:33:40.242Z"
      },
      {
        "duration": 5,
        "start_time": "2022-12-29T15:33:44.157Z"
      },
      {
        "duration": 5,
        "start_time": "2022-12-29T15:33:52.886Z"
      },
      {
        "duration": 18,
        "start_time": "2022-12-29T15:33:52.892Z"
      },
      {
        "duration": 15,
        "start_time": "2022-12-29T15:33:52.912Z"
      },
      {
        "duration": 10,
        "start_time": "2022-12-29T15:33:52.930Z"
      },
      {
        "duration": 14,
        "start_time": "2022-12-29T15:33:52.941Z"
      },
      {
        "duration": 8,
        "start_time": "2022-12-29T15:33:52.957Z"
      },
      {
        "duration": 12,
        "start_time": "2022-12-29T15:33:52.966Z"
      },
      {
        "duration": 8,
        "start_time": "2022-12-29T15:33:52.980Z"
      },
      {
        "duration": 8,
        "start_time": "2022-12-29T15:33:52.990Z"
      },
      {
        "duration": 12,
        "start_time": "2022-12-29T15:33:53.009Z"
      },
      {
        "duration": 12,
        "start_time": "2022-12-29T15:33:53.023Z"
      },
      {
        "duration": 13,
        "start_time": "2022-12-29T15:33:53.036Z"
      },
      {
        "duration": 34,
        "start_time": "2022-12-29T15:33:53.050Z"
      },
      {
        "duration": 4,
        "start_time": "2022-12-29T15:33:53.085Z"
      },
      {
        "duration": 14,
        "start_time": "2022-12-29T15:33:53.106Z"
      },
      {
        "duration": 9,
        "start_time": "2022-12-29T15:33:53.122Z"
      },
      {
        "duration": 21,
        "start_time": "2022-12-29T15:33:53.133Z"
      },
      {
        "duration": 101,
        "start_time": "2022-12-29T15:33:53.156Z"
      },
      {
        "duration": 283,
        "start_time": "2022-12-29T15:33:53.259Z"
      },
      {
        "duration": 81,
        "start_time": "2022-12-29T15:33:53.544Z"
      },
      {
        "duration": 0,
        "start_time": "2022-12-29T15:33:53.627Z"
      },
      {
        "duration": 0,
        "start_time": "2022-12-29T15:33:53.628Z"
      },
      {
        "duration": 0,
        "start_time": "2022-12-29T15:33:53.630Z"
      },
      {
        "duration": 0,
        "start_time": "2022-12-29T15:33:53.631Z"
      },
      {
        "duration": 0,
        "start_time": "2022-12-29T15:33:53.632Z"
      },
      {
        "duration": 0,
        "start_time": "2022-12-29T15:33:53.633Z"
      },
      {
        "duration": 0,
        "start_time": "2022-12-29T15:33:53.634Z"
      },
      {
        "duration": 0,
        "start_time": "2022-12-29T15:33:53.635Z"
      },
      {
        "duration": 0,
        "start_time": "2022-12-29T15:33:53.636Z"
      },
      {
        "duration": 4,
        "start_time": "2022-12-29T16:18:21.398Z"
      },
      {
        "duration": 4,
        "start_time": "2022-12-29T16:18:30.591Z"
      },
      {
        "duration": 5,
        "start_time": "2022-12-29T16:18:41.357Z"
      },
      {
        "duration": 5,
        "start_time": "2022-12-29T16:19:39.668Z"
      },
      {
        "duration": 74,
        "start_time": "2022-12-29T16:20:11.386Z"
      },
      {
        "duration": 77,
        "start_time": "2022-12-29T16:20:25.846Z"
      },
      {
        "duration": 12,
        "start_time": "2022-12-29T16:20:32.636Z"
      },
      {
        "duration": 77,
        "start_time": "2022-12-29T16:20:37.807Z"
      },
      {
        "duration": 72,
        "start_time": "2022-12-29T16:20:48.768Z"
      },
      {
        "duration": 3,
        "start_time": "2022-12-29T16:20:59.089Z"
      },
      {
        "duration": 3,
        "start_time": "2022-12-29T16:21:13.918Z"
      },
      {
        "duration": 6,
        "start_time": "2022-12-29T16:21:21.910Z"
      },
      {
        "duration": 3,
        "start_time": "2022-12-29T16:21:57.560Z"
      },
      {
        "duration": 14,
        "start_time": "2022-12-29T16:44:49.422Z"
      },
      {
        "duration": 10,
        "start_time": "2022-12-29T16:44:50.415Z"
      },
      {
        "duration": 60,
        "start_time": "2022-12-29T16:44:51.812Z"
      },
      {
        "duration": 16,
        "start_time": "2022-12-29T16:44:59.342Z"
      },
      {
        "duration": 342,
        "start_time": "2022-12-29T16:45:04.613Z"
      },
      {
        "duration": 27,
        "start_time": "2022-12-29T16:46:30.045Z"
      },
      {
        "duration": 3,
        "start_time": "2022-12-29T16:46:50.656Z"
      },
      {
        "duration": 189,
        "start_time": "2022-12-29T16:46:50.661Z"
      },
      {
        "duration": 8,
        "start_time": "2022-12-29T16:46:50.851Z"
      },
      {
        "duration": 22,
        "start_time": "2022-12-29T16:46:50.860Z"
      },
      {
        "duration": 32,
        "start_time": "2022-12-29T16:46:50.884Z"
      },
      {
        "duration": 8,
        "start_time": "2022-12-29T16:46:50.918Z"
      },
      {
        "duration": 17,
        "start_time": "2022-12-29T16:46:50.928Z"
      },
      {
        "duration": 22,
        "start_time": "2022-12-29T16:46:50.946Z"
      },
      {
        "duration": 78,
        "start_time": "2022-12-29T16:46:50.970Z"
      },
      {
        "duration": 75,
        "start_time": "2022-12-29T16:46:51.049Z"
      },
      {
        "duration": 11,
        "start_time": "2022-12-29T16:46:51.126Z"
      },
      {
        "duration": 1208,
        "start_time": "2022-12-29T16:46:51.139Z"
      },
      {
        "duration": 61,
        "start_time": "2022-12-29T16:46:52.349Z"
      },
      {
        "duration": 50,
        "start_time": "2022-12-29T16:46:52.419Z"
      },
      {
        "duration": 45,
        "start_time": "2022-12-29T16:46:52.471Z"
      },
      {
        "duration": 204,
        "start_time": "2022-12-29T16:46:52.517Z"
      },
      {
        "duration": 5,
        "start_time": "2022-12-29T16:46:52.725Z"
      },
      {
        "duration": 21,
        "start_time": "2022-12-29T16:46:52.732Z"
      },
      {
        "duration": 8,
        "start_time": "2022-12-29T16:46:52.755Z"
      },
      {
        "duration": 84,
        "start_time": "2022-12-29T16:46:52.765Z"
      },
      {
        "duration": 334,
        "start_time": "2022-12-29T16:46:52.851Z"
      },
      {
        "duration": 22,
        "start_time": "2022-12-29T16:46:53.186Z"
      },
      {
        "duration": 42,
        "start_time": "2022-12-29T16:46:53.210Z"
      },
      {
        "duration": 29,
        "start_time": "2022-12-29T16:46:53.253Z"
      },
      {
        "duration": 82,
        "start_time": "2022-12-29T16:46:53.283Z"
      },
      {
        "duration": 44,
        "start_time": "2022-12-29T16:46:53.367Z"
      },
      {
        "duration": 15,
        "start_time": "2022-12-29T16:46:53.416Z"
      },
      {
        "duration": 9,
        "start_time": "2022-12-29T16:46:53.433Z"
      },
      {
        "duration": 9,
        "start_time": "2022-12-29T16:46:53.443Z"
      },
      {
        "duration": 10,
        "start_time": "2022-12-29T16:46:53.453Z"
      },
      {
        "duration": 9,
        "start_time": "2022-12-29T16:46:53.465Z"
      },
      {
        "duration": 104,
        "start_time": "2022-12-29T16:46:53.476Z"
      },
      {
        "duration": 96,
        "start_time": "2022-12-29T16:46:53.582Z"
      },
      {
        "duration": 4,
        "start_time": "2022-12-29T16:46:53.679Z"
      },
      {
        "duration": 26,
        "start_time": "2022-12-29T16:46:53.684Z"
      },
      {
        "duration": 10,
        "start_time": "2022-12-29T16:46:53.711Z"
      },
      {
        "duration": 6,
        "start_time": "2022-12-29T16:46:53.725Z"
      },
      {
        "duration": 10,
        "start_time": "2022-12-29T16:46:53.733Z"
      },
      {
        "duration": 15,
        "start_time": "2022-12-29T16:46:53.745Z"
      },
      {
        "duration": 7,
        "start_time": "2022-12-29T16:46:53.762Z"
      },
      {
        "duration": 5,
        "start_time": "2022-12-29T16:46:53.772Z"
      },
      {
        "duration": 10,
        "start_time": "2022-12-29T16:46:53.778Z"
      },
      {
        "duration": 21,
        "start_time": "2022-12-29T16:46:53.790Z"
      },
      {
        "duration": 12,
        "start_time": "2022-12-29T16:46:53.813Z"
      },
      {
        "duration": 10,
        "start_time": "2022-12-29T16:46:53.827Z"
      },
      {
        "duration": 8,
        "start_time": "2022-12-29T16:46:53.838Z"
      },
      {
        "duration": 6,
        "start_time": "2022-12-29T16:46:53.847Z"
      },
      {
        "duration": 6,
        "start_time": "2022-12-29T16:46:53.855Z"
      },
      {
        "duration": 6,
        "start_time": "2022-12-29T16:46:53.862Z"
      },
      {
        "duration": 11,
        "start_time": "2022-12-29T16:46:53.869Z"
      },
      {
        "duration": 57,
        "start_time": "2022-12-29T16:46:53.881Z"
      },
      {
        "duration": 3,
        "start_time": "2022-12-29T16:46:53.940Z"
      },
      {
        "duration": 7,
        "start_time": "2022-12-29T16:46:53.945Z"
      },
      {
        "duration": 6,
        "start_time": "2022-12-29T16:46:53.954Z"
      },
      {
        "duration": 14,
        "start_time": "2022-12-29T16:46:53.961Z"
      },
      {
        "duration": 99,
        "start_time": "2022-12-29T16:46:53.976Z"
      },
      {
        "duration": 338,
        "start_time": "2022-12-29T16:46:54.076Z"
      },
      {
        "duration": 91,
        "start_time": "2022-12-29T16:46:54.423Z"
      },
      {
        "duration": 0,
        "start_time": "2022-12-29T16:46:54.519Z"
      },
      {
        "duration": 0,
        "start_time": "2022-12-29T16:46:54.521Z"
      },
      {
        "duration": 0,
        "start_time": "2022-12-29T16:46:54.523Z"
      },
      {
        "duration": 0,
        "start_time": "2022-12-29T16:46:54.524Z"
      },
      {
        "duration": 0,
        "start_time": "2022-12-29T16:46:54.525Z"
      },
      {
        "duration": 0,
        "start_time": "2022-12-29T16:46:54.526Z"
      },
      {
        "duration": 0,
        "start_time": "2022-12-29T16:46:54.527Z"
      },
      {
        "duration": 0,
        "start_time": "2022-12-29T16:46:54.528Z"
      },
      {
        "duration": 0,
        "start_time": "2022-12-29T16:46:54.529Z"
      },
      {
        "duration": 349,
        "start_time": "2022-12-29T16:47:59.017Z"
      },
      {
        "duration": 28,
        "start_time": "2022-12-29T16:48:33.856Z"
      },
      {
        "duration": 8,
        "start_time": "2022-12-29T16:50:02.449Z"
      },
      {
        "duration": 57,
        "start_time": "2022-12-29T16:50:17.266Z"
      },
      {
        "duration": 359,
        "start_time": "2022-12-29T16:50:28.602Z"
      },
      {
        "duration": 14,
        "start_time": "2022-12-29T16:51:11.085Z"
      },
      {
        "duration": 34,
        "start_time": "2022-12-29T16:51:13.606Z"
      },
      {
        "duration": 4,
        "start_time": "2022-12-29T16:51:20.271Z"
      },
      {
        "duration": 176,
        "start_time": "2022-12-29T16:51:20.277Z"
      },
      {
        "duration": 8,
        "start_time": "2022-12-29T16:51:20.454Z"
      },
      {
        "duration": 22,
        "start_time": "2022-12-29T16:51:20.464Z"
      },
      {
        "duration": 21,
        "start_time": "2022-12-29T16:51:20.489Z"
      },
      {
        "duration": 11,
        "start_time": "2022-12-29T16:51:20.514Z"
      },
      {
        "duration": 26,
        "start_time": "2022-12-29T16:51:20.527Z"
      },
      {
        "duration": 22,
        "start_time": "2022-12-29T16:51:20.554Z"
      },
      {
        "duration": 78,
        "start_time": "2022-12-29T16:51:20.577Z"
      },
      {
        "duration": 74,
        "start_time": "2022-12-29T16:51:20.657Z"
      },
      {
        "duration": 11,
        "start_time": "2022-12-29T16:51:20.733Z"
      },
      {
        "duration": 1212,
        "start_time": "2022-12-29T16:51:20.745Z"
      },
      {
        "duration": 73,
        "start_time": "2022-12-29T16:51:21.959Z"
      },
      {
        "duration": 74,
        "start_time": "2022-12-29T16:51:22.036Z"
      },
      {
        "duration": 49,
        "start_time": "2022-12-29T16:51:22.113Z"
      },
      {
        "duration": 195,
        "start_time": "2022-12-29T16:51:22.164Z"
      },
      {
        "duration": 6,
        "start_time": "2022-12-29T16:51:22.361Z"
      },
      {
        "duration": 17,
        "start_time": "2022-12-29T16:51:22.369Z"
      },
      {
        "duration": 36,
        "start_time": "2022-12-29T16:51:22.388Z"
      },
      {
        "duration": 47,
        "start_time": "2022-12-29T16:51:22.426Z"
      },
      {
        "duration": 380,
        "start_time": "2022-12-29T16:51:22.475Z"
      },
      {
        "duration": 9,
        "start_time": "2022-12-29T16:51:22.856Z"
      },
      {
        "duration": 25,
        "start_time": "2022-12-29T16:51:22.866Z"
      },
      {
        "duration": 39,
        "start_time": "2022-12-29T16:51:22.904Z"
      },
      {
        "duration": 78,
        "start_time": "2022-12-29T16:51:22.944Z"
      },
      {
        "duration": 35,
        "start_time": "2022-12-29T16:51:23.024Z"
      },
      {
        "duration": 13,
        "start_time": "2022-12-29T16:51:23.061Z"
      },
      {
        "duration": 31,
        "start_time": "2022-12-29T16:51:23.076Z"
      },
      {
        "duration": 11,
        "start_time": "2022-12-29T16:51:23.109Z"
      },
      {
        "duration": 17,
        "start_time": "2022-12-29T16:51:23.122Z"
      },
      {
        "duration": 13,
        "start_time": "2022-12-29T16:51:23.142Z"
      },
      {
        "duration": 112,
        "start_time": "2022-12-29T16:51:23.157Z"
      },
      {
        "duration": 93,
        "start_time": "2022-12-29T16:51:23.270Z"
      },
      {
        "duration": 4,
        "start_time": "2022-12-29T16:51:23.365Z"
      },
      {
        "duration": 24,
        "start_time": "2022-12-29T16:51:23.370Z"
      },
      {
        "duration": 6,
        "start_time": "2022-12-29T16:51:23.395Z"
      },
      {
        "duration": 19,
        "start_time": "2022-12-29T16:51:23.402Z"
      },
      {
        "duration": 7,
        "start_time": "2022-12-29T16:51:23.425Z"
      },
      {
        "duration": 6,
        "start_time": "2022-12-29T16:51:23.433Z"
      },
      {
        "duration": 6,
        "start_time": "2022-12-29T16:51:23.441Z"
      },
      {
        "duration": 7,
        "start_time": "2022-12-29T16:51:23.451Z"
      },
      {
        "duration": 19,
        "start_time": "2022-12-29T16:51:23.460Z"
      },
      {
        "duration": 7,
        "start_time": "2022-12-29T16:51:23.480Z"
      },
      {
        "duration": 10,
        "start_time": "2022-12-29T16:51:23.489Z"
      },
      {
        "duration": 23,
        "start_time": "2022-12-29T16:51:23.501Z"
      },
      {
        "duration": 7,
        "start_time": "2022-12-29T16:51:23.526Z"
      },
      {
        "duration": 18,
        "start_time": "2022-12-29T16:51:23.535Z"
      },
      {
        "duration": 11,
        "start_time": "2022-12-29T16:51:23.555Z"
      },
      {
        "duration": 7,
        "start_time": "2022-12-29T16:51:23.567Z"
      },
      {
        "duration": 7,
        "start_time": "2022-12-29T16:51:23.575Z"
      },
      {
        "duration": 43,
        "start_time": "2022-12-29T16:51:23.583Z"
      },
      {
        "duration": 4,
        "start_time": "2022-12-29T16:51:23.627Z"
      },
      {
        "duration": 11,
        "start_time": "2022-12-29T16:51:23.632Z"
      },
      {
        "duration": 7,
        "start_time": "2022-12-29T16:51:23.644Z"
      },
      {
        "duration": 15,
        "start_time": "2022-12-29T16:51:23.652Z"
      },
      {
        "duration": 110,
        "start_time": "2022-12-29T16:51:23.712Z"
      },
      {
        "duration": 394,
        "start_time": "2022-12-29T16:51:23.826Z"
      },
      {
        "duration": 98,
        "start_time": "2022-12-29T16:51:24.221Z"
      },
      {
        "duration": 0,
        "start_time": "2022-12-29T16:51:24.321Z"
      },
      {
        "duration": 0,
        "start_time": "2022-12-29T16:51:24.322Z"
      },
      {
        "duration": 0,
        "start_time": "2022-12-29T16:51:24.323Z"
      },
      {
        "duration": 0,
        "start_time": "2022-12-29T16:51:24.324Z"
      },
      {
        "duration": 0,
        "start_time": "2022-12-29T16:51:24.325Z"
      },
      {
        "duration": 0,
        "start_time": "2022-12-29T16:51:24.327Z"
      },
      {
        "duration": 0,
        "start_time": "2022-12-29T16:51:24.328Z"
      },
      {
        "duration": 0,
        "start_time": "2022-12-29T16:51:24.329Z"
      },
      {
        "duration": 0,
        "start_time": "2022-12-29T16:51:24.330Z"
      },
      {
        "duration": 6,
        "start_time": "2022-12-29T18:41:05.412Z"
      },
      {
        "duration": 4,
        "start_time": "2022-12-29T18:41:59.634Z"
      },
      {
        "duration": 71,
        "start_time": "2022-12-29T18:42:10.319Z"
      },
      {
        "duration": 71,
        "start_time": "2022-12-29T18:42:26.997Z"
      },
      {
        "duration": 76,
        "start_time": "2022-12-29T18:42:39.923Z"
      },
      {
        "duration": 22,
        "start_time": "2022-12-29T18:42:48.028Z"
      },
      {
        "duration": 157,
        "start_time": "2022-12-29T18:42:57.191Z"
      },
      {
        "duration": 9,
        "start_time": "2022-12-29T18:43:46.764Z"
      },
      {
        "duration": 24,
        "start_time": "2022-12-29T18:46:14.459Z"
      },
      {
        "duration": 11,
        "start_time": "2022-12-29T18:46:19.431Z"
      },
      {
        "duration": 11,
        "start_time": "2022-12-29T18:46:23.416Z"
      },
      {
        "duration": 6,
        "start_time": "2022-12-29T18:47:34.832Z"
      },
      {
        "duration": 12,
        "start_time": "2022-12-29T18:48:22.029Z"
      },
      {
        "duration": 5,
        "start_time": "2022-12-29T18:48:43.576Z"
      },
      {
        "duration": 12,
        "start_time": "2022-12-29T18:49:03.154Z"
      },
      {
        "duration": 71,
        "start_time": "2022-12-29T18:49:31.700Z"
      },
      {
        "duration": 7,
        "start_time": "2022-12-29T18:49:33.594Z"
      },
      {
        "duration": 15,
        "start_time": "2022-12-29T18:49:37.335Z"
      },
      {
        "duration": 7,
        "start_time": "2022-12-29T18:50:15.088Z"
      },
      {
        "duration": 5,
        "start_time": "2022-12-29T18:50:17.854Z"
      },
      {
        "duration": 101,
        "start_time": "2022-12-29T18:50:43.429Z"
      },
      {
        "duration": 11,
        "start_time": "2022-12-29T18:51:41.440Z"
      },
      {
        "duration": 15,
        "start_time": "2022-12-29T18:52:28.638Z"
      },
      {
        "duration": 17,
        "start_time": "2022-12-29T18:52:34.275Z"
      },
      {
        "duration": 17,
        "start_time": "2022-12-29T18:57:25.930Z"
      },
      {
        "duration": 12,
        "start_time": "2022-12-29T18:57:37.477Z"
      },
      {
        "duration": 14,
        "start_time": "2022-12-29T18:57:40.129Z"
      },
      {
        "duration": 10,
        "start_time": "2022-12-29T18:57:47.096Z"
      },
      {
        "duration": 14,
        "start_time": "2022-12-29T18:58:02.287Z"
      },
      {
        "duration": 12,
        "start_time": "2022-12-29T18:58:25.450Z"
      },
      {
        "duration": 11,
        "start_time": "2022-12-29T19:02:54.558Z"
      },
      {
        "duration": 71,
        "start_time": "2022-12-29T19:11:10.906Z"
      },
      {
        "duration": 73,
        "start_time": "2022-12-29T19:11:28.733Z"
      },
      {
        "duration": 1082,
        "start_time": "2022-12-29T19:11:35.669Z"
      },
      {
        "duration": 9,
        "start_time": "2022-12-29T19:12:10.407Z"
      },
      {
        "duration": 4,
        "start_time": "2022-12-29T19:13:11.697Z"
      },
      {
        "duration": 8,
        "start_time": "2022-12-29T19:13:35.704Z"
      },
      {
        "duration": 11,
        "start_time": "2022-12-29T19:13:44.116Z"
      },
      {
        "duration": 11,
        "start_time": "2022-12-29T19:13:47.857Z"
      },
      {
        "duration": 119,
        "start_time": "2022-12-29T19:14:26.465Z"
      },
      {
        "duration": 10,
        "start_time": "2022-12-29T19:17:14.464Z"
      },
      {
        "duration": 6,
        "start_time": "2022-12-29T19:22:10.835Z"
      },
      {
        "duration": 14,
        "start_time": "2022-12-29T19:22:42.667Z"
      },
      {
        "duration": 4,
        "start_time": "2022-12-29T19:23:48.822Z"
      },
      {
        "duration": 12,
        "start_time": "2022-12-29T19:25:26.958Z"
      },
      {
        "duration": 78,
        "start_time": "2022-12-29T19:30:46.083Z"
      },
      {
        "duration": 68,
        "start_time": "2022-12-29T19:30:53.759Z"
      },
      {
        "duration": 6,
        "start_time": "2022-12-29T19:34:26.256Z"
      },
      {
        "duration": 6,
        "start_time": "2022-12-29T19:34:38.540Z"
      },
      {
        "duration": 4,
        "start_time": "2022-12-29T19:35:49.050Z"
      },
      {
        "duration": 4,
        "start_time": "2022-12-29T19:35:53.499Z"
      },
      {
        "duration": 13,
        "start_time": "2022-12-29T19:36:55.625Z"
      },
      {
        "duration": 1301,
        "start_time": "2022-12-29T19:37:17.472Z"
      },
      {
        "duration": 74,
        "start_time": "2022-12-29T19:38:26.073Z"
      },
      {
        "duration": 1245,
        "start_time": "2022-12-29T19:38:27.730Z"
      },
      {
        "duration": 7,
        "start_time": "2022-12-29T19:38:32.170Z"
      },
      {
        "duration": 11,
        "start_time": "2022-12-29T19:38:56.586Z"
      },
      {
        "duration": 6,
        "start_time": "2022-12-29T19:39:01.405Z"
      },
      {
        "duration": 205,
        "start_time": "2022-12-29T19:39:01.426Z"
      },
      {
        "duration": 16,
        "start_time": "2022-12-29T19:39:01.634Z"
      },
      {
        "duration": 61,
        "start_time": "2022-12-29T19:39:01.653Z"
      },
      {
        "duration": 10,
        "start_time": "2022-12-29T19:39:01.716Z"
      },
      {
        "duration": 19,
        "start_time": "2022-12-29T19:39:01.731Z"
      },
      {
        "duration": 28,
        "start_time": "2022-12-29T19:39:01.752Z"
      },
      {
        "duration": 26,
        "start_time": "2022-12-29T19:39:01.781Z"
      },
      {
        "duration": 106,
        "start_time": "2022-12-29T19:39:01.809Z"
      },
      {
        "duration": 58,
        "start_time": "2022-12-29T19:39:01.917Z"
      },
      {
        "duration": 14,
        "start_time": "2022-12-29T19:39:01.977Z"
      },
      {
        "duration": 1152,
        "start_time": "2022-12-29T19:39:01.993Z"
      },
      {
        "duration": 41,
        "start_time": "2022-12-29T19:39:03.147Z"
      },
      {
        "duration": 76,
        "start_time": "2022-12-29T19:39:03.190Z"
      },
      {
        "duration": 41,
        "start_time": "2022-12-29T19:39:03.268Z"
      },
      {
        "duration": 181,
        "start_time": "2022-12-29T19:39:03.317Z"
      },
      {
        "duration": 21,
        "start_time": "2022-12-29T19:39:03.499Z"
      },
      {
        "duration": 20,
        "start_time": "2022-12-29T19:39:03.522Z"
      },
      {
        "duration": 8,
        "start_time": "2022-12-29T19:39:03.544Z"
      },
      {
        "duration": 81,
        "start_time": "2022-12-29T19:39:03.554Z"
      },
      {
        "duration": 350,
        "start_time": "2022-12-29T19:39:03.637Z"
      },
      {
        "duration": 27,
        "start_time": "2022-12-29T19:39:03.988Z"
      },
      {
        "duration": 31,
        "start_time": "2022-12-29T19:39:04.017Z"
      },
      {
        "duration": 28,
        "start_time": "2022-12-29T19:39:04.049Z"
      },
      {
        "duration": 71,
        "start_time": "2022-12-29T19:39:04.078Z"
      },
      {
        "duration": 62,
        "start_time": "2022-12-29T19:39:04.152Z"
      },
      {
        "duration": 21,
        "start_time": "2022-12-29T19:39:04.216Z"
      },
      {
        "duration": 10,
        "start_time": "2022-12-29T19:39:04.239Z"
      },
      {
        "duration": 7,
        "start_time": "2022-12-29T19:39:04.250Z"
      },
      {
        "duration": 9,
        "start_time": "2022-12-29T19:39:04.258Z"
      },
      {
        "duration": 9,
        "start_time": "2022-12-29T19:39:04.268Z"
      },
      {
        "duration": 105,
        "start_time": "2022-12-29T19:39:04.278Z"
      },
      {
        "duration": 1318,
        "start_time": "2022-12-29T19:39:04.384Z"
      },
      {
        "duration": 0,
        "start_time": "2022-12-29T19:39:05.709Z"
      },
      {
        "duration": 0,
        "start_time": "2022-12-29T19:39:05.710Z"
      },
      {
        "duration": 0,
        "start_time": "2022-12-29T19:39:05.711Z"
      },
      {
        "duration": 0,
        "start_time": "2022-12-29T19:39:05.712Z"
      },
      {
        "duration": 0,
        "start_time": "2022-12-29T19:39:05.712Z"
      },
      {
        "duration": 0,
        "start_time": "2022-12-29T19:39:05.713Z"
      },
      {
        "duration": 0,
        "start_time": "2022-12-29T19:39:05.714Z"
      },
      {
        "duration": 0,
        "start_time": "2022-12-29T19:39:05.715Z"
      },
      {
        "duration": 0,
        "start_time": "2022-12-29T19:39:05.716Z"
      },
      {
        "duration": 0,
        "start_time": "2022-12-29T19:39:05.716Z"
      },
      {
        "duration": 0,
        "start_time": "2022-12-29T19:39:05.717Z"
      },
      {
        "duration": 0,
        "start_time": "2022-12-29T19:39:05.718Z"
      },
      {
        "duration": 0,
        "start_time": "2022-12-29T19:39:05.719Z"
      },
      {
        "duration": 0,
        "start_time": "2022-12-29T19:39:05.719Z"
      },
      {
        "duration": 0,
        "start_time": "2022-12-29T19:39:05.720Z"
      },
      {
        "duration": 0,
        "start_time": "2022-12-29T19:39:05.724Z"
      },
      {
        "duration": 0,
        "start_time": "2022-12-29T19:39:05.725Z"
      },
      {
        "duration": 0,
        "start_time": "2022-12-29T19:39:05.726Z"
      },
      {
        "duration": 0,
        "start_time": "2022-12-29T19:39:05.727Z"
      },
      {
        "duration": 0,
        "start_time": "2022-12-29T19:39:05.727Z"
      },
      {
        "duration": 0,
        "start_time": "2022-12-29T19:39:05.728Z"
      },
      {
        "duration": 0,
        "start_time": "2022-12-29T19:39:05.729Z"
      },
      {
        "duration": 0,
        "start_time": "2022-12-29T19:39:05.730Z"
      },
      {
        "duration": 0,
        "start_time": "2022-12-29T19:39:05.731Z"
      },
      {
        "duration": 0,
        "start_time": "2022-12-29T19:39:05.732Z"
      },
      {
        "duration": 0,
        "start_time": "2022-12-29T19:39:05.733Z"
      },
      {
        "duration": 0,
        "start_time": "2022-12-29T19:39:05.734Z"
      },
      {
        "duration": 0,
        "start_time": "2022-12-29T19:39:05.735Z"
      },
      {
        "duration": 0,
        "start_time": "2022-12-29T19:39:05.736Z"
      },
      {
        "duration": 0,
        "start_time": "2022-12-29T19:39:05.736Z"
      },
      {
        "duration": 0,
        "start_time": "2022-12-29T19:39:05.737Z"
      },
      {
        "duration": 0,
        "start_time": "2022-12-29T19:39:05.738Z"
      },
      {
        "duration": 0,
        "start_time": "2022-12-29T19:39:05.739Z"
      },
      {
        "duration": 0,
        "start_time": "2022-12-29T19:39:05.740Z"
      },
      {
        "duration": 0,
        "start_time": "2022-12-29T19:39:05.741Z"
      },
      {
        "duration": 0,
        "start_time": "2022-12-29T19:39:05.742Z"
      },
      {
        "duration": 0,
        "start_time": "2022-12-29T19:39:05.743Z"
      },
      {
        "duration": 0,
        "start_time": "2022-12-29T19:39:05.744Z"
      },
      {
        "duration": 4,
        "start_time": "2022-12-29T19:39:31.663Z"
      },
      {
        "duration": 207,
        "start_time": "2022-12-29T19:39:31.670Z"
      },
      {
        "duration": 7,
        "start_time": "2022-12-29T19:39:31.879Z"
      },
      {
        "duration": 53,
        "start_time": "2022-12-29T19:39:31.887Z"
      },
      {
        "duration": 5,
        "start_time": "2022-12-29T19:39:31.942Z"
      },
      {
        "duration": 22,
        "start_time": "2022-12-29T19:39:31.948Z"
      },
      {
        "duration": 42,
        "start_time": "2022-12-29T19:39:31.972Z"
      },
      {
        "duration": 39,
        "start_time": "2022-12-29T19:39:32.015Z"
      },
      {
        "duration": 91,
        "start_time": "2022-12-29T19:39:32.056Z"
      },
      {
        "duration": 68,
        "start_time": "2022-12-29T19:39:32.149Z"
      },
      {
        "duration": 13,
        "start_time": "2022-12-29T19:39:32.219Z"
      },
      {
        "duration": 1223,
        "start_time": "2022-12-29T19:39:32.234Z"
      },
      {
        "duration": 60,
        "start_time": "2022-12-29T19:39:33.458Z"
      },
      {
        "duration": 76,
        "start_time": "2022-12-29T19:39:33.521Z"
      },
      {
        "duration": 43,
        "start_time": "2022-12-29T19:39:33.599Z"
      },
      {
        "duration": 207,
        "start_time": "2022-12-29T19:39:33.643Z"
      },
      {
        "duration": 6,
        "start_time": "2022-12-29T19:39:33.852Z"
      },
      {
        "duration": 18,
        "start_time": "2022-12-29T19:39:33.859Z"
      },
      {
        "duration": 32,
        "start_time": "2022-12-29T19:39:33.879Z"
      },
      {
        "duration": 65,
        "start_time": "2022-12-29T19:39:33.913Z"
      },
      {
        "duration": 335,
        "start_time": "2022-12-29T19:39:33.980Z"
      },
      {
        "duration": 20,
        "start_time": "2022-12-29T19:39:34.317Z"
      },
      {
        "duration": 23,
        "start_time": "2022-12-29T19:39:34.339Z"
      },
      {
        "duration": 29,
        "start_time": "2022-12-29T19:39:34.363Z"
      },
      {
        "duration": 86,
        "start_time": "2022-12-29T19:39:34.393Z"
      },
      {
        "duration": 58,
        "start_time": "2022-12-29T19:39:34.480Z"
      },
      {
        "duration": 13,
        "start_time": "2022-12-29T19:39:34.540Z"
      },
      {
        "duration": 15,
        "start_time": "2022-12-29T19:39:34.554Z"
      },
      {
        "duration": 7,
        "start_time": "2022-12-29T19:39:34.573Z"
      },
      {
        "duration": 33,
        "start_time": "2022-12-29T19:39:34.581Z"
      },
      {
        "duration": 13,
        "start_time": "2022-12-29T19:39:34.616Z"
      },
      {
        "duration": 93,
        "start_time": "2022-12-29T19:39:34.630Z"
      },
      {
        "duration": 2,
        "start_time": "2022-12-29T19:39:34.724Z"
      },
      {
        "duration": 19,
        "start_time": "2022-12-29T19:39:34.728Z"
      },
      {
        "duration": 0,
        "start_time": "2022-12-29T19:39:34.750Z"
      },
      {
        "duration": 0,
        "start_time": "2022-12-29T19:39:34.751Z"
      },
      {
        "duration": 0,
        "start_time": "2022-12-29T19:39:34.752Z"
      },
      {
        "duration": 0,
        "start_time": "2022-12-29T19:39:34.753Z"
      },
      {
        "duration": 0,
        "start_time": "2022-12-29T19:39:34.754Z"
      },
      {
        "duration": 0,
        "start_time": "2022-12-29T19:39:34.755Z"
      },
      {
        "duration": 0,
        "start_time": "2022-12-29T19:39:34.756Z"
      },
      {
        "duration": 0,
        "start_time": "2022-12-29T19:39:34.757Z"
      },
      {
        "duration": 0,
        "start_time": "2022-12-29T19:39:34.758Z"
      },
      {
        "duration": 0,
        "start_time": "2022-12-29T19:39:34.759Z"
      },
      {
        "duration": 0,
        "start_time": "2022-12-29T19:39:34.761Z"
      },
      {
        "duration": 0,
        "start_time": "2022-12-29T19:39:34.762Z"
      },
      {
        "duration": 0,
        "start_time": "2022-12-29T19:39:34.763Z"
      },
      {
        "duration": 0,
        "start_time": "2022-12-29T19:39:34.764Z"
      },
      {
        "duration": 0,
        "start_time": "2022-12-29T19:39:34.805Z"
      },
      {
        "duration": 0,
        "start_time": "2022-12-29T19:39:34.805Z"
      },
      {
        "duration": 0,
        "start_time": "2022-12-29T19:39:34.806Z"
      },
      {
        "duration": 0,
        "start_time": "2022-12-29T19:39:34.807Z"
      },
      {
        "duration": 0,
        "start_time": "2022-12-29T19:39:34.807Z"
      },
      {
        "duration": 0,
        "start_time": "2022-12-29T19:39:34.808Z"
      },
      {
        "duration": 0,
        "start_time": "2022-12-29T19:39:34.808Z"
      },
      {
        "duration": 0,
        "start_time": "2022-12-29T19:39:34.809Z"
      },
      {
        "duration": 0,
        "start_time": "2022-12-29T19:39:34.809Z"
      },
      {
        "duration": 0,
        "start_time": "2022-12-29T19:39:34.811Z"
      },
      {
        "duration": 0,
        "start_time": "2022-12-29T19:39:34.812Z"
      },
      {
        "duration": 0,
        "start_time": "2022-12-29T19:39:34.816Z"
      },
      {
        "duration": 0,
        "start_time": "2022-12-29T19:39:34.816Z"
      },
      {
        "duration": 0,
        "start_time": "2022-12-29T19:39:34.817Z"
      },
      {
        "duration": 0,
        "start_time": "2022-12-29T19:39:34.818Z"
      },
      {
        "duration": 0,
        "start_time": "2022-12-29T19:39:34.818Z"
      },
      {
        "duration": 0,
        "start_time": "2022-12-29T19:39:34.819Z"
      },
      {
        "duration": 0,
        "start_time": "2022-12-29T19:39:34.819Z"
      },
      {
        "duration": 0,
        "start_time": "2022-12-29T19:39:34.821Z"
      },
      {
        "duration": 0,
        "start_time": "2022-12-29T19:39:34.822Z"
      },
      {
        "duration": 0,
        "start_time": "2022-12-29T19:39:34.823Z"
      },
      {
        "duration": 0,
        "start_time": "2022-12-29T19:39:34.824Z"
      },
      {
        "duration": 0,
        "start_time": "2022-12-29T19:39:34.825Z"
      },
      {
        "duration": 12,
        "start_time": "2022-12-29T19:40:45.801Z"
      },
      {
        "duration": 8,
        "start_time": "2022-12-29T19:42:15.641Z"
      },
      {
        "duration": 56,
        "start_time": "2022-12-29T19:44:48.739Z"
      },
      {
        "duration": 23,
        "start_time": "2022-12-29T19:45:45.818Z"
      },
      {
        "duration": 89,
        "start_time": "2022-12-29T19:46:27.353Z"
      },
      {
        "duration": 57,
        "start_time": "2022-12-29T19:46:51.816Z"
      },
      {
        "duration": 4,
        "start_time": "2022-12-29T19:47:13.024Z"
      },
      {
        "duration": 5,
        "start_time": "2022-12-29T19:47:55.827Z"
      },
      {
        "duration": 4,
        "start_time": "2022-12-29T19:48:12.231Z"
      },
      {
        "duration": 74,
        "start_time": "2022-12-29T19:49:01.583Z"
      },
      {
        "duration": 1192,
        "start_time": "2022-12-29T19:49:14.901Z"
      },
      {
        "duration": 64,
        "start_time": "2022-12-29T19:49:51.662Z"
      },
      {
        "duration": 1160,
        "start_time": "2022-12-29T19:49:54.383Z"
      },
      {
        "duration": 3,
        "start_time": "2022-12-29T19:54:42.231Z"
      },
      {
        "duration": 5,
        "start_time": "2022-12-29T19:55:08.638Z"
      },
      {
        "duration": 9,
        "start_time": "2022-12-29T19:55:44.156Z"
      },
      {
        "duration": 62,
        "start_time": "2022-12-29T19:55:55.186Z"
      },
      {
        "duration": 9,
        "start_time": "2022-12-29T19:56:12.161Z"
      },
      {
        "duration": 9,
        "start_time": "2022-12-29T19:56:42.412Z"
      },
      {
        "duration": 10,
        "start_time": "2022-12-29T19:57:10.320Z"
      },
      {
        "duration": 4,
        "start_time": "2022-12-29T19:57:40.456Z"
      },
      {
        "duration": 181,
        "start_time": "2022-12-29T19:57:40.462Z"
      },
      {
        "duration": 7,
        "start_time": "2022-12-29T19:57:40.645Z"
      },
      {
        "duration": 22,
        "start_time": "2022-12-29T19:57:40.654Z"
      },
      {
        "duration": 5,
        "start_time": "2022-12-29T19:57:40.677Z"
      },
      {
        "duration": 11,
        "start_time": "2022-12-29T19:57:40.706Z"
      },
      {
        "duration": 15,
        "start_time": "2022-12-29T19:57:40.719Z"
      },
      {
        "duration": 23,
        "start_time": "2022-12-29T19:57:40.736Z"
      },
      {
        "duration": 80,
        "start_time": "2022-12-29T19:57:40.761Z"
      },
      {
        "duration": 74,
        "start_time": "2022-12-29T19:57:40.843Z"
      },
      {
        "duration": 14,
        "start_time": "2022-12-29T19:57:40.919Z"
      },
      {
        "duration": 1134,
        "start_time": "2022-12-29T19:57:40.935Z"
      },
      {
        "duration": 63,
        "start_time": "2022-12-29T19:57:42.071Z"
      },
      {
        "duration": 89,
        "start_time": "2022-12-29T19:57:42.136Z"
      },
      {
        "duration": 34,
        "start_time": "2022-12-29T19:57:42.226Z"
      },
      {
        "duration": 190,
        "start_time": "2022-12-29T19:57:42.262Z"
      },
      {
        "duration": 6,
        "start_time": "2022-12-29T19:57:42.454Z"
      },
      {
        "duration": 25,
        "start_time": "2022-12-29T19:57:42.461Z"
      },
      {
        "duration": 20,
        "start_time": "2022-12-29T19:57:42.488Z"
      },
      {
        "duration": 51,
        "start_time": "2022-12-29T19:57:42.510Z"
      },
      {
        "duration": 462,
        "start_time": "2022-12-29T19:57:42.563Z"
      },
      {
        "duration": 11,
        "start_time": "2022-12-29T19:57:43.026Z"
      },
      {
        "duration": 25,
        "start_time": "2022-12-29T19:57:43.045Z"
      },
      {
        "duration": 48,
        "start_time": "2022-12-29T19:57:43.072Z"
      },
      {
        "duration": 56,
        "start_time": "2022-12-29T19:57:43.121Z"
      },
      {
        "duration": 49,
        "start_time": "2022-12-29T19:57:43.178Z"
      },
      {
        "duration": 12,
        "start_time": "2022-12-29T19:57:43.229Z"
      },
      {
        "duration": 14,
        "start_time": "2022-12-29T19:57:43.245Z"
      },
      {
        "duration": 8,
        "start_time": "2022-12-29T19:57:43.261Z"
      },
      {
        "duration": 35,
        "start_time": "2022-12-29T19:57:43.270Z"
      },
      {
        "duration": 12,
        "start_time": "2022-12-29T19:57:43.306Z"
      },
      {
        "duration": 87,
        "start_time": "2022-12-29T19:57:43.319Z"
      },
      {
        "duration": 62,
        "start_time": "2022-12-29T19:57:43.408Z"
      },
      {
        "duration": 3,
        "start_time": "2022-12-29T19:57:43.472Z"
      },
      {
        "duration": 88,
        "start_time": "2022-12-29T19:57:43.477Z"
      },
      {
        "duration": 4,
        "start_time": "2022-12-29T19:57:43.566Z"
      },
      {
        "duration": 7,
        "start_time": "2022-12-29T19:57:43.571Z"
      },
      {
        "duration": 33,
        "start_time": "2022-12-29T19:57:43.579Z"
      },
      {
        "duration": 78,
        "start_time": "2022-12-29T19:57:43.617Z"
      },
      {
        "duration": 8,
        "start_time": "2022-12-29T19:57:43.697Z"
      },
      {
        "duration": 12,
        "start_time": "2022-12-29T19:57:43.707Z"
      },
      {
        "duration": 5,
        "start_time": "2022-12-29T19:57:43.721Z"
      },
      {
        "duration": 10,
        "start_time": "2022-12-29T19:57:43.728Z"
      },
      {
        "duration": 6,
        "start_time": "2022-12-29T19:57:43.739Z"
      },
      {
        "duration": 6,
        "start_time": "2022-12-29T19:57:43.746Z"
      },
      {
        "duration": 7,
        "start_time": "2022-12-29T19:57:43.754Z"
      },
      {
        "duration": 7,
        "start_time": "2022-12-29T19:57:43.762Z"
      },
      {
        "duration": 50,
        "start_time": "2022-12-29T19:57:43.771Z"
      },
      {
        "duration": 7,
        "start_time": "2022-12-29T19:57:43.823Z"
      },
      {
        "duration": 17,
        "start_time": "2022-12-29T19:57:43.832Z"
      },
      {
        "duration": 23,
        "start_time": "2022-12-29T19:57:43.851Z"
      },
      {
        "duration": 8,
        "start_time": "2022-12-29T19:57:43.876Z"
      },
      {
        "duration": 7,
        "start_time": "2022-12-29T19:57:43.886Z"
      },
      {
        "duration": 7,
        "start_time": "2022-12-29T19:57:43.904Z"
      },
      {
        "duration": 12,
        "start_time": "2022-12-29T19:57:43.912Z"
      },
      {
        "duration": 8,
        "start_time": "2022-12-29T19:57:43.925Z"
      },
      {
        "duration": 35,
        "start_time": "2022-12-29T19:57:43.935Z"
      },
      {
        "duration": 3,
        "start_time": "2022-12-29T19:57:43.972Z"
      },
      {
        "duration": 35,
        "start_time": "2022-12-29T19:57:43.977Z"
      },
      {
        "duration": 9,
        "start_time": "2022-12-29T19:57:44.014Z"
      },
      {
        "duration": 15,
        "start_time": "2022-12-29T19:57:44.024Z"
      },
      {
        "duration": 78,
        "start_time": "2022-12-29T19:57:44.040Z"
      },
      {
        "duration": 311,
        "start_time": "2022-12-29T19:57:44.121Z"
      },
      {
        "duration": 74,
        "start_time": "2022-12-29T19:57:44.434Z"
      },
      {
        "duration": 0,
        "start_time": "2022-12-29T19:57:44.510Z"
      },
      {
        "duration": 0,
        "start_time": "2022-12-29T19:57:44.511Z"
      },
      {
        "duration": 0,
        "start_time": "2022-12-29T19:57:44.512Z"
      },
      {
        "duration": 0,
        "start_time": "2022-12-29T19:57:44.513Z"
      },
      {
        "duration": 0,
        "start_time": "2022-12-29T19:57:44.514Z"
      },
      {
        "duration": 0,
        "start_time": "2022-12-29T19:57:44.515Z"
      },
      {
        "duration": 0,
        "start_time": "2022-12-29T19:57:44.516Z"
      },
      {
        "duration": 0,
        "start_time": "2022-12-29T19:57:44.517Z"
      },
      {
        "duration": 0,
        "start_time": "2022-12-29T19:57:44.517Z"
      },
      {
        "duration": 75,
        "start_time": "2022-12-29T19:58:53.713Z"
      },
      {
        "duration": 216,
        "start_time": "2022-12-29T19:58:59.421Z"
      },
      {
        "duration": 56,
        "start_time": "2022-12-29T19:59:26.367Z"
      },
      {
        "duration": 8,
        "start_time": "2022-12-29T19:59:59.540Z"
      },
      {
        "duration": 8,
        "start_time": "2022-12-29T20:00:03.363Z"
      },
      {
        "duration": 9,
        "start_time": "2022-12-29T20:00:08.067Z"
      },
      {
        "duration": 7,
        "start_time": "2022-12-29T20:00:16.278Z"
      },
      {
        "duration": 8,
        "start_time": "2022-12-29T20:00:54.745Z"
      },
      {
        "duration": 52,
        "start_time": "2022-12-29T20:01:25.524Z"
      },
      {
        "duration": 69,
        "start_time": "2022-12-29T20:03:02.300Z"
      },
      {
        "duration": 52,
        "start_time": "2022-12-29T20:16:36.926Z"
      },
      {
        "duration": 11,
        "start_time": "2022-12-29T20:17:07.998Z"
      },
      {
        "duration": 10,
        "start_time": "2022-12-29T20:17:17.946Z"
      },
      {
        "duration": 11,
        "start_time": "2022-12-29T20:17:25.879Z"
      },
      {
        "duration": 10,
        "start_time": "2022-12-29T20:17:29.735Z"
      },
      {
        "duration": 4,
        "start_time": "2022-12-29T20:17:51.433Z"
      },
      {
        "duration": 162,
        "start_time": "2022-12-29T20:17:51.438Z"
      },
      {
        "duration": 10,
        "start_time": "2022-12-29T20:17:51.602Z"
      },
      {
        "duration": 22,
        "start_time": "2022-12-29T20:17:51.614Z"
      },
      {
        "duration": 12,
        "start_time": "2022-12-29T20:17:51.638Z"
      },
      {
        "duration": 7,
        "start_time": "2022-12-29T20:17:51.652Z"
      },
      {
        "duration": 17,
        "start_time": "2022-12-29T20:17:51.661Z"
      },
      {
        "duration": 44,
        "start_time": "2022-12-29T20:17:51.680Z"
      },
      {
        "duration": 67,
        "start_time": "2022-12-29T20:17:56.900Z"
      },
      {
        "duration": 114,
        "start_time": "2022-12-29T20:17:59.639Z"
      },
      {
        "duration": 110,
        "start_time": "2022-12-29T20:18:12.366Z"
      },
      {
        "duration": 68,
        "start_time": "2022-12-29T20:18:34.784Z"
      },
      {
        "duration": 12,
        "start_time": "2022-12-29T20:18:34.854Z"
      },
      {
        "duration": 1189,
        "start_time": "2022-12-29T20:18:34.868Z"
      },
      {
        "duration": 68,
        "start_time": "2022-12-29T20:18:36.059Z"
      },
      {
        "duration": 56,
        "start_time": "2022-12-29T20:18:36.129Z"
      },
      {
        "duration": 40,
        "start_time": "2022-12-29T20:18:36.187Z"
      },
      {
        "duration": 168,
        "start_time": "2022-12-29T20:18:36.229Z"
      },
      {
        "duration": 8,
        "start_time": "2022-12-29T20:18:36.399Z"
      },
      {
        "duration": 17,
        "start_time": "2022-12-29T20:18:36.409Z"
      },
      {
        "duration": 7,
        "start_time": "2022-12-29T20:18:36.429Z"
      },
      {
        "duration": 73,
        "start_time": "2022-12-29T20:18:36.438Z"
      },
      {
        "duration": 332,
        "start_time": "2022-12-29T20:18:36.513Z"
      },
      {
        "duration": 10,
        "start_time": "2022-12-29T20:18:36.846Z"
      },
      {
        "duration": 25,
        "start_time": "2022-12-29T20:18:36.858Z"
      },
      {
        "duration": 45,
        "start_time": "2022-12-29T20:18:36.885Z"
      },
      {
        "duration": 53,
        "start_time": "2022-12-29T20:18:36.931Z"
      },
      {
        "duration": 44,
        "start_time": "2022-12-29T20:18:36.986Z"
      },
      {
        "duration": 20,
        "start_time": "2022-12-29T20:18:37.032Z"
      },
      {
        "duration": 16,
        "start_time": "2022-12-29T20:18:37.055Z"
      },
      {
        "duration": 35,
        "start_time": "2022-12-29T20:18:37.073Z"
      },
      {
        "duration": 15,
        "start_time": "2022-12-29T20:18:37.110Z"
      },
      {
        "duration": 15,
        "start_time": "2022-12-29T20:18:37.127Z"
      },
      {
        "duration": 103,
        "start_time": "2022-12-29T20:18:37.144Z"
      },
      {
        "duration": 76,
        "start_time": "2022-12-29T20:18:37.249Z"
      },
      {
        "duration": 104,
        "start_time": "2022-12-29T20:18:37.326Z"
      },
      {
        "duration": 4,
        "start_time": "2022-12-29T20:18:37.432Z"
      },
      {
        "duration": 11,
        "start_time": "2022-12-29T20:18:37.438Z"
      },
      {
        "duration": 5,
        "start_time": "2022-12-29T20:18:37.453Z"
      },
      {
        "duration": 6,
        "start_time": "2022-12-29T20:18:37.460Z"
      },
      {
        "duration": 8,
        "start_time": "2022-12-29T20:18:37.467Z"
      },
      {
        "duration": 6,
        "start_time": "2022-12-29T20:18:37.505Z"
      },
      {
        "duration": 8,
        "start_time": "2022-12-29T20:18:37.513Z"
      },
      {
        "duration": 8,
        "start_time": "2022-12-29T20:18:37.523Z"
      },
      {
        "duration": 9,
        "start_time": "2022-12-29T20:18:37.533Z"
      },
      {
        "duration": 9,
        "start_time": "2022-12-29T20:18:37.544Z"
      },
      {
        "duration": 9,
        "start_time": "2022-12-29T20:18:37.554Z"
      },
      {
        "duration": 7,
        "start_time": "2022-12-29T20:18:37.565Z"
      },
      {
        "duration": 13,
        "start_time": "2022-12-29T20:18:37.573Z"
      },
      {
        "duration": 4,
        "start_time": "2022-12-29T20:18:37.605Z"
      },
      {
        "duration": 7,
        "start_time": "2022-12-29T20:18:37.611Z"
      },
      {
        "duration": 6,
        "start_time": "2022-12-29T20:18:37.620Z"
      },
      {
        "duration": 8,
        "start_time": "2022-12-29T20:18:37.628Z"
      },
      {
        "duration": 43,
        "start_time": "2022-12-29T20:18:37.638Z"
      },
      {
        "duration": 4,
        "start_time": "2022-12-29T20:18:37.682Z"
      },
      {
        "duration": 6,
        "start_time": "2022-12-29T20:18:37.705Z"
      },
      {
        "duration": 9,
        "start_time": "2022-12-29T20:18:37.713Z"
      },
      {
        "duration": 15,
        "start_time": "2022-12-29T20:18:37.723Z"
      },
      {
        "duration": 85,
        "start_time": "2022-12-29T20:18:37.740Z"
      },
      {
        "duration": 280,
        "start_time": "2022-12-29T20:18:37.827Z"
      },
      {
        "duration": 76,
        "start_time": "2022-12-29T20:18:38.108Z"
      },
      {
        "duration": 0,
        "start_time": "2022-12-29T20:18:38.186Z"
      },
      {
        "duration": 0,
        "start_time": "2022-12-29T20:18:38.188Z"
      },
      {
        "duration": 0,
        "start_time": "2022-12-29T20:18:38.190Z"
      },
      {
        "duration": 0,
        "start_time": "2022-12-29T20:18:38.191Z"
      },
      {
        "duration": 0,
        "start_time": "2022-12-29T20:18:38.193Z"
      },
      {
        "duration": 0,
        "start_time": "2022-12-29T20:18:38.194Z"
      },
      {
        "duration": 0,
        "start_time": "2022-12-29T20:18:38.196Z"
      },
      {
        "duration": 0,
        "start_time": "2022-12-29T20:18:38.197Z"
      },
      {
        "duration": 0,
        "start_time": "2022-12-29T20:18:38.199Z"
      },
      {
        "duration": 5,
        "start_time": "2022-12-29T20:23:45.961Z"
      },
      {
        "duration": 4,
        "start_time": "2022-12-29T21:12:02.856Z"
      },
      {
        "duration": 190,
        "start_time": "2022-12-29T21:12:02.862Z"
      },
      {
        "duration": 8,
        "start_time": "2022-12-29T21:12:03.054Z"
      },
      {
        "duration": 21,
        "start_time": "2022-12-29T21:12:03.064Z"
      },
      {
        "duration": 7,
        "start_time": "2022-12-29T21:12:03.105Z"
      },
      {
        "duration": 15,
        "start_time": "2022-12-29T21:12:03.114Z"
      },
      {
        "duration": 22,
        "start_time": "2022-12-29T21:12:03.131Z"
      },
      {
        "duration": 94,
        "start_time": "2022-12-29T21:12:03.155Z"
      },
      {
        "duration": 132,
        "start_time": "2022-12-29T21:12:03.251Z"
      },
      {
        "duration": 78,
        "start_time": "2022-12-29T21:12:03.385Z"
      },
      {
        "duration": 39,
        "start_time": "2022-12-29T21:12:03.466Z"
      },
      {
        "duration": 1242,
        "start_time": "2022-12-29T21:12:03.507Z"
      },
      {
        "duration": 55,
        "start_time": "2022-12-29T21:12:04.751Z"
      },
      {
        "duration": 49,
        "start_time": "2022-12-29T21:12:04.807Z"
      },
      {
        "duration": 27,
        "start_time": "2022-12-29T21:12:04.858Z"
      },
      {
        "duration": 4,
        "start_time": "2022-12-29T21:12:04.905Z"
      },
      {
        "duration": 180,
        "start_time": "2022-12-29T21:12:04.911Z"
      },
      {
        "duration": 12,
        "start_time": "2022-12-29T21:12:05.093Z"
      },
      {
        "duration": 14,
        "start_time": "2022-12-29T21:12:05.107Z"
      },
      {
        "duration": 7,
        "start_time": "2022-12-29T21:12:05.123Z"
      },
      {
        "duration": 43,
        "start_time": "2022-12-29T21:12:05.132Z"
      },
      {
        "duration": 312,
        "start_time": "2022-12-29T21:12:05.204Z"
      },
      {
        "duration": 9,
        "start_time": "2022-12-29T21:12:05.518Z"
      },
      {
        "duration": 45,
        "start_time": "2022-12-29T21:12:05.529Z"
      },
      {
        "duration": 40,
        "start_time": "2022-12-29T21:12:05.576Z"
      },
      {
        "duration": 69,
        "start_time": "2022-12-29T21:12:05.621Z"
      },
      {
        "duration": 37,
        "start_time": "2022-12-29T21:12:05.691Z"
      },
      {
        "duration": 11,
        "start_time": "2022-12-29T21:12:05.729Z"
      },
      {
        "duration": 12,
        "start_time": "2022-12-29T21:12:05.741Z"
      },
      {
        "duration": 7,
        "start_time": "2022-12-29T21:12:05.754Z"
      },
      {
        "duration": 9,
        "start_time": "2022-12-29T21:12:05.762Z"
      },
      {
        "duration": 96,
        "start_time": "2022-12-29T21:12:05.773Z"
      },
      {
        "duration": 73,
        "start_time": "2022-12-29T21:12:05.871Z"
      },
      {
        "duration": 89,
        "start_time": "2022-12-29T21:12:05.945Z"
      },
      {
        "duration": 3,
        "start_time": "2022-12-29T21:12:06.036Z"
      },
      {
        "duration": 13,
        "start_time": "2022-12-29T21:12:06.041Z"
      },
      {
        "duration": 6,
        "start_time": "2022-12-29T21:12:06.055Z"
      },
      {
        "duration": 7,
        "start_time": "2022-12-29T21:12:06.063Z"
      },
      {
        "duration": 5,
        "start_time": "2022-12-29T21:12:06.072Z"
      },
      {
        "duration": 29,
        "start_time": "2022-12-29T21:12:06.079Z"
      },
      {
        "duration": 10,
        "start_time": "2022-12-29T21:12:06.109Z"
      },
      {
        "duration": 16,
        "start_time": "2022-12-29T21:12:06.120Z"
      },
      {
        "duration": 18,
        "start_time": "2022-12-29T21:12:06.138Z"
      },
      {
        "duration": 8,
        "start_time": "2022-12-29T21:12:06.157Z"
      },
      {
        "duration": 8,
        "start_time": "2022-12-29T21:12:06.167Z"
      },
      {
        "duration": 78,
        "start_time": "2022-12-29T21:12:06.177Z"
      },
      {
        "duration": 13,
        "start_time": "2022-12-29T21:12:06.257Z"
      },
      {
        "duration": 9,
        "start_time": "2022-12-29T21:12:06.272Z"
      },
      {
        "duration": 10,
        "start_time": "2022-12-29T21:12:06.283Z"
      },
      {
        "duration": 6,
        "start_time": "2022-12-29T21:12:06.295Z"
      },
      {
        "duration": 8,
        "start_time": "2022-12-29T21:12:06.302Z"
      },
      {
        "duration": 36,
        "start_time": "2022-12-29T21:12:06.312Z"
      },
      {
        "duration": 4,
        "start_time": "2022-12-29T21:12:06.349Z"
      },
      {
        "duration": 11,
        "start_time": "2022-12-29T21:12:06.354Z"
      },
      {
        "duration": 6,
        "start_time": "2022-12-29T21:12:06.367Z"
      },
      {
        "duration": 36,
        "start_time": "2022-12-29T21:12:06.374Z"
      },
      {
        "duration": 61,
        "start_time": "2022-12-29T21:12:06.412Z"
      },
      {
        "duration": 281,
        "start_time": "2022-12-29T21:12:06.475Z"
      },
      {
        "duration": 69,
        "start_time": "2022-12-29T21:12:06.757Z"
      },
      {
        "duration": 0,
        "start_time": "2022-12-29T21:12:06.827Z"
      },
      {
        "duration": 1,
        "start_time": "2022-12-29T21:12:06.828Z"
      },
      {
        "duration": 0,
        "start_time": "2022-12-29T21:12:06.829Z"
      },
      {
        "duration": 0,
        "start_time": "2022-12-29T21:12:06.830Z"
      },
      {
        "duration": 0,
        "start_time": "2022-12-29T21:12:06.831Z"
      },
      {
        "duration": 0,
        "start_time": "2022-12-29T21:12:06.832Z"
      },
      {
        "duration": 0,
        "start_time": "2022-12-29T21:12:06.833Z"
      },
      {
        "duration": 0,
        "start_time": "2022-12-29T21:12:06.834Z"
      },
      {
        "duration": 0,
        "start_time": "2022-12-29T21:12:06.835Z"
      },
      {
        "duration": 1299,
        "start_time": "2022-12-30T10:09:52.039Z"
      },
      {
        "duration": 487,
        "start_time": "2022-12-30T10:09:53.340Z"
      },
      {
        "duration": 11,
        "start_time": "2022-12-30T10:09:53.829Z"
      },
      {
        "duration": 20,
        "start_time": "2022-12-30T10:09:53.842Z"
      },
      {
        "duration": 7,
        "start_time": "2022-12-30T10:09:53.864Z"
      },
      {
        "duration": 14,
        "start_time": "2022-12-30T10:09:53.873Z"
      },
      {
        "duration": 33,
        "start_time": "2022-12-30T10:09:53.888Z"
      },
      {
        "duration": 70,
        "start_time": "2022-12-30T10:09:53.922Z"
      },
      {
        "duration": 130,
        "start_time": "2022-12-30T10:09:53.993Z"
      },
      {
        "duration": 66,
        "start_time": "2022-12-30T10:09:54.125Z"
      },
      {
        "duration": 25,
        "start_time": "2022-12-30T10:09:54.193Z"
      },
      {
        "duration": 1033,
        "start_time": "2022-12-30T10:09:54.220Z"
      },
      {
        "duration": 44,
        "start_time": "2022-12-30T10:09:55.255Z"
      },
      {
        "duration": 57,
        "start_time": "2022-12-30T10:09:55.302Z"
      },
      {
        "duration": 3,
        "start_time": "2022-12-30T10:09:55.361Z"
      },
      {
        "duration": 29,
        "start_time": "2022-12-30T10:09:55.365Z"
      },
      {
        "duration": 19,
        "start_time": "2022-12-30T10:09:55.396Z"
      },
      {
        "duration": 151,
        "start_time": "2022-12-30T10:09:55.417Z"
      },
      {
        "duration": 6,
        "start_time": "2022-12-30T10:09:55.569Z"
      },
      {
        "duration": 20,
        "start_time": "2022-12-30T10:09:55.576Z"
      },
      {
        "duration": 23,
        "start_time": "2022-12-30T10:09:55.597Z"
      },
      {
        "duration": 50,
        "start_time": "2022-12-30T10:09:55.621Z"
      },
      {
        "duration": 301,
        "start_time": "2022-12-30T10:09:55.673Z"
      },
      {
        "duration": 9,
        "start_time": "2022-12-30T10:09:55.975Z"
      },
      {
        "duration": 34,
        "start_time": "2022-12-30T10:09:55.985Z"
      },
      {
        "duration": 28,
        "start_time": "2022-12-30T10:09:56.021Z"
      },
      {
        "duration": 70,
        "start_time": "2022-12-30T10:09:56.050Z"
      },
      {
        "duration": 107,
        "start_time": "2022-12-30T10:09:56.122Z"
      },
      {
        "duration": 14,
        "start_time": "2022-12-30T10:09:56.231Z"
      },
      {
        "duration": 20,
        "start_time": "2022-12-30T10:09:56.246Z"
      },
      {
        "duration": 9,
        "start_time": "2022-12-30T10:09:56.268Z"
      },
      {
        "duration": 22,
        "start_time": "2022-12-30T10:09:56.279Z"
      },
      {
        "duration": 86,
        "start_time": "2022-12-30T10:09:56.316Z"
      },
      {
        "duration": 204,
        "start_time": "2022-12-30T10:09:56.415Z"
      },
      {
        "duration": 140,
        "start_time": "2022-12-30T10:09:56.621Z"
      },
      {
        "duration": 3,
        "start_time": "2022-12-30T10:09:56.763Z"
      },
      {
        "duration": 54,
        "start_time": "2022-12-30T10:09:56.768Z"
      },
      {
        "duration": 6,
        "start_time": "2022-12-30T10:09:56.824Z"
      },
      {
        "duration": 9,
        "start_time": "2022-12-30T10:09:56.831Z"
      },
      {
        "duration": 12,
        "start_time": "2022-12-30T10:09:56.841Z"
      },
      {
        "duration": 14,
        "start_time": "2022-12-30T10:09:56.856Z"
      },
      {
        "duration": 13,
        "start_time": "2022-12-30T10:09:56.871Z"
      },
      {
        "duration": 9,
        "start_time": "2022-12-30T10:09:56.886Z"
      },
      {
        "duration": 8,
        "start_time": "2022-12-30T10:09:56.896Z"
      },
      {
        "duration": 11,
        "start_time": "2022-12-30T10:09:56.905Z"
      },
      {
        "duration": 5,
        "start_time": "2022-12-30T10:09:56.918Z"
      },
      {
        "duration": 7,
        "start_time": "2022-12-30T10:09:56.925Z"
      },
      {
        "duration": 6,
        "start_time": "2022-12-30T10:09:56.934Z"
      },
      {
        "duration": 15,
        "start_time": "2022-12-30T10:09:56.941Z"
      },
      {
        "duration": 12,
        "start_time": "2022-12-30T10:09:56.957Z"
      },
      {
        "duration": 12,
        "start_time": "2022-12-30T10:09:56.971Z"
      },
      {
        "duration": 10,
        "start_time": "2022-12-30T10:09:56.984Z"
      },
      {
        "duration": 4,
        "start_time": "2022-12-30T10:17:21.845Z"
      },
      {
        "duration": 160,
        "start_time": "2022-12-30T10:17:21.850Z"
      },
      {
        "duration": 8,
        "start_time": "2022-12-30T10:17:22.012Z"
      },
      {
        "duration": 22,
        "start_time": "2022-12-30T10:17:22.021Z"
      },
      {
        "duration": 12,
        "start_time": "2022-12-30T10:17:22.046Z"
      },
      {
        "duration": 16,
        "start_time": "2022-12-30T10:17:22.060Z"
      },
      {
        "duration": 39,
        "start_time": "2022-12-30T10:17:22.077Z"
      },
      {
        "duration": 67,
        "start_time": "2022-12-30T10:17:22.117Z"
      },
      {
        "duration": 112,
        "start_time": "2022-12-30T10:17:22.185Z"
      },
      {
        "duration": 73,
        "start_time": "2022-12-30T10:17:22.299Z"
      },
      {
        "duration": 11,
        "start_time": "2022-12-30T10:17:22.373Z"
      },
      {
        "duration": 954,
        "start_time": "2022-12-30T10:17:22.386Z"
      },
      {
        "duration": 40,
        "start_time": "2022-12-30T10:17:23.342Z"
      },
      {
        "duration": 51,
        "start_time": "2022-12-30T10:17:23.384Z"
      },
      {
        "duration": 3,
        "start_time": "2022-12-30T10:17:23.436Z"
      },
      {
        "duration": 30,
        "start_time": "2022-12-30T10:17:23.440Z"
      },
      {
        "duration": 3,
        "start_time": "2022-12-30T10:17:23.472Z"
      },
      {
        "duration": 171,
        "start_time": "2022-12-30T10:17:23.477Z"
      },
      {
        "duration": 4,
        "start_time": "2022-12-30T10:17:23.650Z"
      },
      {
        "duration": 18,
        "start_time": "2022-12-30T10:17:23.655Z"
      },
      {
        "duration": 3,
        "start_time": "2022-12-30T10:17:36.890Z"
      },
      {
        "duration": 156,
        "start_time": "2022-12-30T10:17:36.895Z"
      },
      {
        "duration": 7,
        "start_time": "2022-12-30T10:17:37.052Z"
      },
      {
        "duration": 26,
        "start_time": "2022-12-30T10:17:37.061Z"
      },
      {
        "duration": 4,
        "start_time": "2022-12-30T10:17:37.089Z"
      },
      {
        "duration": 22,
        "start_time": "2022-12-30T10:17:37.095Z"
      },
      {
        "duration": 18,
        "start_time": "2022-12-30T10:17:37.119Z"
      },
      {
        "duration": 56,
        "start_time": "2022-12-30T10:17:37.139Z"
      },
      {
        "duration": 113,
        "start_time": "2022-12-30T10:17:37.197Z"
      },
      {
        "duration": 59,
        "start_time": "2022-12-30T10:17:37.315Z"
      },
      {
        "duration": 11,
        "start_time": "2022-12-30T10:17:37.376Z"
      },
      {
        "duration": 964,
        "start_time": "2022-12-30T10:17:37.389Z"
      },
      {
        "duration": 41,
        "start_time": "2022-12-30T10:17:38.355Z"
      },
      {
        "duration": 54,
        "start_time": "2022-12-30T10:17:38.399Z"
      },
      {
        "duration": 3,
        "start_time": "2022-12-30T10:17:38.455Z"
      },
      {
        "duration": 35,
        "start_time": "2022-12-30T10:17:38.460Z"
      },
      {
        "duration": 5,
        "start_time": "2022-12-30T10:17:38.496Z"
      },
      {
        "duration": 264,
        "start_time": "2022-12-30T10:17:38.515Z"
      },
      {
        "duration": 5,
        "start_time": "2022-12-30T10:17:38.781Z"
      },
      {
        "duration": 4,
        "start_time": "2022-12-30T10:17:51.432Z"
      },
      {
        "duration": 13,
        "start_time": "2022-12-30T10:18:00.021Z"
      },
      {
        "duration": 5,
        "start_time": "2022-12-30T10:18:09.616Z"
      },
      {
        "duration": 4,
        "start_time": "2022-12-30T10:18:28.780Z"
      },
      {
        "duration": 3,
        "start_time": "2022-12-30T10:19:00.679Z"
      },
      {
        "duration": 190,
        "start_time": "2022-12-30T10:19:00.685Z"
      },
      {
        "duration": 7,
        "start_time": "2022-12-30T10:19:00.877Z"
      },
      {
        "duration": 43,
        "start_time": "2022-12-30T10:19:00.885Z"
      },
      {
        "duration": 23,
        "start_time": "2022-12-30T10:19:00.930Z"
      },
      {
        "duration": 36,
        "start_time": "2022-12-30T10:19:00.955Z"
      },
      {
        "duration": 52,
        "start_time": "2022-12-30T10:19:00.992Z"
      },
      {
        "duration": 73,
        "start_time": "2022-12-30T10:19:01.045Z"
      },
      {
        "duration": 106,
        "start_time": "2022-12-30T10:19:01.120Z"
      },
      {
        "duration": 65,
        "start_time": "2022-12-30T10:19:01.227Z"
      },
      {
        "duration": 26,
        "start_time": "2022-12-30T10:19:01.294Z"
      },
      {
        "duration": 955,
        "start_time": "2022-12-30T10:19:01.322Z"
      },
      {
        "duration": 45,
        "start_time": "2022-12-30T10:19:02.278Z"
      },
      {
        "duration": 43,
        "start_time": "2022-12-30T10:19:02.326Z"
      },
      {
        "duration": 3,
        "start_time": "2022-12-30T10:19:02.370Z"
      },
      {
        "duration": 45,
        "start_time": "2022-12-30T10:19:02.374Z"
      },
      {
        "duration": 4,
        "start_time": "2022-12-30T10:19:02.421Z"
      },
      {
        "duration": 160,
        "start_time": "2022-12-30T10:19:02.427Z"
      },
      {
        "duration": 5,
        "start_time": "2022-12-30T10:19:02.589Z"
      },
      {
        "duration": 3,
        "start_time": "2022-12-30T10:19:20.804Z"
      },
      {
        "duration": 15,
        "start_time": "2022-12-30T10:19:25.960Z"
      },
      {
        "duration": 4,
        "start_time": "2022-12-30T10:19:32.508Z"
      },
      {
        "duration": 3,
        "start_time": "2022-12-30T10:19:43.331Z"
      },
      {
        "duration": 4,
        "start_time": "2022-12-30T10:20:02.394Z"
      },
      {
        "duration": 172,
        "start_time": "2022-12-30T10:20:02.400Z"
      },
      {
        "duration": 9,
        "start_time": "2022-12-30T10:20:02.573Z"
      },
      {
        "duration": 24,
        "start_time": "2022-12-30T10:20:02.584Z"
      },
      {
        "duration": 8,
        "start_time": "2022-12-30T10:20:02.615Z"
      },
      {
        "duration": 24,
        "start_time": "2022-12-30T10:20:02.625Z"
      },
      {
        "duration": 22,
        "start_time": "2022-12-30T10:20:02.650Z"
      },
      {
        "duration": 71,
        "start_time": "2022-12-30T10:20:02.674Z"
      },
      {
        "duration": 92,
        "start_time": "2022-12-30T10:20:02.747Z"
      },
      {
        "duration": 50,
        "start_time": "2022-12-30T10:20:02.840Z"
      },
      {
        "duration": 24,
        "start_time": "2022-12-30T10:20:02.892Z"
      },
      {
        "duration": 915,
        "start_time": "2022-12-30T10:20:02.918Z"
      },
      {
        "duration": 42,
        "start_time": "2022-12-30T10:20:03.834Z"
      },
      {
        "duration": 59,
        "start_time": "2022-12-30T10:20:03.877Z"
      },
      {
        "duration": 4,
        "start_time": "2022-12-30T10:20:03.938Z"
      },
      {
        "duration": 35,
        "start_time": "2022-12-30T10:20:03.943Z"
      },
      {
        "duration": 5,
        "start_time": "2022-12-30T10:20:03.980Z"
      },
      {
        "duration": 274,
        "start_time": "2022-12-30T10:20:03.986Z"
      },
      {
        "duration": 5,
        "start_time": "2022-12-30T10:20:04.261Z"
      },
      {
        "duration": 6,
        "start_time": "2022-12-30T10:20:04.268Z"
      },
      {
        "duration": 4,
        "start_time": "2022-12-30T10:20:24.771Z"
      },
      {
        "duration": 7,
        "start_time": "2022-12-30T10:20:39.272Z"
      },
      {
        "duration": 27,
        "start_time": "2022-12-30T10:24:23.340Z"
      },
      {
        "duration": 7,
        "start_time": "2022-12-30T10:24:53.408Z"
      },
      {
        "duration": 6,
        "start_time": "2022-12-30T10:25:09.174Z"
      },
      {
        "duration": 46,
        "start_time": "2022-12-30T10:25:36.621Z"
      },
      {
        "duration": 366,
        "start_time": "2022-12-30T10:25:40.692Z"
      },
      {
        "duration": 12,
        "start_time": "2022-12-30T10:31:04.418Z"
      },
      {
        "duration": 14,
        "start_time": "2022-12-30T10:31:29.521Z"
      },
      {
        "duration": 13,
        "start_time": "2022-12-30T10:31:38.370Z"
      },
      {
        "duration": 7,
        "start_time": "2022-12-30T10:31:51.284Z"
      },
      {
        "duration": 47,
        "start_time": "2022-12-30T10:35:20.441Z"
      },
      {
        "duration": 13,
        "start_time": "2022-12-30T10:35:41.054Z"
      },
      {
        "duration": 5,
        "start_time": "2022-12-30T10:35:50.089Z"
      },
      {
        "duration": 4,
        "start_time": "2022-12-30T10:36:02.939Z"
      },
      {
        "duration": 14,
        "start_time": "2022-12-30T10:36:07.105Z"
      },
      {
        "duration": 4,
        "start_time": "2022-12-30T10:36:08.536Z"
      },
      {
        "duration": 14,
        "start_time": "2022-12-30T10:36:27.060Z"
      },
      {
        "duration": 115,
        "start_time": "2022-12-30T10:36:28.824Z"
      },
      {
        "duration": 14,
        "start_time": "2022-12-30T10:36:47.121Z"
      },
      {
        "duration": 4,
        "start_time": "2022-12-30T10:36:49.139Z"
      },
      {
        "duration": 4,
        "start_time": "2022-12-30T10:36:57.212Z"
      },
      {
        "duration": 17,
        "start_time": "2022-12-30T10:38:12.065Z"
      },
      {
        "duration": 5,
        "start_time": "2022-12-30T10:38:13.399Z"
      },
      {
        "duration": 21,
        "start_time": "2022-12-30T10:39:32.697Z"
      },
      {
        "duration": 33,
        "start_time": "2022-12-30T10:40:18.580Z"
      },
      {
        "duration": 29,
        "start_time": "2022-12-30T10:40:36.285Z"
      },
      {
        "duration": 26,
        "start_time": "2022-12-30T10:40:45.445Z"
      },
      {
        "duration": 24,
        "start_time": "2022-12-30T10:41:20.285Z"
      },
      {
        "duration": 9,
        "start_time": "2022-12-30T10:41:41.949Z"
      },
      {
        "duration": 25,
        "start_time": "2022-12-30T10:42:28.484Z"
      },
      {
        "duration": 25,
        "start_time": "2022-12-30T10:43:36.148Z"
      },
      {
        "duration": 28,
        "start_time": "2022-12-30T10:49:02.020Z"
      },
      {
        "duration": 51,
        "start_time": "2022-12-30T10:49:05.040Z"
      },
      {
        "duration": 29,
        "start_time": "2022-12-30T10:49:17.566Z"
      },
      {
        "duration": 13,
        "start_time": "2022-12-30T10:49:38.134Z"
      },
      {
        "duration": 13,
        "start_time": "2022-12-30T10:49:38.613Z"
      },
      {
        "duration": 7,
        "start_time": "2022-12-30T10:49:40.712Z"
      },
      {
        "duration": 68,
        "start_time": "2022-12-30T10:49:45.643Z"
      },
      {
        "duration": 66,
        "start_time": "2022-12-30T10:50:17.939Z"
      },
      {
        "duration": 73,
        "start_time": "2022-12-30T10:50:32.367Z"
      },
      {
        "duration": 62,
        "start_time": "2022-12-30T10:50:56.058Z"
      },
      {
        "duration": 790,
        "start_time": "2022-12-30T10:52:21.660Z"
      },
      {
        "duration": 4,
        "start_time": "2022-12-30T10:52:32.679Z"
      },
      {
        "duration": 72,
        "start_time": "2022-12-30T10:55:03.206Z"
      },
      {
        "duration": 4,
        "start_time": "2022-12-30T10:55:17.559Z"
      },
      {
        "duration": 9,
        "start_time": "2022-12-30T10:55:19.444Z"
      },
      {
        "duration": 41,
        "start_time": "2022-12-30T11:00:35.064Z"
      },
      {
        "duration": 10,
        "start_time": "2022-12-30T11:00:47.763Z"
      },
      {
        "duration": 6,
        "start_time": "2022-12-30T11:01:01.878Z"
      },
      {
        "duration": 9,
        "start_time": "2022-12-30T11:01:02.341Z"
      },
      {
        "duration": 26,
        "start_time": "2022-12-30T11:05:55.314Z"
      },
      {
        "duration": 25,
        "start_time": "2022-12-30T11:10:22.435Z"
      },
      {
        "duration": 8,
        "start_time": "2022-12-30T11:10:23.368Z"
      },
      {
        "duration": 13,
        "start_time": "2022-12-30T11:10:35.577Z"
      },
      {
        "duration": 15,
        "start_time": "2022-12-30T11:10:45.964Z"
      },
      {
        "duration": 26,
        "start_time": "2022-12-30T11:11:04.772Z"
      },
      {
        "duration": 24,
        "start_time": "2022-12-30T11:11:15.885Z"
      },
      {
        "duration": 6,
        "start_time": "2022-12-30T11:11:22.103Z"
      },
      {
        "duration": 5,
        "start_time": "2022-12-30T11:11:25.199Z"
      },
      {
        "duration": 6,
        "start_time": "2022-12-30T11:11:28.308Z"
      },
      {
        "duration": 2,
        "start_time": "2022-12-30T11:13:28.642Z"
      },
      {
        "duration": 3,
        "start_time": "2022-12-30T11:13:36.336Z"
      },
      {
        "duration": 8,
        "start_time": "2022-12-30T11:13:39.275Z"
      },
      {
        "duration": 2,
        "start_time": "2022-12-30T11:13:56.163Z"
      },
      {
        "duration": 10,
        "start_time": "2022-12-30T11:13:58.270Z"
      },
      {
        "duration": 27,
        "start_time": "2022-12-30T11:14:28.280Z"
      },
      {
        "duration": 27,
        "start_time": "2022-12-30T11:15:03.840Z"
      },
      {
        "duration": 5,
        "start_time": "2022-12-30T11:35:35.708Z"
      },
      {
        "duration": 4,
        "start_time": "2022-12-30T11:39:24.795Z"
      },
      {
        "duration": 3,
        "start_time": "2022-12-30T11:40:14.740Z"
      },
      {
        "duration": 5,
        "start_time": "2022-12-30T11:42:26.832Z"
      },
      {
        "duration": 6,
        "start_time": "2022-12-30T11:42:35.392Z"
      },
      {
        "duration": 6,
        "start_time": "2022-12-30T11:42:39.717Z"
      },
      {
        "duration": 5,
        "start_time": "2022-12-30T11:42:39.788Z"
      },
      {
        "duration": 6,
        "start_time": "2022-12-30T11:42:39.854Z"
      },
      {
        "duration": 5,
        "start_time": "2022-12-30T11:42:39.919Z"
      },
      {
        "duration": 4,
        "start_time": "2022-12-30T11:42:39.999Z"
      },
      {
        "duration": 5,
        "start_time": "2022-12-30T11:42:40.082Z"
      },
      {
        "duration": 4,
        "start_time": "2022-12-30T11:42:40.167Z"
      },
      {
        "duration": 4,
        "start_time": "2022-12-30T11:42:40.242Z"
      },
      {
        "duration": 4,
        "start_time": "2022-12-30T11:42:40.324Z"
      },
      {
        "duration": 6,
        "start_time": "2022-12-30T11:42:40.381Z"
      },
      {
        "duration": 5,
        "start_time": "2022-12-30T11:42:40.450Z"
      },
      {
        "duration": 5,
        "start_time": "2022-12-30T11:42:40.520Z"
      },
      {
        "duration": 6,
        "start_time": "2022-12-30T11:42:40.598Z"
      },
      {
        "duration": 6,
        "start_time": "2022-12-30T11:42:40.673Z"
      },
      {
        "duration": 6,
        "start_time": "2022-12-30T11:42:40.763Z"
      },
      {
        "duration": 4,
        "start_time": "2022-12-30T11:42:40.850Z"
      },
      {
        "duration": 3,
        "start_time": "2022-12-30T11:47:55.612Z"
      },
      {
        "duration": 4,
        "start_time": "2022-12-30T11:48:10.511Z"
      },
      {
        "duration": 4,
        "start_time": "2022-12-30T11:58:49.579Z"
      },
      {
        "duration": 11,
        "start_time": "2022-12-30T11:59:16.457Z"
      },
      {
        "duration": 4,
        "start_time": "2022-12-30T11:59:31.416Z"
      },
      {
        "duration": 51,
        "start_time": "2022-12-30T12:08:49.833Z"
      },
      {
        "duration": 5,
        "start_time": "2022-12-30T12:08:56.590Z"
      },
      {
        "duration": 4,
        "start_time": "2022-12-30T12:09:01.216Z"
      },
      {
        "duration": 9,
        "start_time": "2022-12-30T12:10:30.708Z"
      },
      {
        "duration": 6,
        "start_time": "2022-12-30T12:10:35.682Z"
      },
      {
        "duration": 4,
        "start_time": "2022-12-30T12:10:55.720Z"
      },
      {
        "duration": 6,
        "start_time": "2022-12-30T12:11:36.940Z"
      },
      {
        "duration": 9,
        "start_time": "2022-12-30T12:11:41.006Z"
      },
      {
        "duration": 5,
        "start_time": "2022-12-30T12:11:43.789Z"
      },
      {
        "duration": 5,
        "start_time": "2022-12-30T12:11:45.539Z"
      },
      {
        "duration": 4,
        "start_time": "2022-12-30T12:11:50.677Z"
      },
      {
        "duration": 2,
        "start_time": "2022-12-30T12:12:21.175Z"
      },
      {
        "duration": 5,
        "start_time": "2022-12-30T12:12:34.422Z"
      },
      {
        "duration": 9,
        "start_time": "2022-12-30T12:15:09.556Z"
      },
      {
        "duration": 4,
        "start_time": "2022-12-30T12:15:37.559Z"
      },
      {
        "duration": 7,
        "start_time": "2022-12-30T12:15:37.564Z"
      },
      {
        "duration": 7,
        "start_time": "2022-12-30T12:15:37.573Z"
      },
      {
        "duration": 7,
        "start_time": "2022-12-30T12:15:37.582Z"
      },
      {
        "duration": 6,
        "start_time": "2022-12-30T12:15:37.591Z"
      },
      {
        "duration": 6,
        "start_time": "2022-12-30T12:15:37.599Z"
      },
      {
        "duration": 6,
        "start_time": "2022-12-30T12:15:37.606Z"
      },
      {
        "duration": 6,
        "start_time": "2022-12-30T12:15:37.614Z"
      },
      {
        "duration": 10,
        "start_time": "2022-12-30T12:15:37.622Z"
      },
      {
        "duration": 6,
        "start_time": "2022-12-30T12:15:37.633Z"
      },
      {
        "duration": 7,
        "start_time": "2022-12-30T12:15:37.640Z"
      },
      {
        "duration": 5,
        "start_time": "2022-12-30T12:15:37.674Z"
      },
      {
        "duration": 6,
        "start_time": "2022-12-30T12:15:37.680Z"
      },
      {
        "duration": 6,
        "start_time": "2022-12-30T12:15:37.687Z"
      },
      {
        "duration": 6,
        "start_time": "2022-12-30T12:15:37.694Z"
      },
      {
        "duration": 10,
        "start_time": "2022-12-30T12:15:37.702Z"
      },
      {
        "duration": 11,
        "start_time": "2022-12-30T12:15:37.714Z"
      },
      {
        "duration": 7,
        "start_time": "2022-12-30T12:15:37.726Z"
      },
      {
        "duration": 12,
        "start_time": "2022-12-30T12:15:37.735Z"
      },
      {
        "duration": 0,
        "start_time": "2022-12-30T12:15:37.748Z"
      },
      {
        "duration": 4,
        "start_time": "2022-12-30T12:15:54.977Z"
      },
      {
        "duration": 4,
        "start_time": "2022-12-30T12:16:06.458Z"
      },
      {
        "duration": 2,
        "start_time": "2022-12-30T12:17:10.532Z"
      },
      {
        "duration": 4,
        "start_time": "2022-12-30T12:17:11.174Z"
      },
      {
        "duration": 1449,
        "start_time": "2023-01-05T11:50:19.539Z"
      },
      {
        "duration": 502,
        "start_time": "2023-01-05T11:50:20.991Z"
      },
      {
        "duration": 12,
        "start_time": "2023-01-05T11:50:21.494Z"
      },
      {
        "duration": 25,
        "start_time": "2023-01-05T11:50:21.508Z"
      },
      {
        "duration": 7,
        "start_time": "2023-01-05T11:50:21.534Z"
      },
      {
        "duration": 13,
        "start_time": "2023-01-05T11:50:21.543Z"
      },
      {
        "duration": 19,
        "start_time": "2023-01-05T11:50:21.558Z"
      },
      {
        "duration": 87,
        "start_time": "2023-01-05T11:50:21.579Z"
      },
      {
        "duration": 128,
        "start_time": "2023-01-05T11:50:21.668Z"
      },
      {
        "duration": 77,
        "start_time": "2023-01-05T11:50:21.798Z"
      },
      {
        "duration": 14,
        "start_time": "2023-01-05T11:50:21.876Z"
      },
      {
        "duration": 1183,
        "start_time": "2023-01-05T11:50:21.892Z"
      },
      {
        "duration": 58,
        "start_time": "2023-01-05T11:50:23.077Z"
      },
      {
        "duration": 54,
        "start_time": "2023-01-05T11:50:23.137Z"
      },
      {
        "duration": 4,
        "start_time": "2023-01-05T11:50:23.192Z"
      },
      {
        "duration": 26,
        "start_time": "2023-01-05T11:50:23.213Z"
      },
      {
        "duration": 6,
        "start_time": "2023-01-05T11:50:23.241Z"
      },
      {
        "duration": 195,
        "start_time": "2023-01-05T11:50:23.248Z"
      },
      {
        "duration": 6,
        "start_time": "2023-01-05T11:50:23.444Z"
      },
      {
        "duration": 20,
        "start_time": "2023-01-05T11:50:23.451Z"
      },
      {
        "duration": 44,
        "start_time": "2023-01-05T11:50:23.473Z"
      },
      {
        "duration": 7,
        "start_time": "2023-01-05T11:50:23.519Z"
      },
      {
        "duration": 56,
        "start_time": "2023-01-05T11:50:23.527Z"
      },
      {
        "duration": 382,
        "start_time": "2023-01-05T11:50:23.585Z"
      },
      {
        "duration": 29,
        "start_time": "2023-01-05T11:50:23.968Z"
      },
      {
        "duration": 20,
        "start_time": "2023-01-05T11:50:23.999Z"
      },
      {
        "duration": 23,
        "start_time": "2023-01-05T11:50:24.021Z"
      },
      {
        "duration": 29,
        "start_time": "2023-01-05T11:50:24.048Z"
      },
      {
        "duration": 169,
        "start_time": "2023-01-05T11:50:24.079Z"
      },
      {
        "duration": 48,
        "start_time": "2023-01-05T11:50:24.251Z"
      },
      {
        "duration": 14,
        "start_time": "2023-01-05T11:50:24.313Z"
      },
      {
        "duration": 12,
        "start_time": "2023-01-05T11:50:24.329Z"
      },
      {
        "duration": 11,
        "start_time": "2023-01-05T11:50:24.343Z"
      },
      {
        "duration": 97,
        "start_time": "2023-01-05T11:50:24.356Z"
      },
      {
        "duration": 221,
        "start_time": "2023-01-05T11:50:24.455Z"
      },
      {
        "duration": 80,
        "start_time": "2023-01-05T11:50:24.678Z"
      },
      {
        "duration": 4,
        "start_time": "2023-01-05T11:50:24.759Z"
      },
      {
        "duration": 79,
        "start_time": "2023-01-05T11:50:24.765Z"
      },
      {
        "duration": 86,
        "start_time": "2023-01-05T11:50:24.846Z"
      },
      {
        "duration": 14,
        "start_time": "2023-01-05T11:50:24.934Z"
      },
      {
        "duration": 7,
        "start_time": "2023-01-05T11:50:24.950Z"
      },
      {
        "duration": 11,
        "start_time": "2023-01-05T11:50:24.959Z"
      },
      {
        "duration": 11,
        "start_time": "2023-01-05T11:50:24.971Z"
      },
      {
        "duration": 263,
        "start_time": "2023-01-05T11:50:24.984Z"
      },
      {
        "duration": 0,
        "start_time": "2023-01-05T11:50:25.249Z"
      },
      {
        "duration": 0,
        "start_time": "2023-01-05T11:50:25.250Z"
      },
      {
        "duration": 0,
        "start_time": "2023-01-05T11:50:25.251Z"
      },
      {
        "duration": 0,
        "start_time": "2023-01-05T11:50:25.252Z"
      },
      {
        "duration": 0,
        "start_time": "2023-01-05T11:50:25.253Z"
      },
      {
        "duration": 0,
        "start_time": "2023-01-05T11:50:25.254Z"
      },
      {
        "duration": 0,
        "start_time": "2023-01-05T11:50:25.256Z"
      },
      {
        "duration": 0,
        "start_time": "2023-01-05T11:50:25.256Z"
      },
      {
        "duration": 1,
        "start_time": "2023-01-05T11:50:25.257Z"
      },
      {
        "duration": 0,
        "start_time": "2023-01-05T11:50:25.259Z"
      },
      {
        "duration": 0,
        "start_time": "2023-01-05T11:50:25.259Z"
      },
      {
        "duration": 0,
        "start_time": "2023-01-05T11:50:25.313Z"
      },
      {
        "duration": 0,
        "start_time": "2023-01-05T11:50:25.315Z"
      },
      {
        "duration": 0,
        "start_time": "2023-01-05T11:50:25.316Z"
      },
      {
        "duration": 0,
        "start_time": "2023-01-05T11:50:25.318Z"
      },
      {
        "duration": 0,
        "start_time": "2023-01-05T11:50:25.320Z"
      },
      {
        "duration": 0,
        "start_time": "2023-01-05T11:50:25.321Z"
      },
      {
        "duration": 0,
        "start_time": "2023-01-05T11:50:25.323Z"
      },
      {
        "duration": 5,
        "start_time": "2023-01-05T11:50:45.680Z"
      },
      {
        "duration": 9,
        "start_time": "2023-01-05T11:50:45.687Z"
      },
      {
        "duration": 11,
        "start_time": "2023-01-05T11:50:45.697Z"
      },
      {
        "duration": 10,
        "start_time": "2023-01-05T11:50:45.709Z"
      },
      {
        "duration": 6,
        "start_time": "2023-01-05T11:50:45.721Z"
      },
      {
        "duration": 7,
        "start_time": "2023-01-05T11:50:45.728Z"
      },
      {
        "duration": 7,
        "start_time": "2023-01-05T11:50:45.736Z"
      },
      {
        "duration": 6,
        "start_time": "2023-01-05T11:50:45.745Z"
      },
      {
        "duration": 6,
        "start_time": "2023-01-05T11:50:45.752Z"
      },
      {
        "duration": 10,
        "start_time": "2023-01-05T11:50:45.760Z"
      },
      {
        "duration": 10,
        "start_time": "2023-01-05T11:50:45.773Z"
      },
      {
        "duration": 37,
        "start_time": "2023-01-05T11:50:45.785Z"
      },
      {
        "duration": 8,
        "start_time": "2023-01-05T11:50:45.823Z"
      },
      {
        "duration": 6,
        "start_time": "2023-01-05T11:50:45.832Z"
      },
      {
        "duration": 6,
        "start_time": "2023-01-05T11:50:45.840Z"
      },
      {
        "duration": 7,
        "start_time": "2023-01-05T11:50:45.847Z"
      },
      {
        "duration": 5,
        "start_time": "2023-01-05T11:50:45.856Z"
      },
      {
        "duration": 5,
        "start_time": "2023-01-05T11:50:45.863Z"
      },
      {
        "duration": 7,
        "start_time": "2023-01-05T11:50:45.869Z"
      },
      {
        "duration": 12,
        "start_time": "2023-01-05T11:58:02.556Z"
      },
      {
        "duration": 9,
        "start_time": "2023-01-05T11:58:11.699Z"
      },
      {
        "duration": 9,
        "start_time": "2023-01-05T11:58:19.582Z"
      },
      {
        "duration": 10,
        "start_time": "2023-01-05T11:58:46.385Z"
      },
      {
        "duration": 4,
        "start_time": "2023-01-05T11:58:56.041Z"
      },
      {
        "duration": 3,
        "start_time": "2023-01-05T11:59:05.265Z"
      },
      {
        "duration": 3,
        "start_time": "2023-01-05T11:59:26.305Z"
      },
      {
        "duration": 171,
        "start_time": "2023-01-05T11:59:26.310Z"
      },
      {
        "duration": 8,
        "start_time": "2023-01-05T11:59:26.483Z"
      },
      {
        "duration": 34,
        "start_time": "2023-01-05T11:59:26.494Z"
      },
      {
        "duration": 5,
        "start_time": "2023-01-05T11:59:26.530Z"
      },
      {
        "duration": 19,
        "start_time": "2023-01-05T11:59:26.537Z"
      },
      {
        "duration": 22,
        "start_time": "2023-01-05T11:59:26.558Z"
      },
      {
        "duration": 76,
        "start_time": "2023-01-05T11:59:26.583Z"
      },
      {
        "duration": 101,
        "start_time": "2023-01-05T11:59:26.661Z"
      },
      {
        "duration": 67,
        "start_time": "2023-01-05T11:59:26.764Z"
      },
      {
        "duration": 11,
        "start_time": "2023-01-05T11:59:26.832Z"
      },
      {
        "duration": 971,
        "start_time": "2023-01-05T11:59:26.845Z"
      },
      {
        "duration": 45,
        "start_time": "2023-01-05T11:59:27.817Z"
      },
      {
        "duration": 58,
        "start_time": "2023-01-05T11:59:27.864Z"
      },
      {
        "duration": 4,
        "start_time": "2023-01-05T11:59:27.923Z"
      },
      {
        "duration": 34,
        "start_time": "2023-01-05T11:59:27.928Z"
      },
      {
        "duration": 12,
        "start_time": "2023-01-05T11:59:27.964Z"
      },
      {
        "duration": 169,
        "start_time": "2023-01-05T11:59:27.977Z"
      },
      {
        "duration": 6,
        "start_time": "2023-01-05T11:59:28.148Z"
      },
      {
        "duration": 26,
        "start_time": "2023-01-05T11:59:28.155Z"
      },
      {
        "duration": 37,
        "start_time": "2023-01-05T11:59:28.183Z"
      },
      {
        "duration": 6,
        "start_time": "2023-01-05T11:59:28.222Z"
      },
      {
        "duration": 69,
        "start_time": "2023-01-05T11:59:28.229Z"
      },
      {
        "duration": 305,
        "start_time": "2023-01-05T11:59:28.301Z"
      },
      {
        "duration": 25,
        "start_time": "2023-01-05T11:59:28.608Z"
      },
      {
        "duration": 8,
        "start_time": "2023-01-05T11:59:28.635Z"
      },
      {
        "duration": 40,
        "start_time": "2023-01-05T11:59:28.651Z"
      },
      {
        "duration": 35,
        "start_time": "2023-01-05T11:59:28.693Z"
      },
      {
        "duration": 52,
        "start_time": "2023-01-05T11:59:28.729Z"
      },
      {
        "duration": 37,
        "start_time": "2023-01-05T11:59:28.783Z"
      },
      {
        "duration": 17,
        "start_time": "2023-01-05T11:59:28.821Z"
      },
      {
        "duration": 22,
        "start_time": "2023-01-05T11:59:28.839Z"
      },
      {
        "duration": 23,
        "start_time": "2023-01-05T11:59:28.863Z"
      },
      {
        "duration": 75,
        "start_time": "2023-01-05T11:59:28.888Z"
      },
      {
        "duration": 59,
        "start_time": "2023-01-05T11:59:28.964Z"
      },
      {
        "duration": 87,
        "start_time": "2023-01-05T11:59:29.025Z"
      },
      {
        "duration": 6,
        "start_time": "2023-01-05T11:59:29.114Z"
      },
      {
        "duration": 34,
        "start_time": "2023-01-05T11:59:29.121Z"
      },
      {
        "duration": 30,
        "start_time": "2023-01-05T11:59:29.157Z"
      },
      {
        "duration": 28,
        "start_time": "2023-01-05T11:59:29.189Z"
      },
      {
        "duration": 5,
        "start_time": "2023-01-05T11:59:29.218Z"
      },
      {
        "duration": 8,
        "start_time": "2023-01-05T11:59:29.225Z"
      },
      {
        "duration": 7,
        "start_time": "2023-01-05T11:59:29.234Z"
      },
      {
        "duration": 6,
        "start_time": "2023-01-05T11:59:29.243Z"
      },
      {
        "duration": 8,
        "start_time": "2023-01-05T11:59:29.251Z"
      },
      {
        "duration": 9,
        "start_time": "2023-01-05T11:59:29.261Z"
      },
      {
        "duration": 12,
        "start_time": "2023-01-05T11:59:29.272Z"
      },
      {
        "duration": 27,
        "start_time": "2023-01-05T11:59:29.286Z"
      },
      {
        "duration": 8,
        "start_time": "2023-01-05T11:59:29.315Z"
      },
      {
        "duration": 10,
        "start_time": "2023-01-05T11:59:29.324Z"
      },
      {
        "duration": 8,
        "start_time": "2023-01-05T11:59:29.336Z"
      },
      {
        "duration": 15,
        "start_time": "2023-01-05T11:59:29.345Z"
      },
      {
        "duration": 6,
        "start_time": "2023-01-05T11:59:29.362Z"
      },
      {
        "duration": 7,
        "start_time": "2023-01-05T11:59:29.370Z"
      },
      {
        "duration": 8,
        "start_time": "2023-01-05T11:59:29.378Z"
      },
      {
        "duration": 27,
        "start_time": "2023-01-05T11:59:29.388Z"
      },
      {
        "duration": 7,
        "start_time": "2023-01-05T11:59:29.416Z"
      },
      {
        "duration": 10,
        "start_time": "2023-01-05T11:59:29.424Z"
      },
      {
        "duration": 8,
        "start_time": "2023-01-05T11:59:29.435Z"
      },
      {
        "duration": 10,
        "start_time": "2023-01-05T11:59:29.444Z"
      },
      {
        "duration": 13,
        "start_time": "2023-01-05T11:59:29.456Z"
      },
      {
        "duration": 4,
        "start_time": "2023-01-05T11:59:29.470Z"
      },
      {
        "duration": 11,
        "start_time": "2023-01-05T11:59:29.476Z"
      },
      {
        "duration": 3,
        "start_time": "2023-01-05T12:00:25.234Z"
      },
      {
        "duration": 4,
        "start_time": "2023-01-05T12:00:26.384Z"
      },
      {
        "duration": 3,
        "start_time": "2023-01-05T12:00:56.058Z"
      },
      {
        "duration": 4,
        "start_time": "2023-01-05T12:00:58.510Z"
      },
      {
        "duration": 3,
        "start_time": "2023-01-05T12:10:34.077Z"
      },
      {
        "duration": 4,
        "start_time": "2023-01-05T12:10:43.795Z"
      },
      {
        "duration": 3,
        "start_time": "2023-01-05T12:11:07.298Z"
      },
      {
        "duration": 4,
        "start_time": "2023-01-05T12:11:07.773Z"
      },
      {
        "duration": 6,
        "start_time": "2023-01-05T12:12:01.016Z"
      },
      {
        "duration": 3,
        "start_time": "2023-01-05T12:17:44.295Z"
      },
      {
        "duration": 10,
        "start_time": "2023-01-05T12:18:20.018Z"
      },
      {
        "duration": 2,
        "start_time": "2023-01-05T12:18:53.339Z"
      },
      {
        "duration": 4,
        "start_time": "2023-01-05T12:19:00.576Z"
      },
      {
        "duration": 16,
        "start_time": "2023-01-05T12:26:47.072Z"
      },
      {
        "duration": 9,
        "start_time": "2023-01-05T12:30:38.006Z"
      },
      {
        "duration": 9,
        "start_time": "2023-01-05T12:35:31.678Z"
      },
      {
        "duration": 10,
        "start_time": "2023-01-05T12:36:18.991Z"
      },
      {
        "duration": 8,
        "start_time": "2023-01-05T12:37:08.608Z"
      },
      {
        "duration": 4,
        "start_time": "2023-01-05T12:41:11.469Z"
      },
      {
        "duration": 3,
        "start_time": "2023-01-05T12:41:20.420Z"
      },
      {
        "duration": 3,
        "start_time": "2023-01-05T12:41:40.020Z"
      },
      {
        "duration": 10,
        "start_time": "2023-01-05T12:41:44.188Z"
      },
      {
        "duration": 3,
        "start_time": "2023-01-05T12:41:47.473Z"
      },
      {
        "duration": 4,
        "start_time": "2023-01-05T12:41:49.358Z"
      },
      {
        "duration": 8,
        "start_time": "2023-01-05T12:42:17.552Z"
      },
      {
        "duration": 3,
        "start_time": "2023-01-05T12:45:15.752Z"
      },
      {
        "duration": 4,
        "start_time": "2023-01-05T12:45:17.964Z"
      },
      {
        "duration": 59,
        "start_time": "2023-01-05T12:45:30.198Z"
      },
      {
        "duration": 3,
        "start_time": "2023-01-05T12:46:02.268Z"
      },
      {
        "duration": 4,
        "start_time": "2023-01-05T12:46:05.244Z"
      },
      {
        "duration": 4,
        "start_time": "2023-01-05T12:46:45.447Z"
      },
      {
        "duration": 5,
        "start_time": "2023-01-05T12:46:50.514Z"
      },
      {
        "duration": 43,
        "start_time": "2023-01-05T12:48:52.145Z"
      },
      {
        "duration": 47,
        "start_time": "2023-01-05T12:49:00.069Z"
      },
      {
        "duration": 4,
        "start_time": "2023-01-05T12:49:09.273Z"
      },
      {
        "duration": 4,
        "start_time": "2023-01-05T12:49:16.296Z"
      },
      {
        "duration": 4,
        "start_time": "2023-01-05T12:49:25.032Z"
      },
      {
        "duration": 3,
        "start_time": "2023-01-05T12:50:39.547Z"
      },
      {
        "duration": 5,
        "start_time": "2023-01-05T12:50:40.183Z"
      },
      {
        "duration": 6,
        "start_time": "2023-01-05T13:08:12.466Z"
      },
      {
        "duration": 4,
        "start_time": "2023-01-05T13:08:15.712Z"
      },
      {
        "duration": 5,
        "start_time": "2023-01-05T13:08:16.520Z"
      },
      {
        "duration": 6,
        "start_time": "2023-01-05T13:12:57.868Z"
      },
      {
        "duration": 6,
        "start_time": "2023-01-05T13:13:17.758Z"
      },
      {
        "duration": 3,
        "start_time": "2023-01-05T13:14:17.618Z"
      },
      {
        "duration": 6,
        "start_time": "2023-01-05T13:14:21.899Z"
      },
      {
        "duration": 7,
        "start_time": "2023-01-05T13:16:05.343Z"
      },
      {
        "duration": 7,
        "start_time": "2023-01-05T13:17:26.166Z"
      },
      {
        "duration": 11,
        "start_time": "2023-01-05T13:19:20.117Z"
      },
      {
        "duration": 8,
        "start_time": "2023-01-05T13:22:00.669Z"
      },
      {
        "duration": 16,
        "start_time": "2023-01-05T13:34:00.998Z"
      },
      {
        "duration": 3,
        "start_time": "2023-01-05T13:34:10.942Z"
      },
      {
        "duration": 10,
        "start_time": "2023-01-05T13:34:12.493Z"
      },
      {
        "duration": 12,
        "start_time": "2023-01-05T13:36:02.764Z"
      },
      {
        "duration": 2,
        "start_time": "2023-01-05T13:36:04.638Z"
      },
      {
        "duration": 10,
        "start_time": "2023-01-05T13:36:05.041Z"
      },
      {
        "duration": 9,
        "start_time": "2023-01-05T13:37:17.618Z"
      },
      {
        "duration": 10,
        "start_time": "2023-01-05T13:52:24.161Z"
      },
      {
        "duration": 9,
        "start_time": "2023-01-05T13:52:59.735Z"
      },
      {
        "duration": 13,
        "start_time": "2023-01-05T13:53:20.368Z"
      },
      {
        "duration": 1292,
        "start_time": "2023-01-06T13:31:50.538Z"
      },
      {
        "duration": 4,
        "start_time": "2023-01-06T13:32:46.115Z"
      },
      {
        "duration": 3,
        "start_time": "2023-01-06T13:32:49.963Z"
      },
      {
        "duration": 706,
        "start_time": "2023-01-06T13:32:49.968Z"
      },
      {
        "duration": 13,
        "start_time": "2023-01-06T13:32:50.676Z"
      },
      {
        "duration": 23,
        "start_time": "2023-01-06T13:32:50.691Z"
      },
      {
        "duration": 8,
        "start_time": "2023-01-06T13:32:50.717Z"
      },
      {
        "duration": 35,
        "start_time": "2023-01-06T13:32:50.727Z"
      },
      {
        "duration": 24,
        "start_time": "2023-01-06T13:32:50.765Z"
      },
      {
        "duration": 94,
        "start_time": "2023-01-06T13:32:50.791Z"
      },
      {
        "duration": 134,
        "start_time": "2023-01-06T13:32:50.887Z"
      },
      {
        "duration": 83,
        "start_time": "2023-01-06T13:32:51.024Z"
      },
      {
        "duration": 17,
        "start_time": "2023-01-06T13:32:51.108Z"
      },
      {
        "duration": 1201,
        "start_time": "2023-01-06T13:32:51.126Z"
      },
      {
        "duration": 58,
        "start_time": "2023-01-06T13:32:52.328Z"
      },
      {
        "duration": 66,
        "start_time": "2023-01-06T13:32:52.388Z"
      },
      {
        "duration": 3,
        "start_time": "2023-01-06T13:32:52.456Z"
      },
      {
        "duration": 51,
        "start_time": "2023-01-06T13:32:52.460Z"
      },
      {
        "duration": 6,
        "start_time": "2023-01-06T13:32:52.512Z"
      },
      {
        "duration": 171,
        "start_time": "2023-01-06T13:32:52.520Z"
      },
      {
        "duration": 5,
        "start_time": "2023-01-06T13:32:52.692Z"
      },
      {
        "duration": 18,
        "start_time": "2023-01-06T13:32:52.699Z"
      },
      {
        "duration": 48,
        "start_time": "2023-01-06T13:32:52.719Z"
      },
      {
        "duration": 7,
        "start_time": "2023-01-06T13:32:52.768Z"
      },
      {
        "duration": 56,
        "start_time": "2023-01-06T13:32:52.777Z"
      },
      {
        "duration": 340,
        "start_time": "2023-01-06T13:32:52.834Z"
      },
      {
        "duration": 30,
        "start_time": "2023-01-06T13:32:53.176Z"
      },
      {
        "duration": 9,
        "start_time": "2023-01-06T13:32:53.207Z"
      },
      {
        "duration": 46,
        "start_time": "2023-01-06T13:32:53.217Z"
      },
      {
        "duration": 30,
        "start_time": "2023-01-06T13:32:53.267Z"
      },
      {
        "duration": 74,
        "start_time": "2023-01-06T13:32:53.299Z"
      },
      {
        "duration": 32,
        "start_time": "2023-01-06T13:32:53.374Z"
      },
      {
        "duration": 14,
        "start_time": "2023-01-06T13:32:53.407Z"
      },
      {
        "duration": 34,
        "start_time": "2023-01-06T13:32:53.423Z"
      },
      {
        "duration": 12,
        "start_time": "2023-01-06T13:32:53.459Z"
      },
      {
        "duration": 92,
        "start_time": "2023-01-06T13:32:53.473Z"
      },
      {
        "duration": 296,
        "start_time": "2023-01-06T13:32:53.566Z"
      },
      {
        "duration": 127,
        "start_time": "2023-01-06T13:32:53.863Z"
      },
      {
        "duration": 4,
        "start_time": "2023-01-06T13:32:53.992Z"
      },
      {
        "duration": 76,
        "start_time": "2023-01-06T13:32:53.998Z"
      },
      {
        "duration": 30,
        "start_time": "2023-01-06T13:32:54.076Z"
      },
      {
        "duration": 10,
        "start_time": "2023-01-06T13:32:54.107Z"
      },
      {
        "duration": 33,
        "start_time": "2023-01-06T13:32:54.119Z"
      },
      {
        "duration": 13,
        "start_time": "2023-01-06T13:32:54.154Z"
      },
      {
        "duration": 31,
        "start_time": "2023-01-06T13:32:54.173Z"
      },
      {
        "duration": 10,
        "start_time": "2023-01-06T13:32:54.206Z"
      },
      {
        "duration": 8,
        "start_time": "2023-01-06T13:32:54.218Z"
      },
      {
        "duration": 7,
        "start_time": "2023-01-06T13:32:54.227Z"
      },
      {
        "duration": 9,
        "start_time": "2023-01-06T13:32:54.235Z"
      },
      {
        "duration": 9,
        "start_time": "2023-01-06T13:32:54.246Z"
      },
      {
        "duration": 6,
        "start_time": "2023-01-06T13:32:54.256Z"
      },
      {
        "duration": 6,
        "start_time": "2023-01-06T13:32:54.264Z"
      },
      {
        "duration": 6,
        "start_time": "2023-01-06T13:32:54.272Z"
      },
      {
        "duration": 8,
        "start_time": "2023-01-06T13:32:54.280Z"
      },
      {
        "duration": 8,
        "start_time": "2023-01-06T13:32:54.289Z"
      },
      {
        "duration": 10,
        "start_time": "2023-01-06T13:32:54.299Z"
      },
      {
        "duration": 7,
        "start_time": "2023-01-06T13:32:54.311Z"
      },
      {
        "duration": 6,
        "start_time": "2023-01-06T13:32:54.350Z"
      },
      {
        "duration": 8,
        "start_time": "2023-01-06T13:32:54.358Z"
      },
      {
        "duration": 7,
        "start_time": "2023-01-06T13:32:54.368Z"
      },
      {
        "duration": 9,
        "start_time": "2023-01-06T13:32:54.377Z"
      },
      {
        "duration": 12,
        "start_time": "2023-01-06T13:32:54.387Z"
      },
      {
        "duration": 11,
        "start_time": "2023-01-06T13:32:54.400Z"
      },
      {
        "duration": 21,
        "start_time": "2023-01-06T13:32:54.413Z"
      },
      {
        "duration": 15,
        "start_time": "2023-01-06T13:32:54.436Z"
      },
      {
        "duration": 135,
        "start_time": "2023-01-06T13:34:21.634Z"
      },
      {
        "duration": 3,
        "start_time": "2023-01-06T13:34:25.445Z"
      },
      {
        "duration": 20,
        "start_time": "2023-01-06T13:34:25.450Z"
      },
      {
        "duration": 13,
        "start_time": "2023-01-06T13:34:36.112Z"
      },
      {
        "duration": 123,
        "start_time": "2023-01-06T13:39:34.800Z"
      },
      {
        "duration": 4,
        "start_time": "2023-01-06T13:40:01.431Z"
      },
      {
        "duration": 198,
        "start_time": "2023-01-06T13:40:01.437Z"
      },
      {
        "duration": 8,
        "start_time": "2023-01-06T13:40:01.637Z"
      },
      {
        "duration": 49,
        "start_time": "2023-01-06T13:40:01.653Z"
      },
      {
        "duration": 33,
        "start_time": "2023-01-06T13:40:01.704Z"
      },
      {
        "duration": 45,
        "start_time": "2023-01-06T13:40:01.739Z"
      },
      {
        "duration": 37,
        "start_time": "2023-01-06T13:40:01.786Z"
      },
      {
        "duration": 112,
        "start_time": "2023-01-06T13:40:01.825Z"
      },
      {
        "duration": 130,
        "start_time": "2023-01-06T13:40:01.939Z"
      },
      {
        "duration": 68,
        "start_time": "2023-01-06T13:40:02.070Z"
      },
      {
        "duration": 27,
        "start_time": "2023-01-06T13:40:02.140Z"
      },
      {
        "duration": 522,
        "start_time": "2023-01-06T13:40:08.162Z"
      },
      {
        "duration": 464,
        "start_time": "2023-01-06T13:41:51.641Z"
      },
      {
        "duration": 9,
        "start_time": "2023-01-06T13:43:48.269Z"
      },
      {
        "duration": 1079,
        "start_time": "2023-01-06T13:43:53.580Z"
      },
      {
        "duration": 6,
        "start_time": "2023-01-06T13:44:21.245Z"
      },
      {
        "duration": 482,
        "start_time": "2023-01-06T13:44:39.977Z"
      },
      {
        "duration": 460,
        "start_time": "2023-01-06T13:44:54.769Z"
      },
      {
        "duration": 1131,
        "start_time": "2023-01-06T13:48:28.678Z"
      },
      {
        "duration": 8,
        "start_time": "2023-01-06T13:49:22.965Z"
      },
      {
        "duration": 1205,
        "start_time": "2023-01-06T13:49:42.613Z"
      },
      {
        "duration": 4,
        "start_time": "2023-01-06T13:59:39.540Z"
      },
      {
        "duration": 35,
        "start_time": "2023-01-06T14:07:16.190Z"
      },
      {
        "duration": 32,
        "start_time": "2023-01-06T14:08:34.421Z"
      },
      {
        "duration": 6,
        "start_time": "2023-01-06T15:12:48.868Z"
      },
      {
        "duration": 5,
        "start_time": "2023-01-06T15:13:12.269Z"
      },
      {
        "duration": 73,
        "start_time": "2023-01-06T15:14:34.253Z"
      },
      {
        "duration": 76,
        "start_time": "2023-01-06T15:41:54.292Z"
      },
      {
        "duration": 82,
        "start_time": "2023-01-06T15:43:53.767Z"
      },
      {
        "duration": 77,
        "start_time": "2023-01-06T15:44:11.023Z"
      },
      {
        "duration": 69,
        "start_time": "2023-01-06T15:44:24.731Z"
      },
      {
        "duration": 15,
        "start_time": "2023-01-06T15:44:32.949Z"
      },
      {
        "duration": 75,
        "start_time": "2023-01-06T15:51:57.987Z"
      },
      {
        "duration": 4,
        "start_time": "2023-01-06T15:55:10.965Z"
      },
      {
        "duration": 231,
        "start_time": "2023-01-06T15:55:10.971Z"
      },
      {
        "duration": 8,
        "start_time": "2023-01-06T15:55:11.204Z"
      },
      {
        "duration": 48,
        "start_time": "2023-01-06T15:55:11.213Z"
      },
      {
        "duration": 18,
        "start_time": "2023-01-06T15:55:11.264Z"
      },
      {
        "duration": 19,
        "start_time": "2023-01-06T15:55:11.283Z"
      },
      {
        "duration": 45,
        "start_time": "2023-01-06T15:55:11.304Z"
      },
      {
        "duration": 80,
        "start_time": "2023-01-06T15:55:11.351Z"
      },
      {
        "duration": 129,
        "start_time": "2023-01-06T15:55:11.433Z"
      },
      {
        "duration": 69,
        "start_time": "2023-01-06T15:55:11.564Z"
      },
      {
        "duration": 26,
        "start_time": "2023-01-06T15:55:11.635Z"
      },
      {
        "duration": 948,
        "start_time": "2023-01-06T15:55:11.662Z"
      },
      {
        "duration": 54,
        "start_time": "2023-01-06T15:55:12.612Z"
      },
      {
        "duration": 52,
        "start_time": "2023-01-06T15:55:12.669Z"
      },
      {
        "duration": 3,
        "start_time": "2023-01-06T15:55:12.723Z"
      },
      {
        "duration": 50,
        "start_time": "2023-01-06T15:55:12.728Z"
      },
      {
        "duration": 28,
        "start_time": "2023-01-06T15:55:12.779Z"
      },
      {
        "duration": 188,
        "start_time": "2023-01-06T15:55:12.808Z"
      },
      {
        "duration": 6,
        "start_time": "2023-01-06T15:55:12.998Z"
      },
      {
        "duration": 36,
        "start_time": "2023-01-06T15:55:13.006Z"
      },
      {
        "duration": 46,
        "start_time": "2023-01-06T15:55:13.044Z"
      },
      {
        "duration": 7,
        "start_time": "2023-01-06T15:55:13.092Z"
      },
      {
        "duration": 95,
        "start_time": "2023-01-06T15:55:13.100Z"
      },
      {
        "duration": 324,
        "start_time": "2023-01-06T15:55:13.197Z"
      },
      {
        "duration": 34,
        "start_time": "2023-01-06T15:55:13.522Z"
      },
      {
        "duration": 12,
        "start_time": "2023-01-06T15:55:13.558Z"
      },
      {
        "duration": 48,
        "start_time": "2023-01-06T15:55:13.572Z"
      },
      {
        "duration": 54,
        "start_time": "2023-01-06T15:55:13.622Z"
      },
      {
        "duration": 76,
        "start_time": "2023-01-06T15:55:13.677Z"
      },
      {
        "duration": 30,
        "start_time": "2023-01-06T15:55:13.755Z"
      },
      {
        "duration": 24,
        "start_time": "2023-01-06T15:55:13.787Z"
      },
      {
        "duration": 42,
        "start_time": "2023-01-06T15:55:13.812Z"
      },
      {
        "duration": 30,
        "start_time": "2023-01-06T15:55:13.855Z"
      },
      {
        "duration": 105,
        "start_time": "2023-01-06T15:55:13.887Z"
      },
      {
        "duration": 9,
        "start_time": "2023-01-06T15:55:13.993Z"
      },
      {
        "duration": 129,
        "start_time": "2023-01-06T15:55:14.004Z"
      },
      {
        "duration": 4,
        "start_time": "2023-01-06T15:55:14.134Z"
      },
      {
        "duration": 66,
        "start_time": "2023-01-06T15:55:14.140Z"
      },
      {
        "duration": 44,
        "start_time": "2023-01-06T15:55:14.208Z"
      },
      {
        "duration": 11,
        "start_time": "2023-01-06T15:55:14.253Z"
      },
      {
        "duration": 42,
        "start_time": "2023-01-06T15:55:14.268Z"
      },
      {
        "duration": 64,
        "start_time": "2023-01-06T15:55:14.312Z"
      },
      {
        "duration": 33,
        "start_time": "2023-01-06T15:55:14.377Z"
      },
      {
        "duration": 25,
        "start_time": "2023-01-06T15:55:14.412Z"
      },
      {
        "duration": 23,
        "start_time": "2023-01-06T15:55:14.439Z"
      },
      {
        "duration": 15,
        "start_time": "2023-01-06T15:55:14.464Z"
      },
      {
        "duration": 33,
        "start_time": "2023-01-06T15:55:14.482Z"
      },
      {
        "duration": 41,
        "start_time": "2023-01-06T15:55:14.516Z"
      },
      {
        "duration": 24,
        "start_time": "2023-01-06T15:55:14.558Z"
      },
      {
        "duration": 31,
        "start_time": "2023-01-06T15:55:14.584Z"
      },
      {
        "duration": 25,
        "start_time": "2023-01-06T15:55:14.617Z"
      },
      {
        "duration": 23,
        "start_time": "2023-01-06T15:55:14.643Z"
      },
      {
        "duration": 38,
        "start_time": "2023-01-06T15:55:14.668Z"
      },
      {
        "duration": 32,
        "start_time": "2023-01-06T15:55:14.707Z"
      },
      {
        "duration": 26,
        "start_time": "2023-01-06T15:55:14.742Z"
      },
      {
        "duration": 16,
        "start_time": "2023-01-06T15:55:14.769Z"
      },
      {
        "duration": 12,
        "start_time": "2023-01-06T15:55:14.786Z"
      },
      {
        "duration": 30,
        "start_time": "2023-01-06T15:55:14.800Z"
      },
      {
        "duration": 26,
        "start_time": "2023-01-06T15:55:14.832Z"
      },
      {
        "duration": 45,
        "start_time": "2023-01-06T15:55:14.859Z"
      },
      {
        "duration": 22,
        "start_time": "2023-01-06T15:55:14.906Z"
      },
      {
        "duration": 29,
        "start_time": "2023-01-06T15:55:14.930Z"
      },
      {
        "duration": 5,
        "start_time": "2023-01-06T16:08:31.611Z"
      },
      {
        "duration": 219,
        "start_time": "2023-01-06T16:08:31.619Z"
      },
      {
        "duration": 12,
        "start_time": "2023-01-06T16:08:31.840Z"
      },
      {
        "duration": 41,
        "start_time": "2023-01-06T16:08:31.854Z"
      },
      {
        "duration": 29,
        "start_time": "2023-01-06T16:08:31.897Z"
      },
      {
        "duration": 41,
        "start_time": "2023-01-06T16:08:31.928Z"
      },
      {
        "duration": 45,
        "start_time": "2023-01-06T16:08:31.972Z"
      },
      {
        "duration": 88,
        "start_time": "2023-01-06T16:08:32.018Z"
      },
      {
        "duration": 132,
        "start_time": "2023-01-06T16:08:32.108Z"
      },
      {
        "duration": 68,
        "start_time": "2023-01-06T16:08:32.251Z"
      },
      {
        "duration": 35,
        "start_time": "2023-01-06T16:08:32.321Z"
      },
      {
        "duration": 1099,
        "start_time": "2023-01-06T16:08:32.359Z"
      },
      {
        "duration": 48,
        "start_time": "2023-01-06T16:08:33.460Z"
      },
      {
        "duration": 70,
        "start_time": "2023-01-06T16:08:33.510Z"
      },
      {
        "duration": 4,
        "start_time": "2023-01-06T16:08:33.582Z"
      },
      {
        "duration": 43,
        "start_time": "2023-01-06T16:08:33.587Z"
      },
      {
        "duration": 16,
        "start_time": "2023-01-06T16:08:33.632Z"
      },
      {
        "duration": 201,
        "start_time": "2023-01-06T16:08:33.651Z"
      },
      {
        "duration": 6,
        "start_time": "2023-01-06T16:08:33.854Z"
      },
      {
        "duration": 60,
        "start_time": "2023-01-06T16:08:33.862Z"
      },
      {
        "duration": 32,
        "start_time": "2023-01-06T16:08:33.924Z"
      },
      {
        "duration": 8,
        "start_time": "2023-01-06T16:08:33.958Z"
      },
      {
        "duration": 87,
        "start_time": "2023-01-06T16:08:33.968Z"
      },
      {
        "duration": 380,
        "start_time": "2023-01-06T16:08:34.057Z"
      },
      {
        "duration": 36,
        "start_time": "2023-01-06T16:08:34.439Z"
      },
      {
        "duration": 14,
        "start_time": "2023-01-06T16:08:34.477Z"
      },
      {
        "duration": 52,
        "start_time": "2023-01-06T16:08:34.494Z"
      },
      {
        "duration": 61,
        "start_time": "2023-01-06T16:08:34.551Z"
      },
      {
        "duration": 82,
        "start_time": "2023-01-06T16:08:34.614Z"
      },
      {
        "duration": 60,
        "start_time": "2023-01-06T16:08:34.698Z"
      },
      {
        "duration": 30,
        "start_time": "2023-01-06T16:08:34.760Z"
      },
      {
        "duration": 52,
        "start_time": "2023-01-06T16:08:34.793Z"
      },
      {
        "duration": 54,
        "start_time": "2023-01-06T16:08:34.848Z"
      },
      {
        "duration": 139,
        "start_time": "2023-01-06T16:08:34.905Z"
      },
      {
        "duration": 14,
        "start_time": "2023-01-06T16:08:35.050Z"
      },
      {
        "duration": 160,
        "start_time": "2023-01-06T16:08:35.066Z"
      },
      {
        "duration": 5,
        "start_time": "2023-01-06T16:08:35.228Z"
      },
      {
        "duration": 75,
        "start_time": "2023-01-06T16:08:35.250Z"
      },
      {
        "duration": 45,
        "start_time": "2023-01-06T16:08:35.327Z"
      },
      {
        "duration": 18,
        "start_time": "2023-01-06T16:08:35.374Z"
      },
      {
        "duration": 58,
        "start_time": "2023-01-06T16:08:35.394Z"
      },
      {
        "duration": 62,
        "start_time": "2023-01-06T16:08:35.454Z"
      },
      {
        "duration": 37,
        "start_time": "2023-01-06T16:08:35.518Z"
      },
      {
        "duration": 34,
        "start_time": "2023-01-06T16:08:35.557Z"
      },
      {
        "duration": 35,
        "start_time": "2023-01-06T16:08:35.593Z"
      },
      {
        "duration": 77,
        "start_time": "2023-01-06T16:08:35.630Z"
      },
      {
        "duration": 54,
        "start_time": "2023-01-06T16:08:35.708Z"
      },
      {
        "duration": 74,
        "start_time": "2023-01-06T16:08:35.764Z"
      },
      {
        "duration": 46,
        "start_time": "2023-01-06T16:08:35.839Z"
      },
      {
        "duration": 34,
        "start_time": "2023-01-06T16:08:35.887Z"
      },
      {
        "duration": 36,
        "start_time": "2023-01-06T16:08:35.923Z"
      },
      {
        "duration": 48,
        "start_time": "2023-01-06T16:08:35.961Z"
      },
      {
        "duration": 37,
        "start_time": "2023-01-06T16:08:36.011Z"
      },
      {
        "duration": 43,
        "start_time": "2023-01-06T16:08:36.050Z"
      },
      {
        "duration": 48,
        "start_time": "2023-01-06T16:08:36.095Z"
      },
      {
        "duration": 44,
        "start_time": "2023-01-06T16:08:36.145Z"
      },
      {
        "duration": 63,
        "start_time": "2023-01-06T16:08:36.192Z"
      },
      {
        "duration": 56,
        "start_time": "2023-01-06T16:08:36.257Z"
      },
      {
        "duration": 37,
        "start_time": "2023-01-06T16:08:36.315Z"
      },
      {
        "duration": 30,
        "start_time": "2023-01-06T16:08:36.355Z"
      },
      {
        "duration": 46,
        "start_time": "2023-01-06T16:08:36.387Z"
      },
      {
        "duration": 59,
        "start_time": "2023-01-06T16:08:36.435Z"
      },
      {
        "duration": 1208,
        "start_time": "2023-01-06T18:20:22.358Z"
      },
      {
        "duration": 522,
        "start_time": "2023-01-06T18:20:23.568Z"
      },
      {
        "duration": 13,
        "start_time": "2023-01-06T18:20:24.092Z"
      },
      {
        "duration": 27,
        "start_time": "2023-01-06T18:20:24.107Z"
      },
      {
        "duration": 7,
        "start_time": "2023-01-06T18:20:24.135Z"
      },
      {
        "duration": 13,
        "start_time": "2023-01-06T18:20:24.143Z"
      },
      {
        "duration": 23,
        "start_time": "2023-01-06T18:20:24.157Z"
      },
      {
        "duration": 87,
        "start_time": "2023-01-06T18:20:24.181Z"
      },
      {
        "duration": 111,
        "start_time": "2023-01-06T18:20:24.270Z"
      },
      {
        "duration": 80,
        "start_time": "2023-01-06T18:20:24.383Z"
      },
      {
        "duration": 12,
        "start_time": "2023-01-06T18:20:24.464Z"
      },
      {
        "duration": 1033,
        "start_time": "2023-01-06T18:20:24.478Z"
      },
      {
        "duration": 44,
        "start_time": "2023-01-06T18:20:25.513Z"
      },
      {
        "duration": 67,
        "start_time": "2023-01-06T18:20:25.559Z"
      },
      {
        "duration": 3,
        "start_time": "2023-01-06T18:20:25.628Z"
      },
      {
        "duration": 36,
        "start_time": "2023-01-06T18:20:25.632Z"
      },
      {
        "duration": 5,
        "start_time": "2023-01-06T18:20:25.669Z"
      },
      {
        "duration": 173,
        "start_time": "2023-01-06T18:20:25.675Z"
      },
      {
        "duration": 5,
        "start_time": "2023-01-06T18:20:25.849Z"
      },
      {
        "duration": 19,
        "start_time": "2023-01-06T18:20:25.855Z"
      },
      {
        "duration": 47,
        "start_time": "2023-01-06T18:20:25.876Z"
      },
      {
        "duration": 8,
        "start_time": "2023-01-06T18:20:25.924Z"
      },
      {
        "duration": 89,
        "start_time": "2023-01-06T18:20:25.933Z"
      },
      {
        "duration": 315,
        "start_time": "2023-01-06T18:20:26.024Z"
      },
      {
        "duration": 23,
        "start_time": "2023-01-06T18:20:26.341Z"
      },
      {
        "duration": 7,
        "start_time": "2023-01-06T18:20:26.365Z"
      },
      {
        "duration": 49,
        "start_time": "2023-01-06T18:20:26.374Z"
      },
      {
        "duration": 26,
        "start_time": "2023-01-06T18:20:26.426Z"
      },
      {
        "duration": 66,
        "start_time": "2023-01-06T18:20:26.454Z"
      },
      {
        "duration": 27,
        "start_time": "2023-01-06T18:20:26.522Z"
      },
      {
        "duration": 11,
        "start_time": "2023-01-06T18:20:26.551Z"
      },
      {
        "duration": 11,
        "start_time": "2023-01-06T18:20:26.564Z"
      },
      {
        "duration": 32,
        "start_time": "2023-01-06T18:20:26.576Z"
      },
      {
        "duration": 72,
        "start_time": "2023-01-06T18:20:26.609Z"
      },
      {
        "duration": 286,
        "start_time": "2023-01-06T18:20:26.683Z"
      },
      {
        "duration": 150,
        "start_time": "2023-01-06T18:20:26.970Z"
      },
      {
        "duration": 4,
        "start_time": "2023-01-06T18:20:27.121Z"
      },
      {
        "duration": 30,
        "start_time": "2023-01-06T18:20:27.126Z"
      },
      {
        "duration": 53,
        "start_time": "2023-01-06T18:20:27.157Z"
      },
      {
        "duration": 7,
        "start_time": "2023-01-06T18:20:27.211Z"
      },
      {
        "duration": 6,
        "start_time": "2023-01-06T18:20:27.220Z"
      },
      {
        "duration": 7,
        "start_time": "2023-01-06T18:20:27.227Z"
      },
      {
        "duration": 6,
        "start_time": "2023-01-06T18:20:27.235Z"
      },
      {
        "duration": 6,
        "start_time": "2023-01-06T18:20:27.243Z"
      },
      {
        "duration": 6,
        "start_time": "2023-01-06T18:20:27.250Z"
      },
      {
        "duration": 9,
        "start_time": "2023-01-06T18:20:27.257Z"
      },
      {
        "duration": 37,
        "start_time": "2023-01-06T18:20:27.267Z"
      },
      {
        "duration": 18,
        "start_time": "2023-01-06T18:20:27.310Z"
      },
      {
        "duration": 20,
        "start_time": "2023-01-06T18:20:27.329Z"
      },
      {
        "duration": 30,
        "start_time": "2023-01-06T18:20:27.351Z"
      },
      {
        "duration": 44,
        "start_time": "2023-01-06T18:20:27.382Z"
      },
      {
        "duration": 24,
        "start_time": "2023-01-06T18:20:27.428Z"
      },
      {
        "duration": 21,
        "start_time": "2023-01-06T18:20:27.454Z"
      },
      {
        "duration": 20,
        "start_time": "2023-01-06T18:20:27.476Z"
      },
      {
        "duration": 44,
        "start_time": "2023-01-06T18:20:27.499Z"
      },
      {
        "duration": 24,
        "start_time": "2023-01-06T18:20:27.545Z"
      },
      {
        "duration": 34,
        "start_time": "2023-01-06T18:20:27.571Z"
      },
      {
        "duration": 20,
        "start_time": "2023-01-06T18:20:27.607Z"
      },
      {
        "duration": 24,
        "start_time": "2023-01-06T18:20:27.628Z"
      },
      {
        "duration": 16,
        "start_time": "2023-01-06T18:20:27.654Z"
      },
      {
        "duration": 22,
        "start_time": "2023-01-06T18:20:27.672Z"
      },
      {
        "duration": 28,
        "start_time": "2023-01-06T18:20:27.695Z"
      },
      {
        "duration": 4,
        "start_time": "2023-01-06T18:31:38.816Z"
      },
      {
        "duration": 4,
        "start_time": "2023-01-06T18:31:46.142Z"
      },
      {
        "duration": 89,
        "start_time": "2023-01-06T18:31:53.257Z"
      },
      {
        "duration": 116,
        "start_time": "2023-01-06T18:32:00.617Z"
      },
      {
        "duration": 6,
        "start_time": "2023-01-06T18:32:18.235Z"
      },
      {
        "duration": 4,
        "start_time": "2023-01-06T18:34:45.580Z"
      },
      {
        "duration": 5,
        "start_time": "2023-01-06T18:35:20.716Z"
      },
      {
        "duration": 10,
        "start_time": "2023-01-06T18:35:59.317Z"
      },
      {
        "duration": 9,
        "start_time": "2023-01-06T18:36:23.263Z"
      },
      {
        "duration": 7,
        "start_time": "2023-01-06T18:43:33.287Z"
      },
      {
        "duration": 4,
        "start_time": "2023-01-06T18:44:24.312Z"
      },
      {
        "duration": 1180,
        "start_time": "2023-01-09T14:05:54.019Z"
      },
      {
        "duration": 711,
        "start_time": "2023-01-09T14:05:55.201Z"
      },
      {
        "duration": 12,
        "start_time": "2023-01-09T14:05:55.914Z"
      },
      {
        "duration": 21,
        "start_time": "2023-01-09T14:05:55.929Z"
      },
      {
        "duration": 7,
        "start_time": "2023-01-09T14:05:55.952Z"
      },
      {
        "duration": 16,
        "start_time": "2023-01-09T14:05:55.961Z"
      },
      {
        "duration": 50,
        "start_time": "2023-01-09T14:05:55.979Z"
      },
      {
        "duration": 85,
        "start_time": "2023-01-09T14:05:56.031Z"
      },
      {
        "duration": 128,
        "start_time": "2023-01-09T14:05:56.119Z"
      },
      {
        "duration": 83,
        "start_time": "2023-01-09T14:05:56.250Z"
      },
      {
        "duration": 15,
        "start_time": "2023-01-09T14:05:56.336Z"
      },
      {
        "duration": 1073,
        "start_time": "2023-01-09T14:05:56.352Z"
      },
      {
        "duration": 53,
        "start_time": "2023-01-09T14:05:57.426Z"
      },
      {
        "duration": 68,
        "start_time": "2023-01-09T14:05:57.481Z"
      },
      {
        "duration": 3,
        "start_time": "2023-01-09T14:05:57.551Z"
      },
      {
        "duration": 29,
        "start_time": "2023-01-09T14:05:57.556Z"
      },
      {
        "duration": 5,
        "start_time": "2023-01-09T14:05:57.587Z"
      },
      {
        "duration": 200,
        "start_time": "2023-01-09T14:05:57.613Z"
      },
      {
        "duration": 7,
        "start_time": "2023-01-09T14:05:57.814Z"
      },
      {
        "duration": 24,
        "start_time": "2023-01-09T14:05:57.823Z"
      },
      {
        "duration": 37,
        "start_time": "2023-01-09T14:05:57.849Z"
      },
      {
        "duration": 30,
        "start_time": "2023-01-09T14:05:57.888Z"
      },
      {
        "duration": 64,
        "start_time": "2023-01-09T14:05:57.920Z"
      },
      {
        "duration": 390,
        "start_time": "2023-01-09T14:05:57.986Z"
      },
      {
        "duration": 47,
        "start_time": "2023-01-09T14:05:58.380Z"
      },
      {
        "duration": 9,
        "start_time": "2023-01-09T14:05:58.429Z"
      },
      {
        "duration": 31,
        "start_time": "2023-01-09T14:05:58.440Z"
      },
      {
        "duration": 52,
        "start_time": "2023-01-09T14:05:58.475Z"
      },
      {
        "duration": 69,
        "start_time": "2023-01-09T14:05:58.529Z"
      },
      {
        "duration": 30,
        "start_time": "2023-01-09T14:05:58.613Z"
      },
      {
        "duration": 14,
        "start_time": "2023-01-09T14:05:58.645Z"
      },
      {
        "duration": 17,
        "start_time": "2023-01-09T14:05:58.661Z"
      },
      {
        "duration": 8,
        "start_time": "2023-01-09T14:05:58.680Z"
      },
      {
        "duration": 75,
        "start_time": "2023-01-09T14:05:58.713Z"
      },
      {
        "duration": 271,
        "start_time": "2023-01-09T14:05:58.790Z"
      },
      {
        "duration": 171,
        "start_time": "2023-01-09T14:05:59.063Z"
      },
      {
        "duration": 4,
        "start_time": "2023-01-09T14:05:59.236Z"
      },
      {
        "duration": 49,
        "start_time": "2023-01-09T14:05:59.242Z"
      },
      {
        "duration": 42,
        "start_time": "2023-01-09T14:05:59.292Z"
      },
      {
        "duration": 10,
        "start_time": "2023-01-09T14:05:59.336Z"
      },
      {
        "duration": 10,
        "start_time": "2023-01-09T14:05:59.348Z"
      },
      {
        "duration": 18,
        "start_time": "2023-01-09T14:05:59.359Z"
      },
      {
        "duration": 8,
        "start_time": "2023-01-09T14:05:59.379Z"
      },
      {
        "duration": 5,
        "start_time": "2023-01-09T14:05:59.413Z"
      },
      {
        "duration": 31,
        "start_time": "2023-01-09T14:05:59.419Z"
      },
      {
        "duration": 16,
        "start_time": "2023-01-09T14:05:59.451Z"
      },
      {
        "duration": 12,
        "start_time": "2023-01-09T14:05:59.468Z"
      },
      {
        "duration": 11,
        "start_time": "2023-01-09T14:05:59.482Z"
      },
      {
        "duration": 15,
        "start_time": "2023-01-09T14:05:59.495Z"
      },
      {
        "duration": 43,
        "start_time": "2023-01-09T14:05:59.512Z"
      },
      {
        "duration": 32,
        "start_time": "2023-01-09T14:05:59.556Z"
      },
      {
        "duration": 17,
        "start_time": "2023-01-09T14:05:59.590Z"
      },
      {
        "duration": 21,
        "start_time": "2023-01-09T14:05:59.609Z"
      },
      {
        "duration": 14,
        "start_time": "2023-01-09T14:05:59.632Z"
      },
      {
        "duration": 13,
        "start_time": "2023-01-09T14:05:59.648Z"
      },
      {
        "duration": 32,
        "start_time": "2023-01-09T14:05:59.663Z"
      },
      {
        "duration": 16,
        "start_time": "2023-01-09T14:05:59.697Z"
      },
      {
        "duration": 21,
        "start_time": "2023-01-09T14:05:59.714Z"
      },
      {
        "duration": 18,
        "start_time": "2023-01-09T14:05:59.737Z"
      },
      {
        "duration": 76,
        "start_time": "2023-01-09T14:05:59.757Z"
      },
      {
        "duration": 0,
        "start_time": "2023-01-09T14:05:59.835Z"
      },
      {
        "duration": 0,
        "start_time": "2023-01-09T14:05:59.837Z"
      },
      {
        "duration": 4,
        "start_time": "2023-01-09T14:10:20.174Z"
      },
      {
        "duration": 90,
        "start_time": "2023-01-09T14:11:07.865Z"
      },
      {
        "duration": 9,
        "start_time": "2023-01-09T14:12:27.581Z"
      },
      {
        "duration": 92,
        "start_time": "2023-01-09T14:13:07.146Z"
      },
      {
        "duration": 110,
        "start_time": "2023-01-09T14:13:48.538Z"
      },
      {
        "duration": 153,
        "start_time": "2023-01-09T14:15:20.416Z"
      },
      {
        "duration": 116,
        "start_time": "2023-01-09T14:15:57.350Z"
      },
      {
        "duration": 73,
        "start_time": "2023-01-09T14:19:46.575Z"
      },
      {
        "duration": 5,
        "start_time": "2023-01-09T14:20:11.670Z"
      },
      {
        "duration": 12,
        "start_time": "2023-01-09T14:20:15.228Z"
      },
      {
        "duration": 1366,
        "start_time": "2023-01-09T14:22:57.110Z"
      },
      {
        "duration": 1194,
        "start_time": "2023-01-09T14:23:08.581Z"
      },
      {
        "duration": 1275,
        "start_time": "2023-01-09T14:23:59.091Z"
      },
      {
        "duration": 1206,
        "start_time": "2023-01-09T14:25:13.906Z"
      },
      {
        "duration": 5,
        "start_time": "2023-01-09T14:27:05.022Z"
      },
      {
        "duration": 4,
        "start_time": "2023-01-09T14:27:41.603Z"
      },
      {
        "duration": 5,
        "start_time": "2023-01-09T14:28:13.870Z"
      },
      {
        "duration": 30,
        "start_time": "2023-01-09T14:28:29.221Z"
      },
      {
        "duration": 30,
        "start_time": "2023-01-09T14:28:30.635Z"
      },
      {
        "duration": 9,
        "start_time": "2023-01-09T14:28:31.840Z"
      },
      {
        "duration": 6,
        "start_time": "2023-01-09T14:28:36.725Z"
      },
      {
        "duration": 5,
        "start_time": "2023-01-09T14:28:43.288Z"
      },
      {
        "duration": 8,
        "start_time": "2023-01-09T14:28:45.205Z"
      },
      {
        "duration": 6,
        "start_time": "2023-01-09T14:28:49.234Z"
      },
      {
        "duration": 4,
        "start_time": "2023-01-09T14:28:52.949Z"
      },
      {
        "duration": 4,
        "start_time": "2023-01-09T14:29:03.288Z"
      },
      {
        "duration": 164,
        "start_time": "2023-01-09T14:29:03.294Z"
      },
      {
        "duration": 9,
        "start_time": "2023-01-09T14:29:03.459Z"
      },
      {
        "duration": 20,
        "start_time": "2023-01-09T14:29:03.469Z"
      },
      {
        "duration": 22,
        "start_time": "2023-01-09T14:29:03.491Z"
      },
      {
        "duration": 13,
        "start_time": "2023-01-09T14:29:03.515Z"
      },
      {
        "duration": 19,
        "start_time": "2023-01-09T14:29:03.530Z"
      },
      {
        "duration": 87,
        "start_time": "2023-01-09T14:29:03.551Z"
      },
      {
        "duration": 109,
        "start_time": "2023-01-09T14:29:03.640Z"
      },
      {
        "duration": 64,
        "start_time": "2023-01-09T14:29:03.751Z"
      },
      {
        "duration": 13,
        "start_time": "2023-01-09T14:29:03.816Z"
      },
      {
        "duration": 954,
        "start_time": "2023-01-09T14:29:03.831Z"
      },
      {
        "duration": 55,
        "start_time": "2023-01-09T14:29:04.786Z"
      },
      {
        "duration": 48,
        "start_time": "2023-01-09T14:29:04.846Z"
      },
      {
        "duration": 19,
        "start_time": "2023-01-09T14:29:04.896Z"
      },
      {
        "duration": 41,
        "start_time": "2023-01-09T14:29:04.917Z"
      },
      {
        "duration": 6,
        "start_time": "2023-01-09T14:29:04.960Z"
      },
      {
        "duration": 205,
        "start_time": "2023-01-09T14:29:04.968Z"
      },
      {
        "duration": 6,
        "start_time": "2023-01-09T14:29:05.174Z"
      },
      {
        "duration": 20,
        "start_time": "2023-01-09T14:29:05.181Z"
      },
      {
        "duration": 25,
        "start_time": "2023-01-09T14:29:05.213Z"
      },
      {
        "duration": 7,
        "start_time": "2023-01-09T14:29:05.239Z"
      },
      {
        "duration": 71,
        "start_time": "2023-01-09T14:29:05.248Z"
      },
      {
        "duration": 349,
        "start_time": "2023-01-09T14:29:05.321Z"
      },
      {
        "duration": 27,
        "start_time": "2023-01-09T14:29:05.672Z"
      },
      {
        "duration": 20,
        "start_time": "2023-01-09T14:29:05.700Z"
      },
      {
        "duration": 24,
        "start_time": "2023-01-09T14:29:05.721Z"
      },
      {
        "duration": 30,
        "start_time": "2023-01-09T14:29:05.747Z"
      },
      {
        "duration": 83,
        "start_time": "2023-01-09T14:29:05.779Z"
      },
      {
        "duration": 29,
        "start_time": "2023-01-09T14:29:05.864Z"
      },
      {
        "duration": 34,
        "start_time": "2023-01-09T14:29:05.895Z"
      },
      {
        "duration": 12,
        "start_time": "2023-01-09T14:29:05.931Z"
      },
      {
        "duration": 15,
        "start_time": "2023-01-09T14:29:05.945Z"
      },
      {
        "duration": 104,
        "start_time": "2023-01-09T14:29:05.963Z"
      },
      {
        "duration": 15,
        "start_time": "2023-01-09T14:29:06.069Z"
      },
      {
        "duration": 133,
        "start_time": "2023-01-09T14:29:06.086Z"
      },
      {
        "duration": 5,
        "start_time": "2023-01-09T14:29:06.221Z"
      },
      {
        "duration": 33,
        "start_time": "2023-01-09T14:29:06.227Z"
      },
      {
        "duration": 32,
        "start_time": "2023-01-09T14:29:06.261Z"
      },
      {
        "duration": 27,
        "start_time": "2023-01-09T14:29:06.295Z"
      },
      {
        "duration": 5,
        "start_time": "2023-01-09T14:29:06.326Z"
      },
      {
        "duration": 9,
        "start_time": "2023-01-09T14:29:06.333Z"
      },
      {
        "duration": 11,
        "start_time": "2023-01-09T14:29:06.344Z"
      },
      {
        "duration": 9,
        "start_time": "2023-01-09T14:29:06.356Z"
      },
      {
        "duration": 6,
        "start_time": "2023-01-09T14:29:06.367Z"
      },
      {
        "duration": 8,
        "start_time": "2023-01-09T14:29:06.375Z"
      },
      {
        "duration": 6,
        "start_time": "2023-01-09T14:29:06.413Z"
      },
      {
        "duration": 14,
        "start_time": "2023-01-09T14:29:06.422Z"
      },
      {
        "duration": 10,
        "start_time": "2023-01-09T14:29:06.438Z"
      },
      {
        "duration": 6,
        "start_time": "2023-01-09T14:29:06.450Z"
      },
      {
        "duration": 9,
        "start_time": "2023-01-09T14:29:06.458Z"
      },
      {
        "duration": 10,
        "start_time": "2023-01-09T14:29:06.468Z"
      },
      {
        "duration": 15,
        "start_time": "2023-01-09T14:29:06.480Z"
      },
      {
        "duration": 12,
        "start_time": "2023-01-09T14:29:06.513Z"
      },
      {
        "duration": 21,
        "start_time": "2023-01-09T14:29:06.527Z"
      },
      {
        "duration": 18,
        "start_time": "2023-01-09T14:29:06.550Z"
      },
      {
        "duration": 10,
        "start_time": "2023-01-09T14:29:06.570Z"
      },
      {
        "duration": 12,
        "start_time": "2023-01-09T14:29:06.581Z"
      },
      {
        "duration": 10,
        "start_time": "2023-01-09T14:29:06.595Z"
      },
      {
        "duration": 75,
        "start_time": "2023-01-09T14:29:06.607Z"
      },
      {
        "duration": 0,
        "start_time": "2023-01-09T14:29:06.684Z"
      },
      {
        "duration": 0,
        "start_time": "2023-01-09T14:29:06.685Z"
      },
      {
        "duration": 3,
        "start_time": "2023-01-09T14:31:52.895Z"
      },
      {
        "duration": 3,
        "start_time": "2023-01-09T14:31:54.352Z"
      },
      {
        "duration": 4,
        "start_time": "2023-01-09T14:31:59.303Z"
      },
      {
        "duration": 17,
        "start_time": "2023-01-09T14:31:59.311Z"
      }
    ],
    "kernelspec": {
      "display_name": "Python 3 (ipykernel)",
      "language": "python",
      "name": "python3"
    },
    "language_info": {
      "codemirror_mode": {
        "name": "ipython",
        "version": 3
      },
      "file_extension": ".py",
      "mimetype": "text/x-python",
      "name": "python",
      "nbconvert_exporter": "python",
      "pygments_lexer": "ipython3",
      "version": "3.9.5"
    },
    "toc": {
      "base_numbering": 1,
      "nav_menu": {
        "height": "66px",
        "width": "190px"
      },
      "number_sections": false,
      "sideBar": true,
      "skip_h1_title": true,
      "title_cell": "Table of Contents",
      "title_sidebar": "Содержание",
      "toc_cell": true,
      "toc_position": {
        "height": "calc(100% - 180px)",
        "left": "10px",
        "top": "150px",
        "width": "165px"
      },
      "toc_section_display": true,
      "toc_window_display": true
    },
    "colab": {
      "provenance": [],
      "toc_visible": true
    }
  },
  "nbformat": 4,
  "nbformat_minor": 0
}