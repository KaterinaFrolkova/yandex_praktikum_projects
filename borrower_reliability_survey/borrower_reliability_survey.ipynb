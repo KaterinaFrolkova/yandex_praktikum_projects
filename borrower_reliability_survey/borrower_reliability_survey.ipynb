{
  "cells": [
    {
      "cell_type": "markdown",
      "id": "c403887a",
      "metadata": {
        "deletable": false,
        "editable": false,
        "id": "c403887a"
      },
      "source": [
        "# Исследование надежности заемщиков\n"
      ]
    },
    {
      "cell_type": "markdown",
      "source": [
        ">[Исследование надежности заемщиков](#scrollTo=c403887a)\n",
        "\n",
        ">>[Общая информация.](#scrollTo=mf7ldpVyNha0)\n",
        "\n",
        ">>[Предобработка данных](#scrollTo=a24db6f3)\n",
        "\n",
        ">>>[Удаление пропусков](#scrollTo=88a1e479)\n",
        "\n",
        ">>>[Обработка аномальных значений](#scrollTo=dfd336b6)\n",
        "\n",
        ">>>[Изменение типов данных](#scrollTo=fb879ad3)\n",
        "\n",
        ">>>[Обработка дубликатов](#scrollTo=301d85a4)\n",
        "\n",
        ">>>[Категоризация данных](#scrollTo=a71b94ee)\n",
        "\n",
        ">>[Исследовательский анализ данных](#scrollTo=a4c2cab6)\n",
        "\n",
        ">>>[Анализ зависимости между количеством детей и возвратом кредита в срок](#scrollTo=724bf118)\n",
        "\n",
        ">>>[Анализ зависимости между семейным положением и возвратом кредита в срок](#scrollTo=ad423e89)\n",
        "\n",
        ">>>[Анализ зависимости между уровнем дохода и возвратом кредита в срок](#scrollTo=6ba5de4c)\n",
        "\n",
        ">>>[Анализ зависимости между целью кредита и его возвратом в срок](#scrollTo=889a357c)\n",
        "\n",
        ">>[Вывод](#scrollTo=6b0d8a83)\n",
        "\n"
      ],
      "metadata": {
        "colab_type": "toc",
        "id": "eXAvXoahQLwH"
      },
      "id": "eXAvXoahQLwH"
    },
    {
      "cell_type": "markdown",
      "id": "23b53bb1",
      "metadata": {
        "id": "23b53bb1"
      },
      "source": [
        "В нашем распоряжении имеется статистика о платёжеспособности клиентов одного крупного банка.  \n",
        "Необходимо провести анализ данных, который будет использован для построения модели кредитного скоринга — системы, которая оценивает способность потенциального заёмщика вернуть кредит банку.\n",
        "\n",
        "**Цель исследования** - определение факторов, влияющих на возврат кредита в срок\n",
        "\n",
        "**Оцениваемы параметры**:  \n",
        "\n",
        "* семейное положение\n",
        "* количество детей\n",
        "* уровень дохода\n",
        "* цель получения кредита\n"
      ]
    },
    {
      "cell_type": "markdown",
      "source": [
        "## Общая информация."
      ],
      "metadata": {
        "id": "mf7ldpVyNha0"
      },
      "id": "mf7ldpVyNha0"
    },
    {
      "cell_type": "code",
      "source": [
        "# импорт библиотек\n",
        "import pandas as pd\n",
        "import matplotlib.pyplot as plt\n",
        "import warnings\n",
        "warnings.filterwarnings(\"ignore\")"
      ],
      "metadata": {
        "id": "tv1ck4W5MzWD"
      },
      "id": "tv1ck4W5MzWD",
      "execution_count": 1,
      "outputs": []
    },
    {
      "cell_type": "code",
      "execution_count": 2,
      "id": "ce8f7194",
      "metadata": {
        "deletable": false,
        "id": "ce8f7194"
      },
      "outputs": [],
      "source": [
        "#загрузим данные\n",
        "data = pd.read_csv('/datasets/data.csv')"
      ]
    },
    {
      "cell_type": "code",
      "execution_count": 3,
      "id": "2c5c4d60",
      "metadata": {
        "deletable": false,
        "id": "2c5c4d60",
        "outputId": "fdcbbdbc-f83e-4d15-e6b7-785fa615a9b6",
        "colab": {
          "base_uri": "https://localhost:8080/",
          "height": 363
        }
      },
      "outputs": [
        {
          "output_type": "execute_result",
          "data": {
            "text/plain": [
              "   children  days_employed  dob_years education  education_id  \\\n",
              "0         1   -8437.673028         42    высшее             0   \n",
              "1         1   -4024.803754         36   среднее             1   \n",
              "2         0   -5623.422610         33   Среднее             1   \n",
              "3         3   -4124.747207         32   среднее             1   \n",
              "4         0  340266.072047         53   среднее             1   \n",
              "5         0    -926.185831         27    высшее             0   \n",
              "6         0   -2879.202052         43    высшее             0   \n",
              "7         0    -152.779569         50   СРЕДНЕЕ             1   \n",
              "8         2   -6929.865299         35    ВЫСШЕЕ             0   \n",
              "9         0   -2188.756445         41   среднее             1   \n",
              "\n",
              "      family_status  family_status_id gender income_type  debt   total_income  \\\n",
              "0   женат / замужем                 0      F   сотрудник     0  253875.639453   \n",
              "1   женат / замужем                 0      F   сотрудник     0  112080.014102   \n",
              "2   женат / замужем                 0      M   сотрудник     0  145885.952297   \n",
              "3   женат / замужем                 0      M   сотрудник     0  267628.550329   \n",
              "4  гражданский брак                 1      F   пенсионер     0  158616.077870   \n",
              "5  гражданский брак                 1      M   компаньон     0  255763.565419   \n",
              "6   женат / замужем                 0      F   компаньон     0  240525.971920   \n",
              "7   женат / замужем                 0      M   сотрудник     0  135823.934197   \n",
              "8  гражданский брак                 1      F   сотрудник     0   95856.832424   \n",
              "9   женат / замужем                 0      M   сотрудник     0  144425.938277   \n",
              "\n",
              "                      purpose  \n",
              "0               покупка жилья  \n",
              "1     приобретение автомобиля  \n",
              "2               покупка жилья  \n",
              "3  дополнительное образование  \n",
              "4             сыграть свадьбу  \n",
              "5               покупка жилья  \n",
              "6           операции с жильем  \n",
              "7                 образование  \n",
              "8       на проведение свадьбы  \n",
              "9     покупка жилья для семьи  "
            ],
            "text/html": [
              "\n",
              "  <div id=\"df-ba54d9c7-a6c3-4159-9cfe-64846b9973fb\">\n",
              "    <div class=\"colab-df-container\">\n",
              "      <div>\n",
              "<style scoped>\n",
              "    .dataframe tbody tr th:only-of-type {\n",
              "        vertical-align: middle;\n",
              "    }\n",
              "\n",
              "    .dataframe tbody tr th {\n",
              "        vertical-align: top;\n",
              "    }\n",
              "\n",
              "    .dataframe thead th {\n",
              "        text-align: right;\n",
              "    }\n",
              "</style>\n",
              "<table border=\"1\" class=\"dataframe\">\n",
              "  <thead>\n",
              "    <tr style=\"text-align: right;\">\n",
              "      <th></th>\n",
              "      <th>children</th>\n",
              "      <th>days_employed</th>\n",
              "      <th>dob_years</th>\n",
              "      <th>education</th>\n",
              "      <th>education_id</th>\n",
              "      <th>family_status</th>\n",
              "      <th>family_status_id</th>\n",
              "      <th>gender</th>\n",
              "      <th>income_type</th>\n",
              "      <th>debt</th>\n",
              "      <th>total_income</th>\n",
              "      <th>purpose</th>\n",
              "    </tr>\n",
              "  </thead>\n",
              "  <tbody>\n",
              "    <tr>\n",
              "      <th>0</th>\n",
              "      <td>1</td>\n",
              "      <td>-8437.673028</td>\n",
              "      <td>42</td>\n",
              "      <td>высшее</td>\n",
              "      <td>0</td>\n",
              "      <td>женат / замужем</td>\n",
              "      <td>0</td>\n",
              "      <td>F</td>\n",
              "      <td>сотрудник</td>\n",
              "      <td>0</td>\n",
              "      <td>253875.639453</td>\n",
              "      <td>покупка жилья</td>\n",
              "    </tr>\n",
              "    <tr>\n",
              "      <th>1</th>\n",
              "      <td>1</td>\n",
              "      <td>-4024.803754</td>\n",
              "      <td>36</td>\n",
              "      <td>среднее</td>\n",
              "      <td>1</td>\n",
              "      <td>женат / замужем</td>\n",
              "      <td>0</td>\n",
              "      <td>F</td>\n",
              "      <td>сотрудник</td>\n",
              "      <td>0</td>\n",
              "      <td>112080.014102</td>\n",
              "      <td>приобретение автомобиля</td>\n",
              "    </tr>\n",
              "    <tr>\n",
              "      <th>2</th>\n",
              "      <td>0</td>\n",
              "      <td>-5623.422610</td>\n",
              "      <td>33</td>\n",
              "      <td>Среднее</td>\n",
              "      <td>1</td>\n",
              "      <td>женат / замужем</td>\n",
              "      <td>0</td>\n",
              "      <td>M</td>\n",
              "      <td>сотрудник</td>\n",
              "      <td>0</td>\n",
              "      <td>145885.952297</td>\n",
              "      <td>покупка жилья</td>\n",
              "    </tr>\n",
              "    <tr>\n",
              "      <th>3</th>\n",
              "      <td>3</td>\n",
              "      <td>-4124.747207</td>\n",
              "      <td>32</td>\n",
              "      <td>среднее</td>\n",
              "      <td>1</td>\n",
              "      <td>женат / замужем</td>\n",
              "      <td>0</td>\n",
              "      <td>M</td>\n",
              "      <td>сотрудник</td>\n",
              "      <td>0</td>\n",
              "      <td>267628.550329</td>\n",
              "      <td>дополнительное образование</td>\n",
              "    </tr>\n",
              "    <tr>\n",
              "      <th>4</th>\n",
              "      <td>0</td>\n",
              "      <td>340266.072047</td>\n",
              "      <td>53</td>\n",
              "      <td>среднее</td>\n",
              "      <td>1</td>\n",
              "      <td>гражданский брак</td>\n",
              "      <td>1</td>\n",
              "      <td>F</td>\n",
              "      <td>пенсионер</td>\n",
              "      <td>0</td>\n",
              "      <td>158616.077870</td>\n",
              "      <td>сыграть свадьбу</td>\n",
              "    </tr>\n",
              "    <tr>\n",
              "      <th>5</th>\n",
              "      <td>0</td>\n",
              "      <td>-926.185831</td>\n",
              "      <td>27</td>\n",
              "      <td>высшее</td>\n",
              "      <td>0</td>\n",
              "      <td>гражданский брак</td>\n",
              "      <td>1</td>\n",
              "      <td>M</td>\n",
              "      <td>компаньон</td>\n",
              "      <td>0</td>\n",
              "      <td>255763.565419</td>\n",
              "      <td>покупка жилья</td>\n",
              "    </tr>\n",
              "    <tr>\n",
              "      <th>6</th>\n",
              "      <td>0</td>\n",
              "      <td>-2879.202052</td>\n",
              "      <td>43</td>\n",
              "      <td>высшее</td>\n",
              "      <td>0</td>\n",
              "      <td>женат / замужем</td>\n",
              "      <td>0</td>\n",
              "      <td>F</td>\n",
              "      <td>компаньон</td>\n",
              "      <td>0</td>\n",
              "      <td>240525.971920</td>\n",
              "      <td>операции с жильем</td>\n",
              "    </tr>\n",
              "    <tr>\n",
              "      <th>7</th>\n",
              "      <td>0</td>\n",
              "      <td>-152.779569</td>\n",
              "      <td>50</td>\n",
              "      <td>СРЕДНЕЕ</td>\n",
              "      <td>1</td>\n",
              "      <td>женат / замужем</td>\n",
              "      <td>0</td>\n",
              "      <td>M</td>\n",
              "      <td>сотрудник</td>\n",
              "      <td>0</td>\n",
              "      <td>135823.934197</td>\n",
              "      <td>образование</td>\n",
              "    </tr>\n",
              "    <tr>\n",
              "      <th>8</th>\n",
              "      <td>2</td>\n",
              "      <td>-6929.865299</td>\n",
              "      <td>35</td>\n",
              "      <td>ВЫСШЕЕ</td>\n",
              "      <td>0</td>\n",
              "      <td>гражданский брак</td>\n",
              "      <td>1</td>\n",
              "      <td>F</td>\n",
              "      <td>сотрудник</td>\n",
              "      <td>0</td>\n",
              "      <td>95856.832424</td>\n",
              "      <td>на проведение свадьбы</td>\n",
              "    </tr>\n",
              "    <tr>\n",
              "      <th>9</th>\n",
              "      <td>0</td>\n",
              "      <td>-2188.756445</td>\n",
              "      <td>41</td>\n",
              "      <td>среднее</td>\n",
              "      <td>1</td>\n",
              "      <td>женат / замужем</td>\n",
              "      <td>0</td>\n",
              "      <td>M</td>\n",
              "      <td>сотрудник</td>\n",
              "      <td>0</td>\n",
              "      <td>144425.938277</td>\n",
              "      <td>покупка жилья для семьи</td>\n",
              "    </tr>\n",
              "  </tbody>\n",
              "</table>\n",
              "</div>\n",
              "      <button class=\"colab-df-convert\" onclick=\"convertToInteractive('df-ba54d9c7-a6c3-4159-9cfe-64846b9973fb')\"\n",
              "              title=\"Convert this dataframe to an interactive table.\"\n",
              "              style=\"display:none;\">\n",
              "        \n",
              "  <svg xmlns=\"http://www.w3.org/2000/svg\" height=\"24px\"viewBox=\"0 0 24 24\"\n",
              "       width=\"24px\">\n",
              "    <path d=\"M0 0h24v24H0V0z\" fill=\"none\"/>\n",
              "    <path d=\"M18.56 5.44l.94 2.06.94-2.06 2.06-.94-2.06-.94-.94-2.06-.94 2.06-2.06.94zm-11 1L8.5 8.5l.94-2.06 2.06-.94-2.06-.94L8.5 2.5l-.94 2.06-2.06.94zm10 10l.94 2.06.94-2.06 2.06-.94-2.06-.94-.94-2.06-.94 2.06-2.06.94z\"/><path d=\"M17.41 7.96l-1.37-1.37c-.4-.4-.92-.59-1.43-.59-.52 0-1.04.2-1.43.59L10.3 9.45l-7.72 7.72c-.78.78-.78 2.05 0 2.83L4 21.41c.39.39.9.59 1.41.59.51 0 1.02-.2 1.41-.59l7.78-7.78 2.81-2.81c.8-.78.8-2.07 0-2.86zM5.41 20L4 18.59l7.72-7.72 1.47 1.35L5.41 20z\"/>\n",
              "  </svg>\n",
              "      </button>\n",
              "      \n",
              "  <style>\n",
              "    .colab-df-container {\n",
              "      display:flex;\n",
              "      flex-wrap:wrap;\n",
              "      gap: 12px;\n",
              "    }\n",
              "\n",
              "    .colab-df-convert {\n",
              "      background-color: #E8F0FE;\n",
              "      border: none;\n",
              "      border-radius: 50%;\n",
              "      cursor: pointer;\n",
              "      display: none;\n",
              "      fill: #1967D2;\n",
              "      height: 32px;\n",
              "      padding: 0 0 0 0;\n",
              "      width: 32px;\n",
              "    }\n",
              "\n",
              "    .colab-df-convert:hover {\n",
              "      background-color: #E2EBFA;\n",
              "      box-shadow: 0px 1px 2px rgba(60, 64, 67, 0.3), 0px 1px 3px 1px rgba(60, 64, 67, 0.15);\n",
              "      fill: #174EA6;\n",
              "    }\n",
              "\n",
              "    [theme=dark] .colab-df-convert {\n",
              "      background-color: #3B4455;\n",
              "      fill: #D2E3FC;\n",
              "    }\n",
              "\n",
              "    [theme=dark] .colab-df-convert:hover {\n",
              "      background-color: #434B5C;\n",
              "      box-shadow: 0px 1px 3px 1px rgba(0, 0, 0, 0.15);\n",
              "      filter: drop-shadow(0px 1px 2px rgba(0, 0, 0, 0.3));\n",
              "      fill: #FFFFFF;\n",
              "    }\n",
              "  </style>\n",
              "\n",
              "      <script>\n",
              "        const buttonEl =\n",
              "          document.querySelector('#df-ba54d9c7-a6c3-4159-9cfe-64846b9973fb button.colab-df-convert');\n",
              "        buttonEl.style.display =\n",
              "          google.colab.kernel.accessAllowed ? 'block' : 'none';\n",
              "\n",
              "        async function convertToInteractive(key) {\n",
              "          const element = document.querySelector('#df-ba54d9c7-a6c3-4159-9cfe-64846b9973fb');\n",
              "          const dataTable =\n",
              "            await google.colab.kernel.invokeFunction('convertToInteractive',\n",
              "                                                     [key], {});\n",
              "          if (!dataTable) return;\n",
              "\n",
              "          const docLinkHtml = 'Like what you see? Visit the ' +\n",
              "            '<a target=\"_blank\" href=https://colab.research.google.com/notebooks/data_table.ipynb>data table notebook</a>'\n",
              "            + ' to learn more about interactive tables.';\n",
              "          element.innerHTML = '';\n",
              "          dataTable['output_type'] = 'display_data';\n",
              "          await google.colab.output.renderOutput(dataTable, element);\n",
              "          const docLink = document.createElement('div');\n",
              "          docLink.innerHTML = docLinkHtml;\n",
              "          element.appendChild(docLink);\n",
              "        }\n",
              "      </script>\n",
              "    </div>\n",
              "  </div>\n",
              "  "
            ]
          },
          "metadata": {},
          "execution_count": 3
        }
      ],
      "source": [
        "data.head(10)"
      ]
    },
    {
      "cell_type": "markdown",
      "source": [],
      "metadata": {
        "id": "bVBcy_YQNgK1"
      },
      "id": "bVBcy_YQNgK1"
    },
    {
      "cell_type": "code",
      "execution_count": 4,
      "id": "0e6ad2b5",
      "metadata": {
        "deletable": false,
        "id": "0e6ad2b5",
        "outputId": "f92929e7-c5fb-49f4-d4a4-fc6cfc04558f",
        "colab": {
          "base_uri": "https://localhost:8080/"
        }
      },
      "outputs": [
        {
          "output_type": "stream",
          "name": "stdout",
          "text": [
            "<class 'pandas.core.frame.DataFrame'>\n",
            "RangeIndex: 21525 entries, 0 to 21524\n",
            "Data columns (total 12 columns):\n",
            " #   Column            Non-Null Count  Dtype  \n",
            "---  ------            --------------  -----  \n",
            " 0   children          21525 non-null  int64  \n",
            " 1   days_employed     19351 non-null  float64\n",
            " 2   dob_years         21525 non-null  int64  \n",
            " 3   education         21525 non-null  object \n",
            " 4   education_id      21525 non-null  int64  \n",
            " 5   family_status     21525 non-null  object \n",
            " 6   family_status_id  21525 non-null  int64  \n",
            " 7   gender            21525 non-null  object \n",
            " 8   income_type       21525 non-null  object \n",
            " 9   debt              21525 non-null  int64  \n",
            " 10  total_income      19351 non-null  float64\n",
            " 11  purpose           21525 non-null  object \n",
            "dtypes: float64(2), int64(5), object(5)\n",
            "memory usage: 2.0+ MB\n"
          ]
        }
      ],
      "source": [
        "data.info()"
      ]
    },
    {
      "cell_type": "markdown",
      "id": "a4f0a821",
      "metadata": {
        "id": "a4f0a821"
      },
      "source": [
        "Итак, в таблице двенадцать столбцов.\n",
        "Тип данных в столбцах с текстом — `object`. В столбцах с числами `int64` и `float64`.\n",
        "\n",
        "`days_employed` должен быть int64, можно оставить, так как не используем в расчетах\n",
        "\n",
        "`total_income ` для удобства расчетов приведем далее к `int64`\n",
        "\n",
        "Согласно документации к данным:\n",
        "\n",
        "* `children` — количество детей в семье;\n",
        "* `days_employed` — общий трудовой стаж в днях;  \n",
        "* `dob_years` — возраст клиента в годах;\n",
        "* `education` — уровень образования клиента;\n",
        "* `education_id` — идентификатор уровня образования;\n",
        "* `family_status` — семейное положение;\n",
        "* `family_status_id` — идентификатор семейного положения;\n",
        "* `gender` — пол клиента\n",
        "* `income_type ` — тип занятости\n",
        "* `debt ` — имел ли задолженность по возврату кредитов\n",
        "* `total_income` — ежемесячный доход\n",
        "* `purpose` — цель получения кредита\n",
        "\n",
        "\n",
        "Количество значений в столбцах различается. Значит, в данных есть пропущенные значения.  \n",
        "Cтолбец `total_income` лучше привести к целочисленному формату.  \n",
        "Остальные форматы верные"
      ]
    },
    {
      "cell_type": "markdown",
      "id": "a24db6f3",
      "metadata": {
        "deletable": false,
        "editable": false,
        "id": "a24db6f3"
      },
      "source": [
        "## Предобработка данных"
      ]
    },
    {
      "cell_type": "code",
      "source": [
        "data.nunique()"
      ],
      "metadata": {
        "colab": {
          "base_uri": "https://localhost:8080/"
        },
        "id": "l_gRFHPTWFY0",
        "outputId": "b98568c0-441f-4d7b-8843-708381e79656"
      },
      "id": "l_gRFHPTWFY0",
      "execution_count": 5,
      "outputs": [
        {
          "output_type": "execute_result",
          "data": {
            "text/plain": [
              "children                8\n",
              "days_employed       19351\n",
              "dob_years              58\n",
              "education              15\n",
              "education_id            5\n",
              "family_status           5\n",
              "family_status_id        5\n",
              "gender                  3\n",
              "income_type             8\n",
              "debt                    2\n",
              "total_income        19351\n",
              "purpose                38\n",
              "dtype: int64"
            ]
          },
          "metadata": {},
          "execution_count": 5
        }
      ]
    },
    {
      "cell_type": "code",
      "source": [
        "# проверим распределения количеств значений в таблице\n",
        "fig = plt.figure(figsize=(20, 18))\n",
        "plt.subplots_adjust(hspace= 0.3)\n",
        "\n",
        "sub1 = fig.add_subplot(3, 4, 1)\n",
        "data['children'].hist(bins=8, color='dodgerblue')\n",
        "plt.xlabel('Количество детей')\n",
        "plt.ylabel('Количество наблюдений')\n",
        "plt.title('Распределение по количеству детей')\n",
        "\n",
        "sub2 = fig.add_subplot(3, 4, 2)\n",
        "data['days_employed'].hist(bins=100, color='dodgerblue')\n",
        "plt.xlabel('Дни')\n",
        "plt.ylabel('Количество наблюдений')\n",
        "plt.title('Распределение стажа в днях')\n",
        "\n",
        "sub3 = fig.add_subplot(3, 4, 3)\n",
        "data['dob_years'].hist(bins=100, color='dodgerblue')\n",
        "plt.xlabel('Возраст')\n",
        "plt.ylabel('Количество наблюдений')\n",
        "plt.title('Распределение по возрасту')\n",
        "\n",
        "sub4 = fig.add_subplot(3, 4, 4)\n",
        "data['education_id'].hist(bins=5, color='dodgerblue')\n",
        "plt.xlabel('Образование')\n",
        "plt.ylabel('Количество наблюдений')\n",
        "plt.title('Распределение по образованию')\n",
        "\n",
        "sub5 = fig.add_subplot(3, 4, 5)\n",
        "data['family_status_id'].hist(bins=5, color='dodgerblue')\n",
        "plt.xlabel('Семейное положение')\n",
        "plt.ylabel('Количество наблюдений')\n",
        "plt.title('Распределение по семейному положению')\n",
        "\n",
        "sub6 = fig.add_subplot(3, 4, 6)\n",
        "data['gender'].hist(bins=3, color='dodgerblue')\n",
        "plt.xlabel('Пол')\n",
        "plt.ylabel('Количество наблюдений')\n",
        "plt.title('Распределение по полу')\n",
        "\n",
        "sub7 = fig.add_subplot(3, 4, 7)\n",
        "data['income_type'].hist(bins=8, color='dodgerblue')\n",
        "plt.xlabel('Тип дохода')\n",
        "plt.ylabel('Количество наблюдений')\n",
        "plt.title('Распределение по типу дохода')\n",
        "plt.xticks(rotation=45)\n",
        "\n",
        "sub8 = fig.add_subplot(3, 4, 8)\n",
        "data['debt'].hist(bins=2, color='dodgerblue')\n",
        "plt.xlabel('Задолженность')\n",
        "plt.ylabel('Количество наблюдений')\n",
        "plt.title('Распределение по наличию задолженности')\n",
        "plt.xticks(data['debt'].unique())\n",
        "\n",
        "sub9 = fig.add_subplot(3, 4, 9)\n",
        "data['total_income'].hist(bins=100, color='dodgerblue')\n",
        "plt.xlabel('Общий доход')\n",
        "plt.ylabel('Количество наблюдений')\n",
        "plt.title('Распределение по доходу')\n",
        "\n",
        "sub10 = fig.add_subplot(3, 4, (10,11))\n",
        "data['purpose'].hist(bins=100, color='dodgerblue')\n",
        "plt.xlabel('Цель')\n",
        "plt.ylabel('Количество наблюдений')\n",
        "plt.title('Распределение по цели')\n",
        "plt.xticks(rotation=90);"
      ],
      "metadata": {
        "colab": {
          "base_uri": "https://localhost:8080/",
          "height": 1000
        },
        "id": "2LgvyHLzSGMC",
        "outputId": "39e76881-80d2-4a4a-cc7d-89c9fd0d4a97"
      },
      "id": "2LgvyHLzSGMC",
      "execution_count": 9,
      "outputs": [
        {
          "output_type": "display_data",
          "data": {
            "text/plain": [
              "<Figure size 1440x1296 with 10 Axes>"
            ],
            "image/png": "[encoded data removed]"
          },
          "metadata": {
            "needs_background": "light"
          }
        }
      ]
    },
    {
      "cell_type": "markdown",
      "source": [
        "Есть аномальные значения параметров `children`,`days_employed`, `dob_years`,пропуски по `gender`, близкие по смыслу значения в `purpose`\n",
        "\n",
        "Подробнее рассмотрим ниже."
      ],
      "metadata": {
        "id": "cISUufTViD49"
      },
      "id": "cISUufTViD49"
    },
    {
      "cell_type": "markdown",
      "id": "88a1e479",
      "metadata": {
        "deletable": false,
        "editable": false,
        "id": "88a1e479"
      },
      "source": [
        "### Удаление пропусков"
      ]
    },
    {
      "cell_type": "code",
      "execution_count": 10,
      "id": "8d61888d",
      "metadata": {
        "deletable": false,
        "id": "8d61888d",
        "outputId": "46326cfd-cad9-4261-dcea-b6a3756252ce",
        "colab": {
          "base_uri": "https://localhost:8080/"
        }
      },
      "outputs": [
        {
          "output_type": "execute_result",
          "data": {
            "text/plain": [
              "children               0\n",
              "days_employed       2174\n",
              "dob_years              0\n",
              "education              0\n",
              "education_id           0\n",
              "family_status          0\n",
              "family_status_id       0\n",
              "gender                 0\n",
              "income_type            0\n",
              "debt                   0\n",
              "total_income        2174\n",
              "purpose                0\n",
              "dtype: int64"
            ]
          },
          "metadata": {},
          "execution_count": 10
        }
      ],
      "source": [
        "data.isna().sum()"
      ]
    },
    {
      "cell_type": "markdown",
      "id": "6a362380",
      "metadata": {
        "deletable": false,
        "editable": false,
        "id": "6a362380"
      },
      "source": [
        "На сумму дохода сильнее всего влияет тип занятости, поэтому заполним пропуски в этом столбце медианным значением по каждому типу из столбца `income_type`."
      ]
    },
    {
      "cell_type": "code",
      "execution_count": 11,
      "id": "d65172c9",
      "metadata": {
        "deletable": false,
        "id": "d65172c9"
      },
      "outputs": [],
      "source": [
        "for t in data['income_type'].unique():\n",
        "    data.loc[(data['income_type'] == t) & (data['total_income'].isna()), 'total_income'] = \\\n",
        "    data.loc[(data['income_type'] == t), 'total_income'].median()"
      ]
    },
    {
      "cell_type": "markdown",
      "id": "45eddd78",
      "metadata": {
        "deletable": false,
        "editable": false,
        "id": "45eddd78"
      },
      "source": [
        "Заполним пропуски в столбце `days_employed` медианными значениями по каждому типа занятости `income_type`."
      ]
    },
    {
      "cell_type": "code",
      "execution_count": 12,
      "id": "022f9c51",
      "metadata": {
        "deletable": false,
        "id": "022f9c51"
      },
      "outputs": [],
      "source": [
        "for t in data['income_type'].unique():\n",
        "    data.loc[(data['income_type'] == t) & (data['days_employed'].isna()), 'days_employed'] = \\\n",
        "    data.loc[(data['income_type'] == t), 'days_employed'].median()"
      ]
    },
    {
      "cell_type": "code",
      "source": [
        "# проверим, что все удалено\n",
        "data.isna().sum()"
      ],
      "metadata": {
        "colab": {
          "base_uri": "https://localhost:8080/"
        },
        "id": "d2dAKTowlAHP",
        "outputId": "35eb67fd-4a17-4fd7-b589-4e155b4fb504"
      },
      "id": "d2dAKTowlAHP",
      "execution_count": 13,
      "outputs": [
        {
          "output_type": "execute_result",
          "data": {
            "text/plain": [
              "children            0\n",
              "days_employed       0\n",
              "dob_years           0\n",
              "education           0\n",
              "education_id        0\n",
              "family_status       0\n",
              "family_status_id    0\n",
              "gender              0\n",
              "income_type         0\n",
              "debt                0\n",
              "total_income        0\n",
              "purpose             0\n",
              "dtype: int64"
            ]
          },
          "metadata": {},
          "execution_count": 13
        }
      ]
    },
    {
      "cell_type": "markdown",
      "id": "dfd336b6",
      "metadata": {
        "deletable": false,
        "editable": false,
        "id": "dfd336b6"
      },
      "source": [
        "### Обработка аномальных значений"
      ]
    },
    {
      "cell_type": "markdown",
      "source": [
        "в столбце `children` встречаются отрицательные значения и аномально высокие:"
      ],
      "metadata": {
        "id": "aiy8BZVnjlD_"
      },
      "id": "aiy8BZVnjlD_"
    },
    {
      "cell_type": "code",
      "execution_count": 14,
      "id": "1671c233",
      "metadata": {
        "deletable": false,
        "id": "1671c233",
        "outputId": "96e7f945-38cc-412a-cd07-23b1ab557e3b",
        "colab": {
          "base_uri": "https://localhost:8080/"
        }
      },
      "outputs": [
        {
          "output_type": "execute_result",
          "data": {
            "text/plain": [
              "array([ 1,  0,  3,  2, -1,  4, 20,  5])"
            ]
          },
          "metadata": {},
          "execution_count": 14
        }
      ],
      "source": [
        "data['children'].unique()"
      ]
    },
    {
      "cell_type": "code",
      "source": [
        "# удалим их\n",
        "data = data[(data['children'] != -1) & (data['children'] != 20)]"
      ],
      "metadata": {
        "id": "hXQcV-jKj0Qh"
      },
      "id": "hXQcV-jKj0Qh",
      "execution_count": 15,
      "outputs": []
    },
    {
      "cell_type": "markdown",
      "id": "b160428f",
      "metadata": {
        "deletable": false,
        "editable": false,
        "id": "b160428f"
      },
      "source": [
        "В столбце `days_employed`встречаются отрицательные значения. Заменим все отрицательные значения положительными с помощью метода `abs()`."
      ]
    },
    {
      "cell_type": "code",
      "execution_count": 16,
      "id": "420d1d8d",
      "metadata": {
        "deletable": false,
        "id": "420d1d8d"
      },
      "outputs": [],
      "source": [
        "data['days_employed'] = data['days_employed'].abs()"
      ]
    },
    {
      "cell_type": "markdown",
      "id": "544cd7bd",
      "metadata": {
        "deletable": false,
        "editable": false,
        "id": "544cd7bd"
      },
      "source": [
        "Также на гистограмме мы видели аномально высокие значения, посчитаем медиану по каждой группе типа дохода:"
      ]
    },
    {
      "cell_type": "code",
      "execution_count": 17,
      "id": "d0ca991d",
      "metadata": {
        "deletable": false,
        "id": "d0ca991d",
        "outputId": "d7a9f0c6-4b8b-4638-826b-cb3862476739",
        "colab": {
          "base_uri": "https://localhost:8080/"
        }
      },
      "outputs": [
        {
          "output_type": "execute_result",
          "data": {
            "text/plain": [
              "income_type\n",
              "безработный        366413.652744\n",
              "в декрете            3296.759962\n",
              "госслужащий          2689.368353\n",
              "компаньон            1547.382223\n",
              "пенсионер          365213.306266\n",
              "предприниматель       520.848083\n",
              "сотрудник            1574.202821\n",
              "студент               578.751554\n",
              "Name: days_employed, dtype: float64"
            ]
          },
          "metadata": {},
          "execution_count": 17
        }
      ],
      "source": [
        "data.groupby('income_type')['days_employed'].agg('median')"
      ]
    },
    {
      "cell_type": "markdown",
      "id": "e25d7fb9",
      "metadata": {
        "deletable": false,
        "editable": false,
        "id": "e25d7fb9"
      },
      "source": [
        "У двух типов (безработные и пенсионеры) получаются аномально большие значения. Заменить нам их нечем, поэтому оставим как есть."
      ]
    },
    {
      "cell_type": "markdown",
      "source": [
        "Посмотрим на нулевые значения в столбце возраст `dob_years`"
      ],
      "metadata": {
        "id": "6rNKCZf8u3Dc"
      },
      "id": "6rNKCZf8u3Dc"
    },
    {
      "cell_type": "code",
      "source": [
        "data[data['dob_years']==0]"
      ],
      "metadata": {
        "colab": {
          "base_uri": "https://localhost:8080/",
          "height": 424
        },
        "id": "Wp5m-yZpurF4",
        "outputId": "78f521d9-df4a-472c-9ef2-e4ef91055b73"
      },
      "id": "Wp5m-yZpurF4",
      "execution_count": 18,
      "outputs": [
        {
          "output_type": "execute_result",
          "data": {
            "text/plain": [
              "       children  days_employed  dob_years education  education_id  \\\n",
              "99            0  346541.618895          0   Среднее             1   \n",
              "149           0    2664.273168          0   среднее             1   \n",
              "270           3    1872.663186          0   среднее             1   \n",
              "578           0  397856.565013          0   среднее             1   \n",
              "1040          0    1158.029561          0    высшее             0   \n",
              "...         ...            ...        ...       ...           ...   \n",
              "19829         0    1574.202821          0   среднее             1   \n",
              "20462         0  338734.868540          0   среднее             1   \n",
              "20577         0  331741.271455          0   среднее             1   \n",
              "21179         2     108.967042          0    высшее             0   \n",
              "21313         0    1268.487728          0   среднее             1   \n",
              "\n",
              "               family_status  family_status_id gender income_type  debt  \\\n",
              "99           женат / замужем                 0      F   пенсионер     0   \n",
              "149                в разводе                 3      F   сотрудник     0   \n",
              "270          женат / замужем                 0      F   сотрудник     0   \n",
              "578          женат / замужем                 0      F   пенсионер     0   \n",
              "1040               в разводе                 3      F   компаньон     0   \n",
              "...                      ...               ...    ...         ...   ...   \n",
              "19829        женат / замужем                 0      F   сотрудник     0   \n",
              "20462        женат / замужем                 0      F   пенсионер     0   \n",
              "20577  Не женат / не замужем                 4      F   пенсионер     0   \n",
              "21179        женат / замужем                 0      M   компаньон     0   \n",
              "21313  Не женат / не замужем                 4      M   сотрудник     0   \n",
              "\n",
              "        total_income                                 purpose  \n",
              "99      71291.522491                              автомобиль  \n",
              "149     70176.435951                       операции с жильем  \n",
              "270    102166.458894                            ремонт жилью  \n",
              "578     97620.687042  строительство собственной недвижимости  \n",
              "1040   303994.134987                         свой автомобиль  \n",
              "...              ...                                     ...  \n",
              "19829  142594.396847                                   жилье  \n",
              "20462  259193.920299                    покупка своего жилья  \n",
              "20577  129788.762899                            недвижимость  \n",
              "21179  240702.007382        строительство жилой недвижимости  \n",
              "21313  152419.184851                       операции с жильем  \n",
              "\n",
              "[100 rows x 12 columns]"
            ],
            "text/html": [
              "\n",
              "  <div id=\"df-b7b9ccca-b83e-496f-844f-117ed9fc7cd1\">\n",
              "    <div class=\"colab-df-container\">\n",
              "      <div>\n",
              "<style scoped>\n",
              "    .dataframe tbody tr th:only-of-type {\n",
              "        vertical-align: middle;\n",
              "    }\n",
              "\n",
              "    .dataframe tbody tr th {\n",
              "        vertical-align: top;\n",
              "    }\n",
              "\n",
              "    .dataframe thead th {\n",
              "        text-align: right;\n",
              "    }\n",
              "</style>\n",
              "<table border=\"1\" class=\"dataframe\">\n",
              "  <thead>\n",
              "    <tr style=\"text-align: right;\">\n",
              "      <th></th>\n",
              "      <th>children</th>\n",
              "      <th>days_employed</th>\n",
              "      <th>dob_years</th>\n",
              "      <th>education</th>\n",
              "      <th>education_id</th>\n",
              "      <th>family_status</th>\n",
              "      <th>family_status_id</th>\n",
              "      <th>gender</th>\n",
              "      <th>income_type</th>\n",
              "      <th>debt</th>\n",
              "      <th>total_income</th>\n",
              "      <th>purpose</th>\n",
              "    </tr>\n",
              "  </thead>\n",
              "  <tbody>\n",
              "    <tr>\n",
              "      <th>99</th>\n",
              "      <td>0</td>\n",
              "      <td>346541.618895</td>\n",
              "      <td>0</td>\n",
              "      <td>Среднее</td>\n",
              "      <td>1</td>\n",
              "      <td>женат / замужем</td>\n",
              "      <td>0</td>\n",
              "      <td>F</td>\n",
              "      <td>пенсионер</td>\n",
              "      <td>0</td>\n",
              "      <td>71291.522491</td>\n",
              "      <td>автомобиль</td>\n",
              "    </tr>\n",
              "    <tr>\n",
              "      <th>149</th>\n",
              "      <td>0</td>\n",
              "      <td>2664.273168</td>\n",
              "      <td>0</td>\n",
              "      <td>среднее</td>\n",
              "      <td>1</td>\n",
              "      <td>в разводе</td>\n",
              "      <td>3</td>\n",
              "      <td>F</td>\n",
              "      <td>сотрудник</td>\n",
              "      <td>0</td>\n",
              "      <td>70176.435951</td>\n",
              "      <td>операции с жильем</td>\n",
              "    </tr>\n",
              "    <tr>\n",
              "      <th>270</th>\n",
              "      <td>3</td>\n",
              "      <td>1872.663186</td>\n",
              "      <td>0</td>\n",
              "      <td>среднее</td>\n",
              "      <td>1</td>\n",
              "      <td>женат / замужем</td>\n",
              "      <td>0</td>\n",
              "      <td>F</td>\n",
              "      <td>сотрудник</td>\n",
              "      <td>0</td>\n",
              "      <td>102166.458894</td>\n",
              "      <td>ремонт жилью</td>\n",
              "    </tr>\n",
              "    <tr>\n",
              "      <th>578</th>\n",
              "      <td>0</td>\n",
              "      <td>397856.565013</td>\n",
              "      <td>0</td>\n",
              "      <td>среднее</td>\n",
              "      <td>1</td>\n",
              "      <td>женат / замужем</td>\n",
              "      <td>0</td>\n",
              "      <td>F</td>\n",
              "      <td>пенсионер</td>\n",
              "      <td>0</td>\n",
              "      <td>97620.687042</td>\n",
              "      <td>строительство собственной недвижимости</td>\n",
              "    </tr>\n",
              "    <tr>\n",
              "      <th>1040</th>\n",
              "      <td>0</td>\n",
              "      <td>1158.029561</td>\n",
              "      <td>0</td>\n",
              "      <td>высшее</td>\n",
              "      <td>0</td>\n",
              "      <td>в разводе</td>\n",
              "      <td>3</td>\n",
              "      <td>F</td>\n",
              "      <td>компаньон</td>\n",
              "      <td>0</td>\n",
              "      <td>303994.134987</td>\n",
              "      <td>свой автомобиль</td>\n",
              "    </tr>\n",
              "    <tr>\n",
              "      <th>...</th>\n",
              "      <td>...</td>\n",
              "      <td>...</td>\n",
              "      <td>...</td>\n",
              "      <td>...</td>\n",
              "      <td>...</td>\n",
              "      <td>...</td>\n",
              "      <td>...</td>\n",
              "      <td>...</td>\n",
              "      <td>...</td>\n",
              "      <td>...</td>\n",
              "      <td>...</td>\n",
              "      <td>...</td>\n",
              "    </tr>\n",
              "    <tr>\n",
              "      <th>19829</th>\n",
              "      <td>0</td>\n",
              "      <td>1574.202821</td>\n",
              "      <td>0</td>\n",
              "      <td>среднее</td>\n",
              "      <td>1</td>\n",
              "      <td>женат / замужем</td>\n",
              "      <td>0</td>\n",
              "      <td>F</td>\n",
              "      <td>сотрудник</td>\n",
              "      <td>0</td>\n",
              "      <td>142594.396847</td>\n",
              "      <td>жилье</td>\n",
              "    </tr>\n",
              "    <tr>\n",
              "      <th>20462</th>\n",
              "      <td>0</td>\n",
              "      <td>338734.868540</td>\n",
              "      <td>0</td>\n",
              "      <td>среднее</td>\n",
              "      <td>1</td>\n",
              "      <td>женат / замужем</td>\n",
              "      <td>0</td>\n",
              "      <td>F</td>\n",
              "      <td>пенсионер</td>\n",
              "      <td>0</td>\n",
              "      <td>259193.920299</td>\n",
              "      <td>покупка своего жилья</td>\n",
              "    </tr>\n",
              "    <tr>\n",
              "      <th>20577</th>\n",
              "      <td>0</td>\n",
              "      <td>331741.271455</td>\n",
              "      <td>0</td>\n",
              "      <td>среднее</td>\n",
              "      <td>1</td>\n",
              "      <td>Не женат / не замужем</td>\n",
              "      <td>4</td>\n",
              "      <td>F</td>\n",
              "      <td>пенсионер</td>\n",
              "      <td>0</td>\n",
              "      <td>129788.762899</td>\n",
              "      <td>недвижимость</td>\n",
              "    </tr>\n",
              "    <tr>\n",
              "      <th>21179</th>\n",
              "      <td>2</td>\n",
              "      <td>108.967042</td>\n",
              "      <td>0</td>\n",
              "      <td>высшее</td>\n",
              "      <td>0</td>\n",
              "      <td>женат / замужем</td>\n",
              "      <td>0</td>\n",
              "      <td>M</td>\n",
              "      <td>компаньон</td>\n",
              "      <td>0</td>\n",
              "      <td>240702.007382</td>\n",
              "      <td>строительство жилой недвижимости</td>\n",
              "    </tr>\n",
              "    <tr>\n",
              "      <th>21313</th>\n",
              "      <td>0</td>\n",
              "      <td>1268.487728</td>\n",
              "      <td>0</td>\n",
              "      <td>среднее</td>\n",
              "      <td>1</td>\n",
              "      <td>Не женат / не замужем</td>\n",
              "      <td>4</td>\n",
              "      <td>M</td>\n",
              "      <td>сотрудник</td>\n",
              "      <td>0</td>\n",
              "      <td>152419.184851</td>\n",
              "      <td>операции с жильем</td>\n",
              "    </tr>\n",
              "  </tbody>\n",
              "</table>\n",
              "<p>100 rows × 12 columns</p>\n",
              "</div>\n",
              "      <button class=\"colab-df-convert\" onclick=\"convertToInteractive('df-b7b9ccca-b83e-496f-844f-117ed9fc7cd1')\"\n",
              "              title=\"Convert this dataframe to an interactive table.\"\n",
              "              style=\"display:none;\">\n",
              "        \n",
              "  <svg xmlns=\"http://www.w3.org/2000/svg\" height=\"24px\"viewBox=\"0 0 24 24\"\n",
              "       width=\"24px\">\n",
              "    <path d=\"M0 0h24v24H0V0z\" fill=\"none\"/>\n",
              "    <path d=\"M18.56 5.44l.94 2.06.94-2.06 2.06-.94-2.06-.94-.94-2.06-.94 2.06-2.06.94zm-11 1L8.5 8.5l.94-2.06 2.06-.94-2.06-.94L8.5 2.5l-.94 2.06-2.06.94zm10 10l.94 2.06.94-2.06 2.06-.94-2.06-.94-.94-2.06-.94 2.06-2.06.94z\"/><path d=\"M17.41 7.96l-1.37-1.37c-.4-.4-.92-.59-1.43-.59-.52 0-1.04.2-1.43.59L10.3 9.45l-7.72 7.72c-.78.78-.78 2.05 0 2.83L4 21.41c.39.39.9.59 1.41.59.51 0 1.02-.2 1.41-.59l7.78-7.78 2.81-2.81c.8-.78.8-2.07 0-2.86zM5.41 20L4 18.59l7.72-7.72 1.47 1.35L5.41 20z\"/>\n",
              "  </svg>\n",
              "      </button>\n",
              "      \n",
              "  <style>\n",
              "    .colab-df-container {\n",
              "      display:flex;\n",
              "      flex-wrap:wrap;\n",
              "      gap: 12px;\n",
              "    }\n",
              "\n",
              "    .colab-df-convert {\n",
              "      background-color: #E8F0FE;\n",
              "      border: none;\n",
              "      border-radius: 50%;\n",
              "      cursor: pointer;\n",
              "      display: none;\n",
              "      fill: #1967D2;\n",
              "      height: 32px;\n",
              "      padding: 0 0 0 0;\n",
              "      width: 32px;\n",
              "    }\n",
              "\n",
              "    .colab-df-convert:hover {\n",
              "      background-color: #E2EBFA;\n",
              "      box-shadow: 0px 1px 2px rgba(60, 64, 67, 0.3), 0px 1px 3px 1px rgba(60, 64, 67, 0.15);\n",
              "      fill: #174EA6;\n",
              "    }\n",
              "\n",
              "    [theme=dark] .colab-df-convert {\n",
              "      background-color: #3B4455;\n",
              "      fill: #D2E3FC;\n",
              "    }\n",
              "\n",
              "    [theme=dark] .colab-df-convert:hover {\n",
              "      background-color: #434B5C;\n",
              "      box-shadow: 0px 1px 3px 1px rgba(0, 0, 0, 0.15);\n",
              "      filter: drop-shadow(0px 1px 2px rgba(0, 0, 0, 0.3));\n",
              "      fill: #FFFFFF;\n",
              "    }\n",
              "  </style>\n",
              "\n",
              "      <script>\n",
              "        const buttonEl =\n",
              "          document.querySelector('#df-b7b9ccca-b83e-496f-844f-117ed9fc7cd1 button.colab-df-convert');\n",
              "        buttonEl.style.display =\n",
              "          google.colab.kernel.accessAllowed ? 'block' : 'none';\n",
              "\n",
              "        async function convertToInteractive(key) {\n",
              "          const element = document.querySelector('#df-b7b9ccca-b83e-496f-844f-117ed9fc7cd1');\n",
              "          const dataTable =\n",
              "            await google.colab.kernel.invokeFunction('convertToInteractive',\n",
              "                                                     [key], {});\n",
              "          if (!dataTable) return;\n",
              "\n",
              "          const docLinkHtml = 'Like what you see? Visit the ' +\n",
              "            '<a target=\"_blank\" href=https://colab.research.google.com/notebooks/data_table.ipynb>data table notebook</a>'\n",
              "            + ' to learn more about interactive tables.';\n",
              "          element.innerHTML = '';\n",
              "          dataTable['output_type'] = 'display_data';\n",
              "          await google.colab.output.renderOutput(dataTable, element);\n",
              "          const docLink = document.createElement('div');\n",
              "          docLink.innerHTML = docLinkHtml;\n",
              "          element.appendChild(docLink);\n",
              "        }\n",
              "      </script>\n",
              "    </div>\n",
              "  </div>\n",
              "  "
            ]
          },
          "metadata": {},
          "execution_count": 18
        }
      ]
    },
    {
      "cell_type": "markdown",
      "source": [
        "Всего 100 значений, это явная ошибка заполнения, тк `days_employed` заполнено  \n",
        "Так как мы не планируем исследовать зависимость от этого параметра, оставим эти данные как есть"
      ],
      "metadata": {
        "id": "4JQOM6u2vFNw"
      },
      "id": "4JQOM6u2vFNw"
    },
    {
      "cell_type": "markdown",
      "id": "fb879ad3",
      "metadata": {
        "deletable": false,
        "editable": false,
        "id": "fb879ad3"
      },
      "source": [
        "### Изменение типов данных"
      ]
    },
    {
      "cell_type": "markdown",
      "id": "10279a71",
      "metadata": {
        "deletable": false,
        "editable": false,
        "id": "10279a71"
      },
      "source": [
        "Заменим вещественный тип данных в столбце `total_income` на целочисленный с помощью метода `astype()`."
      ]
    },
    {
      "cell_type": "code",
      "execution_count": 19,
      "id": "06a184b7",
      "metadata": {
        "deletable": false,
        "id": "06a184b7"
      },
      "outputs": [],
      "source": [
        "    data['total_income'] = data['total_income'].astype(int)"
      ]
    },
    {
      "cell_type": "markdown",
      "id": "301d85a4",
      "metadata": {
        "deletable": false,
        "editable": false,
        "id": "301d85a4"
      },
      "source": [
        "### Обработка дубликатов"
      ]
    },
    {
      "cell_type": "markdown",
      "id": "c215cba8",
      "metadata": {
        "deletable": false,
        "editable": false,
        "id": "c215cba8"
      },
      "source": [
        "В столбце `education ` были неявные дубликаты - одни и те же значения, но записанные по-разному: с использованием заглавных и строчных букв.  \n",
        "Приведем их к нижнему регистру."
      ]
    },
    {
      "cell_type": "code",
      "execution_count": 20,
      "id": "2067dfe1",
      "metadata": {
        "deletable": false,
        "id": "2067dfe1"
      },
      "outputs": [],
      "source": [
        "data['education'] = data['education'].str.lower()"
      ]
    },
    {
      "cell_type": "markdown",
      "id": "d9d8b8f7",
      "metadata": {
        "deletable": false,
        "editable": false,
        "id": "d9d8b8f7"
      },
      "source": [
        "Проверим явные дубликаты"
      ]
    },
    {
      "cell_type": "code",
      "execution_count": 21,
      "id": "b36e220f",
      "metadata": {
        "deletable": false,
        "id": "b36e220f",
        "outputId": "4f283ccd-9518-42d9-d91f-3ffe85971e21",
        "colab": {
          "base_uri": "https://localhost:8080/"
        }
      },
      "outputs": [
        {
          "output_type": "execute_result",
          "data": {
            "text/plain": [
              "71"
            ]
          },
          "metadata": {},
          "execution_count": 21
        }
      ],
      "source": [
        "data.duplicated().sum()"
      ]
    },
    {
      "cell_type": "code",
      "execution_count": 22,
      "id": "51d41b3e",
      "metadata": {
        "deletable": false,
        "id": "51d41b3e"
      },
      "outputs": [],
      "source": [
        "# удалим их\n",
        "data = data.drop_duplicates()"
      ]
    },
    {
      "cell_type": "markdown",
      "source": [
        "**В данных присутствовали дубликаты, аномальные значения и выбросы.  \n",
        "Также были пропуски в колонках days_employed и total_income. Возможно это связано с тем, что:** \n",
        " * **нет трудоустройства - нет дохода и данные кредиты оформлены без подтверждения дохода**\n",
        " * **техническая ошибка чтения данных, пропуски присутствуют в столбцах с типом float64**"
      ],
      "metadata": {
        "id": "03rmJ_Sop-Iw"
      },
      "id": "03rmJ_Sop-Iw"
    },
    {
      "cell_type": "markdown",
      "id": "a71b94ee",
      "metadata": {
        "deletable": false,
        "editable": false,
        "id": "a71b94ee"
      },
      "source": [
        "### Категоризация данных"
      ]
    },
    {
      "cell_type": "markdown",
      "id": "b4b8092f",
      "metadata": {
        "deletable": false,
        "editable": false,
        "id": "b4b8092f"
      },
      "source": [
        "Категоризируем доход для анализа в соответствии с таблицей:\n",
        "\n",
        "- 0–30000 — `'E'`;\n",
        "- 30001–50000 — `'D'`;\n",
        "- 50001–200000 — `'C'`;\n",
        "- 200001–1000000 — `'B'`;\n",
        "- 1000001 и выше — `'A'`.\n",
        "\n",
        "\n",
        "Например, кредитополучателю с доходом 25000 будет назначиена категория `'E'`, а клиенту, получающему 235000, — `'B'`. "
      ]
    },
    {
      "cell_type": "code",
      "execution_count": 23,
      "id": "f92ad7d4",
      "metadata": {
        "deletable": false,
        "id": "f92ad7d4"
      },
      "outputs": [],
      "source": [
        "def categorize_income(income):\n",
        "    try:\n",
        "        if 0 <= income <= 30000:\n",
        "            return 'E'\n",
        "        elif 30001 <= income <= 50000:\n",
        "            return 'D'\n",
        "        elif 50001 <= income <= 200000:\n",
        "            return 'C'\n",
        "        elif 200001 <= income <= 1000000:\n",
        "            return 'B'\n",
        "        elif income >= 1000001:\n",
        "            return 'A'\n",
        "    except:\n",
        "        pass"
      ]
    },
    {
      "cell_type": "code",
      "execution_count": 24,
      "id": "d3afd847",
      "metadata": {
        "deletable": false,
        "id": "d3afd847"
      },
      "outputs": [],
      "source": [
        "data['total_income_category'] = data['total_income'].apply(categorize_income)"
      ]
    },
    {
      "cell_type": "markdown",
      "source": [
        "Посмотрим на значения столбца с целями кредита:"
      ],
      "metadata": {
        "id": "S4K47XgHq-Bg"
      },
      "id": "S4K47XgHq-Bg"
    },
    {
      "cell_type": "code",
      "execution_count": 25,
      "id": "9f3c9d2d",
      "metadata": {
        "deletable": false,
        "id": "9f3c9d2d",
        "outputId": "ca90ab4c-b624-45e7-ada0-8503c685a98a",
        "colab": {
          "base_uri": "https://localhost:8080/"
        }
      },
      "outputs": [
        {
          "output_type": "execute_result",
          "data": {
            "text/plain": [
              "array(['покупка жилья', 'приобретение автомобиля',\n",
              "       'дополнительное образование', 'сыграть свадьбу',\n",
              "       'операции с жильем', 'образование', 'на проведение свадьбы',\n",
              "       'покупка жилья для семьи', 'покупка недвижимости',\n",
              "       'покупка коммерческой недвижимости', 'покупка жилой недвижимости',\n",
              "       'строительство собственной недвижимости', 'недвижимость',\n",
              "       'строительство недвижимости', 'на покупку подержанного автомобиля',\n",
              "       'на покупку своего автомобиля',\n",
              "       'операции с коммерческой недвижимостью',\n",
              "       'строительство жилой недвижимости', 'жилье',\n",
              "       'операции со своей недвижимостью', 'автомобили',\n",
              "       'заняться образованием', 'сделка с подержанным автомобилем',\n",
              "       'получение образования', 'автомобиль', 'свадьба',\n",
              "       'получение дополнительного образования', 'покупка своего жилья',\n",
              "       'операции с недвижимостью', 'получение высшего образования',\n",
              "       'свой автомобиль', 'сделка с автомобилем',\n",
              "       'профильное образование', 'высшее образование',\n",
              "       'покупка жилья для сдачи', 'на покупку автомобиля', 'ремонт жилью',\n",
              "       'заняться высшим образованием'], dtype=object)"
            ]
          },
          "metadata": {},
          "execution_count": 25
        }
      ],
      "source": [
        "data['purpose'].unique()"
      ]
    },
    {
      "cell_type": "markdown",
      "id": "f5974865",
      "metadata": {
        "deletable": false,
        "editable": false,
        "id": "f5974865"
      },
      "source": [
        "Унифицируем цели кредита из столбца `purpose`."
      ]
    },
    {
      "cell_type": "markdown",
      "id": "0f99868d",
      "metadata": {
        "deletable": false,
        "editable": false,
        "id": "0f99868d"
      },
      "source": [
        "Создадим функцию, которая на основании данных из столбца `purpose` сформирует новый столбец `purpose_category`, в который войдут следующие категории:**\n",
        "\n",
        "- `'операции с автомобилем'`,\n",
        "- `'операции с недвижимостью'`,\n",
        "- `'проведение свадьбы'`,\n",
        "- `'получение образования'`."
      ]
    },
    {
      "cell_type": "code",
      "execution_count": 26,
      "id": "35d5d395",
      "metadata": {
        "deletable": false,
        "id": "35d5d395"
      },
      "outputs": [],
      "source": [
        "def categorize_purpose(row):\n",
        "    try:\n",
        "        if 'автом' in row:\n",
        "            return 'операции с автомобилем'\n",
        "        elif 'жил' in row or 'недвиж' in row:\n",
        "            return 'операции с недвижимостью'\n",
        "        elif 'свад' in row:\n",
        "            return 'проведение свадьбы'\n",
        "        elif 'образов' in row:\n",
        "            return 'получение образования'\n",
        "    except:\n",
        "        return 'нет категории'"
      ]
    },
    {
      "cell_type": "code",
      "execution_count": 27,
      "id": "d5acd4e2",
      "metadata": {
        "deletable": false,
        "id": "d5acd4e2"
      },
      "outputs": [],
      "source": [
        "data['purpose_category'] = data['purpose'].apply(categorize_purpose)"
      ]
    },
    {
      "cell_type": "code",
      "execution_count": 28,
      "id": "a21d80ee",
      "metadata": {
        "id": "a21d80ee"
      },
      "outputs": [],
      "source": [
        "#переименуем значения в столбце debt для улучшения вида сводных таблиц\n",
        "data['debt']=data['debt'].replace(0,'notdebtor')\n",
        "data['debt']=data['debt'].replace(1,'debtor')\n",
        "\n",
        " \n"
      ]
    },
    {
      "cell_type": "markdown",
      "id": "a4c2cab6",
      "metadata": {
        "deletable": false,
        "editable": false,
        "id": "a4c2cab6"
      },
      "source": [
        "## Исследовательский анализ данных"
      ]
    },
    {
      "cell_type": "markdown",
      "id": "724bf118",
      "metadata": {
        "deletable": false,
        "editable": false,
        "id": "724bf118"
      },
      "source": [
        "### Анализ зависимости между количеством детей и возвратом кредита в срок"
      ]
    },
    {
      "cell_type": "code",
      "execution_count": 29,
      "id": "c6fe5a6c",
      "metadata": {
        "deletable": false,
        "id": "c6fe5a6c",
        "colab": {
          "base_uri": "https://localhost:8080/",
          "height": 300
        },
        "outputId": "57880757-8778-47f1-a457-e0731d7a1dba"
      },
      "outputs": [
        {
          "output_type": "display_data",
          "data": {
            "text/plain": [
              "debt      debtor  notdebtor  total share_notdebtors\n",
              "children                                           \n",
              "0           1063      13028  14091            92.5%\n",
              "1            444       4364   4808            90.8%\n",
              "2            194       1858   2052            90.5%\n",
              "3             27        303    330            91.8%\n",
              "4              4         37     41            90.2%\n",
              "5              0          9      9           100.0%\n",
              "total       1732      19599  21331            91.9%"
            ],
            "text/html": [
              "\n",
              "  <div id=\"df-f9a25b6c-1371-4be2-bf7a-ec1c9596a15b\">\n",
              "    <div class=\"colab-df-container\">\n",
              "      <div>\n",
              "<style scoped>\n",
              "    .dataframe tbody tr th:only-of-type {\n",
              "        vertical-align: middle;\n",
              "    }\n",
              "\n",
              "    .dataframe tbody tr th {\n",
              "        vertical-align: top;\n",
              "    }\n",
              "\n",
              "    .dataframe thead th {\n",
              "        text-align: right;\n",
              "    }\n",
              "</style>\n",
              "<table border=\"1\" class=\"dataframe\">\n",
              "  <thead>\n",
              "    <tr style=\"text-align: right;\">\n",
              "      <th>debt</th>\n",
              "      <th>debtor</th>\n",
              "      <th>notdebtor</th>\n",
              "      <th>total</th>\n",
              "      <th>share_notdebtors</th>\n",
              "    </tr>\n",
              "    <tr>\n",
              "      <th>children</th>\n",
              "      <th></th>\n",
              "      <th></th>\n",
              "      <th></th>\n",
              "      <th></th>\n",
              "    </tr>\n",
              "  </thead>\n",
              "  <tbody>\n",
              "    <tr>\n",
              "      <th>0</th>\n",
              "      <td>1063</td>\n",
              "      <td>13028</td>\n",
              "      <td>14091</td>\n",
              "      <td>92.5%</td>\n",
              "    </tr>\n",
              "    <tr>\n",
              "      <th>1</th>\n",
              "      <td>444</td>\n",
              "      <td>4364</td>\n",
              "      <td>4808</td>\n",
              "      <td>90.8%</td>\n",
              "    </tr>\n",
              "    <tr>\n",
              "      <th>2</th>\n",
              "      <td>194</td>\n",
              "      <td>1858</td>\n",
              "      <td>2052</td>\n",
              "      <td>90.5%</td>\n",
              "    </tr>\n",
              "    <tr>\n",
              "      <th>3</th>\n",
              "      <td>27</td>\n",
              "      <td>303</td>\n",
              "      <td>330</td>\n",
              "      <td>91.8%</td>\n",
              "    </tr>\n",
              "    <tr>\n",
              "      <th>4</th>\n",
              "      <td>4</td>\n",
              "      <td>37</td>\n",
              "      <td>41</td>\n",
              "      <td>90.2%</td>\n",
              "    </tr>\n",
              "    <tr>\n",
              "      <th>5</th>\n",
              "      <td>0</td>\n",
              "      <td>9</td>\n",
              "      <td>9</td>\n",
              "      <td>100.0%</td>\n",
              "    </tr>\n",
              "    <tr>\n",
              "      <th>total</th>\n",
              "      <td>1732</td>\n",
              "      <td>19599</td>\n",
              "      <td>21331</td>\n",
              "      <td>91.9%</td>\n",
              "    </tr>\n",
              "  </tbody>\n",
              "</table>\n",
              "</div>\n",
              "      <button class=\"colab-df-convert\" onclick=\"convertToInteractive('df-f9a25b6c-1371-4be2-bf7a-ec1c9596a15b')\"\n",
              "              title=\"Convert this dataframe to an interactive table.\"\n",
              "              style=\"display:none;\">\n",
              "        \n",
              "  <svg xmlns=\"http://www.w3.org/2000/svg\" height=\"24px\"viewBox=\"0 0 24 24\"\n",
              "       width=\"24px\">\n",
              "    <path d=\"M0 0h24v24H0V0z\" fill=\"none\"/>\n",
              "    <path d=\"M18.56 5.44l.94 2.06.94-2.06 2.06-.94-2.06-.94-.94-2.06-.94 2.06-2.06.94zm-11 1L8.5 8.5l.94-2.06 2.06-.94-2.06-.94L8.5 2.5l-.94 2.06-2.06.94zm10 10l.94 2.06.94-2.06 2.06-.94-2.06-.94-.94-2.06-.94 2.06-2.06.94z\"/><path d=\"M17.41 7.96l-1.37-1.37c-.4-.4-.92-.59-1.43-.59-.52 0-1.04.2-1.43.59L10.3 9.45l-7.72 7.72c-.78.78-.78 2.05 0 2.83L4 21.41c.39.39.9.59 1.41.59.51 0 1.02-.2 1.41-.59l7.78-7.78 2.81-2.81c.8-.78.8-2.07 0-2.86zM5.41 20L4 18.59l7.72-7.72 1.47 1.35L5.41 20z\"/>\n",
              "  </svg>\n",
              "      </button>\n",
              "      \n",
              "  <style>\n",
              "    .colab-df-container {\n",
              "      display:flex;\n",
              "      flex-wrap:wrap;\n",
              "      gap: 12px;\n",
              "    }\n",
              "\n",
              "    .colab-df-convert {\n",
              "      background-color: #E8F0FE;\n",
              "      border: none;\n",
              "      border-radius: 50%;\n",
              "      cursor: pointer;\n",
              "      display: none;\n",
              "      fill: #1967D2;\n",
              "      height: 32px;\n",
              "      padding: 0 0 0 0;\n",
              "      width: 32px;\n",
              "    }\n",
              "\n",
              "    .colab-df-convert:hover {\n",
              "      background-color: #E2EBFA;\n",
              "      box-shadow: 0px 1px 2px rgba(60, 64, 67, 0.3), 0px 1px 3px 1px rgba(60, 64, 67, 0.15);\n",
              "      fill: #174EA6;\n",
              "    }\n",
              "\n",
              "    [theme=dark] .colab-df-convert {\n",
              "      background-color: #3B4455;\n",
              "      fill: #D2E3FC;\n",
              "    }\n",
              "\n",
              "    [theme=dark] .colab-df-convert:hover {\n",
              "      background-color: #434B5C;\n",
              "      box-shadow: 0px 1px 3px 1px rgba(0, 0, 0, 0.15);\n",
              "      filter: drop-shadow(0px 1px 2px rgba(0, 0, 0, 0.3));\n",
              "      fill: #FFFFFF;\n",
              "    }\n",
              "  </style>\n",
              "\n",
              "      <script>\n",
              "        const buttonEl =\n",
              "          document.querySelector('#df-f9a25b6c-1371-4be2-bf7a-ec1c9596a15b button.colab-df-convert');\n",
              "        buttonEl.style.display =\n",
              "          google.colab.kernel.accessAllowed ? 'block' : 'none';\n",
              "\n",
              "        async function convertToInteractive(key) {\n",
              "          const element = document.querySelector('#df-f9a25b6c-1371-4be2-bf7a-ec1c9596a15b');\n",
              "          const dataTable =\n",
              "            await google.colab.kernel.invokeFunction('convertToInteractive',\n",
              "                                                     [key], {});\n",
              "          if (!dataTable) return;\n",
              "\n",
              "          const docLinkHtml = 'Like what you see? Visit the ' +\n",
              "            '<a target=\"_blank\" href=https://colab.research.google.com/notebooks/data_table.ipynb>data table notebook</a>'\n",
              "            + ' to learn more about interactive tables.';\n",
              "          element.innerHTML = '';\n",
              "          dataTable['output_type'] = 'display_data';\n",
              "          await google.colab.output.renderOutput(dataTable, element);\n",
              "          const docLink = document.createElement('div');\n",
              "          docLink.innerHTML = docLinkHtml;\n",
              "          element.appendChild(docLink);\n",
              "        }\n",
              "      </script>\n",
              "    </div>\n",
              "  </div>\n",
              "  "
            ]
          },
          "metadata": {}
        }
      ],
      "source": [
        "# Сделаем сводную таблицу по количеству взятых кредитых в зависимости от количетсва детей\n",
        "\n",
        "data_pivot = data.pivot_table(index=['children'], columns='debt', values='total_income', \n",
        "                              aggfunc='count', fill_value= 0, margins = True, margins_name='total')\n",
        "data_pivot['share_notdebtors'] = data_pivot['notdebtor'] / data_pivot['total']\n",
        "data_pivot['share_notdebtors'] = data_pivot['share_notdebtors'].apply(lambda x: format(x, '.1%'))\n",
        "display(data_pivot)\n"
      ]
    },
    {
      "cell_type": "markdown",
      "id": "7a54802a",
      "metadata": {
        "deletable": false,
        "id": "7a54802a"
      },
      "source": [
        "**Вывод:** \n",
        "\n",
        "* Максимально высокие значения наблюдаются при отсутсвиии детей и количестве детей равном 3.\n",
        "\n",
        "* Нельзя сказать, что есть прямая корреляция между количеством детей и возвратом кредита в срок, но можно сказать, что при остсутвие детей возврат выше, чем при их наличии. Группа с 3 детьми малочисленна для формирования выводов. \n",
        "\n",
        "* При количестве детей равном 5, доля возврата в срок 100%, но выборка из 9 кредитов крайне мала для формирования зависимости.\n",
        "\n"
      ]
    },
    {
      "cell_type": "markdown",
      "id": "ad423e89",
      "metadata": {
        "deletable": false,
        "editable": false,
        "id": "ad423e89"
      },
      "source": [
        "### Анализ зависимости между семейным положением и возвратом кредита в срок"
      ]
    },
    {
      "cell_type": "code",
      "execution_count": 30,
      "id": "e37953a4",
      "metadata": {
        "deletable": false,
        "id": "e37953a4",
        "colab": {
          "base_uri": "https://localhost:8080/",
          "height": 269
        },
        "outputId": "80ad4137-0c19-491d-afb9-c976934fe371"
      },
      "outputs": [
        {
          "output_type": "display_data",
          "data": {
            "text/plain": [
              "debt                   debtor  notdebtor  total share_notdebtors\n",
              "family_status                                                   \n",
              "Не женат / не замужем     273       2523   2796            90.2%\n",
              "в разводе                  84       1105   1189            92.9%\n",
              "вдовец / вдова             63        888    951            93.4%\n",
              "гражданский брак          385       3749   4134            90.7%\n",
              "женат / замужем           927      11334  12261            92.4%\n",
              "total                    1732      19599  21331            91.9%"
            ],
            "text/html": [
              "\n",
              "  <div id=\"df-c77ea7ce-0c25-47da-94a5-1b45263bf861\">\n",
              "    <div class=\"colab-df-container\">\n",
              "      <div>\n",
              "<style scoped>\n",
              "    .dataframe tbody tr th:only-of-type {\n",
              "        vertical-align: middle;\n",
              "    }\n",
              "\n",
              "    .dataframe tbody tr th {\n",
              "        vertical-align: top;\n",
              "    }\n",
              "\n",
              "    .dataframe thead th {\n",
              "        text-align: right;\n",
              "    }\n",
              "</style>\n",
              "<table border=\"1\" class=\"dataframe\">\n",
              "  <thead>\n",
              "    <tr style=\"text-align: right;\">\n",
              "      <th>debt</th>\n",
              "      <th>debtor</th>\n",
              "      <th>notdebtor</th>\n",
              "      <th>total</th>\n",
              "      <th>share_notdebtors</th>\n",
              "    </tr>\n",
              "    <tr>\n",
              "      <th>family_status</th>\n",
              "      <th></th>\n",
              "      <th></th>\n",
              "      <th></th>\n",
              "      <th></th>\n",
              "    </tr>\n",
              "  </thead>\n",
              "  <tbody>\n",
              "    <tr>\n",
              "      <th>Не женат / не замужем</th>\n",
              "      <td>273</td>\n",
              "      <td>2523</td>\n",
              "      <td>2796</td>\n",
              "      <td>90.2%</td>\n",
              "    </tr>\n",
              "    <tr>\n",
              "      <th>в разводе</th>\n",
              "      <td>84</td>\n",
              "      <td>1105</td>\n",
              "      <td>1189</td>\n",
              "      <td>92.9%</td>\n",
              "    </tr>\n",
              "    <tr>\n",
              "      <th>вдовец / вдова</th>\n",
              "      <td>63</td>\n",
              "      <td>888</td>\n",
              "      <td>951</td>\n",
              "      <td>93.4%</td>\n",
              "    </tr>\n",
              "    <tr>\n",
              "      <th>гражданский брак</th>\n",
              "      <td>385</td>\n",
              "      <td>3749</td>\n",
              "      <td>4134</td>\n",
              "      <td>90.7%</td>\n",
              "    </tr>\n",
              "    <tr>\n",
              "      <th>женат / замужем</th>\n",
              "      <td>927</td>\n",
              "      <td>11334</td>\n",
              "      <td>12261</td>\n",
              "      <td>92.4%</td>\n",
              "    </tr>\n",
              "    <tr>\n",
              "      <th>total</th>\n",
              "      <td>1732</td>\n",
              "      <td>19599</td>\n",
              "      <td>21331</td>\n",
              "      <td>91.9%</td>\n",
              "    </tr>\n",
              "  </tbody>\n",
              "</table>\n",
              "</div>\n",
              "      <button class=\"colab-df-convert\" onclick=\"convertToInteractive('df-c77ea7ce-0c25-47da-94a5-1b45263bf861')\"\n",
              "              title=\"Convert this dataframe to an interactive table.\"\n",
              "              style=\"display:none;\">\n",
              "        \n",
              "  <svg xmlns=\"http://www.w3.org/2000/svg\" height=\"24px\"viewBox=\"0 0 24 24\"\n",
              "       width=\"24px\">\n",
              "    <path d=\"M0 0h24v24H0V0z\" fill=\"none\"/>\n",
              "    <path d=\"M18.56 5.44l.94 2.06.94-2.06 2.06-.94-2.06-.94-.94-2.06-.94 2.06-2.06.94zm-11 1L8.5 8.5l.94-2.06 2.06-.94-2.06-.94L8.5 2.5l-.94 2.06-2.06.94zm10 10l.94 2.06.94-2.06 2.06-.94-2.06-.94-.94-2.06-.94 2.06-2.06.94z\"/><path d=\"M17.41 7.96l-1.37-1.37c-.4-.4-.92-.59-1.43-.59-.52 0-1.04.2-1.43.59L10.3 9.45l-7.72 7.72c-.78.78-.78 2.05 0 2.83L4 21.41c.39.39.9.59 1.41.59.51 0 1.02-.2 1.41-.59l7.78-7.78 2.81-2.81c.8-.78.8-2.07 0-2.86zM5.41 20L4 18.59l7.72-7.72 1.47 1.35L5.41 20z\"/>\n",
              "  </svg>\n",
              "      </button>\n",
              "      \n",
              "  <style>\n",
              "    .colab-df-container {\n",
              "      display:flex;\n",
              "      flex-wrap:wrap;\n",
              "      gap: 12px;\n",
              "    }\n",
              "\n",
              "    .colab-df-convert {\n",
              "      background-color: #E8F0FE;\n",
              "      border: none;\n",
              "      border-radius: 50%;\n",
              "      cursor: pointer;\n",
              "      display: none;\n",
              "      fill: #1967D2;\n",
              "      height: 32px;\n",
              "      padding: 0 0 0 0;\n",
              "      width: 32px;\n",
              "    }\n",
              "\n",
              "    .colab-df-convert:hover {\n",
              "      background-color: #E2EBFA;\n",
              "      box-shadow: 0px 1px 2px rgba(60, 64, 67, 0.3), 0px 1px 3px 1px rgba(60, 64, 67, 0.15);\n",
              "      fill: #174EA6;\n",
              "    }\n",
              "\n",
              "    [theme=dark] .colab-df-convert {\n",
              "      background-color: #3B4455;\n",
              "      fill: #D2E3FC;\n",
              "    }\n",
              "\n",
              "    [theme=dark] .colab-df-convert:hover {\n",
              "      background-color: #434B5C;\n",
              "      box-shadow: 0px 1px 3px 1px rgba(0, 0, 0, 0.15);\n",
              "      filter: drop-shadow(0px 1px 2px rgba(0, 0, 0, 0.3));\n",
              "      fill: #FFFFFF;\n",
              "    }\n",
              "  </style>\n",
              "\n",
              "      <script>\n",
              "        const buttonEl =\n",
              "          document.querySelector('#df-c77ea7ce-0c25-47da-94a5-1b45263bf861 button.colab-df-convert');\n",
              "        buttonEl.style.display =\n",
              "          google.colab.kernel.accessAllowed ? 'block' : 'none';\n",
              "\n",
              "        async function convertToInteractive(key) {\n",
              "          const element = document.querySelector('#df-c77ea7ce-0c25-47da-94a5-1b45263bf861');\n",
              "          const dataTable =\n",
              "            await google.colab.kernel.invokeFunction('convertToInteractive',\n",
              "                                                     [key], {});\n",
              "          if (!dataTable) return;\n",
              "\n",
              "          const docLinkHtml = 'Like what you see? Visit the ' +\n",
              "            '<a target=\"_blank\" href=https://colab.research.google.com/notebooks/data_table.ipynb>data table notebook</a>'\n",
              "            + ' to learn more about interactive tables.';\n",
              "          element.innerHTML = '';\n",
              "          dataTable['output_type'] = 'display_data';\n",
              "          await google.colab.output.renderOutput(dataTable, element);\n",
              "          const docLink = document.createElement('div');\n",
              "          docLink.innerHTML = docLinkHtml;\n",
              "          element.appendChild(docLink);\n",
              "        }\n",
              "      </script>\n",
              "    </div>\n",
              "  </div>\n",
              "  "
            ]
          },
          "metadata": {}
        }
      ],
      "source": [
        "# Сделаем сводную таблицу по количеству взятых кредитов в зависимости от семейного положения\n",
        "data_pivot = data.pivot_table(index=['family_status'], columns='debt', values='total_income', \n",
        "                              aggfunc='count', fill_value= 0, margins = True, margins_name='total')\n",
        "data_pivot['share_notdebtors'] = data_pivot['notdebtor'] / data_pivot['total']\n",
        "data_pivot['share_notdebtors'] = data_pivot['share_notdebtors'].apply(lambda x: format(x, '.1%'))\n",
        "display(data_pivot)\n"
      ]
    },
    {
      "cell_type": "markdown",
      "id": "8890bdb4",
      "metadata": {
        "deletable": false,
        "id": "8890bdb4"
      },
      "source": [
        "**Вывод:** \n",
        "\n",
        "* Максимальный процент возвратов кредита в срок наблюдается при семейном положении: официальный брак, в разводе, вдова/вдовец. \n",
        "* Минимальный процент возвратов кредита в срок у людей состоящих в гражданском браке и без отношений.\n",
        "* Также нужно отметить, что не все люди могли отметить в анкете наличие гражданоского брака, а указать вместо этого отстутствие отношений. Поэтому группа \"гражданский брак\" может быть крупнее.\n"
      ]
    },
    {
      "cell_type": "markdown",
      "id": "6ba5de4c",
      "metadata": {
        "deletable": false,
        "editable": false,
        "id": "6ba5de4c"
      },
      "source": [
        "### Анализ зависимости между уровнем дохода и возвратом кредита в срок"
      ]
    },
    {
      "cell_type": "code",
      "execution_count": 31,
      "id": "0b661a1a",
      "metadata": {
        "deletable": false,
        "id": "0b661a1a",
        "colab": {
          "base_uri": "https://localhost:8080/",
          "height": 269
        },
        "outputId": "78beb3e5-1aa5-443b-9d99-a8485caaa33e"
      },
      "outputs": [
        {
          "output_type": "display_data",
          "data": {
            "text/plain": [
              "debt                   debtor  notdebtor  total share_notdebtors\n",
              "total_income_category                                           \n",
              "A                           2         23     25            92.0%\n",
              "B                         354       4660   5014            92.9%\n",
              "C                        1353      14568  15921            91.5%\n",
              "D                          21        328    349            94.0%\n",
              "E                           2         20     22            90.9%\n",
              "total                    1732      19599  21331            91.9%"
            ],
            "text/html": [
              "\n",
              "  <div id=\"df-22bf4fb0-6faa-4599-9493-edc67d552552\">\n",
              "    <div class=\"colab-df-container\">\n",
              "      <div>\n",
              "<style scoped>\n",
              "    .dataframe tbody tr th:only-of-type {\n",
              "        vertical-align: middle;\n",
              "    }\n",
              "\n",
              "    .dataframe tbody tr th {\n",
              "        vertical-align: top;\n",
              "    }\n",
              "\n",
              "    .dataframe thead th {\n",
              "        text-align: right;\n",
              "    }\n",
              "</style>\n",
              "<table border=\"1\" class=\"dataframe\">\n",
              "  <thead>\n",
              "    <tr style=\"text-align: right;\">\n",
              "      <th>debt</th>\n",
              "      <th>debtor</th>\n",
              "      <th>notdebtor</th>\n",
              "      <th>total</th>\n",
              "      <th>share_notdebtors</th>\n",
              "    </tr>\n",
              "    <tr>\n",
              "      <th>total_income_category</th>\n",
              "      <th></th>\n",
              "      <th></th>\n",
              "      <th></th>\n",
              "      <th></th>\n",
              "    </tr>\n",
              "  </thead>\n",
              "  <tbody>\n",
              "    <tr>\n",
              "      <th>A</th>\n",
              "      <td>2</td>\n",
              "      <td>23</td>\n",
              "      <td>25</td>\n",
              "      <td>92.0%</td>\n",
              "    </tr>\n",
              "    <tr>\n",
              "      <th>B</th>\n",
              "      <td>354</td>\n",
              "      <td>4660</td>\n",
              "      <td>5014</td>\n",
              "      <td>92.9%</td>\n",
              "    </tr>\n",
              "    <tr>\n",
              "      <th>C</th>\n",
              "      <td>1353</td>\n",
              "      <td>14568</td>\n",
              "      <td>15921</td>\n",
              "      <td>91.5%</td>\n",
              "    </tr>\n",
              "    <tr>\n",
              "      <th>D</th>\n",
              "      <td>21</td>\n",
              "      <td>328</td>\n",
              "      <td>349</td>\n",
              "      <td>94.0%</td>\n",
              "    </tr>\n",
              "    <tr>\n",
              "      <th>E</th>\n",
              "      <td>2</td>\n",
              "      <td>20</td>\n",
              "      <td>22</td>\n",
              "      <td>90.9%</td>\n",
              "    </tr>\n",
              "    <tr>\n",
              "      <th>total</th>\n",
              "      <td>1732</td>\n",
              "      <td>19599</td>\n",
              "      <td>21331</td>\n",
              "      <td>91.9%</td>\n",
              "    </tr>\n",
              "  </tbody>\n",
              "</table>\n",
              "</div>\n",
              "      <button class=\"colab-df-convert\" onclick=\"convertToInteractive('df-22bf4fb0-6faa-4599-9493-edc67d552552')\"\n",
              "              title=\"Convert this dataframe to an interactive table.\"\n",
              "              style=\"display:none;\">\n",
              "        \n",
              "  <svg xmlns=\"http://www.w3.org/2000/svg\" height=\"24px\"viewBox=\"0 0 24 24\"\n",
              "       width=\"24px\">\n",
              "    <path d=\"M0 0h24v24H0V0z\" fill=\"none\"/>\n",
              "    <path d=\"M18.56 5.44l.94 2.06.94-2.06 2.06-.94-2.06-.94-.94-2.06-.94 2.06-2.06.94zm-11 1L8.5 8.5l.94-2.06 2.06-.94-2.06-.94L8.5 2.5l-.94 2.06-2.06.94zm10 10l.94 2.06.94-2.06 2.06-.94-2.06-.94-.94-2.06-.94 2.06-2.06.94z\"/><path d=\"M17.41 7.96l-1.37-1.37c-.4-.4-.92-.59-1.43-.59-.52 0-1.04.2-1.43.59L10.3 9.45l-7.72 7.72c-.78.78-.78 2.05 0 2.83L4 21.41c.39.39.9.59 1.41.59.51 0 1.02-.2 1.41-.59l7.78-7.78 2.81-2.81c.8-.78.8-2.07 0-2.86zM5.41 20L4 18.59l7.72-7.72 1.47 1.35L5.41 20z\"/>\n",
              "  </svg>\n",
              "      </button>\n",
              "      \n",
              "  <style>\n",
              "    .colab-df-container {\n",
              "      display:flex;\n",
              "      flex-wrap:wrap;\n",
              "      gap: 12px;\n",
              "    }\n",
              "\n",
              "    .colab-df-convert {\n",
              "      background-color: #E8F0FE;\n",
              "      border: none;\n",
              "      border-radius: 50%;\n",
              "      cursor: pointer;\n",
              "      display: none;\n",
              "      fill: #1967D2;\n",
              "      height: 32px;\n",
              "      padding: 0 0 0 0;\n",
              "      width: 32px;\n",
              "    }\n",
              "\n",
              "    .colab-df-convert:hover {\n",
              "      background-color: #E2EBFA;\n",
              "      box-shadow: 0px 1px 2px rgba(60, 64, 67, 0.3), 0px 1px 3px 1px rgba(60, 64, 67, 0.15);\n",
              "      fill: #174EA6;\n",
              "    }\n",
              "\n",
              "    [theme=dark] .colab-df-convert {\n",
              "      background-color: #3B4455;\n",
              "      fill: #D2E3FC;\n",
              "    }\n",
              "\n",
              "    [theme=dark] .colab-df-convert:hover {\n",
              "      background-color: #434B5C;\n",
              "      box-shadow: 0px 1px 3px 1px rgba(0, 0, 0, 0.15);\n",
              "      filter: drop-shadow(0px 1px 2px rgba(0, 0, 0, 0.3));\n",
              "      fill: #FFFFFF;\n",
              "    }\n",
              "  </style>\n",
              "\n",
              "      <script>\n",
              "        const buttonEl =\n",
              "          document.querySelector('#df-22bf4fb0-6faa-4599-9493-edc67d552552 button.colab-df-convert');\n",
              "        buttonEl.style.display =\n",
              "          google.colab.kernel.accessAllowed ? 'block' : 'none';\n",
              "\n",
              "        async function convertToInteractive(key) {\n",
              "          const element = document.querySelector('#df-22bf4fb0-6faa-4599-9493-edc67d552552');\n",
              "          const dataTable =\n",
              "            await google.colab.kernel.invokeFunction('convertToInteractive',\n",
              "                                                     [key], {});\n",
              "          if (!dataTable) return;\n",
              "\n",
              "          const docLinkHtml = 'Like what you see? Visit the ' +\n",
              "            '<a target=\"_blank\" href=https://colab.research.google.com/notebooks/data_table.ipynb>data table notebook</a>'\n",
              "            + ' to learn more about interactive tables.';\n",
              "          element.innerHTML = '';\n",
              "          dataTable['output_type'] = 'display_data';\n",
              "          await google.colab.output.renderOutput(dataTable, element);\n",
              "          const docLink = document.createElement('div');\n",
              "          docLink.innerHTML = docLinkHtml;\n",
              "          element.appendChild(docLink);\n",
              "        }\n",
              "      </script>\n",
              "    </div>\n",
              "  </div>\n",
              "  "
            ]
          },
          "metadata": {}
        }
      ],
      "source": [
        "# Сделаем сводную таблицу по количеству взятых кредитых в зависимости от уровня дохода\n",
        "data_pivot = data.pivot_table(index=['total_income_category'], columns='debt', values='total_income', \n",
        "                              aggfunc='count', fill_value= 0, margins = True, margins_name='total')\n",
        "data_pivot['share_notdebtors'] = data_pivot['notdebtor'] / data_pivot['total']\n",
        "data_pivot['share_notdebtors'] = data_pivot['share_notdebtors'].apply(lambda x: format(x, '.1%'))\n",
        "display(data_pivot)"
      ]
    },
    {
      "cell_type": "markdown",
      "id": "d69049d8",
      "metadata": {
        "id": "d69049d8"
      },
      "source": [
        "- 1 000 001 и выше — `'A'`\n",
        "- 200 001–1 000 000 — `'B'`\n",
        "- 50 001–200 000 — `'C'`\n",
        "- 30 001–50 000 — `'D'`\n",
        "- 0–30 000 — `'E'`\n"
      ]
    },
    {
      "cell_type": "markdown",
      "id": "39e050fa",
      "metadata": {
        "deletable": false,
        "id": "39e050fa"
      },
      "source": [
        "**Вывод:** \n",
        "* Прямой зависимости между уровнем дохода и возвратом кредита в срок не наблюдается. \n",
        "* Но если рассмотреть только самые многочисленные группы B и C, то в группе B с более высоким уровнем дохода процент возврата выше, чем в C. В таком диапазоне сравнения, без групп с крайне высокими и низкими значениями дохода, можно сказать, что рост дохода ведет к незнечительному увеличению вероятности возврата кредита в срок.\n",
        "* Также наблюдаются отклонения значений возврата от среднего процента в самых низкодоходных группах D и E, но группы немногочисленные, чтобы делать выводы."
      ]
    },
    {
      "cell_type": "markdown",
      "id": "889a357c",
      "metadata": {
        "deletable": false,
        "editable": false,
        "id": "889a357c"
      },
      "source": [
        "### Анализ зависимости между целью кредита и его возвратом в срок"
      ]
    },
    {
      "cell_type": "code",
      "execution_count": 32,
      "id": "b6944ce4",
      "metadata": {
        "deletable": false,
        "id": "b6944ce4",
        "colab": {
          "base_uri": "https://localhost:8080/",
          "height": 237
        },
        "outputId": "765e5a6a-c8ee-4190-d5b2-db12092f076f"
      },
      "outputs": [
        {
          "output_type": "display_data",
          "data": {
            "text/plain": [
              "debt                      debtor  notdebtor  total share_notdebtors\n",
              "purpose_category                                                   \n",
              "операции с автомобилем       400       3879   4279            90.7%\n",
              "операции с недвижимостью     780       9971  10751            92.7%\n",
              "получение образования        369       3619   3988            90.7%\n",
              "проведение свадьбы           183       2130   2313            92.1%\n",
              "total                       1732      19599  21331            91.9%"
            ],
            "text/html": [
              "\n",
              "  <div id=\"df-02ef1e3b-a05f-4bc6-a73a-db98ef2d35d2\">\n",
              "    <div class=\"colab-df-container\">\n",
              "      <div>\n",
              "<style scoped>\n",
              "    .dataframe tbody tr th:only-of-type {\n",
              "        vertical-align: middle;\n",
              "    }\n",
              "\n",
              "    .dataframe tbody tr th {\n",
              "        vertical-align: top;\n",
              "    }\n",
              "\n",
              "    .dataframe thead th {\n",
              "        text-align: right;\n",
              "    }\n",
              "</style>\n",
              "<table border=\"1\" class=\"dataframe\">\n",
              "  <thead>\n",
              "    <tr style=\"text-align: right;\">\n",
              "      <th>debt</th>\n",
              "      <th>debtor</th>\n",
              "      <th>notdebtor</th>\n",
              "      <th>total</th>\n",
              "      <th>share_notdebtors</th>\n",
              "    </tr>\n",
              "    <tr>\n",
              "      <th>purpose_category</th>\n",
              "      <th></th>\n",
              "      <th></th>\n",
              "      <th></th>\n",
              "      <th></th>\n",
              "    </tr>\n",
              "  </thead>\n",
              "  <tbody>\n",
              "    <tr>\n",
              "      <th>операции с автомобилем</th>\n",
              "      <td>400</td>\n",
              "      <td>3879</td>\n",
              "      <td>4279</td>\n",
              "      <td>90.7%</td>\n",
              "    </tr>\n",
              "    <tr>\n",
              "      <th>операции с недвижимостью</th>\n",
              "      <td>780</td>\n",
              "      <td>9971</td>\n",
              "      <td>10751</td>\n",
              "      <td>92.7%</td>\n",
              "    </tr>\n",
              "    <tr>\n",
              "      <th>получение образования</th>\n",
              "      <td>369</td>\n",
              "      <td>3619</td>\n",
              "      <td>3988</td>\n",
              "      <td>90.7%</td>\n",
              "    </tr>\n",
              "    <tr>\n",
              "      <th>проведение свадьбы</th>\n",
              "      <td>183</td>\n",
              "      <td>2130</td>\n",
              "      <td>2313</td>\n",
              "      <td>92.1%</td>\n",
              "    </tr>\n",
              "    <tr>\n",
              "      <th>total</th>\n",
              "      <td>1732</td>\n",
              "      <td>19599</td>\n",
              "      <td>21331</td>\n",
              "      <td>91.9%</td>\n",
              "    </tr>\n",
              "  </tbody>\n",
              "</table>\n",
              "</div>\n",
              "      <button class=\"colab-df-convert\" onclick=\"convertToInteractive('df-02ef1e3b-a05f-4bc6-a73a-db98ef2d35d2')\"\n",
              "              title=\"Convert this dataframe to an interactive table.\"\n",
              "              style=\"display:none;\">\n",
              "        \n",
              "  <svg xmlns=\"http://www.w3.org/2000/svg\" height=\"24px\"viewBox=\"0 0 24 24\"\n",
              "       width=\"24px\">\n",
              "    <path d=\"M0 0h24v24H0V0z\" fill=\"none\"/>\n",
              "    <path d=\"M18.56 5.44l.94 2.06.94-2.06 2.06-.94-2.06-.94-.94-2.06-.94 2.06-2.06.94zm-11 1L8.5 8.5l.94-2.06 2.06-.94-2.06-.94L8.5 2.5l-.94 2.06-2.06.94zm10 10l.94 2.06.94-2.06 2.06-.94-2.06-.94-.94-2.06-.94 2.06-2.06.94z\"/><path d=\"M17.41 7.96l-1.37-1.37c-.4-.4-.92-.59-1.43-.59-.52 0-1.04.2-1.43.59L10.3 9.45l-7.72 7.72c-.78.78-.78 2.05 0 2.83L4 21.41c.39.39.9.59 1.41.59.51 0 1.02-.2 1.41-.59l7.78-7.78 2.81-2.81c.8-.78.8-2.07 0-2.86zM5.41 20L4 18.59l7.72-7.72 1.47 1.35L5.41 20z\"/>\n",
              "  </svg>\n",
              "      </button>\n",
              "      \n",
              "  <style>\n",
              "    .colab-df-container {\n",
              "      display:flex;\n",
              "      flex-wrap:wrap;\n",
              "      gap: 12px;\n",
              "    }\n",
              "\n",
              "    .colab-df-convert {\n",
              "      background-color: #E8F0FE;\n",
              "      border: none;\n",
              "      border-radius: 50%;\n",
              "      cursor: pointer;\n",
              "      display: none;\n",
              "      fill: #1967D2;\n",
              "      height: 32px;\n",
              "      padding: 0 0 0 0;\n",
              "      width: 32px;\n",
              "    }\n",
              "\n",
              "    .colab-df-convert:hover {\n",
              "      background-color: #E2EBFA;\n",
              "      box-shadow: 0px 1px 2px rgba(60, 64, 67, 0.3), 0px 1px 3px 1px rgba(60, 64, 67, 0.15);\n",
              "      fill: #174EA6;\n",
              "    }\n",
              "\n",
              "    [theme=dark] .colab-df-convert {\n",
              "      background-color: #3B4455;\n",
              "      fill: #D2E3FC;\n",
              "    }\n",
              "\n",
              "    [theme=dark] .colab-df-convert:hover {\n",
              "      background-color: #434B5C;\n",
              "      box-shadow: 0px 1px 3px 1px rgba(0, 0, 0, 0.15);\n",
              "      filter: drop-shadow(0px 1px 2px rgba(0, 0, 0, 0.3));\n",
              "      fill: #FFFFFF;\n",
              "    }\n",
              "  </style>\n",
              "\n",
              "      <script>\n",
              "        const buttonEl =\n",
              "          document.querySelector('#df-02ef1e3b-a05f-4bc6-a73a-db98ef2d35d2 button.colab-df-convert');\n",
              "        buttonEl.style.display =\n",
              "          google.colab.kernel.accessAllowed ? 'block' : 'none';\n",
              "\n",
              "        async function convertToInteractive(key) {\n",
              "          const element = document.querySelector('#df-02ef1e3b-a05f-4bc6-a73a-db98ef2d35d2');\n",
              "          const dataTable =\n",
              "            await google.colab.kernel.invokeFunction('convertToInteractive',\n",
              "                                                     [key], {});\n",
              "          if (!dataTable) return;\n",
              "\n",
              "          const docLinkHtml = 'Like what you see? Visit the ' +\n",
              "            '<a target=\"_blank\" href=https://colab.research.google.com/notebooks/data_table.ipynb>data table notebook</a>'\n",
              "            + ' to learn more about interactive tables.';\n",
              "          element.innerHTML = '';\n",
              "          dataTable['output_type'] = 'display_data';\n",
              "          await google.colab.output.renderOutput(dataTable, element);\n",
              "          const docLink = document.createElement('div');\n",
              "          docLink.innerHTML = docLinkHtml;\n",
              "          element.appendChild(docLink);\n",
              "        }\n",
              "      </script>\n",
              "    </div>\n",
              "  </div>\n",
              "  "
            ]
          },
          "metadata": {}
        }
      ],
      "source": [
        "# Сделаем сводную таблицу по количеству взятых кредитых в зависимости от цели кредита.\n",
        "data_pivot = data.pivot_table(index=['purpose_category'], columns='debt', values='total_income', \n",
        "                              aggfunc='count', fill_value= 0, margins = True, margins_name='total')\n",
        "data_pivot['share_notdebtors'] = data_pivot['notdebtor'] / data_pivot['total']\n",
        "data_pivot['share_notdebtors'] = data_pivot['share_notdebtors'].apply(lambda x: format(x, '.1%'))\n",
        "display(data_pivot)"
      ]
    },
    {
      "cell_type": "markdown",
      "id": "2d39a726",
      "metadata": {
        "deletable": false,
        "id": "2d39a726"
      },
      "source": [
        "**Вывод:** \n",
        "* Максимальный процент возвратов кредита в срок наблюдается при целях, связанных с приобретением недвижимости и проведением свадьбы.\n",
        "Можно предположить, что покупка недвижимости более ответственное мероприятие, что влияет на дальнейшие действия. \n"
      ]
    },
    {
      "cell_type": "markdown",
      "id": "d1a07390",
      "metadata": {
        "id": "d1a07390"
      },
      "source": [
        "**На основании полученных данным создадим категорию идеального заемщика:**\n",
        "* нет детей\n",
        "* в разводе, женат / замужем,вдовец / вдова\n",
        "* цель - операции с недвижимостью, проведение свадьбы\n",
        "\n",
        "Назовем его `reliable`:\n",
        "\n"
      ]
    },
    {
      "cell_type": "code",
      "execution_count": 33,
      "id": "d626936a",
      "metadata": {
        "id": "d626936a"
      },
      "outputs": [],
      "source": [
        "#создание функции для категоризации заемщика\n",
        "\n",
        "def reliable_group(row):\n",
        "    children = row['children']\n",
        "    family_status = row['family_status']\n",
        "    purpose_category = row['purpose_category']\n",
        "    if (children==0 \n",
        "    and family_status in ['в разводе','женат / замужем','вдовец / вдова'] \n",
        "    and purpose_category in ['операции с недвижимостью','проведение свадьбы']):\n",
        "        return 'reliable'\n",
        "    return 'not-reliable'\n",
        "\n",
        "row_values = [0,'в разводе', 'операции с автомобилем']\n",
        "row_columns = ['children', 'family_status', 'purpose_category']\n",
        "row = pd.Series(data=row_values, index=row_columns)\n",
        "#print(reliable_group(row))\n",
        "data['reliable'] = data.apply(reliable_group,axis=1)\n",
        "\n"
      ]
    },
    {
      "cell_type": "code",
      "execution_count": 34,
      "id": "6156094d",
      "metadata": {
        "colab": {
          "base_uri": "https://localhost:8080/"
        },
        "id": "6156094d",
        "outputId": "4602bfb5-09f3-4f57-b9c6-933a6f13e5bb"
      },
      "outputs": [
        {
          "output_type": "stream",
          "name": "stdout",
          "text": [
            "debt          debtor  notdebtor  total share_notdebtors\n",
            "reliable                                               \n",
            "not-reliable    1402      14791  16193            91.3%\n",
            "reliable         330       4808   5138            93.6%\n",
            "total           1732      19599  21331            91.9%\n"
          ]
        }
      ],
      "source": [
        "# Сделаем сводную таблицу по количеству взятых кредитых в зависимости от категории заемщика.\n",
        "\n",
        "data_pivot = data.pivot_table(index=['reliable'], columns='debt', values='total_income', \n",
        "                              aggfunc='count', fill_value= 0, margins = True, margins_name='total')\n",
        "data_pivot['share_notdebtors'] = data_pivot['notdebtor'] / data_pivot['total']\n",
        "data_pivot['share_notdebtors'] = data_pivot['share_notdebtors'].apply(lambda x: format(x, '.1%'))\n",
        "print(data_pivot)"
      ]
    },
    {
      "cell_type": "markdown",
      "id": "2fe99996",
      "metadata": {
        "id": "2fe99996"
      },
      "source": [
        "Таким образом, процент возврата кредита в срок заемщика подоходящего под указанныем выше категории составляет 93,6%, что выше среднего на ~ 2%"
      ]
    },
    {
      "cell_type": "markdown",
      "id": "6b0d8a83",
      "metadata": {
        "deletable": false,
        "editable": false,
        "id": "6b0d8a83"
      },
      "source": [
        "## Вывод"
      ]
    },
    {
      "cell_type": "markdown",
      "id": "6687b80c",
      "metadata": {
        "id": "6687b80c"
      },
      "source": [
        "**Цель исследования**\n",
        "\n",
        "Определить как влияет количество детей, семейное положение, уровень дохода и цель кредита на факт погашения кредита в срок.\n",
        "\n",
        "Для этого мы посмотрели как меняется доля закрытых без просрочек кредитов в зависимости от указанных параметров.\n",
        "\n",
        "Так как в принципе процент возврата кредита в срок высокий, радикальных отклонений в значениях возврата кредита в срок нет.\n",
        "Отличия в среднем до 2 процентов.\n",
        "\n",
        "Возврат кредита в срок выше:\n",
        "\n",
        "* при остсутвие детей \n",
        "* при семейном положение официальный брак, в разводе, вдова/вдовец\n",
        "* при целях кредита, связанных с недвижимостью и проведением свадьбы\n",
        "\n",
        "\n",
        "* в зависимости от дохода ситуация неоднозначная - при определенном диапазане уровня дохода\n",
        "вероятность возврата кредита в срок растет.\n",
        "\n"
      ]
    }
  ],
  "metadata": {
    "ExecuteTimeLog": [
      {
        "duration": 488,
        "start_time": "2022-09-13T08:59:53.232Z"
      },
      {
        "duration": 20,
        "start_time": "2022-09-13T08:59:53.722Z"
      },
      {
        "duration": 12,
        "start_time": "2022-09-13T08:59:53.743Z"
      },
      {
        "duration": 8,
        "start_time": "2022-09-13T08:59:53.757Z"
      },
      {
        "duration": 30,
        "start_time": "2022-09-13T08:59:53.767Z"
      },
      {
        "duration": 3,
        "start_time": "2022-09-13T08:59:53.799Z"
      },
      {
        "duration": 8,
        "start_time": "2022-09-13T08:59:53.821Z"
      },
      {
        "duration": 4,
        "start_time": "2022-09-13T08:59:53.830Z"
      },
      {
        "duration": 13,
        "start_time": "2022-09-13T08:59:53.836Z"
      },
      {
        "duration": 4,
        "start_time": "2022-09-13T08:59:53.852Z"
      },
      {
        "duration": 31,
        "start_time": "2022-09-13T08:59:53.857Z"
      },
      {
        "duration": 35,
        "start_time": "2022-09-13T08:59:53.889Z"
      },
      {
        "duration": 3,
        "start_time": "2022-09-13T08:59:53.925Z"
      },
      {
        "duration": 13,
        "start_time": "2022-09-13T08:59:53.930Z"
      },
      {
        "duration": 17,
        "start_time": "2022-09-13T08:59:53.945Z"
      },
      {
        "duration": 16,
        "start_time": "2022-09-13T08:59:53.964Z"
      },
      {
        "duration": 3,
        "start_time": "2022-09-13T08:59:53.981Z"
      },
      {
        "duration": 35,
        "start_time": "2022-09-13T08:59:53.986Z"
      },
      {
        "duration": 6,
        "start_time": "2022-09-13T08:59:54.023Z"
      },
      {
        "duration": 6,
        "start_time": "2022-09-13T08:59:54.030Z"
      },
      {
        "duration": 11,
        "start_time": "2022-09-13T08:59:54.037Z"
      },
      {
        "duration": 6,
        "start_time": "2022-09-13T08:59:54.050Z"
      },
      {
        "duration": 6,
        "start_time": "2022-09-13T08:59:54.058Z"
      },
      {
        "duration": 4,
        "start_time": "2022-09-13T08:59:54.065Z"
      },
      {
        "duration": 7,
        "start_time": "2022-09-13T08:59:54.070Z"
      },
      {
        "duration": 67,
        "start_time": "2022-09-13T09:16:52.651Z"
      },
      {
        "duration": 15,
        "start_time": "2022-09-13T09:20:10.998Z"
      },
      {
        "duration": 14,
        "start_time": "2022-09-13T09:20:15.133Z"
      },
      {
        "duration": 14,
        "start_time": "2022-09-13T09:20:54.659Z"
      },
      {
        "duration": 17,
        "start_time": "2022-09-13T09:22:10.354Z"
      },
      {
        "duration": 10,
        "start_time": "2022-09-13T09:22:25.366Z"
      },
      {
        "duration": 18,
        "start_time": "2022-09-13T09:22:49.949Z"
      },
      {
        "duration": 14,
        "start_time": "2022-09-13T09:27:19.897Z"
      },
      {
        "duration": 29,
        "start_time": "2022-09-13T09:29:38.921Z"
      },
      {
        "duration": 71,
        "start_time": "2022-09-13T09:34:40.706Z"
      },
      {
        "duration": 73,
        "start_time": "2022-09-13T09:34:53.082Z"
      },
      {
        "duration": 30,
        "start_time": "2022-09-13T09:35:21.765Z"
      },
      {
        "duration": 14,
        "start_time": "2022-09-13T09:37:12.961Z"
      },
      {
        "duration": 30,
        "start_time": "2022-09-13T09:41:57.489Z"
      },
      {
        "duration": 31,
        "start_time": "2022-09-13T09:45:33.717Z"
      },
      {
        "duration": 27,
        "start_time": "2022-09-13T09:47:30.748Z"
      },
      {
        "duration": 1763,
        "start_time": "2022-09-13T09:49:46.927Z"
      },
      {
        "duration": 32,
        "start_time": "2022-09-13T10:06:30.684Z"
      },
      {
        "duration": 27,
        "start_time": "2022-09-13T10:08:31.566Z"
      },
      {
        "duration": 94,
        "start_time": "2022-09-13T10:09:37.798Z"
      },
      {
        "duration": 8,
        "start_time": "2022-09-13T10:09:45.011Z"
      },
      {
        "duration": 8,
        "start_time": "2022-09-13T10:10:13.184Z"
      },
      {
        "duration": 27,
        "start_time": "2022-09-13T10:15:48.669Z"
      },
      {
        "duration": 1360,
        "start_time": "2022-09-13T10:21:32.085Z"
      },
      {
        "duration": 1503,
        "start_time": "2022-09-13T10:25:24.686Z"
      },
      {
        "duration": 81,
        "start_time": "2022-09-13T10:28:08.089Z"
      },
      {
        "duration": 3,
        "start_time": "2022-09-13T10:28:15.119Z"
      },
      {
        "duration": 7,
        "start_time": "2022-09-13T10:29:28.036Z"
      },
      {
        "duration": 4,
        "start_time": "2022-09-13T10:29:38.280Z"
      },
      {
        "duration": 7,
        "start_time": "2022-09-13T10:32:09.344Z"
      },
      {
        "duration": 10,
        "start_time": "2022-09-13T10:32:53.467Z"
      },
      {
        "duration": 28,
        "start_time": "2022-09-13T10:33:27.152Z"
      },
      {
        "duration": 40,
        "start_time": "2022-09-13T10:53:30.993Z"
      },
      {
        "duration": 38,
        "start_time": "2022-09-13T10:53:36.071Z"
      },
      {
        "duration": 27,
        "start_time": "2022-09-13T11:01:54.097Z"
      },
      {
        "duration": 28,
        "start_time": "2022-09-13T11:02:04.653Z"
      },
      {
        "duration": 434,
        "start_time": "2022-09-13T11:28:48.510Z"
      },
      {
        "duration": 31,
        "start_time": "2022-09-13T11:29:43.357Z"
      },
      {
        "duration": 33,
        "start_time": "2022-09-13T11:32:09.295Z"
      },
      {
        "duration": 33,
        "start_time": "2022-09-13T11:32:34.147Z"
      },
      {
        "duration": 30,
        "start_time": "2022-09-13T11:43:02.251Z"
      },
      {
        "duration": 32,
        "start_time": "2022-09-13T11:44:32.713Z"
      },
      {
        "duration": 74,
        "start_time": "2022-09-13T11:52:17.587Z"
      },
      {
        "duration": 11,
        "start_time": "2022-09-13T11:52:22.795Z"
      },
      {
        "duration": 11,
        "start_time": "2022-09-13T11:53:17.510Z"
      },
      {
        "duration": 10,
        "start_time": "2022-09-13T11:53:23.975Z"
      },
      {
        "duration": 13,
        "start_time": "2022-09-13T11:54:21.663Z"
      },
      {
        "duration": 14,
        "start_time": "2022-09-13T11:54:26.175Z"
      },
      {
        "duration": 11,
        "start_time": "2022-09-13T11:54:31.856Z"
      },
      {
        "duration": 10,
        "start_time": "2022-09-13T11:54:43.047Z"
      },
      {
        "duration": 9,
        "start_time": "2022-09-13T11:57:43.904Z"
      },
      {
        "duration": 12,
        "start_time": "2022-09-13T11:58:44.067Z"
      },
      {
        "duration": 11,
        "start_time": "2022-09-13T11:58:47.863Z"
      },
      {
        "duration": 14,
        "start_time": "2022-09-13T12:00:21.314Z"
      },
      {
        "duration": 86,
        "start_time": "2022-09-13T13:48:55.144Z"
      },
      {
        "duration": 117,
        "start_time": "2022-09-13T13:49:50.682Z"
      },
      {
        "duration": 87,
        "start_time": "2022-09-13T13:50:16.198Z"
      },
      {
        "duration": 10,
        "start_time": "2022-09-13T13:53:29.852Z"
      },
      {
        "duration": 5,
        "start_time": "2022-09-13T13:53:45.059Z"
      },
      {
        "duration": 4,
        "start_time": "2022-09-13T13:54:05.512Z"
      },
      {
        "duration": 245,
        "start_time": "2022-09-13T13:56:01.621Z"
      },
      {
        "duration": 281,
        "start_time": "2022-09-13T13:57:11.707Z"
      },
      {
        "duration": 282,
        "start_time": "2022-09-13T13:58:57.347Z"
      },
      {
        "duration": 7,
        "start_time": "2022-09-13T18:04:31.377Z"
      },
      {
        "duration": 12,
        "start_time": "2022-09-13T18:04:40.366Z"
      },
      {
        "duration": 10,
        "start_time": "2022-09-13T18:09:40.255Z"
      },
      {
        "duration": 9,
        "start_time": "2022-09-13T18:13:27.952Z"
      },
      {
        "duration": 11,
        "start_time": "2022-09-13T18:13:49.677Z"
      },
      {
        "duration": 11,
        "start_time": "2022-09-13T18:13:55.439Z"
      },
      {
        "duration": 5,
        "start_time": "2022-09-13T18:14:04.560Z"
      },
      {
        "duration": 1456,
        "start_time": "2022-09-13T18:14:11.211Z"
      },
      {
        "duration": 32,
        "start_time": "2022-09-13T18:15:07.020Z"
      },
      {
        "duration": 1348,
        "start_time": "2022-09-13T18:17:57.754Z"
      },
      {
        "duration": 30,
        "start_time": "2022-09-13T18:18:17.936Z"
      },
      {
        "duration": 2302,
        "start_time": "2022-09-13T18:18:37.993Z"
      },
      {
        "duration": 33,
        "start_time": "2022-09-13T18:18:50.176Z"
      },
      {
        "duration": 36,
        "start_time": "2022-09-13T18:19:37.812Z"
      },
      {
        "duration": 31,
        "start_time": "2022-09-13T18:20:03.319Z"
      },
      {
        "duration": 41,
        "start_time": "2022-09-13T18:20:24.419Z"
      },
      {
        "duration": 6,
        "start_time": "2022-09-13T18:22:05.383Z"
      },
      {
        "duration": 1418,
        "start_time": "2022-09-13T18:22:09.915Z"
      },
      {
        "duration": 30,
        "start_time": "2022-09-13T18:24:14.646Z"
      },
      {
        "duration": 1767,
        "start_time": "2022-09-13T18:25:48.103Z"
      },
      {
        "duration": 34,
        "start_time": "2022-09-13T18:25:59.789Z"
      },
      {
        "duration": 30,
        "start_time": "2022-09-13T18:26:21.173Z"
      },
      {
        "duration": 33,
        "start_time": "2022-09-13T18:26:33.470Z"
      },
      {
        "duration": 2119,
        "start_time": "2022-09-13T18:27:29.557Z"
      },
      {
        "duration": 252,
        "start_time": "2022-09-13T18:27:49.441Z"
      },
      {
        "duration": 12,
        "start_time": "2022-09-13T18:31:17.314Z"
      },
      {
        "duration": 10,
        "start_time": "2022-09-13T18:31:31.467Z"
      },
      {
        "duration": 68,
        "start_time": "2022-09-13T18:32:09.461Z"
      },
      {
        "duration": 78,
        "start_time": "2022-09-13T18:32:29.558Z"
      },
      {
        "duration": 13,
        "start_time": "2022-09-13T18:33:10.842Z"
      },
      {
        "duration": 12,
        "start_time": "2022-09-13T18:34:28.354Z"
      },
      {
        "duration": 4,
        "start_time": "2022-09-13T18:41:02.557Z"
      },
      {
        "duration": 43,
        "start_time": "2022-09-14T19:13:16.969Z"
      },
      {
        "duration": 5,
        "start_time": "2022-09-14T19:13:29.909Z"
      },
      {
        "duration": 490,
        "start_time": "2022-09-14T19:13:56.818Z"
      },
      {
        "duration": 23,
        "start_time": "2022-09-14T19:14:00.008Z"
      },
      {
        "duration": 16,
        "start_time": "2022-09-14T19:14:01.850Z"
      },
      {
        "duration": 9,
        "start_time": "2022-09-14T19:14:03.963Z"
      },
      {
        "duration": 32,
        "start_time": "2022-09-14T19:14:04.307Z"
      },
      {
        "duration": 4,
        "start_time": "2022-09-14T19:14:04.834Z"
      },
      {
        "duration": 8,
        "start_time": "2022-09-14T19:14:05.174Z"
      },
      {
        "duration": 4,
        "start_time": "2022-09-14T19:14:05.703Z"
      },
      {
        "duration": 7,
        "start_time": "2022-09-14T19:14:06.188Z"
      },
      {
        "duration": 4,
        "start_time": "2022-09-14T19:14:06.535Z"
      },
      {
        "duration": 31,
        "start_time": "2022-09-14T19:14:07.043Z"
      },
      {
        "duration": 9,
        "start_time": "2022-09-14T19:14:08.048Z"
      },
      {
        "duration": 3,
        "start_time": "2022-09-14T19:14:08.683Z"
      },
      {
        "duration": 10,
        "start_time": "2022-09-14T19:14:09.510Z"
      },
      {
        "duration": 19,
        "start_time": "2022-09-14T19:14:10.409Z"
      },
      {
        "duration": 16,
        "start_time": "2022-09-14T19:14:10.805Z"
      },
      {
        "duration": 3,
        "start_time": "2022-09-14T19:14:12.743Z"
      },
      {
        "duration": 10,
        "start_time": "2022-09-14T19:14:13.153Z"
      },
      {
        "duration": 6,
        "start_time": "2022-09-14T19:14:14.034Z"
      },
      {
        "duration": 3,
        "start_time": "2022-09-14T19:14:15.179Z"
      },
      {
        "duration": 7,
        "start_time": "2022-09-14T19:14:15.582Z"
      },
      {
        "duration": 6,
        "start_time": "2022-09-14T19:14:16.134Z"
      },
      {
        "duration": 41,
        "start_time": "2022-09-14T19:14:18.367Z"
      },
      {
        "duration": 39,
        "start_time": "2022-09-14T19:14:21.879Z"
      },
      {
        "duration": 38,
        "start_time": "2022-09-14T19:14:23.519Z"
      },
      {
        "duration": 5,
        "start_time": "2022-09-14T19:14:25.761Z"
      },
      {
        "duration": 35,
        "start_time": "2022-09-14T19:23:05.103Z"
      },
      {
        "duration": 14,
        "start_time": "2022-09-14T19:23:07.814Z"
      },
      {
        "duration": 257,
        "start_time": "2022-09-14T19:23:08.735Z"
      },
      {
        "duration": 120,
        "start_time": "2022-09-14T20:04:31.203Z"
      },
      {
        "duration": 87,
        "start_time": "2022-09-14T20:04:34.913Z"
      },
      {
        "duration": 49,
        "start_time": "2022-09-14T20:20:46.393Z"
      },
      {
        "duration": 39,
        "start_time": "2022-09-14T20:21:07.250Z"
      },
      {
        "duration": 16,
        "start_time": "2022-09-14T20:23:18.616Z"
      },
      {
        "duration": 470,
        "start_time": "2022-09-15T07:07:25.047Z"
      },
      {
        "duration": 25,
        "start_time": "2022-09-15T07:07:25.519Z"
      },
      {
        "duration": 17,
        "start_time": "2022-09-15T07:07:25.545Z"
      },
      {
        "duration": 10,
        "start_time": "2022-09-15T07:07:25.563Z"
      },
      {
        "duration": 56,
        "start_time": "2022-09-15T07:07:25.576Z"
      },
      {
        "duration": 3,
        "start_time": "2022-09-15T07:07:25.635Z"
      },
      {
        "duration": 18,
        "start_time": "2022-09-15T07:07:25.640Z"
      },
      {
        "duration": 5,
        "start_time": "2022-09-15T07:07:25.660Z"
      },
      {
        "duration": 9,
        "start_time": "2022-09-15T07:07:25.666Z"
      },
      {
        "duration": 4,
        "start_time": "2022-09-15T07:07:25.677Z"
      },
      {
        "duration": 63,
        "start_time": "2022-09-15T07:07:25.683Z"
      },
      {
        "duration": 10,
        "start_time": "2022-09-15T07:07:25.748Z"
      },
      {
        "duration": 5,
        "start_time": "2022-09-15T07:07:25.760Z"
      },
      {
        "duration": 11,
        "start_time": "2022-09-15T07:07:25.769Z"
      },
      {
        "duration": 42,
        "start_time": "2022-09-15T07:07:25.782Z"
      },
      {
        "duration": 20,
        "start_time": "2022-09-15T07:07:25.826Z"
      },
      {
        "duration": 4,
        "start_time": "2022-09-15T07:07:25.847Z"
      },
      {
        "duration": 16,
        "start_time": "2022-09-15T07:07:25.852Z"
      },
      {
        "duration": 6,
        "start_time": "2022-09-15T07:07:25.869Z"
      },
      {
        "duration": 4,
        "start_time": "2022-09-15T07:07:25.876Z"
      },
      {
        "duration": 40,
        "start_time": "2022-09-15T07:07:25.881Z"
      },
      {
        "duration": 12,
        "start_time": "2022-09-15T07:07:25.923Z"
      },
      {
        "duration": 47,
        "start_time": "2022-09-15T07:07:25.936Z"
      },
      {
        "duration": 39,
        "start_time": "2022-09-15T07:07:25.985Z"
      },
      {
        "duration": 37,
        "start_time": "2022-09-15T07:07:26.026Z"
      },
      {
        "duration": 55,
        "start_time": "2022-09-15T07:07:26.065Z"
      },
      {
        "duration": 15,
        "start_time": "2022-09-15T07:07:26.122Z"
      },
      {
        "duration": 79,
        "start_time": "2022-09-15T07:07:26.139Z"
      },
      {
        "duration": 0,
        "start_time": "2022-09-15T07:07:26.220Z"
      },
      {
        "duration": 132,
        "start_time": "2022-09-15T07:11:52.675Z"
      },
      {
        "duration": 64,
        "start_time": "2022-09-15T07:12:40.414Z"
      },
      {
        "duration": 75,
        "start_time": "2022-09-15T07:13:09.351Z"
      },
      {
        "duration": 221,
        "start_time": "2022-09-15T07:14:02.306Z"
      },
      {
        "duration": 506,
        "start_time": "2022-09-15T07:14:36.675Z"
      },
      {
        "duration": 184,
        "start_time": "2022-09-15T07:14:57.328Z"
      },
      {
        "duration": 510,
        "start_time": "2022-09-15T17:29:09.633Z"
      },
      {
        "duration": 27,
        "start_time": "2022-09-15T17:29:13.228Z"
      },
      {
        "duration": 19,
        "start_time": "2022-09-15T17:29:21.313Z"
      },
      {
        "duration": 15,
        "start_time": "2022-09-15T17:29:27.844Z"
      },
      {
        "duration": 77,
        "start_time": "2022-09-15T17:33:19.404Z"
      },
      {
        "duration": 11,
        "start_time": "2022-09-15T17:33:40.903Z"
      },
      {
        "duration": 9,
        "start_time": "2022-09-15T17:34:03.068Z"
      },
      {
        "duration": 11,
        "start_time": "2022-09-15T17:34:11.600Z"
      },
      {
        "duration": 29,
        "start_time": "2022-09-15T19:44:47.496Z"
      },
      {
        "duration": 3,
        "start_time": "2022-09-15T19:44:51.890Z"
      },
      {
        "duration": 7,
        "start_time": "2022-09-15T19:44:53.956Z"
      },
      {
        "duration": 4,
        "start_time": "2022-09-15T19:44:59.266Z"
      },
      {
        "duration": 25,
        "start_time": "2022-09-15T19:45:01.647Z"
      },
      {
        "duration": 4,
        "start_time": "2022-09-15T19:45:04.327Z"
      },
      {
        "duration": 72,
        "start_time": "2022-09-15T19:45:11.810Z"
      },
      {
        "duration": 14,
        "start_time": "2022-09-15T19:45:11.884Z"
      },
      {
        "duration": 30,
        "start_time": "2022-09-15T19:45:11.900Z"
      },
      {
        "duration": 22,
        "start_time": "2022-09-15T19:45:11.932Z"
      },
      {
        "duration": 48,
        "start_time": "2022-09-15T19:45:11.955Z"
      },
      {
        "duration": 3,
        "start_time": "2022-09-15T19:45:12.004Z"
      },
      {
        "duration": 14,
        "start_time": "2022-09-15T19:45:12.009Z"
      },
      {
        "duration": 13,
        "start_time": "2022-09-15T19:45:12.024Z"
      },
      {
        "duration": 8,
        "start_time": "2022-09-15T19:45:12.038Z"
      },
      {
        "duration": 15,
        "start_time": "2022-09-15T19:45:12.048Z"
      },
      {
        "duration": 35,
        "start_time": "2022-09-15T19:45:12.064Z"
      },
      {
        "duration": 9,
        "start_time": "2022-09-15T19:45:12.100Z"
      },
      {
        "duration": 15,
        "start_time": "2022-09-15T19:45:12.110Z"
      },
      {
        "duration": 19,
        "start_time": "2022-09-15T19:45:12.126Z"
      },
      {
        "duration": 34,
        "start_time": "2022-09-15T19:45:12.146Z"
      },
      {
        "duration": 19,
        "start_time": "2022-09-15T19:45:12.182Z"
      },
      {
        "duration": 4,
        "start_time": "2022-09-15T19:45:12.202Z"
      },
      {
        "duration": 20,
        "start_time": "2022-09-15T19:45:12.207Z"
      },
      {
        "duration": 11,
        "start_time": "2022-09-15T19:45:12.229Z"
      },
      {
        "duration": 13,
        "start_time": "2022-09-15T19:45:12.242Z"
      },
      {
        "duration": 11,
        "start_time": "2022-09-15T19:45:12.256Z"
      },
      {
        "duration": 20,
        "start_time": "2022-09-15T19:45:12.268Z"
      },
      {
        "duration": 39,
        "start_time": "2022-09-15T19:45:12.290Z"
      },
      {
        "duration": 36,
        "start_time": "2022-09-15T19:45:12.330Z"
      },
      {
        "duration": 693,
        "start_time": "2022-09-15T19:45:12.368Z"
      },
      {
        "duration": 38,
        "start_time": "2022-09-15T19:45:13.063Z"
      },
      {
        "duration": 47,
        "start_time": "2022-09-15T19:45:13.102Z"
      },
      {
        "duration": 15,
        "start_time": "2022-09-15T19:45:13.152Z"
      },
      {
        "duration": 306,
        "start_time": "2022-09-15T19:45:13.169Z"
      },
      {
        "duration": 67,
        "start_time": "2022-09-15T20:18:31.829Z"
      },
      {
        "duration": 92,
        "start_time": "2022-09-15T20:19:28.722Z"
      },
      {
        "duration": 68,
        "start_time": "2022-09-15T20:21:28.115Z"
      },
      {
        "duration": 38,
        "start_time": "2022-09-15T20:37:41.394Z"
      },
      {
        "duration": 193,
        "start_time": "2022-09-15T20:38:11.691Z"
      },
      {
        "duration": 36,
        "start_time": "2022-09-15T20:38:59.119Z"
      },
      {
        "duration": 38,
        "start_time": "2022-09-15T20:40:11.869Z"
      },
      {
        "duration": 38,
        "start_time": "2022-09-15T20:40:26.676Z"
      },
      {
        "duration": 16,
        "start_time": "2022-09-15T20:44:54.077Z"
      },
      {
        "duration": 85,
        "start_time": "2022-09-15T20:48:34.080Z"
      },
      {
        "duration": 242,
        "start_time": "2022-09-15T20:52:09.906Z"
      },
      {
        "duration": 258,
        "start_time": "2022-09-15T20:52:13.414Z"
      },
      {
        "duration": 32,
        "start_time": "2022-09-15T20:53:46.991Z"
      },
      {
        "duration": 205,
        "start_time": "2022-09-15T20:53:49.586Z"
      },
      {
        "duration": 94,
        "start_time": "2022-09-15T20:54:57.600Z"
      },
      {
        "duration": 35,
        "start_time": "2022-09-15T20:55:48.440Z"
      },
      {
        "duration": 208,
        "start_time": "2022-09-15T20:55:53.547Z"
      },
      {
        "duration": 32,
        "start_time": "2022-09-15T20:55:55.877Z"
      },
      {
        "duration": 541,
        "start_time": "2022-09-16T08:34:55.480Z"
      },
      {
        "duration": 23,
        "start_time": "2022-09-16T08:34:56.023Z"
      },
      {
        "duration": 18,
        "start_time": "2022-09-16T08:34:56.047Z"
      },
      {
        "duration": 55,
        "start_time": "2022-09-16T08:34:56.066Z"
      },
      {
        "duration": 55,
        "start_time": "2022-09-16T08:34:56.123Z"
      },
      {
        "duration": 3,
        "start_time": "2022-09-16T08:34:56.180Z"
      },
      {
        "duration": 33,
        "start_time": "2022-09-16T08:34:56.185Z"
      },
      {
        "duration": 17,
        "start_time": "2022-09-16T08:34:56.220Z"
      },
      {
        "duration": 8,
        "start_time": "2022-09-16T08:34:56.239Z"
      },
      {
        "duration": 16,
        "start_time": "2022-09-16T08:34:56.249Z"
      },
      {
        "duration": 53,
        "start_time": "2022-09-16T08:34:56.267Z"
      },
      {
        "duration": 10,
        "start_time": "2022-09-16T08:34:56.322Z"
      },
      {
        "duration": 12,
        "start_time": "2022-09-16T08:34:56.333Z"
      },
      {
        "duration": 15,
        "start_time": "2022-09-16T08:34:56.348Z"
      },
      {
        "duration": 63,
        "start_time": "2022-09-16T08:34:56.365Z"
      },
      {
        "duration": 16,
        "start_time": "2022-09-16T08:34:56.430Z"
      },
      {
        "duration": 20,
        "start_time": "2022-09-16T08:34:56.447Z"
      },
      {
        "duration": 53,
        "start_time": "2022-09-16T08:34:56.468Z"
      },
      {
        "duration": 23,
        "start_time": "2022-09-16T08:34:56.522Z"
      },
      {
        "duration": 23,
        "start_time": "2022-09-16T08:34:56.547Z"
      },
      {
        "duration": 46,
        "start_time": "2022-09-16T08:34:56.571Z"
      },
      {
        "duration": 33,
        "start_time": "2022-09-16T08:34:56.619Z"
      },
      {
        "duration": 70,
        "start_time": "2022-09-16T08:34:56.654Z"
      },
      {
        "duration": 38,
        "start_time": "2022-09-16T08:34:56.726Z"
      },
      {
        "duration": 808,
        "start_time": "2022-09-16T08:34:56.766Z"
      },
      {
        "duration": 53,
        "start_time": "2022-09-16T08:34:57.576Z"
      },
      {
        "duration": 41,
        "start_time": "2022-09-16T08:34:57.630Z"
      },
      {
        "duration": 39,
        "start_time": "2022-09-16T08:34:57.673Z"
      },
      {
        "duration": 272,
        "start_time": "2022-09-16T08:34:57.714Z"
      },
      {
        "duration": 53,
        "start_time": "2022-09-16T08:34:57.988Z"
      },
      {
        "duration": 72,
        "start_time": "2023-01-08T11:34:43.900Z"
      },
      {
        "duration": 0,
        "start_time": "2023-01-08T11:34:43.974Z"
      },
      {
        "duration": 0,
        "start_time": "2023-01-08T11:34:43.975Z"
      },
      {
        "duration": 0,
        "start_time": "2023-01-08T11:34:43.976Z"
      },
      {
        "duration": 0,
        "start_time": "2023-01-08T11:34:43.977Z"
      },
      {
        "duration": 0,
        "start_time": "2023-01-08T11:34:43.979Z"
      },
      {
        "duration": 0,
        "start_time": "2023-01-08T11:34:43.980Z"
      },
      {
        "duration": 0,
        "start_time": "2023-01-08T11:34:43.981Z"
      },
      {
        "duration": 0,
        "start_time": "2023-01-08T11:34:43.982Z"
      },
      {
        "duration": 0,
        "start_time": "2023-01-08T11:34:43.983Z"
      },
      {
        "duration": 0,
        "start_time": "2023-01-08T11:34:43.984Z"
      },
      {
        "duration": 0,
        "start_time": "2023-01-08T11:34:43.985Z"
      },
      {
        "duration": 0,
        "start_time": "2023-01-08T11:34:43.986Z"
      },
      {
        "duration": 0,
        "start_time": "2023-01-08T11:34:43.987Z"
      },
      {
        "duration": 0,
        "start_time": "2023-01-08T11:34:43.988Z"
      },
      {
        "duration": 0,
        "start_time": "2023-01-08T11:34:43.989Z"
      },
      {
        "duration": 0,
        "start_time": "2023-01-08T11:34:43.990Z"
      },
      {
        "duration": 0,
        "start_time": "2023-01-08T11:34:43.991Z"
      },
      {
        "duration": 0,
        "start_time": "2023-01-08T11:34:43.991Z"
      },
      {
        "duration": 0,
        "start_time": "2023-01-08T11:34:43.992Z"
      },
      {
        "duration": 0,
        "start_time": "2023-01-08T11:34:43.993Z"
      },
      {
        "duration": 0,
        "start_time": "2023-01-08T11:34:43.995Z"
      },
      {
        "duration": 0,
        "start_time": "2023-01-08T11:34:43.996Z"
      },
      {
        "duration": 0,
        "start_time": "2023-01-08T11:34:43.998Z"
      },
      {
        "duration": 0,
        "start_time": "2023-01-08T11:34:43.999Z"
      },
      {
        "duration": 0,
        "start_time": "2023-01-08T11:34:44.000Z"
      },
      {
        "duration": 0,
        "start_time": "2023-01-08T11:34:44.001Z"
      },
      {
        "duration": 52,
        "start_time": "2023-01-08T11:34:44.159Z"
      },
      {
        "duration": 7,
        "start_time": "2023-01-08T11:34:44.369Z"
      },
      {
        "duration": 0,
        "start_time": "2023-01-08T11:34:44.378Z"
      },
      {
        "duration": 0,
        "start_time": "2023-01-08T11:34:44.379Z"
      },
      {
        "duration": 629,
        "start_time": "2023-01-08T11:35:08.540Z"
      },
      {
        "duration": 23,
        "start_time": "2023-01-08T11:35:09.171Z"
      },
      {
        "duration": 17,
        "start_time": "2023-01-08T11:35:09.196Z"
      },
      {
        "duration": 22,
        "start_time": "2023-01-08T11:35:09.215Z"
      },
      {
        "duration": 36,
        "start_time": "2023-01-08T11:35:09.240Z"
      },
      {
        "duration": 3,
        "start_time": "2023-01-08T11:35:09.278Z"
      },
      {
        "duration": 11,
        "start_time": "2023-01-08T11:35:09.283Z"
      },
      {
        "duration": 4,
        "start_time": "2023-01-08T11:35:09.296Z"
      },
      {
        "duration": 37,
        "start_time": "2023-01-08T11:35:09.301Z"
      },
      {
        "duration": 5,
        "start_time": "2023-01-08T11:35:09.339Z"
      },
      {
        "duration": 35,
        "start_time": "2023-01-08T11:35:09.346Z"
      },
      {
        "duration": 10,
        "start_time": "2023-01-08T11:35:09.382Z"
      },
      {
        "duration": 4,
        "start_time": "2023-01-08T11:35:09.394Z"
      },
      {
        "duration": 37,
        "start_time": "2023-01-08T11:35:09.401Z"
      },
      {
        "duration": 25,
        "start_time": "2023-01-08T11:35:09.439Z"
      },
      {
        "duration": 16,
        "start_time": "2023-01-08T11:35:09.466Z"
      },
      {
        "duration": 4,
        "start_time": "2023-01-08T11:35:09.484Z"
      },
      {
        "duration": 15,
        "start_time": "2023-01-08T11:35:09.490Z"
      },
      {
        "duration": 34,
        "start_time": "2023-01-08T11:35:09.506Z"
      },
      {
        "duration": 8,
        "start_time": "2023-01-08T11:35:09.547Z"
      },
      {
        "duration": 12,
        "start_time": "2023-01-08T11:35:09.557Z"
      },
      {
        "duration": 8,
        "start_time": "2023-01-08T11:35:09.571Z"
      },
      {
        "duration": 41,
        "start_time": "2023-01-08T11:35:09.581Z"
      },
      {
        "duration": 57,
        "start_time": "2023-01-08T11:35:09.624Z"
      },
      {
        "duration": 774,
        "start_time": "2023-01-08T11:35:09.683Z"
      },
      {
        "duration": 43,
        "start_time": "2023-01-08T11:35:10.459Z"
      },
      {
        "duration": 57,
        "start_time": "2023-01-08T11:35:10.504Z"
      },
      {
        "duration": 16,
        "start_time": "2023-01-08T11:35:10.563Z"
      },
      {
        "duration": 254,
        "start_time": "2023-01-08T11:35:10.580Z"
      },
      {
        "duration": 45,
        "start_time": "2023-01-08T11:35:10.838Z"
      }
    ],
    "colab": {
      "provenance": []
    },
    "kernelspec": {
      "display_name": "Python 3 (ipykernel)",
      "language": "python",
      "name": "python3"
    },
    "language_info": {
      "codemirror_mode": {
        "name": "ipython",
        "version": 3
      },
      "file_extension": ".py",
      "mimetype": "text/x-python",
      "name": "python",
      "nbconvert_exporter": "python",
      "pygments_lexer": "ipython3",
      "version": "3.9.5"
    },
    "toc": {
      "base_numbering": 1,
      "nav_menu": {},
      "number_sections": true,
      "sideBar": true,
      "skip_h1_title": true,
      "title_cell": "Содержание",
      "title_sidebar": "Contents",
      "toc_cell": true,
      "toc_position": {
        "height": "calc(100% - 180px)",
        "left": "10px",
        "top": "150px",
        "width": "366.188px"
      },
      "toc_section_display": true,
      "toc_window_display": false
    }
  },
  "nbformat": 4,
  "nbformat_minor": 5
}