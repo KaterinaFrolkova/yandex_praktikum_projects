{
  "cells": [
    {
      "cell_type": "markdown",
      "source": [
        ">[Сравнение тарифов мобильного оператора](#scrollTo=FH4tBijxGfNF)\n",
        "\n",
        ">>[Общая информация](#scrollTo=duvjDaN3GfNH)\n",
        "\n",
        ">>[Предобработка данных](#scrollTo=CB85_sLsGfNN)\n",
        "\n",
        ">>>[Расчет ежемесячной выручки](#scrollTo=eH9WaNSa-972)\n",
        "\n",
        ">>[Исследовательский анализ данных](#scrollTo=71axh75nGfNQ)\n",
        "\n",
        ">>>[Анализ звонков](#scrollTo=s6hwmzeX-NDd)\n",
        "\n",
        ">>>[Анализ cообщений](#scrollTo=IUTi0Swz-SXS)\n",
        "\n",
        ">>>[Анализ интернет-трафика](#scrollTo=4Y3jLDj9_U_V)\n",
        "\n",
        ">>>[Анализ выручки на пользователя](#scrollTo=Ip6g5eYiWv7e)\n",
        "\n",
        ">>[Проверка гипотез](#scrollTo=YCzIfHYRGfNU)\n",
        "\n",
        ">>[Вывод](#scrollTo=EHkZrnD_v9Dz)\n",
        "\n"
      ],
      "metadata": {
        "colab_type": "toc",
        "id": "NJz6dnr5VMWS"
      }
    },
    {
      "cell_type": "markdown",
      "metadata": {
        "id": "FH4tBijxGfNF"
      },
      "source": [
        "# Сравнение тарифов мобильного оператора"
      ]
    },
    {
      "cell_type": "markdown",
      "source": [
        "В нашем распоряжении данные 500 пользователей мобильного оператора «Мегалайна»: за 2018-й год по двум тарифам - «Ультра» и «Смарт»  - количество звонков и сообщений.\n",
        "\n",
        "**Цель исследования** - выбор тарифа, приносящего больший доход\n",
        "\n",
        "**Оцениваемые параметры:**\n",
        "\n",
        " * количество сделанных звонков разговора для каждого пользователя\n",
        " * количество израсходованных минут разговора для каждого пользователя\n",
        " * количество отправленных сообщений для каждого пользователя\n",
        " * количество потраченных мегабайт для каждого пользователя\n",
        " * помесячная выручки \n",
        "\n",
        "**План исследования:**\n",
        "\n",
        " * оценка различий в поведении пользователей в зависимости от тарифов\n",
        " * расчет помесячной выручки \n",
        " * проверка гипотез\n",
        "  * средняя выручка с пользователей тарифов «Ультра» и «Смарт» различается\n",
        "  * средняя выручка с пользователей из Москвы отличается от выручки с пользователей других регионов\n",
        "\n"
      ],
      "metadata": {
        "id": "ojDF-YYtKeNY"
      }
    },
    {
      "cell_type": "code",
      "execution_count": 4,
      "metadata": {
        "deletable": false,
        "id": "AdqiO-SnGfNG"
      },
      "outputs": [],
      "source": [
        "# загрузим библиотеки\n",
        "import pandas as pd\n",
        "import numpy as np\n",
        "import seaborn as sns\n",
        "import matplotlib.pyplot as plt\n",
        "from scipy import stats as st\n"
      ]
    },
    {
      "cell_type": "markdown",
      "metadata": {
        "deletable": false,
        "editable": false,
        "id": "duvjDaN3GfNH"
      },
      "source": [
        "## Общая информация"
      ]
    },
    {
      "cell_type": "code",
      "source": [
        "# загрузим данные\n",
        "calls = pd.read_csv('/datasets/calls.csv')\n",
        "sessions = pd.read_csv('/datasets/internet.csv')\n",
        "messages = pd.read_csv('/datasets/messages.csv')\n",
        "tariffs = pd.read_csv('/datasets/tariffs.csv')\n",
        "users = pd.read_csv('/datasets/users.csv')\n"
      ],
      "metadata": {
        "id": "7hKwlfIgI2iH"
      },
      "execution_count": 3,
      "outputs": []
    },
    {
      "cell_type": "code",
      "execution_count": 5,
      "metadata": {
        "deletable": false,
        "colab": {
          "base_uri": "https://localhost:8080/",
          "height": 206
        },
        "id": "4miZKGUPGfNI",
        "outputId": "0bb72ce4-9853-4729-f2ba-673df91c0b47"
      },
      "outputs": [
        {
          "output_type": "execute_result",
          "data": {
            "text/plain": [
              "       id   call_date  duration  user_id\n",
              "0  1000_0  2018-07-25      0.00     1000\n",
              "1  1000_1  2018-08-17      0.00     1000\n",
              "2  1000_2  2018-06-11      2.85     1000\n",
              "3  1000_3  2018-09-21     13.80     1000\n",
              "4  1000_4  2018-12-15      5.18     1000"
            ],
            "text/html": [
              "\n",
              "  <div id=\"df-d14b97df-0569-4315-a3b2-acdebc2f0422\">\n",
              "    <div class=\"colab-df-container\">\n",
              "      <div>\n",
              "<style scoped>\n",
              "    .dataframe tbody tr th:only-of-type {\n",
              "        vertical-align: middle;\n",
              "    }\n",
              "\n",
              "    .dataframe tbody tr th {\n",
              "        vertical-align: top;\n",
              "    }\n",
              "\n",
              "    .dataframe thead th {\n",
              "        text-align: right;\n",
              "    }\n",
              "</style>\n",
              "<table border=\"1\" class=\"dataframe\">\n",
              "  <thead>\n",
              "    <tr style=\"text-align: right;\">\n",
              "      <th></th>\n",
              "      <th>id</th>\n",
              "      <th>call_date</th>\n",
              "      <th>duration</th>\n",
              "      <th>user_id</th>\n",
              "    </tr>\n",
              "  </thead>\n",
              "  <tbody>\n",
              "    <tr>\n",
              "      <th>0</th>\n",
              "      <td>1000_0</td>\n",
              "      <td>2018-07-25</td>\n",
              "      <td>0.00</td>\n",
              "      <td>1000</td>\n",
              "    </tr>\n",
              "    <tr>\n",
              "      <th>1</th>\n",
              "      <td>1000_1</td>\n",
              "      <td>2018-08-17</td>\n",
              "      <td>0.00</td>\n",
              "      <td>1000</td>\n",
              "    </tr>\n",
              "    <tr>\n",
              "      <th>2</th>\n",
              "      <td>1000_2</td>\n",
              "      <td>2018-06-11</td>\n",
              "      <td>2.85</td>\n",
              "      <td>1000</td>\n",
              "    </tr>\n",
              "    <tr>\n",
              "      <th>3</th>\n",
              "      <td>1000_3</td>\n",
              "      <td>2018-09-21</td>\n",
              "      <td>13.80</td>\n",
              "      <td>1000</td>\n",
              "    </tr>\n",
              "    <tr>\n",
              "      <th>4</th>\n",
              "      <td>1000_4</td>\n",
              "      <td>2018-12-15</td>\n",
              "      <td>5.18</td>\n",
              "      <td>1000</td>\n",
              "    </tr>\n",
              "  </tbody>\n",
              "</table>\n",
              "</div>\n",
              "      <button class=\"colab-df-convert\" onclick=\"convertToInteractive('df-d14b97df-0569-4315-a3b2-acdebc2f0422')\"\n",
              "              title=\"Convert this dataframe to an interactive table.\"\n",
              "              style=\"display:none;\">\n",
              "        \n",
              "  <svg xmlns=\"http://www.w3.org/2000/svg\" height=\"24px\"viewBox=\"0 0 24 24\"\n",
              "       width=\"24px\">\n",
              "    <path d=\"M0 0h24v24H0V0z\" fill=\"none\"/>\n",
              "    <path d=\"M18.56 5.44l.94 2.06.94-2.06 2.06-.94-2.06-.94-.94-2.06-.94 2.06-2.06.94zm-11 1L8.5 8.5l.94-2.06 2.06-.94-2.06-.94L8.5 2.5l-.94 2.06-2.06.94zm10 10l.94 2.06.94-2.06 2.06-.94-2.06-.94-.94-2.06-.94 2.06-2.06.94z\"/><path d=\"M17.41 7.96l-1.37-1.37c-.4-.4-.92-.59-1.43-.59-.52 0-1.04.2-1.43.59L10.3 9.45l-7.72 7.72c-.78.78-.78 2.05 0 2.83L4 21.41c.39.39.9.59 1.41.59.51 0 1.02-.2 1.41-.59l7.78-7.78 2.81-2.81c.8-.78.8-2.07 0-2.86zM5.41 20L4 18.59l7.72-7.72 1.47 1.35L5.41 20z\"/>\n",
              "  </svg>\n",
              "      </button>\n",
              "      \n",
              "  <style>\n",
              "    .colab-df-container {\n",
              "      display:flex;\n",
              "      flex-wrap:wrap;\n",
              "      gap: 12px;\n",
              "    }\n",
              "\n",
              "    .colab-df-convert {\n",
              "      background-color: #E8F0FE;\n",
              "      border: none;\n",
              "      border-radius: 50%;\n",
              "      cursor: pointer;\n",
              "      display: none;\n",
              "      fill: #1967D2;\n",
              "      height: 32px;\n",
              "      padding: 0 0 0 0;\n",
              "      width: 32px;\n",
              "    }\n",
              "\n",
              "    .colab-df-convert:hover {\n",
              "      background-color: #E2EBFA;\n",
              "      box-shadow: 0px 1px 2px rgba(60, 64, 67, 0.3), 0px 1px 3px 1px rgba(60, 64, 67, 0.15);\n",
              "      fill: #174EA6;\n",
              "    }\n",
              "\n",
              "    [theme=dark] .colab-df-convert {\n",
              "      background-color: #3B4455;\n",
              "      fill: #D2E3FC;\n",
              "    }\n",
              "\n",
              "    [theme=dark] .colab-df-convert:hover {\n",
              "      background-color: #434B5C;\n",
              "      box-shadow: 0px 1px 3px 1px rgba(0, 0, 0, 0.15);\n",
              "      filter: drop-shadow(0px 1px 2px rgba(0, 0, 0, 0.3));\n",
              "      fill: #FFFFFF;\n",
              "    }\n",
              "  </style>\n",
              "\n",
              "      <script>\n",
              "        const buttonEl =\n",
              "          document.querySelector('#df-d14b97df-0569-4315-a3b2-acdebc2f0422 button.colab-df-convert');\n",
              "        buttonEl.style.display =\n",
              "          google.colab.kernel.accessAllowed ? 'block' : 'none';\n",
              "\n",
              "        async function convertToInteractive(key) {\n",
              "          const element = document.querySelector('#df-d14b97df-0569-4315-a3b2-acdebc2f0422');\n",
              "          const dataTable =\n",
              "            await google.colab.kernel.invokeFunction('convertToInteractive',\n",
              "                                                     [key], {});\n",
              "          if (!dataTable) return;\n",
              "\n",
              "          const docLinkHtml = 'Like what you see? Visit the ' +\n",
              "            '<a target=\"_blank\" href=https://colab.research.google.com/notebooks/data_table.ipynb>data table notebook</a>'\n",
              "            + ' to learn more about interactive tables.';\n",
              "          element.innerHTML = '';\n",
              "          dataTable['output_type'] = 'display_data';\n",
              "          await google.colab.output.renderOutput(dataTable, element);\n",
              "          const docLink = document.createElement('div');\n",
              "          docLink.innerHTML = docLinkHtml;\n",
              "          element.appendChild(docLink);\n",
              "        }\n",
              "      </script>\n",
              "    </div>\n",
              "  </div>\n",
              "  "
            ]
          },
          "metadata": {},
          "execution_count": 5
        }
      ],
      "source": [
        "calls.head()"
      ]
    },
    {
      "cell_type": "code",
      "execution_count": 6,
      "metadata": {
        "deletable": false,
        "colab": {
          "base_uri": "https://localhost:8080/"
        },
        "id": "FVEANn90GfNJ",
        "outputId": "123ee145-0645-41d5-e50c-1237f4a81564"
      },
      "outputs": [
        {
          "output_type": "stream",
          "name": "stdout",
          "text": [
            "<class 'pandas.core.frame.DataFrame'>\n",
            "RangeIndex: 202607 entries, 0 to 202606\n",
            "Data columns (total 4 columns):\n",
            " #   Column     Non-Null Count   Dtype  \n",
            "---  ------     --------------   -----  \n",
            " 0   id         202607 non-null  object \n",
            " 1   call_date  202607 non-null  object \n",
            " 2   duration   202607 non-null  float64\n",
            " 3   user_id    202607 non-null  int64  \n",
            "dtypes: float64(1), int64(1), object(2)\n",
            "memory usage: 6.2+ MB\n"
          ]
        }
      ],
      "source": [
        "calls.info()"
      ]
    },
    {
      "cell_type": "markdown",
      "source": [
        "В таблице `calls` содержится информация о звонках  \n",
        "Согласно документации  к данным  \n",
        " * `id` — уникальный номер звонка\n",
        " * `call_date` — дата звонка\n",
        " * `duration` — длительность звонка в минутах\n",
        " * `user_id` — идентификатор пользователя, сделавшего звонок\n",
        "\n",
        "`call_date` небходимо преобразовать в формат дат, остальное верно\n",
        "\n"
      ],
      "metadata": {
        "id": "HDfNOGcYP410"
      }
    },
    {
      "cell_type": "markdown",
      "metadata": {
        "deletable": false,
        "editable": false,
        "tags": [
          "start_task"
        ],
        "id": "qXLTPYZwGfNJ"
      },
      "source": [
        "Посмотрим как распределяются данные с продолжительностью звонков"
      ]
    },
    {
      "cell_type": "code",
      "source": [
        "from importlib import reload\n",
        "plt=reload(plt)"
      ],
      "metadata": {
        "id": "vwZmy3toXYDY"
      },
      "execution_count": 7,
      "outputs": []
    },
    {
      "cell_type": "code",
      "source": [
        "calls['duration'].hist(bins = 50, color='dodgerblue', grid = False)\n",
        "plt.xlabel('Продолжительность звонка')\n",
        "plt.ylabel('Количестово наблюдений')\n",
        "plt.title('Распределение продолжительности звонков');"
      ],
      "metadata": {
        "colab": {
          "base_uri": "https://localhost:8080/",
          "height": 295
        },
        "id": "VzZe5vydhBAx",
        "outputId": "8aaab5ac-4d29-4571-a5ef-0c4fd779b89a"
      },
      "execution_count": 8,
      "outputs": [
        {
          "output_type": "display_data",
          "data": {
            "text/plain": [
              "<Figure size 432x288 with 1 Axes>"
            ],
            "image/png": "[encoded data removed]"
          },
          "metadata": {
            "needs_background": "light"
          }
        }
      ]
    },
    {
      "cell_type": "markdown",
      "source": [
        "Большое количество звонков с продолжительностью ноль минут. Возможно, это неотвеченные звонки.  \n",
        "Посмотрим на распределение звонков с продолжительностью более минуты:"
      ],
      "metadata": {
        "id": "Seqs4W0Hhr72"
      }
    },
    {
      "cell_type": "code",
      "execution_count": 9,
      "metadata": {
        "deletable": false,
        "colab": {
          "base_uri": "https://localhost:8080/",
          "height": 295
        },
        "id": "2KMpqAOVGfNJ",
        "outputId": "e5aa55e5-b81f-4400-ca7e-b7e4e7d31f1a"
      },
      "outputs": [
        {
          "output_type": "display_data",
          "data": {
            "text/plain": [
              "<Figure size 432x288 with 1 Axes>"
            ],
            "image/png": "[encoded data removed]"
          },
          "metadata": {
            "needs_background": "light"
          }
        }
      ],
      "source": [
        "calls[calls['duration']>0]['duration'].hist(bins = 100, color='dodgerblue', grid = False)\n",
        "plt.xlabel('Продолжительность звонка')\n",
        "plt.ylabel('Количестово наблюдений')\n",
        "plt.title('Распределение продолжительности звонков больше 0 минут');\n"
      ]
    },
    {
      "cell_type": "markdown",
      "source": [
        "Большинство пользователей совершает звонки длительностью  ~ 5 минут.  \n",
        "С увеличением продолжительности времени звонка количество наблюдений уменьшается  \n",
        "Распределение нормальное, положительная ассиметрия"
      ],
      "metadata": {
        "id": "lMWZt2glQyd1"
      }
    },
    {
      "cell_type": "code",
      "execution_count": 10,
      "metadata": {
        "deletable": false,
        "colab": {
          "base_uri": "https://localhost:8080/",
          "height": 206
        },
        "id": "0zxUUkGTGfNK",
        "outputId": "2770066e-2e53-481f-fff4-139a24769b4f"
      },
      "outputs": [
        {
          "output_type": "execute_result",
          "data": {
            "text/plain": [
              "   Unnamed: 0      id  mb_used session_date  user_id\n",
              "0           0  1000_0   112.95   2018-11-25     1000\n",
              "1           1  1000_1  1052.81   2018-09-07     1000\n",
              "2           2  1000_2  1197.26   2018-06-25     1000\n",
              "3           3  1000_3   550.27   2018-08-22     1000\n",
              "4           4  1000_4   302.56   2018-09-24     1000"
            ],
            "text/html": [
              "\n",
              "  <div id=\"df-37735ac4-2bbb-4ac1-a8ee-6328f3097676\">\n",
              "    <div class=\"colab-df-container\">\n",
              "      <div>\n",
              "<style scoped>\n",
              "    .dataframe tbody tr th:only-of-type {\n",
              "        vertical-align: middle;\n",
              "    }\n",
              "\n",
              "    .dataframe tbody tr th {\n",
              "        vertical-align: top;\n",
              "    }\n",
              "\n",
              "    .dataframe thead th {\n",
              "        text-align: right;\n",
              "    }\n",
              "</style>\n",
              "<table border=\"1\" class=\"dataframe\">\n",
              "  <thead>\n",
              "    <tr style=\"text-align: right;\">\n",
              "      <th></th>\n",
              "      <th>Unnamed: 0</th>\n",
              "      <th>id</th>\n",
              "      <th>mb_used</th>\n",
              "      <th>session_date</th>\n",
              "      <th>user_id</th>\n",
              "    </tr>\n",
              "  </thead>\n",
              "  <tbody>\n",
              "    <tr>\n",
              "      <th>0</th>\n",
              "      <td>0</td>\n",
              "      <td>1000_0</td>\n",
              "      <td>112.95</td>\n",
              "      <td>2018-11-25</td>\n",
              "      <td>1000</td>\n",
              "    </tr>\n",
              "    <tr>\n",
              "      <th>1</th>\n",
              "      <td>1</td>\n",
              "      <td>1000_1</td>\n",
              "      <td>1052.81</td>\n",
              "      <td>2018-09-07</td>\n",
              "      <td>1000</td>\n",
              "    </tr>\n",
              "    <tr>\n",
              "      <th>2</th>\n",
              "      <td>2</td>\n",
              "      <td>1000_2</td>\n",
              "      <td>1197.26</td>\n",
              "      <td>2018-06-25</td>\n",
              "      <td>1000</td>\n",
              "    </tr>\n",
              "    <tr>\n",
              "      <th>3</th>\n",
              "      <td>3</td>\n",
              "      <td>1000_3</td>\n",
              "      <td>550.27</td>\n",
              "      <td>2018-08-22</td>\n",
              "      <td>1000</td>\n",
              "    </tr>\n",
              "    <tr>\n",
              "      <th>4</th>\n",
              "      <td>4</td>\n",
              "      <td>1000_4</td>\n",
              "      <td>302.56</td>\n",
              "      <td>2018-09-24</td>\n",
              "      <td>1000</td>\n",
              "    </tr>\n",
              "  </tbody>\n",
              "</table>\n",
              "</div>\n",
              "      <button class=\"colab-df-convert\" onclick=\"convertToInteractive('df-37735ac4-2bbb-4ac1-a8ee-6328f3097676')\"\n",
              "              title=\"Convert this dataframe to an interactive table.\"\n",
              "              style=\"display:none;\">\n",
              "        \n",
              "  <svg xmlns=\"http://www.w3.org/2000/svg\" height=\"24px\"viewBox=\"0 0 24 24\"\n",
              "       width=\"24px\">\n",
              "    <path d=\"M0 0h24v24H0V0z\" fill=\"none\"/>\n",
              "    <path d=\"M18.56 5.44l.94 2.06.94-2.06 2.06-.94-2.06-.94-.94-2.06-.94 2.06-2.06.94zm-11 1L8.5 8.5l.94-2.06 2.06-.94-2.06-.94L8.5 2.5l-.94 2.06-2.06.94zm10 10l.94 2.06.94-2.06 2.06-.94-2.06-.94-.94-2.06-.94 2.06-2.06.94z\"/><path d=\"M17.41 7.96l-1.37-1.37c-.4-.4-.92-.59-1.43-.59-.52 0-1.04.2-1.43.59L10.3 9.45l-7.72 7.72c-.78.78-.78 2.05 0 2.83L4 21.41c.39.39.9.59 1.41.59.51 0 1.02-.2 1.41-.59l7.78-7.78 2.81-2.81c.8-.78.8-2.07 0-2.86zM5.41 20L4 18.59l7.72-7.72 1.47 1.35L5.41 20z\"/>\n",
              "  </svg>\n",
              "      </button>\n",
              "      \n",
              "  <style>\n",
              "    .colab-df-container {\n",
              "      display:flex;\n",
              "      flex-wrap:wrap;\n",
              "      gap: 12px;\n",
              "    }\n",
              "\n",
              "    .colab-df-convert {\n",
              "      background-color: #E8F0FE;\n",
              "      border: none;\n",
              "      border-radius: 50%;\n",
              "      cursor: pointer;\n",
              "      display: none;\n",
              "      fill: #1967D2;\n",
              "      height: 32px;\n",
              "      padding: 0 0 0 0;\n",
              "      width: 32px;\n",
              "    }\n",
              "\n",
              "    .colab-df-convert:hover {\n",
              "      background-color: #E2EBFA;\n",
              "      box-shadow: 0px 1px 2px rgba(60, 64, 67, 0.3), 0px 1px 3px 1px rgba(60, 64, 67, 0.15);\n",
              "      fill: #174EA6;\n",
              "    }\n",
              "\n",
              "    [theme=dark] .colab-df-convert {\n",
              "      background-color: #3B4455;\n",
              "      fill: #D2E3FC;\n",
              "    }\n",
              "\n",
              "    [theme=dark] .colab-df-convert:hover {\n",
              "      background-color: #434B5C;\n",
              "      box-shadow: 0px 1px 3px 1px rgba(0, 0, 0, 0.15);\n",
              "      filter: drop-shadow(0px 1px 2px rgba(0, 0, 0, 0.3));\n",
              "      fill: #FFFFFF;\n",
              "    }\n",
              "  </style>\n",
              "\n",
              "      <script>\n",
              "        const buttonEl =\n",
              "          document.querySelector('#df-37735ac4-2bbb-4ac1-a8ee-6328f3097676 button.colab-df-convert');\n",
              "        buttonEl.style.display =\n",
              "          google.colab.kernel.accessAllowed ? 'block' : 'none';\n",
              "\n",
              "        async function convertToInteractive(key) {\n",
              "          const element = document.querySelector('#df-37735ac4-2bbb-4ac1-a8ee-6328f3097676');\n",
              "          const dataTable =\n",
              "            await google.colab.kernel.invokeFunction('convertToInteractive',\n",
              "                                                     [key], {});\n",
              "          if (!dataTable) return;\n",
              "\n",
              "          const docLinkHtml = 'Like what you see? Visit the ' +\n",
              "            '<a target=\"_blank\" href=https://colab.research.google.com/notebooks/data_table.ipynb>data table notebook</a>'\n",
              "            + ' to learn more about interactive tables.';\n",
              "          element.innerHTML = '';\n",
              "          dataTable['output_type'] = 'display_data';\n",
              "          await google.colab.output.renderOutput(dataTable, element);\n",
              "          const docLink = document.createElement('div');\n",
              "          docLink.innerHTML = docLinkHtml;\n",
              "          element.appendChild(docLink);\n",
              "        }\n",
              "      </script>\n",
              "    </div>\n",
              "  </div>\n",
              "  "
            ]
          },
          "metadata": {},
          "execution_count": 10
        }
      ],
      "source": [
        "sessions.head()"
      ]
    },
    {
      "cell_type": "code",
      "execution_count": 11,
      "metadata": {
        "deletable": false,
        "colab": {
          "base_uri": "https://localhost:8080/"
        },
        "id": "Ipi2SKIQGfNK",
        "outputId": "7d776996-98de-4269-c218-a0745f65897e"
      },
      "outputs": [
        {
          "output_type": "stream",
          "name": "stdout",
          "text": [
            "<class 'pandas.core.frame.DataFrame'>\n",
            "RangeIndex: 149396 entries, 0 to 149395\n",
            "Data columns (total 5 columns):\n",
            " #   Column        Non-Null Count   Dtype  \n",
            "---  ------        --------------   -----  \n",
            " 0   Unnamed: 0    149396 non-null  int64  \n",
            " 1   id            149396 non-null  object \n",
            " 2   mb_used       149396 non-null  float64\n",
            " 3   session_date  149396 non-null  object \n",
            " 4   user_id       149396 non-null  int64  \n",
            "dtypes: float64(1), int64(2), object(2)\n",
            "memory usage: 5.7+ MB\n"
          ]
        }
      ],
      "source": [
        "sessions.info()"
      ]
    },
    {
      "cell_type": "markdown",
      "source": [
        "В таблице `sessions` содержится информация об интернет-сессиях:  \n",
        "Согласно документации  к данным  \n",
        " * `id` — уникальный номер звонка\n",
        " * `mb_used` — объём потраченного за сессию интернет-трафика (в мегабайтах)\n",
        " * `session_date` — дата интернет-сессии\n",
        " * `user_id` — идентификатор пользователя\n",
        "\n",
        "`session_date` небходимо преобразовать в формат дат, остальное верно"
      ],
      "metadata": {
        "id": "rrhIFzJSRYwL"
      }
    },
    {
      "cell_type": "markdown",
      "metadata": {
        "deletable": false,
        "editable": false,
        "tags": [
          "start_task"
        ],
        "id": "l8qo19t3GfNK"
      },
      "source": [
        "Посмотрим как распределяются данные для столбца с количеством потраченных мегабайт."
      ]
    },
    {
      "cell_type": "code",
      "execution_count": 12,
      "metadata": {
        "deletable": false,
        "colab": {
          "base_uri": "https://localhost:8080/",
          "height": 295
        },
        "id": "7YV5jGmVGfNK",
        "outputId": "a3b9a13f-a332-43fe-d595-ce7ee374c138"
      },
      "outputs": [
        {
          "output_type": "display_data",
          "data": {
            "text/plain": [
              "<Figure size 432x288 with 1 Axes>"
            ],
            "image/png": "[encoded data removed]"
          },
          "metadata": {
            "needs_background": "light"
          }
        }
      ],
      "source": [
        "sessions['mb_used'].hist(bins = 50, color='dodgerblue', grid = False)\n",
        "plt.xlabel('Использованные мегабайты')\n",
        "plt.ylabel('Количестово наблюдений')\n",
        "plt.title('Распределение интернет-трафика в мегабайтах');"
      ]
    },
    {
      "cell_type": "markdown",
      "source": [
        "Также видим, что много наблюдений с нулевым объемом мегабайт.  \n",
        "Странно, но может быть фиксируется какждый день, даже если юзер не пользовался мобильным интернетом.  \n",
        "Посмотрим, распределение со значениями потраченныъ мегабайт больше нуля"
      ],
      "metadata": {
        "id": "OmECiiS2jW3E"
      }
    },
    {
      "cell_type": "code",
      "execution_count": 13,
      "metadata": {
        "deletable": false,
        "colab": {
          "base_uri": "https://localhost:8080/",
          "height": 295
        },
        "outputId": "3a9f3a10-9aff-4941-afab-796683da8695",
        "id": "Qm6FyBT1ij0c"
      },
      "outputs": [
        {
          "output_type": "display_data",
          "data": {
            "text/plain": [
              "<Figure size 432x288 with 1 Axes>"
            ],
            "image/png": "[encoded data removed]"
          },
          "metadata": {
            "needs_background": "light"
          }
        }
      ],
      "source": [
        "sessions[sessions['mb_used']>0]['mb_used'].hist(bins = 50, color='dodgerblue', grid = False)\n",
        "plt.xlabel('Использованные мегабайты')\n",
        "plt.ylabel('Количестово наблюдений')\n",
        "plt.title('Распределение интернет-трафика больше 0 мегабайт');"
      ]
    },
    {
      "cell_type": "markdown",
      "source": [
        "Большинство пользователей использует трафика 250-400 мб, с увеличением объема трафика количество наблюдений уменьшается  \n",
        "Распределение нормальное, положительная ассиметрия"
      ],
      "metadata": {
        "id": "2wfJ8uK5SCT6"
      }
    },
    {
      "cell_type": "code",
      "execution_count": 14,
      "metadata": {
        "deletable": false,
        "colab": {
          "base_uri": "https://localhost:8080/",
          "height": 206
        },
        "id": "5t-wfrbsGfNL",
        "outputId": "fb8917f2-8b9b-4174-9a4a-d1438925ea6d"
      },
      "outputs": [
        {
          "output_type": "execute_result",
          "data": {
            "text/plain": [
              "       id message_date  user_id\n",
              "0  1000_0   2018-06-27     1000\n",
              "1  1000_1   2018-10-08     1000\n",
              "2  1000_2   2018-08-04     1000\n",
              "3  1000_3   2018-06-16     1000\n",
              "4  1000_4   2018-12-05     1000"
            ],
            "text/html": [
              "\n",
              "  <div id=\"df-1d7de8ab-b010-4e04-8134-ba15097bb0c7\">\n",
              "    <div class=\"colab-df-container\">\n",
              "      <div>\n",
              "<style scoped>\n",
              "    .dataframe tbody tr th:only-of-type {\n",
              "        vertical-align: middle;\n",
              "    }\n",
              "\n",
              "    .dataframe tbody tr th {\n",
              "        vertical-align: top;\n",
              "    }\n",
              "\n",
              "    .dataframe thead th {\n",
              "        text-align: right;\n",
              "    }\n",
              "</style>\n",
              "<table border=\"1\" class=\"dataframe\">\n",
              "  <thead>\n",
              "    <tr style=\"text-align: right;\">\n",
              "      <th></th>\n",
              "      <th>id</th>\n",
              "      <th>message_date</th>\n",
              "      <th>user_id</th>\n",
              "    </tr>\n",
              "  </thead>\n",
              "  <tbody>\n",
              "    <tr>\n",
              "      <th>0</th>\n",
              "      <td>1000_0</td>\n",
              "      <td>2018-06-27</td>\n",
              "      <td>1000</td>\n",
              "    </tr>\n",
              "    <tr>\n",
              "      <th>1</th>\n",
              "      <td>1000_1</td>\n",
              "      <td>2018-10-08</td>\n",
              "      <td>1000</td>\n",
              "    </tr>\n",
              "    <tr>\n",
              "      <th>2</th>\n",
              "      <td>1000_2</td>\n",
              "      <td>2018-08-04</td>\n",
              "      <td>1000</td>\n",
              "    </tr>\n",
              "    <tr>\n",
              "      <th>3</th>\n",
              "      <td>1000_3</td>\n",
              "      <td>2018-06-16</td>\n",
              "      <td>1000</td>\n",
              "    </tr>\n",
              "    <tr>\n",
              "      <th>4</th>\n",
              "      <td>1000_4</td>\n",
              "      <td>2018-12-05</td>\n",
              "      <td>1000</td>\n",
              "    </tr>\n",
              "  </tbody>\n",
              "</table>\n",
              "</div>\n",
              "      <button class=\"colab-df-convert\" onclick=\"convertToInteractive('df-1d7de8ab-b010-4e04-8134-ba15097bb0c7')\"\n",
              "              title=\"Convert this dataframe to an interactive table.\"\n",
              "              style=\"display:none;\">\n",
              "        \n",
              "  <svg xmlns=\"http://www.w3.org/2000/svg\" height=\"24px\"viewBox=\"0 0 24 24\"\n",
              "       width=\"24px\">\n",
              "    <path d=\"M0 0h24v24H0V0z\" fill=\"none\"/>\n",
              "    <path d=\"M18.56 5.44l.94 2.06.94-2.06 2.06-.94-2.06-.94-.94-2.06-.94 2.06-2.06.94zm-11 1L8.5 8.5l.94-2.06 2.06-.94-2.06-.94L8.5 2.5l-.94 2.06-2.06.94zm10 10l.94 2.06.94-2.06 2.06-.94-2.06-.94-.94-2.06-.94 2.06-2.06.94z\"/><path d=\"M17.41 7.96l-1.37-1.37c-.4-.4-.92-.59-1.43-.59-.52 0-1.04.2-1.43.59L10.3 9.45l-7.72 7.72c-.78.78-.78 2.05 0 2.83L4 21.41c.39.39.9.59 1.41.59.51 0 1.02-.2 1.41-.59l7.78-7.78 2.81-2.81c.8-.78.8-2.07 0-2.86zM5.41 20L4 18.59l7.72-7.72 1.47 1.35L5.41 20z\"/>\n",
              "  </svg>\n",
              "      </button>\n",
              "      \n",
              "  <style>\n",
              "    .colab-df-container {\n",
              "      display:flex;\n",
              "      flex-wrap:wrap;\n",
              "      gap: 12px;\n",
              "    }\n",
              "\n",
              "    .colab-df-convert {\n",
              "      background-color: #E8F0FE;\n",
              "      border: none;\n",
              "      border-radius: 50%;\n",
              "      cursor: pointer;\n",
              "      display: none;\n",
              "      fill: #1967D2;\n",
              "      height: 32px;\n",
              "      padding: 0 0 0 0;\n",
              "      width: 32px;\n",
              "    }\n",
              "\n",
              "    .colab-df-convert:hover {\n",
              "      background-color: #E2EBFA;\n",
              "      box-shadow: 0px 1px 2px rgba(60, 64, 67, 0.3), 0px 1px 3px 1px rgba(60, 64, 67, 0.15);\n",
              "      fill: #174EA6;\n",
              "    }\n",
              "\n",
              "    [theme=dark] .colab-df-convert {\n",
              "      background-color: #3B4455;\n",
              "      fill: #D2E3FC;\n",
              "    }\n",
              "\n",
              "    [theme=dark] .colab-df-convert:hover {\n",
              "      background-color: #434B5C;\n",
              "      box-shadow: 0px 1px 3px 1px rgba(0, 0, 0, 0.15);\n",
              "      filter: drop-shadow(0px 1px 2px rgba(0, 0, 0, 0.3));\n",
              "      fill: #FFFFFF;\n",
              "    }\n",
              "  </style>\n",
              "\n",
              "      <script>\n",
              "        const buttonEl =\n",
              "          document.querySelector('#df-1d7de8ab-b010-4e04-8134-ba15097bb0c7 button.colab-df-convert');\n",
              "        buttonEl.style.display =\n",
              "          google.colab.kernel.accessAllowed ? 'block' : 'none';\n",
              "\n",
              "        async function convertToInteractive(key) {\n",
              "          const element = document.querySelector('#df-1d7de8ab-b010-4e04-8134-ba15097bb0c7');\n",
              "          const dataTable =\n",
              "            await google.colab.kernel.invokeFunction('convertToInteractive',\n",
              "                                                     [key], {});\n",
              "          if (!dataTable) return;\n",
              "\n",
              "          const docLinkHtml = 'Like what you see? Visit the ' +\n",
              "            '<a target=\"_blank\" href=https://colab.research.google.com/notebooks/data_table.ipynb>data table notebook</a>'\n",
              "            + ' to learn more about interactive tables.';\n",
              "          element.innerHTML = '';\n",
              "          dataTable['output_type'] = 'display_data';\n",
              "          await google.colab.output.renderOutput(dataTable, element);\n",
              "          const docLink = document.createElement('div');\n",
              "          docLink.innerHTML = docLinkHtml;\n",
              "          element.appendChild(docLink);\n",
              "        }\n",
              "      </script>\n",
              "    </div>\n",
              "  </div>\n",
              "  "
            ]
          },
          "metadata": {},
          "execution_count": 14
        }
      ],
      "source": [
        "messages.head()"
      ]
    },
    {
      "cell_type": "code",
      "execution_count": 15,
      "metadata": {
        "deletable": false,
        "colab": {
          "base_uri": "https://localhost:8080/"
        },
        "id": "Uyf8g-m1GfNL",
        "outputId": "54ab1371-2e09-4cb6-8fad-08f5921969ed"
      },
      "outputs": [
        {
          "output_type": "stream",
          "name": "stdout",
          "text": [
            "<class 'pandas.core.frame.DataFrame'>\n",
            "RangeIndex: 123036 entries, 0 to 123035\n",
            "Data columns (total 3 columns):\n",
            " #   Column        Non-Null Count   Dtype \n",
            "---  ------        --------------   ----- \n",
            " 0   id            123036 non-null  object\n",
            " 1   message_date  123036 non-null  object\n",
            " 2   user_id       123036 non-null  int64 \n",
            "dtypes: int64(1), object(2)\n",
            "memory usage: 2.8+ MB\n"
          ]
        }
      ],
      "source": [
        "messages.info()"
      ]
    },
    {
      "cell_type": "markdown",
      "source": [
        "В таблице `messages` содержится информация о сообщениях:\n",
        " * `id` — уникальный номер звонка\n",
        " * `message_date` — дата сообщения\n",
        " * `user_id` — идентификатор пользователя, отправившего сообщение\n",
        "\n",
        "`message_date` небходимо преобразовать в формат дат, остальное верно"
      ],
      "metadata": {
        "id": "uaAEvTkxSfr8"
      }
    },
    {
      "cell_type": "markdown",
      "metadata": {
        "deletable": false,
        "editable": false,
        "tags": [
          "start_task"
        ],
        "id": "_1oVpoLfGfNM"
      },
      "source": [
        "Данные о тарифах:"
      ]
    },
    {
      "cell_type": "code",
      "execution_count": 16,
      "metadata": {
        "deletable": false,
        "colab": {
          "base_uri": "https://localhost:8080/",
          "height": 112
        },
        "id": "8_jBq_vXGfNM",
        "outputId": "b70afe70-2209-410e-a111-0db50d2e0de3"
      },
      "outputs": [
        {
          "output_type": "display_data",
          "data": {
            "text/plain": [
              "   messages_included  mb_per_month_included  minutes_included  \\\n",
              "0                 50                  15360               500   \n",
              "1               1000                  30720              3000   \n",
              "\n",
              "   rub_monthly_fee  rub_per_gb  rub_per_message  rub_per_minute tariff_name  \n",
              "0              550         200                3               3       smart  \n",
              "1             1950         150                1               1       ultra  "
            ],
            "text/html": [
              "\n",
              "  <div id=\"df-9eff302a-a679-413f-8f14-cd7bdf835b1f\">\n",
              "    <div class=\"colab-df-container\">\n",
              "      <div>\n",
              "<style scoped>\n",
              "    .dataframe tbody tr th:only-of-type {\n",
              "        vertical-align: middle;\n",
              "    }\n",
              "\n",
              "    .dataframe tbody tr th {\n",
              "        vertical-align: top;\n",
              "    }\n",
              "\n",
              "    .dataframe thead th {\n",
              "        text-align: right;\n",
              "    }\n",
              "</style>\n",
              "<table border=\"1\" class=\"dataframe\">\n",
              "  <thead>\n",
              "    <tr style=\"text-align: right;\">\n",
              "      <th></th>\n",
              "      <th>messages_included</th>\n",
              "      <th>mb_per_month_included</th>\n",
              "      <th>minutes_included</th>\n",
              "      <th>rub_monthly_fee</th>\n",
              "      <th>rub_per_gb</th>\n",
              "      <th>rub_per_message</th>\n",
              "      <th>rub_per_minute</th>\n",
              "      <th>tariff_name</th>\n",
              "    </tr>\n",
              "  </thead>\n",
              "  <tbody>\n",
              "    <tr>\n",
              "      <th>0</th>\n",
              "      <td>50</td>\n",
              "      <td>15360</td>\n",
              "      <td>500</td>\n",
              "      <td>550</td>\n",
              "      <td>200</td>\n",
              "      <td>3</td>\n",
              "      <td>3</td>\n",
              "      <td>smart</td>\n",
              "    </tr>\n",
              "    <tr>\n",
              "      <th>1</th>\n",
              "      <td>1000</td>\n",
              "      <td>30720</td>\n",
              "      <td>3000</td>\n",
              "      <td>1950</td>\n",
              "      <td>150</td>\n",
              "      <td>1</td>\n",
              "      <td>1</td>\n",
              "      <td>ultra</td>\n",
              "    </tr>\n",
              "  </tbody>\n",
              "</table>\n",
              "</div>\n",
              "      <button class=\"colab-df-convert\" onclick=\"convertToInteractive('df-9eff302a-a679-413f-8f14-cd7bdf835b1f')\"\n",
              "              title=\"Convert this dataframe to an interactive table.\"\n",
              "              style=\"display:none;\">\n",
              "        \n",
              "  <svg xmlns=\"http://www.w3.org/2000/svg\" height=\"24px\"viewBox=\"0 0 24 24\"\n",
              "       width=\"24px\">\n",
              "    <path d=\"M0 0h24v24H0V0z\" fill=\"none\"/>\n",
              "    <path d=\"M18.56 5.44l.94 2.06.94-2.06 2.06-.94-2.06-.94-.94-2.06-.94 2.06-2.06.94zm-11 1L8.5 8.5l.94-2.06 2.06-.94-2.06-.94L8.5 2.5l-.94 2.06-2.06.94zm10 10l.94 2.06.94-2.06 2.06-.94-2.06-.94-.94-2.06-.94 2.06-2.06.94z\"/><path d=\"M17.41 7.96l-1.37-1.37c-.4-.4-.92-.59-1.43-.59-.52 0-1.04.2-1.43.59L10.3 9.45l-7.72 7.72c-.78.78-.78 2.05 0 2.83L4 21.41c.39.39.9.59 1.41.59.51 0 1.02-.2 1.41-.59l7.78-7.78 2.81-2.81c.8-.78.8-2.07 0-2.86zM5.41 20L4 18.59l7.72-7.72 1.47 1.35L5.41 20z\"/>\n",
              "  </svg>\n",
              "      </button>\n",
              "      \n",
              "  <style>\n",
              "    .colab-df-container {\n",
              "      display:flex;\n",
              "      flex-wrap:wrap;\n",
              "      gap: 12px;\n",
              "    }\n",
              "\n",
              "    .colab-df-convert {\n",
              "      background-color: #E8F0FE;\n",
              "      border: none;\n",
              "      border-radius: 50%;\n",
              "      cursor: pointer;\n",
              "      display: none;\n",
              "      fill: #1967D2;\n",
              "      height: 32px;\n",
              "      padding: 0 0 0 0;\n",
              "      width: 32px;\n",
              "    }\n",
              "\n",
              "    .colab-df-convert:hover {\n",
              "      background-color: #E2EBFA;\n",
              "      box-shadow: 0px 1px 2px rgba(60, 64, 67, 0.3), 0px 1px 3px 1px rgba(60, 64, 67, 0.15);\n",
              "      fill: #174EA6;\n",
              "    }\n",
              "\n",
              "    [theme=dark] .colab-df-convert {\n",
              "      background-color: #3B4455;\n",
              "      fill: #D2E3FC;\n",
              "    }\n",
              "\n",
              "    [theme=dark] .colab-df-convert:hover {\n",
              "      background-color: #434B5C;\n",
              "      box-shadow: 0px 1px 3px 1px rgba(0, 0, 0, 0.15);\n",
              "      filter: drop-shadow(0px 1px 2px rgba(0, 0, 0, 0.3));\n",
              "      fill: #FFFFFF;\n",
              "    }\n",
              "  </style>\n",
              "\n",
              "      <script>\n",
              "        const buttonEl =\n",
              "          document.querySelector('#df-9eff302a-a679-413f-8f14-cd7bdf835b1f button.colab-df-convert');\n",
              "        buttonEl.style.display =\n",
              "          google.colab.kernel.accessAllowed ? 'block' : 'none';\n",
              "\n",
              "        async function convertToInteractive(key) {\n",
              "          const element = document.querySelector('#df-9eff302a-a679-413f-8f14-cd7bdf835b1f');\n",
              "          const dataTable =\n",
              "            await google.colab.kernel.invokeFunction('convertToInteractive',\n",
              "                                                     [key], {});\n",
              "          if (!dataTable) return;\n",
              "\n",
              "          const docLinkHtml = 'Like what you see? Visit the ' +\n",
              "            '<a target=\"_blank\" href=https://colab.research.google.com/notebooks/data_table.ipynb>data table notebook</a>'\n",
              "            + ' to learn more about interactive tables.';\n",
              "          element.innerHTML = '';\n",
              "          dataTable['output_type'] = 'display_data';\n",
              "          await google.colab.output.renderOutput(dataTable, element);\n",
              "          const docLink = document.createElement('div');\n",
              "          docLink.innerHTML = docLinkHtml;\n",
              "          element.appendChild(docLink);\n",
              "        }\n",
              "      </script>\n",
              "    </div>\n",
              "  </div>\n",
              "  "
            ]
          },
          "metadata": {}
        }
      ],
      "source": [
        "display(tariffs)"
      ]
    },
    {
      "cell_type": "code",
      "execution_count": 17,
      "metadata": {
        "deletable": false,
        "colab": {
          "base_uri": "https://localhost:8080/"
        },
        "id": "SUp7-uskGfNM",
        "outputId": "53e2ffa7-47bb-4baa-cb8e-a75078fda991"
      },
      "outputs": [
        {
          "output_type": "stream",
          "name": "stdout",
          "text": [
            "<class 'pandas.core.frame.DataFrame'>\n",
            "RangeIndex: 2 entries, 0 to 1\n",
            "Data columns (total 8 columns):\n",
            " #   Column                 Non-Null Count  Dtype \n",
            "---  ------                 --------------  ----- \n",
            " 0   messages_included      2 non-null      int64 \n",
            " 1   mb_per_month_included  2 non-null      int64 \n",
            " 2   minutes_included       2 non-null      int64 \n",
            " 3   rub_monthly_fee        2 non-null      int64 \n",
            " 4   rub_per_gb             2 non-null      int64 \n",
            " 5   rub_per_message        2 non-null      int64 \n",
            " 6   rub_per_minute         2 non-null      int64 \n",
            " 7   tariff_name            2 non-null      object\n",
            "dtypes: int64(7), object(1)\n",
            "memory usage: 256.0+ bytes\n"
          ]
        }
      ],
      "source": [
        "tariffs.info()"
      ]
    },
    {
      "cell_type": "markdown",
      "source": [
        " * `tariff_name` — название тарифа\n",
        " * `rub_monthly_fee` — ежемесячная абонентская плата в рублях\n",
        " * `minutes_included` — количество минут разговора в месяц, включённых в абонентскую плату\n",
        " * `messages_included` — количество сообщений в месяц, включённых в абонентскую плату\n",
        " * `mb_per_month_included` — объём интернет-трафика, включённого в абонентскую плату (в мегабайтах)\n",
        " * `rub_per_minute` — стоимость минуты разговора сверх тарифного пакета (например, если в тарифе 100 минут разговора в месяц, то со 101 минуты будет взиматься плата)\n",
        " * `rub_per_message` — стоимость отправки сообщения сверх тарифного пакета\n",
        " * `rub_per_gb` — стоимость дополнительного гигабайта интернет-трафика сверх тарифного пакета (1 гигабайт = 1024 мегабайта)"
      ],
      "metadata": {
        "id": "bNbc8We3S3Vo"
      }
    },
    {
      "cell_type": "code",
      "execution_count": 18,
      "metadata": {
        "deletable": false,
        "colab": {
          "base_uri": "https://localhost:8080/",
          "height": 206
        },
        "id": "Ys3gIxcBGfNM",
        "outputId": "f7b01bfb-8257-4d64-eb43-1a95923c02c5"
      },
      "outputs": [
        {
          "output_type": "execute_result",
          "data": {
            "text/plain": [
              "   user_id  age churn_date         city first_name  last_name    reg_date  \\\n",
              "0     1000   52        NaN    Краснодар     Рафаил  Верещагин  2018-05-25   \n",
              "1     1001   41        NaN       Москва       Иван       Ежов  2018-11-01   \n",
              "2     1002   59        NaN  Стерлитамак    Евгений  Абрамович  2018-06-17   \n",
              "3     1003   23        NaN       Москва      Белла   Белякова  2018-08-17   \n",
              "4     1004   68        NaN  Новокузнецк    Татьяна   Авдеенко  2018-05-14   \n",
              "\n",
              "  tariff  \n",
              "0  ultra  \n",
              "1  smart  \n",
              "2  smart  \n",
              "3  ultra  \n",
              "4  ultra  "
            ],
            "text/html": [
              "\n",
              "  <div id=\"df-eb4e9276-8896-458c-8e1f-111466d5bffe\">\n",
              "    <div class=\"colab-df-container\">\n",
              "      <div>\n",
              "<style scoped>\n",
              "    .dataframe tbody tr th:only-of-type {\n",
              "        vertical-align: middle;\n",
              "    }\n",
              "\n",
              "    .dataframe tbody tr th {\n",
              "        vertical-align: top;\n",
              "    }\n",
              "\n",
              "    .dataframe thead th {\n",
              "        text-align: right;\n",
              "    }\n",
              "</style>\n",
              "<table border=\"1\" class=\"dataframe\">\n",
              "  <thead>\n",
              "    <tr style=\"text-align: right;\">\n",
              "      <th></th>\n",
              "      <th>user_id</th>\n",
              "      <th>age</th>\n",
              "      <th>churn_date</th>\n",
              "      <th>city</th>\n",
              "      <th>first_name</th>\n",
              "      <th>last_name</th>\n",
              "      <th>reg_date</th>\n",
              "      <th>tariff</th>\n",
              "    </tr>\n",
              "  </thead>\n",
              "  <tbody>\n",
              "    <tr>\n",
              "      <th>0</th>\n",
              "      <td>1000</td>\n",
              "      <td>52</td>\n",
              "      <td>NaN</td>\n",
              "      <td>Краснодар</td>\n",
              "      <td>Рафаил</td>\n",
              "      <td>Верещагин</td>\n",
              "      <td>2018-05-25</td>\n",
              "      <td>ultra</td>\n",
              "    </tr>\n",
              "    <tr>\n",
              "      <th>1</th>\n",
              "      <td>1001</td>\n",
              "      <td>41</td>\n",
              "      <td>NaN</td>\n",
              "      <td>Москва</td>\n",
              "      <td>Иван</td>\n",
              "      <td>Ежов</td>\n",
              "      <td>2018-11-01</td>\n",
              "      <td>smart</td>\n",
              "    </tr>\n",
              "    <tr>\n",
              "      <th>2</th>\n",
              "      <td>1002</td>\n",
              "      <td>59</td>\n",
              "      <td>NaN</td>\n",
              "      <td>Стерлитамак</td>\n",
              "      <td>Евгений</td>\n",
              "      <td>Абрамович</td>\n",
              "      <td>2018-06-17</td>\n",
              "      <td>smart</td>\n",
              "    </tr>\n",
              "    <tr>\n",
              "      <th>3</th>\n",
              "      <td>1003</td>\n",
              "      <td>23</td>\n",
              "      <td>NaN</td>\n",
              "      <td>Москва</td>\n",
              "      <td>Белла</td>\n",
              "      <td>Белякова</td>\n",
              "      <td>2018-08-17</td>\n",
              "      <td>ultra</td>\n",
              "    </tr>\n",
              "    <tr>\n",
              "      <th>4</th>\n",
              "      <td>1004</td>\n",
              "      <td>68</td>\n",
              "      <td>NaN</td>\n",
              "      <td>Новокузнецк</td>\n",
              "      <td>Татьяна</td>\n",
              "      <td>Авдеенко</td>\n",
              "      <td>2018-05-14</td>\n",
              "      <td>ultra</td>\n",
              "    </tr>\n",
              "  </tbody>\n",
              "</table>\n",
              "</div>\n",
              "      <button class=\"colab-df-convert\" onclick=\"convertToInteractive('df-eb4e9276-8896-458c-8e1f-111466d5bffe')\"\n",
              "              title=\"Convert this dataframe to an interactive table.\"\n",
              "              style=\"display:none;\">\n",
              "        \n",
              "  <svg xmlns=\"http://www.w3.org/2000/svg\" height=\"24px\"viewBox=\"0 0 24 24\"\n",
              "       width=\"24px\">\n",
              "    <path d=\"M0 0h24v24H0V0z\" fill=\"none\"/>\n",
              "    <path d=\"M18.56 5.44l.94 2.06.94-2.06 2.06-.94-2.06-.94-.94-2.06-.94 2.06-2.06.94zm-11 1L8.5 8.5l.94-2.06 2.06-.94-2.06-.94L8.5 2.5l-.94 2.06-2.06.94zm10 10l.94 2.06.94-2.06 2.06-.94-2.06-.94-.94-2.06-.94 2.06-2.06.94z\"/><path d=\"M17.41 7.96l-1.37-1.37c-.4-.4-.92-.59-1.43-.59-.52 0-1.04.2-1.43.59L10.3 9.45l-7.72 7.72c-.78.78-.78 2.05 0 2.83L4 21.41c.39.39.9.59 1.41.59.51 0 1.02-.2 1.41-.59l7.78-7.78 2.81-2.81c.8-.78.8-2.07 0-2.86zM5.41 20L4 18.59l7.72-7.72 1.47 1.35L5.41 20z\"/>\n",
              "  </svg>\n",
              "      </button>\n",
              "      \n",
              "  <style>\n",
              "    .colab-df-container {\n",
              "      display:flex;\n",
              "      flex-wrap:wrap;\n",
              "      gap: 12px;\n",
              "    }\n",
              "\n",
              "    .colab-df-convert {\n",
              "      background-color: #E8F0FE;\n",
              "      border: none;\n",
              "      border-radius: 50%;\n",
              "      cursor: pointer;\n",
              "      display: none;\n",
              "      fill: #1967D2;\n",
              "      height: 32px;\n",
              "      padding: 0 0 0 0;\n",
              "      width: 32px;\n",
              "    }\n",
              "\n",
              "    .colab-df-convert:hover {\n",
              "      background-color: #E2EBFA;\n",
              "      box-shadow: 0px 1px 2px rgba(60, 64, 67, 0.3), 0px 1px 3px 1px rgba(60, 64, 67, 0.15);\n",
              "      fill: #174EA6;\n",
              "    }\n",
              "\n",
              "    [theme=dark] .colab-df-convert {\n",
              "      background-color: #3B4455;\n",
              "      fill: #D2E3FC;\n",
              "    }\n",
              "\n",
              "    [theme=dark] .colab-df-convert:hover {\n",
              "      background-color: #434B5C;\n",
              "      box-shadow: 0px 1px 3px 1px rgba(0, 0, 0, 0.15);\n",
              "      filter: drop-shadow(0px 1px 2px rgba(0, 0, 0, 0.3));\n",
              "      fill: #FFFFFF;\n",
              "    }\n",
              "  </style>\n",
              "\n",
              "      <script>\n",
              "        const buttonEl =\n",
              "          document.querySelector('#df-eb4e9276-8896-458c-8e1f-111466d5bffe button.colab-df-convert');\n",
              "        buttonEl.style.display =\n",
              "          google.colab.kernel.accessAllowed ? 'block' : 'none';\n",
              "\n",
              "        async function convertToInteractive(key) {\n",
              "          const element = document.querySelector('#df-eb4e9276-8896-458c-8e1f-111466d5bffe');\n",
              "          const dataTable =\n",
              "            await google.colab.kernel.invokeFunction('convertToInteractive',\n",
              "                                                     [key], {});\n",
              "          if (!dataTable) return;\n",
              "\n",
              "          const docLinkHtml = 'Like what you see? Visit the ' +\n",
              "            '<a target=\"_blank\" href=https://colab.research.google.com/notebooks/data_table.ipynb>data table notebook</a>'\n",
              "            + ' to learn more about interactive tables.';\n",
              "          element.innerHTML = '';\n",
              "          dataTable['output_type'] = 'display_data';\n",
              "          await google.colab.output.renderOutput(dataTable, element);\n",
              "          const docLink = document.createElement('div');\n",
              "          docLink.innerHTML = docLinkHtml;\n",
              "          element.appendChild(docLink);\n",
              "        }\n",
              "      </script>\n",
              "    </div>\n",
              "  </div>\n",
              "  "
            ]
          },
          "metadata": {},
          "execution_count": 18
        }
      ],
      "source": [
        "users.head()"
      ]
    },
    {
      "cell_type": "code",
      "execution_count": 19,
      "metadata": {
        "deletable": false,
        "colab": {
          "base_uri": "https://localhost:8080/"
        },
        "id": "WdBYLMAHGfNN",
        "outputId": "ab503945-ccd9-42e7-801f-6195aff16ef2"
      },
      "outputs": [
        {
          "output_type": "stream",
          "name": "stdout",
          "text": [
            "<class 'pandas.core.frame.DataFrame'>\n",
            "RangeIndex: 500 entries, 0 to 499\n",
            "Data columns (total 8 columns):\n",
            " #   Column      Non-Null Count  Dtype \n",
            "---  ------      --------------  ----- \n",
            " 0   user_id     500 non-null    int64 \n",
            " 1   age         500 non-null    int64 \n",
            " 2   churn_date  38 non-null     object\n",
            " 3   city        500 non-null    object\n",
            " 4   first_name  500 non-null    object\n",
            " 5   last_name   500 non-null    object\n",
            " 6   reg_date    500 non-null    object\n",
            " 7   tariff      500 non-null    object\n",
            "dtypes: int64(2), object(6)\n",
            "memory usage: 31.4+ KB\n"
          ]
        }
      ],
      "source": [
        "users.info()"
      ]
    },
    {
      "cell_type": "markdown",
      "source": [
        "Таблица `users` — информация о пользователях:\n",
        " * `user_id` — уникальный идентификатор пользователя\n",
        " * `first_name` — имя пользователя\n",
        " * `last_name` — фамилия пользователя\n",
        " * `age` — возраст пользователя (годы)\n",
        " * `reg_date` — дата подключения тарифа (день, месяц, год)\n",
        " * `churn_date` — дата прекращения пользования тарифом (если значение пропущено, значит, тариф ещё действовал на момент выгрузки данных)\n",
        " * `city` — город проживания пользователя\n",
        " * `tarif` — название тарифного плана\n",
        "\n",
        "`reg_date`, `churn_date` небходимо преобразовать в формат дат, остальное верно "
      ],
      "metadata": {
        "id": "1yGmRVm1TVs8"
      }
    },
    {
      "cell_type": "markdown",
      "metadata": {
        "deletable": false,
        "editable": false,
        "id": "CB85_sLsGfNN"
      },
      "source": [
        "## Предобработка данных"
      ]
    },
    {
      "cell_type": "markdown",
      "metadata": {
        "deletable": false,
        "editable": false,
        "tags": [
          "start_task"
        ],
        "id": "3PxlM6vZGfNN"
      },
      "source": [
        "Приведем столбцы к формату дат с помощью метода `to_datetime()`\n",
        "\n",
        "- `reg_date` из таблицы `users`\n",
        "- `churn_date` из таблицы `users`\n",
        "- `call_date` из таблицы `calls`\n",
        "- `message_date` из таблицы `messages`\n",
        "- `session_date` из таблицы `sessions`\n"
      ]
    },
    {
      "cell_type": "code",
      "execution_count": 20,
      "metadata": {
        "deletable": false,
        "id": "n2r5_6UGGfNN"
      },
      "outputs": [],
      "source": [
        "# обработка столбца reg_date\n",
        "users['reg_date'] = pd.to_datetime(users['reg_date'],format='%Y-%m-%d')\n",
        "# обработка столбца churn_date\n",
        "users['churn_date'] = pd.to_datetime(users['churn_date'],format='%Y-%m-%d')\n",
        "# обработка столбца call_date\n",
        "calls['call_date'] = pd.to_datetime(calls['call_date'],format='%Y-%m-%d')\n",
        "# обработка столбца message_date\n",
        "messages['message_date'] = pd.to_datetime(messages['message_date'],format='%Y-%m-%d')\n",
        "# обработка столбца session_date\n",
        "sessions['session_date'] = pd.to_datetime(sessions['session_date'], format='%Y-%m-%d')"
      ]
    },
    {
      "cell_type": "markdown",
      "metadata": {
        "deletable": false,
        "editable": false,
        "tags": [
          "start_task"
        ],
        "id": "7AgbzI6dGfNN"
      },
      "source": [
        "В столбце `duration` датафрейма `calls` значения дробные. Округлим значения столбца `duration` вверх, тк для оплаты учитывается полная минута и приведем столбец `duration` к типу `int`."
      ]
    },
    {
      "cell_type": "code",
      "execution_count": 21,
      "metadata": {
        "deletable": false,
        "id": "pCMMZRKeGfNN"
      },
      "outputs": [],
      "source": [
        "\n",
        "\n",
        "# округление значений столбца duration с помощью np.ceil() и приведение типа к int\n",
        "calls['duration'] = np.ceil(calls['duration']).astype (int)"
      ]
    },
    {
      "cell_type": "markdown",
      "metadata": {
        "deletable": false,
        "editable": false,
        "tags": [
          "start_task"
        ],
        "id": "f-ERBuYpGfNN"
      },
      "source": [
        "Удалим столбец `Unnamed: 0` из датафрейма `sessions`. Столбец с таким названием возникает, когда данные сохраняют с указанием индекса (`df.to_csv(..., index=column)`). Он нам не понадобится."
      ]
    },
    {
      "cell_type": "code",
      "execution_count": 22,
      "metadata": {
        "deletable": false,
        "id": "Tq9TfCjVGfNN"
      },
      "outputs": [],
      "source": [
        "sessions.drop(columns = ['Unnamed: 0'],axis = 1, inplace=True)"
      ]
    },
    {
      "cell_type": "markdown",
      "metadata": {
        "deletable": false,
        "editable": false,
        "tags": [
          "start_task"
        ],
        "id": "JZyZJXcvGfNN"
      },
      "source": [
        "Создадим столбец `month` в датафрейме `calls` с номером месяца из столбца `call_date`."
      ]
    },
    {
      "cell_type": "code",
      "execution_count": 23,
      "metadata": {
        "deletable": false,
        "id": "Xe6TQClaGfNN"
      },
      "outputs": [],
      "source": [
        "calls['month'] = calls['call_date'].dt.month"
      ]
    },
    {
      "cell_type": "markdown",
      "metadata": {
        "deletable": false,
        "editable": false,
        "tags": [
          "start_task"
        ],
        "id": "FavatfR2GfNO"
      },
      "source": [
        "Создадим столбец `month` в датафрейме `messages` с номером месяца из столбца `message_date`."
      ]
    },
    {
      "cell_type": "code",
      "execution_count": 24,
      "metadata": {
        "deletable": false,
        "id": "zZelres1GfNO"
      },
      "outputs": [],
      "source": [
        "messages['month'] = messages['message_date'].dt.month"
      ]
    },
    {
      "cell_type": "markdown",
      "metadata": {
        "deletable": false,
        "editable": false,
        "tags": [
          "start_task"
        ],
        "id": "Ql6ZeWyFGfNO"
      },
      "source": [
        "Создадим столбец `month` в датафрейме `sessions` с номером месяца из столбца `session_date`."
      ]
    },
    {
      "cell_type": "code",
      "execution_count": 25,
      "metadata": {
        "deletable": false,
        "id": "s_EqPfuRGfNO"
      },
      "outputs": [],
      "source": [
        "sessions['month'] = sessions['session_date'].dt.month"
      ]
    },
    {
      "cell_type": "markdown",
      "metadata": {
        "deletable": false,
        "editable": false,
        "tags": [
          "start_task"
        ],
        "id": "zrpc4xopGfNO"
      },
      "source": [
        "Посчитаем количество сделанных звонков разговора для каждого пользователя по месяцам."
      ]
    },
    {
      "cell_type": "code",
      "execution_count": 26,
      "metadata": {
        "deletable": false,
        "id": "Q6RADHu_GfNO"
      },
      "outputs": [],
      "source": [
        "# подсчёт количества звонков для каждого пользователя по месяцам\n",
        "calls_per_month = calls.groupby(['user_id','month']).agg(calls=('duration', 'count'))"
      ]
    },
    {
      "cell_type": "code",
      "execution_count": 27,
      "metadata": {
        "deletable": false,
        "colab": {
          "base_uri": "https://localhost:8080/",
          "height": 1000
        },
        "id": "YHrAT7gWGfNO",
        "outputId": "8f51c722-44bb-4a7c-9aeb-c7530019c9e3"
      },
      "outputs": [
        {
          "output_type": "execute_result",
          "data": {
            "text/plain": [
              "               calls\n",
              "user_id month       \n",
              "1000    5         22\n",
              "        6         43\n",
              "        7         47\n",
              "        8         52\n",
              "        9         58\n",
              "        10        57\n",
              "        11        43\n",
              "        12        46\n",
              "1001    11        59\n",
              "        12        63\n",
              "1002    6         15\n",
              "        7         26\n",
              "        8         42\n",
              "        9         36\n",
              "        10        33\n",
              "        11        32\n",
              "        12        33\n",
              "1003    8         55\n",
              "        9        134\n",
              "        10       108\n",
              "        11       115\n",
              "        12       108\n",
              "1004    5          9\n",
              "        6         31\n",
              "        7         22\n",
              "        8         19\n",
              "        9         26\n",
              "        10        29\n",
              "        11        19\n",
              "        12        21"
            ],
            "text/html": [
              "\n",
              "  <div id=\"df-1e39471a-0df7-4cfe-aa3d-1f45741a0d96\">\n",
              "    <div class=\"colab-df-container\">\n",
              "      <div>\n",
              "<style scoped>\n",
              "    .dataframe tbody tr th:only-of-type {\n",
              "        vertical-align: middle;\n",
              "    }\n",
              "\n",
              "    .dataframe tbody tr th {\n",
              "        vertical-align: top;\n",
              "    }\n",
              "\n",
              "    .dataframe thead th {\n",
              "        text-align: right;\n",
              "    }\n",
              "</style>\n",
              "<table border=\"1\" class=\"dataframe\">\n",
              "  <thead>\n",
              "    <tr style=\"text-align: right;\">\n",
              "      <th></th>\n",
              "      <th></th>\n",
              "      <th>calls</th>\n",
              "    </tr>\n",
              "    <tr>\n",
              "      <th>user_id</th>\n",
              "      <th>month</th>\n",
              "      <th></th>\n",
              "    </tr>\n",
              "  </thead>\n",
              "  <tbody>\n",
              "    <tr>\n",
              "      <th rowspan=\"8\" valign=\"top\">1000</th>\n",
              "      <th>5</th>\n",
              "      <td>22</td>\n",
              "    </tr>\n",
              "    <tr>\n",
              "      <th>6</th>\n",
              "      <td>43</td>\n",
              "    </tr>\n",
              "    <tr>\n",
              "      <th>7</th>\n",
              "      <td>47</td>\n",
              "    </tr>\n",
              "    <tr>\n",
              "      <th>8</th>\n",
              "      <td>52</td>\n",
              "    </tr>\n",
              "    <tr>\n",
              "      <th>9</th>\n",
              "      <td>58</td>\n",
              "    </tr>\n",
              "    <tr>\n",
              "      <th>10</th>\n",
              "      <td>57</td>\n",
              "    </tr>\n",
              "    <tr>\n",
              "      <th>11</th>\n",
              "      <td>43</td>\n",
              "    </tr>\n",
              "    <tr>\n",
              "      <th>12</th>\n",
              "      <td>46</td>\n",
              "    </tr>\n",
              "    <tr>\n",
              "      <th rowspan=\"2\" valign=\"top\">1001</th>\n",
              "      <th>11</th>\n",
              "      <td>59</td>\n",
              "    </tr>\n",
              "    <tr>\n",
              "      <th>12</th>\n",
              "      <td>63</td>\n",
              "    </tr>\n",
              "    <tr>\n",
              "      <th rowspan=\"7\" valign=\"top\">1002</th>\n",
              "      <th>6</th>\n",
              "      <td>15</td>\n",
              "    </tr>\n",
              "    <tr>\n",
              "      <th>7</th>\n",
              "      <td>26</td>\n",
              "    </tr>\n",
              "    <tr>\n",
              "      <th>8</th>\n",
              "      <td>42</td>\n",
              "    </tr>\n",
              "    <tr>\n",
              "      <th>9</th>\n",
              "      <td>36</td>\n",
              "    </tr>\n",
              "    <tr>\n",
              "      <th>10</th>\n",
              "      <td>33</td>\n",
              "    </tr>\n",
              "    <tr>\n",
              "      <th>11</th>\n",
              "      <td>32</td>\n",
              "    </tr>\n",
              "    <tr>\n",
              "      <th>12</th>\n",
              "      <td>33</td>\n",
              "    </tr>\n",
              "    <tr>\n",
              "      <th rowspan=\"5\" valign=\"top\">1003</th>\n",
              "      <th>8</th>\n",
              "      <td>55</td>\n",
              "    </tr>\n",
              "    <tr>\n",
              "      <th>9</th>\n",
              "      <td>134</td>\n",
              "    </tr>\n",
              "    <tr>\n",
              "      <th>10</th>\n",
              "      <td>108</td>\n",
              "    </tr>\n",
              "    <tr>\n",
              "      <th>11</th>\n",
              "      <td>115</td>\n",
              "    </tr>\n",
              "    <tr>\n",
              "      <th>12</th>\n",
              "      <td>108</td>\n",
              "    </tr>\n",
              "    <tr>\n",
              "      <th rowspan=\"8\" valign=\"top\">1004</th>\n",
              "      <th>5</th>\n",
              "      <td>9</td>\n",
              "    </tr>\n",
              "    <tr>\n",
              "      <th>6</th>\n",
              "      <td>31</td>\n",
              "    </tr>\n",
              "    <tr>\n",
              "      <th>7</th>\n",
              "      <td>22</td>\n",
              "    </tr>\n",
              "    <tr>\n",
              "      <th>8</th>\n",
              "      <td>19</td>\n",
              "    </tr>\n",
              "    <tr>\n",
              "      <th>9</th>\n",
              "      <td>26</td>\n",
              "    </tr>\n",
              "    <tr>\n",
              "      <th>10</th>\n",
              "      <td>29</td>\n",
              "    </tr>\n",
              "    <tr>\n",
              "      <th>11</th>\n",
              "      <td>19</td>\n",
              "    </tr>\n",
              "    <tr>\n",
              "      <th>12</th>\n",
              "      <td>21</td>\n",
              "    </tr>\n",
              "  </tbody>\n",
              "</table>\n",
              "</div>\n",
              "      <button class=\"colab-df-convert\" onclick=\"convertToInteractive('df-1e39471a-0df7-4cfe-aa3d-1f45741a0d96')\"\n",
              "              title=\"Convert this dataframe to an interactive table.\"\n",
              "              style=\"display:none;\">\n",
              "        \n",
              "  <svg xmlns=\"http://www.w3.org/2000/svg\" height=\"24px\"viewBox=\"0 0 24 24\"\n",
              "       width=\"24px\">\n",
              "    <path d=\"M0 0h24v24H0V0z\" fill=\"none\"/>\n",
              "    <path d=\"M18.56 5.44l.94 2.06.94-2.06 2.06-.94-2.06-.94-.94-2.06-.94 2.06-2.06.94zm-11 1L8.5 8.5l.94-2.06 2.06-.94-2.06-.94L8.5 2.5l-.94 2.06-2.06.94zm10 10l.94 2.06.94-2.06 2.06-.94-2.06-.94-.94-2.06-.94 2.06-2.06.94z\"/><path d=\"M17.41 7.96l-1.37-1.37c-.4-.4-.92-.59-1.43-.59-.52 0-1.04.2-1.43.59L10.3 9.45l-7.72 7.72c-.78.78-.78 2.05 0 2.83L4 21.41c.39.39.9.59 1.41.59.51 0 1.02-.2 1.41-.59l7.78-7.78 2.81-2.81c.8-.78.8-2.07 0-2.86zM5.41 20L4 18.59l7.72-7.72 1.47 1.35L5.41 20z\"/>\n",
              "  </svg>\n",
              "      </button>\n",
              "      \n",
              "  <style>\n",
              "    .colab-df-container {\n",
              "      display:flex;\n",
              "      flex-wrap:wrap;\n",
              "      gap: 12px;\n",
              "    }\n",
              "\n",
              "    .colab-df-convert {\n",
              "      background-color: #E8F0FE;\n",
              "      border: none;\n",
              "      border-radius: 50%;\n",
              "      cursor: pointer;\n",
              "      display: none;\n",
              "      fill: #1967D2;\n",
              "      height: 32px;\n",
              "      padding: 0 0 0 0;\n",
              "      width: 32px;\n",
              "    }\n",
              "\n",
              "    .colab-df-convert:hover {\n",
              "      background-color: #E2EBFA;\n",
              "      box-shadow: 0px 1px 2px rgba(60, 64, 67, 0.3), 0px 1px 3px 1px rgba(60, 64, 67, 0.15);\n",
              "      fill: #174EA6;\n",
              "    }\n",
              "\n",
              "    [theme=dark] .colab-df-convert {\n",
              "      background-color: #3B4455;\n",
              "      fill: #D2E3FC;\n",
              "    }\n",
              "\n",
              "    [theme=dark] .colab-df-convert:hover {\n",
              "      background-color: #434B5C;\n",
              "      box-shadow: 0px 1px 3px 1px rgba(0, 0, 0, 0.15);\n",
              "      filter: drop-shadow(0px 1px 2px rgba(0, 0, 0, 0.3));\n",
              "      fill: #FFFFFF;\n",
              "    }\n",
              "  </style>\n",
              "\n",
              "      <script>\n",
              "        const buttonEl =\n",
              "          document.querySelector('#df-1e39471a-0df7-4cfe-aa3d-1f45741a0d96 button.colab-df-convert');\n",
              "        buttonEl.style.display =\n",
              "          google.colab.kernel.accessAllowed ? 'block' : 'none';\n",
              "\n",
              "        async function convertToInteractive(key) {\n",
              "          const element = document.querySelector('#df-1e39471a-0df7-4cfe-aa3d-1f45741a0d96');\n",
              "          const dataTable =\n",
              "            await google.colab.kernel.invokeFunction('convertToInteractive',\n",
              "                                                     [key], {});\n",
              "          if (!dataTable) return;\n",
              "\n",
              "          const docLinkHtml = 'Like what you see? Visit the ' +\n",
              "            '<a target=\"_blank\" href=https://colab.research.google.com/notebooks/data_table.ipynb>data table notebook</a>'\n",
              "            + ' to learn more about interactive tables.';\n",
              "          element.innerHTML = '';\n",
              "          dataTable['output_type'] = 'display_data';\n",
              "          await google.colab.output.renderOutput(dataTable, element);\n",
              "          const docLink = document.createElement('div');\n",
              "          docLink.innerHTML = docLinkHtml;\n",
              "          element.appendChild(docLink);\n",
              "        }\n",
              "      </script>\n",
              "    </div>\n",
              "  </div>\n",
              "  "
            ]
          },
          "metadata": {},
          "execution_count": 27
        }
      ],
      "source": [
        "# вывод 30 первых строк на экран\n",
        "calls_per_month.head(30)"
      ]
    },
    {
      "cell_type": "markdown",
      "metadata": {
        "deletable": false,
        "editable": false,
        "tags": [
          "start_task"
        ],
        "id": "7LemvjAiGfNO"
      },
      "source": [
        "Посчитаем количество израсходованных минут разговора для каждого пользователя по месяцам и сохраните в переменную `minutes_per_month`."
      ]
    },
    {
      "cell_type": "code",
      "execution_count": 28,
      "metadata": {
        "deletable": false,
        "id": "fJxJbYLPGfNO"
      },
      "outputs": [],
      "source": [
        "# подсчёт израсходованных минут для каждого пользователя по месяцам\n",
        "minutes_per_month = calls.groupby(['user_id','month']).agg(minutes=('duration', 'sum'))"
      ]
    },
    {
      "cell_type": "code",
      "execution_count": 29,
      "metadata": {
        "deletable": false,
        "colab": {
          "base_uri": "https://localhost:8080/",
          "height": 1000
        },
        "id": "BeAHIlSXGfNO",
        "outputId": "2fcd0026-99ab-451f-8d87-d0d87c6a21b3"
      },
      "outputs": [
        {
          "output_type": "execute_result",
          "data": {
            "text/plain": [
              "               minutes\n",
              "user_id month         \n",
              "1000    5          159\n",
              "        6          172\n",
              "        7          340\n",
              "        8          408\n",
              "        9          466\n",
              "        10         350\n",
              "        11         338\n",
              "        12         333\n",
              "1001    11         430\n",
              "        12         414\n",
              "1002    6          117\n",
              "        7          214\n",
              "        8          289\n",
              "        9          206\n",
              "        10         212\n",
              "        11         243\n",
              "        12         236\n",
              "1003    8          380\n",
              "        9          961\n",
              "        10         855\n",
              "        11         824\n",
              "        12         802\n",
              "1004    5           35\n",
              "        6          171\n",
              "        7          135\n",
              "        8          137\n",
              "        9          117\n",
              "        10         145\n",
              "        11         117\n",
              "        12         130"
            ],
            "text/html": [
              "\n",
              "  <div id=\"df-af4414c2-04a0-47af-9763-184e5dfa5401\">\n",
              "    <div class=\"colab-df-container\">\n",
              "      <div>\n",
              "<style scoped>\n",
              "    .dataframe tbody tr th:only-of-type {\n",
              "        vertical-align: middle;\n",
              "    }\n",
              "\n",
              "    .dataframe tbody tr th {\n",
              "        vertical-align: top;\n",
              "    }\n",
              "\n",
              "    .dataframe thead th {\n",
              "        text-align: right;\n",
              "    }\n",
              "</style>\n",
              "<table border=\"1\" class=\"dataframe\">\n",
              "  <thead>\n",
              "    <tr style=\"text-align: right;\">\n",
              "      <th></th>\n",
              "      <th></th>\n",
              "      <th>minutes</th>\n",
              "    </tr>\n",
              "    <tr>\n",
              "      <th>user_id</th>\n",
              "      <th>month</th>\n",
              "      <th></th>\n",
              "    </tr>\n",
              "  </thead>\n",
              "  <tbody>\n",
              "    <tr>\n",
              "      <th rowspan=\"8\" valign=\"top\">1000</th>\n",
              "      <th>5</th>\n",
              "      <td>159</td>\n",
              "    </tr>\n",
              "    <tr>\n",
              "      <th>6</th>\n",
              "      <td>172</td>\n",
              "    </tr>\n",
              "    <tr>\n",
              "      <th>7</th>\n",
              "      <td>340</td>\n",
              "    </tr>\n",
              "    <tr>\n",
              "      <th>8</th>\n",
              "      <td>408</td>\n",
              "    </tr>\n",
              "    <tr>\n",
              "      <th>9</th>\n",
              "      <td>466</td>\n",
              "    </tr>\n",
              "    <tr>\n",
              "      <th>10</th>\n",
              "      <td>350</td>\n",
              "    </tr>\n",
              "    <tr>\n",
              "      <th>11</th>\n",
              "      <td>338</td>\n",
              "    </tr>\n",
              "    <tr>\n",
              "      <th>12</th>\n",
              "      <td>333</td>\n",
              "    </tr>\n",
              "    <tr>\n",
              "      <th rowspan=\"2\" valign=\"top\">1001</th>\n",
              "      <th>11</th>\n",
              "      <td>430</td>\n",
              "    </tr>\n",
              "    <tr>\n",
              "      <th>12</th>\n",
              "      <td>414</td>\n",
              "    </tr>\n",
              "    <tr>\n",
              "      <th rowspan=\"7\" valign=\"top\">1002</th>\n",
              "      <th>6</th>\n",
              "      <td>117</td>\n",
              "    </tr>\n",
              "    <tr>\n",
              "      <th>7</th>\n",
              "      <td>214</td>\n",
              "    </tr>\n",
              "    <tr>\n",
              "      <th>8</th>\n",
              "      <td>289</td>\n",
              "    </tr>\n",
              "    <tr>\n",
              "      <th>9</th>\n",
              "      <td>206</td>\n",
              "    </tr>\n",
              "    <tr>\n",
              "      <th>10</th>\n",
              "      <td>212</td>\n",
              "    </tr>\n",
              "    <tr>\n",
              "      <th>11</th>\n",
              "      <td>243</td>\n",
              "    </tr>\n",
              "    <tr>\n",
              "      <th>12</th>\n",
              "      <td>236</td>\n",
              "    </tr>\n",
              "    <tr>\n",
              "      <th rowspan=\"5\" valign=\"top\">1003</th>\n",
              "      <th>8</th>\n",
              "      <td>380</td>\n",
              "    </tr>\n",
              "    <tr>\n",
              "      <th>9</th>\n",
              "      <td>961</td>\n",
              "    </tr>\n",
              "    <tr>\n",
              "      <th>10</th>\n",
              "      <td>855</td>\n",
              "    </tr>\n",
              "    <tr>\n",
              "      <th>11</th>\n",
              "      <td>824</td>\n",
              "    </tr>\n",
              "    <tr>\n",
              "      <th>12</th>\n",
              "      <td>802</td>\n",
              "    </tr>\n",
              "    <tr>\n",
              "      <th rowspan=\"8\" valign=\"top\">1004</th>\n",
              "      <th>5</th>\n",
              "      <td>35</td>\n",
              "    </tr>\n",
              "    <tr>\n",
              "      <th>6</th>\n",
              "      <td>171</td>\n",
              "    </tr>\n",
              "    <tr>\n",
              "      <th>7</th>\n",
              "      <td>135</td>\n",
              "    </tr>\n",
              "    <tr>\n",
              "      <th>8</th>\n",
              "      <td>137</td>\n",
              "    </tr>\n",
              "    <tr>\n",
              "      <th>9</th>\n",
              "      <td>117</td>\n",
              "    </tr>\n",
              "    <tr>\n",
              "      <th>10</th>\n",
              "      <td>145</td>\n",
              "    </tr>\n",
              "    <tr>\n",
              "      <th>11</th>\n",
              "      <td>117</td>\n",
              "    </tr>\n",
              "    <tr>\n",
              "      <th>12</th>\n",
              "      <td>130</td>\n",
              "    </tr>\n",
              "  </tbody>\n",
              "</table>\n",
              "</div>\n",
              "      <button class=\"colab-df-convert\" onclick=\"convertToInteractive('df-af4414c2-04a0-47af-9763-184e5dfa5401')\"\n",
              "              title=\"Convert this dataframe to an interactive table.\"\n",
              "              style=\"display:none;\">\n",
              "        \n",
              "  <svg xmlns=\"http://www.w3.org/2000/svg\" height=\"24px\"viewBox=\"0 0 24 24\"\n",
              "       width=\"24px\">\n",
              "    <path d=\"M0 0h24v24H0V0z\" fill=\"none\"/>\n",
              "    <path d=\"M18.56 5.44l.94 2.06.94-2.06 2.06-.94-2.06-.94-.94-2.06-.94 2.06-2.06.94zm-11 1L8.5 8.5l.94-2.06 2.06-.94-2.06-.94L8.5 2.5l-.94 2.06-2.06.94zm10 10l.94 2.06.94-2.06 2.06-.94-2.06-.94-.94-2.06-.94 2.06-2.06.94z\"/><path d=\"M17.41 7.96l-1.37-1.37c-.4-.4-.92-.59-1.43-.59-.52 0-1.04.2-1.43.59L10.3 9.45l-7.72 7.72c-.78.78-.78 2.05 0 2.83L4 21.41c.39.39.9.59 1.41.59.51 0 1.02-.2 1.41-.59l7.78-7.78 2.81-2.81c.8-.78.8-2.07 0-2.86zM5.41 20L4 18.59l7.72-7.72 1.47 1.35L5.41 20z\"/>\n",
              "  </svg>\n",
              "      </button>\n",
              "      \n",
              "  <style>\n",
              "    .colab-df-container {\n",
              "      display:flex;\n",
              "      flex-wrap:wrap;\n",
              "      gap: 12px;\n",
              "    }\n",
              "\n",
              "    .colab-df-convert {\n",
              "      background-color: #E8F0FE;\n",
              "      border: none;\n",
              "      border-radius: 50%;\n",
              "      cursor: pointer;\n",
              "      display: none;\n",
              "      fill: #1967D2;\n",
              "      height: 32px;\n",
              "      padding: 0 0 0 0;\n",
              "      width: 32px;\n",
              "    }\n",
              "\n",
              "    .colab-df-convert:hover {\n",
              "      background-color: #E2EBFA;\n",
              "      box-shadow: 0px 1px 2px rgba(60, 64, 67, 0.3), 0px 1px 3px 1px rgba(60, 64, 67, 0.15);\n",
              "      fill: #174EA6;\n",
              "    }\n",
              "\n",
              "    [theme=dark] .colab-df-convert {\n",
              "      background-color: #3B4455;\n",
              "      fill: #D2E3FC;\n",
              "    }\n",
              "\n",
              "    [theme=dark] .colab-df-convert:hover {\n",
              "      background-color: #434B5C;\n",
              "      box-shadow: 0px 1px 3px 1px rgba(0, 0, 0, 0.15);\n",
              "      filter: drop-shadow(0px 1px 2px rgba(0, 0, 0, 0.3));\n",
              "      fill: #FFFFFF;\n",
              "    }\n",
              "  </style>\n",
              "\n",
              "      <script>\n",
              "        const buttonEl =\n",
              "          document.querySelector('#df-af4414c2-04a0-47af-9763-184e5dfa5401 button.colab-df-convert');\n",
              "        buttonEl.style.display =\n",
              "          google.colab.kernel.accessAllowed ? 'block' : 'none';\n",
              "\n",
              "        async function convertToInteractive(key) {\n",
              "          const element = document.querySelector('#df-af4414c2-04a0-47af-9763-184e5dfa5401');\n",
              "          const dataTable =\n",
              "            await google.colab.kernel.invokeFunction('convertToInteractive',\n",
              "                                                     [key], {});\n",
              "          if (!dataTable) return;\n",
              "\n",
              "          const docLinkHtml = 'Like what you see? Visit the ' +\n",
              "            '<a target=\"_blank\" href=https://colab.research.google.com/notebooks/data_table.ipynb>data table notebook</a>'\n",
              "            + ' to learn more about interactive tables.';\n",
              "          element.innerHTML = '';\n",
              "          dataTable['output_type'] = 'display_data';\n",
              "          await google.colab.output.renderOutput(dataTable, element);\n",
              "          const docLink = document.createElement('div');\n",
              "          docLink.innerHTML = docLinkHtml;\n",
              "          element.appendChild(docLink);\n",
              "        }\n",
              "      </script>\n",
              "    </div>\n",
              "  </div>\n",
              "  "
            ]
          },
          "metadata": {},
          "execution_count": 29
        }
      ],
      "source": [
        "# вывод первых 30 строк на экран\n",
        "minutes_per_month.head(30)"
      ]
    },
    {
      "cell_type": "markdown",
      "metadata": {
        "deletable": false,
        "editable": false,
        "tags": [
          "start_task"
        ],
        "id": "QzV6327oGfNO"
      },
      "source": [
        "Посчитаем количество отправленных сообщений по месяцам для каждого пользователя и сохраните в переменную `messages_per_month`."
      ]
    },
    {
      "cell_type": "code",
      "execution_count": 30,
      "metadata": {
        "deletable": false,
        "id": "s5P1i9w8GfNP"
      },
      "outputs": [],
      "source": [
        "# подсчёт количества отправленных сообщений для каждого пользователя по месяцам\n",
        "messages_per_month = messages.groupby(['user_id','month']).agg(messages=('message_date', 'count'))"
      ]
    },
    {
      "cell_type": "code",
      "execution_count": 31,
      "metadata": {
        "deletable": false,
        "colab": {
          "base_uri": "https://localhost:8080/",
          "height": 1000
        },
        "id": "hCk4iT-SGfNP",
        "outputId": "cdae55b6-7b90-4ce5-cefa-cd126f18e109"
      },
      "outputs": [
        {
          "output_type": "execute_result",
          "data": {
            "text/plain": [
              "               messages\n",
              "user_id month          \n",
              "1000    5            22\n",
              "        6            60\n",
              "        7            75\n",
              "        8            81\n",
              "        9            57\n",
              "        10           73\n",
              "        11           58\n",
              "        12           70\n",
              "1002    6             4\n",
              "        7            11\n",
              "        8            13\n",
              "        9             4\n",
              "        10           10\n",
              "        11           16\n",
              "        12           12\n",
              "1003    8            37\n",
              "        9            91\n",
              "        10           83\n",
              "        11           94\n",
              "        12           75\n",
              "1004    5            95\n",
              "        6           134\n",
              "        7           181\n",
              "        8           151\n",
              "        9           146\n",
              "        10          165\n",
              "        11          158\n",
              "        12          162\n",
              "1005    1             7\n",
              "        2            38"
            ],
            "text/html": [
              "\n",
              "  <div id=\"df-e243a608-e365-4475-92dd-f6e7492b4266\">\n",
              "    <div class=\"colab-df-container\">\n",
              "      <div>\n",
              "<style scoped>\n",
              "    .dataframe tbody tr th:only-of-type {\n",
              "        vertical-align: middle;\n",
              "    }\n",
              "\n",
              "    .dataframe tbody tr th {\n",
              "        vertical-align: top;\n",
              "    }\n",
              "\n",
              "    .dataframe thead th {\n",
              "        text-align: right;\n",
              "    }\n",
              "</style>\n",
              "<table border=\"1\" class=\"dataframe\">\n",
              "  <thead>\n",
              "    <tr style=\"text-align: right;\">\n",
              "      <th></th>\n",
              "      <th></th>\n",
              "      <th>messages</th>\n",
              "    </tr>\n",
              "    <tr>\n",
              "      <th>user_id</th>\n",
              "      <th>month</th>\n",
              "      <th></th>\n",
              "    </tr>\n",
              "  </thead>\n",
              "  <tbody>\n",
              "    <tr>\n",
              "      <th rowspan=\"8\" valign=\"top\">1000</th>\n",
              "      <th>5</th>\n",
              "      <td>22</td>\n",
              "    </tr>\n",
              "    <tr>\n",
              "      <th>6</th>\n",
              "      <td>60</td>\n",
              "    </tr>\n",
              "    <tr>\n",
              "      <th>7</th>\n",
              "      <td>75</td>\n",
              "    </tr>\n",
              "    <tr>\n",
              "      <th>8</th>\n",
              "      <td>81</td>\n",
              "    </tr>\n",
              "    <tr>\n",
              "      <th>9</th>\n",
              "      <td>57</td>\n",
              "    </tr>\n",
              "    <tr>\n",
              "      <th>10</th>\n",
              "      <td>73</td>\n",
              "    </tr>\n",
              "    <tr>\n",
              "      <th>11</th>\n",
              "      <td>58</td>\n",
              "    </tr>\n",
              "    <tr>\n",
              "      <th>12</th>\n",
              "      <td>70</td>\n",
              "    </tr>\n",
              "    <tr>\n",
              "      <th rowspan=\"7\" valign=\"top\">1002</th>\n",
              "      <th>6</th>\n",
              "      <td>4</td>\n",
              "    </tr>\n",
              "    <tr>\n",
              "      <th>7</th>\n",
              "      <td>11</td>\n",
              "    </tr>\n",
              "    <tr>\n",
              "      <th>8</th>\n",
              "      <td>13</td>\n",
              "    </tr>\n",
              "    <tr>\n",
              "      <th>9</th>\n",
              "      <td>4</td>\n",
              "    </tr>\n",
              "    <tr>\n",
              "      <th>10</th>\n",
              "      <td>10</td>\n",
              "    </tr>\n",
              "    <tr>\n",
              "      <th>11</th>\n",
              "      <td>16</td>\n",
              "    </tr>\n",
              "    <tr>\n",
              "      <th>12</th>\n",
              "      <td>12</td>\n",
              "    </tr>\n",
              "    <tr>\n",
              "      <th rowspan=\"5\" valign=\"top\">1003</th>\n",
              "      <th>8</th>\n",
              "      <td>37</td>\n",
              "    </tr>\n",
              "    <tr>\n",
              "      <th>9</th>\n",
              "      <td>91</td>\n",
              "    </tr>\n",
              "    <tr>\n",
              "      <th>10</th>\n",
              "      <td>83</td>\n",
              "    </tr>\n",
              "    <tr>\n",
              "      <th>11</th>\n",
              "      <td>94</td>\n",
              "    </tr>\n",
              "    <tr>\n",
              "      <th>12</th>\n",
              "      <td>75</td>\n",
              "    </tr>\n",
              "    <tr>\n",
              "      <th rowspan=\"8\" valign=\"top\">1004</th>\n",
              "      <th>5</th>\n",
              "      <td>95</td>\n",
              "    </tr>\n",
              "    <tr>\n",
              "      <th>6</th>\n",
              "      <td>134</td>\n",
              "    </tr>\n",
              "    <tr>\n",
              "      <th>7</th>\n",
              "      <td>181</td>\n",
              "    </tr>\n",
              "    <tr>\n",
              "      <th>8</th>\n",
              "      <td>151</td>\n",
              "    </tr>\n",
              "    <tr>\n",
              "      <th>9</th>\n",
              "      <td>146</td>\n",
              "    </tr>\n",
              "    <tr>\n",
              "      <th>10</th>\n",
              "      <td>165</td>\n",
              "    </tr>\n",
              "    <tr>\n",
              "      <th>11</th>\n",
              "      <td>158</td>\n",
              "    </tr>\n",
              "    <tr>\n",
              "      <th>12</th>\n",
              "      <td>162</td>\n",
              "    </tr>\n",
              "    <tr>\n",
              "      <th rowspan=\"2\" valign=\"top\">1005</th>\n",
              "      <th>1</th>\n",
              "      <td>7</td>\n",
              "    </tr>\n",
              "    <tr>\n",
              "      <th>2</th>\n",
              "      <td>38</td>\n",
              "    </tr>\n",
              "  </tbody>\n",
              "</table>\n",
              "</div>\n",
              "      <button class=\"colab-df-convert\" onclick=\"convertToInteractive('df-e243a608-e365-4475-92dd-f6e7492b4266')\"\n",
              "              title=\"Convert this dataframe to an interactive table.\"\n",
              "              style=\"display:none;\">\n",
              "        \n",
              "  <svg xmlns=\"http://www.w3.org/2000/svg\" height=\"24px\"viewBox=\"0 0 24 24\"\n",
              "       width=\"24px\">\n",
              "    <path d=\"M0 0h24v24H0V0z\" fill=\"none\"/>\n",
              "    <path d=\"M18.56 5.44l.94 2.06.94-2.06 2.06-.94-2.06-.94-.94-2.06-.94 2.06-2.06.94zm-11 1L8.5 8.5l.94-2.06 2.06-.94-2.06-.94L8.5 2.5l-.94 2.06-2.06.94zm10 10l.94 2.06.94-2.06 2.06-.94-2.06-.94-.94-2.06-.94 2.06-2.06.94z\"/><path d=\"M17.41 7.96l-1.37-1.37c-.4-.4-.92-.59-1.43-.59-.52 0-1.04.2-1.43.59L10.3 9.45l-7.72 7.72c-.78.78-.78 2.05 0 2.83L4 21.41c.39.39.9.59 1.41.59.51 0 1.02-.2 1.41-.59l7.78-7.78 2.81-2.81c.8-.78.8-2.07 0-2.86zM5.41 20L4 18.59l7.72-7.72 1.47 1.35L5.41 20z\"/>\n",
              "  </svg>\n",
              "      </button>\n",
              "      \n",
              "  <style>\n",
              "    .colab-df-container {\n",
              "      display:flex;\n",
              "      flex-wrap:wrap;\n",
              "      gap: 12px;\n",
              "    }\n",
              "\n",
              "    .colab-df-convert {\n",
              "      background-color: #E8F0FE;\n",
              "      border: none;\n",
              "      border-radius: 50%;\n",
              "      cursor: pointer;\n",
              "      display: none;\n",
              "      fill: #1967D2;\n",
              "      height: 32px;\n",
              "      padding: 0 0 0 0;\n",
              "      width: 32px;\n",
              "    }\n",
              "\n",
              "    .colab-df-convert:hover {\n",
              "      background-color: #E2EBFA;\n",
              "      box-shadow: 0px 1px 2px rgba(60, 64, 67, 0.3), 0px 1px 3px 1px rgba(60, 64, 67, 0.15);\n",
              "      fill: #174EA6;\n",
              "    }\n",
              "\n",
              "    [theme=dark] .colab-df-convert {\n",
              "      background-color: #3B4455;\n",
              "      fill: #D2E3FC;\n",
              "    }\n",
              "\n",
              "    [theme=dark] .colab-df-convert:hover {\n",
              "      background-color: #434B5C;\n",
              "      box-shadow: 0px 1px 3px 1px rgba(0, 0, 0, 0.15);\n",
              "      filter: drop-shadow(0px 1px 2px rgba(0, 0, 0, 0.3));\n",
              "      fill: #FFFFFF;\n",
              "    }\n",
              "  </style>\n",
              "\n",
              "      <script>\n",
              "        const buttonEl =\n",
              "          document.querySelector('#df-e243a608-e365-4475-92dd-f6e7492b4266 button.colab-df-convert');\n",
              "        buttonEl.style.display =\n",
              "          google.colab.kernel.accessAllowed ? 'block' : 'none';\n",
              "\n",
              "        async function convertToInteractive(key) {\n",
              "          const element = document.querySelector('#df-e243a608-e365-4475-92dd-f6e7492b4266');\n",
              "          const dataTable =\n",
              "            await google.colab.kernel.invokeFunction('convertToInteractive',\n",
              "                                                     [key], {});\n",
              "          if (!dataTable) return;\n",
              "\n",
              "          const docLinkHtml = 'Like what you see? Visit the ' +\n",
              "            '<a target=\"_blank\" href=https://colab.research.google.com/notebooks/data_table.ipynb>data table notebook</a>'\n",
              "            + ' to learn more about interactive tables.';\n",
              "          element.innerHTML = '';\n",
              "          dataTable['output_type'] = 'display_data';\n",
              "          await google.colab.output.renderOutput(dataTable, element);\n",
              "          const docLink = document.createElement('div');\n",
              "          docLink.innerHTML = docLinkHtml;\n",
              "          element.appendChild(docLink);\n",
              "        }\n",
              "      </script>\n",
              "    </div>\n",
              "  </div>\n",
              "  "
            ]
          },
          "metadata": {},
          "execution_count": 31
        }
      ],
      "source": [
        "# вывод первых 30 строк на экран\n",
        "messages_per_month.head(30)"
      ]
    },
    {
      "cell_type": "markdown",
      "metadata": {
        "deletable": false,
        "editable": false,
        "tags": [
          "start_task"
        ],
        "id": "3CkFaICwGfNP"
      },
      "source": [
        "Посчитаем количество потраченных мегабайт по месяцам для каждого пользователя и сохраним в переменную `sessions_per_month`."
      ]
    },
    {
      "cell_type": "code",
      "execution_count": 32,
      "metadata": {
        "deletable": false,
        "id": "BCqBNJcMGfNP"
      },
      "outputs": [],
      "source": [
        "# подсчёт потраченных мегабайт для каждого пользователя по месяцам\n",
        "sessions_per_month = sessions.groupby(['user_id','month']).agg({'mb_used': 'sum'})"
      ]
    },
    {
      "cell_type": "code",
      "execution_count": 33,
      "metadata": {
        "deletable": false,
        "colab": {
          "base_uri": "https://localhost:8080/",
          "height": 1000
        },
        "id": "o7jpRN6FGfNP",
        "outputId": "cf1ca078-416f-46c9-e80d-cfb795ef96b5"
      },
      "outputs": [
        {
          "output_type": "execute_result",
          "data": {
            "text/plain": [
              "                mb_used\n",
              "user_id month          \n",
              "1000    5       2253.49\n",
              "        6      23233.77\n",
              "        7      14003.64\n",
              "        8      14055.93\n",
              "        9      14568.91\n",
              "        10     14702.49\n",
              "        11     14756.47\n",
              "        12      9817.61\n",
              "1001    11     18429.34\n",
              "        12     14036.66\n",
              "1002    6      10856.82\n",
              "        7      17580.10\n",
              "        8      20319.26\n",
              "        9      16691.08\n",
              "        10     13888.25\n",
              "        11     18587.28\n",
              "        12     18113.73\n",
              "1003    8       8565.21\n",
              "        9      12468.87\n",
              "        10     14768.14\n",
              "        11     11356.89\n",
              "        12     10121.53\n",
              "1004    5      13403.98\n",
              "        6      17600.02\n",
              "        7      22229.58\n",
              "        8      28584.37\n",
              "        9      15109.03\n",
              "        10     18475.44\n",
              "        11     15616.02\n",
              "        12     18021.04"
            ],
            "text/html": [
              "\n",
              "  <div id=\"df-b7eb46bd-3ad5-4e81-a0c7-a3e81e76cf54\">\n",
              "    <div class=\"colab-df-container\">\n",
              "      <div>\n",
              "<style scoped>\n",
              "    .dataframe tbody tr th:only-of-type {\n",
              "        vertical-align: middle;\n",
              "    }\n",
              "\n",
              "    .dataframe tbody tr th {\n",
              "        vertical-align: top;\n",
              "    }\n",
              "\n",
              "    .dataframe thead th {\n",
              "        text-align: right;\n",
              "    }\n",
              "</style>\n",
              "<table border=\"1\" class=\"dataframe\">\n",
              "  <thead>\n",
              "    <tr style=\"text-align: right;\">\n",
              "      <th></th>\n",
              "      <th></th>\n",
              "      <th>mb_used</th>\n",
              "    </tr>\n",
              "    <tr>\n",
              "      <th>user_id</th>\n",
              "      <th>month</th>\n",
              "      <th></th>\n",
              "    </tr>\n",
              "  </thead>\n",
              "  <tbody>\n",
              "    <tr>\n",
              "      <th rowspan=\"8\" valign=\"top\">1000</th>\n",
              "      <th>5</th>\n",
              "      <td>2253.49</td>\n",
              "    </tr>\n",
              "    <tr>\n",
              "      <th>6</th>\n",
              "      <td>23233.77</td>\n",
              "    </tr>\n",
              "    <tr>\n",
              "      <th>7</th>\n",
              "      <td>14003.64</td>\n",
              "    </tr>\n",
              "    <tr>\n",
              "      <th>8</th>\n",
              "      <td>14055.93</td>\n",
              "    </tr>\n",
              "    <tr>\n",
              "      <th>9</th>\n",
              "      <td>14568.91</td>\n",
              "    </tr>\n",
              "    <tr>\n",
              "      <th>10</th>\n",
              "      <td>14702.49</td>\n",
              "    </tr>\n",
              "    <tr>\n",
              "      <th>11</th>\n",
              "      <td>14756.47</td>\n",
              "    </tr>\n",
              "    <tr>\n",
              "      <th>12</th>\n",
              "      <td>9817.61</td>\n",
              "    </tr>\n",
              "    <tr>\n",
              "      <th rowspan=\"2\" valign=\"top\">1001</th>\n",
              "      <th>11</th>\n",
              "      <td>18429.34</td>\n",
              "    </tr>\n",
              "    <tr>\n",
              "      <th>12</th>\n",
              "      <td>14036.66</td>\n",
              "    </tr>\n",
              "    <tr>\n",
              "      <th rowspan=\"7\" valign=\"top\">1002</th>\n",
              "      <th>6</th>\n",
              "      <td>10856.82</td>\n",
              "    </tr>\n",
              "    <tr>\n",
              "      <th>7</th>\n",
              "      <td>17580.10</td>\n",
              "    </tr>\n",
              "    <tr>\n",
              "      <th>8</th>\n",
              "      <td>20319.26</td>\n",
              "    </tr>\n",
              "    <tr>\n",
              "      <th>9</th>\n",
              "      <td>16691.08</td>\n",
              "    </tr>\n",
              "    <tr>\n",
              "      <th>10</th>\n",
              "      <td>13888.25</td>\n",
              "    </tr>\n",
              "    <tr>\n",
              "      <th>11</th>\n",
              "      <td>18587.28</td>\n",
              "    </tr>\n",
              "    <tr>\n",
              "      <th>12</th>\n",
              "      <td>18113.73</td>\n",
              "    </tr>\n",
              "    <tr>\n",
              "      <th rowspan=\"5\" valign=\"top\">1003</th>\n",
              "      <th>8</th>\n",
              "      <td>8565.21</td>\n",
              "    </tr>\n",
              "    <tr>\n",
              "      <th>9</th>\n",
              "      <td>12468.87</td>\n",
              "    </tr>\n",
              "    <tr>\n",
              "      <th>10</th>\n",
              "      <td>14768.14</td>\n",
              "    </tr>\n",
              "    <tr>\n",
              "      <th>11</th>\n",
              "      <td>11356.89</td>\n",
              "    </tr>\n",
              "    <tr>\n",
              "      <th>12</th>\n",
              "      <td>10121.53</td>\n",
              "    </tr>\n",
              "    <tr>\n",
              "      <th rowspan=\"8\" valign=\"top\">1004</th>\n",
              "      <th>5</th>\n",
              "      <td>13403.98</td>\n",
              "    </tr>\n",
              "    <tr>\n",
              "      <th>6</th>\n",
              "      <td>17600.02</td>\n",
              "    </tr>\n",
              "    <tr>\n",
              "      <th>7</th>\n",
              "      <td>22229.58</td>\n",
              "    </tr>\n",
              "    <tr>\n",
              "      <th>8</th>\n",
              "      <td>28584.37</td>\n",
              "    </tr>\n",
              "    <tr>\n",
              "      <th>9</th>\n",
              "      <td>15109.03</td>\n",
              "    </tr>\n",
              "    <tr>\n",
              "      <th>10</th>\n",
              "      <td>18475.44</td>\n",
              "    </tr>\n",
              "    <tr>\n",
              "      <th>11</th>\n",
              "      <td>15616.02</td>\n",
              "    </tr>\n",
              "    <tr>\n",
              "      <th>12</th>\n",
              "      <td>18021.04</td>\n",
              "    </tr>\n",
              "  </tbody>\n",
              "</table>\n",
              "</div>\n",
              "      <button class=\"colab-df-convert\" onclick=\"convertToInteractive('df-b7eb46bd-3ad5-4e81-a0c7-a3e81e76cf54')\"\n",
              "              title=\"Convert this dataframe to an interactive table.\"\n",
              "              style=\"display:none;\">\n",
              "        \n",
              "  <svg xmlns=\"http://www.w3.org/2000/svg\" height=\"24px\"viewBox=\"0 0 24 24\"\n",
              "       width=\"24px\">\n",
              "    <path d=\"M0 0h24v24H0V0z\" fill=\"none\"/>\n",
              "    <path d=\"M18.56 5.44l.94 2.06.94-2.06 2.06-.94-2.06-.94-.94-2.06-.94 2.06-2.06.94zm-11 1L8.5 8.5l.94-2.06 2.06-.94-2.06-.94L8.5 2.5l-.94 2.06-2.06.94zm10 10l.94 2.06.94-2.06 2.06-.94-2.06-.94-.94-2.06-.94 2.06-2.06.94z\"/><path d=\"M17.41 7.96l-1.37-1.37c-.4-.4-.92-.59-1.43-.59-.52 0-1.04.2-1.43.59L10.3 9.45l-7.72 7.72c-.78.78-.78 2.05 0 2.83L4 21.41c.39.39.9.59 1.41.59.51 0 1.02-.2 1.41-.59l7.78-7.78 2.81-2.81c.8-.78.8-2.07 0-2.86zM5.41 20L4 18.59l7.72-7.72 1.47 1.35L5.41 20z\"/>\n",
              "  </svg>\n",
              "      </button>\n",
              "      \n",
              "  <style>\n",
              "    .colab-df-container {\n",
              "      display:flex;\n",
              "      flex-wrap:wrap;\n",
              "      gap: 12px;\n",
              "    }\n",
              "\n",
              "    .colab-df-convert {\n",
              "      background-color: #E8F0FE;\n",
              "      border: none;\n",
              "      border-radius: 50%;\n",
              "      cursor: pointer;\n",
              "      display: none;\n",
              "      fill: #1967D2;\n",
              "      height: 32px;\n",
              "      padding: 0 0 0 0;\n",
              "      width: 32px;\n",
              "    }\n",
              "\n",
              "    .colab-df-convert:hover {\n",
              "      background-color: #E2EBFA;\n",
              "      box-shadow: 0px 1px 2px rgba(60, 64, 67, 0.3), 0px 1px 3px 1px rgba(60, 64, 67, 0.15);\n",
              "      fill: #174EA6;\n",
              "    }\n",
              "\n",
              "    [theme=dark] .colab-df-convert {\n",
              "      background-color: #3B4455;\n",
              "      fill: #D2E3FC;\n",
              "    }\n",
              "\n",
              "    [theme=dark] .colab-df-convert:hover {\n",
              "      background-color: #434B5C;\n",
              "      box-shadow: 0px 1px 3px 1px rgba(0, 0, 0, 0.15);\n",
              "      filter: drop-shadow(0px 1px 2px rgba(0, 0, 0, 0.3));\n",
              "      fill: #FFFFFF;\n",
              "    }\n",
              "  </style>\n",
              "\n",
              "      <script>\n",
              "        const buttonEl =\n",
              "          document.querySelector('#df-b7eb46bd-3ad5-4e81-a0c7-a3e81e76cf54 button.colab-df-convert');\n",
              "        buttonEl.style.display =\n",
              "          google.colab.kernel.accessAllowed ? 'block' : 'none';\n",
              "\n",
              "        async function convertToInteractive(key) {\n",
              "          const element = document.querySelector('#df-b7eb46bd-3ad5-4e81-a0c7-a3e81e76cf54');\n",
              "          const dataTable =\n",
              "            await google.colab.kernel.invokeFunction('convertToInteractive',\n",
              "                                                     [key], {});\n",
              "          if (!dataTable) return;\n",
              "\n",
              "          const docLinkHtml = 'Like what you see? Visit the ' +\n",
              "            '<a target=\"_blank\" href=https://colab.research.google.com/notebooks/data_table.ipynb>data table notebook</a>'\n",
              "            + ' to learn more about interactive tables.';\n",
              "          element.innerHTML = '';\n",
              "          dataTable['output_type'] = 'display_data';\n",
              "          await google.colab.output.renderOutput(dataTable, element);\n",
              "          const docLink = document.createElement('div');\n",
              "          docLink.innerHTML = docLinkHtml;\n",
              "          element.appendChild(docLink);\n",
              "        }\n",
              "      </script>\n",
              "    </div>\n",
              "  </div>\n",
              "  "
            ]
          },
          "metadata": {},
          "execution_count": 33
        }
      ],
      "source": [
        "# вывод первых 30 строк на экран\n",
        "sessions_per_month.head(30)"
      ]
    },
    {
      "cell_type": "markdown",
      "source": [
        "### Расчет ежемесячной выручки"
      ],
      "metadata": {
        "id": "eH9WaNSa-972"
      }
    },
    {
      "cell_type": "markdown",
      "metadata": {
        "deletable": false,
        "editable": false,
        "id": "L_uO0DgnGfNQ"
      },
      "source": [
        "Объединяем все посчитанные выше значения в один датафрейм `user_behavior` для расчета ежемесячной выручки.\n",
        "Для каждой пары \"пользователь - месяц\" будут доступны информация о тарифе, количестве звонков, сообщений и потраченных мегабайтах."
      ]
    },
    {
      "cell_type": "code",
      "execution_count": 34,
      "metadata": {
        "deletable": false,
        "colab": {
          "base_uri": "https://localhost:8080/",
          "height": 206
        },
        "id": "khxaPS4_GfNQ",
        "outputId": "b68e40e0-8c52-4626-ece3-07001156b9d1"
      },
      "outputs": [
        {
          "output_type": "execute_result",
          "data": {
            "text/plain": [
              "   user_id  month  calls  messages   mb_used  minutes  age churn_date  \\\n",
              "0     1000      5   22.0      22.0   2253.49    159.0   52        NaT   \n",
              "1     1000      6   43.0      60.0  23233.77    172.0   52        NaT   \n",
              "2     1000      7   47.0      75.0  14003.64    340.0   52        NaT   \n",
              "3     1000      8   52.0      81.0  14055.93    408.0   52        NaT   \n",
              "4     1000      9   58.0      57.0  14568.91    466.0   52        NaT   \n",
              "\n",
              "        city first_name  last_name   reg_date tariff  \n",
              "0  Краснодар     Рафаил  Верещагин 2018-05-25  ultra  \n",
              "1  Краснодар     Рафаил  Верещагин 2018-05-25  ultra  \n",
              "2  Краснодар     Рафаил  Верещагин 2018-05-25  ultra  \n",
              "3  Краснодар     Рафаил  Верещагин 2018-05-25  ultra  \n",
              "4  Краснодар     Рафаил  Верещагин 2018-05-25  ultra  "
            ],
            "text/html": [
              "\n",
              "  <div id=\"df-db8adb91-602c-425b-a085-c470aff5a478\">\n",
              "    <div class=\"colab-df-container\">\n",
              "      <div>\n",
              "<style scoped>\n",
              "    .dataframe tbody tr th:only-of-type {\n",
              "        vertical-align: middle;\n",
              "    }\n",
              "\n",
              "    .dataframe tbody tr th {\n",
              "        vertical-align: top;\n",
              "    }\n",
              "\n",
              "    .dataframe thead th {\n",
              "        text-align: right;\n",
              "    }\n",
              "</style>\n",
              "<table border=\"1\" class=\"dataframe\">\n",
              "  <thead>\n",
              "    <tr style=\"text-align: right;\">\n",
              "      <th></th>\n",
              "      <th>user_id</th>\n",
              "      <th>month</th>\n",
              "      <th>calls</th>\n",
              "      <th>messages</th>\n",
              "      <th>mb_used</th>\n",
              "      <th>minutes</th>\n",
              "      <th>age</th>\n",
              "      <th>churn_date</th>\n",
              "      <th>city</th>\n",
              "      <th>first_name</th>\n",
              "      <th>last_name</th>\n",
              "      <th>reg_date</th>\n",
              "      <th>tariff</th>\n",
              "    </tr>\n",
              "  </thead>\n",
              "  <tbody>\n",
              "    <tr>\n",
              "      <th>0</th>\n",
              "      <td>1000</td>\n",
              "      <td>5</td>\n",
              "      <td>22.0</td>\n",
              "      <td>22.0</td>\n",
              "      <td>2253.49</td>\n",
              "      <td>159.0</td>\n",
              "      <td>52</td>\n",
              "      <td>NaT</td>\n",
              "      <td>Краснодар</td>\n",
              "      <td>Рафаил</td>\n",
              "      <td>Верещагин</td>\n",
              "      <td>2018-05-25</td>\n",
              "      <td>ultra</td>\n",
              "    </tr>\n",
              "    <tr>\n",
              "      <th>1</th>\n",
              "      <td>1000</td>\n",
              "      <td>6</td>\n",
              "      <td>43.0</td>\n",
              "      <td>60.0</td>\n",
              "      <td>23233.77</td>\n",
              "      <td>172.0</td>\n",
              "      <td>52</td>\n",
              "      <td>NaT</td>\n",
              "      <td>Краснодар</td>\n",
              "      <td>Рафаил</td>\n",
              "      <td>Верещагин</td>\n",
              "      <td>2018-05-25</td>\n",
              "      <td>ultra</td>\n",
              "    </tr>\n",
              "    <tr>\n",
              "      <th>2</th>\n",
              "      <td>1000</td>\n",
              "      <td>7</td>\n",
              "      <td>47.0</td>\n",
              "      <td>75.0</td>\n",
              "      <td>14003.64</td>\n",
              "      <td>340.0</td>\n",
              "      <td>52</td>\n",
              "      <td>NaT</td>\n",
              "      <td>Краснодар</td>\n",
              "      <td>Рафаил</td>\n",
              "      <td>Верещагин</td>\n",
              "      <td>2018-05-25</td>\n",
              "      <td>ultra</td>\n",
              "    </tr>\n",
              "    <tr>\n",
              "      <th>3</th>\n",
              "      <td>1000</td>\n",
              "      <td>8</td>\n",
              "      <td>52.0</td>\n",
              "      <td>81.0</td>\n",
              "      <td>14055.93</td>\n",
              "      <td>408.0</td>\n",
              "      <td>52</td>\n",
              "      <td>NaT</td>\n",
              "      <td>Краснодар</td>\n",
              "      <td>Рафаил</td>\n",
              "      <td>Верещагин</td>\n",
              "      <td>2018-05-25</td>\n",
              "      <td>ultra</td>\n",
              "    </tr>\n",
              "    <tr>\n",
              "      <th>4</th>\n",
              "      <td>1000</td>\n",
              "      <td>9</td>\n",
              "      <td>58.0</td>\n",
              "      <td>57.0</td>\n",
              "      <td>14568.91</td>\n",
              "      <td>466.0</td>\n",
              "      <td>52</td>\n",
              "      <td>NaT</td>\n",
              "      <td>Краснодар</td>\n",
              "      <td>Рафаил</td>\n",
              "      <td>Верещагин</td>\n",
              "      <td>2018-05-25</td>\n",
              "      <td>ultra</td>\n",
              "    </tr>\n",
              "  </tbody>\n",
              "</table>\n",
              "</div>\n",
              "      <button class=\"colab-df-convert\" onclick=\"convertToInteractive('df-db8adb91-602c-425b-a085-c470aff5a478')\"\n",
              "              title=\"Convert this dataframe to an interactive table.\"\n",
              "              style=\"display:none;\">\n",
              "        \n",
              "  <svg xmlns=\"http://www.w3.org/2000/svg\" height=\"24px\"viewBox=\"0 0 24 24\"\n",
              "       width=\"24px\">\n",
              "    <path d=\"M0 0h24v24H0V0z\" fill=\"none\"/>\n",
              "    <path d=\"M18.56 5.44l.94 2.06.94-2.06 2.06-.94-2.06-.94-.94-2.06-.94 2.06-2.06.94zm-11 1L8.5 8.5l.94-2.06 2.06-.94-2.06-.94L8.5 2.5l-.94 2.06-2.06.94zm10 10l.94 2.06.94-2.06 2.06-.94-2.06-.94-.94-2.06-.94 2.06-2.06.94z\"/><path d=\"M17.41 7.96l-1.37-1.37c-.4-.4-.92-.59-1.43-.59-.52 0-1.04.2-1.43.59L10.3 9.45l-7.72 7.72c-.78.78-.78 2.05 0 2.83L4 21.41c.39.39.9.59 1.41.59.51 0 1.02-.2 1.41-.59l7.78-7.78 2.81-2.81c.8-.78.8-2.07 0-2.86zM5.41 20L4 18.59l7.72-7.72 1.47 1.35L5.41 20z\"/>\n",
              "  </svg>\n",
              "      </button>\n",
              "      \n",
              "  <style>\n",
              "    .colab-df-container {\n",
              "      display:flex;\n",
              "      flex-wrap:wrap;\n",
              "      gap: 12px;\n",
              "    }\n",
              "\n",
              "    .colab-df-convert {\n",
              "      background-color: #E8F0FE;\n",
              "      border: none;\n",
              "      border-radius: 50%;\n",
              "      cursor: pointer;\n",
              "      display: none;\n",
              "      fill: #1967D2;\n",
              "      height: 32px;\n",
              "      padding: 0 0 0 0;\n",
              "      width: 32px;\n",
              "    }\n",
              "\n",
              "    .colab-df-convert:hover {\n",
              "      background-color: #E2EBFA;\n",
              "      box-shadow: 0px 1px 2px rgba(60, 64, 67, 0.3), 0px 1px 3px 1px rgba(60, 64, 67, 0.15);\n",
              "      fill: #174EA6;\n",
              "    }\n",
              "\n",
              "    [theme=dark] .colab-df-convert {\n",
              "      background-color: #3B4455;\n",
              "      fill: #D2E3FC;\n",
              "    }\n",
              "\n",
              "    [theme=dark] .colab-df-convert:hover {\n",
              "      background-color: #434B5C;\n",
              "      box-shadow: 0px 1px 3px 1px rgba(0, 0, 0, 0.15);\n",
              "      filter: drop-shadow(0px 1px 2px rgba(0, 0, 0, 0.3));\n",
              "      fill: #FFFFFF;\n",
              "    }\n",
              "  </style>\n",
              "\n",
              "      <script>\n",
              "        const buttonEl =\n",
              "          document.querySelector('#df-db8adb91-602c-425b-a085-c470aff5a478 button.colab-df-convert');\n",
              "        buttonEl.style.display =\n",
              "          google.colab.kernel.accessAllowed ? 'block' : 'none';\n",
              "\n",
              "        async function convertToInteractive(key) {\n",
              "          const element = document.querySelector('#df-db8adb91-602c-425b-a085-c470aff5a478');\n",
              "          const dataTable =\n",
              "            await google.colab.kernel.invokeFunction('convertToInteractive',\n",
              "                                                     [key], {});\n",
              "          if (!dataTable) return;\n",
              "\n",
              "          const docLinkHtml = 'Like what you see? Visit the ' +\n",
              "            '<a target=\"_blank\" href=https://colab.research.google.com/notebooks/data_table.ipynb>data table notebook</a>'\n",
              "            + ' to learn more about interactive tables.';\n",
              "          element.innerHTML = '';\n",
              "          dataTable['output_type'] = 'display_data';\n",
              "          await google.colab.output.renderOutput(dataTable, element);\n",
              "          const docLink = document.createElement('div');\n",
              "          docLink.innerHTML = docLinkHtml;\n",
              "          element.appendChild(docLink);\n",
              "        }\n",
              "      </script>\n",
              "    </div>\n",
              "  </div>\n",
              "  "
            ]
          },
          "metadata": {},
          "execution_count": 34
        }
      ],
      "source": [
        "user_behavior = calls_per_month\\\n",
        "    .merge(messages_per_month, left_index=True, right_index=True, how='outer')\\\n",
        "    .merge(sessions_per_month, left_index=True, right_index=True, how='outer')\\\n",
        "    .merge(minutes_per_month, left_index=True, right_index=True, how='outer')\\\n",
        "    .reset_index()\\\n",
        "    .merge(users, how='left', left_on='user_id', right_on='user_id')\\\n",
        "\n",
        "user_behavior.head()"
      ]
    },
    {
      "cell_type": "markdown",
      "metadata": {
        "deletable": false,
        "editable": false,
        "id": "qe1EI6bxGfNQ"
      },
      "source": [
        "Проверим пропуски в таблице `user_behavior` после объединения:"
      ]
    },
    {
      "cell_type": "code",
      "execution_count": 35,
      "metadata": {
        "deletable": false,
        "colab": {
          "base_uri": "https://localhost:8080/"
        },
        "id": "mQlu7wiCGfNR",
        "outputId": "fc4d8c0c-ae1e-4743-c320-f71d83283247"
      },
      "outputs": [
        {
          "output_type": "execute_result",
          "data": {
            "text/plain": [
              "user_id          0\n",
              "month            0\n",
              "calls           40\n",
              "messages       497\n",
              "mb_used         11\n",
              "minutes         40\n",
              "age              0\n",
              "churn_date    3027\n",
              "city             0\n",
              "first_name       0\n",
              "last_name        0\n",
              "reg_date         0\n",
              "tariff           0\n",
              "dtype: int64"
            ]
          },
          "metadata": {},
          "execution_count": 35
        }
      ],
      "source": [
        "user_behavior.isna().sum()"
      ]
    },
    {
      "cell_type": "markdown",
      "metadata": {
        "deletable": false,
        "editable": false,
        "id": "d6s8UqbBGfNR"
      },
      "source": [
        "Заполним образовавшиеся пропуски в данных:"
      ]
    },
    {
      "cell_type": "code",
      "execution_count": 36,
      "metadata": {
        "deletable": false,
        "id": "jFz8kQZvGfNR"
      },
      "outputs": [],
      "source": [
        "user_behavior['calls'] = user_behavior['calls'].fillna(0)\n",
        "user_behavior['minutes'] = user_behavior['minutes'].fillna(0)\n",
        "user_behavior['messages'] = user_behavior['messages'].fillna(0)\n",
        "user_behavior['mb_used'] = user_behavior['mb_used'].fillna(0)"
      ]
    },
    {
      "cell_type": "markdown",
      "metadata": {
        "deletable": false,
        "editable": false,
        "id": "ekyCPiBCGfNR"
      },
      "source": [
        "Присоединяем информацию о тарифах"
      ]
    },
    {
      "cell_type": "code",
      "execution_count": 37,
      "metadata": {
        "deletable": false,
        "id": "9Kpnf6v6GfNR"
      },
      "outputs": [],
      "source": [
        "# переименование столбца tariff_name на более простое tariff\n",
        "\n",
        "tariffs = tariffs.rename(\n",
        "    columns={\n",
        "        'tariff_name': 'tariff'\n",
        "    }\n",
        ")"
      ]
    },
    {
      "cell_type": "code",
      "execution_count": 38,
      "metadata": {
        "deletable": false,
        "id": "wTlvb_n3GfNR"
      },
      "outputs": [],
      "source": [
        "user_behavior = user_behavior.merge(tariffs, on='tariff')"
      ]
    },
    {
      "cell_type": "markdown",
      "metadata": {
        "deletable": false,
        "editable": false,
        "id": "UCbRTmzpGfNR"
      },
      "source": [
        "Считаем количество минут разговора, сообщений и мегабайт, превышающих включенные в тариф\n"
      ]
    },
    {
      "cell_type": "code",
      "execution_count": 39,
      "metadata": {
        "deletable": false,
        "id": "eIN8t7ASGfNS"
      },
      "outputs": [],
      "source": [
        "user_behavior['paid_minutes'] = user_behavior['minutes'] - user_behavior['minutes_included']\n",
        "user_behavior['paid_messages'] = user_behavior['messages'] - user_behavior['messages_included']\n",
        "user_behavior['paid_mb'] = user_behavior['mb_used'] - user_behavior['mb_per_month_included']\n",
        "\n",
        "for col in ['paid_messages', 'paid_minutes', 'paid_mb']:\n",
        "    user_behavior.loc[user_behavior[col] < 0, col] = 0"
      ]
    },
    {
      "cell_type": "markdown",
      "metadata": {
        "deletable": false,
        "editable": false,
        "id": "464ozytCGfNS"
      },
      "source": [
        "Переводим превышающие тариф мегабайты в гигабайты и сохраняем в столбец `paid_gb`"
      ]
    },
    {
      "cell_type": "code",
      "execution_count": 40,
      "metadata": {
        "deletable": false,
        "id": "09ZWy7i2GfNS"
      },
      "outputs": [],
      "source": [
        "user_behavior['paid_gb'] = np.ceil(user_behavior['paid_mb'] / 1024).astype(int)"
      ]
    },
    {
      "cell_type": "markdown",
      "metadata": {
        "deletable": false,
        "editable": false,
        "id": "2qILa3KNGfNS"
      },
      "source": [
        "Считаем выручку за минуты разговора, сообщения и интернет"
      ]
    },
    {
      "cell_type": "code",
      "execution_count": 41,
      "metadata": {
        "deletable": false,
        "id": "f0dalUySGfNS"
      },
      "outputs": [],
      "source": [
        "user_behavior['cost_minutes'] = user_behavior['paid_minutes'] * user_behavior['rub_per_minute']\n",
        "user_behavior['cost_messages'] = user_behavior['paid_messages'] * user_behavior['rub_per_message']\n",
        "user_behavior['cost_gb'] = user_behavior['paid_gb'] * user_behavior['rub_per_gb']"
      ]
    },
    {
      "cell_type": "markdown",
      "source": [
        "Посчитаем сумму платных услуг сверх тарифа с каждого пользователя, она будет храниться в столбец `add_cost`"
      ],
      "metadata": {
        "id": "hgcqFGT_BRfx"
      }
    },
    {
      "cell_type": "code",
      "source": [
        "user_behavior['add_cost'] = \\\n",
        "    user_behavior['cost_minutes']\\\n",
        "    + user_behavior['cost_messages']\\\n",
        "    + user_behavior['cost_gb']"
      ],
      "metadata": {
        "id": "B_E_sBdrBROj"
      },
      "execution_count": 42,
      "outputs": []
    },
    {
      "cell_type": "markdown",
      "metadata": {
        "deletable": false,
        "editable": false,
        "id": "YP2csHlJGfNS"
      },
      "source": [
        "Считаем помесячную выручку с каждого пользователя, она будет храниться в столбец `total_cost`"
      ]
    },
    {
      "cell_type": "code",
      "execution_count": 43,
      "metadata": {
        "deletable": false,
        "id": "kVZDQPGJGfNS"
      },
      "outputs": [],
      "source": [
        "user_behavior['total_cost'] = \\\n",
        "      user_behavior['rub_monthly_fee']\\\n",
        "    + user_behavior['add_cost']"
      ]
    },
    {
      "cell_type": "markdown",
      "metadata": {
        "deletable": false,
        "editable": false,
        "id": "YMn_0SdFGfNS"
      },
      "source": [
        "Датафрейм `stats_df` для каждой пары \"месяц-тариф\" будет хранить основные характеристики"
      ]
    },
    {
      "cell_type": "code",
      "execution_count": 44,
      "metadata": {
        "deletable": false,
        "colab": {
          "base_uri": "https://localhost:8080/",
          "height": 206
        },
        "id": "SMgZLCvVGfNS",
        "outputId": "a81a49ca-a641-4e2f-ffab-bba3b084ab31"
      },
      "outputs": [
        {
          "output_type": "execute_result",
          "data": {
            "text/plain": [
              "   month tariff  calls_mean  sessions_mean  messages_mean  minutes_mean  \\\n",
              "0      1  smart       27.68        8513.72          18.24        203.85   \n",
              "1      1  ultra       59.44       13140.68          33.78        428.11   \n",
              "2      2  smart       40.19       11597.05          24.09        298.69   \n",
              "3      2  ultra       41.54       11775.94          21.96        297.12   \n",
              "4      3  smart       54.32       15104.16          31.86        390.05   \n",
              "\n",
              "   calls_std  sessions_std  messages_std  minutes_std  calls_median  \\\n",
              "0      20.81       6444.68         16.20       154.23          20.5   \n",
              "1      41.64       6865.35         30.67       269.76          51.0   \n",
              "2      25.39       6247.35         21.75       190.82          38.5   \n",
              "3      40.97      10644.64         26.77       296.51          25.0   \n",
              "4      25.54       5828.24         26.80       191.89          59.0   \n",
              "\n",
              "   sessions_median  messages_median  minutes_median  \n",
              "0          7096.18             15.0           162.5  \n",
              "1         14791.37             32.0           382.0  \n",
              "2         12553.71             20.0           258.0  \n",
              "3          7327.12              5.5           168.0  \n",
              "4         15670.25             23.0           409.0  "
            ],
            "text/html": [
              "\n",
              "  <div id=\"df-00a8b9b9-1404-4f5d-adca-252a5aad6992\">\n",
              "    <div class=\"colab-df-container\">\n",
              "      <div>\n",
              "<style scoped>\n",
              "    .dataframe tbody tr th:only-of-type {\n",
              "        vertical-align: middle;\n",
              "    }\n",
              "\n",
              "    .dataframe tbody tr th {\n",
              "        vertical-align: top;\n",
              "    }\n",
              "\n",
              "    .dataframe thead th {\n",
              "        text-align: right;\n",
              "    }\n",
              "</style>\n",
              "<table border=\"1\" class=\"dataframe\">\n",
              "  <thead>\n",
              "    <tr style=\"text-align: right;\">\n",
              "      <th></th>\n",
              "      <th>month</th>\n",
              "      <th>tariff</th>\n",
              "      <th>calls_mean</th>\n",
              "      <th>sessions_mean</th>\n",
              "      <th>messages_mean</th>\n",
              "      <th>minutes_mean</th>\n",
              "      <th>calls_std</th>\n",
              "      <th>sessions_std</th>\n",
              "      <th>messages_std</th>\n",
              "      <th>minutes_std</th>\n",
              "      <th>calls_median</th>\n",
              "      <th>sessions_median</th>\n",
              "      <th>messages_median</th>\n",
              "      <th>minutes_median</th>\n",
              "    </tr>\n",
              "  </thead>\n",
              "  <tbody>\n",
              "    <tr>\n",
              "      <th>0</th>\n",
              "      <td>1</td>\n",
              "      <td>smart</td>\n",
              "      <td>27.68</td>\n",
              "      <td>8513.72</td>\n",
              "      <td>18.24</td>\n",
              "      <td>203.85</td>\n",
              "      <td>20.81</td>\n",
              "      <td>6444.68</td>\n",
              "      <td>16.20</td>\n",
              "      <td>154.23</td>\n",
              "      <td>20.5</td>\n",
              "      <td>7096.18</td>\n",
              "      <td>15.0</td>\n",
              "      <td>162.5</td>\n",
              "    </tr>\n",
              "    <tr>\n",
              "      <th>1</th>\n",
              "      <td>1</td>\n",
              "      <td>ultra</td>\n",
              "      <td>59.44</td>\n",
              "      <td>13140.68</td>\n",
              "      <td>33.78</td>\n",
              "      <td>428.11</td>\n",
              "      <td>41.64</td>\n",
              "      <td>6865.35</td>\n",
              "      <td>30.67</td>\n",
              "      <td>269.76</td>\n",
              "      <td>51.0</td>\n",
              "      <td>14791.37</td>\n",
              "      <td>32.0</td>\n",
              "      <td>382.0</td>\n",
              "    </tr>\n",
              "    <tr>\n",
              "      <th>2</th>\n",
              "      <td>2</td>\n",
              "      <td>smart</td>\n",
              "      <td>40.19</td>\n",
              "      <td>11597.05</td>\n",
              "      <td>24.09</td>\n",
              "      <td>298.69</td>\n",
              "      <td>25.39</td>\n",
              "      <td>6247.35</td>\n",
              "      <td>21.75</td>\n",
              "      <td>190.82</td>\n",
              "      <td>38.5</td>\n",
              "      <td>12553.71</td>\n",
              "      <td>20.0</td>\n",
              "      <td>258.0</td>\n",
              "    </tr>\n",
              "    <tr>\n",
              "      <th>3</th>\n",
              "      <td>2</td>\n",
              "      <td>ultra</td>\n",
              "      <td>41.54</td>\n",
              "      <td>11775.94</td>\n",
              "      <td>21.96</td>\n",
              "      <td>297.12</td>\n",
              "      <td>40.97</td>\n",
              "      <td>10644.64</td>\n",
              "      <td>26.77</td>\n",
              "      <td>296.51</td>\n",
              "      <td>25.0</td>\n",
              "      <td>7327.12</td>\n",
              "      <td>5.5</td>\n",
              "      <td>168.0</td>\n",
              "    </tr>\n",
              "    <tr>\n",
              "      <th>4</th>\n",
              "      <td>3</td>\n",
              "      <td>smart</td>\n",
              "      <td>54.32</td>\n",
              "      <td>15104.16</td>\n",
              "      <td>31.86</td>\n",
              "      <td>390.05</td>\n",
              "      <td>25.54</td>\n",
              "      <td>5828.24</td>\n",
              "      <td>26.80</td>\n",
              "      <td>191.89</td>\n",
              "      <td>59.0</td>\n",
              "      <td>15670.25</td>\n",
              "      <td>23.0</td>\n",
              "      <td>409.0</td>\n",
              "    </tr>\n",
              "  </tbody>\n",
              "</table>\n",
              "</div>\n",
              "      <button class=\"colab-df-convert\" onclick=\"convertToInteractive('df-00a8b9b9-1404-4f5d-adca-252a5aad6992')\"\n",
              "              title=\"Convert this dataframe to an interactive table.\"\n",
              "              style=\"display:none;\">\n",
              "        \n",
              "  <svg xmlns=\"http://www.w3.org/2000/svg\" height=\"24px\"viewBox=\"0 0 24 24\"\n",
              "       width=\"24px\">\n",
              "    <path d=\"M0 0h24v24H0V0z\" fill=\"none\"/>\n",
              "    <path d=\"M18.56 5.44l.94 2.06.94-2.06 2.06-.94-2.06-.94-.94-2.06-.94 2.06-2.06.94zm-11 1L8.5 8.5l.94-2.06 2.06-.94-2.06-.94L8.5 2.5l-.94 2.06-2.06.94zm10 10l.94 2.06.94-2.06 2.06-.94-2.06-.94-.94-2.06-.94 2.06-2.06.94z\"/><path d=\"M17.41 7.96l-1.37-1.37c-.4-.4-.92-.59-1.43-.59-.52 0-1.04.2-1.43.59L10.3 9.45l-7.72 7.72c-.78.78-.78 2.05 0 2.83L4 21.41c.39.39.9.59 1.41.59.51 0 1.02-.2 1.41-.59l7.78-7.78 2.81-2.81c.8-.78.8-2.07 0-2.86zM5.41 20L4 18.59l7.72-7.72 1.47 1.35L5.41 20z\"/>\n",
              "  </svg>\n",
              "      </button>\n",
              "      \n",
              "  <style>\n",
              "    .colab-df-container {\n",
              "      display:flex;\n",
              "      flex-wrap:wrap;\n",
              "      gap: 12px;\n",
              "    }\n",
              "\n",
              "    .colab-df-convert {\n",
              "      background-color: #E8F0FE;\n",
              "      border: none;\n",
              "      border-radius: 50%;\n",
              "      cursor: pointer;\n",
              "      display: none;\n",
              "      fill: #1967D2;\n",
              "      height: 32px;\n",
              "      padding: 0 0 0 0;\n",
              "      width: 32px;\n",
              "    }\n",
              "\n",
              "    .colab-df-convert:hover {\n",
              "      background-color: #E2EBFA;\n",
              "      box-shadow: 0px 1px 2px rgba(60, 64, 67, 0.3), 0px 1px 3px 1px rgba(60, 64, 67, 0.15);\n",
              "      fill: #174EA6;\n",
              "    }\n",
              "\n",
              "    [theme=dark] .colab-df-convert {\n",
              "      background-color: #3B4455;\n",
              "      fill: #D2E3FC;\n",
              "    }\n",
              "\n",
              "    [theme=dark] .colab-df-convert:hover {\n",
              "      background-color: #434B5C;\n",
              "      box-shadow: 0px 1px 3px 1px rgba(0, 0, 0, 0.15);\n",
              "      filter: drop-shadow(0px 1px 2px rgba(0, 0, 0, 0.3));\n",
              "      fill: #FFFFFF;\n",
              "    }\n",
              "  </style>\n",
              "\n",
              "      <script>\n",
              "        const buttonEl =\n",
              "          document.querySelector('#df-00a8b9b9-1404-4f5d-adca-252a5aad6992 button.colab-df-convert');\n",
              "        buttonEl.style.display =\n",
              "          google.colab.kernel.accessAllowed ? 'block' : 'none';\n",
              "\n",
              "        async function convertToInteractive(key) {\n",
              "          const element = document.querySelector('#df-00a8b9b9-1404-4f5d-adca-252a5aad6992');\n",
              "          const dataTable =\n",
              "            await google.colab.kernel.invokeFunction('convertToInteractive',\n",
              "                                                     [key], {});\n",
              "          if (!dataTable) return;\n",
              "\n",
              "          const docLinkHtml = 'Like what you see? Visit the ' +\n",
              "            '<a target=\"_blank\" href=https://colab.research.google.com/notebooks/data_table.ipynb>data table notebook</a>'\n",
              "            + ' to learn more about interactive tables.';\n",
              "          element.innerHTML = '';\n",
              "          dataTable['output_type'] = 'display_data';\n",
              "          await google.colab.output.renderOutput(dataTable, element);\n",
              "          const docLink = document.createElement('div');\n",
              "          docLink.innerHTML = docLinkHtml;\n",
              "          element.appendChild(docLink);\n",
              "        }\n",
              "      </script>\n",
              "    </div>\n",
              "  </div>\n",
              "  "
            ]
          },
          "metadata": {},
          "execution_count": 44
        }
      ],
      "source": [
        "# сохранение статистических метрик для каждой пары месяц-тариф\n",
        "# в одной таблице stats_df (среднее значение, стандартное отклонение, медиана)\n",
        "\n",
        "stats_df = user_behavior.pivot_table(\n",
        "            index=['month', 'tariff'],\\\n",
        "            values=['calls', 'minutes', 'messages', 'mb_used'],\\\n",
        "            aggfunc=['mean', 'std', 'median']\\\n",
        ").round(2).reset_index()\n",
        "\n",
        "stats_df.columns=['month', 'tariff', 'calls_mean', 'sessions_mean', 'messages_mean', 'minutes_mean',\n",
        "                                     'calls_std',  'sessions_std', 'messages_std', 'minutes_std', \n",
        "                                     'calls_median', 'sessions_median', 'messages_median',  'minutes_median']\n",
        "\n",
        "stats_df.head(5)"
      ]
    },
    {
      "cell_type": "markdown",
      "metadata": {
        "deletable": false,
        "editable": false,
        "id": "71axh75nGfNQ"
      },
      "source": [
        "## Исследовательский анализ данных"
      ]
    },
    {
      "cell_type": "markdown",
      "source": [
        "Посмотрим распределение пользователей по тарифам"
      ],
      "metadata": {
        "id": "kg3x6mAQ5pvi"
      }
    },
    {
      "cell_type": "code",
      "source": [
        "ax = sns.barplot(x=\"tariff\", y= 'count', data=user_behavior.groupby(\n",
        "                  'tariff', as_index=False).agg(count=('user_id', 'nunique')), palette=['lightblue', 'dodgerblue'])\n",
        "ax.set_title('Распределение количества абонентов по тарифам')\n",
        "ax.set(xlabel='Тариф', ylabel='Количество абонентов');"
      ],
      "metadata": {
        "colab": {
          "base_uri": "https://localhost:8080/",
          "height": 295
        },
        "id": "NaQDcYhl3nfw",
        "outputId": "3deb5a2f-8452-4094-8fd0-3fc4ae82fef1"
      },
      "execution_count": 46,
      "outputs": [
        {
          "output_type": "display_data",
          "data": {
            "text/plain": [
              "<Figure size 432x288 with 1 Axes>"
            ],
            "image/png": "[encoded data removed]"
          },
          "metadata": {
            "needs_background": "light"
          }
        }
      ]
    },
    {
      "cell_type": "markdown",
      "source": [
        "Пользователей тарифа «Смарт» ~ в два раза больше, чем тарифа «Ультра»"
      ],
      "metadata": {
        "id": "UbUmvUylgwXR"
      }
    },
    {
      "cell_type": "markdown",
      "source": [
        "### Анализ звонков "
      ],
      "metadata": {
        "id": "s6hwmzeX-NDd"
      }
    },
    {
      "cell_type": "markdown",
      "metadata": {
        "deletable": false,
        "editable": false,
        "id": "5ksTiKB6GfNS"
      },
      "source": [
        "Распределение среднего количества звонков по видам тарифов и месяцам"
      ]
    },
    {
      "cell_type": "code",
      "execution_count": 47,
      "metadata": {
        "deletable": false,
        "colab": {
          "base_uri": "https://localhost:8080/",
          "height": 295
        },
        "id": "_Dah-y-dGfNT",
        "outputId": "6475864c-c882-4080-844b-1e61de0d04d0"
      },
      "outputs": [
        {
          "output_type": "display_data",
          "data": {
            "text/plain": [
              "<Figure size 432x288 with 1 Axes>"
            ],
            "image/png": "[encoded data removed]"
          },
          "metadata": {
            "needs_background": "light"
          }
        }
      ],
      "source": [
        "ax = sns.barplot(x='month',\n",
        "            y='calls_mean',\n",
        "            hue=\"tariff\",\n",
        "            data=stats_df,\n",
        "            palette=['lightblue', 'dodgerblue'])\n",
        "\n",
        "ax.set_title('Распределение количества звонков по видам тарифов и месяцам')\n",
        "ax.set(xlabel='Номер месяца', ylabel='Среднее количество звонков');"
      ]
    },
    {
      "cell_type": "code",
      "execution_count": 79,
      "metadata": {
        "deletable": false,
        "colab": {
          "base_uri": "https://localhost:8080/",
          "height": 295
        },
        "id": "FVdtA5XEGfNT",
        "outputId": "c168849c-01da-4e11-cd25-866439280919"
      },
      "outputs": [
        {
          "output_type": "display_data",
          "data": {
            "text/plain": [
              "<Figure size 432x288 with 1 Axes>"
            ],
            "image/png": "[encoded data removed]"
          },
          "metadata": {
            "needs_background": "light"
          }
        }
      ],
      "source": [
        "\n",
        "user_behavior[user_behavior['tariff'] =='smart']['calls'].plot(kind='hist', bins=40, color='orange', alpha=0.6)\n",
        "user_behavior[user_behavior['tariff'] =='ultra']['calls'].plot(kind='hist', bins=40, color='darkblue', alpha=0.6)\n",
        "plt.legend(['Smart', 'Ultra'])\n",
        "plt.xlabel('Количество звонков в месяц')\n",
        "plt.ylabel('Количество наблюдений')\n",
        "plt.title('Распределение количества звонков в месяц')\n",
        "plt.show();"
      ]
    },
    {
      "cell_type": "markdown",
      "metadata": {
        "deletable": false,
        "editable": false,
        "id": "IX1ltJXzGfNT"
      },
      "source": [
        "Распределение средней продолжительности звонков по видам тарифов и месяцам"
      ]
    },
    {
      "cell_type": "code",
      "execution_count": 74,
      "metadata": {
        "deletable": false,
        "colab": {
          "base_uri": "https://localhost:8080/",
          "height": 295
        },
        "id": "DduCT014GfNT",
        "outputId": "ee0200ac-361a-4dc6-a0f1-f6e72dde7109"
      },
      "outputs": [
        {
          "output_type": "display_data",
          "data": {
            "text/plain": [
              "<Figure size 432x288 with 1 Axes>"
            ],
            "image/png": "[encoded data removed]"
          },
          "metadata": {
            "needs_background": "light"
          }
        }
      ],
      "source": [
        "ax = sns.barplot(x='month',\n",
        "            y='minutes_mean',\n",
        "            hue=\"tariff\",\n",
        "            data=stats_df,\n",
        "            palette=['lightblue', 'dodgerblue'])\n",
        "\n",
        "ax.set_title('Распределение продолжительности звонков по видам тарифов и месяцам')\n",
        "ax.set(xlabel='Номер месяца', ylabel='Средняя продолжительность звонков');"
      ]
    },
    {
      "cell_type": "code",
      "execution_count": 84,
      "metadata": {
        "deletable": false,
        "colab": {
          "base_uri": "https://localhost:8080/",
          "height": 295
        },
        "id": "eS-hXKfjGfNT",
        "outputId": "672c34ec-763a-434b-ae8f-b806612e9950"
      },
      "outputs": [
        {
          "output_type": "display_data",
          "data": {
            "text/plain": [
              "<Figure size 432x288 with 1 Axes>"
            ],
            "image/png": "[encoded data removed]"
          },
          "metadata": {
            "needs_background": "light"
          }
        }
      ],
      "source": [
        "user_behavior[user_behavior['tariff'] =='smart']['minutes'].plot(kind='hist', bins=40, color='orange', alpha=0.6)\n",
        "user_behavior[user_behavior['tariff'] =='ultra']['minutes'].plot(kind='hist', bins=40, color='darkblue', alpha=0.6)\n",
        "plt.title('Израсходованные в месяц минуты по тарифам')\n",
        "plt.legend(['Smart', 'Ultra'])\n",
        "plt.xlabel('Количество минут в месяц')\n",
        "plt.ylabel('Количество наблюдений')\n",
        "plt.show()"
      ]
    },
    {
      "cell_type": "markdown",
      "metadata": {
        "deletable": false,
        "editable": false,
        "id": "gpyVuFd4GfNT"
      },
      "source": [
        "Средняя длительность разговоров и количество звонков у абонентов тарифа Ultra больше, чем у абонентов тарифа Smart.  \n",
        "В течение года пользователи обоих тарифов увеличивают среднюю продолжительность своих разговоров.  \n",
        "Рост средней длительности разговоров у абонентов тарифа Smart равномерный в течение года.  \n",
        "Пользователи тарифа Ultra не проявляют подобной линейной стабильности.  \n",
        "Стоит отметить, что феврале у абонентов обоих тарифных планов наблюдались самые низкие показатели."
      ]
    },
    {
      "cell_type": "markdown",
      "source": [
        "### Анализ cообщений"
      ],
      "metadata": {
        "id": "IUTi0Swz-SXS"
      }
    },
    {
      "cell_type": "markdown",
      "metadata": {
        "deletable": false,
        "editable": false,
        "id": "ZG56oiEoGfNT"
      },
      "source": [
        "Распределение среднего количества сообщений по видам тарифов и месяцам"
      ]
    },
    {
      "cell_type": "code",
      "execution_count": 72,
      "metadata": {
        "deletable": false,
        "colab": {
          "base_uri": "https://localhost:8080/",
          "height": 295
        },
        "id": "DuUgdCThGfNT",
        "outputId": "321db294-ad4f-4960-ec5a-e554367b00d3"
      },
      "outputs": [
        {
          "output_type": "display_data",
          "data": {
            "text/plain": [
              "<Figure size 432x288 with 1 Axes>"
            ],
            "image/png": "[encoded data removed]"
          },
          "metadata": {
            "needs_background": "light"
          }
        }
      ],
      "source": [
        "ax = sns.barplot(x='month',\n",
        "            y='messages_mean',\n",
        "            hue=\"tariff\",\n",
        "            data=stats_df,\n",
        "            palette=['lightblue', 'dodgerblue']\n",
        ")\n",
        "\n",
        "ax.set_title('Распределение количества сообщений по видам тарифов и месяцам')\n",
        "ax.set(xlabel='Номер месяца', ylabel='Среднее количество сообщений');"
      ]
    },
    {
      "cell_type": "code",
      "execution_count": 86,
      "metadata": {
        "deletable": false,
        "colab": {
          "base_uri": "https://localhost:8080/",
          "height": 295
        },
        "id": "sDW2tQqOGfNT",
        "outputId": "00e1a845-aa75-4fe8-d08e-4edc4009c008"
      },
      "outputs": [
        {
          "output_type": "display_data",
          "data": {
            "text/plain": [
              "<Figure size 432x288 with 1 Axes>"
            ],
            "image/png": "[encoded data removed]"
          },
          "metadata": {
            "needs_background": "light"
          }
        }
      ],
      "source": [
        "user_behavior[user_behavior['tariff'] =='smart']['messages'].plot(kind='hist', bins=35, color='orange', alpha=0.6)\n",
        "user_behavior[user_behavior['tariff'] =='ultra']['messages'].plot(kind='hist', bins=35, color='darkblue', alpha=0.6)\n",
        "plt.title('Израсходованные в месяц сообщения по тарифам')\n",
        "plt.legend(['Smart', 'Ultra'])\n",
        "plt.xlabel('Количество сообщений в месяц')\n",
        "plt.ylabel('Количество наблюдений')\n",
        "plt.show();"
      ]
    },
    {
      "cell_type": "markdown",
      "metadata": {
        "id": "rf9e6Q4GGfNT"
      },
      "source": [
        "В среднем количество сообщений пользователи тарифа Ultra отправляют больше - почти на 20 сообщений больше, чем пользователи тарифа Smart.  \n",
        "Количество сообщений в течение года на обоих тарифах растет.  \n",
        "Динамика по отправке сообщений схожа с тенденциями по длительности разговоров: в феврале отмечено наименьшее количество сообщений за год и пользователи тарифа Ultra также проявляют нелинейную положительную динамику."
      ]
    },
    {
      "cell_type": "markdown",
      "source": [],
      "metadata": {
        "id": "-l4N1kHP_U2D"
      }
    },
    {
      "cell_type": "markdown",
      "source": [
        "### Анализ интернет-трафика"
      ],
      "metadata": {
        "id": "4Y3jLDj9_U_V"
      }
    },
    {
      "cell_type": "markdown",
      "source": [
        "Распределение интернет-трафика по тарифам и месяцам"
      ],
      "metadata": {
        "id": "Q-5tcLyY_Z0Q"
      }
    },
    {
      "cell_type": "code",
      "execution_count": 75,
      "metadata": {
        "deletable": false,
        "colab": {
          "base_uri": "https://localhost:8080/",
          "height": 295
        },
        "id": "8ezHJP-vGfNU",
        "outputId": "85ac4815-77d7-49e0-f6a4-9c86ff90ecb9"
      },
      "outputs": [
        {
          "output_type": "display_data",
          "data": {
            "text/plain": [
              "<Figure size 432x288 with 1 Axes>"
            ],
            "image/png": "[encoded data removed]"
          },
          "metadata": {
            "needs_background": "light"
          }
        }
      ],
      "source": [
        "ax = sns.barplot(x='month',\n",
        "            y='sessions_mean',\n",
        "            hue=\"tariff\",\n",
        "            data=stats_df,\n",
        "            palette=['lightblue', 'dodgerblue']\n",
        ")\n",
        "\n",
        "ax.set_title('Распределение количества потраченного трафика (Мб) по видам тарифов и месяцам')\n",
        "ax.set(xlabel='Номер месяца', ylabel='Среднее количество мегабайт');"
      ]
    },
    {
      "cell_type": "markdown",
      "metadata": {
        "deletable": false,
        "editable": false,
        "id": "grkUR1NnGfNU"
      },
      "source": [
        "Сравнение потраченных мегабайт среди пользователей тарифов Smart и Ultra"
      ]
    },
    {
      "cell_type": "code",
      "execution_count": 87,
      "metadata": {
        "deletable": false,
        "colab": {
          "base_uri": "https://localhost:8080/",
          "height": 313
        },
        "id": "UdRGlZcdGfNU",
        "outputId": "154b9050-cc4b-49dd-8c38-1de24d7ac8bf"
      },
      "outputs": [
        {
          "output_type": "display_data",
          "data": {
            "text/plain": [
              "<Figure size 432x288 with 1 Axes>"
            ],
            "image/png": "[encoded data removed]"
          },
          "metadata": {
            "needs_background": "light"
          }
        },
        {
          "output_type": "execute_result",
          "data": {
            "text/plain": [
              "''"
            ],
            "application/vnd.google.colaboratory.intrinsic+json": {
              "type": "string"
            }
          },
          "metadata": {},
          "execution_count": 87
        }
      ],
      "source": [
        "\n",
        "user_behavior[user_behavior['tariff'] =='smart']['mb_used'].plot(kind='hist', bins=35, color='orange', alpha=0.6)\n",
        "user_behavior[user_behavior['tariff'] =='ultra']['mb_used'].plot(kind='hist', bins=35, color='darkblue', alpha=0.6)\n",
        "plt.title('Израсходованные в месяц мегабайты по тарифам')\n",
        "plt.legend(['Smart', 'Ultra'])\n",
        "plt.xlabel('Количество мегабайт в месяц')\n",
        "plt.ylabel('Количество наблюдений')\n",
        "plt.show()\n",
        ";"
      ]
    },
    {
      "cell_type": "markdown",
      "metadata": {
        "deletable": false,
        "editable": false,
        "id": "FC66UML8GfNU"
      },
      "source": [
        "Меньше всего пользователи использовали интернет в январе, феврале и апреле.  \n",
        "Чаще всего абоненты тарифа Smart тратят 15-17 Гб, а абоненты тарифного плана Ultra - 19-21 ГБ."
      ]
    },
    {
      "cell_type": "markdown",
      "source": [
        "### Анализ выручки на пользователя"
      ],
      "metadata": {
        "id": "Ip6g5eYiWv7e"
      }
    },
    {
      "cell_type": "markdown",
      "source": [
        "Посмотрим как распределяется средняя выручка на пользователя по тарифам за год  \n",
        "Сгруппируем сумму за год и разделим на количество абонентов"
      ],
      "metadata": {
        "id": "M7btiOWoEgTw"
      }
    },
    {
      "cell_type": "code",
      "source": [
        "# абонентская плата по тарифам за год\n",
        "monthly_fee_month = user_behavior.groupby('tariff', as_index = False).agg({'rub_monthly_fee':'sum'})\n",
        "monthly_fee_month['tag'] = 'monthly_fee'\n",
        "\n",
        "# общая выручка по тарифам за год\n",
        "total_cost_per_month = user_behavior.groupby('tariff', as_index = False).agg({'total_cost':'sum'})\n",
        "total_cost_per_month['tag'] = 'total'\n",
        "\n",
        "total_cost_per_month.columns = monthly_fee_month.columns\n",
        "\n",
        "# объединим таблицы одна под другой\n",
        "revenue=pd.concat([total_cost_per_month, monthly_fee_month], ignore_index=True)\n",
        "revenue.rename(columns={'rub_monthly_fee':'revenue'}, inplace=True)\n",
        "\n",
        "# посчитаем пользователей\n",
        "count_user = user_behavior.groupby('tariff', as_index=False).agg(count=('user_id', 'nunique'))\n",
        "\n",
        "# добавим количество пользователей в таблицу с выручкой\n",
        "revenue = revenue.merge(count_user, how='left', on='tariff')\n",
        "\n",
        "# посчитаем среднюю выручку на абонента за год\n",
        "revenue['revenue_per_user'] = revenue['revenue']/revenue['count']\n",
        "\n",
        "display(revenue)\n",
        "          "
      ],
      "metadata": {
        "colab": {
          "base_uri": "https://localhost:8080/",
          "height": 175
        },
        "id": "f_cAiAQ-A7CR",
        "outputId": "e4658815-ebc7-47a7-f862-a64b472d4c02"
      },
      "execution_count": 89,
      "outputs": [
        {
          "output_type": "display_data",
          "data": {
            "text/plain": [
              "  tariff    revenue          tag  count  revenue_per_user\n",
              "0  smart  2875351.0        total    350       8215.288571\n",
              "1  ultra  2039100.0        total    148      13777.702703\n",
              "2  smart  1225950.0  monthly_fee    350       3502.714286\n",
              "3  ultra  1920750.0  monthly_fee    148      12978.040541"
            ],
            "text/html": [
              "\n",
              "  <div id=\"df-6766a4e4-144f-45a5-bb5a-e344e6ef3106\">\n",
              "    <div class=\"colab-df-container\">\n",
              "      <div>\n",
              "<style scoped>\n",
              "    .dataframe tbody tr th:only-of-type {\n",
              "        vertical-align: middle;\n",
              "    }\n",
              "\n",
              "    .dataframe tbody tr th {\n",
              "        vertical-align: top;\n",
              "    }\n",
              "\n",
              "    .dataframe thead th {\n",
              "        text-align: right;\n",
              "    }\n",
              "</style>\n",
              "<table border=\"1\" class=\"dataframe\">\n",
              "  <thead>\n",
              "    <tr style=\"text-align: right;\">\n",
              "      <th></th>\n",
              "      <th>tariff</th>\n",
              "      <th>revenue</th>\n",
              "      <th>tag</th>\n",
              "      <th>count</th>\n",
              "      <th>revenue_per_user</th>\n",
              "    </tr>\n",
              "  </thead>\n",
              "  <tbody>\n",
              "    <tr>\n",
              "      <th>0</th>\n",
              "      <td>smart</td>\n",
              "      <td>2875351.0</td>\n",
              "      <td>total</td>\n",
              "      <td>350</td>\n",
              "      <td>8215.288571</td>\n",
              "    </tr>\n",
              "    <tr>\n",
              "      <th>1</th>\n",
              "      <td>ultra</td>\n",
              "      <td>2039100.0</td>\n",
              "      <td>total</td>\n",
              "      <td>148</td>\n",
              "      <td>13777.702703</td>\n",
              "    </tr>\n",
              "    <tr>\n",
              "      <th>2</th>\n",
              "      <td>smart</td>\n",
              "      <td>1225950.0</td>\n",
              "      <td>monthly_fee</td>\n",
              "      <td>350</td>\n",
              "      <td>3502.714286</td>\n",
              "    </tr>\n",
              "    <tr>\n",
              "      <th>3</th>\n",
              "      <td>ultra</td>\n",
              "      <td>1920750.0</td>\n",
              "      <td>monthly_fee</td>\n",
              "      <td>148</td>\n",
              "      <td>12978.040541</td>\n",
              "    </tr>\n",
              "  </tbody>\n",
              "</table>\n",
              "</div>\n",
              "      <button class=\"colab-df-convert\" onclick=\"convertToInteractive('df-6766a4e4-144f-45a5-bb5a-e344e6ef3106')\"\n",
              "              title=\"Convert this dataframe to an interactive table.\"\n",
              "              style=\"display:none;\">\n",
              "        \n",
              "  <svg xmlns=\"http://www.w3.org/2000/svg\" height=\"24px\"viewBox=\"0 0 24 24\"\n",
              "       width=\"24px\">\n",
              "    <path d=\"M0 0h24v24H0V0z\" fill=\"none\"/>\n",
              "    <path d=\"M18.56 5.44l.94 2.06.94-2.06 2.06-.94-2.06-.94-.94-2.06-.94 2.06-2.06.94zm-11 1L8.5 8.5l.94-2.06 2.06-.94-2.06-.94L8.5 2.5l-.94 2.06-2.06.94zm10 10l.94 2.06.94-2.06 2.06-.94-2.06-.94-.94-2.06-.94 2.06-2.06.94z\"/><path d=\"M17.41 7.96l-1.37-1.37c-.4-.4-.92-.59-1.43-.59-.52 0-1.04.2-1.43.59L10.3 9.45l-7.72 7.72c-.78.78-.78 2.05 0 2.83L4 21.41c.39.39.9.59 1.41.59.51 0 1.02-.2 1.41-.59l7.78-7.78 2.81-2.81c.8-.78.8-2.07 0-2.86zM5.41 20L4 18.59l7.72-7.72 1.47 1.35L5.41 20z\"/>\n",
              "  </svg>\n",
              "      </button>\n",
              "      \n",
              "  <style>\n",
              "    .colab-df-container {\n",
              "      display:flex;\n",
              "      flex-wrap:wrap;\n",
              "      gap: 12px;\n",
              "    }\n",
              "\n",
              "    .colab-df-convert {\n",
              "      background-color: #E8F0FE;\n",
              "      border: none;\n",
              "      border-radius: 50%;\n",
              "      cursor: pointer;\n",
              "      display: none;\n",
              "      fill: #1967D2;\n",
              "      height: 32px;\n",
              "      padding: 0 0 0 0;\n",
              "      width: 32px;\n",
              "    }\n",
              "\n",
              "    .colab-df-convert:hover {\n",
              "      background-color: #E2EBFA;\n",
              "      box-shadow: 0px 1px 2px rgba(60, 64, 67, 0.3), 0px 1px 3px 1px rgba(60, 64, 67, 0.15);\n",
              "      fill: #174EA6;\n",
              "    }\n",
              "\n",
              "    [theme=dark] .colab-df-convert {\n",
              "      background-color: #3B4455;\n",
              "      fill: #D2E3FC;\n",
              "    }\n",
              "\n",
              "    [theme=dark] .colab-df-convert:hover {\n",
              "      background-color: #434B5C;\n",
              "      box-shadow: 0px 1px 3px 1px rgba(0, 0, 0, 0.15);\n",
              "      filter: drop-shadow(0px 1px 2px rgba(0, 0, 0, 0.3));\n",
              "      fill: #FFFFFF;\n",
              "    }\n",
              "  </style>\n",
              "\n",
              "      <script>\n",
              "        const buttonEl =\n",
              "          document.querySelector('#df-6766a4e4-144f-45a5-bb5a-e344e6ef3106 button.colab-df-convert');\n",
              "        buttonEl.style.display =\n",
              "          google.colab.kernel.accessAllowed ? 'block' : 'none';\n",
              "\n",
              "        async function convertToInteractive(key) {\n",
              "          const element = document.querySelector('#df-6766a4e4-144f-45a5-bb5a-e344e6ef3106');\n",
              "          const dataTable =\n",
              "            await google.colab.kernel.invokeFunction('convertToInteractive',\n",
              "                                                     [key], {});\n",
              "          if (!dataTable) return;\n",
              "\n",
              "          const docLinkHtml = 'Like what you see? Visit the ' +\n",
              "            '<a target=\"_blank\" href=https://colab.research.google.com/notebooks/data_table.ipynb>data table notebook</a>'\n",
              "            + ' to learn more about interactive tables.';\n",
              "          element.innerHTML = '';\n",
              "          dataTable['output_type'] = 'display_data';\n",
              "          await google.colab.output.renderOutput(dataTable, element);\n",
              "          const docLink = document.createElement('div');\n",
              "          docLink.innerHTML = docLinkHtml;\n",
              "          element.appendChild(docLink);\n",
              "        }\n",
              "      </script>\n",
              "    </div>\n",
              "  </div>\n",
              "  "
            ]
          },
          "metadata": {}
        }
      ]
    },
    {
      "cell_type": "markdown",
      "source": [
        "Общая выручка за год `revenue` больше у тарифа «Смарт», тк большее число абонентов, но  выручка на пользователя `revenue_per_user` больше у тарифа «Ультра»  \n",
        "\n",
        "Визуализируем  выручку на абонента - общую и за счет абонентской платы :"
      ],
      "metadata": {
        "id": "ZZfWb6e5SikN"
      }
    },
    {
      "cell_type": "code",
      "source": [
        "ax = sns.barplot(x='tag', y='revenue_per_user', hue=\"tariff\", data=revenue, palette=['lightblue', 'dodgerblue'])\n",
        "\n",
        "ax.set_title('Общая выручка и абонентская плата на пользователя за год по видам тарифов')\n",
        "ax.set(xlabel='Выручка общая / за счет абонентской платы ', ylabel='Выручка за год');"
      ],
      "metadata": {
        "colab": {
          "base_uri": "https://localhost:8080/",
          "height": 296
        },
        "id": "Nl6h1cO7LQL7",
        "outputId": "507fe724-640e-4df9-d981-992a74f4d982"
      },
      "execution_count": 92,
      "outputs": [
        {
          "output_type": "display_data",
          "data": {
            "text/plain": [
              "<Figure size 432x288 with 1 Axes>"
            ],
            "image/png": "[encoded data removed]"
          },
          "metadata": {
            "needs_background": "light"
          }
        }
      ]
    },
    {
      "cell_type": "markdown",
      "source": [
        "Видим, что выручка на пользователя больше у тарифа «Ультра» и это складывается почти полностью за счет абонентской платы. Дополнительные платные услуги на тарифе «Смарт» позволили сократить разрыв, но все равно общая выручка осталась меньше  \n",
        "Рассчитаем далее насколько разница статистически значима"
      ],
      "metadata": {
        "id": "xNTDRvocTiL1"
      }
    },
    {
      "cell_type": "markdown",
      "metadata": {
        "deletable": false,
        "editable": false,
        "id": "YCzIfHYRGfNU"
      },
      "source": [
        "## Проверка гипотез"
      ]
    },
    {
      "cell_type": "markdown",
      "metadata": {
        "deletable": false,
        "editable": false,
        "tags": [
          "start_task"
        ],
        "id": "7d2II5vnGfNU"
      },
      "source": [
        "Проверка гипотезы: **средняя выручка пользователей тарифов «Ультра» и «Смарт» различаются**\n",
        "\n",
        "```\n",
        "H_0: Выручка (total_cost) пользователей \"Ультра\" = выручка (total_cost) пользователей \"Смарт\"`\n",
        "H_a: Выручка (total_cost) пользователей \"Ультра\" ≠ выручка (total_cost) пользователей \"Смарт\"`\n",
        "alpha = 0.05\n",
        "```"
      ]
    },
    {
      "cell_type": "code",
      "execution_count": null,
      "metadata": {
        "deletable": false,
        "colab": {
          "base_uri": "https://localhost:8080/"
        },
        "id": "eTXLbaSTGfNV",
        "outputId": "eb974b6e-1f94-4424-e55d-0ead953d3c6b"
      },
      "outputs": [
        {
          "output_type": "stream",
          "name": "stdout",
          "text": [
            "-0.37687022325030617\n",
            "4.2606313931076085e-250\n",
            "Отвергаем нулевую гипотезу, обнаружены статистически значимые различия в средней выручке пользователей тарифов «Ультра» и «Смарт»\n"
          ]
        }
      ],
      "source": [
        "# results = вызов метода для проверки гипотезы\n",
        "results = st.ttest_ind(\n",
        "    user_behavior[user_behavior['tariff'] =='smart']['total_cost'], \n",
        "    user_behavior[user_behavior['tariff'] =='ultra']['total_cost'],\n",
        "    equal_var = False)\n",
        "\n",
        "alpha = 0.05 #задайте значение уровня значимости\n",
        "\n",
        "print(user_behavior[user_behavior['tariff'] =='smart']['total_cost'].mean()/user_behavior[user_behavior['tariff'] =='ultra']['total_cost'].mean()-1)\n",
        "\n",
        "# вывод значения p-value на экран \n",
        "print(results.pvalue)\n",
        "# условный оператор с выводом строки с ответом\n",
        "\n",
        "if results.pvalue < alpha:\n",
        "    print(\"Отвергаем нулевую гипотезу, обнаружены статистически значимые различия в средней выручке пользователей тарифов «Ультра» и «Смарт»\")\n",
        "else:\n",
        "    print(\"Не получилось отвергнуть нулевую гипотезу, статистически значимых различий в средней выручке пользователей тарифов «Ультра» и «Смарт» не обнаружено\") "
      ]
    },
    {
      "cell_type": "markdown",
      "source": [
        "Посмотрим как различаются средние выручки между тарифами"
      ],
      "metadata": {
        "id": "gUpkYhHFs-Rq"
      }
    },
    {
      "cell_type": "code",
      "source": [
        "user_behavior[user_behavior['tariff'] =='ultra']['total_cost'].mean()/user_behavior[user_behavior['tariff'] =='smart']['total_cost'].mean()-1"
      ],
      "metadata": {
        "colab": {
          "base_uri": "https://localhost:8080/"
        },
        "id": "B0tyiMKytGU9",
        "outputId": "6b4d74d6-762d-4a68-f238-43cfbbfb7646"
      },
      "execution_count": null,
      "outputs": [
        {
          "output_type": "execute_result",
          "data": {
            "text/plain": [
              "0.6048021412427091"
            ]
          },
          "metadata": {},
          "execution_count": 185
        }
      ]
    },
    {
      "cell_type": "markdown",
      "source": [
        "Средняя выручка на пользователя тарифа «Ультра» больше на 67.7% выручки тарифа «Смарт»  \n",
        "В первую очередь, это связано с тем, что абонентская плата тарифа «Ультра» гораздо выше (1950 против 550)"
      ],
      "metadata": {
        "id": "nVRpl6pgtMMZ"
      }
    },
    {
      "cell_type": "markdown",
      "metadata": {
        "deletable": false,
        "editable": false,
        "tags": [
          "start_task"
        ],
        "id": "kEni47rNGfNV"
      },
      "source": [
        "Проверка гипотезы: **пользователи из Москвы приносят больше выручки, чем пользователи из других городов**\n",
        "\n",
        "```\n",
        "H_0: Выручка (total_cost) пользователей из Москвы = выручка (total_cost) пользователей не из Москвы`\n",
        "H_1: Выручка (total_cost) пользователей из Москвы ≠ выручка (total_cost) пользователей не из Москвы`\n",
        "alpha = 0.05\n",
        "```"
      ]
    },
    {
      "cell_type": "code",
      "execution_count": null,
      "metadata": {
        "deletable": false,
        "colab": {
          "base_uri": "https://localhost:8080/"
        },
        "id": "wHKbI6bzGfNV",
        "outputId": "e01a4a5f-8c38-4546-cf52-3146e0ab8297"
      },
      "outputs": [
        {
          "output_type": "stream",
          "name": "stdout",
          "text": [
            "0.5440152911670224\n",
            "Не получилось отвергнуть нулевую гипотезу, статистически значимых различий в средней выручке между пользователями Москвы и других регионов не обнаружено\n"
          ]
        }
      ],
      "source": [
        "# results = вызов метода для проверки гипотезы\n",
        "results = st.ttest_ind(\n",
        "    user_behavior[user_behavior['city'] =='Москва']['total_cost'], \n",
        "    user_behavior[user_behavior['city'] !='Москва']['total_cost'],\n",
        "    )\n",
        "\n",
        "alpha = 0.05 #задайте значение уровня значимости\n",
        "\n",
        "# вывод значения p-value на экран \n",
        "print(results.pvalue)\n",
        "# условный оператор с выводом строки с ответом\n",
        "if results.pvalue < alpha:\n",
        "    print(\"Отвергаем нулевую гипотезу, обнаружены статистически значимые различия в средней выручке между пользователями Москвы и других регионов\")\n",
        "else:\n",
        "    print(\"Не получилось отвергнуть нулевую гипотезу, статистически значимых различий в средней выручке между пользователями Москвы и других регионов не обнаружено\") "
      ]
    },
    {
      "cell_type": "markdown",
      "source": [
        "## Вывод\n",
        "\n",
        "Мы проанализировали поведение 500 пользователей двух тарифных планов мобильного оператора «Мегалайн»:\n",
        "\n",
        " * Абонентов тарифа «Смарт» в 2 раза больше, чем у абонентов тарифа «Ультра»\n",
        " * Количество средняя длительность разговоров у абонентов тарифа «Ультра» больше, чем у абонентов тарифа «Смарт».  \n",
        " * В течение года пользователи обоих тарифов увеличивают среднюю продолжительность своих разговоров. \n",
        " * В среднем количество сообщений пользователи тарифа «Ультра» отправляют больше - почти на 20 сообщений больше, чем пользователи тарифа «Смарт».  \n",
        " * Количество сообщений в течение года на обоих тарифах растет.  \n",
        " * В феврале отмечена минимальная продолжительность звонков и  наименьшее количество звонков и сообщений за год.\n",
        " * Интернет трафик также растет в течении года, минимальный объем в январе-феврале \n",
        " * Средняя общая выручка на пользователя тарифа «Ультра» больше на 60.5% выручки тарифа «Смарт», разница статистически значимая  \n",
        " Это связано с тем, что абонентская плата тарифа «Ультра» выше (1950 против 550), а дополнительно оплачиваемые услуги тарифа «Смарт» не позволяют достичь уровня выручки тарифа «Ультра»\n",
        "\n",
        " * Не обнаружено статистически значимых различий в средней выручке между пользователями Москвы и других регионов\n",
        "\n"
      ],
      "metadata": {
        "id": "EHkZrnD_v9Dz"
      }
    }
  ],
  "metadata": {
    "ExecuteTimeLog": [
      {
        "duration": 364,
        "start_time": "2022-10-09T19:12:20.971Z"
      },
      {
        "duration": 60,
        "start_time": "2022-10-09T19:12:23.001Z"
      },
      {
        "duration": 934,
        "start_time": "2022-10-09T19:12:30.615Z"
      },
      {
        "duration": 14,
        "start_time": "2022-10-09T19:12:38.596Z"
      },
      {
        "duration": 10,
        "start_time": "2022-10-09T19:12:49.905Z"
      },
      {
        "duration": 569,
        "start_time": "2022-10-09T19:13:26.808Z"
      },
      {
        "duration": 150,
        "start_time": "2022-10-09T19:13:34.303Z"
      },
      {
        "duration": 48,
        "start_time": "2022-10-09T19:14:02.610Z"
      },
      {
        "duration": 735,
        "start_time": "2022-10-09T19:14:06.059Z"
      },
      {
        "duration": 9,
        "start_time": "2022-10-09T19:14:17.131Z"
      },
      {
        "duration": 10,
        "start_time": "2022-10-09T19:14:24.396Z"
      },
      {
        "duration": 207,
        "start_time": "2022-10-09T19:14:46.092Z"
      },
      {
        "duration": 7,
        "start_time": "2022-10-09T19:17:38.099Z"
      },
      {
        "duration": 26,
        "start_time": "2022-10-09T19:17:59.078Z"
      },
      {
        "duration": 176,
        "start_time": "2022-10-09T19:20:26.260Z"
      },
      {
        "duration": 25,
        "start_time": "2022-10-09T19:20:57.719Z"
      },
      {
        "duration": 138,
        "start_time": "2022-10-09T19:21:23.987Z"
      },
      {
        "duration": 140,
        "start_time": "2022-10-09T19:21:52.309Z"
      },
      {
        "duration": 7,
        "start_time": "2022-10-09T19:22:56.418Z"
      },
      {
        "duration": 16,
        "start_time": "2022-10-09T19:22:57.413Z"
      },
      {
        "duration": 61,
        "start_time": "2022-10-09T19:22:58.700Z"
      },
      {
        "duration": 8,
        "start_time": "2022-10-09T19:23:00.589Z"
      },
      {
        "duration": 6,
        "start_time": "2022-10-09T19:23:04.507Z"
      },
      {
        "duration": 5,
        "start_time": "2022-10-09T19:23:58.288Z"
      },
      {
        "duration": 15,
        "start_time": "2022-10-09T19:24:23.765Z"
      },
      {
        "duration": 9,
        "start_time": "2022-10-09T19:25:15.108Z"
      },
      {
        "duration": 109,
        "start_time": "2022-10-09T19:25:19.322Z"
      },
      {
        "duration": 10,
        "start_time": "2022-10-09T19:25:20.375Z"
      },
      {
        "duration": 10,
        "start_time": "2022-10-09T19:25:22.130Z"
      },
      {
        "duration": 12,
        "start_time": "2022-10-09T19:28:48.488Z"
      },
      {
        "duration": 9,
        "start_time": "2022-10-09T19:28:58.619Z"
      },
      {
        "duration": 80,
        "start_time": "2022-10-09T19:30:57.752Z"
      },
      {
        "duration": 59,
        "start_time": "2022-10-09T19:31:48.770Z"
      },
      {
        "duration": 111,
        "start_time": "2022-10-09T19:34:31.035Z"
      },
      {
        "duration": 7,
        "start_time": "2022-10-09T19:36:51.681Z"
      },
      {
        "duration": 10,
        "start_time": "2022-10-09T19:37:01.930Z"
      },
      {
        "duration": 12,
        "start_time": "2022-10-09T19:37:13.746Z"
      },
      {
        "duration": 7,
        "start_time": "2022-10-09T19:37:41.365Z"
      },
      {
        "duration": 10,
        "start_time": "2022-10-09T19:39:28.445Z"
      },
      {
        "duration": 3188,
        "start_time": "2022-10-09T19:40:32.324Z"
      },
      {
        "duration": 23,
        "start_time": "2022-10-09T19:40:51.783Z"
      },
      {
        "duration": 7,
        "start_time": "2022-10-09T19:42:04.174Z"
      },
      {
        "duration": 18,
        "start_time": "2022-10-09T19:42:16.174Z"
      },
      {
        "duration": 9,
        "start_time": "2022-10-09T19:47:59.190Z"
      },
      {
        "duration": 10,
        "start_time": "2022-10-09T19:54:43.528Z"
      },
      {
        "duration": 25,
        "start_time": "2022-10-09T19:55:15.533Z"
      },
      {
        "duration": 8,
        "start_time": "2022-10-09T19:55:29.430Z"
      },
      {
        "duration": 23,
        "start_time": "2022-10-09T19:57:51.789Z"
      },
      {
        "duration": 7,
        "start_time": "2022-10-09T19:58:03.352Z"
      },
      {
        "duration": 15,
        "start_time": "2022-10-09T20:01:36.510Z"
      },
      {
        "duration": 10,
        "start_time": "2022-10-09T20:02:50.731Z"
      },
      {
        "duration": 2,
        "start_time": "2022-10-09T20:02:51.887Z"
      },
      {
        "duration": 11,
        "start_time": "2022-10-09T20:03:58.126Z"
      },
      {
        "duration": 9,
        "start_time": "2022-10-09T20:04:05.071Z"
      },
      {
        "duration": 10,
        "start_time": "2022-10-09T20:04:28.425Z"
      },
      {
        "duration": 14,
        "start_time": "2022-10-09T20:04:42.931Z"
      },
      {
        "duration": 18,
        "start_time": "2022-10-09T20:05:24.679Z"
      },
      {
        "duration": 7,
        "start_time": "2022-10-09T20:05:43.420Z"
      },
      {
        "duration": 15,
        "start_time": "2022-10-09T20:10:31.261Z"
      },
      {
        "duration": 9,
        "start_time": "2022-10-09T20:10:45.050Z"
      },
      {
        "duration": 4,
        "start_time": "2022-10-09T20:11:25.944Z"
      },
      {
        "duration": 9,
        "start_time": "2022-10-09T20:13:53.059Z"
      },
      {
        "duration": 4,
        "start_time": "2022-10-09T20:13:57.376Z"
      },
      {
        "duration": 35,
        "start_time": "2022-10-09T20:13:59.517Z"
      },
      {
        "duration": 7,
        "start_time": "2022-10-09T20:14:07.961Z"
      },
      {
        "duration": 5,
        "start_time": "2022-10-09T20:14:56.658Z"
      },
      {
        "duration": 3,
        "start_time": "2022-10-09T20:14:57.082Z"
      },
      {
        "duration": 7,
        "start_time": "2022-10-09T20:14:57.530Z"
      },
      {
        "duration": 9,
        "start_time": "2022-10-09T20:17:55.924Z"
      },
      {
        "duration": 4,
        "start_time": "2022-10-09T20:17:56.296Z"
      },
      {
        "duration": 6,
        "start_time": "2022-10-09T20:17:56.637Z"
      },
      {
        "duration": 5,
        "start_time": "2022-10-09T20:17:56.951Z"
      },
      {
        "duration": 50,
        "start_time": "2022-10-09T20:17:57.305Z"
      },
      {
        "duration": 760,
        "start_time": "2022-10-09T20:23:37.229Z"
      },
      {
        "duration": 226,
        "start_time": "2022-10-09T20:23:37.991Z"
      },
      {
        "duration": 49,
        "start_time": "2022-10-09T20:25:48.450Z"
      },
      {
        "duration": 49,
        "start_time": "2022-10-09T20:25:53.939Z"
      },
      {
        "duration": 47,
        "start_time": "2022-10-09T20:26:12.137Z"
      },
      {
        "duration": 275,
        "start_time": "2022-10-09T20:33:57.935Z"
      },
      {
        "duration": 228,
        "start_time": "2022-10-09T20:33:58.212Z"
      },
      {
        "duration": 271,
        "start_time": "2022-10-09T20:33:58.553Z"
      },
      {
        "duration": 302,
        "start_time": "2022-10-09T20:33:58.825Z"
      },
      {
        "duration": 259,
        "start_time": "2022-10-09T20:34:00.595Z"
      },
      {
        "duration": 201,
        "start_time": "2022-10-09T20:34:01.499Z"
      },
      {
        "duration": 278,
        "start_time": "2022-10-09T20:34:03.662Z"
      },
      {
        "duration": 199,
        "start_time": "2022-10-09T20:34:05.326Z"
      },
      {
        "duration": 34,
        "start_time": "2022-10-09T20:43:44.227Z"
      },
      {
        "duration": 2,
        "start_time": "2022-10-09T20:43:53.150Z"
      },
      {
        "duration": 6,
        "start_time": "2022-10-09T20:43:53.806Z"
      },
      {
        "duration": 5,
        "start_time": "2022-10-09T20:47:34.251Z"
      },
      {
        "duration": 5,
        "start_time": "2022-10-09T20:47:59.637Z"
      },
      {
        "duration": 7,
        "start_time": "2022-10-09T20:48:23.013Z"
      },
      {
        "duration": 9,
        "start_time": "2022-10-09T20:48:28.600Z"
      },
      {
        "duration": 8,
        "start_time": "2022-10-09T20:50:03.426Z"
      },
      {
        "duration": 7,
        "start_time": "2022-10-09T20:54:06.323Z"
      },
      {
        "duration": 417,
        "start_time": "2023-01-09T19:43:27.207Z"
      },
      {
        "duration": 241,
        "start_time": "2023-01-09T19:43:27.626Z"
      },
      {
        "duration": 17,
        "start_time": "2023-01-09T19:43:27.869Z"
      },
      {
        "duration": 26,
        "start_time": "2023-01-09T19:43:27.889Z"
      },
      {
        "duration": 590,
        "start_time": "2023-01-09T19:43:27.917Z"
      },
      {
        "duration": 219,
        "start_time": "2023-01-09T19:43:28.510Z"
      },
      {
        "duration": 11,
        "start_time": "2023-01-09T19:43:28.730Z"
      },
      {
        "duration": 25,
        "start_time": "2023-01-09T19:43:28.743Z"
      },
      {
        "duration": 166,
        "start_time": "2023-01-09T19:43:28.770Z"
      },
      {
        "duration": 668,
        "start_time": "2023-01-09T19:43:28.939Z"
      },
      {
        "duration": 9,
        "start_time": "2023-01-09T19:43:29.609Z"
      },
      {
        "duration": 27,
        "start_time": "2023-01-09T19:43:29.620Z"
      },
      {
        "duration": 73,
        "start_time": "2023-01-09T19:43:29.649Z"
      },
      {
        "duration": 7,
        "start_time": "2023-01-09T19:43:29.723Z"
      },
      {
        "duration": 12,
        "start_time": "2023-01-09T19:43:29.732Z"
      },
      {
        "duration": 63,
        "start_time": "2023-01-09T19:43:29.746Z"
      },
      {
        "duration": 11,
        "start_time": "2023-01-09T19:43:29.811Z"
      },
      {
        "duration": 19,
        "start_time": "2023-01-09T19:43:29.823Z"
      },
      {
        "duration": 85,
        "start_time": "2023-01-09T19:43:29.844Z"
      },
      {
        "duration": 7,
        "start_time": "2023-01-09T19:43:29.930Z"
      },
      {
        "duration": 10,
        "start_time": "2023-01-09T19:43:29.938Z"
      },
      {
        "duration": 25,
        "start_time": "2023-01-09T19:43:29.955Z"
      },
      {
        "duration": 15,
        "start_time": "2023-01-09T19:43:29.982Z"
      },
      {
        "duration": 20,
        "start_time": "2023-01-09T19:43:29.999Z"
      },
      {
        "duration": 54,
        "start_time": "2023-01-09T19:43:30.022Z"
      },
      {
        "duration": 9,
        "start_time": "2023-01-09T19:43:30.079Z"
      },
      {
        "duration": 65,
        "start_time": "2023-01-09T19:43:30.090Z"
      },
      {
        "duration": 8,
        "start_time": "2023-01-09T19:43:30.159Z"
      },
      {
        "duration": 35,
        "start_time": "2023-01-09T19:43:30.169Z"
      },
      {
        "duration": 11,
        "start_time": "2023-01-09T19:43:30.205Z"
      },
      {
        "duration": 48,
        "start_time": "2023-01-09T19:43:30.218Z"
      },
      {
        "duration": 14,
        "start_time": "2023-01-09T19:43:30.268Z"
      },
      {
        "duration": 11,
        "start_time": "2023-01-09T19:43:30.285Z"
      },
      {
        "duration": 105,
        "start_time": "2023-01-09T19:43:30.298Z"
      },
      {
        "duration": 9,
        "start_time": "2023-01-09T19:43:30.405Z"
      },
      {
        "duration": 23,
        "start_time": "2023-01-09T19:43:30.416Z"
      },
      {
        "duration": 11,
        "start_time": "2023-01-09T19:43:30.442Z"
      },
      {
        "duration": 18,
        "start_time": "2023-01-09T19:43:30.455Z"
      },
      {
        "duration": 13,
        "start_time": "2023-01-09T19:43:30.475Z"
      },
      {
        "duration": 11,
        "start_time": "2023-01-09T19:43:30.490Z"
      },
      {
        "duration": 20,
        "start_time": "2023-01-09T19:43:30.503Z"
      },
      {
        "duration": 14,
        "start_time": "2023-01-09T19:43:30.524Z"
      },
      {
        "duration": 58,
        "start_time": "2023-01-09T19:43:30.540Z"
      },
      {
        "duration": 864,
        "start_time": "2023-01-09T19:43:30.599Z"
      },
      {
        "duration": 278,
        "start_time": "2023-01-09T19:43:31.466Z"
      },
      {
        "duration": 401,
        "start_time": "2023-01-09T19:43:31.747Z"
      },
      {
        "duration": 228,
        "start_time": "2023-01-09T19:43:32.155Z"
      },
      {
        "duration": 288,
        "start_time": "2023-01-09T19:43:32.385Z"
      },
      {
        "duration": 227,
        "start_time": "2023-01-09T19:43:32.675Z"
      },
      {
        "duration": 339,
        "start_time": "2023-01-09T19:43:32.904Z"
      },
      {
        "duration": 225,
        "start_time": "2023-01-09T19:43:33.244Z"
      },
      {
        "duration": 3,
        "start_time": "2023-01-09T19:43:33.471Z"
      },
      {
        "duration": 11,
        "start_time": "2023-01-09T19:43:33.475Z"
      },
      {
        "duration": 14,
        "start_time": "2023-01-09T19:43:33.488Z"
      }
    ],
    "kernelspec": {
      "display_name": "Python 3 (ipykernel)",
      "language": "python",
      "name": "python3"
    },
    "language_info": {
      "codemirror_mode": {
        "name": "ipython",
        "version": 3
      },
      "file_extension": ".py",
      "mimetype": "text/x-python",
      "name": "python",
      "nbconvert_exporter": "python",
      "pygments_lexer": "ipython3",
      "version": "3.9.5"
    },
    "toc": {
      "base_numbering": 1,
      "nav_menu": {},
      "number_sections": false,
      "sideBar": true,
      "skip_h1_title": true,
      "title_cell": "Table of Contents",
      "title_sidebar": "Contents",
      "toc_cell": true,
      "toc_position": {
        "height": "calc(100% - 180px)",
        "left": "10px",
        "top": "150px",
        "width": "298.667px"
      },
      "toc_section_display": true,
      "toc_window_display": true
    },
    "colab": {
      "provenance": []
    }
  },
  "nbformat": 4,
  "nbformat_minor": 0
}